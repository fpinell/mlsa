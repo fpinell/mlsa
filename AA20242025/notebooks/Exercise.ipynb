{
  "nbformat": 4,
  "nbformat_minor": 0,
  "metadata": {
    "colab": {
      "name": "Exercise.ipynb",
      "provenance": [],
      "authorship_tag": "ABX9TyNSWb60s1BasOTecREyb0mv",
      "include_colab_link": true
    },
    "kernelspec": {
      "name": "python3",
      "display_name": "Python 3"
    },
    "language_info": {
      "name": "python"
    }
  },
  "cells": [
    {
      "cell_type": "markdown",
      "metadata": {
        "id": "view-in-github",
        "colab_type": "text"
      },
      "source": [
        "<a href=\"https://colab.research.google.com/github/fpinell/mlsa/blob/main/notebooks/Exercise.ipynb\" target=\"_parent\"><img src=\"https://colab.research.google.com/assets/colab-badge.svg\" alt=\"Open In Colab\"/></a>"
      ]
    },
    {
      "cell_type": "markdown",
      "source": [
        "# Machine Learning for Software Analysis (MLSA)\n",
        "\n",
        "- ### University of Florence / IMT Lucca\n",
        "\n",
        "\n",
        "#### Fabio Pinelli\n",
        "<a href=\"mailto:fabio.pinelli@imtlucca.it\">fabio.pinelli@imtlucca.it</a><br/>\n",
        "IMT School for Advanced Studies Lucca<br/>\n",
        "2024/2025<br/>\n",
        "October, 17 2024"
      ],
      "metadata": {
        "id": "A9P-Bpl0bsNx"
      }
    },
    {
      "cell_type": "markdown",
      "source": [
        "# So far...\n",
        "\n",
        "... We saw an overview of different libraries and tools that can be used on Data Science projects:\n",
        " - Pandas\n",
        "  - data exploration\n",
        "  - data handling and modification\n",
        " - Matplotlib and seaborn\n",
        " - Scikit\n",
        "  + model\n",
        "    - unsupervised\n",
        "    - supervised\n",
        "  + pipeline\n",
        "  + metrics\n",
        "  \n"
      ],
      "metadata": {
        "id": "WZhxz8wqbyXi"
      }
    },
    {
      "cell_type": "markdown",
      "source": [
        "# Today...\n",
        "\n",
        "We will test/try what YOU have learned so far.\n",
        "\n",
        "- I'll provide you a dataset\n",
        "- You will try to provide a solution for the problem\n",
        "- If we are able, we will test your solutions, and we explore one."
      ],
      "metadata": {
        "id": "QvwAQxGAfOTl"
      }
    },
    {
      "cell_type": "markdown",
      "source": [
        "## The dataset\n",
        "\n",
        "The goal is to predict whether or not a passenger survived based on attributes such as their age, sex, passenger class, where they embarked and so on.\n",
        "\n",
        "You can find the dataset in the shared drive:\n",
        "[https://github.com/fpinell/mlsa/tree/main/data/titanic](https://github.com/fpinell/mlsa/tree/main/data/titanic)\n",
        "\n",
        "The dataset is already divided in training and test, the focus will be on the training.\n",
        "\n",
        "### Attributes\n",
        "\n",
        "- Survived: that's the target, 0 means the passenger did not survive, while 1 means he/she survived.\n",
        "- Pclass: passenger class.\n",
        "- Name, Sex, Age: self-explanatory\n",
        "- SibSp: how many siblings & spouses of the passenger aboard the Titanic.\n",
        "- Parch: how many children & parents of the passenger aboard the Titanic.\n",
        "- Ticket: ticket id\n",
        "- Fare: price paid (in pounds)\n",
        "- Cabin: passenger's cabin number\n",
        "- Embarked: where the passenger embarked the Titanic\n",
        "  + The Embarked attribute tells us where the passenger embarked:\n",
        "    * C=Cherbourg,\n",
        "    * Q=Queenstown,\n",
        "    * S=Southampton.\n",
        "\n",
        "### What you should do\n",
        "- You can work in team, with at most 2 members.\n",
        "- Read the dataset\n",
        "- Check the main \"peculiarieties\" of the columns\n",
        "- Build a ML pipeline (it's recommended to use the ```scikit Pipeline```)\n",
        "- Get the predictions\n",
        "- Save the predictions for the entire test set [your_team_name.csv]. You can put your name, it can be a fictious one.\n",
        "  - The format of the file:\n",
        "    - PassengerId, Prediction\n",
        "  - ``` python df_results[['PassengerId','Survived']].to_csv('/content/drive/fabio.csv',index=False) ```\n",
        "- Download the dataset and share it with me (if you want)\n",
        "\n",
        "- Then I can evaluate your results and keep updated your scores.\n",
        "\n",
        "\n",
        "### What I'll do\n",
        "  - Try to help you during the test\n",
        "  - Load your uploaded files and trying to evaluate your solution\n",
        "  - Explore a possible solution :-)  \n",
        "\n",
        "### Few tips\n",
        "\n",
        "- You are free to remove columns and rows\n",
        "- You are free to use any material available, don't copy existing solutions on internet, you need to test your skills\n",
        "- Small suggestion, don't use columns that might contain unique identifier for your model, e.g. PassengerId.\n",
        "- Be able to \"attach\" the PassengerID to your final predictions."
      ],
      "metadata": {
        "id": "6KT52H3xfrCJ"
      }
    },
    {
      "cell_type": "code",
      "source": [],
      "metadata": {
        "id": "mfIfGZ7vbwe1"
      },
      "execution_count": null,
      "outputs": []
    }
  ]
}
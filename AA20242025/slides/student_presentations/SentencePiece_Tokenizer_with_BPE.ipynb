{
  "nbformat": 4,
  "nbformat_minor": 0,
  "metadata": {
    "colab": {
      "provenance": [],
      "toc_visible": true,
      "include_colab_link": true
    },
    "kernelspec": {
      "name": "python3",
      "display_name": "Python 3"
    },
    "language_info": {
      "name": "python"
    }
  },
  "cells": [
    {
      "cell_type": "markdown",
      "metadata": {
        "id": "view-in-github",
        "colab_type": "text"
      },
      "source": [
        "<a href=\"https://colab.research.google.com/github/fpinell/mlsa/blob/main/slides/student_presentations/SentencePiece_Tokenizer_with_BPE.ipynb\" target=\"_parent\"><img src=\"https://colab.research.google.com/assets/colab-badge.svg\" alt=\"Open In Colab\"/></a>"
      ]
    },
    {
      "cell_type": "code",
      "execution_count": null,
      "metadata": {
        "colab": {
          "base_uri": "https://localhost:8080/"
        },
        "id": "rgmerRMaxUft",
        "outputId": "c28a67ce-d92a-4ae7-d5f6-655a8cba206a"
      },
      "outputs": [
        {
          "output_type": "stream",
          "name": "stdout",
          "text": [
            "Requirement already satisfied: sentencepiece in /usr/local/lib/python3.10/dist-packages (0.2.0)\n"
          ]
        }
      ],
      "source": [
        "pip install sentencepiece"
      ]
    },
    {
      "cell_type": "code",
      "source": [
        "import sentencepiece as spm\n",
        "\n",
        "# Train SentencePiece model: By train we mean to define the rules for our model that must be consiederd\n",
        "# for fture tokens when we test/validate model on unseen tokens\n",
        "spm.SentencePieceTrainer.train(\n",
        "    input='code_corpus.txt',\n",
        "    model_prefix='code_tokenizer',  # Prefix for the output file\n",
        "    vocab_size=45,  # Vocabulary size\n",
        "    model_type='bpe'  # Specify BPE model\n",
        ")\n"
      ],
      "metadata": {
        "id": "2uqIlCZvxY0O"
      },
      "execution_count": null,
      "outputs": []
    },
    {
      "cell_type": "code",
      "source": [
        "sp = spm.SentencePieceProcessor()\n",
        "sp.load('code_tokenizer.model')"
      ],
      "metadata": {
        "colab": {
          "base_uri": "https://localhost:8080/"
        },
        "id": "A2YC6tgZyDoh",
        "outputId": "c35fe297-ad8e-4511-b39a-59cb875f38a1"
      },
      "execution_count": null,
      "outputs": [
        {
          "output_type": "execute_result",
          "data": {
            "text/plain": [
              "True"
            ]
          },
          "metadata": {},
          "execution_count": 26
        }
      ]
    },
    {
      "cell_type": "code",
      "source": [
        "code = \"x = add(5,4)\"\n",
        "tokens = sp.encode_as_pieces(code)\n",
        "print(tokens)"
      ],
      "metadata": {
        "colab": {
          "base_uri": "https://localhost:8080/"
        },
        "id": "N8YOU4-OyKoe",
        "outputId": "2c29c9ae-0508-4b26-a184-ddf24754c34a"
      },
      "execution_count": null,
      "outputs": [
        {
          "output_type": "stream",
          "name": "stdout",
          "text": [
            "['▁', 'x', '▁', '=', '▁add', '(', '5', ',', '4', ')']\n"
          ]
        }
      ]
    },
    {
      "cell_type": "code",
      "source": [
        "decoded = sp.decode_pieces(tokens)\n",
        "print(decoded)"
      ],
      "metadata": {
        "colab": {
          "base_uri": "https://localhost:8080/"
        },
        "id": "KDJNMOlayMpF",
        "outputId": "c2e61f13-5e92-4d14-a060-0f1edaa7165e"
      },
      "execution_count": null,
      "outputs": [
        {
          "output_type": "stream",
          "name": "stdout",
          "text": [
            "print('Hello')\n"
          ]
        }
      ]
    },
    {
      "cell_type": "code",
      "source": [
        "for i in range(10):\n",
        "    print(sp.id_to_piece(i))  # Prints subtoken vocabulary\n"
      ],
      "metadata": {
        "colab": {
          "base_uri": "https://localhost:8080/"
        },
        "id": "4Y0ns3HPydkj",
        "outputId": "6c8b1df3-415c-44da-e7fb-c9ab0a257e13"
      },
      "execution_count": null,
      "outputs": [
        {
          "output_type": "stream",
          "name": "stdout",
          "text": [
            "<unk>\n",
            "<s>\n",
            "</s>\n",
            "▁a\n",
            "▁b\n",
            "):\n",
            "dd\n",
            "de\n",
            "et\n",
            "rn\n"
          ]
        }
      ]
    },
    {
      "cell_type": "code",
      "source": [],
      "metadata": {
        "id": "R_g6b7EWygbW"
      },
      "execution_count": null,
      "outputs": []
    }
  ]
}
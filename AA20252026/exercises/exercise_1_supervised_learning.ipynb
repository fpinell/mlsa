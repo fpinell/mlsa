{
 "cells": [
  {
   "cell_type": "markdown",
   "id": "257628be-14ff-4a46-af81-97086ccf9bb2",
   "metadata": {},
   "source": [
    "# Machine Learning for Software Analysis (MLSA)\n",
    "\n",
    "#### Fabio Pinelli\n",
    "<a href=\"mailto:fabio.pinelli@imtlucca.it\">fabio.pinelli@imtlucca.it</a><br/>\n",
    "IMT School for Advanced Studies Lucca<br/>\n",
    "2025/2026<br/>\n",
    "October, 9 2025"
   ]
  },
  {
   "cell_type": "markdown",
   "id": "a3d78c46-8d43-4fa9-afd5-f8ffe1541b0a",
   "metadata": {},
   "source": [
    "## Exercise 1\n",
    "\n",
    "**Dataset**: KC1 (NASA PROMISE) — static code metrics (Halstead, McCabe/Cyclomatic, LOC...).\n",
    "**Goal**: binary classification of defective vs non-defective modules.\n",
    "  \n",
    "+ **Size / comments**\n",
    "\n",
    "    - **loc**: \"Lines of Code (LOC): total number of lines in the module.\",\n",
    "    - **loccodeandcomment**: \"Lines of code including comment lines.\",\n",
    "    - **locode**: \"Effective lines of code (no comments/blank).\",\n",
    "    - **locomment**: \"Number of comment lines.\",\n",
    "    - **loblank**: \"Number of blank lines.\",\n",
    "    - **branchcount**: \"Number of branches in the control flow (approx. number of decisions).\",\n",
    "\n",
    "+ **McCabe / Cyclomatic** \n",
    "    - **v(g)**\": \"Cyclomatic complexity v(G): number of linearly independent paths in the CFG (McCabe).\",\n",
    "    - **ev(g)**\": \"Essential complexity ev(G): measures degree of structuredness.\",\n",
    "    - **iv(g)**\": \"Design complexity iv(G): complexity related to design/call structure.\",\n",
    "    - **cyclomatic_complexity**\": \"Cyclomatic complexity: number of independent paths.\",\n",
    "\n",
    "+ **Halstead**\n",
    "    - **uniq_op**: \"Halstead: distinct operators (η₁).\",\n",
    "    - **uniq_opnd**: \"Halstead: distinct operands (η₂).\",\n",
    "    - **total_op**: \"Halstead: total operators (N₁).\",\n",
    "    - **total_opnd**: \"Halstead: total operands (N₂).\",\n",
    "    - **n**: \"Halstead length N = N₁ + N₂.\",\n",
    "    - **v**: \"Halstead volume V = N × log₂(η₁ + η₂).\",\n",
    "    - **l**: \"Halstead level L (inverse of difficulty).\",\n",
    "    - **d**: \"Halstead difficulty D = (η₁/2) × (N₂/η₂).\",\n",
    "    - **i**: \"Halstead intelligence content I = L × V (interpretations vary).\",\n",
    "    - **e**: \"Halstead effort E = D × V.\",\n",
    "    - **b**: \"Halstead estimated bugs B ≈ V/3000 (or (E^(2/3))/3000).\",\n",
    "    - **t**: \"Halstead time to program T = E/18 (seconds).\"\n",
    "\n",
    "\n",
    "\n"
   ]
  },
  {
   "cell_type": "code",
   "execution_count": 2,
   "id": "24d27112-bda7-4e5f-b38c-228b5869e982",
   "metadata": {},
   "outputs": [],
   "source": [
    "import pandas as pd\n",
    "df = pd.read_csv('https://raw.githubusercontent.com/fpinell/mlsa/refs/heads/main/AA20252026/data/kc1_modified.csv')"
   ]
  },
  {
   "cell_type": "code",
   "execution_count": 11,
   "id": "b8abb220-2c1e-4287-9743-63b3b5674661",
   "metadata": {},
   "outputs": [
    {
     "data": {
      "text/plain": [
       "(2109, 22)"
      ]
     },
     "execution_count": 11,
     "metadata": {},
     "output_type": "execute_result"
    }
   ],
   "source": [
    "df.shape"
   ]
  },
  {
   "cell_type": "code",
   "execution_count": 12,
   "id": "dcb92918-8cbe-4710-87a3-77d115367278",
   "metadata": {},
   "outputs": [
    {
     "data": {
      "text/plain": [
       "defects\n",
       "False    1783\n",
       "True      326\n",
       "Name: count, dtype: int64"
      ]
     },
     "execution_count": 12,
     "metadata": {},
     "output_type": "execute_result"
    }
   ],
   "source": [
    "df.defects.value_counts()"
   ]
  },
  {
   "cell_type": "code",
   "execution_count": null,
   "id": "e6133603-f7b2-481c-b191-1e850951f5fc",
   "metadata": {},
   "outputs": [],
   "source": []
  }
 ],
 "metadata": {
  "kernelspec": {
   "display_name": "Python 3 (ipykernel)",
   "language": "python",
   "name": "python3"
  },
  "language_info": {
   "codemirror_mode": {
    "name": "ipython",
    "version": 3
   },
   "file_extension": ".py",
   "mimetype": "text/x-python",
   "name": "python",
   "nbconvert_exporter": "python",
   "pygments_lexer": "ipython3",
   "version": "3.12.3"
  }
 },
 "nbformat": 4,
 "nbformat_minor": 5
}

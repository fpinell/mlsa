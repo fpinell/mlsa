{
  "cells": [
    {
      "cell_type": "markdown",
      "id": "257628be-14ff-4a46-af81-97086ccf9bb2",
      "metadata": {
        "id": "257628be-14ff-4a46-af81-97086ccf9bb2"
      },
      "source": [
        "# Machine Learning for Software Analysis (MLSA)\n",
        "\n",
        "#### Fabio Pinelli\n",
        "<a href=\"mailto:fabio.pinelli@imtlucca.it\">fabio.pinelli@imtlucca.it</a><br/>\n",
        "IMT School for Advanced Studies Lucca<br/>\n",
        "2025/2026<br/>\n",
        "October, 9 2025"
      ]
    },
    {
      "cell_type": "markdown",
      "id": "a3d78c46-8d43-4fa9-afd5-f8ffe1541b0a",
      "metadata": {
        "id": "a3d78c46-8d43-4fa9-afd5-f8ffe1541b0a"
      },
      "source": [
        "## Exercise 1\n",
        "\n",
        "**Dataset**: KC1 (NASA PROMISE) — static code metrics (Halstead, McCabe/Cyclomatic, LOC...).\n",
        "\n",
        "**Metrics**:\n",
        "- *Halstead* (operators/operands, volume, difficulty, effort, estimated bugs) —\n",
        "[https://en.wikipedia.org/wiki/Halstead_complexity_measures](https://en.wikipedia.org/wiki/Halstead_complexity_measures)\n",
        "\n",
        "- *Cyclomatic complexity (McCabe)* — [https://en.wikipedia.org/wiki/Cyclomatic_complexity\n",
        "](https://en.wikipedia.org/wiki/Cyclomatic_complexity\n",
        ")\n",
        "\n",
        "\n",
        "**Goal**: binary classification of defective vs non-defective modules.\n",
        "  \n",
        "+ **Size / comments**\n",
        "\n",
        "    - **loc**: \"Lines of Code (LOC): total number of lines in the module.\",\n",
        "    - **loccodeandcomment**: \"Lines of code including comment lines.\",\n",
        "    - **locode**: \"Effective lines of code (no comments/blank).\",\n",
        "    - **locomment**: \"Number of comment lines.\",\n",
        "    - **loblank**: \"Number of blank lines.\",\n",
        "    - **branchcount**: \"Number of branches in the control flow (approx. number of decisions).\",\n",
        "\n",
        "+ **McCabe / Cyclomatic**\n",
        "    - **v(g)**\": \"Cyclomatic complexity v(G): number of linearly independent paths in the CFG (McCabe).\",\n",
        "    - **ev(g)**\": \"Essential complexity ev(G): measures degree of structuredness.\",\n",
        "    - **iv(g)**\": \"Design complexity iv(G): complexity related to design/call structure.\",\n",
        "    - **cyclomatic_complexity**\": \"Cyclomatic complexity: number of independent paths.\",\n",
        "\n",
        "+ **Halstead**\n",
        "    - **uniq_op**: \"Halstead: distinct operators (η₁).\",\n",
        "    - **uniq_opnd**: \"Halstead: distinct operands (η₂).\",\n",
        "    - **total_op**: \"Halstead: total operators (N₁).\",\n",
        "    - **total_opnd**: \"Halstead: total operands (N₂).\",\n",
        "    - **n**: \"Halstead length N = N₁ + N₂.\",\n",
        "    - **v**: \"Halstead volume V = N × log₂(η₁ + η₂).\",\n",
        "    - **l**: \"Halstead level L (inverse of difficulty).\",\n",
        "    - **d**: \"Halstead difficulty D = (η₁/2) × (N₂/η₂).\",\n",
        "    - **i**: \"Halstead intelligence content I = L × V (interpretations vary).\",\n",
        "    - **e**: \"Halstead effort E = D × V.\",\n",
        "    - **b**: \"Halstead estimated bugs B ≈ V/3000 (or (E^(2/3))/3000).\",\n",
        "    - **t**: \"Halstead time to program T = E/18 (seconds).\"\n",
        "\n",
        "\n",
        "\n"
      ]
    },
    {
      "cell_type": "code",
      "execution_count": 1,
      "id": "24d27112-bda7-4e5f-b38c-228b5869e982",
      "metadata": {
        "id": "24d27112-bda7-4e5f-b38c-228b5869e982"
      },
      "outputs": [],
      "source": [
        "import pandas as pd\n",
        "df = pd.read_csv('https://raw.githubusercontent.com/fpinell/mlsa/refs/heads/main/AA20252026/data/kc1_modified.csv')"
      ]
    },
    {
      "cell_type": "code",
      "execution_count": 2,
      "id": "b8abb220-2c1e-4287-9743-63b3b5674661",
      "metadata": {
        "id": "b8abb220-2c1e-4287-9743-63b3b5674661",
        "outputId": "b081f283-4c13-4b0c-8842-57c4d370de2f",
        "colab": {
          "base_uri": "https://localhost:8080/"
        }
      },
      "outputs": [
        {
          "output_type": "execute_result",
          "data": {
            "text/plain": [
              "(2109, 22)"
            ]
          },
          "metadata": {},
          "execution_count": 2
        }
      ],
      "source": [
        "df.shape"
      ]
    },
    {
      "cell_type": "code",
      "execution_count": 3,
      "id": "dcb92918-8cbe-4710-87a3-77d115367278",
      "metadata": {
        "id": "dcb92918-8cbe-4710-87a3-77d115367278",
        "outputId": "febef108-96eb-43d1-efba-3f3eddbfbc02",
        "colab": {
          "base_uri": "https://localhost:8080/",
          "height": 178
        }
      },
      "outputs": [
        {
          "output_type": "execute_result",
          "data": {
            "text/plain": [
              "defects\n",
              "False    1783\n",
              "True      326\n",
              "Name: count, dtype: int64"
            ],
            "text/html": [
              "<div>\n",
              "<style scoped>\n",
              "    .dataframe tbody tr th:only-of-type {\n",
              "        vertical-align: middle;\n",
              "    }\n",
              "\n",
              "    .dataframe tbody tr th {\n",
              "        vertical-align: top;\n",
              "    }\n",
              "\n",
              "    .dataframe thead th {\n",
              "        text-align: right;\n",
              "    }\n",
              "</style>\n",
              "<table border=\"1\" class=\"dataframe\">\n",
              "  <thead>\n",
              "    <tr style=\"text-align: right;\">\n",
              "      <th></th>\n",
              "      <th>count</th>\n",
              "    </tr>\n",
              "    <tr>\n",
              "      <th>defects</th>\n",
              "      <th></th>\n",
              "    </tr>\n",
              "  </thead>\n",
              "  <tbody>\n",
              "    <tr>\n",
              "      <th>False</th>\n",
              "      <td>1783</td>\n",
              "    </tr>\n",
              "    <tr>\n",
              "      <th>True</th>\n",
              "      <td>326</td>\n",
              "    </tr>\n",
              "  </tbody>\n",
              "</table>\n",
              "</div><br><label><b>dtype:</b> int64</label>"
            ]
          },
          "metadata": {},
          "execution_count": 3
        }
      ],
      "source": [
        "df.defects.value_counts()"
      ]
    },
    {
      "cell_type": "code",
      "execution_count": null,
      "id": "e6133603-f7b2-481c-b191-1e850951f5fc",
      "metadata": {
        "id": "e6133603-f7b2-481c-b191-1e850951f5fc"
      },
      "outputs": [],
      "source": []
    }
  ],
  "metadata": {
    "kernelspec": {
      "display_name": "Python 3 (ipykernel)",
      "language": "python",
      "name": "python3"
    },
    "language_info": {
      "codemirror_mode": {
        "name": "ipython",
        "version": 3
      },
      "file_extension": ".py",
      "mimetype": "text/x-python",
      "name": "python",
      "nbconvert_exporter": "python",
      "pygments_lexer": "ipython3",
      "version": "3.12.3"
    },
    "colab": {
      "provenance": []
    }
  },
  "nbformat": 4,
  "nbformat_minor": 5
}
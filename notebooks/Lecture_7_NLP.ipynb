{
 "cells": [
  {
   "cell_type": "markdown",
   "metadata": {
    "id": "5QNW8f3BPIoi"
   },
   "source": [
    "# Deep Learning with PyTorch Step-by-Step: A Beginner's Guide"
   ]
  },
  {
   "cell_type": "markdown",
   "metadata": {
    "id": "JQfcyrdyPIok"
   },
   "source": [
    "# Chapter 11"
   ]
  },
  {
   "cell_type": "markdown",
   "metadata": {
    "id": "AA_yhplzPIol"
   },
   "source": [
    "## Additional Setup\n",
    "\n",
    "The repository for the `allennlp` library has been archived. The library was used by `flair` to provide ELMO embeddings. This required PyTorch to be downgraded to version 1.7.1, and it prevented updating other libraries used in this chapter.\n",
    "\n",
    "At this point, the sensible solution is to upgrade `flair` and the other packages to more up-to-date versions and retire the use of ELMO embeddings. For the sake of completion, these embeddings will be replaced by flair embeddings in the code. Some code will be commented out whenever the replacement produces results that are substantially different from those produced by ELMO.\n",
    "\n",
    "Moreover, upgrading the `gensim` library required a few changes in the code since some attributes were changed from its 3.8.3 to its 4.3.3 version. These changes are highlighted in the code.\n",
    "\n",
    "**IMPORTANT**: due to the major version upgrade, the output of several cells will be quite different than those shown in the book. The new Gensim version produces slightly different vocabularies, so you should expect small changes in the number of words in the vocabulary, for example."
   ]
  },
  {
   "cell_type": "code",
   "execution_count": null,
   "metadata": {
    "colab": {
     "base_uri": "https://localhost:8080/",
     "height": 1000
    },
    "id": "C8BhclloPIom",
    "outputId": "6b405ca2-f7de-45aa-feb5-e586bf1e9ef6"
   },
   "outputs": [],
   "source": [
    "# # UPDATED\n",
    "# ###########################################################\n",
    "# !pip install gensim==4.3.3\n",
    "# # The library has been archived and won't be used anymore\n",
    "# # # !pip install allennlp==0.9.0\n",
    "# !pip install flair==0.13.1\n",
    "# !pip install torchvision==0.18.1\n",
    "# # # HuggingFace\n",
    "# !pip install transformers==4.42.4\n",
    "# !pip install datasets==2.18.0\n",
    "# ###########################################################"
   ]
  },
  {
   "cell_type": "code",
   "execution_count": 1,
   "metadata": {
    "colab": {
     "base_uri": "https://localhost:8080/"
    },
    "id": "w5okKRDWPIon",
    "outputId": "93fc601d-5f4d-4f97-bcdb-eb7f5ea0a2db"
   },
   "outputs": [
    {
     "name": "stdout",
     "output_type": "stream",
     "text": [
      "Downloading files from GitHub repo to Colab...\n",
      "Finished!\n"
     ]
    }
   ],
   "source": [
    "try:\n",
    "    import google.colab\n",
    "    import requests\n",
    "    url = 'https://raw.githubusercontent.com/dvgodoy/PyTorchStepByStep/master/config.py'\n",
    "    r = requests.get(url, allow_redirects=True)\n",
    "    open('config.py', 'wb').write(r.content)\n",
    "except ModuleNotFoundError:\n",
    "    pass\n",
    "\n",
    "from config import *\n",
    "config_chapter11()\n",
    "# This is needed to render the plots in this chapter\n",
    "from plots.chapter11 import *"
   ]
  },
  {
   "cell_type": "code",
   "execution_count": 2,
   "metadata": {
    "id": "MMmcGqLxPIoo"
   },
   "outputs": [],
   "source": [
    "import os\n",
    "import json\n",
    "import errno\n",
    "import requests\n",
    "import numpy as np\n",
    "from copy import deepcopy\n",
    "from operator import itemgetter\n",
    "\n",
    "import torch\n",
    "import torch.optim as optim\n",
    "import torch.nn as nn\n",
    "import torch.nn.functional as F\n",
    "from torch.utils.data import DataLoader, TensorDataset, Dataset\n",
    "\n",
    "from data_generation.nlp import ALICE_URL, WIZARD_URL, download_text\n",
    "from stepbystep.v4 import StepByStep\n",
    "# These are the classes we built in Chapter 10\n",
    "from seq2seq import *\n",
    "\n",
    "import nltk\n",
    "from nltk.tokenize import sent_tokenize"
   ]
  },
  {
   "cell_type": "code",
   "execution_count": 3,
   "metadata": {
    "id": "fU1AMangTB1o"
   },
   "outputs": [],
   "source": [
    "import gensim\n",
    "from gensim import corpora, downloader\n",
    "from gensim.parsing.preprocessing import *\n",
    "from gensim.utils import simple_preprocess\n",
    "from gensim.models import Word2Vec"
   ]
  },
  {
   "cell_type": "code",
   "execution_count": 4,
   "metadata": {
    "id": "L6HR2OpPTtEJ"
   },
   "outputs": [],
   "source": [
    "from flair.data import Sentence\n",
    "#from flair.embeddings import ELMoEmbeddings, WordEmbeddings, \\\n",
    "#    TransformerWordEmbeddings, TransformerDocumentEmbeddings\n",
    "from flair.embeddings import WordEmbeddings, \\\n",
    "    TransformerWordEmbeddings, TransformerDocumentEmbeddings"
   ]
  },
  {
   "cell_type": "code",
   "execution_count": 5,
   "metadata": {
    "id": "sfXyVryWT2mM"
   },
   "outputs": [],
   "source": [
    "from datasets import load_dataset, Split\n",
    "from transformers import (\n",
    "    DataCollatorForLanguageModeling,\n",
    "    BertModel, BertTokenizer, BertForSequenceClassification,\n",
    "    DistilBertModel, DistilBertTokenizer,\n",
    "    DistilBertForSequenceClassification,\n",
    "    AutoModelForSequenceClassification,\n",
    "    AutoModel, AutoTokenizer, AutoModelForCausalLM,\n",
    "    Trainer, TrainingArguments, pipeline, TextClassificationPipeline\n",
    ")\n",
    "from transformers.pipelines import SUPPORTED_TASKS"
   ]
  },
  {
   "cell_type": "markdown",
   "metadata": {
    "id": "aOMOKCI3PIop"
   },
   "source": [
    "# Down the Yellow Brick Rabbit Hole"
   ]
  },
  {
   "cell_type": "markdown",
   "metadata": {
    "id": "RG2bSGFtPIop"
   },
   "source": [
    "![](https://github.com/dvgodoy/PyTorchStepByStep/blob/master/images/alice_dorothy.png?raw=1)\n",
    "\n",
    "*Left: \"Alice and the Baby Pig\" illustration by John Tenniel's, from \"Alice's Adventure's in Wonderland\" (1865).*\n",
    "\n",
    "*Right: \"Dorothy meets the Cowardly Lion\" illustration by W.W. Denslow, from \"The Wonderful Wizard of Oz\" (1900)*"
   ]
  },
  {
   "cell_type": "markdown",
   "metadata": {
    "id": "zqGeN0zzPIoq"
   },
   "source": [
    "# Building a Dataset"
   ]
  },
  {
   "cell_type": "code",
   "execution_count": 6,
   "metadata": {
    "id": "YIiNrb9uPIor"
   },
   "outputs": [],
   "source": [
    "localfolder = 'texts'\n",
    "download_text(ALICE_URL, localfolder)\n",
    "download_text(WIZARD_URL, localfolder)"
   ]
  },
  {
   "cell_type": "code",
   "execution_count": 7,
   "metadata": {
    "id": "4IceFMuyPIor"
   },
   "outputs": [],
   "source": [
    "with open(os.path.join(localfolder, 'alice28-1476.txt'), 'r') as f:\n",
    "    alice = ''.join(f.readlines()[104:3704])\n",
    "\n",
    "with open(os.path.join(localfolder, 'wizoz10-1740.txt'), 'r') as f:\n",
    "    wizard = ''.join(f.readlines()[310:5100])"
   ]
  },
  {
   "cell_type": "code",
   "execution_count": 8,
   "metadata": {
    "colab": {
     "base_uri": "https://localhost:8080/"
    },
    "id": "Hpw53y4yPIos",
    "outputId": "64da19ba-f1dd-418c-db6b-9903060884a2"
   },
   "outputs": [
    {
     "name": "stdout",
     "output_type": "stream",
     "text": [
      "                ALICE'S ADVENTURES IN WONDERLAND\n",
      "\n",
      "                          Lewis Carroll\n",
      "\n",
      "               THE MILLENNIUM FULCRUM EDITION 2.8\n",
      "\n",
      "\n",
      "\n",
      "\n",
      "                            CHAPTER I\n",
      "\n",
      "                      Down the Rabbit-Hole\n",
      "\n",
      "\n",
      "  Alice was beginning to get very tired of sitting by her sister\n",
      "on the bank, and of having nothing to do:  once or twice she had\n",
      "peeped into the book her sister was reading, but it had no\n",
      "pictures or conversations in it, `and what is the use of a book,'\n",
      "thought Alice `w\n",
      "\n",
      "\n",
      "                    THE WONDERFUL WIZARD OF OZ\n",
      "\n",
      "\n",
      "                          1.  The Cyclone\n",
      "\n",
      "\n",
      "    Dorothy lived in the midst of the great Kansas prairies, with\n",
      "Uncle Henry, who was a farmer, and Aunt Em, who was the farmer's\n",
      "wife.  Their house was small, for the lumber to build it had to be\n",
      "carried by wagon many miles.  There were four walls, a floor and a\n",
      "roof, which made one room; and this room contained a rusty looking\n",
      "cookstove, a cupboard for the dishes, a table, three or four\n",
      "chairs, and th\n"
     ]
    }
   ],
   "source": [
    "print(alice[:500])\n",
    "print('\\n')\n",
    "print(wizard[:500])"
   ]
  },
  {
   "cell_type": "code",
   "execution_count": 9,
   "metadata": {
    "id": "JNdQPUzqPIos"
   },
   "outputs": [],
   "source": [
    "text_cfg = \"\"\"fname,start,end\n",
    "alice28-1476.txt,104,3704\n",
    "wizoz10-1740.txt,310,5100\"\"\"\n",
    "bytes_written = open(os.path.join(localfolder, 'lines.cfg'), 'w').write(text_cfg)"
   ]
  },
  {
   "cell_type": "markdown",
   "metadata": {
    "id": "Cd4tQSexPIot"
   },
   "source": [
    "## Sentence Tokenization"
   ]
  },
  {
   "cell_type": "code",
   "execution_count": 10,
   "metadata": {
    "colab": {
     "base_uri": "https://localhost:8080/"
    },
    "id": "Ms_jPDTWPIot",
    "outputId": "9ef3449a-d05b-448a-fa91-3e9039cf7379"
   },
   "outputs": [
    {
     "data": {
      "text/plain": [
       "[\"I'm\", 'following', 'the', 'white', 'rabbit']"
      ]
     },
     "execution_count": 10,
     "metadata": {},
     "output_type": "execute_result"
    }
   ],
   "source": [
    "sentence = \"I'm following the white rabbit\"\n",
    "tokens = sentence.split(' ')\n",
    "tokens"
   ]
  },
  {
   "cell_type": "code",
   "execution_count": 11,
   "metadata": {
    "colab": {
     "base_uri": "https://localhost:8080/"
    },
    "id": "UxbboLMMPIou",
    "outputId": "aba0b3d4-fde7-44b9-bf4b-c18e3bcfe620"
   },
   "outputs": [
    {
     "name": "stderr",
     "output_type": "stream",
     "text": [
      "[nltk_data] Downloading package punkt to /root/nltk_data...\n",
      "[nltk_data]   Unzipping tokenizers/punkt.zip.\n"
     ]
    },
    {
     "data": {
      "text/plain": [
       "(1612, 2240)"
      ]
     },
     "execution_count": 11,
     "metadata": {},
     "output_type": "execute_result"
    }
   ],
   "source": [
    "import nltk\n",
    "from nltk.tokenize import sent_tokenize\n",
    "\n",
    "nltk.download('punkt')\n",
    "corpus_alice = sent_tokenize(alice)\n",
    "corpus_wizard = sent_tokenize(wizard)\n",
    "len(corpus_alice), len(corpus_wizard)"
   ]
  },
  {
   "cell_type": "code",
   "execution_count": 12,
   "metadata": {
    "colab": {
     "base_uri": "https://localhost:8080/",
     "height": 35
    },
    "id": "IQ0TkRtRPIou",
    "outputId": "9d754535-e54c-4383-cc79-ec4e83734923"
   },
   "outputs": [
    {
     "data": {
      "application/vnd.google.colaboratory.intrinsic+json": {
       "type": "string"
      },
      "text/plain": [
       "'There was nothing so VERY remarkable in that; nor did Alice\\nthink it so VERY much out of the way to hear the Rabbit say to\\nitself, `Oh dear!'"
      ]
     },
     "execution_count": 12,
     "metadata": {},
     "output_type": "execute_result"
    }
   ],
   "source": [
    "corpus_alice[2]"
   ]
  },
  {
   "cell_type": "code",
   "execution_count": 13,
   "metadata": {
    "colab": {
     "base_uri": "https://localhost:8080/",
     "height": 35
    },
    "id": "gFOXRwwLPIov",
    "outputId": "d632a88e-d682-4fd5-e752-4ae6da731ec9"
   },
   "outputs": [
    {
     "data": {
      "application/vnd.google.colaboratory.intrinsic+json": {
       "type": "string"
      },
      "text/plain": [
       "'\"There\\'s a cyclone coming, Em,\" he called to his wife.'"
      ]
     },
     "execution_count": 13,
     "metadata": {},
     "output_type": "execute_result"
    }
   ],
   "source": [
    "corpus_wizard[30]"
   ]
  },
  {
   "cell_type": "code",
   "execution_count": 14,
   "metadata": {
    "id": "8TX0L1NqPIov"
   },
   "outputs": [],
   "source": [
    "def sentence_tokenize(source, quote_char='\\\\', sep_char=',',\n",
    "                      include_header=True, include_source=True,\n",
    "                      extensions=('txt'), **kwargs):\n",
    "    nltk.download('punkt')\n",
    "    # If source is a folder, goes through all files inside it\n",
    "    # that match the desired extensions ('txt' by default)\n",
    "    if os.path.isdir(source):\n",
    "        filenames = [f for f in os.listdir(source)\n",
    "                     if os.path.isfile(os.path.join(source, f)) and\n",
    "                        os.path.splitext(f)[1][1:] in extensions]\n",
    "    elif isinstance(source, str):\n",
    "        filenames = [source]\n",
    "\n",
    "    # If there is a configuration file, builds a dictionary with\n",
    "    # the corresponding start and end lines of each text file\n",
    "    config_file = os.path.join(source, 'lines.cfg')\n",
    "    config = {}\n",
    "    if os.path.exists(config_file):\n",
    "        with open(config_file, 'r') as f:\n",
    "            rows = f.readlines()\n",
    "\n",
    "        for r in rows[1:]:\n",
    "            fname, start, end = r.strip().split(',')\n",
    "            config.update({fname: (int(start), int(end))})\n",
    "\n",
    "    new_fnames = []\n",
    "    # For each file of text\n",
    "    for fname in filenames:\n",
    "        # If there's a start and end line for that file, use it\n",
    "        try:\n",
    "            start, end = config[fname]\n",
    "        except KeyError:\n",
    "            start = None\n",
    "            end = None\n",
    "\n",
    "        # Opens the file, slices the configures lines (if any)\n",
    "        # cleans line breaks and uses the sentence tokenizer\n",
    "        with open(os.path.join(source, fname), 'r') as f:\n",
    "            contents = (''.join(f.readlines()[slice(start, end, None)])\n",
    "                        .replace('\\n', ' ').replace('\\r', ''))\n",
    "        corpus = sent_tokenize(contents, **kwargs)\n",
    "\n",
    "        # Builds a CSV file containing tokenized sentences\n",
    "        base = os.path.splitext(fname)[0]\n",
    "        new_fname = f'{base}.sent.csv'\n",
    "        new_fname = os.path.join(source, new_fname)\n",
    "        with open(new_fname, 'w') as f:\n",
    "            # Header of the file\n",
    "            if include_header:\n",
    "                if include_source:\n",
    "                    f.write('sentence,source\\n')\n",
    "                else:\n",
    "                    f.write('sentence\\n')\n",
    "            # Writes one line for each sentence\n",
    "            for sentence in corpus:\n",
    "                if include_source:\n",
    "                    f.write(f'{quote_char}{sentence}{quote_char}{sep_char}{fname}\\n')\n",
    "                else:\n",
    "                    f.write(f'{quote_char}{sentence}{quote_char}\\n')\n",
    "        new_fnames.append(new_fname)\n",
    "\n",
    "    # Returns list of the newly generated CSV files\n",
    "    return sorted(new_fnames)"
   ]
  },
  {
   "cell_type": "code",
   "execution_count": 15,
   "metadata": {
    "colab": {
     "base_uri": "https://localhost:8080/"
    },
    "id": "duMi-DzQPIov",
    "outputId": "923135e1-992c-45ea-ec79-2d964fae2b19"
   },
   "outputs": [
    {
     "name": "stderr",
     "output_type": "stream",
     "text": [
      "[nltk_data] Downloading package punkt to /root/nltk_data...\n",
      "[nltk_data]   Package punkt is already up-to-date!\n"
     ]
    },
    {
     "data": {
      "text/plain": [
       "['texts/alice28-1476.sent.csv', 'texts/wizoz10-1740.sent.csv']"
      ]
     },
     "execution_count": 15,
     "metadata": {},
     "output_type": "execute_result"
    }
   ],
   "source": [
    "new_fnames = sentence_tokenize(localfolder)\n",
    "new_fnames"
   ]
  },
  {
   "cell_type": "code",
   "execution_count": 16,
   "metadata": {
    "id": "tvQ5ikWQPIow"
   },
   "outputs": [],
   "source": [
    "# import spacy\n",
    "# nlp = spacy.blank(\"en\")\n",
    "# nlp.add_pipe(nlp.create_pipe(\"sentencizer\"))\n",
    "\n",
    "# sentences = []\n",
    "# for doc in nlp.pipe(corpus_alice):\n",
    "#     sentences.extend(sent.text for sent in doc.sents)\n",
    "\n",
    "# len(sentences), sentences[2]"
   ]
  },
  {
   "cell_type": "markdown",
   "metadata": {
    "id": "TNMT7-ClPIow"
   },
   "source": [
    "## HuggingFace's Dataset"
   ]
  },
  {
   "cell_type": "markdown",
   "metadata": {
    "id": "s5T31ZJtPIow"
   },
   "source": [
    "## Loading a Dataset"
   ]
  },
  {
   "cell_type": "code",
   "execution_count": 17,
   "metadata": {
    "colab": {
     "base_uri": "https://localhost:8080/",
     "height": 49,
     "referenced_widgets": [
      "cd067f60eb7c45bf8010431d51b2fb34",
      "b89907d757a74899a7606c3b6ce383e5",
      "926dd4b6c57c42b68c44e06cb5013129",
      "9996784c4aa04ca480a58e53e5e073e5",
      "abaa724f6e984ddcb538a24012a74dd9",
      "49948cdf2ac94f45aa9c4a17c5996a17",
      "0c78bace44154985ad12c0265ae430f7",
      "ead4f1dddc0d48499955d55b069e82e0",
      "5d97ee42cb5b4ca5a9f5bc556f1a8a60",
      "a23cea85c11d44f99338ee370d27bb27",
      "e4a5b2625bfc4f7eb9cf1000c8fcd9fb"
     ]
    },
    "id": "6mmR-5ItPIox",
    "outputId": "704ce450-5933-4d75-86b8-ea7b8c60ea10"
   },
   "outputs": [
    {
     "data": {
      "application/vnd.jupyter.widget-view+json": {
       "model_id": "cd067f60eb7c45bf8010431d51b2fb34",
       "version_major": 2,
       "version_minor": 0
      },
      "text/plain": [
       "Generating train split: 0 examples [00:00, ? examples/s]"
      ]
     },
     "metadata": {},
     "output_type": "display_data"
    }
   ],
   "source": [
    "from datasets import load_dataset, Split\n",
    "\n",
    "dataset = load_dataset(path='csv', data_files=new_fnames, quotechar='\\\\', split=Split.TRAIN)"
   ]
  },
  {
   "cell_type": "markdown",
   "metadata": {
    "id": "RHikb18aPIox"
   },
   "source": [
    "### Attributes"
   ]
  },
  {
   "cell_type": "code",
   "execution_count": 18,
   "metadata": {
    "colab": {
     "base_uri": "https://localhost:8080/"
    },
    "id": "DvVIqWAiPIox",
    "outputId": "150d6181-5d50-4a47-f119-89348dd38995"
   },
   "outputs": [
    {
     "data": {
      "text/plain": [
       "({'sentence': Value(dtype='string', id=None),\n",
       "  'source': Value(dtype='string', id=None)},\n",
       " 2,\n",
       " (3852, 2))"
      ]
     },
     "execution_count": 18,
     "metadata": {},
     "output_type": "execute_result"
    }
   ],
   "source": [
    "dataset.features, dataset.num_columns, dataset.shape"
   ]
  },
  {
   "cell_type": "code",
   "execution_count": 19,
   "metadata": {
    "colab": {
     "base_uri": "https://localhost:8080/"
    },
    "id": "MtH_c0gVPIoy",
    "outputId": "eaafb6da-0878-4343-a04f-27a0e9269dc4"
   },
   "outputs": [
    {
     "data": {
      "text/plain": [
       "{'sentence': 'There was nothing so VERY remarkable in that; nor did Alice think it so VERY much out of the way to hear the Rabbit say to itself, `Oh dear!',\n",
       " 'source': 'alice28-1476.txt'}"
      ]
     },
     "execution_count": 19,
     "metadata": {},
     "output_type": "execute_result"
    }
   ],
   "source": [
    "dataset[2]"
   ]
  },
  {
   "cell_type": "code",
   "execution_count": 20,
   "metadata": {
    "colab": {
     "base_uri": "https://localhost:8080/"
    },
    "id": "xDOC9Hh4PIoy",
    "outputId": "3b226567-5116-429f-965c-533b5993ab21"
   },
   "outputs": [
    {
     "data": {
      "text/plain": [
       "['alice28-1476.txt', 'alice28-1476.txt', 'alice28-1476.txt']"
      ]
     },
     "execution_count": 20,
     "metadata": {},
     "output_type": "execute_result"
    }
   ],
   "source": [
    "dataset['source'][:3]"
   ]
  },
  {
   "cell_type": "markdown",
   "metadata": {
    "id": "EM-mEXGrPIoy"
   },
   "source": [
    "### Methods"
   ]
  },
  {
   "cell_type": "code",
   "execution_count": 21,
   "metadata": {
    "colab": {
     "base_uri": "https://localhost:8080/"
    },
    "id": "QprAteUMPIoy",
    "outputId": "37b3a36c-1f14-40f4-c81f-3d2cafaf84cc"
   },
   "outputs": [
    {
     "data": {
      "text/plain": [
       "['alice28-1476.txt', 'wizoz10-1740.txt']"
      ]
     },
     "execution_count": 21,
     "metadata": {},
     "output_type": "execute_result"
    }
   ],
   "source": [
    "dataset.unique('source')"
   ]
  },
  {
   "cell_type": "code",
   "execution_count": 22,
   "metadata": {
    "colab": {
     "base_uri": "https://localhost:8080/",
     "height": 49,
     "referenced_widgets": [
      "c60c89940e5e455bab9c7cf1e420d55b",
      "5f174bf3a8d94b51be76f7455a6621f0",
      "d0db897511f0440588131cd7621ab41b",
      "a40ffd8b51784c2988e75903ac4fab93",
      "5ac8c023798949aa85008138c59e5cbd",
      "f123f91546064a538a74c83d893d52df",
      "01ddfefb7f3e4a3589efab6d307a1bf0",
      "8aed6812b77f4175a7ba713d075b6db7",
      "c43c28578be8437ab5457b444b4103fd",
      "fc19e87c5a9b409e8877022912b3b5d4",
      "d747d7a4a9ac4e479e2cafb7ca11d0ad"
     ]
    },
    "id": "9XbmJVItPIoz",
    "outputId": "6abd3afa-fc5f-4f3f-ae86-9ea0face5747"
   },
   "outputs": [
    {
     "data": {
      "application/vnd.jupyter.widget-view+json": {
       "model_id": "c60c89940e5e455bab9c7cf1e420d55b",
       "version_major": 2,
       "version_minor": 0
      },
      "text/plain": [
       "Map:   0%|          | 0/3852 [00:00<?, ? examples/s]"
      ]
     },
     "metadata": {},
     "output_type": "display_data"
    }
   ],
   "source": [
    "def is_alice_label(row):\n",
    "    is_alice = int(row['source'] == 'alice28-1476.txt')\n",
    "    return {'labels': is_alice}\n",
    "\n",
    "dataset = dataset.map(is_alice_label)"
   ]
  },
  {
   "cell_type": "code",
   "execution_count": 23,
   "metadata": {
    "colab": {
     "base_uri": "https://localhost:8080/"
    },
    "id": "Ei4rMiW0PIoz",
    "outputId": "daee5015-ff9e-457a-8b0a-e750430aa5de"
   },
   "outputs": [
    {
     "data": {
      "text/plain": [
       "{'sentence': 'There was nothing so VERY remarkable in that; nor did Alice think it so VERY much out of the way to hear the Rabbit say to itself, `Oh dear!',\n",
       " 'source': 'alice28-1476.txt',\n",
       " 'labels': 1}"
      ]
     },
     "execution_count": 23,
     "metadata": {},
     "output_type": "execute_result"
    }
   ],
   "source": [
    "dataset[2]"
   ]
  },
  {
   "cell_type": "code",
   "execution_count": 24,
   "metadata": {
    "id": "zL8_4qImPIo0"
   },
   "outputs": [],
   "source": [
    "shuffled_dataset = dataset.shuffle(seed=42)"
   ]
  },
  {
   "cell_type": "code",
   "execution_count": 25,
   "metadata": {
    "colab": {
     "base_uri": "https://localhost:8080/"
    },
    "id": "svODbO3NPIo0",
    "outputId": "b5c5b3a7-d7e9-42e5-ae00-50c797486cce"
   },
   "outputs": [
    {
     "data": {
      "text/plain": [
       "DatasetDict({\n",
       "    train: Dataset({\n",
       "        features: ['sentence', 'source', 'labels'],\n",
       "        num_rows: 3081\n",
       "    })\n",
       "    test: Dataset({\n",
       "        features: ['sentence', 'source', 'labels'],\n",
       "        num_rows: 771\n",
       "    })\n",
       "})"
      ]
     },
     "execution_count": 25,
     "metadata": {},
     "output_type": "execute_result"
    }
   ],
   "source": [
    "split_dataset = shuffled_dataset.train_test_split(test_size=0.2)\n",
    "split_dataset"
   ]
  },
  {
   "cell_type": "code",
   "execution_count": 26,
   "metadata": {
    "id": "a-vhKAPsPIo0"
   },
   "outputs": [],
   "source": [
    "train_dataset, test_dataset = split_dataset['train'], split_dataset['test']"
   ]
  },
  {
   "cell_type": "markdown",
   "metadata": {
    "id": "jnTeb1APPIo0"
   },
   "source": [
    "## Data Augmentation"
   ]
  },
  {
   "cell_type": "code",
   "execution_count": null,
   "metadata": {
    "id": "v18lfIROPIo1"
   },
   "outputs": [],
   "source": [
    "# !pip install textattack\n",
    "# from textattack.augmentation import EmbeddingAugmenter\n",
    "# augmenter = EmbeddingAugmenter()\n",
    "# feynman = 'What I cannot create, I do not understand.'"
   ]
  },
  {
   "cell_type": "code",
   "execution_count": null,
   "metadata": {
    "id": "oKSTr__FPIo1"
   },
   "outputs": [],
   "source": [
    "# for i in range(5):\n",
    "#     print(augmenter.augment(feynman))"
   ]
  },
  {
   "cell_type": "markdown",
   "metadata": {
    "id": "1Apyc3vyPIo1"
   },
   "source": [
    "# Word Tokenization"
   ]
  },
  {
   "cell_type": "code",
   "execution_count": 27,
   "metadata": {
    "colab": {
     "base_uri": "https://localhost:8080/"
    },
    "id": "H6C3Qto1PIo1",
    "outputId": "6b718179-290e-4ff6-b338-f11c0c616602"
   },
   "outputs": [
    {
     "data": {
      "text/plain": [
       "[\"I'm\", 'following', 'the', 'white', 'rabbit']"
      ]
     },
     "execution_count": 27,
     "metadata": {},
     "output_type": "execute_result"
    }
   ],
   "source": [
    "sentence = \"I'm following the white rabbit\"\n",
    "tokens = sentence.split(' ')\n",
    "tokens"
   ]
  },
  {
   "cell_type": "code",
   "execution_count": 28,
   "metadata": {
    "colab": {
     "base_uri": "https://localhost:8080/"
    },
    "id": "gMiBbirCPIo2",
    "outputId": "6d0b8691-1e88-4589-acec-ef9f59fd26b5"
   },
   "outputs": [
    {
     "data": {
      "text/plain": [
       "['follow', 'white', 'rabbit']"
      ]
     },
     "execution_count": 28,
     "metadata": {},
     "output_type": "execute_result"
    }
   ],
   "source": [
    "from gensim.parsing.preprocessing import *\n",
    "\n",
    "preprocess_string(sentence)"
   ]
  },
  {
   "cell_type": "code",
   "execution_count": 29,
   "metadata": {
    "colab": {
     "base_uri": "https://localhost:8080/"
    },
    "id": "g9I0NFCcPIo2",
    "outputId": "39a7ae3e-0e40-4867-b5ed-def718032b3d"
   },
   "outputs": [
    {
     "data": {
      "text/plain": [
       "['i', 'm', 'following', 'the', 'white', 'rabbit']"
      ]
     },
     "execution_count": 29,
     "metadata": {},
     "output_type": "execute_result"
    }
   ],
   "source": [
    "filters = [lambda x: x.lower(), strip_tags, strip_punctuation, strip_multiple_whitespaces, strip_numeric]\n",
    "preprocess_string(sentence, filters=filters)"
   ]
  },
  {
   "cell_type": "code",
   "execution_count": 30,
   "metadata": {
    "colab": {
     "base_uri": "https://localhost:8080/"
    },
    "id": "I6zIZlDPPIo2",
    "outputId": "8b477950-1be3-4be5-93d8-9cc4ce2b0580"
   },
   "outputs": [
    {
     "data": {
      "text/plain": [
       "['following', 'the', 'white', 'rabbit']"
      ]
     },
     "execution_count": 30,
     "metadata": {},
     "output_type": "execute_result"
    }
   ],
   "source": [
    "from gensim.utils import simple_preprocess\n",
    "\n",
    "tokens = simple_preprocess(sentence)\n",
    "tokens"
   ]
  },
  {
   "cell_type": "markdown",
   "metadata": {
    "id": "S41E3OspPIo3"
   },
   "source": [
    "## Vocabulary"
   ]
  },
  {
   "cell_type": "code",
   "execution_count": 31,
   "metadata": {
    "colab": {
     "base_uri": "https://localhost:8080/"
    },
    "id": "Nj8VJgZ-PIo3",
    "outputId": "49b780c1-57ec-4ee6-b06b-90471554fe50"
   },
   "outputs": [
    {
     "data": {
      "text/plain": [
       "['so',\n",
       " 'the',\n",
       " 'woodman',\n",
       " 'went',\n",
       " 'at',\n",
       " 'once',\n",
       " 'to',\n",
       " 'the',\n",
       " 'trees',\n",
       " 'and',\n",
       " 'began',\n",
       " 'to',\n",
       " 'work',\n",
       " 'and',\n",
       " 'he',\n",
       " 'soon',\n",
       " 'made',\n",
       " 'truck',\n",
       " 'out',\n",
       " 'of',\n",
       " 'the',\n",
       " 'limbs',\n",
       " 'of',\n",
       " 'trees',\n",
       " 'from',\n",
       " 'which',\n",
       " 'he',\n",
       " 'chopped',\n",
       " 'away',\n",
       " 'all',\n",
       " 'the',\n",
       " 'leaves',\n",
       " 'and',\n",
       " 'branches']"
      ]
     },
     "execution_count": 31,
     "metadata": {},
     "output_type": "execute_result"
    }
   ],
   "source": [
    "sentences = train_dataset['sentence']\n",
    "tokens = [simple_preprocess(sent) for sent in sentences]\n",
    "tokens[0]"
   ]
  },
  {
   "cell_type": "code",
   "execution_count": 32,
   "metadata": {
    "colab": {
     "base_uri": "https://localhost:8080/"
    },
    "id": "RmGTVyKkPIo3",
    "outputId": "1f5dc971-7166-435f-b343-0b6db1e39fa9"
   },
   "outputs": [
    {
     "name": "stdout",
     "output_type": "stream",
     "text": [
      "Dictionary<3726 unique tokens: ['all', 'and', 'at', 'away', 'began']...>\n"
     ]
    }
   ],
   "source": [
    "from gensim import corpora\n",
    "\n",
    "dictionary = corpora.Dictionary(tokens)\n",
    "print(dictionary)"
   ]
  },
  {
   "cell_type": "code",
   "execution_count": 33,
   "metadata": {
    "colab": {
     "base_uri": "https://localhost:8080/"
    },
    "id": "TbIfKFBIPIo3",
    "outputId": "2b9b8e90-f89f-4c93-951b-112a9f90e310"
   },
   "outputs": [
    {
     "data": {
      "text/plain": [
       "3081"
      ]
     },
     "execution_count": 33,
     "metadata": {},
     "output_type": "execute_result"
    }
   ],
   "source": [
    "dictionary.num_docs"
   ]
  },
  {
   "cell_type": "code",
   "execution_count": 34,
   "metadata": {
    "colab": {
     "base_uri": "https://localhost:8080/"
    },
    "id": "fOPK8ULTPIo4",
    "outputId": "e323d08b-277c-49ca-b208-79c1cbc7bc4c"
   },
   "outputs": [
    {
     "data": {
      "text/plain": [
       "50926"
      ]
     },
     "execution_count": 34,
     "metadata": {},
     "output_type": "execute_result"
    }
   ],
   "source": [
    "dictionary.num_pos # processed words"
   ]
  },
  {
   "cell_type": "code",
   "execution_count": 35,
   "metadata": {
    "colab": {
     "base_uri": "https://localhost:8080/"
    },
    "id": "3cR7uPunPIo4",
    "outputId": "84cfe9f1-fec3-4cd2-ebaf-582f56ae0223",
    "scrolled": true
   },
   "outputs": [
    {
     "data": {
      "text/plain": [
       "{'all': 0,\n",
       " 'and': 1,\n",
       " 'at': 2,\n",
       " 'away': 3,\n",
       " 'began': 4,\n",
       " 'branches': 5,\n",
       " 'chopped': 6,\n",
       " 'from': 7,\n",
       " 'he': 8,\n",
       " 'leaves': 9,\n",
       " 'limbs': 10,\n",
       " 'made': 11,\n",
       " 'of': 12,\n",
       " 'once': 13,\n",
       " 'out': 14,\n",
       " 'so': 15,\n",
       " 'soon': 16,\n",
       " 'the': 17,\n",
       " 'to': 18,\n",
       " 'trees': 19,\n",
       " 'truck': 20,\n",
       " 'went': 21,\n",
       " 'which': 22,\n",
       " 'woodman': 23,\n",
       " 'work': 24,\n",
       " 'because': 25,\n",
       " 'have': 26,\n",
       " 'killed': 27,\n",
       " 'shoes': 28,\n",
       " 'silver': 29,\n",
       " 'wear': 30,\n",
       " 'wicked': 31,\n",
       " 'witch': 32,\n",
       " 'you': 33,\n",
       " 'anxiously': 34,\n",
       " 'asked': 35,\n",
       " 'girl': 36,\n",
       " 'are': 37,\n",
       " 'little': 38,\n",
       " 'man': 39,\n",
       " 'meekly': 40,\n",
       " 'no': 41,\n",
       " 'said': 42,\n",
       " 'wrong': 43,\n",
       " 'alice': 44,\n",
       " 'ask': 45,\n",
       " 'ventured': 46,\n",
       " 'about': 47,\n",
       " 'among': 48,\n",
       " 'as': 49,\n",
       " 'but': 50,\n",
       " 'distant': 51,\n",
       " 'except': 52,\n",
       " 'follow': 53,\n",
       " 'green': 54,\n",
       " 'moving': 55,\n",
       " 'result': 56,\n",
       " 'seemed': 57,\n",
       " 'shaking': 58,\n",
       " 'she': 59,\n",
       " 'spoke': 60,\n",
       " 'them': 61,\n",
       " 'was': 62,\n",
       " 'by': 63,\n",
       " 'full': 64,\n",
       " 'grown': 65,\n",
       " 'had': 66,\n",
       " 'her': 67,\n",
       " 'size': 68,\n",
       " 'this': 69,\n",
       " 'time': 70,\n",
       " 'again': 71,\n",
       " 'back': 72,\n",
       " 'be': 73,\n",
       " 'circus': 74,\n",
       " 'go': 75,\n",
       " 'in': 76,\n",
       " 'kansas': 77,\n",
       " 'much': 78,\n",
       " 'rather': 79,\n",
       " 'with': 80,\n",
       " 'bite': 81,\n",
       " 'come': 82,\n",
       " 'if': 83,\n",
       " 'will': 84,\n",
       " 'yard': 85,\n",
       " 'herself': 86,\n",
       " 'thought': 87,\n",
       " 'absence': 88,\n",
       " 'advantage': 89,\n",
       " 'cost': 90,\n",
       " 'delay': 91,\n",
       " 'game': 92,\n",
       " 'guests': 93,\n",
       " 'however': 94,\n",
       " 'hurried': 95,\n",
       " 'lives': 96,\n",
       " 'merely': 97,\n",
       " 'moment': 98,\n",
       " 'other': 99,\n",
       " 'queen': 100,\n",
       " 'remarking': 101,\n",
       " 'resting': 102,\n",
       " 'saw': 103,\n",
       " 'shade': 104,\n",
       " 'taken': 105,\n",
       " 'that': 106,\n",
       " 'their': 107,\n",
       " 'they': 108,\n",
       " 'were': 109,\n",
       " 'would': 110,\n",
       " 'before': 111,\n",
       " 'course': 112,\n",
       " 'each': 113,\n",
       " 'expected': 114,\n",
       " 'greatly': 115,\n",
       " 'looked': 116,\n",
       " 'one': 117,\n",
       " 'room': 118,\n",
       " 'see': 119,\n",
       " 'shape': 120,\n",
       " 'surprised': 121,\n",
       " 'when': 122,\n",
       " 'wizard': 123,\n",
       " 'am': 124,\n",
       " 'dorothy': 125,\n",
       " 'get': 126,\n",
       " 'how': 127,\n",
       " 'now': 128,\n",
       " 'bath': 129,\n",
       " 'child': 130,\n",
       " 'never': 131,\n",
       " 'night': 132,\n",
       " 'off': 133,\n",
       " 'pretty': 134,\n",
       " 'proud': 135,\n",
       " 'took': 136,\n",
       " 'could': 137,\n",
       " 'everywhere': 138,\n",
       " 'eye': 139,\n",
       " 'powerful': 140,\n",
       " 'telescope': 141,\n",
       " 'west': 142,\n",
       " 'yet': 143,\n",
       " 'brains': 144,\n",
       " 'decided': 145,\n",
       " 'hard': 146,\n",
       " 'his': 147,\n",
       " 'needles': 148,\n",
       " 'pins': 149,\n",
       " 'scarecrow': 150,\n",
       " 'stick': 151,\n",
       " 'think': 152,\n",
       " 'band': 153,\n",
       " 'beside': 154,\n",
       " 'brought': 155,\n",
       " 'flew': 156,\n",
       " 'into': 157,\n",
       " 'it': 158,\n",
       " 'magic': 159,\n",
       " 'monkeys': 160,\n",
       " 'open': 161,\n",
       " 'stood': 162,\n",
       " 'throne': 163,\n",
       " 'through': 164,\n",
       " 'window': 165,\n",
       " 'winged': 166,\n",
       " 'words': 167,\n",
       " 'an': 168,\n",
       " 'awfully': 169,\n",
       " 'balanced': 170,\n",
       " 'clever': 171,\n",
       " 'eel': 172,\n",
       " 'end': 173,\n",
       " 'ever': 174,\n",
       " 'hardly': 175,\n",
       " 'nose': 176,\n",
       " 'old': 177,\n",
       " 'on': 178,\n",
       " 'steady': 179,\n",
       " 'suppose': 180,\n",
       " 'what': 181,\n",
       " 'your': 182,\n",
       " 'youth': 183,\n",
       " 'after': 184,\n",
       " 'beat': 185,\n",
       " 'castle': 186,\n",
       " 'do': 187,\n",
       " 'down': 188,\n",
       " 'next': 189,\n",
       " 'returned': 190,\n",
       " 'sat': 191,\n",
       " 'sent': 192,\n",
       " 'should': 193,\n",
       " 'strap': 194,\n",
       " 'well': 195,\n",
       " 'dormouse': 196,\n",
       " 'shall': 197,\n",
       " 'then': 198,\n",
       " 'baked': 199,\n",
       " 'cracks': 200,\n",
       " 'gray': 201,\n",
       " 'land': 202,\n",
       " 'mass': 203,\n",
       " 'plowed': 204,\n",
       " 'running': 205,\n",
       " 'sun': 206,\n",
       " 'days': 207,\n",
       " 'two': 208,\n",
       " 'afraid': 209,\n",
       " 'coming': 210,\n",
       " 'heard': 211,\n",
       " 'like': 212,\n",
       " 'something': 213,\n",
       " 've': 214,\n",
       " 'cannot': 215,\n",
       " 'disease': 216,\n",
       " 'for': 217,\n",
       " 'heart': 218,\n",
       " 'my': 219,\n",
       " 'part': 220,\n",
       " 'screamed': 221,\n",
       " 'answered': 222,\n",
       " 'lighted': 223,\n",
       " 'match': 224,\n",
       " 'anything': 225,\n",
       " 'ate': 226,\n",
       " 'fed': 227,\n",
       " 'live': 228,\n",
       " 'neither': 229,\n",
       " 'nor': 230,\n",
       " 'not': 231,\n",
       " 'straw': 232,\n",
       " 'sure': 233,\n",
       " 'tin': 234,\n",
       " 'unless': 235,\n",
       " 'nothing': 236,\n",
       " 'proves': 237,\n",
       " 'sort': 238,\n",
       " 'both': 239,\n",
       " 'duchess': 240,\n",
       " 'flamingoes': 241,\n",
       " 'mustard': 242,\n",
       " 'true': 243,\n",
       " 'very': 244,\n",
       " 'being': 245,\n",
       " 'dear': 246,\n",
       " 'else': 247,\n",
       " 'first': 248,\n",
       " 'here': 249,\n",
       " 'll': 250,\n",
       " 'me': 251,\n",
       " 'oh': 252,\n",
       " 'person': 253,\n",
       " 'somebody': 254,\n",
       " 'stay': 255,\n",
       " 'tell': 256,\n",
       " 'till': 257,\n",
       " 'up': 258,\n",
       " 'knows': 259,\n",
       " 'such': 260,\n",
       " 'called': 261,\n",
       " 'close': 262,\n",
       " 'last': 263,\n",
       " 'third': 264,\n",
       " 'us': 265,\n",
       " 'uglifying': 266,\n",
       " 'changed': 267,\n",
       " 'too': 268,\n",
       " 'wind': 269,\n",
       " 'bye': 270,\n",
       " 'can': 271,\n",
       " 'good': 272,\n",
       " 'is': 273,\n",
       " 'leader': 274,\n",
       " 'luck': 275,\n",
       " 'summon': 276,\n",
       " 'getting': 277,\n",
       " 'happening': 278,\n",
       " 'queer': 279,\n",
       " 'things': 280,\n",
       " 'used': 281,\n",
       " 'arches': 282,\n",
       " 'caught': 283,\n",
       " 'doesn': 284,\n",
       " 'fight': 285,\n",
       " 'flamingo': 286,\n",
       " 'gone': 287,\n",
       " 'ground': 288,\n",
       " 'hedgehogs': 289,\n",
       " 'matter': 290,\n",
       " 'over': 291,\n",
       " 'side': 292,\n",
       " 'sight': 293,\n",
       " 'really': 294,\n",
       " 'deal': 295,\n",
       " 'great': 296,\n",
       " 'there': 297,\n",
       " 'alone': 298,\n",
       " 'executions': 299,\n",
       " 'gryphon': 300,\n",
       " 'leaving': 301,\n",
       " 'must': 302,\n",
       " 'ordered': 303,\n",
       " 'some': 304,\n",
       " 'walked': 305,\n",
       " 'any': 306,\n",
       " 'roof': 307,\n",
       " 'sense': 308,\n",
       " 'take': 309,\n",
       " 'makes': 310,\n",
       " 'mean': 311,\n",
       " 'shiny': 312,\n",
       " 'day': 313,\n",
       " 'fine': 314,\n",
       " 'carry': 315,\n",
       " 'consider': 316,\n",
       " 'desert': 317,\n",
       " 'find': 318,\n",
       " 'give': 319,\n",
       " 'or': 320,\n",
       " 'three': 321,\n",
       " 'try': 322,\n",
       " 'way': 323,\n",
       " 'angry': 324,\n",
       " 'came': 325,\n",
       " 'pat': 326,\n",
       " 'rabbit': 327,\n",
       " 'voice': 328,\n",
       " 'capital': 329,\n",
       " 'catching': 330,\n",
       " 'mice': 331,\n",
       " 'business': 332,\n",
       " 'know': 333,\n",
       " 'broken': 334,\n",
       " 'glass': 335,\n",
       " 'more': 336,\n",
       " 'sounds': 337,\n",
       " 'beg': 338,\n",
       " 'pardon': 339,\n",
       " 'crawled': 340,\n",
       " 'got': 341,\n",
       " 'grass': 342,\n",
       " 'grow': 343,\n",
       " 'make': 344,\n",
       " 'mushroom': 345,\n",
       " 'shorter': 346,\n",
       " 'taller': 347,\n",
       " 'bent': 348,\n",
       " 'big': 349,\n",
       " 'branch': 350,\n",
       " 'cut': 351,\n",
       " 'fiercely': 352,\n",
       " 'him': 353,\n",
       " 'seize': 354,\n",
       " 'behind': 355,\n",
       " 'replied': 356,\n",
       " 'rock': 357,\n",
       " 'seen': 358,\n",
       " 'stepped': 359,\n",
       " 'strangest': 360,\n",
       " 'travelers': 361,\n",
       " 'bend': 362,\n",
       " 'did': 363,\n",
       " 'forest': 364,\n",
       " 'given': 365,\n",
       " 'keep': 366,\n",
       " 'minds': 367,\n",
       " 'only': 368,\n",
       " 'order': 369,\n",
       " 'policemen': 370,\n",
       " 'power': 371,\n",
       " 'probably': 372,\n",
       " 'row': 373,\n",
       " 'strangers': 374,\n",
       " 'these': 375,\n",
       " 'wonderful': 376,\n",
       " 'dance': 377,\n",
       " 'join': 378,\n",
       " 'won': 379,\n",
       " 'books': 380,\n",
       " 'found': 381,\n",
       " 'funny': 382,\n",
       " 'laugh': 383,\n",
       " 'pictures': 384,\n",
       " 'laughed': 385,\n",
       " 'shore': 386,\n",
       " 'swam': 387,\n",
       " 'top': 388,\n",
       " 'water': 389,\n",
       " 'head': 390,\n",
       " 'sticking': 391,\n",
       " 'those': 392,\n",
       " 'why': 393,\n",
       " 'adventures': 394,\n",
       " 'companions': 395,\n",
       " 'cyclone': 396,\n",
       " 'met': 397,\n",
       " 'oz': 398,\n",
       " 'story': 399,\n",
       " 'told': 400,\n",
       " 'absurd': 401,\n",
       " 'bowed': 402,\n",
       " 'dare': 403,\n",
       " 'grave': 404,\n",
       " 'looking': 405,\n",
       " 'say': 406,\n",
       " 'simply': 407,\n",
       " 'solemn': 408,\n",
       " 'thimble': 409,\n",
       " 'thing': 410,\n",
       " 'whole': 411,\n",
       " 'right': 412,\n",
       " 'shoe': 413,\n",
       " 'wow': 414,\n",
       " 'world': 415,\n",
       " 'hush': 416,\n",
       " 'happened': 417,\n",
       " 'unknown': 418,\n",
       " 'beginning': 419,\n",
       " 'different': 420,\n",
       " 'going': 421,\n",
       " 'morning': 422,\n",
       " 'timidly': 423,\n",
       " 'use': 424,\n",
       " 'yesterday': 425,\n",
       " 'another': 426,\n",
       " 'upon': 427,\n",
       " 'anxious': 428,\n",
       " 'yes': 429,\n",
       " 'during': 430,\n",
       " 'greatest': 431,\n",
       " 'known': 432,\n",
       " 'loss': 433,\n",
       " 'terrible': 434,\n",
       " 'undergo': 435,\n",
       " 'year': 436,\n",
       " 'bottom': 437,\n",
       " 'country': 438,\n",
       " 'covered': 439,\n",
       " 'four': 440,\n",
       " 'gloom': 441,\n",
       " 'hill': 442,\n",
       " 'its': 443,\n",
       " 'passed': 444,\n",
       " 'pieces': 445,\n",
       " 'quadlings': 446,\n",
       " 'rest': 447,\n",
       " 'safety': 448,\n",
       " 'steep': 449,\n",
       " 'foot': 450,\n",
       " 'standing': 451,\n",
       " 'sneezing': 452,\n",
       " 'bed': 453,\n",
       " 'door': 454,\n",
       " 'heels': 455,\n",
       " 'opened': 456,\n",
       " 'ran': 457,\n",
       " 'sprang': 458,\n",
       " 'toto': 459,\n",
       " 'long': 460,\n",
       " 'sister': 461,\n",
       " 'sleep': 462,\n",
       " 'breath': 463,\n",
       " 'caterpillar': 464,\n",
       " 'curious': 465,\n",
       " 'drew': 466,\n",
       " 'father': 467,\n",
       " 'listeners': 468,\n",
       " 'mock': 469,\n",
       " 'perfectly': 470,\n",
       " 'quiet': 471,\n",
       " 'repeating': 472,\n",
       " 'turtle': 473,\n",
       " 'william': 474,\n",
       " 'calling': 475,\n",
       " 'east': 476,\n",
       " 'possibly': 477,\n",
       " 'saying': 478,\n",
       " 'sorceress': 479,\n",
       " 'woman': 480,\n",
       " 'who': 481,\n",
       " 'been': 482,\n",
       " 'clothes': 483,\n",
       " 'clown': 484,\n",
       " 'completely': 485,\n",
       " 'every': 486,\n",
       " 'indeed': 487,\n",
       " 'jolly': 488,\n",
       " 'many': 489,\n",
       " 'mended': 490,\n",
       " 'places': 491,\n",
       " 'plainly': 492,\n",
       " 'red': 493,\n",
       " 'showing': 494,\n",
       " 'spite': 495,\n",
       " 'toward': 496,\n",
       " 'walking': 497,\n",
       " 'yellow': 498,\n",
       " 'exactly': 499,\n",
       " 'giving': 500,\n",
       " 'himself': 501,\n",
       " 'left': 502,\n",
       " 'lion': 503,\n",
       " 'smiled': 504,\n",
       " 'success': 505,\n",
       " 'wanted': 506,\n",
       " 'just': 507,\n",
       " 'looks': 508,\n",
       " 'baby': 509,\n",
       " 'believed': 510,\n",
       " 'bells': 511,\n",
       " 'boy': 512,\n",
       " 'busy': 513,\n",
       " 'cattle': 514,\n",
       " 'change': 515,\n",
       " 'clamour': 516,\n",
       " 'closed': 517,\n",
       " 'confused': 518,\n",
       " 'cries': 519,\n",
       " 'distance': 520,\n",
       " 'dull': 521,\n",
       " 'eyes': 522,\n",
       " 'farm': 523,\n",
       " 'half': 524,\n",
       " 'heavy': 525,\n",
       " 'knew': 526,\n",
       " 'lowing': 527,\n",
       " 'noises': 528,\n",
       " 'place': 529,\n",
       " 'pool': 530,\n",
       " 'rattling': 531,\n",
       " 'reality': 532,\n",
       " 'reeds': 533,\n",
       " 'rippling': 534,\n",
       " 'rustling': 535,\n",
       " 'sheep': 536,\n",
       " 'shepherd': 537,\n",
       " 'shriek': 538,\n",
       " 'shrill': 539,\n",
       " 'sneeze': 540,\n",
       " 'sobs': 541,\n",
       " 'teacups': 542,\n",
       " 'though': 543,\n",
       " 'thy': 544,\n",
       " 'tinkling': 545,\n",
       " 'waving': 546,\n",
       " 'while': 547,\n",
       " 'wonderland': 548,\n",
       " 'retorted': 549,\n",
       " 'tried': 550,\n",
       " 'far': 551,\n",
       " 'pleased': 552,\n",
       " 'bread': 553,\n",
       " 'crumbs': 554,\n",
       " 'grumbled': 555,\n",
       " 'hatter': 556,\n",
       " 'knife': 557,\n",
       " 'put': 558,\n",
       " 'shouldn': 559,\n",
       " 'asleep': 560,\n",
       " 'fast': 561,\n",
       " 'fell': 562,\n",
       " 'forgot': 563,\n",
       " 'poppies': 564,\n",
       " 'where': 565,\n",
       " 'feeling': 566,\n",
       " 'ann': 567,\n",
       " 'doing': 568,\n",
       " 'hunting': 569,\n",
       " 'mary': 570,\n",
       " 'noticed': 571,\n",
       " 'tone': 572,\n",
       " 'we': 573,\n",
       " 'axe': 574,\n",
       " 'friend': 575,\n",
       " 'carried': 576,\n",
       " 'everything': 577,\n",
       " 'balloon': 578,\n",
       " 'matters': 579,\n",
       " 'talked': 580,\n",
       " 'growl': 581,\n",
       " 'tail': 582,\n",
       " 'wag': 583,\n",
       " 'help': 584,\n",
       " 'believe': 585,\n",
       " 'making': 586,\n",
       " 'hold': 587,\n",
       " 'tongue': 588,\n",
       " 'friendly': 589,\n",
       " 'munchkins': 590,\n",
       " 'pass': 591,\n",
       " 'people': 592,\n",
       " 'seem': 593,\n",
       " 'unable': 594,\n",
       " 'gates': 595,\n",
       " 'guardian': 596,\n",
       " 'kalidahs': 597,\n",
       " 'terribly': 598,\n",
       " 'jurors': 599,\n",
       " 'shoulders': 600,\n",
       " 'stupid': 601,\n",
       " 'writing': 602,\n",
       " 'although': 603,\n",
       " 'city': 604,\n",
       " 'emerald': 605,\n",
       " 'ruler': 606,\n",
       " 'box': 607,\n",
       " 'court': 608,\n",
       " 'even': 609,\n",
       " 'guessed': 610,\n",
       " 'hand': 611,\n",
       " 'near': 612,\n",
       " 'pepper': 613,\n",
       " 'beautiful': 614,\n",
       " 'has': 615,\n",
       " 'living': 616,\n",
       " 'permitted': 617,\n",
       " 'times': 618,\n",
       " 'became': 619,\n",
       " 'care': 620,\n",
       " 'died': 621,\n",
       " 'grew': 622,\n",
       " 'lived': 623,\n",
       " 'mother': 624,\n",
       " 'woodchopper': 625,\n",
       " 'beau': 626,\n",
       " 'oop': 627,\n",
       " 'ootiful': 628,\n",
       " 'soo': 629,\n",
       " 'dish': 630,\n",
       " 'heads': 631,\n",
       " 'higher': 632,\n",
       " 'smooth': 633,\n",
       " 'surface': 634,\n",
       " 'than': 635,\n",
       " 'courage': 636,\n",
       " 'cry': 637,\n",
       " 'fright': 638,\n",
       " 'gave': 639,\n",
       " 'also': 640,\n",
       " 'having': 641,\n",
       " 'everyone': 642,\n",
       " 'fooled': 643,\n",
       " 'argument': 644,\n",
       " 'done': 645,\n",
       " 'everybody': 646,\n",
       " 'executed': 647,\n",
       " 'less': 648,\n",
       " 'round': 649,\n",
       " 'wasn': 650,\n",
       " 'cat': 651,\n",
       " 'enough': 652,\n",
       " 're': 653,\n",
       " 'walk': 654,\n",
       " 'brother': 655,\n",
       " 'grammar': 656,\n",
       " 'latin': 657,\n",
       " 'mouse': 658,\n",
       " 'remembered': 659,\n",
       " 'speaking': 660,\n",
       " 'added': 661,\n",
       " 'hear': 662,\n",
       " 'let': 663,\n",
       " 'beyond': 664,\n",
       " 'powers': 665,\n",
       " 'quite': 666,\n",
       " 'thinking': 667,\n",
       " 'aunt': 668,\n",
       " 'em': 669,\n",
       " 'mantel': 670,\n",
       " 'stand': 671,\n",
       " 'explain': 672,\n",
       " 'yourself': 673,\n",
       " 'carrier': 674,\n",
       " 'feet': 675,\n",
       " 'own': 676,\n",
       " 'presents': 677,\n",
       " 'sending': 678,\n",
       " 'delightful': 679,\n",
       " 'hate': 680,\n",
       " 'history': 681,\n",
       " 'offended': 682,\n",
       " 'promised': 683,\n",
       " 'whisper': 684,\n",
       " 'certainly': 685,\n",
       " 'constant': 686,\n",
       " 'crash': 687,\n",
       " 'extraordinary': 688,\n",
       " 'howling': 689,\n",
       " 'kettle': 690,\n",
       " 'most': 691,\n",
       " 'noise': 692,\n",
       " 'within': 693,\n",
       " 'command': 694,\n",
       " 'still': 695,\n",
       " 'hookah': 696,\n",
       " 'itself': 697,\n",
       " 'minute': 698,\n",
       " 'mouth': 699,\n",
       " 'shook': 700,\n",
       " 'twice': 701,\n",
       " 'yawned': 702,\n",
       " 'curiously': 703,\n",
       " 'entered': 704,\n",
       " 'face': 705,\n",
       " 'look': 706,\n",
       " 'whispered': 707,\n",
       " 'eagerly': 708,\n",
       " 'executioner': 709,\n",
       " 'fetch': 710,\n",
       " 'king': 711,\n",
       " 'myself': 712,\n",
       " 'cook': 713,\n",
       " 'joined': 714,\n",
       " 'accident': 715,\n",
       " 'diligently': 716,\n",
       " 'gazing': 717,\n",
       " 'handed': 718,\n",
       " 'jury': 719,\n",
       " 'lizard': 720,\n",
       " 'overcome': 721,\n",
       " 'pencils': 722,\n",
       " 'recovered': 723,\n",
       " 'set': 724,\n",
       " 'shock': 725,\n",
       " 'sit': 726,\n",
       " 'slates': 727,\n",
       " 'upset': 728,\n",
       " 'write': 729,\n",
       " 'call': 730,\n",
       " 'carefully': 731,\n",
       " 'dry': 732,\n",
       " 'leave': 733,\n",
       " 'listened': 734,\n",
       " 'understand': 735,\n",
       " 'wish': 736,\n",
       " 'dreadfully': 737,\n",
       " 'handsome': 738,\n",
       " 'pig': 739,\n",
       " 'ugly': 740,\n",
       " 'cross': 741,\n",
       " 'mouths': 742,\n",
       " 'tails': 743,\n",
       " 'mind': 744,\n",
       " 'uncomfortable': 745,\n",
       " 'ah': 746,\n",
       " 'frightened': 747,\n",
       " 'motions': 748,\n",
       " 'relieve': 749,\n",
       " 'boots': 750,\n",
       " 'deep': 751,\n",
       " 'sea': 752,\n",
       " 'under': 753,\n",
       " 'whiting': 754,\n",
       " 'shouted': 755,\n",
       " 'anybody': 756,\n",
       " 'eating': 757,\n",
       " 'flying': 758,\n",
       " 'free': 759,\n",
       " 'fruit': 760,\n",
       " 'happily': 761,\n",
       " 'master': 762,\n",
       " 'nuts': 763,\n",
       " 'tree': 764,\n",
       " 'without': 765,\n",
       " 'center': 766,\n",
       " 'exact': 767,\n",
       " 'house': 768,\n",
       " 'north': 769,\n",
       " 'south': 770,\n",
       " 'winds': 771,\n",
       " 'doorway': 772,\n",
       " 'politeness': 773,\n",
       " 'spot': 774,\n",
       " 'stupidly': 775,\n",
       " 'wait': 776,\n",
       " 'wasted': 777,\n",
       " 'groaning': 778,\n",
       " 'clear': 779,\n",
       " 'cool': 780,\n",
       " 'drink': 781,\n",
       " 'emeralds': 782,\n",
       " 'helped': 783,\n",
       " 'journey': 784,\n",
       " 'ready': 785,\n",
       " 'barrowful': 786,\n",
       " 'may': 787,\n",
       " 'arms': 788,\n",
       " 'forehead': 789,\n",
       " 'grinning': 790,\n",
       " 'hairy': 791,\n",
       " 'kiss': 792,\n",
       " 'mark': 793,\n",
       " 'motioning': 794,\n",
       " 'others': 795,\n",
       " 'short': 796,\n",
       " 'stopped': 797,\n",
       " 'stretched': 798,\n",
       " 'touch': 799,\n",
       " 'gloves': 800,\n",
       " 'hands': 801,\n",
       " 'kid': 802,\n",
       " 'talking': 803,\n",
       " 'white': 804,\n",
       " 'cap': 805,\n",
       " 'kingdom': 806,\n",
       " 'present': 807,\n",
       " 'princess': 808,\n",
       " 'quelala': 809,\n",
       " 'wedding': 810,\n",
       " 'lesson': 811,\n",
       " 'serve': 812,\n",
       " 'step': 813,\n",
       " 'farmer': 814,\n",
       " 'munchkin': 815,\n",
       " 'certain': 816,\n",
       " 'fly': 817,\n",
       " 'along': 818,\n",
       " 'de': 819,\n",
       " 'friends': 820,\n",
       " 'happy': 821,\n",
       " 'hugged': 822,\n",
       " 'ri': 823,\n",
       " 'sang': 824,\n",
       " 'tol': 825,\n",
       " 'float': 826,\n",
       " 'remarked': 827,\n",
       " 'bottle': 828,\n",
       " 'fan': 829,\n",
       " 'hoped': 830,\n",
       " 'pair': 831,\n",
       " 'pairs': 832,\n",
       " 'table': 833,\n",
       " 'tidy': 834,\n",
       " 'tiny': 835,\n",
       " 'question': 836,\n",
       " 'darkness': 837,\n",
       " 'faded': 838,\n",
       " 'hour': 839,\n",
       " 'light': 840,\n",
       " 'stumbling': 841,\n",
       " 'themselves': 842,\n",
       " 'butter': 843,\n",
       " 'piece': 844,\n",
       " 'teacup': 845,\n",
       " 'arts': 846,\n",
       " 'bar': 847,\n",
       " 'floor': 848,\n",
       " 'human': 849,\n",
       " 'invisible': 850,\n",
       " 'iron': 851,\n",
       " 'kitchen': 852,\n",
       " 'middle': 853,\n",
       " 'placed': 854,\n",
       " 'smoking': 855,\n",
       " 'calmly': 856,\n",
       " 'school': 857,\n",
       " 'sobbing': 858,\n",
       " 'ears': 859,\n",
       " 'groan': 860,\n",
       " 'reached': 861,\n",
       " 'sound': 862,\n",
       " 'continued': 863,\n",
       " 'highest': 864,\n",
       " 'needs': 865,\n",
       " 'pigeon': 866,\n",
       " 'raising': 867,\n",
       " 'sky': 868,\n",
       " 'wood': 869,\n",
       " 'wriggling': 870,\n",
       " 'appeared': 871,\n",
       " 'afford': 872,\n",
       " 'better': 873,\n",
       " 'crops': 874,\n",
       " 'dreadful': 875,\n",
       " 'henry': 876,\n",
       " 'mourning': 877,\n",
       " 'surely': 878,\n",
       " 'uncle': 879,\n",
       " 'deadly': 880,\n",
       " 'flower': 881,\n",
       " 'run': 882,\n",
       " 'pile': 883,\n",
       " 'shaggy': 884,\n",
       " 'wolves': 885,\n",
       " 'interested': 886,\n",
       " 'marble': 887,\n",
       " 'joints': 888,\n",
       " 'oil': 889,\n",
       " 'growing': 890,\n",
       " 'saved': 891,\n",
       " 'surroundings': 892,\n",
       " 'hours': 893,\n",
       " 'lessons': 894,\n",
       " 'bucket': 895,\n",
       " 'melted': 896,\n",
       " 'mess': 897,\n",
       " 'seeing': 898,\n",
       " 'threw': 899,\n",
       " 'belonged': 900,\n",
       " 'charm': 901,\n",
       " 'fear': 902,\n",
       " 'tremble': 903,\n",
       " 'bringing': 904,\n",
       " 'finished': 905,\n",
       " 'hadn': 906,\n",
       " 'majesty': 907,\n",
       " 'tea': 908,\n",
       " 'favor': 909,\n",
       " 'grateful': 910,\n",
       " 'draw': 911,\n",
       " 'eh': 912,\n",
       " 'treacle': 913,\n",
       " 'asking': 914,\n",
       " 'crowded': 915,\n",
       " 'panting': 916,\n",
       " 'pray': 917,\n",
       " 'speak': 918,\n",
       " 'don': 919,\n",
       " 'longer': 920,\n",
       " 'trouble': 921,\n",
       " 'finish': 922,\n",
       " 'list': 923,\n",
       " 'reading': 924,\n",
       " 'singers': 925,\n",
       " 'talk': 926,\n",
       " 'chin': 927,\n",
       " 'height': 928,\n",
       " 'keeping': 929,\n",
       " 'secondly': 930,\n",
       " 'sharp': 931,\n",
       " 'shoulder': 932,\n",
       " 'uncomfortably': 933,\n",
       " 'either': 934,\n",
       " 'key': 935,\n",
       " 'large': 936,\n",
       " 'locks': 937,\n",
       " 'rate': 938,\n",
       " 'small': 939,\n",
       " 'always': 940,\n",
       " 'between': 941,\n",
       " 'sigh': 942,\n",
       " 'wash': 943,\n",
       " 'whiles': 944,\n",
       " 'confidence': 945,\n",
       " 'need': 946,\n",
       " 'beast': 947,\n",
       " 'fallen': 948,\n",
       " 'fields': 949,\n",
       " 'flowers': 950,\n",
       " 'huge': 951,\n",
       " 'poppy': 952,\n",
       " 'spread': 953,\n",
       " 'strong': 954,\n",
       " 'sweet': 955,\n",
       " 'become': 956,\n",
       " 'dominions': 957,\n",
       " 'instead': 958,\n",
       " 'praying': 959,\n",
       " 'therefore': 960,\n",
       " 'destroying': 961,\n",
       " 'news': 962,\n",
       " 'reply': 963,\n",
       " 'soldier': 964,\n",
       " 'straight': 965,\n",
       " 'bright': 966,\n",
       " 'manner': 967,\n",
       " 'sparkle': 968,\n",
       " 'allow': 969,\n",
       " 'cowardly': 970,\n",
       " 'easily': 971,\n",
       " 'scare': 972,\n",
       " 'seems': 973,\n",
       " 'creep': 974,\n",
       " 'eat': 975,\n",
       " 'garden': 976,\n",
       " 'happens': 977,\n",
       " 'larger': 978,\n",
       " 'reach': 979,\n",
       " 'smaller': 980,\n",
       " 'felt': 981,\n",
       " 'gravely': 982,\n",
       " 'irritated': 983,\n",
       " 'ought': 984,\n",
       " 'remarks': 985,\n",
       " 'begin': 986,\n",
       " 'stop': 987,\n",
       " 'best': 988,\n",
       " 'dangers': 989,\n",
       " 'glinda': 990,\n",
       " 'travel': 991,\n",
       " 'blow': 992,\n",
       " 'claws': 993,\n",
       " 'edge': 994,\n",
       " 'paw': 995,\n",
       " 'road': 996,\n",
       " 'spinning': 997,\n",
       " 'struck': 998,\n",
       " 'chorus': 999,\n",
       " ...}"
      ]
     },
     "execution_count": 35,
     "metadata": {},
     "output_type": "execute_result"
    }
   ],
   "source": [
    "dictionary.token2id"
   ]
  },
  {
   "cell_type": "code",
   "execution_count": 36,
   "metadata": {
    "colab": {
     "base_uri": "https://localhost:8080/"
    },
    "id": "B2R6GIb0PIo5",
    "outputId": "084c8d09-ff4b-4989-d033-16cf4a1a3572"
   },
   "outputs": [
    {
     "data": {
      "text/plain": [
       "['all', 'and', 'at', 'away', 'began']"
      ]
     },
     "execution_count": 36,
     "metadata": {},
     "output_type": "execute_result"
    }
   ],
   "source": [
    "vocab = list(dictionary.token2id.keys())\n",
    "vocab[:5]"
   ]
  },
  {
   "cell_type": "code",
   "execution_count": 37,
   "metadata": {
    "colab": {
     "base_uri": "https://localhost:8080/"
    },
    "id": "MaZdrWZDPIo5",
    "outputId": "2a945f83-17b7-44ec-8b83-09c46b975c16"
   },
   "outputs": [
    {
     "data": {
      "text/plain": [
       "{15: 369,\n",
       " 17: 3718,\n",
       " 23: 138,\n",
       " 21: 102,\n",
       " 2: 374,\n",
       " 13: 79,\n",
       " 18: 1470,\n",
       " 19: 32,\n",
       " 1: 2026,\n",
       " 4: 70,\n",
       " 24: 24,\n",
       " 8: 460,\n",
       " 16: 49,\n",
       " 11: 101,\n",
       " 20: 9,\n",
       " 14: 189,\n",
       " 12: 1099,\n",
       " 10: 1,\n",
       " 7: 134,\n",
       " 22: 95,\n",
       " 6: 7,\n",
       " 3: 72,\n",
       " 0: 339,\n",
       " 9: 10,\n",
       " 5: 11,\n",
       " 25: 29,\n",
       " 33: 717,\n",
       " 30: 7,\n",
       " 29: 21,\n",
       " 28: 32,\n",
       " 26: 194,\n",
       " 27: 10,\n",
       " 31: 63,\n",
       " 32: 109,\n",
       " 35: 110,\n",
       " 36: 80,\n",
       " 34: 19,\n",
       " 41: 165,\n",
       " 37: 149,\n",
       " 43: 8,\n",
       " 42: 613,\n",
       " 38: 208,\n",
       " 39: 63,\n",
       " 40: 5,\n",
       " 44: 310,\n",
       " 46: 4,\n",
       " 45: 28,\n",
       " 59: 765,\n",
       " 62: 688,\n",
       " 55: 4,\n",
       " 61: 267,\n",
       " 47: 120,\n",
       " 49: 467,\n",
       " 60: 24,\n",
       " 50: 377,\n",
       " 56: 1,\n",
       " 57: 44,\n",
       " 53: 6,\n",
       " 52: 12,\n",
       " 58: 4,\n",
       " 48: 22,\n",
       " 51: 2,\n",
       " 54: 99,\n",
       " 66: 360,\n",
       " 65: 11,\n",
       " 67: 522,\n",
       " 64: 23,\n",
       " 68: 10,\n",
       " 63: 119,\n",
       " 69: 217,\n",
       " 70: 94,\n",
       " 78: 73,\n",
       " 79: 30,\n",
       " 75: 99,\n",
       " 72: 115,\n",
       " 77: 36,\n",
       " 80: 362,\n",
       " 73: 255,\n",
       " 76: 675,\n",
       " 74: 3,\n",
       " 71: 140,\n",
       " 83: 184,\n",
       " 82: 86,\n",
       " 85: 5,\n",
       " 84: 156,\n",
       " 81: 9,\n",
       " 87: 99,\n",
       " 86: 73,\n",
       " 99: 66,\n",
       " 93: 3,\n",
       " 105: 11,\n",
       " 89: 3,\n",
       " 100: 82,\n",
       " 88: 1,\n",
       " 109: 249,\n",
       " 102: 3,\n",
       " 104: 2,\n",
       " 94: 26,\n",
       " 98: 33,\n",
       " 108: 457,\n",
       " 103: 58,\n",
       " 95: 10,\n",
       " 92: 9,\n",
       " 97: 2,\n",
       " 101: 3,\n",
       " 106: 569,\n",
       " 91: 1,\n",
       " 110: 160,\n",
       " 90: 2,\n",
       " 107: 125,\n",
       " 96: 8,\n",
       " 112: 39,\n",
       " 113: 23,\n",
       " 117: 184,\n",
       " 114: 6,\n",
       " 119: 123,\n",
       " 123: 28,\n",
       " 120: 10,\n",
       " 111: 79,\n",
       " 115: 14,\n",
       " 121: 19,\n",
       " 122: 196,\n",
       " 116: 81,\n",
       " 118: 64,\n",
       " 128: 122,\n",
       " 125: 294,\n",
       " 127: 105,\n",
       " 124: 89,\n",
       " 126: 106,\n",
       " 130: 20,\n",
       " 135: 7,\n",
       " 134: 27,\n",
       " 131: 89,\n",
       " 136: 44,\n",
       " 133: 91,\n",
       " 132: 20,\n",
       " 129: 1,\n",
       " 142: 19,\n",
       " 139: 12,\n",
       " 143: 24,\n",
       " 140: 9,\n",
       " 141: 4,\n",
       " 137: 159,\n",
       " 138: 7,\n",
       " 150: 173,\n",
       " 145: 9,\n",
       " 152: 78,\n",
       " 146: 23,\n",
       " 149: 4,\n",
       " 148: 2,\n",
       " 151: 6,\n",
       " 147: 256,\n",
       " 144: 47,\n",
       " 155: 13,\n",
       " 158: 794,\n",
       " 157: 116,\n",
       " 163: 28,\n",
       " 159: 9,\n",
       " 167: 23,\n",
       " 153: 6,\n",
       " 166: 21,\n",
       " 160: 31,\n",
       " 156: 19,\n",
       " 164: 52,\n",
       " 161: 14,\n",
       " 165: 9,\n",
       " 162: 36,\n",
       " 154: 20,\n",
       " 177: 46,\n",
       " 183: 5,\n",
       " 175: 14,\n",
       " 180: 26,\n",
       " 182: 102,\n",
       " 179: 1,\n",
       " 174: 54,\n",
       " 170: 2,\n",
       " 168: 75,\n",
       " 172: 2,\n",
       " 178: 279,\n",
       " 173: 37,\n",
       " 176: 17,\n",
       " 181: 183,\n",
       " 169: 2,\n",
       " 171: 2,\n",
       " 190: 19,\n",
       " 186: 21,\n",
       " 185: 9,\n",
       " 195: 104,\n",
       " 194: 1,\n",
       " 192: 10,\n",
       " 184: 92,\n",
       " 191: 39,\n",
       " 188: 157,\n",
       " 193: 65,\n",
       " 187: 160,\n",
       " 189: 53,\n",
       " 198: 173,\n",
       " 196: 36,\n",
       " 197: 84,\n",
       " 206: 19,\n",
       " 199: 2,\n",
       " 204: 1,\n",
       " 202: 35,\n",
       " 201: 14,\n",
       " 203: 3,\n",
       " 200: 2,\n",
       " 205: 22,\n",
       " 208: 51,\n",
       " 207: 11,\n",
       " 210: 17,\n",
       " 209: 35,\n",
       " 214: 42,\n",
       " 211: 39,\n",
       " 213: 23,\n",
       " 212: 128,\n",
       " 217: 381,\n",
       " 219: 191,\n",
       " 220: 13,\n",
       " 218: 57,\n",
       " 215: 31,\n",
       " 216: 2,\n",
       " 221: 4,\n",
       " 222: 68,\n",
       " 223: 1,\n",
       " 224: 1,\n",
       " 233: 41,\n",
       " 229: 8,\n",
       " 230: 24,\n",
       " 226: 9,\n",
       " 225: 26,\n",
       " 231: 304,\n",
       " 234: 105,\n",
       " 232: 21,\n",
       " 228: 22,\n",
       " 235: 10,\n",
       " 227: 2,\n",
       " 237: 3,\n",
       " 236: 51,\n",
       " 238: 15,\n",
       " 244: 180,\n",
       " 243: 12,\n",
       " 240: 35,\n",
       " 241: 2,\n",
       " 242: 3,\n",
       " 239: 24,\n",
       " 256: 48,\n",
       " 251: 212,\n",
       " 248: 81,\n",
       " 245: 39,\n",
       " 253: 8,\n",
       " 250: 59,\n",
       " 258: 165,\n",
       " 255: 8,\n",
       " 249: 67,\n",
       " 257: 25,\n",
       " 254: 7,\n",
       " 247: 14,\n",
       " 252: 70,\n",
       " 246: 32,\n",
       " 259: 4,\n",
       " 260: 51,\n",
       " 262: 18,\n",
       " 261: 30,\n",
       " 265: 64,\n",
       " 264: 2,\n",
       " 263: 55,\n",
       " 266: 1,\n",
       " 269: 7,\n",
       " 267: 8,\n",
       " 268: 43,\n",
       " 273: 293,\n",
       " 271: 119,\n",
       " 276: 1,\n",
       " 274: 6,\n",
       " 272: 99,\n",
       " 270: 19,\n",
       " 275: 4,\n",
       " 277: 21,\n",
       " 281: 17,\n",
       " 279: 17,\n",
       " 280: 37,\n",
       " 278: 1,\n",
       " 283: 15,\n",
       " 286: 3,\n",
       " 285: 8,\n",
       " 291: 100,\n",
       " 289: 3,\n",
       " 293: 17,\n",
       " 284: 17,\n",
       " 290: 14,\n",
       " 282: 4,\n",
       " 287: 18,\n",
       " 292: 36,\n",
       " 288: 19,\n",
       " 294: 28,\n",
       " 297: 179,\n",
       " 296: 146,\n",
       " 295: 13,\n",
       " 302: 94,\n",
       " 304: 69,\n",
       " 299: 2,\n",
       " 303: 6,\n",
       " 305: 45,\n",
       " 301: 2,\n",
       " 298: 11,\n",
       " 300: 44,\n",
       " 306: 64,\n",
       " 308: 3,\n",
       " 309: 35,\n",
       " 307: 8,\n",
       " 311: 11,\n",
       " 310: 13,\n",
       " 312: 1,\n",
       " 314: 7,\n",
       " 313: 54,\n",
       " 319: 49,\n",
       " 320: 93,\n",
       " 321: 49,\n",
       " 316: 4,\n",
       " 322: 21,\n",
       " 318: 43,\n",
       " 323: 94,\n",
       " 315: 24,\n",
       " 317: 13,\n",
       " 325: 115,\n",
       " 324: 14,\n",
       " 328: 69,\n",
       " 327: 38,\n",
       " 326: 2,\n",
       " 329: 4,\n",
       " 330: 2,\n",
       " 331: 30,\n",
       " 333: 112,\n",
       " 332: 5,\n",
       " 337: 3,\n",
       " 336: 74,\n",
       " 334: 11,\n",
       " 335: 10,\n",
       " 338: 9,\n",
       " 339: 6,\n",
       " 341: 53,\n",
       " 345: 6,\n",
       " 340: 2,\n",
       " 342: 20,\n",
       " 344: 67,\n",
       " 343: 12,\n",
       " 347: 1,\n",
       " 346: 1,\n",
       " 349: 44,\n",
       " 350: 4,\n",
       " 348: 5,\n",
       " 354: 1,\n",
       " 353: 181,\n",
       " 352: 3,\n",
       " 351: 18,\n",
       " 356: 62,\n",
       " 359: 5,\n",
       " 355: 24,\n",
       " 357: 5,\n",
       " 360: 2,\n",
       " 361: 16,\n",
       " 358: 24,\n",
       " 364: 38,\n",
       " 363: 114,\n",
       " 366: 25,\n",
       " 367: 2,\n",
       " 368: 80,\n",
       " 373: 4,\n",
       " 362: 4,\n",
       " 372: 3,\n",
       " 375: 43,\n",
       " 370: 1,\n",
       " 365: 6,\n",
       " 376: 18,\n",
       " 371: 13,\n",
       " 369: 6,\n",
       " 374: 10,\n",
       " 379: 26,\n",
       " 378: 7,\n",
       " 377: 12,\n",
       " 380: 3,\n",
       " 381: 61,\n",
       " 384: 5,\n",
       " 383: 7,\n",
       " 382: 7,\n",
       " 385: 10,\n",
       " 388: 20,\n",
       " 389: 25,\n",
       " 387: 6,\n",
       " 386: 7,\n",
       " 393: 66,\n",
       " 392: 25,\n",
       " 391: 4,\n",
       " 390: 113,\n",
       " 400: 28,\n",
       " 399: 14,\n",
       " 396: 9,\n",
       " 398: 124,\n",
       " 395: 7,\n",
       " 394: 7,\n",
       " 397: 12,\n",
       " 411: 13,\n",
       " 410: 59,\n",
       " 401: 2,\n",
       " 404: 3,\n",
       " 403: 10,\n",
       " 406: 55,\n",
       " 407: 6,\n",
       " 402: 11,\n",
       " 409: 2,\n",
       " 405: 38,\n",
       " 408: 5,\n",
       " 412: 40,\n",
       " 413: 4,\n",
       " 414: 5,\n",
       " 415: 19,\n",
       " 416: 3,\n",
       " 417: 13,\n",
       " 418: 1,\n",
       " 419: 13,\n",
       " 422: 26,\n",
       " 423: 9,\n",
       " 424: 26,\n",
       " 421: 44,\n",
       " 425: 4,\n",
       " 420: 9,\n",
       " 426: 38,\n",
       " 427: 85,\n",
       " 429: 26,\n",
       " 428: 8,\n",
       " 434: 21,\n",
       " 435: 2,\n",
       " 430: 5,\n",
       " 436: 5,\n",
       " 431: 6,\n",
       " 433: 3,\n",
       " 432: 6,\n",
       " 438: 58,\n",
       " 446: 9,\n",
       " 440: 20,\n",
       " 444: 18,\n",
       " 447: 24,\n",
       " 448: 1,\n",
       " 443: 72,\n",
       " 441: 1,\n",
       " 449: 2,\n",
       " 442: 10,\n",
       " 439: 10,\n",
       " 437: 11,\n",
       " 445: 13,\n",
       " 451: 12,\n",
       " 450: 15,\n",
       " 452: 5,\n",
       " 458: 3,\n",
       " 453: 18,\n",
       " 459: 68,\n",
       " 455: 3,\n",
       " 457: 28,\n",
       " 456: 19,\n",
       " 454: 44,\n",
       " 461: 8,\n",
       " 460: 75,\n",
       " 462: 17,\n",
       " 468: 1,\n",
       " 470: 7,\n",
       " 471: 4,\n",
       " 472: 3,\n",
       " 467: 6,\n",
       " 474: 4,\n",
       " 464: 23,\n",
       " 469: 47,\n",
       " 473: 50,\n",
       " 466: 7,\n",
       " 463: 5,\n",
       " 465: 19,\n",
       " 480: 30,\n",
       " 477: 4,\n",
       " 475: 3,\n",
       " 479: 3,\n",
       " 478: 15,\n",
       " 476: 15,\n",
       " 481: 144,\n",
       " 487: 29,\n",
       " 488: 1,\n",
       " 484: 3,\n",
       " 497: 17,\n",
       " 496: 17,\n",
       " 495: 4,\n",
       " 483: 10,\n",
       " 493: 11,\n",
       " 498: 27,\n",
       " 485: 2,\n",
       " 486: 31,\n",
       " 494: 3,\n",
       " 492: 2,\n",
       " 482: 82,\n",
       " 490: 4,\n",
       " 489: 51,\n",
       " 491: 4,\n",
       " 502: 34,\n",
       " 501: 29,\n",
       " 504: 4,\n",
       " 505: 1,\n",
       " 500: 3,\n",
       " 503: 136,\n",
       " 499: 10,\n",
       " 506: 10,\n",
       " 508: 3,\n",
       " 507: 73,\n",
       " 517: 5,\n",
       " 522: 68,\n",
       " 524: 22,\n",
       " 510: 1,\n",
       " 548: 2,\n",
       " 543: 10,\n",
       " 526: 34,\n",
       " 515: 11,\n",
       " 521: 3,\n",
       " 532: 2,\n",
       " 535: 1,\n",
       " 530: 10,\n",
       " 534: 2,\n",
       " 546: 4,\n",
       " 533: 1,\n",
       " 531: 3,\n",
       " 542: 2,\n",
       " 545: 2,\n",
       " 536: 3,\n",
       " 511: 2,\n",
       " 539: 6,\n",
       " 519: 1,\n",
       " 537: 1,\n",
       " 512: 4,\n",
       " 540: 2,\n",
       " 509: 15,\n",
       " 538: 5,\n",
       " 544: 1,\n",
       " 528: 2,\n",
       " 518: 4,\n",
       " 516: 1,\n",
       " 513: 4,\n",
       " 523: 1,\n",
       " 547: 50,\n",
       " 527: 1,\n",
       " 514: 1,\n",
       " 520: 12,\n",
       " 529: 22,\n",
       " 525: 9,\n",
       " 541: 3,\n",
       " 550: 21,\n",
       " 549: 2,\n",
       " 552: 16,\n",
       " 551: 31,\n",
       " 554: 4,\n",
       " 556: 51,\n",
       " 555: 1,\n",
       " 559: 5,\n",
       " 558: 53,\n",
       " 553: 10,\n",
       " 557: 3,\n",
       " 563: 4,\n",
       " 565: 82,\n",
       " 562: 27,\n",
       " 564: 6,\n",
       " 561: 22,\n",
       " 560: 20,\n",
       " 566: 10,\n",
       " 571: 8,\n",
       " 569: 3,\n",
       " 572: 30,\n",
       " 570: 4,\n",
       " 567: 4,\n",
       " 568: 4,\n",
       " 573: 141,\n",
       " 574: 23,\n",
       " 575: 13,\n",
       " 577: 26,\n",
       " 576: 29,\n",
       " 578: 19,\n",
       " 580: 2,\n",
       " 579: 3,\n",
       " 581: 7,\n",
       " 583: 1,\n",
       " 582: 17,\n",
       " 584: 34,\n",
       " 586: 12,\n",
       " 585: 16,\n",
       " 587: 16,\n",
       " 588: 5,\n",
       " 592: 53,\n",
       " 593: 8,\n",
       " 589: 4,\n",
       " 590: 17,\n",
       " 594: 3,\n",
       " 591: 8,\n",
       " 596: 12,\n",
       " 595: 13,\n",
       " 598: 3,\n",
       " 597: 6,\n",
       " 600: 7,\n",
       " 599: 4,\n",
       " 602: 6,\n",
       " 601: 7,\n",
       " 606: 6,\n",
       " 605: 51,\n",
       " 604: 68,\n",
       " 603: 11,\n",
       " 613: 6,\n",
       " 607: 14,\n",
       " 611: 23,\n",
       " 610: 3,\n",
       " 609: 35,\n",
       " 608: 15,\n",
       " 612: 29,\n",
       " 618: 22,\n",
       " 614: 41,\n",
       " 617: 2,\n",
       " 616: 8,\n",
       " 615: 35,\n",
       " 622: 10,\n",
       " 619: 19,\n",
       " 625: 1,\n",
       " 621: 4,\n",
       " 620: 10,\n",
       " 624: 1,\n",
       " 623: 18,\n",
       " 626: 4,\n",
       " 628: 4,\n",
       " 629: 6,\n",
       " 627: 6,\n",
       " 633: 4,\n",
       " 634: 1,\n",
       " 630: 4,\n",
       " 632: 1,\n",
       " 635: 62,\n",
       " 631: 24,\n",
       " 636: 27,\n",
       " 639: 29,\n",
       " 637: 12,\n",
       " 638: 3,\n",
       " 640: 26,\n",
       " 641: 19,\n",
       " 643: 1,\n",
       " 642: 9,\n",
       " 644: 3,\n",
       " 650: 12,\n",
       " 645: 25,\n",
       " 648: 4,\n",
       " 646: 7,\n",
       " 647: 6,\n",
       " 649: 36,\n",
       " 653: 30,\n",
       " 651: 30,\n",
       " 654: 12,\n",
       " 652: 25,\n",
       " 660: 5,\n",
       " 658: 42,\n",
       " 659: 7,\n",
       " 655: 2,\n",
       " 657: 1,\n",
       " 656: 1,\n",
       " 661: 27,\n",
       " 663: 40,\n",
       " 662: 19,\n",
       " 666: 76,\n",
       " 664: 3,\n",
       " 665: 6,\n",
       " 667: 18,\n",
       " 671: 9,\n",
       " 668: 22,\n",
       " 669: 22,\n",
       " 670: 1,\n",
       " 672: 7,\n",
       " 673: 16,\n",
       " 674: 1,\n",
       " 678: 3,\n",
       " 677: 2,\n",
       " 676: 19,\n",
       " 675: 36,\n",
       " 679: 4,\n",
       " 683: 9,\n",
       " 681: 8,\n",
       " 680: 2,\n",
       " 684: 4,\n",
       " 682: 7,\n",
       " 685: 24,\n",
       " 691: 23,\n",
       " 688: 2,\n",
       " 692: 5,\n",
       " 693: 7,\n",
       " 686: 2,\n",
       " 689: 3,\n",
       " 687: 5,\n",
       " 690: 1,\n",
       " 695: 27,\n",
       " 694: 8,\n",
       " 698: 23,\n",
       " 696: 5,\n",
       " 699: 19,\n",
       " 702: 3,\n",
       " 701: 5,\n",
       " 700: 15,\n",
       " 697: 13,\n",
       " 704: 7,\n",
       " 703: 2,\n",
       " 707: 8,\n",
       " 706: 39,\n",
       " 705: 35,\n",
       " 710: 7,\n",
       " 709: 4,\n",
       " 712: 18,\n",
       " 711: 70,\n",
       " 708: 11,\n",
       " 713: 12,\n",
       " 714: 6,\n",
       " 719: 15,\n",
       " 723: 2,\n",
       " 725: 1,\n",
       " 728: 4,\n",
       " 727: 8,\n",
       " 722: 1,\n",
       " 718: 4,\n",
       " 724: 33,\n",
       " 716: 1,\n",
       " 729: 6,\n",
       " 715: 3,\n",
       " 720: 6,\n",
       " 721: 1,\n",
       " 726: 11,\n",
       " 717: 2,\n",
       " 734: 4,\n",
       " 731: 17,\n",
       " 735: 9,\n",
       " 736: 36,\n",
       " 733: 16,\n",
       " 732: 8,\n",
       " 730: 20,\n",
       " 737: 5,\n",
       " 740: 6,\n",
       " 738: 4,\n",
       " 739: 8,\n",
       " 741: 15,\n",
       " 743: 4,\n",
       " 742: 4,\n",
       " 745: 5,\n",
       " 744: 18,\n",
       " 746: 5,\n",
       " 747: 16,\n",
       " 748: 1,\n",
       " 749: 1,\n",
       " 750: 5,\n",
       " 753: 23,\n",
       " 752: 12,\n",
       " 751: 12,\n",
       " 754: 8,\n",
       " 755: 10,\n",
       " 759: 13,\n",
       " 761: 1,\n",
       " 758: 7,\n",
       " 764: 30,\n",
       " 757: 2,\n",
       " 763: 6,\n",
       " 760: 5,\n",
       " 765: 34,\n",
       " 756: 2,\n",
       " 762: 4,\n",
       " 769: 9,\n",
       " 770: 12,\n",
       " 771: 1,\n",
       " 768: 43,\n",
       " 767: 2,\n",
       " 766: 4,\n",
       " 773: 1,\n",
       " 777: 2,\n",
       " 775: 2,\n",
       " 774: 6,\n",
       " 772: 4,\n",
       " 776: 8,\n",
       " 778: 1,\n",
       " 783: 7,\n",
       " 781: 8,\n",
       " 780: 3,\n",
       " 779: 4,\n",
       " 785: 17,\n",
       " 784: 25,\n",
       " 782: 11,\n",
       " 786: 2,\n",
       " 787: 26,\n",
       " 791: 1,\n",
       " 788: 34,\n",
       " 798: 7,\n",
       " 790: 2,\n",
       " 793: 8,\n",
       " 792: 5,\n",
       " 789: 8,\n",
       " 797: 13,\n",
       " 796: 17,\n",
       " 794: 1,\n",
       " 795: 17,\n",
       " 799: 4,\n",
       " 801: 17,\n",
       " 804: 38,\n",
       " 802: 4,\n",
       " 800: 9,\n",
       " 803: 15,\n",
       " 805: 25,\n",
       " 810: 3,\n",
       " 807: 3,\n",
       " 809: 7,\n",
       " 808: 12,\n",
       " 806: 2,\n",
       " 812: 2,\n",
       " 811: 4,\n",
       " 813: 5,\n",
       " 815: 12,\n",
       " 814: 17,\n",
       " 817: 6,\n",
       " 816: 3,\n",
       " 820: 33,\n",
       " 821: 13,\n",
       " 822: 1,\n",
       " 818: 28,\n",
       " 824: 3,\n",
       " 825: 1,\n",
       " 819: 2,\n",
       " 823: 1,\n",
       " 826: 4,\n",
       " 827: 17,\n",
       " 834: 1,\n",
       " 833: 19,\n",
       " 830: 1,\n",
       " 829: 8,\n",
       " 832: 1,\n",
       " 835: 6,\n",
       " 831: 7,\n",
       " 828: 9,\n",
       " 836: 16,\n",
       " 839: 6,\n",
       " 840: 5,\n",
       " 838: 3,\n",
       " 842: 7,\n",
       " 841: 1,\n",
       " 837: 1,\n",
       " 845: 2,\n",
       " 844: 8,\n",
       " 843: 8,\n",
       " 854: 6,\n",
       " 847: 2,\n",
       " 851: 3,\n",
       " 853: 17,\n",
       " 852: 7,\n",
       " 848: 16,\n",
       " 846: 2,\n",
       " 850: 2,\n",
       " 849: 1,\n",
       " 855: 2,\n",
       " 856: 3,\n",
       " 858: 2,\n",
       " 857: 6,\n",
       " 860: 3,\n",
       " 861: 12,\n",
       " 859: 12,\n",
       " 862: 7,\n",
       " 864: 1,\n",
       " 869: 14,\n",
       " 863: 14,\n",
       " 866: 7,\n",
       " 867: 2,\n",
       " 865: 3,\n",
       " 870: 1,\n",
       " 868: 13,\n",
       " 871: 8,\n",
       " 878: 9,\n",
       " 875: 5,\n",
       " 877: 1,\n",
       " 874: 2,\n",
       " 873: 24,\n",
       " 879: 13,\n",
       " 876: 11,\n",
       " 872: 2,\n",
       " 882: 13,\n",
       " 880: 4,\n",
       " 881: 4,\n",
       " 883: 2,\n",
       " 884: 3,\n",
       " 885: 8,\n",
       " 886: 4,\n",
       " 887: 3,\n",
       " 889: 12,\n",
       " 888: 13,\n",
       " 891: 5,\n",
       " 890: 8,\n",
       " 892: 1,\n",
       " 893: 6,\n",
       " 894: 9,\n",
       " 898: 8,\n",
       " 896: 8,\n",
       " 895: 4,\n",
       " 899: 6,\n",
       " 897: 1,\n",
       " 903: 3,\n",
       " 902: 12,\n",
       " 901: 10,\n",
       " 900: 2,\n",
       " 907: 12,\n",
       " 904: 3,\n",
       " 906: 4,\n",
       " 905: 16,\n",
       " 908: 18,\n",
       " 910: 5,\n",
       " 909: 1,\n",
       " 911: 10,\n",
       " 913: 6,\n",
       " 912: 1,\n",
       " 915: 4,\n",
       " 916: 2,\n",
       " 914: 4,\n",
       " 917: 5,\n",
       " 918: 18,\n",
       " 919: 78,\n",
       " 921: 11,\n",
       " 920: 7,\n",
       " 922: 3,\n",
       " 924: 3,\n",
       " 923: 3,\n",
       " 925: 2,\n",
       " 926: 13,\n",
       " 929: 3,\n",
       " 930: 2,\n",
       " 928: 1,\n",
       " 927: 7,\n",
       " 932: 3,\n",
       " 933: 1,\n",
       " 931: 16,\n",
       " 934: 11,\n",
       " 937: 2,\n",
       " 936: 35,\n",
       " 935: 13,\n",
       " 939: 31,\n",
       " 938: 9,\n",
       " 942: 6,\n",
       " 940: 22,\n",
       " 943: 2,\n",
       " 941: 13,\n",
       " 944: 1,\n",
       " 946: 7,\n",
       " 945: 1,\n",
       " 950: 16,\n",
       " 954: 9,\n",
       " 951: 1,\n",
       " 947: 22,\n",
       " 948: 7,\n",
       " 952: 4,\n",
       " 955: 3,\n",
       " 953: 5,\n",
       " 949: 6,\n",
       " 960: 10,\n",
       " 959: 1,\n",
       " 958: 8,\n",
       " 956: 7,\n",
       " 957: 1,\n",
       " 964: 22,\n",
       " 962: 2,\n",
       " 965: 8,\n",
       " 961: 2,\n",
       " 963: 8,\n",
       " 966: 17,\n",
       " 968: 2,\n",
       " 967: 3,\n",
       " 973: 7,\n",
       " 970: 17,\n",
       " 969: 4,\n",
       " 972: 4,\n",
       " 971: 8,\n",
       " 975: 21,\n",
       " 978: 7,\n",
       " 979: 7,\n",
       " 980: 3,\n",
       " 974: 1,\n",
       " 976: 11,\n",
       " 977: 7,\n",
       " 981: 29,\n",
       " 983: 1,\n",
       " 985: 2,\n",
       " 982: 7,\n",
       " 984: 16,\n",
       " 986: 12,\n",
       " 987: 10,\n",
       " 989: 3,\n",
       " 988: 18,\n",
       " 991: 1,\n",
       " 990: 14,\n",
       " 992: 5,\n",
       " 995: 6,\n",
       " 997: 1,\n",
       " 994: 11,\n",
       " 996: 34,\n",
       " 998: 6,\n",
       " 993: 6,\n",
       " 999: 6,\n",
       " ...}"
      ]
     },
     "execution_count": 37,
     "metadata": {},
     "output_type": "execute_result"
    }
   ],
   "source": [
    "dictionary.cfs"
   ]
  },
  {
   "cell_type": "code",
   "execution_count": 38,
   "metadata": {
    "colab": {
     "base_uri": "https://localhost:8080/"
    },
    "id": "8f_mMaGqPIo6",
    "outputId": "8dbf3054-a09d-4166-dd87-826e286f5707"
   },
   "outputs": [
    {
     "data": {
      "text/plain": [
       "{15: 353,\n",
       " 17: 1896,\n",
       " 23: 136,\n",
       " 21: 100,\n",
       " 2: 337,\n",
       " 13: 77,\n",
       " 18: 1075,\n",
       " 19: 30,\n",
       " 1: 1303,\n",
       " 4: 69,\n",
       " 24: 23,\n",
       " 8: 359,\n",
       " 16: 48,\n",
       " 11: 99,\n",
       " 20: 9,\n",
       " 14: 183,\n",
       " 12: 829,\n",
       " 10: 1,\n",
       " 7: 131,\n",
       " 22: 91,\n",
       " 6: 7,\n",
       " 3: 71,\n",
       " 0: 314,\n",
       " 9: 10,\n",
       " 5: 11,\n",
       " 25: 26,\n",
       " 33: 551,\n",
       " 30: 7,\n",
       " 29: 21,\n",
       " 28: 32,\n",
       " 26: 180,\n",
       " 27: 10,\n",
       " 31: 60,\n",
       " 32: 109,\n",
       " 35: 110,\n",
       " 36: 79,\n",
       " 34: 19,\n",
       " 41: 156,\n",
       " 37: 139,\n",
       " 43: 8,\n",
       " 42: 603,\n",
       " 38: 195,\n",
       " 39: 61,\n",
       " 40: 5,\n",
       " 44: 301,\n",
       " 46: 4,\n",
       " 45: 28,\n",
       " 59: 507,\n",
       " 62: 545,\n",
       " 55: 4,\n",
       " 61: 236,\n",
       " 47: 118,\n",
       " 49: 331,\n",
       " 60: 24,\n",
       " 50: 366,\n",
       " 56: 1,\n",
       " 57: 44,\n",
       " 53: 6,\n",
       " 52: 12,\n",
       " 58: 4,\n",
       " 48: 21,\n",
       " 51: 2,\n",
       " 54: 73,\n",
       " 66: 311,\n",
       " 65: 11,\n",
       " 67: 376,\n",
       " 64: 22,\n",
       " 68: 10,\n",
       " 63: 114,\n",
       " 69: 215,\n",
       " 70: 91,\n",
       " 78: 73,\n",
       " 79: 30,\n",
       " 75: 98,\n",
       " 72: 115,\n",
       " 77: 36,\n",
       " 80: 317,\n",
       " 73: 240,\n",
       " 76: 577,\n",
       " 74: 2,\n",
       " 71: 136,\n",
       " 83: 179,\n",
       " 82: 85,\n",
       " 85: 5,\n",
       " 84: 136,\n",
       " 81: 8,\n",
       " 87: 99,\n",
       " 86: 67,\n",
       " 99: 64,\n",
       " 93: 3,\n",
       " 105: 10,\n",
       " 89: 3,\n",
       " 100: 79,\n",
       " 88: 1,\n",
       " 109: 213,\n",
       " 102: 3,\n",
       " 104: 2,\n",
       " 94: 26,\n",
       " 98: 31,\n",
       " 108: 350,\n",
       " 103: 58,\n",
       " 95: 10,\n",
       " 92: 9,\n",
       " 97: 2,\n",
       " 101: 3,\n",
       " 106: 510,\n",
       " 91: 1,\n",
       " 110: 144,\n",
       " 90: 2,\n",
       " 107: 113,\n",
       " 96: 7,\n",
       " 112: 37,\n",
       " 113: 21,\n",
       " 117: 171,\n",
       " 114: 6,\n",
       " 119: 120,\n",
       " 123: 28,\n",
       " 120: 10,\n",
       " 111: 78,\n",
       " 115: 14,\n",
       " 121: 19,\n",
       " 122: 185,\n",
       " 116: 79,\n",
       " 118: 60,\n",
       " 128: 121,\n",
       " 125: 289,\n",
       " 127: 101,\n",
       " 124: 81,\n",
       " 126: 104,\n",
       " 130: 20,\n",
       " 135: 7,\n",
       " 134: 27,\n",
       " 131: 85,\n",
       " 136: 43,\n",
       " 133: 88,\n",
       " 132: 20,\n",
       " 129: 1,\n",
       " 142: 17,\n",
       " 139: 12,\n",
       " 143: 23,\n",
       " 140: 9,\n",
       " 141: 4,\n",
       " 137: 151,\n",
       " 138: 7,\n",
       " 150: 173,\n",
       " 145: 9,\n",
       " 152: 78,\n",
       " 146: 23,\n",
       " 149: 4,\n",
       " 148: 2,\n",
       " 151: 3,\n",
       " 147: 206,\n",
       " 144: 44,\n",
       " 155: 13,\n",
       " 158: 603,\n",
       " 157: 109,\n",
       " 163: 27,\n",
       " 159: 9,\n",
       " 167: 23,\n",
       " 153: 6,\n",
       " 166: 21,\n",
       " 160: 30,\n",
       " 156: 18,\n",
       " 164: 51,\n",
       " 161: 14,\n",
       " 165: 9,\n",
       " 162: 36,\n",
       " 154: 20,\n",
       " 177: 46,\n",
       " 183: 5,\n",
       " 175: 14,\n",
       " 180: 26,\n",
       " 182: 99,\n",
       " 179: 1,\n",
       " 174: 52,\n",
       " 170: 2,\n",
       " 168: 73,\n",
       " 172: 2,\n",
       " 178: 260,\n",
       " 173: 36,\n",
       " 176: 16,\n",
       " 181: 177,\n",
       " 169: 2,\n",
       " 171: 2,\n",
       " 190: 19,\n",
       " 186: 21,\n",
       " 185: 9,\n",
       " 195: 102,\n",
       " 194: 1,\n",
       " 192: 10,\n",
       " 184: 91,\n",
       " 191: 38,\n",
       " 188: 143,\n",
       " 193: 62,\n",
       " 187: 157,\n",
       " 189: 51,\n",
       " 198: 163,\n",
       " 196: 33,\n",
       " 197: 84,\n",
       " 206: 19,\n",
       " 199: 2,\n",
       " 204: 1,\n",
       " 202: 35,\n",
       " 201: 13,\n",
       " 203: 3,\n",
       " 200: 2,\n",
       " 205: 22,\n",
       " 208: 50,\n",
       " 207: 10,\n",
       " 210: 17,\n",
       " 209: 35,\n",
       " 214: 39,\n",
       " 211: 39,\n",
       " 213: 23,\n",
       " 212: 122,\n",
       " 217: 351,\n",
       " 219: 169,\n",
       " 220: 13,\n",
       " 218: 52,\n",
       " 215: 31,\n",
       " 216: 2,\n",
       " 221: 4,\n",
       " 222: 68,\n",
       " 223: 1,\n",
       " 224: 1,\n",
       " 233: 40,\n",
       " 229: 8,\n",
       " 230: 20,\n",
       " 226: 9,\n",
       " 225: 26,\n",
       " 231: 271,\n",
       " 234: 104,\n",
       " 232: 21,\n",
       " 228: 21,\n",
       " 235: 10,\n",
       " 227: 2,\n",
       " 237: 3,\n",
       " 236: 51,\n",
       " 238: 15,\n",
       " 244: 166,\n",
       " 243: 12,\n",
       " 240: 33,\n",
       " 241: 2,\n",
       " 242: 3,\n",
       " 239: 24,\n",
       " 256: 48,\n",
       " 251: 189,\n",
       " 248: 80,\n",
       " 245: 39,\n",
       " 253: 8,\n",
       " 250: 53,\n",
       " 258: 157,\n",
       " 255: 8,\n",
       " 249: 66,\n",
       " 257: 24,\n",
       " 254: 7,\n",
       " 247: 14,\n",
       " 252: 70,\n",
       " 246: 32,\n",
       " 259: 4,\n",
       " 260: 47,\n",
       " 262: 18,\n",
       " 261: 30,\n",
       " 265: 59,\n",
       " 264: 2,\n",
       " 263: 55,\n",
       " 266: 1,\n",
       " 269: 7,\n",
       " 267: 8,\n",
       " 268: 41,\n",
       " 273: 261,\n",
       " 271: 115,\n",
       " 276: 1,\n",
       " 274: 6,\n",
       " 272: 92,\n",
       " 270: 19,\n",
       " 275: 4,\n",
       " 277: 20,\n",
       " 281: 17,\n",
       " 279: 17,\n",
       " 280: 35,\n",
       " 278: 1,\n",
       " 283: 15,\n",
       " 286: 3,\n",
       " 285: 8,\n",
       " 291: 95,\n",
       " 289: 3,\n",
       " 293: 17,\n",
       " 284: 17,\n",
       " 290: 14,\n",
       " 282: 3,\n",
       " 287: 18,\n",
       " 292: 33,\n",
       " 288: 18,\n",
       " 294: 28,\n",
       " 297: 174,\n",
       " 296: 142,\n",
       " 295: 13,\n",
       " 302: 91,\n",
       " 304: 68,\n",
       " 299: 2,\n",
       " 303: 6,\n",
       " 305: 45,\n",
       " 301: 2,\n",
       " 298: 11,\n",
       " 300: 43,\n",
       " 306: 63,\n",
       " 308: 3,\n",
       " 309: 34,\n",
       " 307: 8,\n",
       " 311: 11,\n",
       " 310: 12,\n",
       " 312: 1,\n",
       " 314: 7,\n",
       " 313: 50,\n",
       " 319: 49,\n",
       " 320: 81,\n",
       " 321: 48,\n",
       " 316: 4,\n",
       " 322: 21,\n",
       " 318: 43,\n",
       " 323: 89,\n",
       " 315: 24,\n",
       " 317: 13,\n",
       " 325: 111,\n",
       " 324: 14,\n",
       " 328: 69,\n",
       " 327: 36,\n",
       " 326: 2,\n",
       " 329: 3,\n",
       " 330: 2,\n",
       " 331: 26,\n",
       " 333: 110,\n",
       " 332: 5,\n",
       " 337: 3,\n",
       " 336: 70,\n",
       " 334: 11,\n",
       " 335: 10,\n",
       " 338: 9,\n",
       " 339: 6,\n",
       " 341: 52,\n",
       " 345: 6,\n",
       " 340: 2,\n",
       " 342: 20,\n",
       " 344: 62,\n",
       " 343: 9,\n",
       " 347: 1,\n",
       " 346: 1,\n",
       " 349: 44,\n",
       " 350: 4,\n",
       " 348: 5,\n",
       " 354: 1,\n",
       " 353: 159,\n",
       " 352: 3,\n",
       " 351: 17,\n",
       " 356: 62,\n",
       " 359: 5,\n",
       " 355: 24,\n",
       " 357: 5,\n",
       " 360: 2,\n",
       " 361: 16,\n",
       " 358: 24,\n",
       " 364: 37,\n",
       " 363: 110,\n",
       " 366: 24,\n",
       " 367: 2,\n",
       " 368: 80,\n",
       " 373: 4,\n",
       " 362: 4,\n",
       " 372: 3,\n",
       " 375: 42,\n",
       " 370: 1,\n",
       " 365: 6,\n",
       " 376: 17,\n",
       " 371: 11,\n",
       " 369: 6,\n",
       " 374: 10,\n",
       " 379: 20,\n",
       " 378: 7,\n",
       " 377: 12,\n",
       " 380: 3,\n",
       " 381: 58,\n",
       " 384: 4,\n",
       " 383: 7,\n",
       " 382: 7,\n",
       " 385: 10,\n",
       " 388: 20,\n",
       " 389: 23,\n",
       " 387: 6,\n",
       " 386: 7,\n",
       " 393: 66,\n",
       " 392: 24,\n",
       " 391: 4,\n",
       " 390: 107,\n",
       " 400: 28,\n",
       " 399: 14,\n",
       " 396: 9,\n",
       " 398: 123,\n",
       " 395: 7,\n",
       " 394: 7,\n",
       " 397: 12,\n",
       " 411: 13,\n",
       " 410: 57,\n",
       " 401: 2,\n",
       " 404: 3,\n",
       " 403: 10,\n",
       " 406: 55,\n",
       " 407: 6,\n",
       " 402: 11,\n",
       " 409: 2,\n",
       " 405: 38,\n",
       " 408: 5,\n",
       " 412: 40,\n",
       " 413: 4,\n",
       " 414: 5,\n",
       " 415: 19,\n",
       " 416: 3,\n",
       " 417: 13,\n",
       " 418: 1,\n",
       " 419: 13,\n",
       " 422: 26,\n",
       " 423: 9,\n",
       " 424: 26,\n",
       " 421: 42,\n",
       " 425: 4,\n",
       " 420: 9,\n",
       " 426: 38,\n",
       " 427: 81,\n",
       " 429: 26,\n",
       " 428: 8,\n",
       " 434: 21,\n",
       " 435: 2,\n",
       " 430: 5,\n",
       " 436: 5,\n",
       " 431: 6,\n",
       " 433: 2,\n",
       " 432: 6,\n",
       " 438: 56,\n",
       " 446: 9,\n",
       " 440: 17,\n",
       " 444: 18,\n",
       " 447: 24,\n",
       " 448: 1,\n",
       " 443: 59,\n",
       " 441: 1,\n",
       " 449: 2,\n",
       " 442: 9,\n",
       " 439: 10,\n",
       " 437: 11,\n",
       " 445: 13,\n",
       " 451: 12,\n",
       " 450: 15,\n",
       " 452: 5,\n",
       " 458: 3,\n",
       " 453: 16,\n",
       " 459: 66,\n",
       " 455: 3,\n",
       " 457: 28,\n",
       " 456: 19,\n",
       " 454: 43,\n",
       " 461: 5,\n",
       " 460: 73,\n",
       " 462: 15,\n",
       " 468: 1,\n",
       " 470: 7,\n",
       " 471: 4,\n",
       " 472: 3,\n",
       " 467: 6,\n",
       " 474: 4,\n",
       " 464: 21,\n",
       " 469: 47,\n",
       " 473: 49,\n",
       " 466: 7,\n",
       " 463: 5,\n",
       " 465: 19,\n",
       " 480: 30,\n",
       " 477: 4,\n",
       " 475: 3,\n",
       " 479: 3,\n",
       " 478: 15,\n",
       " 476: 15,\n",
       " 481: 139,\n",
       " 487: 29,\n",
       " 488: 1,\n",
       " 484: 3,\n",
       " 497: 17,\n",
       " 496: 17,\n",
       " 495: 4,\n",
       " 483: 10,\n",
       " 493: 11,\n",
       " 498: 27,\n",
       " 485: 2,\n",
       " 486: 31,\n",
       " 494: 3,\n",
       " 492: 2,\n",
       " 482: 78,\n",
       " 490: 4,\n",
       " 489: 50,\n",
       " 491: 4,\n",
       " 502: 34,\n",
       " 501: 28,\n",
       " 504: 4,\n",
       " 505: 1,\n",
       " 500: 3,\n",
       " 503: 134,\n",
       " 499: 10,\n",
       " 506: 10,\n",
       " 508: 3,\n",
       " 507: 72,\n",
       " 517: 5,\n",
       " 522: 67,\n",
       " 524: 20,\n",
       " 510: 1,\n",
       " 548: 2,\n",
       " 543: 10,\n",
       " 526: 33,\n",
       " 515: 9,\n",
       " 521: 3,\n",
       " 532: 2,\n",
       " 535: 1,\n",
       " 530: 10,\n",
       " 534: 2,\n",
       " 546: 3,\n",
       " 533: 1,\n",
       " 531: 3,\n",
       " 542: 2,\n",
       " 545: 2,\n",
       " 536: 3,\n",
       " 511: 2,\n",
       " 539: 6,\n",
       " 519: 1,\n",
       " 537: 1,\n",
       " 512: 4,\n",
       " 540: 2,\n",
       " 509: 15,\n",
       " 538: 5,\n",
       " 544: 1,\n",
       " 528: 2,\n",
       " 518: 4,\n",
       " 516: 1,\n",
       " 513: 4,\n",
       " 523: 1,\n",
       " 547: 50,\n",
       " 527: 1,\n",
       " 514: 1,\n",
       " 520: 12,\n",
       " 529: 21,\n",
       " 525: 9,\n",
       " 541: 3,\n",
       " 550: 19,\n",
       " 549: 2,\n",
       " 552: 16,\n",
       " 551: 29,\n",
       " 554: 3,\n",
       " 556: 51,\n",
       " 555: 1,\n",
       " 559: 5,\n",
       " 558: 53,\n",
       " 553: 10,\n",
       " 557: 3,\n",
       " 563: 4,\n",
       " 565: 82,\n",
       " 562: 26,\n",
       " 564: 5,\n",
       " 561: 22,\n",
       " 560: 20,\n",
       " 566: 10,\n",
       " 571: 8,\n",
       " 569: 3,\n",
       " 572: 30,\n",
       " 570: 4,\n",
       " 567: 4,\n",
       " 568: 4,\n",
       " 573: 120,\n",
       " 574: 21,\n",
       " 575: 13,\n",
       " 577: 26,\n",
       " 576: 29,\n",
       " 578: 19,\n",
       " 580: 2,\n",
       " 579: 3,\n",
       " 581: 7,\n",
       " 583: 1,\n",
       " 582: 16,\n",
       " 584: 33,\n",
       " 586: 12,\n",
       " 585: 16,\n",
       " 587: 16,\n",
       " 588: 5,\n",
       " 592: 53,\n",
       " 593: 8,\n",
       " 589: 4,\n",
       " 590: 17,\n",
       " 594: 3,\n",
       " 591: 8,\n",
       " 596: 12,\n",
       " 595: 13,\n",
       " 598: 3,\n",
       " 597: 6,\n",
       " 600: 7,\n",
       " 599: 4,\n",
       " 602: 6,\n",
       " 601: 7,\n",
       " 606: 6,\n",
       " 605: 51,\n",
       " 604: 67,\n",
       " 603: 11,\n",
       " 613: 6,\n",
       " 607: 14,\n",
       " 611: 21,\n",
       " 610: 3,\n",
       " 609: 34,\n",
       " 608: 14,\n",
       " 612: 29,\n",
       " 618: 20,\n",
       " 614: 40,\n",
       " 617: 2,\n",
       " 616: 8,\n",
       " 615: 34,\n",
       " 622: 10,\n",
       " 619: 19,\n",
       " 625: 1,\n",
       " 621: 4,\n",
       " 620: 10,\n",
       " 624: 1,\n",
       " 623: 18,\n",
       " 626: 4,\n",
       " 628: 4,\n",
       " 629: 6,\n",
       " 627: 6,\n",
       " 633: 4,\n",
       " 634: 1,\n",
       " 630: 4,\n",
       " 632: 1,\n",
       " 635: 60,\n",
       " 631: 23,\n",
       " 636: 25,\n",
       " 639: 26,\n",
       " 637: 12,\n",
       " 638: 3,\n",
       " 640: 26,\n",
       " 641: 19,\n",
       " 643: 1,\n",
       " 642: 9,\n",
       " 644: 3,\n",
       " 650: 12,\n",
       " 645: 25,\n",
       " 648: 4,\n",
       " 646: 7,\n",
       " 647: 6,\n",
       " 649: 36,\n",
       " 653: 28,\n",
       " 651: 29,\n",
       " 654: 12,\n",
       " 652: 25,\n",
       " 660: 5,\n",
       " 658: 37,\n",
       " 659: 7,\n",
       " 655: 2,\n",
       " 657: 1,\n",
       " 656: 1,\n",
       " 661: 27,\n",
       " 663: 40,\n",
       " 662: 19,\n",
       " 666: 72,\n",
       " 664: 3,\n",
       " 665: 6,\n",
       " 667: 18,\n",
       " 671: 9,\n",
       " 668: 22,\n",
       " 669: 21,\n",
       " 670: 1,\n",
       " 672: 7,\n",
       " 673: 16,\n",
       " 674: 1,\n",
       " 678: 3,\n",
       " 677: 2,\n",
       " 676: 19,\n",
       " 675: 35,\n",
       " 679: 4,\n",
       " 683: 9,\n",
       " 681: 8,\n",
       " 680: 2,\n",
       " 684: 4,\n",
       " 682: 7,\n",
       " 685: 24,\n",
       " 691: 23,\n",
       " 688: 2,\n",
       " 692: 5,\n",
       " 693: 7,\n",
       " 686: 2,\n",
       " 689: 3,\n",
       " 687: 5,\n",
       " 690: 1,\n",
       " 695: 26,\n",
       " 694: 8,\n",
       " 698: 23,\n",
       " 696: 5,\n",
       " 699: 19,\n",
       " 702: 3,\n",
       " 701: 5,\n",
       " 700: 15,\n",
       " 697: 11,\n",
       " 704: 7,\n",
       " 703: 2,\n",
       " 707: 8,\n",
       " 706: 38,\n",
       " 705: 34,\n",
       " 710: 7,\n",
       " 709: 4,\n",
       " 712: 18,\n",
       " 711: 67,\n",
       " 708: 11,\n",
       " 713: 11,\n",
       " 714: 6,\n",
       " 719: 14,\n",
       " 723: 2,\n",
       " 725: 1,\n",
       " 728: 4,\n",
       " 727: 8,\n",
       " 722: 1,\n",
       " 718: 4,\n",
       " 724: 33,\n",
       " 716: 1,\n",
       " 729: 6,\n",
       " 715: 3,\n",
       " 720: 6,\n",
       " 721: 1,\n",
       " 726: 11,\n",
       " 717: 2,\n",
       " 734: 4,\n",
       " 731: 17,\n",
       " 735: 9,\n",
       " 736: 36,\n",
       " 733: 16,\n",
       " 732: 8,\n",
       " 730: 19,\n",
       " 737: 5,\n",
       " 740: 6,\n",
       " 738: 4,\n",
       " 739: 8,\n",
       " 741: 15,\n",
       " 743: 4,\n",
       " 742: 4,\n",
       " 745: 5,\n",
       " 744: 18,\n",
       " 746: 5,\n",
       " 747: 16,\n",
       " 748: 1,\n",
       " 749: 1,\n",
       " 750: 5,\n",
       " 753: 23,\n",
       " 752: 12,\n",
       " 751: 12,\n",
       " 754: 8,\n",
       " 755: 10,\n",
       " 759: 13,\n",
       " 761: 1,\n",
       " 758: 7,\n",
       " 764: 28,\n",
       " 757: 2,\n",
       " 763: 6,\n",
       " 760: 5,\n",
       " 765: 33,\n",
       " 756: 2,\n",
       " 762: 4,\n",
       " 769: 9,\n",
       " 770: 12,\n",
       " 771: 1,\n",
       " 768: 41,\n",
       " 767: 2,\n",
       " 766: 4,\n",
       " 773: 1,\n",
       " 777: 2,\n",
       " 775: 2,\n",
       " 774: 6,\n",
       " 772: 4,\n",
       " 776: 8,\n",
       " 778: 1,\n",
       " 783: 7,\n",
       " 781: 8,\n",
       " 780: 3,\n",
       " 779: 4,\n",
       " 785: 17,\n",
       " 784: 25,\n",
       " 782: 11,\n",
       " 786: 2,\n",
       " 787: 26,\n",
       " 791: 1,\n",
       " 788: 33,\n",
       " 798: 7,\n",
       " 790: 2,\n",
       " 793: 8,\n",
       " 792: 5,\n",
       " 789: 8,\n",
       " 797: 13,\n",
       " 796: 17,\n",
       " 794: 1,\n",
       " 795: 17,\n",
       " 799: 4,\n",
       " 801: 17,\n",
       " 804: 36,\n",
       " 802: 4,\n",
       " 800: 8,\n",
       " 803: 15,\n",
       " 805: 25,\n",
       " 810: 3,\n",
       " 807: 3,\n",
       " 809: 7,\n",
       " 808: 12,\n",
       " 806: 2,\n",
       " 812: 2,\n",
       " 811: 4,\n",
       " 813: 5,\n",
       " 815: 12,\n",
       " 814: 16,\n",
       " 817: 6,\n",
       " 816: 3,\n",
       " 820: 33,\n",
       " 821: 13,\n",
       " 822: 1,\n",
       " 818: 28,\n",
       " 824: 3,\n",
       " 825: 1,\n",
       " 819: 1,\n",
       " 823: 1,\n",
       " 826: 4,\n",
       " 827: 17,\n",
       " 834: 1,\n",
       " 833: 18,\n",
       " 830: 1,\n",
       " 829: 7,\n",
       " 832: 1,\n",
       " 835: 6,\n",
       " 831: 7,\n",
       " 828: 8,\n",
       " 836: 16,\n",
       " 839: 6,\n",
       " 840: 5,\n",
       " 838: 3,\n",
       " 842: 7,\n",
       " 841: 1,\n",
       " 837: 1,\n",
       " 845: 2,\n",
       " 844: 8,\n",
       " 843: 8,\n",
       " 854: 6,\n",
       " 847: 2,\n",
       " 851: 2,\n",
       " 853: 17,\n",
       " 852: 7,\n",
       " 848: 16,\n",
       " 846: 2,\n",
       " 850: 2,\n",
       " 849: 1,\n",
       " 855: 2,\n",
       " 856: 3,\n",
       " 858: 2,\n",
       " 857: 5,\n",
       " 860: 3,\n",
       " 861: 12,\n",
       " 859: 12,\n",
       " 862: 7,\n",
       " 864: 1,\n",
       " 869: 14,\n",
       " 863: 14,\n",
       " 866: 7,\n",
       " 867: 2,\n",
       " 865: 3,\n",
       " 870: 1,\n",
       " 868: 13,\n",
       " 871: 8,\n",
       " 878: 9,\n",
       " 875: 5,\n",
       " 877: 1,\n",
       " 874: 2,\n",
       " 873: 24,\n",
       " 879: 13,\n",
       " 876: 11,\n",
       " 872: 2,\n",
       " 882: 13,\n",
       " 880: 4,\n",
       " 881: 4,\n",
       " 883: 2,\n",
       " 884: 3,\n",
       " 885: 8,\n",
       " 886: 4,\n",
       " 887: 3,\n",
       " 889: 10,\n",
       " 888: 13,\n",
       " 891: 4,\n",
       " 890: 8,\n",
       " 892: 1,\n",
       " 893: 6,\n",
       " 894: 9,\n",
       " 898: 8,\n",
       " 896: 8,\n",
       " 895: 4,\n",
       " 899: 6,\n",
       " 897: 1,\n",
       " 903: 3,\n",
       " 902: 12,\n",
       " 901: 10,\n",
       " 900: 2,\n",
       " 907: 12,\n",
       " 904: 3,\n",
       " 906: 4,\n",
       " 905: 16,\n",
       " 908: 16,\n",
       " 910: 5,\n",
       " 909: 1,\n",
       " 911: 8,\n",
       " 913: 5,\n",
       " 912: 1,\n",
       " 915: 4,\n",
       " 916: 2,\n",
       " 914: 4,\n",
       " 917: 5,\n",
       " 918: 18,\n",
       " 919: 74,\n",
       " 921: 11,\n",
       " 920: 7,\n",
       " 922: 3,\n",
       " 924: 3,\n",
       " 923: 3,\n",
       " 925: 2,\n",
       " 926: 13,\n",
       " 929: 3,\n",
       " 930: 2,\n",
       " 928: 1,\n",
       " 927: 6,\n",
       " 932: 3,\n",
       " 933: 1,\n",
       " 931: 16,\n",
       " 934: 11,\n",
       " 937: 2,\n",
       " 936: 34,\n",
       " 935: 13,\n",
       " 939: 31,\n",
       " 938: 9,\n",
       " 942: 6,\n",
       " 940: 22,\n",
       " 943: 2,\n",
       " 941: 13,\n",
       " 944: 1,\n",
       " 946: 7,\n",
       " 945: 1,\n",
       " 950: 15,\n",
       " 954: 9,\n",
       " 951: 1,\n",
       " 947: 22,\n",
       " 948: 7,\n",
       " 952: 4,\n",
       " 955: 3,\n",
       " 953: 5,\n",
       " 949: 6,\n",
       " 960: 10,\n",
       " 959: 1,\n",
       " 958: 8,\n",
       " 956: 7,\n",
       " 957: 1,\n",
       " 964: 22,\n",
       " 962: 2,\n",
       " 965: 8,\n",
       " 961: 2,\n",
       " 963: 8,\n",
       " 966: 17,\n",
       " 968: 2,\n",
       " 967: 3,\n",
       " 973: 7,\n",
       " 970: 17,\n",
       " 969: 4,\n",
       " 972: 4,\n",
       " 971: 8,\n",
       " 975: 20,\n",
       " 978: 7,\n",
       " 979: 7,\n",
       " 980: 3,\n",
       " 974: 1,\n",
       " 976: 11,\n",
       " 977: 7,\n",
       " 981: 29,\n",
       " 983: 1,\n",
       " 985: 2,\n",
       " 982: 7,\n",
       " 984: 15,\n",
       " 986: 12,\n",
       " 987: 10,\n",
       " 989: 3,\n",
       " 988: 18,\n",
       " 991: 1,\n",
       " 990: 13,\n",
       " 992: 5,\n",
       " 995: 5,\n",
       " 997: 1,\n",
       " 994: 11,\n",
       " 996: 32,\n",
       " 998: 6,\n",
       " 993: 6,\n",
       " 999: 6,\n",
       " ...}"
      ]
     },
     "execution_count": 38,
     "metadata": {},
     "output_type": "execute_result"
    }
   ],
   "source": [
    "dictionary.dfs"
   ]
  },
  {
   "cell_type": "code",
   "execution_count": 39,
   "metadata": {
    "colab": {
     "base_uri": "https://localhost:8080/"
    },
    "id": "D8trSPV_PIo6",
    "outputId": "fe579f3a-ab24-4f32-9216-f1a8df5cf6c7"
   },
   "outputs": [
    {
     "name": "stdout",
     "output_type": "stream",
     "text": [
      "['follow', 'the', 'white', 'rabbit']\n",
      "[53, 17, 804, 327]\n"
     ]
    }
   ],
   "source": [
    "sentence = 'follow the white rabbit'\n",
    "new_tokens = simple_preprocess(sentence)\n",
    "ids = dictionary.doc2idx(new_tokens)\n",
    "print(new_tokens)\n",
    "print(ids)"
   ]
  },
  {
   "cell_type": "code",
   "execution_count": 40,
   "metadata": {
    "id": "jTnw8JNXPIo6"
   },
   "outputs": [],
   "source": [
    "special_tokens = {'[PAD]': 0, '[UNK]': 1}\n",
    "dictionary.patch_with_special_tokens(special_tokens)"
   ]
  },
  {
   "cell_type": "code",
   "execution_count": 41,
   "metadata": {
    "id": "2y0NKpAuPIo7"
   },
   "outputs": [],
   "source": [
    "def get_rare_ids(dictionary, min_freq):\n",
    "    rare_ids = [t[0] for t in dictionary.cfs.items() if t[1] < min_freq]\n",
    "    return rare_ids"
   ]
  },
  {
   "cell_type": "code",
   "execution_count": 42,
   "metadata": {
    "id": "rO9cRL8fPIo7"
   },
   "outputs": [],
   "source": [
    "def make_vocab(sentences, folder=None, special_tokens=None, vocab_size=None, min_freq=None):\n",
    "    if folder is not None:\n",
    "        if not os.path.exists(folder):\n",
    "            os.mkdir(folder)\n",
    "\n",
    "    # tokenizes the sentences and create a Dictionary\n",
    "    tokens = [simple_preprocess(sent) for sent in sentences]\n",
    "    dictionary = corpora.Dictionary(tokens)\n",
    "    # keeps only the most frequent words (vocab size)\n",
    "    if vocab_size is not None:\n",
    "        dictionary.filter_extremes(keep_n=vocab_size)\n",
    "    # removes rare words (in case the vocab size still\n",
    "    # includes words with low frequency)\n",
    "    if min_freq is not None:\n",
    "        rare_tokens = get_rare_ids(dictionary, min_freq)\n",
    "        dictionary.filter_tokens(bad_ids=rare_tokens)\n",
    "    # gets the whole list of tokens and frequencies\n",
    "    items = dictionary.cfs.items()\n",
    "    # sorts the tokens in descending order\n",
    "    words = [dictionary[t[0]] for t in sorted(dictionary.cfs.items(), key=lambda t: -t[1])]\n",
    "    # prepends special tokens, if any\n",
    "    if special_tokens is not None:\n",
    "        to_add = []\n",
    "        for special_token in special_tokens:\n",
    "            if special_token not in words:\n",
    "                to_add.append(special_token)\n",
    "        words = to_add + words\n",
    "\n",
    "    with open(os.path.join(folder, 'vocab.txt'), 'w') as f:\n",
    "        for word in words:\n",
    "            f.write(f'{word}\\n')"
   ]
  },
  {
   "cell_type": "code",
   "execution_count": 43,
   "metadata": {
    "id": "3x1exiX0PIo7"
   },
   "outputs": [],
   "source": [
    "make_vocab(train_dataset['sentence'], 'our_vocab/', special_tokens=['[PAD]', '[UNK]', '[SEP]', '[CLS]', '[MASK]'], min_freq=2)"
   ]
  },
  {
   "cell_type": "markdown",
   "metadata": {
    "id": "7Cq5LmV6PIo7"
   },
   "source": [
    "## HugginFace's Tokenizer"
   ]
  },
  {
   "cell_type": "code",
   "execution_count": 44,
   "metadata": {
    "id": "AbW7Cd8jPIo8"
   },
   "outputs": [],
   "source": [
    "from transformers import BertTokenizer\n",
    "\n",
    "tokenizer = BertTokenizer('our_vocab/vocab.txt')"
   ]
  },
  {
   "cell_type": "code",
   "execution_count": 45,
   "metadata": {
    "colab": {
     "base_uri": "https://localhost:8080/"
    },
    "id": "nhxCrkJjPIo8",
    "outputId": "845b3613-0cf7-4261-ae0c-00e3ac1ca347"
   },
   "outputs": [
    {
     "data": {
      "text/plain": [
       "['follow', 'the', 'white', 'rabbit', '[UNK]']"
      ]
     },
     "execution_count": 45,
     "metadata": {},
     "output_type": "execute_result"
    }
   ],
   "source": [
    "new_sentence = 'follow the white rabbit neo'\n",
    "new_tokens = tokenizer.tokenize(new_sentence)\n",
    "new_tokens"
   ]
  },
  {
   "cell_type": "code",
   "execution_count": 46,
   "metadata": {
    "colab": {
     "base_uri": "https://localhost:8080/"
    },
    "id": "V6DlCKGxPIo8",
    "outputId": "67da7f20-4d9a-4b5f-ad0a-8338aa43d56c"
   },
   "outputs": [
    {
     "data": {
      "text/plain": [
       "[871, 5, 206, 202, 1]"
      ]
     },
     "execution_count": 46,
     "metadata": {},
     "output_type": "execute_result"
    }
   ],
   "source": [
    "new_ids = tokenizer.convert_tokens_to_ids(new_tokens)\n",
    "new_ids"
   ]
  },
  {
   "cell_type": "code",
   "execution_count": 47,
   "metadata": {
    "colab": {
     "base_uri": "https://localhost:8080/"
    },
    "id": "06gmmhDvPIo9",
    "outputId": "83582b16-7118-4560-b37d-27312571294e"
   },
   "outputs": [
    {
     "data": {
      "text/plain": [
       "[3, 871, 5, 206, 202, 1, 2]"
      ]
     },
     "execution_count": 47,
     "metadata": {},
     "output_type": "execute_result"
    }
   ],
   "source": [
    "new_ids = tokenizer.encode(new_sentence)\n",
    "new_ids"
   ]
  },
  {
   "cell_type": "code",
   "execution_count": 48,
   "metadata": {
    "colab": {
     "base_uri": "https://localhost:8080/"
    },
    "id": "98Ccyt_LPIo9",
    "outputId": "1f2577db-d3bc-40c3-d49a-2f69e85271ab"
   },
   "outputs": [
    {
     "data": {
      "text/plain": [
       "['[CLS]', 'follow', 'the', 'white', 'rabbit', '[UNK]', '[SEP]']"
      ]
     },
     "execution_count": 48,
     "metadata": {},
     "output_type": "execute_result"
    }
   ],
   "source": [
    "tokenizer.convert_ids_to_tokens(new_ids)"
   ]
  },
  {
   "cell_type": "code",
   "execution_count": 49,
   "metadata": {
    "colab": {
     "base_uri": "https://localhost:8080/"
    },
    "id": "yVOy3y3SPIo9",
    "outputId": "7c5d5fb6-fb62-46a0-81e7-6bf3c2502f32"
   },
   "outputs": [
    {
     "data": {
      "text/plain": [
       "[871, 5, 206, 202, 1]"
      ]
     },
     "execution_count": 49,
     "metadata": {},
     "output_type": "execute_result"
    }
   ],
   "source": [
    "tokenizer.encode(new_sentence, add_special_tokens=False)"
   ]
  },
  {
   "cell_type": "code",
   "execution_count": 50,
   "metadata": {
    "colab": {
     "base_uri": "https://localhost:8080/"
    },
    "id": "tGBDu8aoPIo9",
    "outputId": "f704d56f-62ca-4cb5-8ec2-b33269277b82"
   },
   "outputs": [
    {
     "data": {
      "text/plain": [
       "{'input_ids': tensor([[871,   5, 206, 202,   1]]), 'token_type_ids': tensor([[0, 0, 0, 0, 0]]), 'attention_mask': tensor([[1, 1, 1, 1, 1]])}"
      ]
     },
     "execution_count": 50,
     "metadata": {},
     "output_type": "execute_result"
    }
   ],
   "source": [
    "tokenizer(new_sentence, add_special_tokens=False, return_tensors='pt')"
   ]
  },
  {
   "cell_type": "code",
   "execution_count": 51,
   "metadata": {
    "colab": {
     "base_uri": "https://localhost:8080/"
    },
    "id": "VB8-t1puPIo_",
    "outputId": "3aec105b-916d-44ac-9eda-9c10a48b0d9d"
   },
   "outputs": [
    {
     "data": {
      "text/plain": [
       "{'input_ids': [3, 871, 5, 206, 202, 1, 2, 51, 44, 73, 34, 267, 45, 5, 1, 30, 2], 'token_type_ids': [0, 0, 0, 0, 0, 0, 0, 1, 1, 1, 1, 1, 1, 1, 1, 1, 1], 'attention_mask': [1, 1, 1, 1, 1, 1, 1, 1, 1, 1, 1, 1, 1, 1, 1, 1, 1]}"
      ]
     },
     "execution_count": 51,
     "metadata": {},
     "output_type": "execute_result"
    }
   ],
   "source": [
    "sentence1 = 'follow the white rabbit neo'\n",
    "sentence2 = 'no one can be told what the matrix is'\n",
    "joined_sentences = tokenizer(sentence1, sentence2)\n",
    "joined_sentences"
   ]
  },
  {
   "cell_type": "code",
   "execution_count": 52,
   "metadata": {
    "colab": {
     "base_uri": "https://localhost:8080/"
    },
    "id": "IjJ5EQqfPIo_",
    "outputId": "ad53d7d7-1e69-4096-9f5b-61b20579c4ca"
   },
   "outputs": [
    {
     "name": "stdout",
     "output_type": "stream",
     "text": [
      "['[CLS]', 'follow', 'the', 'white', 'rabbit', '[UNK]', '[SEP]', 'no', 'one', 'can', 'be', 'told', 'what', 'the', '[UNK]', 'is', '[SEP]']\n"
     ]
    }
   ],
   "source": [
    "print(tokenizer.convert_ids_to_tokens(joined_sentences['input_ids']))"
   ]
  },
  {
   "cell_type": "code",
   "execution_count": 53,
   "metadata": {
    "colab": {
     "base_uri": "https://localhost:8080/"
    },
    "id": "jNHKY9CrPIo_",
    "outputId": "023667cf-1bcf-409c-89a4-b53f236dd2fb"
   },
   "outputs": [
    {
     "data": {
      "text/plain": [
       "{'input_ids': [[3, 871, 5, 206, 202, 1, 2, 0, 0, 0, 0], [3, 51, 44, 73, 34, 267, 45, 5, 1, 30, 2]], 'token_type_ids': [[0, 0, 0, 0, 0, 0, 0, 0, 0, 0, 0], [0, 0, 0, 0, 0, 0, 0, 0, 0, 0, 0]], 'attention_mask': [[1, 1, 1, 1, 1, 1, 1, 0, 0, 0, 0], [1, 1, 1, 1, 1, 1, 1, 1, 1, 1, 1]]}"
      ]
     },
     "execution_count": 53,
     "metadata": {},
     "output_type": "execute_result"
    }
   ],
   "source": [
    "separate_sentences = tokenizer([sentence1, sentence2], padding=True)\n",
    "separate_sentences"
   ]
  },
  {
   "cell_type": "code",
   "execution_count": 54,
   "metadata": {
    "colab": {
     "base_uri": "https://localhost:8080/"
    },
    "id": "ZOQDFqKbPIpF",
    "outputId": "61375f58-1d47-4bfd-aabe-2a0d2179a1ce"
   },
   "outputs": [
    {
     "name": "stdout",
     "output_type": "stream",
     "text": [
      "['[CLS]', 'follow', 'the', 'white', 'rabbit', '[UNK]', '[SEP]', '[PAD]', '[PAD]', '[PAD]', '[PAD]']\n",
      "[1, 1, 1, 1, 1, 1, 1, 0, 0, 0, 0]\n"
     ]
    }
   ],
   "source": [
    "print(tokenizer.convert_ids_to_tokens(separate_sentences['input_ids'][0]))\n",
    "print(separate_sentences['attention_mask'][0])"
   ]
  },
  {
   "cell_type": "code",
   "execution_count": 55,
   "metadata": {
    "colab": {
     "base_uri": "https://localhost:8080/"
    },
    "id": "Uqsq7GS3PIpG",
    "outputId": "36231e21-6466-4949-c90f-5f93dc96e4f7"
   },
   "outputs": [
    {
     "name": "stdout",
     "output_type": "stream",
     "text": [
      "['[CLS]', 'follow', 'the', 'white', 'rabbit', '[UNK]', '[SEP]', 'no', 'one', 'can', 'be', 'told', 'what', 'the', '[UNK]', 'is', '[SEP]']\n",
      "['[CLS]', 'another', 'first', 'sentence', '[SEP]', '[UNK]', 'second', 'sentence', 'here', '[SEP]']\n"
     ]
    }
   ],
   "source": [
    "first_sentences = [sentence1, 'another first sentence']\n",
    "second_sentences = [sentence2, 'a second sentence here']\n",
    "batch_of_pairs = tokenizer(first_sentences, second_sentences)\n",
    "first_input = tokenizer.convert_ids_to_tokens(batch_of_pairs['input_ids'][0])\n",
    "second_input = tokenizer.convert_ids_to_tokens(batch_of_pairs['input_ids'][1])\n",
    "print(first_input)\n",
    "print(second_input)"
   ]
  },
  {
   "cell_type": "code",
   "execution_count": 56,
   "metadata": {
    "colab": {
     "base_uri": "https://localhost:8080/"
    },
    "id": "2U40RGXSPIpG",
    "outputId": "e7ac6236-1759-4351-a560-b20d039e60fc"
   },
   "outputs": [
    {
     "data": {
      "text/plain": [
       "tensor([[   3,   27,    1,  ...,   98, 1016,    2],\n",
       "        [   3,   23,   10,  ..., 1340,    5,    2],\n",
       "        [   3,   48,   12,  ...,    0,    0,    0],\n",
       "        ...,\n",
       "        [   3,    1,    6,  ...,    0,    0,    0],\n",
       "        [   3,    6,  127,  ...,    0,    0,    0],\n",
       "        [   3,    1,    1,  ...,    0,    0,    0]])"
      ]
     },
     "execution_count": 56,
     "metadata": {},
     "output_type": "execute_result"
    }
   ],
   "source": [
    "tokenized_dataset = tokenizer(dataset['sentence'],\n",
    "                              padding=True,\n",
    "                              return_tensors='pt',\n",
    "                              max_length=50,\n",
    "                              truncation=True)\n",
    "tokenized_dataset['input_ids']"
   ]
  },
  {
   "cell_type": "markdown",
   "metadata": {
    "id": "RYIpul-cPIpG"
   },
   "source": [
    "# Before Word Embeddings"
   ]
  },
  {
   "cell_type": "markdown",
   "metadata": {
    "id": "U80QzETEPIpH"
   },
   "source": [
    "## One-Hot Encoding (OHE)"
   ]
  },
  {
   "cell_type": "markdown",
   "metadata": {
    "id": "NS3mlNgIPIpH"
   },
   "source": [
    "![](https://github.com/dvgodoy/PyTorchStepByStep/blob/master/images/ohe1.png?raw=1)"
   ]
  },
  {
   "cell_type": "markdown",
   "metadata": {
    "id": "MLGxP_hdPIpH"
   },
   "source": [
    "![](https://github.com/dvgodoy/PyTorchStepByStep/blob/master/images/ohe2.png?raw=1)"
   ]
  },
  {
   "cell_type": "markdown",
   "metadata": {
    "id": "-K2WB4P5PIpH"
   },
   "source": [
    "## Bag of Words (BoW)"
   ]
  },
  {
   "cell_type": "code",
   "execution_count": 57,
   "metadata": {
    "colab": {
     "base_uri": "https://localhost:8080/"
    },
    "id": "L6ljfjKBPIpH",
    "outputId": "85d8b612-ba91-4f7c-b15b-dc8de71c2683"
   },
   "outputs": [
    {
     "data": {
      "text/plain": [
       "['the', 'white', 'rabbit', 'is', 'rabbit']"
      ]
     },
     "execution_count": 57,
     "metadata": {},
     "output_type": "execute_result"
    }
   ],
   "source": [
    "sentence = 'the white rabbit is a rabbit'\n",
    "bow_tokens = simple_preprocess(sentence)\n",
    "bow_tokens"
   ]
  },
  {
   "cell_type": "code",
   "execution_count": 58,
   "metadata": {
    "colab": {
     "base_uri": "https://localhost:8080/"
    },
    "id": "wLrldcH-PIpI",
    "outputId": "48d5b34b-4bae-407b-a3a4-d3e51871c39e"
   },
   "outputs": [
    {
     "data": {
      "text/plain": [
       "[(17, 1), (273, 1), (327, 2), (804, 1)]"
      ]
     },
     "execution_count": 58,
     "metadata": {},
     "output_type": "execute_result"
    }
   ],
   "source": [
    "bow = dictionary.doc2bow(bow_tokens)\n",
    "bow"
   ]
  },
  {
   "cell_type": "markdown",
   "metadata": {
    "id": "Dfbvtiv2PIpI"
   },
   "source": [
    "## Language Models\n",
    "\n",
    "![](https://github.com/dvgodoy/PyTorchStepByStep/blob/master/images/blank1.png?raw=1)\n",
    "\n",
    "![](https://github.com/dvgodoy/PyTorchStepByStep/blob/master/images/blank2.png?raw=1)\n",
    "\n",
    "![](https://github.com/dvgodoy/PyTorchStepByStep/blob/master/images/fill1.png?raw=1)\n",
    "\n",
    "![](https://github.com/dvgodoy/PyTorchStepByStep/blob/master/images/fill2.png?raw=1)\n",
    "\n",
    "## N-grams\n",
    "\n",
    "![](https://github.com/dvgodoy/PyTorchStepByStep/blob/master/images/ngrams.png?raw=1)\n",
    "\n",
    "## Continuous Bag-of-Words (CBoW)\n",
    "\n",
    "![](https://github.com/dvgodoy/PyTorchStepByStep/blob/master/images/blank_end.png?raw=1)\n",
    "\n",
    "![](https://github.com/dvgodoy/PyTorchStepByStep/blob/master/images/blank_center.png?raw=1)"
   ]
  },
  {
   "cell_type": "markdown",
   "metadata": {
    "id": "UxDgKYloPIpI"
   },
   "source": [
    "# Word Embeddings\n",
    "\n",
    "## Word2Vec\n",
    "\n",
    "![](https://github.com/dvgodoy/PyTorchStepByStep/blob/master/images/cbow.png?raw=1)"
   ]
  },
  {
   "cell_type": "code",
   "execution_count": 59,
   "metadata": {
    "id": "atT-CpiCPIpI"
   },
   "outputs": [],
   "source": [
    "class CBOW(nn.Module):\n",
    "    def __init__(self, vocab_size, embedding_size):\n",
    "        super().__init__()\n",
    "        self.embedding = nn.Embedding(vocab_size, embedding_size)\n",
    "        self.linear = nn.Linear(embedding_size, vocab_size)\n",
    "\n",
    "    def forward(self, X):\n",
    "        embeddings = self.embedding(X)\n",
    "        bow = embeddings.mean(dim=1)\n",
    "        logits = self.linear(bow)\n",
    "        return logits"
   ]
  },
  {
   "cell_type": "code",
   "execution_count": 60,
   "metadata": {
    "colab": {
     "base_uri": "https://localhost:8080/"
    },
    "id": "xn-7a8LHPIpJ",
    "outputId": "c8ba9a57-3ee9-4c29-bbc0-c2500b180178"
   },
   "outputs": [
    {
     "data": {
      "text/plain": [
       "OrderedDict([('weight',\n",
       "              tensor([[ 0.3367,  0.1288,  0.2345],\n",
       "                      [ 0.2303, -1.1229, -0.1863],\n",
       "                      [ 2.2082, -0.6380,  0.4617],\n",
       "                      [ 0.2674,  0.5349,  0.8094],\n",
       "                      [ 1.1103, -1.6898, -0.9890]]))])"
      ]
     },
     "execution_count": 60,
     "metadata": {},
     "output_type": "execute_result"
    }
   ],
   "source": [
    "torch.manual_seed(42)\n",
    "dummy_cbow = CBOW(vocab_size=5, embedding_size=3)\n",
    "dummy_cbow.embedding.state_dict()"
   ]
  },
  {
   "cell_type": "markdown",
   "metadata": {
    "id": "PavMubbxPIpJ"
   },
   "source": [
    "![](https://github.com/dvgodoy/PyTorchStepByStep/blob/master/images/w2v_embed.png?raw=1)"
   ]
  },
  {
   "cell_type": "code",
   "execution_count": 61,
   "metadata": {
    "colab": {
     "base_uri": "https://localhost:8080/"
    },
    "id": "VQ4ZKqOCPIpJ",
    "outputId": "9eca9b3f-1c63-447e-97fd-6e8e83ad72b2"
   },
   "outputs": [
    {
     "data": {
      "text/plain": [
       "tensor([[ 2.2082, -0.6380,  0.4617],\n",
       "        [ 0.2674,  0.5349,  0.8094]], grad_fn=<EmbeddingBackward0>)"
      ]
     },
     "execution_count": 61,
     "metadata": {},
     "output_type": "execute_result"
    }
   ],
   "source": [
    "# tokens: ['is', 'barking']\n",
    "dummy_cbow.embedding(torch.as_tensor([2, 3]))"
   ]
  },
  {
   "cell_type": "code",
   "execution_count": 62,
   "metadata": {
    "id": "Xeo7CI0FPIpK"
   },
   "outputs": [],
   "source": [
    "tiny_vocab = ['the', 'small', 'is', 'barking', 'dog']\n",
    "context_words = ['the', 'small', 'is', 'barking']\n",
    "target_words = ['dog']"
   ]
  },
  {
   "cell_type": "code",
   "execution_count": 63,
   "metadata": {
    "id": "64hplr5JPIpK"
   },
   "outputs": [],
   "source": [
    "batch_context = torch.as_tensor([[0, 1, 2, 3]]).long()\n",
    "batch_target = torch.as_tensor([4]).long()"
   ]
  },
  {
   "cell_type": "markdown",
   "metadata": {
    "id": "uobj-IG8PIpK"
   },
   "source": [
    "![](https://github.com/dvgodoy/PyTorchStepByStep/blob/master/images/w2v_cbow.png?raw=1)"
   ]
  },
  {
   "cell_type": "code",
   "execution_count": 64,
   "metadata": {
    "colab": {
     "base_uri": "https://localhost:8080/"
    },
    "id": "hMfauJsZPIpK",
    "outputId": "a54874e2-c1fd-4b41-9daa-633590e5d308"
   },
   "outputs": [
    {
     "data": {
      "text/plain": [
       "tensor([[ 0.7606, -0.2743,  0.3298]], grad_fn=<MeanBackward1>)"
      ]
     },
     "execution_count": 64,
     "metadata": {},
     "output_type": "execute_result"
    }
   ],
   "source": [
    "cbow_features = dummy_cbow.embedding(batch_context).mean(dim=1)\n",
    "cbow_features"
   ]
  },
  {
   "cell_type": "markdown",
   "metadata": {
    "id": "e19wHR2-PIpK"
   },
   "source": [
    "![](https://github.com/dvgodoy/PyTorchStepByStep/blob/master/images/w2v_logits.png?raw=1)"
   ]
  },
  {
   "cell_type": "code",
   "execution_count": 65,
   "metadata": {
    "colab": {
     "base_uri": "https://localhost:8080/"
    },
    "id": "3e5bcIGOPIpL",
    "outputId": "772b0997-04ef-411b-c7e3-63737d03af7b"
   },
   "outputs": [
    {
     "data": {
      "text/plain": [
       "tensor([[ 0.3542,  0.6937, -0.2028, -0.5873,  0.2099]],\n",
       "       grad_fn=<AddmmBackward0>)"
      ]
     },
     "execution_count": 65,
     "metadata": {},
     "output_type": "execute_result"
    }
   ],
   "source": [
    "logits = dummy_cbow.linear(cbow_features)\n",
    "logits"
   ]
  },
  {
   "cell_type": "markdown",
   "metadata": {
    "id": "BY_RwBJSPIpL"
   },
   "source": [
    "## What is an Embeddings Anyway?"
   ]
  },
  {
   "cell_type": "markdown",
   "metadata": {
    "id": "9u0vTklVPIpL"
   },
   "source": [
    "![](https://github.com/dvgodoy/PyTorchStepByStep/blob/master/images/rest_discrete.png?raw=1)"
   ]
  },
  {
   "cell_type": "markdown",
   "metadata": {
    "id": "QUBiuMFyPIpL"
   },
   "source": [
    "![](https://github.com/dvgodoy/PyTorchStepByStep/blob/master/images/rest_continuous.png?raw=1)"
   ]
  },
  {
   "cell_type": "code",
   "execution_count": 66,
   "metadata": {
    "colab": {
     "base_uri": "https://localhost:8080/"
    },
    "id": "lPzPn8PaPIpM",
    "outputId": "cfbe0968-3a13-46b1-c5cd-b73353e09340"
   },
   "outputs": [
    {
     "data": {
      "text/plain": [
       "tensor([[ 1.0000, -0.4318,  0.9976, -0.2974],\n",
       "        [-0.4318,  1.0000, -0.4270,  0.3581],\n",
       "        [ 0.9976, -0.4270,  1.0000, -0.3598],\n",
       "        [-0.2974,  0.3581, -0.3598,  1.0000]])"
      ]
     },
     "execution_count": 66,
     "metadata": {},
     "output_type": "execute_result"
    }
   ],
   "source": [
    "ratings = torch.as_tensor([[.7, -.4, .7],\n",
    "                           [.3, .7, -.5],\n",
    "                           [.9, -.55, .8],\n",
    "                           [-.3, .8, .34]]).float()\n",
    "sims = torch.zeros(4, 4)\n",
    "for i in range(4):\n",
    "    for j in range(4):\n",
    "        sims[i, j] = F.cosine_similarity(ratings[i], ratings[j], dim=0)\n",
    "sims"
   ]
  },
  {
   "cell_type": "markdown",
   "metadata": {
    "id": "wkxlGEraPIpM"
   },
   "source": [
    "## Pre-trained Word2Vec"
   ]
  },
  {
   "cell_type": "markdown",
   "metadata": {
    "id": "Vrvd1NarPIpM"
   },
   "source": [
    "## Global Vectors (GloVe)"
   ]
  },
  {
   "cell_type": "code",
   "execution_count": 67,
   "metadata": {
    "colab": {
     "base_uri": "https://localhost:8080/"
    },
    "id": "wl_JFk35PIpM",
    "outputId": "9c9a32dd-2dd1-4ffc-966d-ef77a9eaf457"
   },
   "outputs": [
    {
     "name": "stdout",
     "output_type": "stream",
     "text": [
      "[==================================================] 100.0% 66.0/66.0MB downloaded\n"
     ]
    },
    {
     "data": {
      "text/plain": [
       "400000"
      ]
     },
     "execution_count": 67,
     "metadata": {},
     "output_type": "execute_result"
    }
   ],
   "source": [
    "from gensim import downloader\n",
    "\n",
    "glove = downloader.load('glove-wiki-gigaword-50')\n",
    "\n",
    "# UPDATED\n",
    "###########################################################\n",
    "# The vocab property isn't available anymore at the newer\n",
    "# Gensim version. It was replaced by key_to_index\n",
    "# len(glove.vocab)\n",
    "len(glove.key_to_index)\n",
    "###########################################################"
   ]
  },
  {
   "cell_type": "code",
   "execution_count": 68,
   "metadata": {
    "colab": {
     "base_uri": "https://localhost:8080/"
    },
    "id": "fDzgsj0bPIpN",
    "outputId": "fd2d6db3-41d2-446e-e52b-3d277233868e"
   },
   "outputs": [
    {
     "data": {
      "text/plain": [
       "array([ 0.16386 ,  0.57795 , -0.59197 , -0.32446 ,  0.29762 ,  0.85151 ,\n",
       "       -0.76695 , -0.20733 ,  0.21491 , -0.51587 , -0.17517 ,  0.94459 ,\n",
       "        0.12705 , -0.33031 ,  0.75951 ,  0.44449 ,  0.16553 , -0.19235 ,\n",
       "        0.065533, -0.12394 ,  0.61446 ,  0.89784 ,  0.17413 ,  0.41149 ,\n",
       "        1.191   , -0.39461 , -0.459   ,  0.022161, -0.50843 , -0.44464 ,\n",
       "        0.68721 , -0.7167  ,  0.20835 , -0.23437 ,  0.02604 , -0.47993 ,\n",
       "        0.31873 , -0.29135 ,  0.50273 , -0.55144 , -0.066692,  0.43873 ,\n",
       "       -0.24293 , -1.0247  ,  0.029375,  0.068499,  0.25451 , -1.9663  ,\n",
       "        0.26673 ,  0.88486 ], dtype=float32)"
      ]
     },
     "execution_count": 68,
     "metadata": {},
     "output_type": "execute_result"
    }
   ],
   "source": [
    "glove['alice']"
   ]
  },
  {
   "cell_type": "code",
   "execution_count": 69,
   "metadata": {
    "id": "46hbjBCmPIpO"
   },
   "outputs": [],
   "source": [
    "synthetic_queen = glove['king'] - glove['man'] + glove['woman']"
   ]
  },
  {
   "cell_type": "code",
   "execution_count": 70,
   "metadata": {
    "colab": {
     "base_uri": "https://localhost:8080/",
     "height": 351
    },
    "id": "kcrptYwOPIpP",
    "outputId": "f971ef2c-58de-4c9b-a4dd-8b285d0010e4"
   },
   "outputs": [
    {
     "name": "stderr",
     "output_type": "stream",
     "text": [
      "/content/plots/chapter11.py:23: UserWarning: FixedFormatter should only be used together with FixedLocator\n",
      "  axs[i].set_yticklabels(['', word, ''])\n"
     ]
    },
    {
     "data": {
      "image/png": "[encoded data removed]",
      "text/plain": [
       "<Figure size 1800x350 with 5 Axes>"
      ]
     },
     "metadata": {},
     "output_type": "display_data"
    }
   ],
   "source": [
    "fig = plot_word_vectors(glove,\n",
    "                        ['king', 'man', 'woman', 'synthetic', 'queen'],\n",
    "                        other={'synthetic': synthetic_queen})"
   ]
  },
  {
   "cell_type": "code",
   "execution_count": 71,
   "metadata": {
    "colab": {
     "base_uri": "https://localhost:8080/"
    },
    "id": "gtLfGWX7PIpP",
    "outputId": "f0baf3be-00ce-4658-d315-1b39c7783b1b"
   },
   "outputs": [
    {
     "data": {
      "text/plain": [
       "[('king', 0.8859834671020508),\n",
       " ('queen', 0.8609582185745239),\n",
       " ('daughter', 0.7684512734413147),\n",
       " ('prince', 0.7640699744224548),\n",
       " ('throne', 0.7634970545768738)]"
      ]
     },
     "execution_count": 71,
     "metadata": {},
     "output_type": "execute_result"
    }
   ],
   "source": [
    "glove.similar_by_vector(synthetic_queen, topn=5)"
   ]
  },
  {
   "cell_type": "markdown",
   "metadata": {
    "id": "fEk297ScPIpQ"
   },
   "source": [
    "![](https://github.com/dvgodoy/PyTorchStepByStep/blob/master/images/embed_arithmetic.png?raw=1)"
   ]
  },
  {
   "cell_type": "markdown",
   "metadata": {
    "id": "6uv9IVvGPIpQ"
   },
   "source": [
    "$$\n",
    "\\Large\n",
    "w_{\\text{king}} - w_{\\text{man}}\\approx w_{\\text{queen}}-w_{\\text{woman}} \\implies w_{\\text{king}} - w_{\\text{man}} + w_{\\text{woman}} \\approx w_{\\text{queen}}\n",
    "$$"
   ]
  },
  {
   "cell_type": "markdown",
   "metadata": {
    "id": "O7M0z1YMPIpQ"
   },
   "source": [
    "## Using Word Embeddings"
   ]
  },
  {
   "cell_type": "markdown",
   "metadata": {
    "id": "MuAY6Gk6PIpQ"
   },
   "source": [
    "### Vocabulary Coverage"
   ]
  },
  {
   "cell_type": "code",
   "execution_count": 72,
   "metadata": {
    "colab": {
     "base_uri": "https://localhost:8080/"
    },
    "id": "bpLS4nhMPIpQ",
    "outputId": "3c5e86c5-f7c1-45bc-9b7d-87fd759997dd"
   },
   "outputs": [
    {
     "data": {
      "text/plain": [
       "3728"
      ]
     },
     "execution_count": 72,
     "metadata": {},
     "output_type": "execute_result"
    }
   ],
   "source": [
    "vocab = list(dictionary.token2id.keys())\n",
    "len(vocab)"
   ]
  },
  {
   "cell_type": "code",
   "execution_count": 73,
   "metadata": {
    "colab": {
     "base_uri": "https://localhost:8080/"
    },
    "id": "AWvfyewTPIpQ",
    "outputId": "f87df5da-f533-4199-a7d9-adafc20db2cd"
   },
   "outputs": [
    {
     "name": "stdout",
     "output_type": "stream",
     "text": [
      "44\n",
      "['[PAD]', '[UNK]', 'arrum', 'barrowful', 'beauti']\n"
     ]
    }
   ],
   "source": [
    "# UPDATED\n",
    "###########################################################\n",
    "# The vocab property isn't available anymore at the newer\n",
    "# Gensim version. It was replaced by key_to_index\n",
    "# unknown_words = sorted(list(set(vocab).difference(set(glove.vocab))))\n",
    "\n",
    "unknown_words = sorted(list(set(vocab).difference(set(glove.key_to_index))))\n",
    "###########################################################\n",
    "print(len(unknown_words))\n",
    "print(unknown_words[:5])"
   ]
  },
  {
   "cell_type": "code",
   "execution_count": 74,
   "metadata": {
    "colab": {
     "base_uri": "https://localhost:8080/"
    },
    "id": "EddC0V1zPIpR",
    "outputId": "6707d919-7386-4291-dc7e-c54facb06f0b"
   },
   "outputs": [
    {
     "data": {
      "text/plain": [
       "(87, 50926)"
      ]
     },
     "execution_count": 74,
     "metadata": {},
     "output_type": "execute_result"
    }
   ],
   "source": [
    "unknown_ids = [dictionary.token2id[w] for w in unknown_words if w not in ['[PAD]', '[UNK]']]\n",
    "unknown_count = np.sum([dictionary.cfs[idx] for idx in unknown_ids])\n",
    "unknown_count, dictionary.num_pos"
   ]
  },
  {
   "cell_type": "code",
   "execution_count": 75,
   "metadata": {
    "id": "IWUf3u6CPIpR"
   },
   "outputs": [],
   "source": [
    "def vocab_coverage(gensim_dict, pretrained_wv, special_tokens=('[PAD]', '[UNK]')):\n",
    "    vocab = list(gensim_dict.token2id.keys())\n",
    "    # UPDATED\n",
    "    ###########################################################\n",
    "    # The vocab property isn't available anymore at the newer\n",
    "    # Gensim version. It was replaced by key_to_index\n",
    "    # unknown_words = sorted(list(set(vocab).difference(set(pretrained_wv.vocab))))\n",
    "    unknown_words = sorted(list(set(vocab).difference(set(pretrained_wv.key_to_index))))\n",
    "    ###########################################################\n",
    "    unknown_ids = [gensim_dict.token2id[w] for w in unknown_words if w not in special_tokens]\n",
    "    unknown_count = np.sum([gensim_dict.cfs[idx] for idx in unknown_ids])\n",
    "    cov = 1 - unknown_count / gensim_dict.num_pos\n",
    "    return cov"
   ]
  },
  {
   "cell_type": "code",
   "execution_count": 76,
   "metadata": {
    "colab": {
     "base_uri": "https://localhost:8080/"
    },
    "id": "eYZTCStNPIpR",
    "outputId": "7d90894b-3688-4b41-ea54-758b7f436f2c"
   },
   "outputs": [
    {
     "data": {
      "text/plain": [
       "0.9982916388485253"
      ]
     },
     "execution_count": 76,
     "metadata": {},
     "output_type": "execute_result"
    }
   ],
   "source": [
    "vocab_coverage(dictionary, glove)"
   ]
  },
  {
   "cell_type": "markdown",
   "metadata": {
    "id": "EKzOosVxPIpR"
   },
   "source": [
    "### Tokenizer"
   ]
  },
  {
   "cell_type": "code",
   "execution_count": 77,
   "metadata": {
    "id": "Mf8fyy3mPIpS"
   },
   "outputs": [],
   "source": [
    "def make_vocab_from_wv(wv, folder=None, special_tokens=None):\n",
    "    if folder is not None:\n",
    "        if not os.path.exists(folder):\n",
    "            os.mkdir(folder)\n",
    "\n",
    "    # UPDATED\n",
    "    ###########################################################\n",
    "    # The index2word property isn't available anymore at the\n",
    "    # newer Gensim version. It was replaced by index_to_key\n",
    "    # words = wv.index2word\n",
    "    words = wv.index_to_key\n",
    "    ###########################################################\n",
    "    if special_tokens is not None:\n",
    "        to_add = []\n",
    "        for special_token in special_tokens:\n",
    "            if special_token not in words:\n",
    "                to_add.append(special_token)\n",
    "        words = to_add + words\n",
    "\n",
    "    with open(os.path.join(folder, 'vocab.txt'), 'w') as f:\n",
    "        for word in words:\n",
    "            f.write(f'{word}\\n')"
   ]
  },
  {
   "cell_type": "code",
   "execution_count": 78,
   "metadata": {
    "id": "K4Y-ub7iPIpS"
   },
   "outputs": [],
   "source": [
    "make_vocab_from_wv(glove, 'glove_vocab/', special_tokens=['[PAD]', '[UNK]'])"
   ]
  },
  {
   "cell_type": "code",
   "execution_count": 79,
   "metadata": {
    "id": "3NIjvZpFPIpS"
   },
   "outputs": [],
   "source": [
    "glove_tokenizer = BertTokenizer('glove_vocab/vocab.txt')"
   ]
  },
  {
   "cell_type": "code",
   "execution_count": 80,
   "metadata": {
    "colab": {
     "base_uri": "https://localhost:8080/"
    },
    "id": "IN_vm748PIpS",
    "outputId": "edcb30fd-df62-46dd-8aa3-d8109ad75ced"
   },
   "outputs": [
    {
     "data": {
      "text/plain": [
       "[7101, 930, 2, 300, 12427]"
      ]
     },
     "execution_count": 80,
     "metadata": {},
     "output_type": "execute_result"
    }
   ],
   "source": [
    "glove_tokenizer.encode('alice followed the white rabbit', add_special_tokens=False)"
   ]
  },
  {
   "cell_type": "code",
   "execution_count": 81,
   "metadata": {
    "colab": {
     "base_uri": "https://localhost:8080/"
    },
    "id": "TwsVqJhtPIpS",
    "outputId": "eaf348f5-198d-42a8-9d3b-1649d0994c2f"
   },
   "outputs": [
    {
     "data": {
      "text/plain": [
       "(400002, 400000)"
      ]
     },
     "execution_count": 81,
     "metadata": {},
     "output_type": "execute_result"
    }
   ],
   "source": [
    "len(glove_tokenizer.vocab), len(glove.vectors)"
   ]
  },
  {
   "cell_type": "markdown",
   "metadata": {
    "id": "YBrqOhP-PIpT"
   },
   "source": [
    "### Special Tokens' Embeddings"
   ]
  },
  {
   "cell_type": "code",
   "execution_count": 82,
   "metadata": {
    "id": "UzAqTQ9CPIpT"
   },
   "outputs": [],
   "source": [
    "special_embeddings = np.zeros((2, glove.vector_size))"
   ]
  },
  {
   "cell_type": "code",
   "execution_count": 83,
   "metadata": {
    "colab": {
     "base_uri": "https://localhost:8080/"
    },
    "id": "4AWIyA3JPIpT",
    "outputId": "683c23aa-ed56-4178-e3aa-8f3ce9b8940d"
   },
   "outputs": [
    {
     "data": {
      "text/plain": [
       "(400002, 50)"
      ]
     },
     "execution_count": 83,
     "metadata": {},
     "output_type": "execute_result"
    }
   ],
   "source": [
    "extended_embeddings = np.concatenate([special_embeddings, glove.vectors], axis=0)\n",
    "extended_embeddings.shape"
   ]
  },
  {
   "cell_type": "code",
   "execution_count": 84,
   "metadata": {
    "colab": {
     "base_uri": "https://localhost:8080/"
    },
    "id": "fMTUfdESPIpT",
    "outputId": "1e18391e-fb28-4937-dd70-0d8b3812ec1e"
   },
   "outputs": [
    {
     "data": {
      "text/plain": [
       "True"
      ]
     },
     "execution_count": 84,
     "metadata": {},
     "output_type": "execute_result"
    }
   ],
   "source": [
    "alice_idx = glove_tokenizer.encode('alice', add_special_tokens=False)\n",
    "np.all(extended_embeddings[alice_idx] == glove['alice'])"
   ]
  },
  {
   "cell_type": "markdown",
   "metadata": {
    "id": "k8_PGFaXPIpU"
   },
   "source": [
    "## Model I - GloVe + Classifier"
   ]
  },
  {
   "cell_type": "markdown",
   "metadata": {
    "id": "rzpeWYcdPIpU"
   },
   "source": [
    "### Data Preparation"
   ]
  },
  {
   "cell_type": "code",
   "execution_count": 85,
   "metadata": {
    "id": "QOc1ZhgdPIpU"
   },
   "outputs": [],
   "source": [
    "train_sentences = train_dataset['sentence']\n",
    "train_labels = train_dataset['labels']\n",
    "\n",
    "test_sentences = test_dataset['sentence']\n",
    "test_labels = test_dataset['labels']"
   ]
  },
  {
   "cell_type": "code",
   "execution_count": 86,
   "metadata": {
    "id": "r5SLBMioPIpU"
   },
   "outputs": [],
   "source": [
    "train_ids = glove_tokenizer(train_sentences,\n",
    "                            truncation=True,\n",
    "                            padding=True,\n",
    "                            max_length=60,\n",
    "                            add_special_tokens=False,\n",
    "                            return_tensors='pt')['input_ids']\n",
    "train_labels = torch.as_tensor(train_labels).float().view(-1, 1)\n",
    "\n",
    "test_ids = glove_tokenizer(test_sentences,\n",
    "                           truncation=True,\n",
    "                           padding=True,\n",
    "                           max_length=60,\n",
    "                           add_special_tokens=False,\n",
    "                           return_tensors='pt')['input_ids']\n",
    "test_labels = torch.as_tensor(test_labels).float().view(-1, 1)"
   ]
  },
  {
   "cell_type": "code",
   "execution_count": 87,
   "metadata": {
    "id": "3Gy9RIDEPIpU"
   },
   "outputs": [],
   "source": [
    "train_tensor_dataset = TensorDataset(train_ids, train_labels)\n",
    "generator = torch.Generator()\n",
    "train_loader = DataLoader(train_tensor_dataset, batch_size=32, shuffle=True, generator=generator)\n",
    "test_tensor_dataset = TensorDataset(test_ids, test_labels)\n",
    "test_loader = DataLoader(test_tensor_dataset, batch_size=32)"
   ]
  },
  {
   "cell_type": "markdown",
   "metadata": {
    "id": "j-3CdOpWPIpU"
   },
   "source": [
    "### Pre-Trained PyTorch Embeddings"
   ]
  },
  {
   "cell_type": "code",
   "execution_count": 88,
   "metadata": {
    "id": "bGxrKlyDPIpV"
   },
   "outputs": [],
   "source": [
    "extended_embeddings = torch.as_tensor(extended_embeddings).float()\n",
    "torch_embeddings = nn.Embedding.from_pretrained(extended_embeddings)"
   ]
  },
  {
   "cell_type": "code",
   "execution_count": 89,
   "metadata": {
    "colab": {
     "base_uri": "https://localhost:8080/"
    },
    "id": "SpdJmQNsPIpV",
    "outputId": "8747d9e7-17ed-412e-ea08-0fda20996e79"
   },
   "outputs": [
    {
     "data": {
      "text/plain": [
       "tensor([[   10,    14,   392,  ...,     0,     0,     0],\n",
       "        [  934,    43,    59,  ...,     0,     0,     0],\n",
       "        [   10,  3204,     3,  ...,     0,     0,     0],\n",
       "        ...,\n",
       "        [   43,  4286,    85,  ...,     0,     0,     0],\n",
       "        [   10,     2, 10827,  ...,     0,     0,     0],\n",
       "        [   18,  7101,     4,  ...,     0,     0,     0]])"
      ]
     },
     "execution_count": 89,
     "metadata": {},
     "output_type": "execute_result"
    }
   ],
   "source": [
    "token_ids, labels = next(iter(train_loader))\n",
    "token_ids"
   ]
  },
  {
   "cell_type": "code",
   "execution_count": 90,
   "metadata": {
    "colab": {
     "base_uri": "https://localhost:8080/"
    },
    "id": "rwyGjFNSPIpV",
    "outputId": "9e57396d-b8ed-498e-ddad-5302413cd36b"
   },
   "outputs": [
    {
     "data": {
      "text/plain": [
       "torch.Size([32, 60, 50])"
      ]
     },
     "execution_count": 90,
     "metadata": {},
     "output_type": "execute_result"
    }
   ],
   "source": [
    "token_embeddings = torch_embeddings(token_ids)\n",
    "token_embeddings.shape"
   ]
  },
  {
   "cell_type": "code",
   "execution_count": 91,
   "metadata": {
    "colab": {
     "base_uri": "https://localhost:8080/"
    },
    "id": "UIHGuQ4WPIpV",
    "outputId": "88bcba14-e2a5-43ad-c6b7-a5699fbadef1"
   },
   "outputs": [
    {
     "data": {
      "text/plain": [
       "tensor([[ 0.0523,  0.0270, -0.0385,  ..., -0.0222,  0.0700,  0.0370],\n",
       "        [ 0.0106,  0.1402,  0.0343,  ..., -0.0981, -0.0004,  0.1091],\n",
       "        [ 0.0230,  0.2380, -0.0286,  ..., -0.1479,  0.0906,  0.2278],\n",
       "        ...,\n",
       "        [ 0.0250,  0.0515,  0.0371,  ..., -0.0343, -0.0120,  0.0927],\n",
       "        [ 0.1871,  0.1755, -0.1458,  ..., -0.1637, -0.0141, -0.0173],\n",
       "        [ 0.0118,  0.0111, -0.0040,  ..., -0.0244,  0.0071,  0.0365]])"
      ]
     },
     "execution_count": 91,
     "metadata": {},
     "output_type": "execute_result"
    }
   ],
   "source": [
    "token_embeddings.mean(dim=1)"
   ]
  },
  {
   "cell_type": "code",
   "execution_count": 92,
   "metadata": {
    "colab": {
     "base_uri": "https://localhost:8080/"
    },
    "id": "PT2eZ1EqPIpV",
    "outputId": "359ae0df-c96e-4784-e8d5-20e3d5441391"
   },
   "outputs": [
    {
     "data": {
      "text/plain": [
       "tensor([[ 0.0523,  0.0270, -0.0385,  ..., -0.0222,  0.0700,  0.0370],\n",
       "        [ 0.0106,  0.1402,  0.0343,  ..., -0.0981, -0.0004,  0.1091],\n",
       "        [ 0.0230,  0.2380, -0.0286,  ..., -0.1479,  0.0906,  0.2278],\n",
       "        ...,\n",
       "        [ 0.0250,  0.0515,  0.0371,  ..., -0.0343, -0.0120,  0.0927],\n",
       "        [ 0.1871,  0.1755, -0.1458,  ..., -0.1637, -0.0141, -0.0173],\n",
       "        [ 0.0118,  0.0111, -0.0040,  ..., -0.0244,  0.0071,  0.0365]])"
      ]
     },
     "execution_count": 92,
     "metadata": {},
     "output_type": "execute_result"
    }
   ],
   "source": [
    "boe_mean = nn.EmbeddingBag.from_pretrained(extended_embeddings, mode='mean')\n",
    "boe_mean(token_ids)"
   ]
  },
  {
   "cell_type": "markdown",
   "metadata": {
    "id": "UDyYigyhPIpV"
   },
   "source": [
    "### Model Configuration & Training"
   ]
  },
  {
   "cell_type": "code",
   "execution_count": 93,
   "metadata": {
    "id": "3yaB00G4PIpW"
   },
   "outputs": [],
   "source": [
    "extended_embeddings = torch.as_tensor(extended_embeddings).float()\n",
    "boe_mean = nn.EmbeddingBag.from_pretrained(\n",
    "    extended_embeddings, mode='mean'\n",
    ")\n",
    "torch.manual_seed(41)\n",
    "model = nn.Sequential(\n",
    "    # Embeddings\n",
    "    boe_mean,\n",
    "    # Classifier\n",
    "    nn.Linear(boe_mean.embedding_dim, 128),\n",
    "    nn.ReLU(),\n",
    "    nn.Linear(128, 1)\n",
    ")\n",
    "loss_fn = nn.BCEWithLogitsLoss()\n",
    "optimizer = optim.Adam(model.parameters(), lr=0.01)"
   ]
  },
  {
   "cell_type": "code",
   "execution_count": 94,
   "metadata": {
    "id": "KTWpbPdfPIpW"
   },
   "outputs": [],
   "source": [
    "sbs_emb = StepByStep(model, loss_fn, optimizer)\n",
    "sbs_emb.set_loaders(train_loader, test_loader)\n",
    "sbs_emb.train(20)"
   ]
  },
  {
   "cell_type": "code",
   "execution_count": 95,
   "metadata": {
    "colab": {
     "base_uri": "https://localhost:8080/",
     "height": 395
    },
    "id": "qiaVP9uvPIpW",
    "outputId": "7f13cf99-1117-4c91-e017-293cd3555407"
   },
   "outputs": [
    {
     "data": {
      "image/png": "[encoded data removed]",
      "text/plain": [
       "<Figure size 1000x400 with 1 Axes>"
      ]
     },
     "metadata": {},
     "output_type": "display_data"
    }
   ],
   "source": [
    "fig = sbs_emb.plot_losses()"
   ]
  },
  {
   "cell_type": "code",
   "execution_count": 96,
   "metadata": {
    "colab": {
     "base_uri": "https://localhost:8080/"
    },
    "id": "ZCKFSECRPIpW",
    "outputId": "fcd1e427-f1cf-42b3-c556-78fdec492f5f"
   },
   "outputs": [
    {
     "data": {
      "text/plain": [
       "tensor([[419, 453],\n",
       "        [285, 318]])"
      ]
     },
     "execution_count": 96,
     "metadata": {},
     "output_type": "execute_result"
    }
   ],
   "source": [
    "StepByStep.loader_apply(test_loader, sbs_emb.correct)"
   ]
  },
  {
   "cell_type": "markdown",
   "metadata": {
    "id": "_kqa22QNPIpX"
   },
   "source": [
    "## Model II - GloVe + Transformer"
   ]
  },
  {
   "cell_type": "code",
   "execution_count": 97,
   "metadata": {
    "id": "MH3DdVEFPIpX"
   },
   "outputs": [],
   "source": [
    "class TransfClassifier(nn.Module):\n",
    "    def __init__(self, embedding_layer, encoder, n_outputs):\n",
    "        super().__init__()\n",
    "        self.d_model = encoder.d_model\n",
    "        self.n_outputs = n_outputs\n",
    "        self.encoder = encoder\n",
    "        self.mlp = nn.Linear(self.d_model, n_outputs)\n",
    "\n",
    "        self.embed = embedding_layer\n",
    "        self.cls_token = nn.Parameter(torch.zeros(1, 1, self.d_model))\n",
    "\n",
    "    def preprocess(self, X):\n",
    "        # N, L -> N, L, D\n",
    "        src = self.embed(X)\n",
    "        # Special classifier token\n",
    "        # 1, 1, D -> N, 1, D\n",
    "        cls_tokens = self.cls_token.expand(X.size(0), -1, -1)\n",
    "        # Concatenates CLS tokens -> N, 1 + L, D\n",
    "        src = torch.cat((cls_tokens, src), dim=1)\n",
    "        return src\n",
    "\n",
    "    def encode(self, source, source_mask=None):\n",
    "        # Encoder generates \"hidden states\"\n",
    "        states = self.encoder(source, source_mask)\n",
    "        # Gets state from first token only: [CLS]\n",
    "        cls_state = states[:, 0]  # N, 1, D\n",
    "        return cls_state\n",
    "\n",
    "    @staticmethod\n",
    "    def source_mask(X):\n",
    "        cls_mask = torch.ones(X.size(0), 1).type_as(X)\n",
    "        pad_mask = torch.cat((cls_mask, X > 0), dim=1).bool()\n",
    "        return pad_mask.unsqueeze(1)\n",
    "\n",
    "    def forward(self, X):\n",
    "        src = self.preprocess(X)\n",
    "        # Featurizer\n",
    "        cls_state = self.encode(src, self.source_mask(X))\n",
    "        # Classifier\n",
    "        out = self.mlp(cls_state) # N, 1, outputs\n",
    "        return out"
   ]
  },
  {
   "cell_type": "code",
   "execution_count": 98,
   "metadata": {
    "id": "aUum393hPIpX"
   },
   "outputs": [],
   "source": [
    "torch.manual_seed(33)\n",
    "# Loads the pretrained GloVe embeddings into an embedding layer\n",
    "torch_embeddings = nn.Embedding.from_pretrained(extended_embeddings)\n",
    "# Creates a Transformer Encoder\n",
    "layer = EncoderLayer(n_heads=2, d_model=torch_embeddings.embedding_dim, ff_units=128)\n",
    "encoder = EncoderTransf(layer, n_layers=1)\n",
    "# Uses both layers above to build our model\n",
    "model = TransfClassifier(torch_embeddings, encoder, n_outputs=1)\n",
    "loss_fn = nn.BCEWithLogitsLoss()\n",
    "optimizer = optim.Adam(model.parameters(), lr=1e-4)"
   ]
  },
  {
   "cell_type": "code",
   "execution_count": 99,
   "metadata": {
    "id": "2mBjsLwHPIpX"
   },
   "outputs": [],
   "source": [
    "sbs_transf = StepByStep(model, loss_fn, optimizer)\n",
    "sbs_transf.set_loaders(train_loader, test_loader)\n",
    "sbs_transf.train(10)"
   ]
  },
  {
   "cell_type": "code",
   "execution_count": 100,
   "metadata": {
    "colab": {
     "base_uri": "https://localhost:8080/",
     "height": 395
    },
    "id": "4CwpEol1PIpY",
    "outputId": "0655742f-0ada-4c42-f4fd-945f099c7110"
   },
   "outputs": [
    {
     "data": {
      "image/png": "[encoded data removed]",
      "text/plain": [
       "<Figure size 1000x400 with 1 Axes>"
      ]
     },
     "metadata": {},
     "output_type": "display_data"
    }
   ],
   "source": [
    "fig = sbs_transf.plot_losses()"
   ]
  },
  {
   "cell_type": "code",
   "execution_count": 101,
   "metadata": {
    "colab": {
     "base_uri": "https://localhost:8080/"
    },
    "id": "HPQvdYWVPIpY",
    "outputId": "f12ce16d-b672-424f-dfa6-51f97417686e"
   },
   "outputs": [
    {
     "data": {
      "text/plain": [
       "tensor([[437, 453],\n",
       "        [288, 318]])"
      ]
     },
     "execution_count": 101,
     "metadata": {},
     "output_type": "execute_result"
    }
   ],
   "source": [
    "StepByStep.loader_apply(test_loader, sbs_transf.correct)"
   ]
  },
  {
   "cell_type": "markdown",
   "metadata": {
    "id": "8Xh8xxgTPIpY"
   },
   "source": [
    "### Visualizing Attention"
   ]
  },
  {
   "cell_type": "code",
   "execution_count": 102,
   "metadata": {
    "colab": {
     "base_uri": "https://localhost:8080/"
    },
    "id": "i5_67okaPIpY",
    "outputId": "6ecffbd1-7e4e-490f-f239-0fd1117048bd"
   },
   "outputs": [
    {
     "data": {
      "text/plain": [
       "tensor([[    2,   300, 12427,     7,  7101,  1423,   422],\n",
       "        [    2,  6659,   811, 11238,    15,     2,   588]], device='cuda:0')"
      ]
     },
     "execution_count": 102,
     "metadata": {},
     "output_type": "execute_result"
    }
   ],
   "source": [
    "sentences = ['The white rabbit and Alice ran away', 'The lion met Dorothy on the road']\n",
    "inputs = glove_tokenizer(sentences, add_special_tokens=False, return_tensors='pt')['input_ids']\n",
    "inputs = inputs.to(sbs_transf.device)\n",
    "inputs"
   ]
  },
  {
   "cell_type": "code",
   "execution_count": 103,
   "metadata": {
    "colab": {
     "base_uri": "https://localhost:8080/"
    },
    "id": "Cu3MXRxgPIpZ",
    "outputId": "6d2a66c7-5881-4b14-9dca-cbc99bfb1197"
   },
   "outputs": [
    {
     "data": {
      "text/plain": [
       "tensor([[0.9893],\n",
       "        [0.0094]], device='cuda:0', grad_fn=<SigmoidBackward0>)"
      ]
     },
     "execution_count": 103,
     "metadata": {},
     "output_type": "execute_result"
    }
   ],
   "source": [
    "sbs_transf.model.eval()\n",
    "out = sbs_transf.model(inputs)\n",
    "# our model outputs logits, so we turn them into probs\n",
    "torch.sigmoid(out)"
   ]
  },
  {
   "cell_type": "code",
   "execution_count": 104,
   "metadata": {
    "colab": {
     "base_uri": "https://localhost:8080/"
    },
    "id": "4Nld9xIhPIpZ",
    "outputId": "0c12f02c-d6df-4326-d423-45ca7a13c711"
   },
   "outputs": [
    {
     "data": {
      "text/plain": [
       "tensor([[[2.7641e-01, 5.6965e-02, 1.7406e-01, 1.6204e-01, 8.9550e-02,\n",
       "          1.5953e-01, 6.5942e-02, 1.5511e-02],\n",
       "         [3.3255e-05, 3.0550e-03, 4.6508e-03, 7.8658e-02, 2.6481e-03,\n",
       "          9.0915e-01, 7.1525e-04, 1.0912e-03]],\n",
       "\n",
       "        [[7.4745e-02, 1.5404e-02, 1.0670e-01, 5.9543e-02, 6.3095e-01,\n",
       "          9.5393e-03, 1.3835e-02, 8.9286e-02],\n",
       "         [3.3745e-04, 3.1001e-02, 2.8195e-01, 5.8777e-02, 4.9707e-01,\n",
       "          6.2487e-02, 3.8411e-02, 2.9971e-02]]], device='cuda:0')"
      ]
     },
     "execution_count": 104,
     "metadata": {},
     "output_type": "execute_result"
    }
   ],
   "source": [
    "alphas = sbs_transf.model.encoder.layers[0].self_attn_heads.alphas\n",
    "alphas[:, :, 0, :].squeeze()"
   ]
  },
  {
   "cell_type": "code",
   "execution_count": 105,
   "metadata": {
    "colab": {
     "base_uri": "https://localhost:8080/",
     "height": 259
    },
    "id": "B5gATXCkPIpZ",
    "outputId": "a7bee94b-9934-4d21-f5f7-db27f5ab2c4f"
   },
   "outputs": [
    {
     "name": "stderr",
     "output_type": "stream",
     "text": [
      "/content/plots/chapter11.py:50: UserWarning: FixedFormatter should only be used together with FixedLocator\n",
      "  ax.set_yticklabels(['', f'Head #{i}', ''])\n"
     ]
    },
    {
     "data": {
      "image/png": "[encoded data removed]",
      "text/plain": [
       "<Figure size 1600x200 with 4 Axes>"
      ]
     },
     "metadata": {},
     "output_type": "display_data"
    }
   ],
   "source": [
    "tokens = [['[CLS]'] + glove_tokenizer.tokenize(sent) for sent in sentences]\n",
    "fig = plot_attention(tokens, alphas)"
   ]
  },
  {
   "cell_type": "markdown",
   "metadata": {
    "id": "dNXPXiSlPIpa"
   },
   "source": [
    "# Contextual Word Embeddings"
   ]
  },
  {
   "cell_type": "markdown",
   "metadata": {
    "id": "J5oqS0x7PIpa"
   },
   "source": [
    "## ELMo"
   ]
  },
  {
   "cell_type": "code",
   "execution_count": 106,
   "metadata": {
    "id": "5N8dJJJmPIpa"
   },
   "outputs": [],
   "source": [
    "watch1 = \"\"\"\n",
    "The Hatter was the first to break the silence. `What day of the month is it?' he said, turning to Alice:  he had taken his watch out of his pocket, and was looking at it uneasily, shaking it every now and then, and holding it to his ear.\n",
    "\"\"\"\n",
    "\n",
    "watch2 = \"\"\"\n",
    "Alice thought this a very curious thing, and she went nearer to watch them, and just as she came up to them she heard one of them say, `Look out now, Five!  Don't go splashing paint over me like that!\n",
    "\"\"\"\n",
    "\n",
    "sentences = [watch1, watch2]"
   ]
  },
  {
   "cell_type": "code",
   "execution_count": 107,
   "metadata": {
    "colab": {
     "base_uri": "https://localhost:8080/"
    },
    "id": "1M_qVWdNPIpa",
    "outputId": "4648318e-e61b-45d1-ce57-be51d8bf4709"
   },
   "outputs": [
    {
     "data": {
      "text/plain": [
       "Sentence[58]: \" The Hatter was the first to break the silence. `What day of the month is it?' he said, turning to Alice:  he had taken his watch out of his pocket, and was looking at it uneasily, shaking it every now and then, and holding it to his ear.\""
      ]
     },
     "execution_count": 107,
     "metadata": {},
     "output_type": "execute_result"
    }
   ],
   "source": [
    "from flair.data import Sentence\n",
    "\n",
    "flair_sentences = [Sentence(s) for s in sentences]\n",
    "flair_sentences[0]"
   ]
  },
  {
   "cell_type": "code",
   "execution_count": 108,
   "metadata": {
    "colab": {
     "base_uri": "https://localhost:8080/"
    },
    "id": "HsasoxvnPIpb",
    "outputId": "bdc76cc2-d654-4a43-b0ec-8db2ecb9102c"
   },
   "outputs": [
    {
     "data": {
      "text/plain": [
       "Token[31]: \"watch\""
      ]
     },
     "execution_count": 108,
     "metadata": {},
     "output_type": "execute_result"
    }
   ],
   "source": [
    "flair_sentences[0].get_token(32)"
   ]
  },
  {
   "cell_type": "code",
   "execution_count": 109,
   "metadata": {
    "colab": {
     "base_uri": "https://localhost:8080/"
    },
    "id": "bdaPu5VNPIpb",
    "outputId": "65a9bfe2-1685-426b-b656-f52ef136f948"
   },
   "outputs": [
    {
     "data": {
      "text/plain": [
       "Token[31]: \"watch\""
      ]
     },
     "execution_count": 109,
     "metadata": {},
     "output_type": "execute_result"
    }
   ],
   "source": [
    "flair_sentences[0].tokens[31]"
   ]
  },
  {
   "cell_type": "code",
   "execution_count": null,
   "metadata": {
    "colab": {
     "base_uri": "https://localhost:8080/"
    },
    "id": "g_iTjhAuPIpb",
    "outputId": "cf1ca11d-1b0c-4472-baa1-cde1cdb0da1c"
   },
   "outputs": [],
   "source": [
    "# UPDATED\n",
    "###########################################################\n",
    "# Unfortunately, ELMO embeddings were returned by flair\n",
    "# using the allennlp library that has been archived.\n",
    "# from flair.embeddings import ELMoEmbeddings\n",
    "# elmo = ELMoEmbeddings()\n",
    "\n",
    "# As replacement, we'll be using flair's own embeddings instead\n",
    "from flair.embeddings import FlairEmbeddings\n",
    "flair_emb = FlairEmbeddings('news-forward')\n",
    "###########################################################"
   ]
  },
  {
   "cell_type": "code",
   "execution_count": 111,
   "metadata": {
    "colab": {
     "base_uri": "https://localhost:8080/"
    },
    "id": "wZOGM9xpPIpb",
    "outputId": "bbe612f8-e6f8-409c-ff11-0a8ff020a4c7"
   },
   "outputs": [
    {
     "data": {
      "text/plain": [
       "[Sentence[58]: \" The Hatter was the first to break the silence. `What day of the month is it?' he said, turning to Alice:  he had taken his watch out of his pocket, and was looking at it uneasily, shaking it every now and then, and holding it to his ear.\",\n",
       " Sentence[48]: \" Alice thought this a very curious thing, and she went nearer to watch them, and just as she came up to them she heard one of them say, `Look out now, Five!  Don't go splashing paint over me like that!\"]"
      ]
     },
     "execution_count": 111,
     "metadata": {},
     "output_type": "execute_result"
    }
   ],
   "source": [
    "# UPDATED\n",
    "###########################################################\n",
    "# Instead of elmo, embeds sentences using flair embeddings\n",
    "# elmo.embed(flair_sentences)\n",
    "flair_emb.embed(flair_sentences)\n",
    "###########################################################"
   ]
  },
  {
   "cell_type": "code",
   "execution_count": 112,
   "metadata": {
    "colab": {
     "base_uri": "https://localhost:8080/"
    },
    "id": "UdFVdgRZPIpc",
    "outputId": "9f217b62-5258-4bb5-80b1-50167528a771"
   },
   "outputs": [
    {
     "data": {
      "text/plain": [
       "(Token[31]: \"watch\", Token[13]: \"watch\")"
      ]
     },
     "execution_count": 112,
     "metadata": {},
     "output_type": "execute_result"
    }
   ],
   "source": [
    "token_watch1 = flair_sentences[0].tokens[31]\n",
    "token_watch2 = flair_sentences[1].tokens[13]\n",
    "token_watch1, token_watch2"
   ]
  },
  {
   "cell_type": "code",
   "execution_count": 113,
   "metadata": {
    "colab": {
     "base_uri": "https://localhost:8080/"
    },
    "id": "3XbrpwUfPIpc",
    "outputId": "17511113-351f-4ccb-dafb-ac6c3af8bc0a"
   },
   "outputs": [
    {
     "data": {
      "text/plain": [
       "(tensor([-0.0007, -0.0057,  0.0187,  ..., -0.0051, -0.0022,  0.0026],\n",
       "        device='cuda:0'),\n",
       " tensor([-0.0011, -0.0037,  0.1031,  ..., -0.0079, -0.0044,  0.0002],\n",
       "        device='cuda:0'))"
      ]
     },
     "execution_count": 113,
     "metadata": {},
     "output_type": "execute_result"
    }
   ],
   "source": [
    "token_watch1.embedding, token_watch2.embedding"
   ]
  },
  {
   "cell_type": "markdown",
   "metadata": {
    "id": "ucsg8w21PIpd"
   },
   "source": [
    "### Where do ELMo Embeddings come from?\n",
    "\n",
    "![](https://github.com/dvgodoy/PyTorchStepByStep/blob/master/images/elmo_lstm.png?raw=1)\n",
    "\n",
    "![](https://github.com/dvgodoy/PyTorchStepByStep/blob/master/images/elmo_embed.png?raw=1)"
   ]
  },
  {
   "cell_type": "code",
   "execution_count": null,
   "metadata": {
    "id": "AehQ4275PIpd"
   },
   "outputs": [],
   "source": [
    "# UPDATED\n",
    "###########################################################\n",
    "# Unfortunately, this piece of code only makes sense for\n",
    "# ELMO embeddings. Flair embeddings are structured differently\n",
    "# and therefore this code is commented out.\n",
    "# token_watch1.embedding[0], token_watch1.embedding[512]\n",
    "###########################################################"
   ]
  },
  {
   "cell_type": "code",
   "execution_count": null,
   "metadata": {
    "id": "VFAgysccPIpd"
   },
   "outputs": [],
   "source": [
    "# UPDATED\n",
    "###########################################################\n",
    "# Unfortunately, this piece of code only makes sense for\n",
    "# ELMO embeddings. Flair embeddings are structured differently\n",
    "# and therefore this code is commented out.\n",
    "# (token_watch1.embedding[:1024] == token_watch2.embedding[:1024]).all()\n",
    "###########################################################"
   ]
  },
  {
   "cell_type": "code",
   "execution_count": 114,
   "metadata": {
    "colab": {
     "base_uri": "https://localhost:8080/"
    },
    "id": "3hxX2iMHPIpd",
    "outputId": "f2a2ba04-428b-4d6a-9748-ffc44987e072",
    "scrolled": true
   },
   "outputs": [
    {
     "data": {
      "text/plain": [
       "tensor(0.5003, device='cuda:0')"
      ]
     },
     "execution_count": 114,
     "metadata": {},
     "output_type": "execute_result"
    }
   ],
   "source": [
    "similarity = nn.CosineSimilarity(dim=0, eps=1e-6)\n",
    "similarity(token_watch1.embedding, token_watch2.embedding)"
   ]
  },
  {
   "cell_type": "code",
   "execution_count": 115,
   "metadata": {
    "id": "jF_w6p-rPIpe"
   },
   "outputs": [],
   "source": [
    "def get_embeddings(embeddings, sentence):\n",
    "    sent = Sentence(sentence)\n",
    "    embeddings.embed(sent)\n",
    "    return torch.stack([token.embedding for token in sent.tokens]).float()"
   ]
  },
  {
   "cell_type": "code",
   "execution_count": 116,
   "metadata": {
    "colab": {
     "base_uri": "https://localhost:8080/"
    },
    "id": "kEU5nynEPIpe",
    "outputId": "3adbeb72-7c7a-4f0c-9936-99d1fb3be4a7",
    "scrolled": true
   },
   "outputs": [
    {
     "data": {
      "text/plain": [
       "tensor([[-2.0933e-03,  5.0415e-04,  4.6944e-02,  ..., -4.4014e-04,\n",
       "         -3.9301e-02,  1.0601e-02],\n",
       "        [ 3.2224e-04,  1.4939e-03,  2.5947e-02,  ..., -9.2415e-04,\n",
       "         -1.4211e-02,  3.0942e-03],\n",
       "        [ 1.7407e-03, -1.8324e-04,  5.3375e-02,  ...,  4.5165e-04,\n",
       "          5.4484e-02,  9.7125e-03],\n",
       "        ...,\n",
       "        [ 2.2250e-03,  2.2138e-04,  4.4385e-02,  ..., -3.9766e-03,\n",
       "         -7.9449e-04,  2.2444e-02],\n",
       "        [-2.2455e-03,  9.7197e-04,  3.4624e-02,  ..., -7.1559e-05,\n",
       "          1.2647e-02,  1.3210e-02],\n",
       "        [ 1.0997e-03,  8.4726e-05,  1.5534e-01,  ..., -1.5737e-04,\n",
       "          9.5801e-04,  5.3785e-03]], device='cuda:0')"
      ]
     },
     "execution_count": 116,
     "metadata": {},
     "output_type": "execute_result"
    }
   ],
   "source": [
    "# UPDATED\n",
    "###########################################################\n",
    "# Instead of elmo, embeds sentences using flair embeddings\n",
    "# get_embeddings(elmo, watch1)\n",
    "get_embeddings(flair_emb, watch1)\n",
    "###########################################################"
   ]
  },
  {
   "cell_type": "markdown",
   "metadata": {
    "id": "fX_xJposPIpe"
   },
   "source": [
    "## GloVe"
   ]
  },
  {
   "cell_type": "code",
   "execution_count": null,
   "metadata": {
    "colab": {
     "base_uri": "https://localhost:8080/"
    },
    "id": "p7Y54X9_PIpe",
    "outputId": "6d284631-1096-449c-d81d-9d85100553f3"
   },
   "outputs": [],
   "source": [
    "from flair.embeddings import WordEmbeddings\n",
    "glove_embedding = WordEmbeddings('glove')"
   ]
  },
  {
   "cell_type": "code",
   "execution_count": 118,
   "metadata": {
    "colab": {
     "base_uri": "https://localhost:8080/"
    },
    "id": "mibBx6mvPIpe",
    "outputId": "daaf25a4-14b5-4147-8311-65861baa0dd5"
   },
   "outputs": [
    {
     "data": {
      "text/plain": [
       "[Sentence[58]: \" The Hatter was the first to break the silence. `What day of the month is it?' he said, turning to Alice:  he had taken his watch out of his pocket, and was looking at it uneasily, shaking it every now and then, and holding it to his ear.\",\n",
       " Sentence[48]: \" Alice thought this a very curious thing, and she went nearer to watch them, and just as she came up to them she heard one of them say, `Look out now, Five!  Don't go splashing paint over me like that!\"]"
      ]
     },
     "execution_count": 118,
     "metadata": {},
     "output_type": "execute_result"
    }
   ],
   "source": [
    "new_flair_sentences = [Sentence(s) for s in sentences]\n",
    "glove_embedding.embed(new_flair_sentences)"
   ]
  },
  {
   "cell_type": "code",
   "execution_count": 119,
   "metadata": {
    "colab": {
     "base_uri": "https://localhost:8080/"
    },
    "id": "WzaqGrPBPIpf",
    "outputId": "42cee0a9-5191-4876-9e4c-e59b78cc8d6b"
   },
   "outputs": [
    {
     "data": {
      "text/plain": [
       "tensor(True, device='cuda:0')"
      ]
     },
     "execution_count": 119,
     "metadata": {},
     "output_type": "execute_result"
    }
   ],
   "source": [
    "torch.all(new_flair_sentences[0].tokens[31].embedding == new_flair_sentences[1].tokens[13].embedding)"
   ]
  },
  {
   "cell_type": "markdown",
   "metadata": {
    "id": "mIH-ZF35PIpf"
   },
   "source": [
    "## BERT"
   ]
  },
  {
   "cell_type": "code",
   "execution_count": null,
   "metadata": {
    "colab": {
     "base_uri": "https://localhost:8080/",
     "height": 287,
     "referenced_widgets": [
      "2de16307e11046418b98b90111b4009b",
      "9a78ed83139b4f26bf8282022e3c403e",
      "046484ba77494b55acb7e13ed55a3487",
      "12e1763b7a9b4ae78074cee4b5a409a3",
      "47fddc1c2c074d87a6050b2a26d859f1",
      "886bcbe9c1394d569f0c74fd7b54f0a5",
      "42d404e579f04988813895e1d0212f81",
      "b2610c7ea73e437083cd43ef671cc563",
      "514fd68e776d4e4aaeb4a90f51bc4736",
      "f601a3994de84cc9885036e8d1c5a8ee",
      "64cecc3cdf97483990e52c2b0311601f",
      "0dcaee584779404aa4fbbad506ddcd3a",
      "53a7239ac99e4fd889edf4be66091d35",
      "57b9fbf00fe34967b6f342524aae352b",
      "e6f9a976e59e42618a3c511f427acb88",
      "7ce5227fb27046dfb9f47c48aa863fb8",
      "32945d26f3504f99a1b2140cd83d121e",
      "dbf509c4b21142ec9131647ab164374a",
      "c34e1baa25134764a8ecaa869b6bc406",
      "305ec2194a844366910861a1c2b73201",
      "ed7ba59f9d504f6c841ebcd8386efdb9",
      "6a39130caf3f455d8f0f1d002a74bdb1",
      "29e05722f6d94e049658cace58933099",
      "e243128654cd4c44873240ecc4644a17",
      "120b3e46872b41cdb2be157882b67ca4",
      "9aba3a0e80c34c8790985250931253f1",
      "2e61bcbdaa8d4ec299cc29ae92c80adb",
      "14d54788f46d479eb0faa38af384cdc8",
      "a12d5562a5d84bca8378845a92411bc6",
      "d9cdf9667f6746f382f5f10f772b3144",
      "5e05b1fd6b084563bc6b22e5650c6c79",
      "8b7af1b3fb044d428f5a98dfb804a356",
      "0e0863081114481c964e57672c86c0b7",
      "090e8bfcf7ed4be6870d9fcb068100a3",
      "dc87398fce094a658da749f69feb4fc8",
      "4e07a852aa1b4cf1bb57b7c77515c133",
      "8e8a43aa4e11455484df7d141e6ad248",
      "3c644b03c6ca4f388efbfe3f9cd573a4",
      "cc9a28d85306494ea73be4bbe52e9d17",
      "cba3e1f715b24d03b8cf179efb41055b",
      "afffdf5c259f4f14aeb99b6c25016ac6",
      "ff2247ba8c714949a5e80f599f4f47b4",
      "c70600d1e4784ea7bf7e58b06ee47cc1",
      "6381a57dd82848689065de71dda55749",
      "2493c820244c4097a40125268920c512",
      "208deb72133c40a7a88e01add562fd60",
      "1ea9534a1322429eba100f7a28b3cbb2",
      "61d1ee6617f3473da9b5e40b1ac00fbf",
      "a74b725d47d149d497dcb57a8f4b8df0",
      "9fcc4a2ca21042848e5becbb152cb681",
      "1612ba093f8c455fb8149092cf366571",
      "70db9c1a40214b50a30862988d18e717",
      "e3941149c2a84b6ab6f61b6666e393af",
      "072fea3dc9ba40f0b6e781f8755a322f",
      "a1c3ad8b4f61434b9d41fb0ffda79991"
     ]
    },
    "id": "wppmv3qLPIpf",
    "outputId": "f63242b4-7e4b-4a29-8cd5-857dd799acc8"
   },
   "outputs": [],
   "source": [
    "from flair.embeddings import TransformerWordEmbeddings\n",
    "bert_flair = TransformerWordEmbeddings('bert-base-uncased', layers='-1')"
   ]
  },
  {
   "cell_type": "code",
   "execution_count": 121,
   "metadata": {
    "colab": {
     "base_uri": "https://localhost:8080/"
    },
    "id": "IXKlNCfdPIpf",
    "outputId": "d8d300b6-57e5-4241-e583-101723b5c225"
   },
   "outputs": [
    {
     "data": {
      "text/plain": [
       "tensor([[ 0.6554, -0.3799, -0.2842,  ...,  0.0601,  0.8865,  0.4760],\n",
       "        [-0.1459, -0.0204, -0.0615,  ..., -0.0257,  0.5052,  0.3324],\n",
       "        [-0.0436, -0.0400, -0.0135,  ...,  0.3920,  0.5231,  0.9067],\n",
       "        ...,\n",
       "        [-0.2582,  0.6933,  0.2688,  ..., -0.0325,  0.0772,  0.2187],\n",
       "        [-0.1868,  0.6398, -0.8127,  ..., -0.5957,  0.2793,  0.1880],\n",
       "        [-0.1021,  0.5222, -0.7142,  ...,  0.3644,  0.0600, -0.1419]],\n",
       "       device='cuda:0')"
      ]
     },
     "execution_count": 121,
     "metadata": {},
     "output_type": "execute_result"
    }
   ],
   "source": [
    "embed1 = get_embeddings(bert_flair, watch1)\n",
    "embed2 = get_embeddings(bert_flair, watch2)\n",
    "embed2"
   ]
  },
  {
   "cell_type": "code",
   "execution_count": 122,
   "metadata": {
    "colab": {
     "base_uri": "https://localhost:8080/"
    },
    "id": "ZNZPqZPUPIpg",
    "outputId": "2daedc15-16b4-485b-8142-b91116ce17f3"
   },
   "outputs": [
    {
     "data": {
      "text/plain": [
       "(tensor([ 8.5760e-01,  3.5888e-01, -3.7825e-01, -8.3564e-01,  1.3528e+00,\n",
       "          1.0204e-01, -8.2618e-01,  3.1570e-01,  3.1091e-01, -4.2653e-01,\n",
       "          1.6632e-01,  7.2440e-02, -1.0276e+00,  4.4680e-01, -1.4549e-01,\n",
       "          1.8315e-01,  3.7484e-01, -4.0245e-01, -1.4190e-01, -5.1596e-01,\n",
       "          1.1984e+00,  6.8202e-01,  1.1028e+00, -4.3956e-02,  1.6932e-02,\n",
       "          7.4420e-01, -1.0604e-01,  3.8719e-01,  7.3662e-02,  2.2424e-01,\n",
       "         -5.0282e-02,  1.9586e-01,  1.0773e+00,  1.0341e+00,  4.4217e-01,\n",
       "         -6.5567e-01, -5.6308e-01, -1.1827e-01,  1.2862e-01,  4.6581e-01,\n",
       "         -7.1305e-01, -1.5682e-01, -1.3552e-01,  4.5852e-02,  8.2852e-03,\n",
       "          5.2762e-01,  1.6906e+00,  5.5388e-01, -7.3777e-02,  5.1504e-01,\n",
       "         -2.0619e-01, -2.9503e-03,  2.5389e-01, -1.5379e-01,  8.4900e-01,\n",
       "          6.5440e-01, -3.2925e-01, -1.1198e+00,  2.4251e-01,  1.5586e-01,\n",
       "          5.7514e-01,  8.5832e-02,  3.3306e-01, -3.9344e-01, -4.1766e-01,\n",
       "          1.0790e+00,  1.1719e-02,  7.0214e-01, -6.0665e-01,  7.3702e-01,\n",
       "          6.8223e-02, -3.7110e-01, -7.7589e-01, -1.3057e-01,  1.7179e-01,\n",
       "          6.2051e-01, -6.4163e-01,  4.2881e-01,  5.7445e-01,  3.9801e-02,\n",
       "         -2.1279e-01, -5.1984e-01,  7.5919e-01,  3.0600e-01, -3.3987e-01,\n",
       "         -3.0427e-01, -5.7486e-01, -5.2273e-02, -6.8957e-01,  7.3935e-01,\n",
       "         -1.6545e-01, -8.2786e-01,  3.4169e-02,  7.1547e-01, -5.6962e-01,\n",
       "         -7.8686e-01,  3.6913e-01, -1.9961e-02, -5.7287e-01, -2.6407e-01,\n",
       "          8.5581e-01, -6.1419e-02,  3.8184e-01, -9.1566e-03, -1.0273e+00,\n",
       "         -5.3303e-01,  4.4014e-01,  1.7875e-01,  9.1851e-01,  5.9216e-01,\n",
       "         -4.8853e-01, -3.9106e-01, -8.8284e-02, -7.1935e-01, -3.8647e-01,\n",
       "          9.9550e-02,  2.2983e-01, -1.5325e+00,  6.5409e-02, -1.0896e+00,\n",
       "          1.2108e-01, -1.9921e-01, -2.5195e-01,  1.4421e-01,  2.7531e-02,\n",
       "         -3.0479e-01, -3.8533e-01, -1.1540e-01, -8.3979e-01, -7.7467e-01,\n",
       "          6.5181e-01,  3.1980e-01,  4.7616e-01, -8.2181e-01, -4.4323e-01,\n",
       "          1.2445e-01, -2.9082e-01, -4.2669e-01, -6.8031e-01,  1.1736e+00,\n",
       "          1.0199e+00,  7.3959e-01, -6.1510e-01,  1.0691e+00,  5.6806e-01,\n",
       "          9.4541e-01, -9.8110e-01, -7.1101e-01,  3.6151e-01,  2.0443e-01,\n",
       "         -5.0706e-02, -2.8712e-01,  1.2332e-01,  3.9614e-01, -4.4268e-01,\n",
       "         -5.5477e-01,  2.8325e-01,  5.5901e-01, -3.8944e-01, -4.2003e-01,\n",
       "         -1.2470e-01, -9.5830e-01, -3.4775e-02,  1.0381e+00, -2.2607e-02,\n",
       "          4.7267e-01,  8.1840e-01,  9.0778e-01, -1.9271e-02,  9.3007e-03,\n",
       "         -2.9097e-01,  5.1579e-01,  6.5791e-01,  3.1353e-01,  4.7983e-01,\n",
       "          6.2282e-01,  1.4813e-01, -3.8600e-01,  1.8680e-01, -7.3365e-01,\n",
       "         -5.2868e-01, -3.5756e-01,  1.4778e+00,  1.7065e+00,  5.2843e-01,\n",
       "          4.3788e-01, -6.0783e-01, -2.0891e-01, -2.6378e-01, -3.5563e-01,\n",
       "         -1.9136e-01,  4.4895e-01, -2.1979e-01, -2.2114e-01, -6.3080e-01,\n",
       "         -1.1537e+00,  3.8770e-01, -6.5096e-01, -1.4381e-01, -3.3387e-01,\n",
       "         -4.8165e-01, -2.2851e-01,  4.4550e-01, -1.4106e-01, -1.9820e-01,\n",
       "          1.2682e-01,  5.7340e-01,  5.2960e-01,  3.8535e-01, -1.8421e-01,\n",
       "         -2.7734e-01,  2.1106e-02, -5.1269e-01,  1.2724e-01, -5.2737e-01,\n",
       "          1.9794e-01,  6.6517e-01, -4.9908e-01, -5.2315e-01, -3.3081e-01,\n",
       "         -6.9502e-01, -2.1738e-01, -9.1546e-01,  8.4446e-01, -8.6271e-01,\n",
       "          9.8701e-01, -5.3786e-01,  2.2177e-01, -7.9477e-01,  1.6505e-01,\n",
       "         -3.9847e-01, -2.9883e-01,  2.0877e-01,  2.4684e-01,  1.0068e-01,\n",
       "          1.6014e-01, -1.1922e+00, -1.5679e-01, -2.0235e-03, -5.7467e-01,\n",
       "          4.6138e-03, -2.6884e-01,  4.2084e-01, -7.2791e-03,  3.4696e-01,\n",
       "          5.3609e-01,  2.1878e-01,  3.3520e-01, -2.8570e-01, -5.0958e-01,\n",
       "         -3.9454e-01, -8.9165e-01,  1.2181e+00, -6.8443e-01,  1.9280e-01,\n",
       "         -2.1449e-01,  4.6196e-02,  5.2594e-01, -4.3565e-02,  2.4555e-01,\n",
       "          1.9387e+00,  1.5278e-01,  9.9872e-01,  4.8577e-01, -4.1082e-01,\n",
       "         -8.3016e-01,  2.7045e-01,  4.8655e-01, -2.4722e-01, -1.8512e-01,\n",
       "          2.0524e-01, -6.6171e-02,  2.3728e-01,  1.2404e+00, -2.6077e-01,\n",
       "         -1.6077e-01,  1.3507e-01,  1.1847e-01, -2.9235e-01,  5.5437e-01,\n",
       "         -1.8560e-01,  1.3344e+00, -3.6667e-01, -3.7478e-01, -5.5665e-02,\n",
       "         -3.4930e-01,  8.5271e-01,  1.5741e+00,  6.0562e-01,  4.3780e-01,\n",
       "         -1.0298e+00,  4.0719e-01, -8.2617e-02,  2.7545e-02, -4.9199e-01,\n",
       "          7.3797e-01,  2.4101e-01,  9.6176e-01,  6.4367e-01,  1.1653e-01,\n",
       "          9.4047e-01, -2.6082e-01,  1.0976e+00, -1.1490e-01, -9.5253e-01,\n",
       "          5.8644e-02, -2.3060e-01, -6.7886e-02, -3.0703e+00,  2.4538e-02,\n",
       "          2.7582e-01, -4.3797e-01, -7.8420e-02,  4.2382e-01,  1.0763e+00,\n",
       "          1.8140e-01, -1.0572e+00, -3.9120e-01, -9.3492e-02, -3.7970e-01,\n",
       "          5.3947e-02,  1.1576e+00,  8.4130e-01,  1.8007e-01, -5.2631e-01,\n",
       "         -2.0291e-01, -1.9092e-02,  6.1720e-01,  1.1918e-01, -1.4457e+00,\n",
       "         -2.5592e-01, -1.2389e-01,  2.3928e-01,  1.1959e+00, -5.4284e-01,\n",
       "         -8.6952e-01, -4.8750e-01,  2.3500e-01,  1.3830e-02, -2.6659e-01,\n",
       "          9.7897e-01, -8.5489e-01,  3.1946e-01, -4.9998e-01, -3.2241e-01,\n",
       "         -1.3864e-01,  1.2900e-01, -7.5765e-01, -4.5315e-01,  2.9473e-01,\n",
       "          8.7803e-02, -1.3806e-01,  4.5430e-01,  8.0650e-02, -4.1994e-01,\n",
       "          5.8679e-03, -7.0910e-02,  3.8368e-01, -1.3059e-01,  8.7690e-01,\n",
       "         -6.1343e-01, -6.1015e-01, -7.0236e-01,  3.7512e-01,  3.3982e-01,\n",
       "          8.0856e-01, -1.6385e-01, -1.0569e-01,  6.1967e-01, -5.8364e-02,\n",
       "          2.3294e-01, -2.7713e-01,  5.2177e-01, -1.7158e-01, -1.0602e+00,\n",
       "         -4.3479e-01, -6.6953e-02,  3.6794e-01, -2.3135e-01, -2.0400e-01,\n",
       "         -5.3282e-01, -1.2286e+00, -2.4328e-01, -2.8658e-01,  1.3142e+00,\n",
       "          3.1902e-01, -9.1673e-02, -6.9225e-01, -3.0026e-01, -9.0491e-01,\n",
       "          8.4392e-02,  2.1298e-01,  8.2160e-01, -6.7558e-01, -8.9888e-01,\n",
       "          3.5113e-01, -5.2840e-01, -3.1060e-02, -2.8948e-01,  5.1492e-01,\n",
       "         -2.2329e-02,  1.6455e-01, -1.3406e-01,  7.9522e-01, -1.0633e-01,\n",
       "          4.0473e-01,  3.6492e-01, -6.1566e-01, -5.1250e-01, -5.4742e-01,\n",
       "          3.2135e-02, -4.5447e-02,  5.3155e-02,  7.0305e-01, -1.5488e+00,\n",
       "          6.2800e-01, -4.1181e-01,  3.1977e-01,  3.9906e-01, -1.7447e-01,\n",
       "          1.0357e+00, -5.4064e-01,  2.1086e-01, -5.4963e-01, -3.4768e-02,\n",
       "         -1.6814e-01,  4.8931e-01,  1.6012e-01, -6.6077e-01, -6.7637e-02,\n",
       "          9.2604e-02, -1.1114e+00,  4.6336e-01, -3.5745e-01, -3.2055e-02,\n",
       "          3.4265e-01,  3.5538e-01,  6.7498e-01, -2.0282e-01,  2.1987e-02,\n",
       "         -1.0548e+00,  9.8446e-01, -5.6733e-01,  6.9380e-02, -4.7736e-01,\n",
       "         -9.9546e-01, -3.5254e-02,  4.6173e-01,  7.1046e-01,  3.3707e-01,\n",
       "         -8.1136e-02, -4.8355e-01,  5.4515e-01,  3.7669e-02,  5.2528e-01,\n",
       "          4.1853e-02, -1.2564e+00, -3.2226e-01, -8.2649e-01, -7.5457e-02,\n",
       "         -7.5999e-01, -1.8107e-01,  1.1781e+00,  7.7896e-01,  6.6844e-01,\n",
       "         -7.6050e-01, -4.5029e-01, -5.4186e-01,  2.7288e-03,  2.3229e-01,\n",
       "         -6.9320e-01, -4.4791e-02, -7.4108e-02,  9.3096e-01, -4.1993e-01,\n",
       "         -7.3685e-01,  6.3003e-02,  4.0879e-01, -7.2932e-01, -1.6402e-01,\n",
       "         -2.7400e-01,  7.5049e-01, -6.5255e-01, -4.3226e-01, -6.2632e-02,\n",
       "         -8.2434e-01, -9.1996e-01,  5.1996e-01,  3.3342e-01,  3.0549e-03,\n",
       "         -3.7381e-01,  8.1910e-01, -2.5230e-01, -8.2635e-01,  3.8007e-01,\n",
       "         -1.0642e+00, -7.9937e-01,  1.0933e-01, -2.3652e-01,  4.5540e-01,\n",
       "         -2.9788e-01, -1.5564e+00, -2.3166e-01, -1.1862e+00, -2.9165e-01,\n",
       "         -2.1934e-01,  1.1169e-01,  1.3712e-01, -5.1983e-01, -2.5509e-01,\n",
       "         -4.4754e-01, -4.7948e-01,  4.6833e-01, -1.8625e-01,  6.9716e-01,\n",
       "         -1.1866e-01,  6.1084e-01,  6.3114e-01, -8.4579e-01, -4.6913e-01,\n",
       "          9.2668e-02,  2.9336e-02,  2.5508e-01,  4.5543e-01,  1.8251e-01,\n",
       "         -1.1855e-01, -1.2805e-01,  8.3519e-02,  1.7325e-01,  6.1112e-01,\n",
       "         -3.9921e-01,  1.6798e-01, -8.4275e-02,  3.9789e-01,  9.2255e-01,\n",
       "          7.7275e-02, -4.0163e-01,  3.1146e-01, -3.0563e-01, -5.8679e-01,\n",
       "          4.1130e-01, -4.3300e-01, -1.2496e+00, -8.5653e-01, -2.3101e-01,\n",
       "         -1.2980e+00, -2.7850e-01,  1.3634e-01,  3.4896e-01,  4.5002e-01,\n",
       "         -6.9828e-01,  6.2787e-01, -2.2598e-01, -1.7731e-01, -3.2118e-02,\n",
       "          4.8136e-01,  5.0901e-01,  5.0199e-01,  3.6993e-01, -4.5981e-01,\n",
       "         -6.7486e-02, -8.6722e-01, -5.7723e-01, -3.2765e-01,  7.8836e-01,\n",
       "          4.0974e-01, -1.8077e-01, -8.4644e-01, -2.5588e-01,  1.0655e+00,\n",
       "         -3.7329e-01, -4.9543e-01, -2.4806e-01, -3.7839e-02,  9.1718e-02,\n",
       "         -1.5725e-01,  2.4216e-01,  6.5864e-02,  1.3641e+00, -1.2707e+00,\n",
       "          7.8174e-02, -1.0401e+00, -3.9388e-01, -2.5627e-01, -4.9158e-01,\n",
       "         -4.0819e-01,  7.3981e-01, -4.4651e-01, -3.1208e-01,  6.2193e-01,\n",
       "          1.1230e+00, -4.4226e-02, -1.2044e+00,  2.2500e-01, -9.1115e-02,\n",
       "          3.5365e-01, -3.7870e-01, -1.0870e-01,  3.2082e-01,  1.2314e-01,\n",
       "         -2.1645e-02,  1.1413e+00,  1.3573e-02, -9.9737e-02,  9.3759e-01,\n",
       "          5.0417e-02, -4.9671e-01,  9.0127e-01,  1.4178e-01,  2.0027e-01,\n",
       "          6.3084e-01, -2.0751e-02,  3.0619e-01,  4.5247e-01, -7.6788e-01,\n",
       "         -7.2624e-01, -5.2419e-01,  6.0564e-01, -1.9887e-02, -2.9045e-01,\n",
       "          4.0384e-01,  9.0467e-01, -9.9711e-01,  1.0205e-02,  1.7958e-01,\n",
       "          3.5786e-02, -2.3696e-01,  6.4812e-01,  1.5352e-01,  3.1153e-02,\n",
       "          1.3805e-01, -1.4471e-01, -9.9713e-01,  1.7288e-01,  1.8074e-01,\n",
       "         -2.8294e-02,  7.8877e-01,  3.7700e-01, -7.0563e-02,  1.0712e+00,\n",
       "         -4.2392e-01,  4.1656e-01, -6.8028e-01,  1.6911e-01,  2.6617e-01,\n",
       "         -1.1312e+00,  1.6047e-01, -4.5070e-01,  4.9935e-01,  3.4413e-01,\n",
       "          6.4540e-01, -2.6726e-01,  1.5033e-01,  4.2149e-01,  3.4961e-01,\n",
       "         -1.5505e-01,  1.5471e+00,  7.7871e-01, -2.7912e-01, -4.5703e-01,\n",
       "         -7.9149e-01, -5.7845e-01, -2.4879e-01, -6.0028e-01,  6.9574e-02,\n",
       "         -1.9024e-02,  2.0337e-01,  1.3373e+00,  1.7257e-01, -3.3319e-01,\n",
       "          1.4024e-01, -2.2573e-02, -2.2282e-01,  3.4986e-02, -1.4985e-01,\n",
       "          5.2162e-02,  1.5562e-01, -2.3856e-01, -7.4214e-02, -2.1547e-01,\n",
       "          7.6900e-01,  1.1663e-01,  5.3913e-02, -2.6870e-01, -2.3951e-01,\n",
       "          8.8452e-01,  3.2750e-01, -7.8228e-02,  4.5901e-01, -4.3255e-01,\n",
       "         -4.4316e-01, -3.2504e-01, -1.4550e+00, -8.6594e-02, -7.3577e-02,\n",
       "         -2.0595e-01, -6.1714e-01, -7.1308e-01,  8.2567e-01,  1.6622e-01,\n",
       "         -8.5806e-01, -6.5291e-01, -1.5518e-02, -6.2837e-01,  5.6276e-01,\n",
       "          9.6669e-02,  4.9524e-01,  3.4259e-01, -6.7065e-01, -4.1591e-01,\n",
       "         -3.3399e-01, -7.4808e-01,  3.2285e-01, -5.1326e-02,  4.1144e-01,\n",
       "          2.6481e-01, -9.0313e-01, -4.4464e-01,  6.6254e-02,  4.1635e-01,\n",
       "         -7.5472e-01,  1.2165e+00, -4.2961e-01,  6.3139e-01, -2.1192e-02,\n",
       "         -4.6616e-01, -1.4575e-01, -7.4167e-01, -2.7592e-01, -4.6199e-02,\n",
       "          4.5393e-01,  4.7207e-01, -1.7622e-01, -6.7738e-01,  3.7787e-01,\n",
       "          5.3374e-01,  3.6832e-01,  1.3724e-01, -1.1172e+00, -2.5947e-01,\n",
       "          1.1888e+00, -1.0117e-01, -4.8335e-01,  5.8897e-02,  1.6610e-01,\n",
       "          6.6885e-01, -9.0577e-01, -2.3182e-01,  5.9258e-01,  1.1081e-01,\n",
       "          1.8942e-01,  6.5041e-01,  4.6973e-01, -3.1615e-01, -5.9470e-01,\n",
       "         -5.1061e-01, -9.7604e-01,  6.0229e-01, -6.3250e-01, -4.2595e-01,\n",
       "         -5.7413e-01, -7.1769e-01,  9.2507e-01, -6.2844e-01,  1.8694e-01,\n",
       "          2.0768e-01,  1.1880e-01,  4.1445e-01], device='cuda:0'),\n",
       " tensor([-9.8449e-02,  1.4698e+00,  2.8573e-01, -3.9569e-01,  9.6890e-02,\n",
       "          8.6436e-01, -3.7401e-01,  2.1752e-01, -2.5937e-01, -4.2487e-01,\n",
       "         -6.1410e-02,  3.3272e-01, -1.9102e-01, -2.9803e-02, -1.7782e-01,\n",
       "          7.1223e-01, -3.6092e-01,  4.7531e-01,  1.8901e-01, -1.9464e-01,\n",
       "          5.5041e-01, -2.0075e-01, -4.9742e-01, -1.3700e-02,  6.5577e-02,\n",
       "          2.2761e-01,  7.6017e-01, -7.9264e-02,  2.7941e-01, -5.4700e-02,\n",
       "         -2.6595e-01,  5.5095e-01, -2.1662e-01,  1.4398e-01, -3.8731e-01,\n",
       "         -1.9042e-01,  1.3155e-01,  2.2447e-01,  2.9488e-01,  2.7523e-01,\n",
       "         -2.7458e-01, -5.0480e-01, -3.9631e-01,  3.0837e-01, -6.3027e-01,\n",
       "         -3.5416e-01,  1.1856e+00,  8.9831e-02,  4.4822e-01,  4.0406e-01,\n",
       "         -3.4759e-01,  5.6113e-01,  1.0385e+00,  1.5012e-01,  3.7633e-01,\n",
       "         -3.9084e-01,  1.0627e-01, -5.0344e-02,  2.2779e-01, -5.2758e-01,\n",
       "         -1.9242e-01,  1.8374e-02,  5.2802e-01,  1.6686e-01, -7.3694e-01,\n",
       "          4.7303e-01, -4.7016e-01,  1.6289e-01,  9.7774e-02,  1.2824e-01,\n",
       "         -2.8870e-01, -3.9116e-01, -1.8324e-01,  5.2460e-01, -1.9830e-01,\n",
       "          5.4971e-01,  4.1160e-02, -3.3559e-01,  2.1168e-02, -8.5710e-02,\n",
       "          1.3109e-01, -3.6348e-01,  2.7382e-01,  1.1263e+00, -2.5038e-01,\n",
       "         -6.4161e-01, -3.2357e-01, -1.3938e-01, -1.0110e+00,  7.3331e-01,\n",
       "          1.0102e-01,  1.5387e-01, -2.9724e-01,  2.5424e-01,  3.2296e-01,\n",
       "         -3.5495e-01,  1.2272e-01,  9.6730e-02,  2.1486e-02,  9.1426e-02,\n",
       "         -1.4177e-01,  5.2628e-01,  2.1227e-01, -1.7098e-01, -3.8352e-01,\n",
       "          1.6601e-01,  4.4298e-01,  6.3218e-03, -5.9510e-01,  3.5965e-01,\n",
       "         -7.1792e-01, -3.6388e-01, -7.0435e-02,  1.8896e-01,  5.4331e-03,\n",
       "          1.1766e-02,  1.0752e-01, -5.5095e-01, -6.7836e-02,  3.5240e-01,\n",
       "         -2.6229e-01,  3.7230e-01, -8.1172e-02,  4.8515e-01,  1.0485e-02,\n",
       "         -2.9454e-01, -3.1111e-01, -2.6310e-01,  6.3381e-02, -1.0854e-01,\n",
       "          1.3688e+00,  2.9465e-01,  2.0623e-01,  3.8317e-02,  5.4437e-02,\n",
       "         -1.5726e+00,  3.7239e-01, -6.0964e-01, -8.8024e-01,  2.4682e-01,\n",
       "          6.7070e-01, -5.6562e-01,  2.1737e-01,  8.4505e-02, -2.6882e-01,\n",
       "          1.4112e-01, -8.0701e-01, -1.1845e-01, -3.2562e-01,  7.8287e-01,\n",
       "         -1.8123e-01, -7.1260e-01,  2.0073e-01, -2.2902e-01, -1.7190e-01,\n",
       "          8.2328e-02,  3.2728e-01,  3.3844e-01, -4.3359e-01, -2.0109e-01,\n",
       "          5.2177e-01, -2.1286e-01, -5.4271e-01,  4.2771e-01, -2.8439e-02,\n",
       "          6.8534e-01,  3.0166e-01,  3.3880e-01, -7.2538e-01,  4.7892e-02,\n",
       "         -5.7754e-01,  4.3418e-01,  6.2832e-01,  1.1230e-01,  1.6312e-02,\n",
       "         -3.1558e-01,  3.0021e-01, -3.4793e-01, -4.2287e-01,  8.9215e-02,\n",
       "         -1.7020e-01,  5.5911e-01,  4.3507e-01,  1.0352e+00, -6.0532e-02,\n",
       "          6.4033e-02,  6.3265e-01,  5.8860e-01, -6.2739e-01, -3.6926e-01,\n",
       "         -1.3001e-01,  3.0337e-01, -7.3679e-01, -1.0968e+00, -4.9620e-01,\n",
       "         -2.4885e-02,  6.0554e-02, -2.8982e-01, -5.5470e-01,  9.2083e-02,\n",
       "         -3.5928e-01, -6.8506e-01,  7.0259e-01,  7.4057e-01,  4.1953e-02,\n",
       "         -2.2261e-01,  3.1581e-02, -5.7034e-01, -1.5258e-01, -1.9746e-01,\n",
       "         -5.7486e-01, -6.6855e-01, -5.3475e-01,  2.1482e-01, -8.8653e-01,\n",
       "          9.2318e-02, -2.2077e-02,  9.8558e-01, -8.5093e-01, -1.6057e-02,\n",
       "         -1.1169e-01, -2.8778e-01, -4.2301e-01,  7.7859e-02,  6.9498e-02,\n",
       "          4.2390e-01, -7.0422e-02,  7.7603e-02, -4.0021e-01, -2.4131e-01,\n",
       "          1.3328e-01, -1.1587e-01,  9.0171e-01, -3.4312e-01,  6.0788e-01,\n",
       "          3.1653e-01, -2.4758e-01,  4.5196e-02,  4.9370e-01,  3.8995e-01,\n",
       "         -3.4692e-01,  3.3056e-02,  2.0106e-01,  4.0234e-01,  1.2993e-01,\n",
       "          2.9119e-01,  9.2159e-01, -4.1758e-01,  1.5004e-02,  5.2865e-02,\n",
       "          6.0922e-01,  7.6300e-02,  2.6940e-01, -6.3987e-01,  1.7187e-01,\n",
       "         -1.4997e-01, -2.2630e-01, -5.7578e-01, -5.4688e-02, -1.4096e-01,\n",
       "         -1.8318e-01,  1.6508e-01,  5.1326e-01,  4.4380e-01, -2.8080e-01,\n",
       "         -4.5417e-01, -3.0488e-01,  4.8724e-01, -1.7721e-01, -2.2289e-01,\n",
       "          6.0853e-01, -2.2062e-04,  5.6217e-01,  1.1224e+00, -1.4180e+00,\n",
       "         -3.6117e-01,  1.5190e-01, -1.7284e-01, -1.7632e-02, -2.1651e-01,\n",
       "         -8.6195e-01,  4.2032e-02, -4.6597e-01,  7.2990e-02, -6.2120e-02,\n",
       "         -3.9781e-01,  3.5995e-01, -3.4646e-01, -3.0336e-01, -1.5005e-02,\n",
       "          3.3628e-01,  5.7878e-02, -3.3315e-01,  1.1097e-01,  3.0777e-02,\n",
       "         -7.1115e-01,  3.6039e-01,  1.6007e-01,  3.4098e-01, -5.3309e-01,\n",
       "          5.6319e-01,  2.1157e-01,  2.6252e-01,  4.2321e-01, -5.2220e-01,\n",
       "          2.4814e-01, -3.6991e-01, -5.4816e-01, -5.3290e+00,  1.0130e-01,\n",
       "         -2.4280e-01,  2.6960e-01,  6.2188e-01,  3.4420e-01,  2.2724e-01,\n",
       "          1.2104e-01, -3.0778e-01, -1.3375e-01,  1.2070e-01,  6.9458e-01,\n",
       "         -1.7730e-01,  6.3572e-01,  3.9321e-01,  1.0829e-03, -4.1992e-01,\n",
       "         -3.1437e-01,  4.6219e-01,  3.0782e-01, -2.4236e-01, -6.3911e-01,\n",
       "         -7.2800e-03, -2.1637e-02,  2.9671e-01,  8.6041e-01, -1.6743e-01,\n",
       "         -5.2726e-01, -7.3631e-01, -4.9699e-01, -4.0285e-02, -5.5160e-02,\n",
       "         -2.8419e-01,  3.4066e-01,  1.9508e-01, -3.1847e-01,  1.1065e-01,\n",
       "         -1.3114e+00, -6.5144e-02, -5.2608e-01, -2.2926e-01, -4.9479e-01,\n",
       "         -3.6531e-01, -1.5898e-01,  9.3911e-02,  1.2114e-01, -1.5592e-01,\n",
       "          1.9144e-01, -7.1318e-01, -1.7203e-01, -6.8007e-02,  4.2680e-01,\n",
       "          2.7249e-01, -8.1866e-02, -7.7034e-01,  4.4868e-02,  6.1248e-01,\n",
       "          6.4211e-01, -4.2664e-01, -4.1450e-01, -4.6396e-02, -5.7337e-01,\n",
       "          4.2681e-01, -4.0819e-02,  2.8339e-02, -3.5921e-01, -2.4894e-01,\n",
       "         -4.9875e-02,  5.8249e-01, -1.4033e-02, -3.2829e-01,  1.0102e-01,\n",
       "         -4.5791e-01, -1.0023e+00, -2.6306e-01, -2.5233e-01,  6.0858e-01,\n",
       "          2.0588e-01, -2.5912e-01, -1.0158e-01, -3.4643e-01, -1.6082e-01,\n",
       "         -3.1902e-01,  5.3895e-01,  2.7880e-01, -6.8466e-01, -7.6329e-02,\n",
       "          9.4314e-02,  1.3531e-01, -8.8651e-01, -5.7966e-01, -3.3632e-01,\n",
       "          3.1987e-01, -1.9380e-01,  2.8006e-01,  5.9293e-01,  5.4405e-01,\n",
       "          3.7746e-01,  1.5074e-01,  1.3050e-01,  1.8917e-01, -8.2223e-03,\n",
       "         -3.1581e-01,  3.0006e-01,  2.2615e-01, -4.7198e-01,  2.9255e-01,\n",
       "          3.9098e-01,  7.1997e-01, -6.5656e-01, -5.7877e-02, -7.4665e-01,\n",
       "          4.5998e-01, -1.7215e-01,  3.4801e-01, -3.4560e-01,  3.4529e-01,\n",
       "          4.9162e-01,  3.4105e-01,  5.2297e-01, -5.5147e-01,  2.9069e-02,\n",
       "         -1.3466e+00,  1.6773e-01, -2.8781e-01, -6.5206e-01, -2.8571e-01,\n",
       "          4.4820e-01, -8.2600e-01,  2.7299e-01, -1.6052e-01, -4.9491e-01,\n",
       "         -4.4123e-01, -3.0832e-02,  3.5858e-01, -3.2000e-01, -3.6482e-01,\n",
       "         -4.6250e-01,  6.8682e-01,  6.2212e-01, -6.7616e-01,  4.4652e-01,\n",
       "          6.3600e-02,  5.6310e-01,  9.1847e-01,  4.4499e-01,  4.0972e-01,\n",
       "          6.3158e-01, -4.8508e-01, -4.0152e-01, -5.0366e-01, -4.5478e-02,\n",
       "         -4.5590e-01, -7.5448e-01,  6.8782e-01, -3.8171e-01,  2.5105e-01,\n",
       "          1.3606e-01,  1.9530e-01, -1.6731e-01,  1.8509e-01,  2.4151e-01,\n",
       "         -1.2497e-01,  7.3939e-02,  8.0915e-02,  4.0503e-01, -4.4470e-01,\n",
       "          1.4211e-01, -6.2766e-02, -1.0847e+00,  1.5061e-02,  3.1442e-01,\n",
       "          6.1792e-02, -2.7084e-01, -9.5111e-02,  8.0670e-01,  3.4658e-01,\n",
       "          1.7020e-01, -3.4658e-01,  6.2307e-01, -3.1217e-01,  6.7439e-02,\n",
       "         -4.2302e-01,  6.6040e-01,  2.8155e-01, -3.0294e-02,  1.3720e-01,\n",
       "         -4.0739e-01,  4.6180e-01,  7.8493e-01, -2.0656e-01, -6.3212e-02,\n",
       "         -8.2126e-01,  1.9584e-01, -8.8633e-02, -1.0430e+00,  2.6545e-01,\n",
       "          1.2379e+00,  6.7183e-01, -6.8933e-01,  2.3559e-01,  6.4715e-01,\n",
       "          1.2310e-01, -2.8892e-01,  2.7236e-01, -4.1748e-01,  9.3375e-01,\n",
       "          1.2763e-01, -4.8758e-01,  4.1386e-01, -5.7510e-01,  3.0247e-02,\n",
       "         -5.2484e-01, -3.5384e-01, -4.3309e-01, -5.0379e-01, -1.4411e-01,\n",
       "         -9.1641e-02,  1.3801e-01, -2.2796e-01,  4.0613e-01, -5.3039e-01,\n",
       "          2.8264e-01,  1.4536e-01, -3.8260e-01, -1.0636e-01, -1.9395e-01,\n",
       "          2.4888e-01,  3.9480e-01, -1.9706e-01, -9.8293e-02, -5.3219e-01,\n",
       "          3.9783e-01, -3.8129e-01,  1.8971e-01, -3.3756e-01, -6.2739e-01,\n",
       "         -7.0887e-01,  3.7720e-01,  2.1101e-01, -5.8501e-01, -4.8129e-01,\n",
       "          2.2947e-01, -1.3340e-01,  1.1180e+00,  6.6438e-02,  4.8484e-01,\n",
       "         -2.2995e-01, -3.2569e-01,  4.2933e-02,  3.4589e-01, -2.4830e-01,\n",
       "          1.0948e-01, -1.3069e-01, -5.7944e-01, -1.9196e-01, -7.8060e-02,\n",
       "          1.1934e-01, -2.3422e-01, -2.1563e-01, -3.3932e-01,  8.7396e-02,\n",
       "          2.8107e-01, -4.7970e-01,  2.1479e-01, -1.1446e-01, -5.0093e-01,\n",
       "         -1.2180e-01,  5.6778e-01, -1.7505e-01,  5.0499e-01, -6.7217e-01,\n",
       "          3.6737e-01, -1.8358e-01,  2.3660e-01,  2.9736e-02, -3.5624e-01,\n",
       "         -1.1451e-01,  6.5315e-01, -4.0913e-01, -5.6405e-01,  7.2596e-01,\n",
       "         -2.3398e-01,  1.7279e-01, -4.2138e-01,  1.0075e-01,  1.4012e-01,\n",
       "          1.6682e-01,  2.0844e-01,  7.5970e-02,  2.4352e-01,  1.3455e-01,\n",
       "          1.4141e-01,  1.7959e-01,  1.4143e+00,  1.2107e-01,  3.6410e-01,\n",
       "         -5.9567e-01,  4.5288e-02,  4.0947e-02, -6.3150e-03, -1.5476e-02,\n",
       "         -5.4967e-02,  4.0418e-02,  5.3073e-01,  3.6719e-01,  5.9932e-03,\n",
       "         -6.0457e-01, -4.0461e-02,  3.0526e-01,  2.2857e-01,  3.1699e-01,\n",
       "         -6.1115e-01, -3.5432e-01, -1.7680e-01,  3.0425e-01,  4.4631e-01,\n",
       "         -8.0750e-02,  3.3443e-02, -1.7067e-01,  2.9058e-01,  1.1439e-01,\n",
       "         -1.2962e-02,  2.6377e-01, -2.9394e-01, -2.3483e-01,  2.1922e-01,\n",
       "          7.9876e-01,  9.3168e-01, -1.6078e-01, -6.8043e-02, -2.8835e-01,\n",
       "         -3.7442e-02,  8.7288e-01, -3.0851e-02, -2.6066e-01,  8.7559e-01,\n",
       "          5.2805e-02,  4.2036e-01, -4.4657e-01, -6.0128e-01,  2.4042e-01,\n",
       "          1.0409e+00,  4.5662e-02, -5.9405e-01, -7.7239e-02,  4.4467e-01,\n",
       "          2.8607e-01,  3.1795e-01,  4.0720e-01, -4.4101e-01,  1.0156e-01,\n",
       "          8.4664e-02,  2.2385e-01,  3.2971e-02,  8.5590e-01, -8.3133e-02,\n",
       "          2.4421e-01, -2.5320e-01,  3.0961e-01,  3.2430e-01,  7.6288e-01,\n",
       "         -4.1389e-01, -7.4261e-01, -1.0888e-01,  3.0744e-02, -8.4961e-02,\n",
       "         -3.3006e-01, -9.4410e-02, -1.7684e-01,  9.1215e-02,  3.9247e-01,\n",
       "         -1.6165e-01, -2.5071e-01,  3.2119e-01, -5.8943e-01,  5.3371e-01,\n",
       "         -3.9494e-01,  4.5296e-01, -3.2192e-02,  2.9046e-02,  9.0094e-02,\n",
       "          8.0394e-02, -3.8424e-01, -2.4358e-01, -5.8893e-01, -1.6014e-01,\n",
       "         -5.0848e-01, -2.1314e-02, -5.0818e-01, -9.5969e-02,  4.0968e-01,\n",
       "          3.0001e-01, -5.3867e-01,  2.3648e-01, -5.9909e-01,  1.8138e-01,\n",
       "          5.6676e-01,  3.3343e-01,  3.6125e-02, -7.1760e-01, -2.8207e-01,\n",
       "         -1.7438e-01, -9.5262e-02,  2.1486e-01, -5.2020e-02, -1.4042e-04,\n",
       "         -1.5751e-01, -6.5503e-02,  3.1234e-01, -1.2235e-01, -1.2310e-01,\n",
       "         -2.6430e-01,  6.9013e-01, -8.8553e-01,  1.4780e-01, -4.3434e-01,\n",
       "          9.2152e-03, -5.1354e-01, -4.0582e-01,  4.0951e-02, -9.0218e-01,\n",
       "          1.7678e-01,  8.2160e-01,  9.0611e-02,  1.0791e-01, -5.0325e-01,\n",
       "          5.2987e-01, -4.0699e-01,  1.9170e-01, -2.1431e-01,  4.5255e-01,\n",
       "          5.6901e-01,  2.7348e-01, -4.4278e-01,  1.8978e-01,  1.3639e-03,\n",
       "          2.6983e-01,  6.8033e-01, -4.7854e-01,  8.3501e-01,  5.7284e-01,\n",
       "          5.5622e-01, -3.8540e-01, -1.7700e-02,  3.0426e-01,  2.9132e-01,\n",
       "         -2.5081e-01, -5.4555e-01,  4.0296e-02, -3.4137e-01,  4.2379e-01,\n",
       "         -5.2939e-01,  1.7819e-01, -1.2489e-02,  5.5839e-01,  1.0675e-01,\n",
       "          3.1746e-01, -2.8264e-01, -2.1325e-01], device='cuda:0'))"
      ]
     },
     "execution_count": 122,
     "metadata": {},
     "output_type": "execute_result"
    }
   ],
   "source": [
    "bert_watch1 = embed1[31]\n",
    "bert_watch2 = embed2[13]\n",
    "bert_watch1, bert_watch2"
   ]
  },
  {
   "cell_type": "code",
   "execution_count": 123,
   "metadata": {
    "colab": {
     "base_uri": "https://localhost:8080/"
    },
    "id": "qvTJj1vcPIpg",
    "outputId": "7e45ec4b-d3c3-4be0-f686-79c05e2930cf"
   },
   "outputs": [
    {
     "data": {
      "text/plain": [
       "tensor(0.3504, device='cuda:0')"
      ]
     },
     "execution_count": 123,
     "metadata": {},
     "output_type": "execute_result"
    }
   ],
   "source": [
    "similarity = nn.CosineSimilarity(dim=0, eps=1e-6)\n",
    "similarity(bert_watch1, bert_watch2)"
   ]
  },
  {
   "cell_type": "markdown",
   "metadata": {
    "id": "qt9Wl8aIPIpg"
   },
   "source": [
    "## Document Embeddings"
   ]
  },
  {
   "cell_type": "code",
   "execution_count": 124,
   "metadata": {
    "id": "JgU-haTVPIpg"
   },
   "outputs": [],
   "source": [
    "documents = [Sentence(watch1), Sentence(watch2)]"
   ]
  },
  {
   "cell_type": "code",
   "execution_count": 125,
   "metadata": {
    "colab": {
     "base_uri": "https://localhost:8080/"
    },
    "id": "eLbRmOR_PIpg",
    "outputId": "46005278-fb47-48a4-d0d7-a5a686d04cd9"
   },
   "outputs": [
    {
     "data": {
      "text/plain": [
       "[Sentence[58]: \" The Hatter was the first to break the silence. `What day of the month is it?' he said, turning to Alice:  he had taken his watch out of his pocket, and was looking at it uneasily, shaking it every now and then, and holding it to his ear.\",\n",
       " Sentence[48]: \" Alice thought this a very curious thing, and she went nearer to watch them, and just as she came up to them she heard one of them say, `Look out now, Five!  Don't go splashing paint over me like that!\"]"
      ]
     },
     "execution_count": 125,
     "metadata": {},
     "output_type": "execute_result"
    }
   ],
   "source": [
    "from flair.embeddings import TransformerDocumentEmbeddings\n",
    "bert_doc = TransformerDocumentEmbeddings('bert-base-uncased')\n",
    "bert_doc.embed(documents)"
   ]
  },
  {
   "cell_type": "code",
   "execution_count": 126,
   "metadata": {
    "colab": {
     "base_uri": "https://localhost:8080/"
    },
    "id": "UB6GBlxYPIpg",
    "outputId": "78fd2791-23c2-4442-99bd-a927be2d4224"
   },
   "outputs": [
    {
     "data": {
      "text/plain": [
       "tensor([-6.4245e-02,  3.5365e-01, -2.4962e-01, -5.3912e-01, -1.9917e-01,\n",
       "        -2.7712e-01,  1.6942e-01,  1.0867e-01, -4.0799e-01, -1.4945e-01,\n",
       "         4.4678e-02, -1.9687e-01, -3.0574e-01,  9.6215e-02,  2.8053e-01,\n",
       "         9.0462e-01, -3.0250e-01,  1.7854e-01, -1.6856e-01, -1.7227e-01,\n",
       "        -1.8270e-01,  4.5121e-01,  3.6129e-01,  1.2309e-01, -1.2047e-02,\n",
       "        -5.0255e-01,  4.2645e-01, -3.7184e-02, -1.7052e-01, -4.8920e-02,\n",
       "         1.0503e-01,  3.3456e-01, -3.8483e-02, -4.7287e-01, -7.4431e-02,\n",
       "         2.3990e-01, -8.3232e-02,  1.7974e-01,  4.8939e-01,  9.3026e-03,\n",
       "        -4.2722e-01,  2.6337e-01, -1.3217e-01, -1.3950e-01, -1.1859e-01,\n",
       "         4.5835e-02, -3.9031e+00, -1.0726e-01,  5.1103e-02, -9.9710e-02,\n",
       "         1.5913e-01, -9.5331e-02,  2.1513e-01,  4.7707e-01,  2.1226e-01,\n",
       "         4.3450e-01, -4.5154e-01,  1.8344e-01, -1.0171e-01, -3.6373e-01,\n",
       "         8.9560e-01,  3.5931e-01, -2.8519e-01,  2.9427e-02,  3.3968e-01,\n",
       "         4.1062e-01, -2.1051e-02,  2.7801e-02,  2.8888e-01,  4.5761e-01,\n",
       "        -3.8254e-01, -1.9211e-01, -2.6551e-01,  1.7064e-01, -2.0920e-01,\n",
       "        -3.3608e-01, -1.0044e-01, -2.9611e-01, -5.6573e-01,  4.3841e-01,\n",
       "        -8.9239e-02, -1.4645e-02,  2.2009e-01,  2.5755e-01, -2.6711e-01,\n",
       "        -1.4440e-01, -2.8944e-01,  2.2547e-01,  6.0303e-01,  1.0250e-01,\n",
       "        -2.0606e-01, -1.5392e-01, -3.2987e-03,  7.7605e-02,  1.8428e-01,\n",
       "         1.6114e-01,  2.5668e-01, -8.3616e-02,  2.7078e-01, -5.4946e-02,\n",
       "         4.9633e-01, -2.7734e-01,  4.1486e-01, -5.3346e-01, -7.8131e-01,\n",
       "         1.7047e-01,  2.8687e-01,  4.9673e-02,  4.6922e-01, -1.6500e+00,\n",
       "         4.6991e-01, -1.5328e-01,  2.7729e-01, -1.0157e+00,  1.5022e-01,\n",
       "        -1.7466e-01,  4.1232e-02, -4.4218e-01, -5.0299e-01,  1.1937e-01,\n",
       "         1.8505e-01,  1.7673e-01,  2.1935e-01, -1.3052e+00, -3.4139e-01,\n",
       "        -3.8845e-02, -2.4191e-01,  2.5905e-01,  1.2551e-01, -1.7338e-02,\n",
       "         4.4672e-01,  3.3219e-01, -2.1076e-01, -2.6042e-01,  2.1485e-01,\n",
       "         1.6804e-01, -1.6398e-01,  1.1147e-01, -1.4731e-01,  1.0370e-01,\n",
       "        -2.0025e-01, -1.7985e-01, -2.5822e+00, -9.3411e-02,  5.8352e-01,\n",
       "         4.2851e-01,  1.3719e-01, -4.4423e-01, -2.4915e-03,  6.3892e-01,\n",
       "         4.1029e-01, -3.2187e-01,  5.8879e-02, -2.1344e-01, -4.0472e-02,\n",
       "        -4.0414e-01,  3.8056e-01,  1.7888e-01, -4.1893e-01,  1.6880e-01,\n",
       "        -4.6562e-02, -3.3560e-01,  1.3598e-02,  2.4541e-01, -1.9910e-01,\n",
       "         5.3978e-01,  5.7400e-01,  5.7995e-01, -3.8400e-02, -4.4134e-02,\n",
       "         3.8312e-01, -1.6357e-02,  7.0812e-01, -1.6653e-01, -4.0108e-01,\n",
       "         8.2582e-02,  4.2481e-01, -1.2611e-01,  4.2772e-01, -7.9697e-02,\n",
       "        -7.4779e-01,  7.4372e-02,  2.0130e-01,  8.0436e-01,  8.2707e-01,\n",
       "         3.8594e-01, -2.6690e-02, -2.8838e-01,  2.1367e-01,  2.3883e-01,\n",
       "         1.4772e-01, -1.7737e-01, -1.6458e-01, -4.7632e-01, -9.9866e-02,\n",
       "        -7.7609e-02,  3.6381e-01, -5.1024e-01, -3.6723e-01, -2.4667e-01,\n",
       "        -2.0106e-01,  1.8970e-01,  1.2936e-01, -7.0922e-01,  1.8065e-01,\n",
       "         4.2441e+00,  3.2519e-01, -3.5622e-01,  7.9891e-02,  4.0457e-01,\n",
       "        -5.2027e-01, -4.0209e-01,  1.1543e-01,  5.4013e-01, -8.5186e-01,\n",
       "         5.7481e-01,  3.0116e-01,  3.0603e-01,  3.0003e-02, -3.7785e-01,\n",
       "        -2.3895e-01,  1.0855e-01, -7.3348e-02, -2.2568e-02, -1.8636e-01,\n",
       "         5.5137e-01, -2.5551e-01,  5.6108e-01,  8.9961e-02, -1.4174e+00,\n",
       "         1.9548e-01,  1.8128e-01,  5.7270e-01,  3.7286e-01,  2.1192e-02,\n",
       "         2.0576e-01, -2.7981e-01, -4.0403e-02, -5.4554e-02, -2.4785e-01,\n",
       "        -2.4466e-01, -4.0418e-03,  8.9291e-02,  5.5506e-01, -1.7438e-01,\n",
       "         4.4969e-01,  3.9400e-01, -5.3704e-01,  6.6374e-01,  3.8592e-01,\n",
       "         6.9357e-01,  6.0498e-01, -2.1726e-01, -1.0124e-01, -2.2627e-01,\n",
       "         5.7905e-01,  4.2297e-01, -1.2389e-01,  2.0031e-01,  4.5129e-01,\n",
       "         1.7262e-01,  1.0963e-02,  3.6436e-01,  5.7858e-01, -5.3210e-01,\n",
       "        -1.4753e-02,  6.1678e-01, -3.0254e-01, -3.7331e-01,  4.2933e-02,\n",
       "        -2.8411e-01,  2.5481e-01, -3.1135e-01, -2.4889e+00,  1.2208e-01,\n",
       "        -8.3915e-02, -1.0063e-01,  1.6028e-01,  9.8308e-02, -1.5816e-01,\n",
       "        -3.4995e-02, -1.4911e-01, -8.0463e-01,  5.4030e-01,  7.1562e-02,\n",
       "         1.7398e-01,  1.4491e-01, -7.0773e-01,  3.9191e-01,  1.0117e-01,\n",
       "        -2.8370e-01,  2.8936e-01,  1.5133e-01,  5.0763e-02, -2.4023e-01,\n",
       "         4.4110e-01, -3.9492e-02,  2.6435e-01,  3.1356e-01, -1.8297e-01,\n",
       "        -2.4273e-01, -1.7542e-01,  1.4501e-01,  3.0055e-01, -2.8845e-01,\n",
       "        -1.5901e-01,  1.7493e-01, -2.9559e-01, -3.4490e+00,  1.3099e-01,\n",
       "        -3.8233e-01, -1.0336e-01,  6.8291e-01,  6.9417e-01,  6.1574e-01,\n",
       "        -8.2423e-02, -1.2499e-01, -1.2243e-01,  2.8974e-01, -4.1564e-01,\n",
       "         6.8800e-02,  6.7222e-01,  5.1716e-01, -3.0253e-02,  3.6390e-01,\n",
       "        -5.9201e-01,  2.2436e-01, -2.7201e-01, -8.8383e-02, -5.5831e-01,\n",
       "         1.0460e-01, -3.3686e-01,  4.6233e-01,  6.3347e-01, -5.7720e-01,\n",
       "        -4.1045e-01, -6.3033e-02, -2.6181e-01,  2.5220e-01, -5.7010e-01,\n",
       "        -4.4242e-02, -2.5707e-03, -2.6010e-01, -2.0902e-01,  2.1671e-01,\n",
       "        -1.5338e-01,  2.3135e-02,  8.3759e-02,  2.4785e-01,  8.1829e-01,\n",
       "         4.6562e-01,  1.6161e-01,  1.5305e-01, -2.2000e-01, -2.5913e-01,\n",
       "        -3.0355e-01,  2.0841e-01, -8.6140e-02, -1.0182e-01,  7.8481e-01,\n",
       "         1.0315e+00, -5.8092e-01, -2.5592e-01,  1.4235e-01,  2.2627e-01,\n",
       "        -3.8135e-01, -1.7177e-01,  6.8986e-01,  9.5218e-01, -4.2518e-01,\n",
       "         2.9856e-01, -7.7871e-01,  4.6342e-01,  3.8082e-01,  3.3461e-01,\n",
       "        -3.6359e-01,  1.3449e-01,  6.0971e-02, -6.3682e-01,  6.5791e-01,\n",
       "        -3.4900e-01, -1.6919e+00, -1.1290e-01, -8.9324e-03,  7.0164e-01,\n",
       "        -2.4298e-01, -5.0133e-01, -9.4679e-02,  9.2998e-02, -6.9514e-01,\n",
       "         1.6732e-01,  1.0738e-01, -3.5135e-01, -4.1886e-01, -5.6835e-02,\n",
       "         1.8975e-01, -6.7744e-01, -5.0675e-02, -2.8237e-01, -9.4651e-02,\n",
       "         2.3333e-01,  2.1024e-01, -1.3943e-01,  4.7849e-01, -3.5598e-02,\n",
       "        -5.0288e-02,  2.2644e-01,  1.7870e-01, -8.6450e-02, -4.6139e-01,\n",
       "        -9.7895e-02,  9.5692e-03, -6.0332e-01, -1.0339e-01, -6.9934e-01,\n",
       "         8.6564e-01,  2.4269e-01,  1.2407e-01, -4.4824e-01,  6.2005e-02,\n",
       "         1.1447e-01, -4.3741e-02,  1.5308e+00, -4.7716e-01,  4.9675e-01,\n",
       "         8.2663e-01,  4.4054e-01, -8.6615e-02,  2.1151e-01, -1.6980e-02,\n",
       "         3.6449e-02,  5.2057e-02, -4.3879e-01, -2.0526e-01, -1.0826e-01,\n",
       "        -2.0654e-01,  5.4324e-02, -2.3006e-01, -2.3910e-01,  3.5886e-01,\n",
       "        -3.6865e-01, -4.1345e-01,  3.2852e-01, -2.1309e-01, -7.7967e-01,\n",
       "        -4.0635e-01,  4.1312e-01,  4.5644e-01,  5.6297e-01, -4.0113e-02,\n",
       "        -7.8324e-02,  3.5196e-01, -4.0508e-01,  4.9119e-01,  2.8871e-01,\n",
       "         1.2004e-02,  2.1122e-02,  5.8201e-01,  7.2554e-02, -1.2406e-01,\n",
       "        -2.2747e-01, -3.6875e-01,  1.2822e-01, -1.3219e-02, -2.5432e-01,\n",
       "        -5.4382e-01, -1.6104e-01, -4.9271e-01, -2.7153e-05, -1.6866e-01,\n",
       "        -2.0367e+00, -1.8150e-01,  7.2432e-01,  2.6644e-01,  2.3441e-01,\n",
       "         1.3906e-01, -7.0422e-03,  4.3320e-01, -3.9089e-01,  3.8913e-01,\n",
       "        -1.3505e-01,  1.8608e-01, -2.7714e-01,  7.7001e-02, -3.5178e-01,\n",
       "         3.1395e-01, -6.1126e-01, -1.9384e-01,  3.4077e-02,  7.6535e-02,\n",
       "        -6.3849e-01,  9.1558e-02,  6.1446e-01, -9.3747e-02,  2.7309e-02,\n",
       "        -2.9999e-01,  8.1415e-02,  2.3125e-01,  4.6290e-02,  1.2134e-01,\n",
       "         1.3592e-01, -5.6097e-01, -2.1794e-01, -6.8162e-01,  6.4019e-01,\n",
       "        -1.8568e-01, -1.6626e-01,  3.4131e-01,  1.8143e-01,  1.4511e-01,\n",
       "         4.1716e-02,  3.5290e-01,  2.6542e-01, -3.3044e-01,  6.5737e-01,\n",
       "        -4.8462e-01, -4.2369e-01,  5.4556e-01, -4.1632e-01, -7.4869e-02,\n",
       "        -2.7194e-01, -5.6729e-02, -1.9846e-01, -2.5328e-01, -8.4373e-01,\n",
       "        -2.5077e-01, -7.6245e-02,  1.3954e-01, -7.3810e-01, -7.1694e-02,\n",
       "         3.7180e-01, -6.6641e-01, -7.3948e-02,  1.0740e-02,  6.6874e-02,\n",
       "        -5.4790e-01, -2.3494e-01, -5.4339e-02, -2.7594e-01,  2.3641e-01,\n",
       "         9.0829e-02, -2.4923e-02, -6.5618e-01, -1.5407e-01,  6.5148e-03,\n",
       "        -1.8896e-01, -4.8536e-01,  4.1967e-01,  4.9990e-01, -2.3470e-01,\n",
       "         2.3999e-01,  2.2489e-02,  7.1899e-02,  3.7770e-01,  2.2666e-01,\n",
       "        -4.6463e-02,  7.9462e-02, -1.3600e-01,  2.6624e-01, -1.0557e-01,\n",
       "        -5.1542e-01, -2.1026e-01, -3.6529e-01,  3.7681e-01,  4.2558e-01,\n",
       "        -2.0674e-01,  1.7708e-01, -9.5000e-01,  3.5931e-01, -6.9485e-01,\n",
       "         2.6662e-01, -3.8393e-01, -1.4876e-01,  3.5606e-01, -1.9180e-01,\n",
       "         5.2490e-02,  6.9162e-01,  1.2743e-01, -2.9465e-01, -6.5748e-01,\n",
       "        -1.3319e-01, -1.6700e-01,  3.4043e-01,  1.0655e-01,  1.4711e-01,\n",
       "        -5.7975e-01, -1.9442e-01, -5.5820e-01,  1.5113e+00,  2.5854e-01,\n",
       "        -7.7182e-02,  1.9113e-01, -2.0155e-01,  5.2039e-02, -6.6809e-02,\n",
       "         7.7022e-01,  4.3338e-01,  2.1713e-01, -1.9559e-01,  1.1622e-01,\n",
       "         6.9701e-02,  1.9887e-01,  4.4560e-01, -2.0377e-01,  9.3891e-02,\n",
       "        -3.8858e-01, -1.0287e+00, -8.7257e-02,  3.0796e-01,  1.1579e-01,\n",
       "         2.2186e-01,  2.4396e-02, -2.2758e-01,  7.7906e-01,  8.9298e-02,\n",
       "        -5.7492e-01, -2.8990e-01,  5.5056e-01, -3.1180e-01,  5.1760e-01,\n",
       "        -2.1881e-01,  3.5772e-01, -9.8653e-01,  3.4400e-02, -1.5934e-01,\n",
       "        -2.6761e-01,  4.0133e-02,  7.4575e-02,  3.0935e-01,  2.3991e-02,\n",
       "        -2.4070e-01,  1.9046e-01, -3.6814e-01,  3.0127e-01,  1.0484e-01,\n",
       "         3.0938e-02,  3.2499e-01,  4.0934e-01, -1.7192e-01,  5.4189e-01,\n",
       "         3.5965e-01,  1.4977e-01, -2.0299e-01,  2.5858e-02, -2.3124e-01,\n",
       "        -5.2681e-01, -5.0653e-02, -4.0077e-01,  3.5185e-02,  6.1388e-01,\n",
       "         1.7713e-01, -5.8146e-01,  1.2276e-01,  2.9924e-02, -5.3960e-02,\n",
       "        -4.8978e-01,  8.5425e-02, -1.6308e-01,  2.2881e-02,  2.6261e-01,\n",
       "         2.0515e-01,  3.4557e-01,  2.7707e-01,  3.1900e-01,  6.0790e-01,\n",
       "        -5.5657e-01, -4.6023e-01, -1.5954e+00,  1.5275e-01,  3.5691e-01,\n",
       "         4.9637e-01, -1.7432e-01,  1.8391e-01,  5.2575e-01,  1.6172e-01,\n",
       "        -1.6158e-01,  1.2285e-01,  1.7329e-01,  1.0693e+00,  4.1782e-01,\n",
       "         2.6315e-01, -2.6413e-02, -3.4535e-01,  3.1312e-01,  3.1309e-03,\n",
       "        -1.3553e-01,  9.2502e-02,  1.8213e-01,  1.0432e-01, -5.5065e-02,\n",
       "        -5.2151e-01, -5.9766e-01, -3.0186e-01,  1.1254e-02,  6.2411e-01,\n",
       "        -2.4277e-01,  2.0318e-01, -1.6011e-01,  8.6397e-01, -2.2691e-02,\n",
       "        -4.4046e-01, -6.2857e-02, -3.9069e-01,  1.0784e-01,  1.1981e-01,\n",
       "         4.9630e-01, -3.8379e-03, -4.2250e-01,  1.0451e+00, -2.6349e-01,\n",
       "        -1.4386e-01,  2.8545e-01,  2.6442e-01,  5.0848e-01, -3.4545e-01,\n",
       "         2.0938e-01,  3.9765e-01, -2.8668e-01, -2.9289e-01,  1.0622e-01,\n",
       "         1.2800e-01,  4.2874e-01, -7.5396e-02,  2.4798e-01,  8.1016e-02,\n",
       "        -2.1906e-02, -2.7718e-01, -7.3759e-02, -5.9759e-02, -1.1127e-01,\n",
       "        -1.2804e-01,  2.8441e-01, -1.5104e-01, -2.0100e-01,  7.6934e-01,\n",
       "         3.0968e-01, -5.9233e-01, -3.4167e-01, -1.5913e-01, -5.3265e-02,\n",
       "         2.1583e-01, -3.5234e-01, -1.2197e-01,  3.0294e-01,  7.3882e-01,\n",
       "         1.3297e-01, -3.4018e-01, -8.1062e-02, -2.5973e-01,  1.7507e-01,\n",
       "         2.3974e-02,  4.1746e-01, -6.2069e+00,  1.1619e-01, -5.7523e-01,\n",
       "        -2.6148e-01, -3.7661e-01, -2.8330e-01,  1.3297e-01,  3.6957e-01,\n",
       "         7.4661e-02, -3.4777e-01,  1.5740e-01,  3.4407e-01, -5.0272e-01,\n",
       "         1.7432e-01,  7.9398e-01,  7.3562e-01], device='cuda:0')"
      ]
     },
     "execution_count": 126,
     "metadata": {},
     "output_type": "execute_result"
    }
   ],
   "source": [
    "documents[0].embedding"
   ]
  },
  {
   "cell_type": "code",
   "execution_count": 127,
   "metadata": {
    "colab": {
     "base_uri": "https://localhost:8080/"
    },
    "id": "zX4ZkKaPPIph",
    "outputId": "1b390558-d731-4ca9-fe11-589082919587"
   },
   "outputs": [
    {
     "data": {
      "text/plain": [
       "tensor([], device='cuda:0')"
      ]
     },
     "execution_count": 127,
     "metadata": {},
     "output_type": "execute_result"
    }
   ],
   "source": [
    "documents[0].tokens[31].embedding"
   ]
  },
  {
   "cell_type": "code",
   "execution_count": 128,
   "metadata": {
    "id": "w8XT_0ahPIph"
   },
   "outputs": [],
   "source": [
    "def get_embeddings(embeddings, sentence):\n",
    "    sent = Sentence(sentence)\n",
    "    embeddings.embed(sent)\n",
    "    if len(sent.embedding):\n",
    "        return sent.embedding.float()\n",
    "    else:\n",
    "        return torch.stack([token.embedding for token in sent.tokens]).float()"
   ]
  },
  {
   "cell_type": "code",
   "execution_count": 129,
   "metadata": {
    "colab": {
     "base_uri": "https://localhost:8080/"
    },
    "id": "2yt6esWrPIph",
    "outputId": "de9d7620-f957-40d4-a660-50aa995f7f91"
   },
   "outputs": [
    {
     "data": {
      "text/plain": [
       "tensor([-6.4245e-02,  3.5365e-01, -2.4962e-01, -5.3912e-01, -1.9917e-01,\n",
       "        -2.7712e-01,  1.6942e-01,  1.0867e-01, -4.0799e-01, -1.4945e-01,\n",
       "         4.4679e-02, -1.9687e-01, -3.0574e-01,  9.6215e-02,  2.8053e-01,\n",
       "         9.0462e-01, -3.0250e-01,  1.7854e-01, -1.6856e-01, -1.7227e-01,\n",
       "        -1.8270e-01,  4.5121e-01,  3.6128e-01,  1.2309e-01, -1.2047e-02,\n",
       "        -5.0255e-01,  4.2645e-01, -3.7184e-02, -1.7052e-01, -4.8920e-02,\n",
       "         1.0503e-01,  3.3456e-01, -3.8483e-02, -4.7287e-01, -7.4431e-02,\n",
       "         2.3990e-01, -8.3232e-02,  1.7974e-01,  4.8939e-01,  9.3027e-03,\n",
       "        -4.2722e-01,  2.6337e-01, -1.3217e-01, -1.3950e-01, -1.1859e-01,\n",
       "         4.5834e-02, -3.9031e+00, -1.0726e-01,  5.1103e-02, -9.9710e-02,\n",
       "         1.5913e-01, -9.5331e-02,  2.1513e-01,  4.7707e-01,  2.1226e-01,\n",
       "         4.3450e-01, -4.5154e-01,  1.8344e-01, -1.0171e-01, -3.6373e-01,\n",
       "         8.9560e-01,  3.5931e-01, -2.8519e-01,  2.9427e-02,  3.3968e-01,\n",
       "         4.1062e-01, -2.1051e-02,  2.7801e-02,  2.8888e-01,  4.5761e-01,\n",
       "        -3.8254e-01, -1.9211e-01, -2.6551e-01,  1.7064e-01, -2.0920e-01,\n",
       "        -3.3608e-01, -1.0044e-01, -2.9611e-01, -5.6573e-01,  4.3841e-01,\n",
       "        -8.9239e-02, -1.4645e-02,  2.2009e-01,  2.5755e-01, -2.6711e-01,\n",
       "        -1.4440e-01, -2.8944e-01,  2.2546e-01,  6.0303e-01,  1.0250e-01,\n",
       "        -2.0606e-01, -1.5392e-01, -3.2986e-03,  7.7604e-02,  1.8428e-01,\n",
       "         1.6114e-01,  2.5668e-01, -8.3616e-02,  2.7078e-01, -5.4946e-02,\n",
       "         4.9633e-01, -2.7734e-01,  4.1486e-01, -5.3346e-01, -7.8131e-01,\n",
       "         1.7047e-01,  2.8687e-01,  4.9674e-02,  4.6922e-01, -1.6500e+00,\n",
       "         4.6991e-01, -1.5328e-01,  2.7729e-01, -1.0157e+00,  1.5022e-01,\n",
       "        -1.7466e-01,  4.1232e-02, -4.4218e-01, -5.0299e-01,  1.1937e-01,\n",
       "         1.8505e-01,  1.7673e-01,  2.1935e-01, -1.3052e+00, -3.4139e-01,\n",
       "        -3.8845e-02, -2.4191e-01,  2.5906e-01,  1.2551e-01, -1.7338e-02,\n",
       "         4.4672e-01,  3.3219e-01, -2.1076e-01, -2.6042e-01,  2.1485e-01,\n",
       "         1.6804e-01, -1.6398e-01,  1.1147e-01, -1.4731e-01,  1.0370e-01,\n",
       "        -2.0025e-01, -1.7985e-01, -2.5822e+00, -9.3411e-02,  5.8352e-01,\n",
       "         4.2851e-01,  1.3719e-01, -4.4423e-01, -2.4913e-03,  6.3892e-01,\n",
       "         4.1029e-01, -3.2187e-01,  5.8879e-02, -2.1344e-01, -4.0472e-02,\n",
       "        -4.0414e-01,  3.8056e-01,  1.7888e-01, -4.1893e-01,  1.6880e-01,\n",
       "        -4.6562e-02, -3.3560e-01,  1.3598e-02,  2.4541e-01, -1.9910e-01,\n",
       "         5.3978e-01,  5.7400e-01,  5.7995e-01, -3.8400e-02, -4.4135e-02,\n",
       "         3.8312e-01, -1.6357e-02,  7.0812e-01, -1.6653e-01, -4.0108e-01,\n",
       "         8.2581e-02,  4.2481e-01, -1.2611e-01,  4.2772e-01, -7.9696e-02,\n",
       "        -7.4779e-01,  7.4372e-02,  2.0130e-01,  8.0436e-01,  8.2707e-01,\n",
       "         3.8594e-01, -2.6690e-02, -2.8838e-01,  2.1367e-01,  2.3883e-01,\n",
       "         1.4773e-01, -1.7737e-01, -1.6458e-01, -4.7632e-01, -9.9866e-02,\n",
       "        -7.7609e-02,  3.6381e-01, -5.1024e-01, -3.6723e-01, -2.4667e-01,\n",
       "        -2.0106e-01,  1.8970e-01,  1.2936e-01, -7.0922e-01,  1.8065e-01,\n",
       "         4.2441e+00,  3.2519e-01, -3.5622e-01,  7.9890e-02,  4.0457e-01,\n",
       "        -5.2027e-01, -4.0209e-01,  1.1543e-01,  5.4013e-01, -8.5187e-01,\n",
       "         5.7481e-01,  3.0116e-01,  3.0603e-01,  3.0002e-02, -3.7785e-01,\n",
       "        -2.3895e-01,  1.0855e-01, -7.3348e-02, -2.2569e-02, -1.8636e-01,\n",
       "         5.5137e-01, -2.5551e-01,  5.6109e-01,  8.9961e-02, -1.4174e+00,\n",
       "         1.9548e-01,  1.8128e-01,  5.7270e-01,  3.7286e-01,  2.1192e-02,\n",
       "         2.0576e-01, -2.7981e-01, -4.0403e-02, -5.4554e-02, -2.4785e-01,\n",
       "        -2.4466e-01, -4.0415e-03,  8.9292e-02,  5.5506e-01, -1.7438e-01,\n",
       "         4.4969e-01,  3.9400e-01, -5.3704e-01,  6.6374e-01,  3.8592e-01,\n",
       "         6.9357e-01,  6.0498e-01, -2.1726e-01, -1.0124e-01, -2.2627e-01,\n",
       "         5.7905e-01,  4.2297e-01, -1.2389e-01,  2.0031e-01,  4.5129e-01,\n",
       "         1.7262e-01,  1.0963e-02,  3.6436e-01,  5.7858e-01, -5.3210e-01,\n",
       "        -1.4754e-02,  6.1678e-01, -3.0254e-01, -3.7331e-01,  4.2933e-02,\n",
       "        -2.8411e-01,  2.5481e-01, -3.1135e-01, -2.4889e+00,  1.2208e-01,\n",
       "        -8.3916e-02, -1.0063e-01,  1.6028e-01,  9.8307e-02, -1.5816e-01,\n",
       "        -3.4994e-02, -1.4911e-01, -8.0463e-01,  5.4030e-01,  7.1562e-02,\n",
       "         1.7398e-01,  1.4491e-01, -7.0773e-01,  3.9191e-01,  1.0117e-01,\n",
       "        -2.8370e-01,  2.8936e-01,  1.5133e-01,  5.0763e-02, -2.4023e-01,\n",
       "         4.4110e-01, -3.9492e-02,  2.6435e-01,  3.1356e-01, -1.8297e-01,\n",
       "        -2.4273e-01, -1.7542e-01,  1.4501e-01,  3.0055e-01, -2.8845e-01,\n",
       "        -1.5901e-01,  1.7493e-01, -2.9559e-01, -3.4490e+00,  1.3099e-01,\n",
       "        -3.8233e-01, -1.0336e-01,  6.8291e-01,  6.9417e-01,  6.1574e-01,\n",
       "        -8.2423e-02, -1.2499e-01, -1.2243e-01,  2.8974e-01, -4.1564e-01,\n",
       "         6.8800e-02,  6.7222e-01,  5.1716e-01, -3.0253e-02,  3.6390e-01,\n",
       "        -5.9201e-01,  2.2436e-01, -2.7201e-01, -8.8383e-02, -5.5831e-01,\n",
       "         1.0460e-01, -3.3686e-01,  4.6233e-01,  6.3347e-01, -5.7720e-01,\n",
       "        -4.1045e-01, -6.3033e-02, -2.6181e-01,  2.5220e-01, -5.7010e-01,\n",
       "        -4.4242e-02, -2.5706e-03, -2.6010e-01, -2.0902e-01,  2.1671e-01,\n",
       "        -1.5338e-01,  2.3135e-02,  8.3758e-02,  2.4785e-01,  8.1829e-01,\n",
       "         4.6562e-01,  1.6161e-01,  1.5305e-01, -2.2000e-01, -2.5913e-01,\n",
       "        -3.0355e-01,  2.0841e-01, -8.6139e-02, -1.0182e-01,  7.8481e-01,\n",
       "         1.0315e+00, -5.8092e-01, -2.5592e-01,  1.4235e-01,  2.2627e-01,\n",
       "        -3.8135e-01, -1.7177e-01,  6.8986e-01,  9.5218e-01, -4.2518e-01,\n",
       "         2.9856e-01, -7.7871e-01,  4.6342e-01,  3.8082e-01,  3.3461e-01,\n",
       "        -3.6359e-01,  1.3449e-01,  6.0971e-02, -6.3682e-01,  6.5791e-01,\n",
       "        -3.4900e-01, -1.6919e+00, -1.1290e-01, -8.9325e-03,  7.0164e-01,\n",
       "        -2.4298e-01, -5.0133e-01, -9.4679e-02,  9.2998e-02, -6.9514e-01,\n",
       "         1.6732e-01,  1.0738e-01, -3.5135e-01, -4.1886e-01, -5.6835e-02,\n",
       "         1.8975e-01, -6.7744e-01, -5.0675e-02, -2.8237e-01, -9.4652e-02,\n",
       "         2.3333e-01,  2.1025e-01, -1.3943e-01,  4.7849e-01, -3.5598e-02,\n",
       "        -5.0288e-02,  2.2644e-01,  1.7870e-01, -8.6450e-02, -4.6139e-01,\n",
       "        -9.7895e-02,  9.5687e-03, -6.0332e-01, -1.0339e-01, -6.9934e-01,\n",
       "         8.6564e-01,  2.4269e-01,  1.2407e-01, -4.4824e-01,  6.2005e-02,\n",
       "         1.1447e-01, -4.3741e-02,  1.5308e+00, -4.7716e-01,  4.9675e-01,\n",
       "         8.2663e-01,  4.4054e-01, -8.6616e-02,  2.1151e-01, -1.6980e-02,\n",
       "         3.6449e-02,  5.2057e-02, -4.3879e-01, -2.0526e-01, -1.0826e-01,\n",
       "        -2.0654e-01,  5.4324e-02, -2.3006e-01, -2.3910e-01,  3.5886e-01,\n",
       "        -3.6865e-01, -4.1345e-01,  3.2852e-01, -2.1309e-01, -7.7967e-01,\n",
       "        -4.0635e-01,  4.1312e-01,  4.5644e-01,  5.6297e-01, -4.0113e-02,\n",
       "        -7.8324e-02,  3.5196e-01, -4.0508e-01,  4.9119e-01,  2.8871e-01,\n",
       "         1.2004e-02,  2.1122e-02,  5.8201e-01,  7.2554e-02, -1.2406e-01,\n",
       "        -2.2747e-01, -3.6875e-01,  1.2822e-01, -1.3220e-02, -2.5432e-01,\n",
       "        -5.4382e-01, -1.6104e-01, -4.9272e-01, -2.7074e-05, -1.6866e-01,\n",
       "        -2.0367e+00, -1.8150e-01,  7.2432e-01,  2.6644e-01,  2.3441e-01,\n",
       "         1.3906e-01, -7.0424e-03,  4.3320e-01, -3.9089e-01,  3.8913e-01,\n",
       "        -1.3505e-01,  1.8608e-01, -2.7714e-01,  7.7001e-02, -3.5178e-01,\n",
       "         3.1395e-01, -6.1126e-01, -1.9384e-01,  3.4077e-02,  7.6536e-02,\n",
       "        -6.3849e-01,  9.1557e-02,  6.1446e-01, -9.3747e-02,  2.7309e-02,\n",
       "        -2.9999e-01,  8.1415e-02,  2.3125e-01,  4.6289e-02,  1.2134e-01,\n",
       "         1.3592e-01, -5.6097e-01, -2.1794e-01, -6.8162e-01,  6.4019e-01,\n",
       "        -1.8568e-01, -1.6626e-01,  3.4131e-01,  1.8143e-01,  1.4511e-01,\n",
       "         4.1716e-02,  3.5290e-01,  2.6542e-01, -3.3044e-01,  6.5737e-01,\n",
       "        -4.8462e-01, -4.2369e-01,  5.4556e-01, -4.1632e-01, -7.4868e-02,\n",
       "        -2.7194e-01, -5.6729e-02, -1.9846e-01, -2.5328e-01, -8.4373e-01,\n",
       "        -2.5077e-01, -7.6245e-02,  1.3954e-01, -7.3810e-01, -7.1693e-02,\n",
       "         3.7180e-01, -6.6641e-01, -7.3948e-02,  1.0741e-02,  6.6875e-02,\n",
       "        -5.4790e-01, -2.3494e-01, -5.4339e-02, -2.7594e-01,  2.3641e-01,\n",
       "         9.0829e-02, -2.4924e-02, -6.5618e-01, -1.5407e-01,  6.5148e-03,\n",
       "        -1.8896e-01, -4.8536e-01,  4.1967e-01,  4.9990e-01, -2.3470e-01,\n",
       "         2.3999e-01,  2.2488e-02,  7.1898e-02,  3.7770e-01,  2.2666e-01,\n",
       "        -4.6463e-02,  7.9462e-02, -1.3600e-01,  2.6624e-01, -1.0557e-01,\n",
       "        -5.1542e-01, -2.1026e-01, -3.6529e-01,  3.7681e-01,  4.2558e-01,\n",
       "        -2.0673e-01,  1.7708e-01, -9.5000e-01,  3.5931e-01, -6.9485e-01,\n",
       "         2.6662e-01, -3.8393e-01, -1.4876e-01,  3.5606e-01, -1.9180e-01,\n",
       "         5.2491e-02,  6.9162e-01,  1.2743e-01, -2.9465e-01, -6.5748e-01,\n",
       "        -1.3319e-01, -1.6700e-01,  3.4043e-01,  1.0655e-01,  1.4711e-01,\n",
       "        -5.7975e-01, -1.9442e-01, -5.5820e-01,  1.5113e+00,  2.5854e-01,\n",
       "        -7.7182e-02,  1.9113e-01, -2.0155e-01,  5.2040e-02, -6.6809e-02,\n",
       "         7.7022e-01,  4.3337e-01,  2.1713e-01, -1.9559e-01,  1.1622e-01,\n",
       "         6.9701e-02,  1.9887e-01,  4.4560e-01, -2.0377e-01,  9.3891e-02,\n",
       "        -3.8858e-01, -1.0287e+00, -8.7257e-02,  3.0796e-01,  1.1579e-01,\n",
       "         2.2186e-01,  2.4396e-02, -2.2758e-01,  7.7906e-01,  8.9299e-02,\n",
       "        -5.7492e-01, -2.8990e-01,  5.5056e-01, -3.1180e-01,  5.1760e-01,\n",
       "        -2.1880e-01,  3.5772e-01, -9.8653e-01,  3.4400e-02, -1.5934e-01,\n",
       "        -2.6761e-01,  4.0133e-02,  7.4575e-02,  3.0935e-01,  2.3991e-02,\n",
       "        -2.4070e-01,  1.9046e-01, -3.6814e-01,  3.0126e-01,  1.0484e-01,\n",
       "         3.0939e-02,  3.2499e-01,  4.0934e-01, -1.7192e-01,  5.4189e-01,\n",
       "         3.5965e-01,  1.4977e-01, -2.0299e-01,  2.5858e-02, -2.3124e-01,\n",
       "        -5.2681e-01, -5.0653e-02, -4.0077e-01,  3.5185e-02,  6.1388e-01,\n",
       "         1.7713e-01, -5.8146e-01,  1.2276e-01,  2.9924e-02, -5.3960e-02,\n",
       "        -4.8978e-01,  8.5425e-02, -1.6308e-01,  2.2882e-02,  2.6261e-01,\n",
       "         2.0515e-01,  3.4557e-01,  2.7707e-01,  3.1900e-01,  6.0790e-01,\n",
       "        -5.5657e-01, -4.6023e-01, -1.5954e+00,  1.5275e-01,  3.5691e-01,\n",
       "         4.9637e-01, -1.7432e-01,  1.8391e-01,  5.2575e-01,  1.6172e-01,\n",
       "        -1.6158e-01,  1.2285e-01,  1.7329e-01,  1.0693e+00,  4.1782e-01,\n",
       "         2.6315e-01, -2.6412e-02, -3.4535e-01,  3.1312e-01,  3.1306e-03,\n",
       "        -1.3553e-01,  9.2502e-02,  1.8213e-01,  1.0432e-01, -5.5065e-02,\n",
       "        -5.2151e-01, -5.9766e-01, -3.0186e-01,  1.1254e-02,  6.2411e-01,\n",
       "        -2.4277e-01,  2.0318e-01, -1.6011e-01,  8.6397e-01, -2.2691e-02,\n",
       "        -4.4046e-01, -6.2856e-02, -3.9069e-01,  1.0784e-01,  1.1981e-01,\n",
       "         4.9630e-01, -3.8379e-03, -4.2250e-01,  1.0451e+00, -2.6349e-01,\n",
       "        -1.4386e-01,  2.8545e-01,  2.6442e-01,  5.0848e-01, -3.4544e-01,\n",
       "         2.0938e-01,  3.9765e-01, -2.8668e-01, -2.9289e-01,  1.0621e-01,\n",
       "         1.2800e-01,  4.2874e-01, -7.5396e-02,  2.4798e-01,  8.1016e-02,\n",
       "        -2.1905e-02, -2.7718e-01, -7.3759e-02, -5.9758e-02, -1.1127e-01,\n",
       "        -1.2804e-01,  2.8441e-01, -1.5104e-01, -2.0100e-01,  7.6934e-01,\n",
       "         3.0968e-01, -5.9233e-01, -3.4167e-01, -1.5913e-01, -5.3265e-02,\n",
       "         2.1583e-01, -3.5234e-01, -1.2197e-01,  3.0294e-01,  7.3882e-01,\n",
       "         1.3297e-01, -3.4018e-01, -8.1062e-02, -2.5973e-01,  1.7507e-01,\n",
       "         2.3974e-02,  4.1746e-01, -6.2069e+00,  1.1619e-01, -5.7523e-01,\n",
       "        -2.6148e-01, -3.7661e-01, -2.8330e-01,  1.3297e-01,  3.6957e-01,\n",
       "         7.4662e-02, -3.4777e-01,  1.5740e-01,  3.4407e-01, -5.0272e-01,\n",
       "         1.7432e-01,  7.9398e-01,  7.3562e-01], device='cuda:0')"
      ]
     },
     "execution_count": 129,
     "metadata": {},
     "output_type": "execute_result"
    }
   ],
   "source": [
    "get_embeddings(bert_doc, watch1)"
   ]
  },
  {
   "cell_type": "markdown",
   "metadata": {
    "id": "Dp3LpDtwPIph"
   },
   "source": [
    "## Model III - Preprocessing Embeddings"
   ]
  },
  {
   "cell_type": "markdown",
   "metadata": {
    "id": "xafyHRinPIpi"
   },
   "source": [
    "### Data Preparation"
   ]
  },
  {
   "cell_type": "code",
   "execution_count": 130,
   "metadata": {
    "colab": {
     "base_uri": "https://localhost:8080/",
     "height": 81,
     "referenced_widgets": [
      "51abfd29aa04403e9a2b69eb42609b72",
      "b32b1e7e3d1249cf8ec406631d9ae1a3",
      "aa74920bb1ce4bdabd386ebe58f53abb",
      "1bc31bdb12804834aa1e94ee7fa1b3ab",
      "4ec8c36c8d734fac9b41dfb2d123f5bd",
      "7a0c27699fcb4761a0f78253eb6af0ca",
      "0db028ff95e84d33acdb533760ad41da",
      "846546ae6e8649d5a93bb4012b58856d",
      "b080efa6d7a34395bc08542164b2b6d4",
      "b7d267442de04961a6f52c38d00c2edc",
      "ebacdfc661154ae386dd3ccaeb23f772",
      "9e9badec71f74fdf997043d9a628c597",
      "3c42b1fb09cb44a2aef8cdd4c7961808",
      "c2c41e586b5d47aa93ba8e4dc8675a32",
      "7034dcd30e414f14a4c06c00cc2ade13",
      "2ef29cf73ea14794b8aaf9e3ccc78940",
      "aa43590e7815414fbaea8accf7ae9297",
      "90045b8b64324f729cb4e0873108546b",
      "7e9edc138e6840a4be81c100016ebc6f",
      "16514425790a4386ba23ea1ff1cdda3b",
      "6048025355d34b3ba0bcc2df379dfa05",
      "6a77df41417c4a84adaad20c94b23416"
     ]
    },
    "id": "62H2IcGYPIpi",
    "outputId": "8e1f95d4-464d-4349-b7e1-6e90c2db0e2e"
   },
   "outputs": [
    {
     "data": {
      "application/vnd.jupyter.widget-view+json": {
       "model_id": "51abfd29aa04403e9a2b69eb42609b72",
       "version_major": 2,
       "version_minor": 0
      },
      "text/plain": [
       "Map:   0%|          | 0/3081 [00:00<?, ? examples/s]"
      ]
     },
     "metadata": {},
     "output_type": "display_data"
    },
    {
     "data": {
      "application/vnd.jupyter.widget-view+json": {
       "model_id": "9e9badec71f74fdf997043d9a628c597",
       "version_major": 2,
       "version_minor": 0
      },
      "text/plain": [
       "Map:   0%|          | 0/771 [00:00<?, ? examples/s]"
      ]
     },
     "metadata": {},
     "output_type": "display_data"
    }
   ],
   "source": [
    "train_dataset_doc = train_dataset.map(lambda row: {'embeddings': get_embeddings(bert_doc, row['sentence'])})\n",
    "test_dataset_doc = test_dataset.map(lambda row: {'embeddings': get_embeddings(bert_doc, row['sentence'])})"
   ]
  },
  {
   "cell_type": "code",
   "execution_count": 131,
   "metadata": {
    "id": "q5rURvw6PIpi"
   },
   "outputs": [],
   "source": [
    "train_dataset_doc.set_format(type='torch', columns=['embeddings', 'labels'])\n",
    "test_dataset_doc.set_format(type='torch', columns=['embeddings', 'labels'])"
   ]
  },
  {
   "cell_type": "code",
   "execution_count": 132,
   "metadata": {
    "colab": {
     "base_uri": "https://localhost:8080/"
    },
    "id": "t9Ov7ucKPIpi",
    "outputId": "18cb714f-5d5c-4273-823b-80113bf887d8"
   },
   "outputs": [
    {
     "data": {
      "text/plain": [
       "tensor([[-0.2885,  0.3996, -0.3314,  ...,  0.2001,  0.3419,  0.4971],\n",
       "        [ 0.0611, -0.1864, -0.1933,  ...,  0.1184,  0.3338,  0.1873],\n",
       "        [ 0.3170,  0.2567, -0.3027,  ..., -0.0045,  0.7189,  0.4067],\n",
       "        ...,\n",
       "        [ 0.0430,  0.6476, -0.4530,  ...,  0.5743,  0.7295,  0.9185],\n",
       "        [ 0.3391,  0.2675, -0.1105,  ...,  0.0334,  0.3464,  0.4049],\n",
       "        [-0.0085,  0.2371,  0.1148,  ..., -0.2324, -0.0010,  0.2413]])"
      ]
     },
     "execution_count": 132,
     "metadata": {},
     "output_type": "execute_result"
    }
   ],
   "source": [
    "train_dataset_doc['embeddings']"
   ]
  },
  {
   "cell_type": "code",
   "execution_count": 133,
   "metadata": {
    "id": "OfMQkFCHPIpi"
   },
   "outputs": [],
   "source": [
    "train_dataset_doc = TensorDataset(train_dataset_doc['embeddings'].float(),\n",
    "                                  train_dataset_doc['labels'].view(-1, 1).float())\n",
    "generator = torch.Generator()\n",
    "train_loader = DataLoader(train_dataset_doc, batch_size=32, shuffle=True, generator=generator)\n",
    "\n",
    "test_dataset_doc = TensorDataset(test_dataset_doc['embeddings'].float(),\n",
    "                                 test_dataset_doc['labels'].view(-1, 1).float())\n",
    "test_loader = DataLoader(test_dataset_doc, batch_size=32, shuffle=True)"
   ]
  },
  {
   "cell_type": "markdown",
   "metadata": {
    "id": "RDOr-sgLPIpi"
   },
   "source": [
    "### Model Configuration & Training"
   ]
  },
  {
   "cell_type": "code",
   "execution_count": 134,
   "metadata": {
    "id": "NEjwk7i8PIpj"
   },
   "outputs": [],
   "source": [
    "torch.manual_seed(41)\n",
    "model = nn.Sequential(\n",
    "    # Classifier\n",
    "    nn.Linear(bert_doc.embedding_length, 3),\n",
    "    nn.ReLU(),\n",
    "    nn.Linear(3, 1)\n",
    ")\n",
    "loss_fn = nn.BCEWithLogitsLoss()\n",
    "optimizer = optim.Adam(model.parameters(), lr=1e-3)"
   ]
  },
  {
   "cell_type": "code",
   "execution_count": 135,
   "metadata": {
    "id": "93pg9nrOPIpj"
   },
   "outputs": [],
   "source": [
    "sbs_doc_emb = StepByStep(model, loss_fn, optimizer)\n",
    "sbs_doc_emb.set_loaders(train_loader, test_loader)\n",
    "sbs_doc_emb.train(20)"
   ]
  },
  {
   "cell_type": "code",
   "execution_count": 136,
   "metadata": {
    "colab": {
     "base_uri": "https://localhost:8080/",
     "height": 395
    },
    "id": "5jSTsMaSPIpj",
    "outputId": "db5370dc-f3a4-4226-cfbb-295be62459e3"
   },
   "outputs": [
    {
     "data": {
      "image/png": "[encoded data removed]",
      "text/plain": [
       "<Figure size 1000x400 with 1 Axes>"
      ]
     },
     "metadata": {},
     "output_type": "display_data"
    }
   ],
   "source": [
    "fig = sbs_doc_emb.plot_losses()"
   ]
  },
  {
   "cell_type": "code",
   "execution_count": 137,
   "metadata": {
    "colab": {
     "base_uri": "https://localhost:8080/"
    },
    "id": "1ZpLkF80PIpj",
    "outputId": "9d3514ef-83e7-44ac-cf94-3483edca7f20"
   },
   "outputs": [
    {
     "data": {
      "text/plain": [
       "tensor([[442, 453],\n",
       "        [295, 318]])"
      ]
     },
     "execution_count": 137,
     "metadata": {},
     "output_type": "execute_result"
    }
   ],
   "source": [
    "StepByStep.loader_apply(test_loader, sbs_doc_emb.correct)"
   ]
  },
  {
   "cell_type": "markdown",
   "metadata": {
    "id": "kLKZdrC9PIpj"
   },
   "source": [
    "# BERT"
   ]
  },
  {
   "cell_type": "code",
   "execution_count": 138,
   "metadata": {
    "colab": {
     "base_uri": "https://localhost:8080/"
    },
    "id": "PtgTF0CIPIpk",
    "outputId": "55014197-ca11-4f2c-bbb5-e4a28cc468df"
   },
   "outputs": [
    {
     "name": "stdout",
     "output_type": "stream",
     "text": [
      "<class 'transformers.models.bert.modeling_bert.BertModel'>\n"
     ]
    }
   ],
   "source": [
    "from transformers import AutoModel\n",
    "auto_model = AutoModel.from_pretrained('bert-base-uncased')\n",
    "print(auto_model.__class__)"
   ]
  },
  {
   "cell_type": "code",
   "execution_count": 139,
   "metadata": {
    "id": "bYjuuJG-PIpk"
   },
   "outputs": [],
   "source": [
    "from transformers import BertModel\n",
    "bert_model = BertModel.from_pretrained('bert-base-uncased')"
   ]
  },
  {
   "cell_type": "code",
   "execution_count": 140,
   "metadata": {
    "colab": {
     "base_uri": "https://localhost:8080/"
    },
    "id": "IpDTWGNBPIpk",
    "outputId": "f13d56d3-1027-4234-9c31-333b981121cc"
   },
   "outputs": [
    {
     "data": {
      "text/plain": [
       "BertConfig {\n",
       "  \"_name_or_path\": \"bert-base-uncased\",\n",
       "  \"architectures\": [\n",
       "    \"BertForMaskedLM\"\n",
       "  ],\n",
       "  \"attention_probs_dropout_prob\": 0.1,\n",
       "  \"classifier_dropout\": null,\n",
       "  \"gradient_checkpointing\": false,\n",
       "  \"hidden_act\": \"gelu\",\n",
       "  \"hidden_dropout_prob\": 0.1,\n",
       "  \"hidden_size\": 768,\n",
       "  \"initializer_range\": 0.02,\n",
       "  \"intermediate_size\": 3072,\n",
       "  \"layer_norm_eps\": 1e-12,\n",
       "  \"max_position_embeddings\": 512,\n",
       "  \"model_type\": \"bert\",\n",
       "  \"num_attention_heads\": 12,\n",
       "  \"num_hidden_layers\": 12,\n",
       "  \"pad_token_id\": 0,\n",
       "  \"position_embedding_type\": \"absolute\",\n",
       "  \"transformers_version\": \"4.38.1\",\n",
       "  \"type_vocab_size\": 2,\n",
       "  \"use_cache\": true,\n",
       "  \"vocab_size\": 30522\n",
       "}"
      ]
     },
     "execution_count": 140,
     "metadata": {},
     "output_type": "execute_result"
    }
   ],
   "source": [
    "bert_model.config"
   ]
  },
  {
   "cell_type": "markdown",
   "metadata": {
    "id": "fBkvBjp5PIpk"
   },
   "source": [
    "## Tokenization"
   ]
  },
  {
   "cell_type": "code",
   "execution_count": 141,
   "metadata": {
    "colab": {
     "base_uri": "https://localhost:8080/"
    },
    "id": "M7ZcsRmdPIpk",
    "outputId": "2b763184-b53a-4abe-8f9d-c152173b8145",
    "scrolled": true
   },
   "outputs": [
    {
     "data": {
      "text/plain": [
       "30522"
      ]
     },
     "execution_count": 141,
     "metadata": {},
     "output_type": "execute_result"
    }
   ],
   "source": [
    "from transformers import BertTokenizer\n",
    "bert_tokenizer = BertTokenizer.from_pretrained('bert-base-uncased')\n",
    "len(bert_tokenizer.vocab)"
   ]
  },
  {
   "cell_type": "code",
   "execution_count": 142,
   "metadata": {
    "colab": {
     "base_uri": "https://localhost:8080/"
    },
    "id": "kyF47gBWPIpk",
    "outputId": "b75dac53-6d84-4717-ced7-e32aa06122c9"
   },
   "outputs": [
    {
     "data": {
      "text/plain": [
       "{'input_ids': tensor([[  101,  5650,  2003,  1999, 10288, 24759,  5555,  6321,  2206,  1996,\n",
       "          2317, 10442,   102,  3582,  1996,  2317, 10442,  1010,  9253,   102]]), 'token_type_ids': tensor([[0, 0, 0, 0, 0, 0, 0, 0, 0, 0, 0, 0, 0, 1, 1, 1, 1, 1, 1, 1]]), 'attention_mask': tensor([[1, 1, 1, 1, 1, 1, 1, 1, 1, 1, 1, 1, 1, 1, 1, 1, 1, 1, 1, 1]])}"
      ]
     },
     "execution_count": 142,
     "metadata": {},
     "output_type": "execute_result"
    }
   ],
   "source": [
    "sentence1 = 'Alice is inexplicably following the white rabbit'\n",
    "sentence2 = 'Follow the white rabbit, Neo'\n",
    "tokens = bert_tokenizer(sentence1, sentence2, return_tensors='pt')\n",
    "tokens"
   ]
  },
  {
   "cell_type": "code",
   "execution_count": 143,
   "metadata": {
    "colab": {
     "base_uri": "https://localhost:8080/"
    },
    "id": "brcF_Ox1PIpl",
    "outputId": "f76b3dbf-99c5-4ee8-e12b-bc057e1abe0a"
   },
   "outputs": [
    {
     "name": "stdout",
     "output_type": "stream",
     "text": [
      "['[CLS]', 'alice', 'is', 'in', '##ex', '##pl', '##ica', '##bly', 'following', 'the', 'white', 'rabbit', '[SEP]', 'follow', 'the', 'white', 'rabbit', ',', 'neo', '[SEP]']\n"
     ]
    }
   ],
   "source": [
    "print(bert_tokenizer.convert_ids_to_tokens(tokens['input_ids'][0]))"
   ]
  },
  {
   "cell_type": "code",
   "execution_count": 144,
   "metadata": {
    "colab": {
     "base_uri": "https://localhost:8080/"
    },
    "id": "1Cjrk1qCPIpl",
    "outputId": "bbe1e67a-81e0-4dcf-d026-f68ae4011738"
   },
   "outputs": [
    {
     "name": "stdout",
     "output_type": "stream",
     "text": [
      "<class 'transformers.models.bert.tokenization_bert_fast.BertTokenizerFast'>\n"
     ]
    }
   ],
   "source": [
    "from transformers import AutoTokenizer\n",
    "auto_tokenizer = AutoTokenizer.from_pretrained('bert-base-uncased')\n",
    "print(auto_tokenizer.__class__)"
   ]
  },
  {
   "cell_type": "markdown",
   "metadata": {
    "id": "j0A5jpZJPIpl"
   },
   "source": [
    "## Input Embeddings\n",
    "\n",
    "![](https://github.com/dvgodoy/PyTorchStepByStep/blob/master/images/bert_input_embed.png?raw=1)"
   ]
  },
  {
   "cell_type": "code",
   "execution_count": 145,
   "metadata": {
    "colab": {
     "base_uri": "https://localhost:8080/"
    },
    "id": "JOhc49UmPIpl",
    "outputId": "dac827b7-6fbd-4730-fdae-5400dc2c884c"
   },
   "outputs": [
    {
     "data": {
      "text/plain": [
       "BertEmbeddings(\n",
       "  (word_embeddings): Embedding(30522, 768, padding_idx=0)\n",
       "  (position_embeddings): Embedding(512, 768)\n",
       "  (token_type_embeddings): Embedding(2, 768)\n",
       "  (LayerNorm): LayerNorm((768,), eps=1e-12, elementwise_affine=True)\n",
       "  (dropout): Dropout(p=0.1, inplace=False)\n",
       ")"
      ]
     },
     "execution_count": 145,
     "metadata": {},
     "output_type": "execute_result"
    }
   ],
   "source": [
    "input_embeddings = bert_model.embeddings\n",
    "input_embeddings"
   ]
  },
  {
   "cell_type": "code",
   "execution_count": 146,
   "metadata": {
    "colab": {
     "base_uri": "https://localhost:8080/"
    },
    "id": "Zo5g1KN2PIpm",
    "outputId": "bd8ff74b-0b9a-4639-bc78-65435142e1a6"
   },
   "outputs": [
    {
     "data": {
      "text/plain": [
       "Embedding(30522, 768, padding_idx=0)"
      ]
     },
     "execution_count": 146,
     "metadata": {},
     "output_type": "execute_result"
    }
   ],
   "source": [
    "token_embeddings = input_embeddings.word_embeddings\n",
    "token_embeddings"
   ]
  },
  {
   "cell_type": "code",
   "execution_count": 147,
   "metadata": {
    "colab": {
     "base_uri": "https://localhost:8080/"
    },
    "id": "jr_sA4KEPIpm",
    "outputId": "5f0e83c4-7c3d-44d9-aa10-4fd886ae3f37"
   },
   "outputs": [
    {
     "data": {
      "text/plain": [
       "tensor([[[ 1.3630e-02, -2.6490e-02, -2.3503e-02,  ...,  8.6805e-03,\n",
       "           7.1340e-03,  1.5147e-02],\n",
       "         [-6.9710e-02, -8.8202e-02,  5.0619e-03,  ...,  1.4105e-02,\n",
       "           2.1815e-02, -1.3769e-02],\n",
       "         [-3.6044e-02, -2.4606e-02, -2.5735e-02,  ...,  3.3691e-03,\n",
       "          -1.8300e-03,  2.6855e-02],\n",
       "         ...,\n",
       "         [ 5.2089e-05, -1.0468e-02, -9.9103e-03,  ...,  1.4558e-02,\n",
       "           1.3217e-02,  2.2406e-02],\n",
       "         [-3.5037e-02, -7.2933e-02, -3.6124e-02,  ..., -5.7723e-02,\n",
       "          -5.5074e-03,  7.2688e-03],\n",
       "         [-1.4521e-02, -9.9615e-03,  6.0263e-03,  ..., -2.5035e-02,\n",
       "           4.6379e-03, -1.5378e-03]]], grad_fn=<EmbeddingBackward0>)"
      ]
     },
     "execution_count": 147,
     "metadata": {},
     "output_type": "execute_result"
    }
   ],
   "source": [
    "input_token_emb = token_embeddings(tokens['input_ids'])\n",
    "input_token_emb"
   ]
  },
  {
   "cell_type": "code",
   "execution_count": 148,
   "metadata": {
    "colab": {
     "base_uri": "https://localhost:8080/"
    },
    "id": "rx5LiAACPIpm",
    "outputId": "fe1b4a26-8173-4779-b48a-ec4e311609f0"
   },
   "outputs": [
    {
     "data": {
      "text/plain": [
       "Embedding(512, 768)"
      ]
     },
     "execution_count": 148,
     "metadata": {},
     "output_type": "execute_result"
    }
   ],
   "source": [
    "position_embeddings = input_embeddings.position_embeddings\n",
    "position_embeddings"
   ]
  },
  {
   "cell_type": "code",
   "execution_count": 149,
   "metadata": {
    "colab": {
     "base_uri": "https://localhost:8080/"
    },
    "id": "W6e0kmEnPIpm",
    "outputId": "44ac81b9-0e27-4e1c-9761-728bc8c3b4ee"
   },
   "outputs": [
    {
     "data": {
      "text/plain": [
       "tensor([[  0,   1,   2,   3,   4,   5,   6,   7,   8,   9,  10,  11,  12,  13,\n",
       "          14,  15,  16,  17,  18,  19,  20,  21,  22,  23,  24,  25,  26,  27,\n",
       "          28,  29,  30,  31,  32,  33,  34,  35,  36,  37,  38,  39,  40,  41,\n",
       "          42,  43,  44,  45,  46,  47,  48,  49,  50,  51,  52,  53,  54,  55,\n",
       "          56,  57,  58,  59,  60,  61,  62,  63,  64,  65,  66,  67,  68,  69,\n",
       "          70,  71,  72,  73,  74,  75,  76,  77,  78,  79,  80,  81,  82,  83,\n",
       "          84,  85,  86,  87,  88,  89,  90,  91,  92,  93,  94,  95,  96,  97,\n",
       "          98,  99, 100, 101, 102, 103, 104, 105, 106, 107, 108, 109, 110, 111,\n",
       "         112, 113, 114, 115, 116, 117, 118, 119, 120, 121, 122, 123, 124, 125,\n",
       "         126, 127, 128, 129, 130, 131, 132, 133, 134, 135, 136, 137, 138, 139,\n",
       "         140, 141, 142, 143, 144, 145, 146, 147, 148, 149, 150, 151, 152, 153,\n",
       "         154, 155, 156, 157, 158, 159, 160, 161, 162, 163, 164, 165, 166, 167,\n",
       "         168, 169, 170, 171, 172, 173, 174, 175, 176, 177, 178, 179, 180, 181,\n",
       "         182, 183, 184, 185, 186, 187, 188, 189, 190, 191, 192, 193, 194, 195,\n",
       "         196, 197, 198, 199, 200, 201, 202, 203, 204, 205, 206, 207, 208, 209,\n",
       "         210, 211, 212, 213, 214, 215, 216, 217, 218, 219, 220, 221, 222, 223,\n",
       "         224, 225, 226, 227, 228, 229, 230, 231, 232, 233, 234, 235, 236, 237,\n",
       "         238, 239, 240, 241, 242, 243, 244, 245, 246, 247, 248, 249, 250, 251,\n",
       "         252, 253, 254, 255, 256, 257, 258, 259, 260, 261, 262, 263, 264, 265,\n",
       "         266, 267, 268, 269, 270, 271, 272, 273, 274, 275, 276, 277, 278, 279,\n",
       "         280, 281, 282, 283, 284, 285, 286, 287, 288, 289, 290, 291, 292, 293,\n",
       "         294, 295, 296, 297, 298, 299, 300, 301, 302, 303, 304, 305, 306, 307,\n",
       "         308, 309, 310, 311, 312, 313, 314, 315, 316, 317, 318, 319, 320, 321,\n",
       "         322, 323, 324, 325, 326, 327, 328, 329, 330, 331, 332, 333, 334, 335,\n",
       "         336, 337, 338, 339, 340, 341, 342, 343, 344, 345, 346, 347, 348, 349,\n",
       "         350, 351, 352, 353, 354, 355, 356, 357, 358, 359, 360, 361, 362, 363,\n",
       "         364, 365, 366, 367, 368, 369, 370, 371, 372, 373, 374, 375, 376, 377,\n",
       "         378, 379, 380, 381, 382, 383, 384, 385, 386, 387, 388, 389, 390, 391,\n",
       "         392, 393, 394, 395, 396, 397, 398, 399, 400, 401, 402, 403, 404, 405,\n",
       "         406, 407, 408, 409, 410, 411, 412, 413, 414, 415, 416, 417, 418, 419,\n",
       "         420, 421, 422, 423, 424, 425, 426, 427, 428, 429, 430, 431, 432, 433,\n",
       "         434, 435, 436, 437, 438, 439, 440, 441, 442, 443, 444, 445, 446, 447,\n",
       "         448, 449, 450, 451, 452, 453, 454, 455, 456, 457, 458, 459, 460, 461,\n",
       "         462, 463, 464, 465, 466, 467, 468, 469, 470, 471, 472, 473, 474, 475,\n",
       "         476, 477, 478, 479, 480, 481, 482, 483, 484, 485, 486, 487, 488, 489,\n",
       "         490, 491, 492, 493, 494, 495, 496, 497, 498, 499, 500, 501, 502, 503,\n",
       "         504, 505, 506, 507, 508, 509, 510, 511]])"
      ]
     },
     "execution_count": 149,
     "metadata": {},
     "output_type": "execute_result"
    }
   ],
   "source": [
    "position_ids = torch.arange(512).expand((1, -1))\n",
    "position_ids"
   ]
  },
  {
   "cell_type": "code",
   "execution_count": 150,
   "metadata": {
    "colab": {
     "base_uri": "https://localhost:8080/"
    },
    "id": "SqZUNJBhPIpn",
    "outputId": "4621291c-aa23-4dbd-9b4b-5deaeef3201b"
   },
   "outputs": [
    {
     "data": {
      "text/plain": [
       "tensor([[[ 1.7505e-02, -2.5631e-02, -3.6642e-02,  ...,  3.3437e-05,\n",
       "           6.8312e-04,  1.5441e-02],\n",
       "         [ 7.7580e-03,  2.2613e-03, -1.9444e-02,  ...,  2.8910e-02,\n",
       "           2.9753e-02, -5.3247e-03],\n",
       "         [-1.1287e-02, -1.9644e-03, -1.1573e-02,  ...,  1.4908e-02,\n",
       "           1.8741e-02, -7.3140e-03],\n",
       "         ...,\n",
       "         [-9.2809e-03,  8.3268e-03, -4.1643e-03,  ...,  3.4903e-02,\n",
       "          -1.8319e-02, -2.9017e-03],\n",
       "         [-8.5999e-03,  3.2205e-04, -2.1249e-03,  ...,  2.7744e-02,\n",
       "          -7.2760e-03, -2.0280e-03],\n",
       "         [-3.4622e-04, -8.3709e-04, -2.2228e-02,  ...,  2.3493e-02,\n",
       "          -4.5198e-04, -5.7741e-04]]], grad_fn=<EmbeddingBackward0>)"
      ]
     },
     "execution_count": 150,
     "metadata": {},
     "output_type": "execute_result"
    }
   ],
   "source": [
    "seq_length = tokens['input_ids'].size(1)\n",
    "input_pos_emb = position_embeddings(position_ids[:, :seq_length])\n",
    "input_pos_emb"
   ]
  },
  {
   "cell_type": "code",
   "execution_count": 151,
   "metadata": {
    "colab": {
     "base_uri": "https://localhost:8080/"
    },
    "id": "5DXX4yiEPIpn",
    "outputId": "2a3ff3bd-2faf-4b91-840b-f1c29b9c98bd"
   },
   "outputs": [
    {
     "data": {
      "text/plain": [
       "Embedding(2, 768)"
      ]
     },
     "execution_count": 151,
     "metadata": {},
     "output_type": "execute_result"
    }
   ],
   "source": [
    "segment_embeddings = input_embeddings.token_type_embeddings\n",
    "segment_embeddings"
   ]
  },
  {
   "cell_type": "code",
   "execution_count": 152,
   "metadata": {
    "colab": {
     "base_uri": "https://localhost:8080/"
    },
    "id": "GgCRoV2sPIpn",
    "outputId": "a764c7b3-3e5d-4475-f4ed-b9cf33a49e46"
   },
   "outputs": [
    {
     "data": {
      "text/plain": [
       "tensor([[[ 0.0004,  0.0110,  0.0037,  ..., -0.0066, -0.0034, -0.0086],\n",
       "         [ 0.0004,  0.0110,  0.0037,  ..., -0.0066, -0.0034, -0.0086],\n",
       "         [ 0.0004,  0.0110,  0.0037,  ..., -0.0066, -0.0034, -0.0086],\n",
       "         ...,\n",
       "         [ 0.0011, -0.0030, -0.0032,  ...,  0.0047, -0.0052, -0.0112],\n",
       "         [ 0.0011, -0.0030, -0.0032,  ...,  0.0047, -0.0052, -0.0112],\n",
       "         [ 0.0011, -0.0030, -0.0032,  ...,  0.0047, -0.0052, -0.0112]]],\n",
       "       grad_fn=<EmbeddingBackward0>)"
      ]
     },
     "execution_count": 152,
     "metadata": {},
     "output_type": "execute_result"
    }
   ],
   "source": [
    "input_seg_emb = segment_embeddings(tokens['token_type_ids'])\n",
    "input_seg_emb"
   ]
  },
  {
   "cell_type": "code",
   "execution_count": 153,
   "metadata": {
    "colab": {
     "base_uri": "https://localhost:8080/"
    },
    "id": "iUkjZrKTPIpn",
    "outputId": "da73d7a9-e2a3-4fc8-97e5-97adc088fbfb"
   },
   "outputs": [
    {
     "data": {
      "text/plain": [
       "tensor([[[ 0.0316, -0.0411, -0.0564,  ...,  0.0021,  0.0044,  0.0219],\n",
       "         [-0.0615, -0.0750, -0.0107,  ...,  0.0364,  0.0482, -0.0277],\n",
       "         [-0.0469, -0.0156, -0.0336,  ...,  0.0117,  0.0135,  0.0109],\n",
       "         ...,\n",
       "         [-0.0081, -0.0051, -0.0172,  ...,  0.0542, -0.0103,  0.0083],\n",
       "         [-0.0425, -0.0756, -0.0414,  ..., -0.0252, -0.0180, -0.0060],\n",
       "         [-0.0138, -0.0138, -0.0194,  ...,  0.0032, -0.0011, -0.0133]]],\n",
       "       grad_fn=<AddBackward0>)"
      ]
     },
     "execution_count": 153,
     "metadata": {},
     "output_type": "execute_result"
    }
   ],
   "source": [
    "input_emb = input_token_emb + input_pos_emb + input_seg_emb\n",
    "input_emb"
   ]
  },
  {
   "cell_type": "markdown",
   "metadata": {
    "id": "dGkuZ7UdPIpn"
   },
   "source": [
    "## Pretraining Tasks"
   ]
  },
  {
   "cell_type": "markdown",
   "metadata": {
    "id": "m2FoG2AGPIpn"
   },
   "source": [
    "### Masked Language Model (MLM)\n",
    "\n",
    "![](https://github.com/dvgodoy/PyTorchStepByStep/blob/master/images/bert_mlm.png?raw=1)"
   ]
  },
  {
   "cell_type": "code",
   "execution_count": 154,
   "metadata": {
    "colab": {
     "base_uri": "https://localhost:8080/"
    },
    "id": "ZTw0eDKePIpo",
    "outputId": "4a5e6ca2-3c65-4798-ff2a-b3423cc6240a"
   },
   "outputs": [
    {
     "data": {
      "text/plain": [
       "[101, 5650, 2003, 1999, 10288, 24759, 5555, 6321, 2206, 1996, 2317, 10442, 102]"
      ]
     },
     "execution_count": 154,
     "metadata": {},
     "output_type": "execute_result"
    }
   ],
   "source": [
    "sentence = 'Alice is inexplicably following the white rabbit'\n",
    "tokens = bert_tokenizer(sentence)\n",
    "tokens['input_ids']"
   ]
  },
  {
   "cell_type": "code",
   "execution_count": 155,
   "metadata": {
    "colab": {
     "base_uri": "https://localhost:8080/"
    },
    "id": "3yCbwZXgPIpo",
    "outputId": "387b400d-3428-4ad8-b313-d5770a10d089"
   },
   "outputs": [
    {
     "data": {
      "text/plain": [
       "{'input_ids': tensor([[  101,  5650,  2003,  1999, 10288, 24759,   103,  6321,  2206,  1996,\n",
       "          2317, 10442,   102]]), 'token_type_ids': tensor([[0, 0, 0, 0, 0, 0, 0, 0, 0, 0, 0, 0, 0]]), 'attention_mask': tensor([[1, 1, 1, 1, 1, 1, 1, 1, 1, 1, 1, 1, 1]]), 'labels': tensor([[-100, -100, -100, -100, -100, -100, 5555, -100, -100, -100, -100, -100,\n",
       "         -100]])}"
      ]
     },
     "execution_count": 155,
     "metadata": {},
     "output_type": "execute_result"
    }
   ],
   "source": [
    "from transformers import DataCollatorForLanguageModeling\n",
    "torch.manual_seed(41)\n",
    "data_collator = DataCollatorForLanguageModeling(tokenizer=bert_tokenizer, mlm_probability=0.15)\n",
    "mlm_tokens = data_collator([tokens])\n",
    "mlm_tokens"
   ]
  },
  {
   "cell_type": "code",
   "execution_count": 156,
   "metadata": {
    "colab": {
     "base_uri": "https://localhost:8080/"
    },
    "id": "XI180xPwPIpo",
    "outputId": "10bc403d-4019-4606-8c9b-332f3572921a",
    "scrolled": true
   },
   "outputs": [
    {
     "name": "stdout",
     "output_type": "stream",
     "text": [
      "['[CLS]', 'alice', 'is', 'in', '##ex', '##pl', '##ica', '##bly', 'following', 'the', 'white', 'rabbit', '[SEP]']\n",
      "['[CLS]', 'alice', 'is', 'in', '##ex', '##pl', '[MASK]', '##bly', 'following', 'the', 'white', 'rabbit', '[SEP]']\n"
     ]
    }
   ],
   "source": [
    "print(bert_tokenizer.convert_ids_to_tokens(tokens['input_ids']))\n",
    "print(bert_tokenizer.convert_ids_to_tokens(mlm_tokens['input_ids'][0]))"
   ]
  },
  {
   "cell_type": "markdown",
   "metadata": {
    "id": "gyTICtkbPIpo"
   },
   "source": [
    "### Next Sentence Prediction (NSP)\n",
    "\n",
    "![](https://github.com/dvgodoy/PyTorchStepByStep/blob/master/images/bert_nsp.png?raw=1)"
   ]
  },
  {
   "cell_type": "code",
   "execution_count": 157,
   "metadata": {
    "colab": {
     "base_uri": "https://localhost:8080/"
    },
    "id": "eWrQN9DpPIpo",
    "outputId": "01423718-f54a-4989-850c-f570f399c2f5"
   },
   "outputs": [
    {
     "data": {
      "text/plain": [
       "BertPooler(\n",
       "  (dense): Linear(in_features=768, out_features=768, bias=True)\n",
       "  (activation): Tanh()\n",
       ")"
      ]
     },
     "execution_count": 157,
     "metadata": {},
     "output_type": "execute_result"
    }
   ],
   "source": [
    "bert_model.pooler"
   ]
  },
  {
   "cell_type": "code",
   "execution_count": 158,
   "metadata": {
    "colab": {
     "base_uri": "https://localhost:8080/"
    },
    "id": "WmVOtEwePIpp",
    "outputId": "21e84db6-9fb7-4316-de40-1a3e9beec726"
   },
   "outputs": [
    {
     "data": {
      "text/plain": [
       "{'input_ids': tensor([[  101,  5650,  4076,  1996,  2317, 10442,   102,  3582,  1996,  2317,\n",
       "         10442,  9253,   102]]), 'token_type_ids': tensor([[0, 0, 0, 0, 0, 0, 0, 1, 1, 1, 1, 1, 1]]), 'attention_mask': tensor([[1, 1, 1, 1, 1, 1, 1, 1, 1, 1, 1, 1, 1]])}"
      ]
     },
     "execution_count": 158,
     "metadata": {},
     "output_type": "execute_result"
    }
   ],
   "source": [
    "sentence1 = 'alice follows the white rabbit'\n",
    "sentence2 = 'follow the white rabbit neo'\n",
    "bert_tokenizer(sentence1, sentence2, return_tensors='pt')"
   ]
  },
  {
   "cell_type": "markdown",
   "metadata": {
    "id": "_HkUpyLUPIpp"
   },
   "source": [
    "## Outputs"
   ]
  },
  {
   "cell_type": "code",
   "execution_count": 159,
   "metadata": {
    "colab": {
     "base_uri": "https://localhost:8080/",
     "height": 35
    },
    "id": "5C-AaHkFPIpp",
    "outputId": "efcf2e58-a795-49c2-d507-acdae8f94095"
   },
   "outputs": [
    {
     "data": {
      "application/vnd.google.colaboratory.intrinsic+json": {
       "type": "string"
      },
      "text/plain": [
       "'So the Woodman went at once to the trees and began to work; and he soon made a truck out of the limbs of trees, from which he chopped away all the leaves and branches.'"
      ]
     },
     "execution_count": 159,
     "metadata": {},
     "output_type": "execute_result"
    }
   ],
   "source": [
    "sentence = train_dataset[0]['sentence']\n",
    "sentence"
   ]
  },
  {
   "cell_type": "code",
   "execution_count": 160,
   "metadata": {
    "colab": {
     "base_uri": "https://localhost:8080/"
    },
    "id": "AmqPWjJuPIpp",
    "outputId": "341934d6-5091-47d9-f4fb-2a2bffb6ff94"
   },
   "outputs": [
    {
     "data": {
      "text/plain": [
       "{'input_ids': tensor([[  101,  2061,  1996,  3536,  2386,  2253,  2012,  2320,  2000,  1996,\n",
       "          3628,  1998,  2211,  2000,  2147,  1025,  1998,  2002,  2574,  2081,\n",
       "          1037,  4744,  2041,  1997,  1996, 10726,  1997,  3628,  1010,   102]]), 'token_type_ids': tensor([[0, 0, 0, 0, 0, 0, 0, 0, 0, 0, 0, 0, 0, 0, 0, 0, 0, 0, 0, 0, 0, 0, 0, 0,\n",
       "         0, 0, 0, 0, 0, 0]]), 'attention_mask': tensor([[1, 1, 1, 1, 1, 1, 1, 1, 1, 1, 1, 1, 1, 1, 1, 1, 1, 1, 1, 1, 1, 1, 1, 1,\n",
       "         1, 1, 1, 1, 1, 1]])}"
      ]
     },
     "execution_count": 160,
     "metadata": {},
     "output_type": "execute_result"
    }
   ],
   "source": [
    "tokens = bert_tokenizer(sentence,\n",
    "                        padding='max_length',\n",
    "                        max_length=30,\n",
    "                        truncation=True,\n",
    "                        return_tensors=\"pt\")\n",
    "tokens"
   ]
  },
  {
   "cell_type": "code",
   "execution_count": 161,
   "metadata": {
    "colab": {
     "base_uri": "https://localhost:8080/"
    },
    "id": "f_ssmrA7PIpp",
    "outputId": "5835486d-41be-4729-ca38-9fe74dde024d"
   },
   "outputs": [
    {
     "data": {
      "text/plain": [
       "odict_keys(['last_hidden_state', 'pooler_output', 'hidden_states', 'attentions'])"
      ]
     },
     "execution_count": 161,
     "metadata": {},
     "output_type": "execute_result"
    }
   ],
   "source": [
    "bert_model.eval()\n",
    "out = bert_model(input_ids=tokens['input_ids'],\n",
    "                 attention_mask=tokens['attention_mask'],\n",
    "                 output_attentions=True,\n",
    "                 output_hidden_states=True,\n",
    "                 return_dict=True)\n",
    "out.keys()"
   ]
  },
  {
   "cell_type": "markdown",
   "metadata": {
    "id": "n0lNYShtPIpq"
   },
   "source": [
    "![](https://github.com/dvgodoy/PyTorchStepByStep/blob/master/images/bert_embeddings.png?raw=1)"
   ]
  },
  {
   "cell_type": "code",
   "execution_count": 162,
   "metadata": {
    "colab": {
     "base_uri": "https://localhost:8080/"
    },
    "id": "O9qGa0qaPIpq",
    "outputId": "f2067bfe-3715-4247-9cbb-b63199d76a28"
   },
   "outputs": [
    {
     "data": {
      "text/plain": [
       "tensor([[ 0.5442, -0.0137, -0.8150,  ...,  0.1782,  0.8116,  0.2801],\n",
       "        [ 0.6964,  0.2052, -0.1539,  ...,  0.3547,  0.7251, -0.6998],\n",
       "        [ 1.3538,  0.1839, -0.2409,  ..., -0.0459,  0.0591, -0.9654],\n",
       "        ...,\n",
       "        [ 0.0936,  0.8914,  0.7814,  ..., -0.4037,  0.1226, -0.1378],\n",
       "        [ 0.1062,  1.1001,  0.7522,  ..., -0.2057, -0.1345, -0.6589],\n",
       "        [-0.3197, -0.4288, -0.3550,  ...,  0.2808,  0.1968, -0.3568]],\n",
       "       grad_fn=<SliceBackward0>)"
      ]
     },
     "execution_count": 162,
     "metadata": {},
     "output_type": "execute_result"
    }
   ],
   "source": [
    "last_hidden_batch = out['last_hidden_state']\n",
    "last_hidden_sentence = last_hidden_batch[0]\n",
    "# Removes hidden states for [PAD] tokens using the mask\n",
    "mask = tokens['attention_mask'].squeeze().bool()\n",
    "embeddings = last_hidden_sentence[mask]\n",
    "# Removes embeddings for the first [CLS] and last [SEP] tokens\n",
    "embeddings[1:-1]"
   ]
  },
  {
   "cell_type": "code",
   "execution_count": 163,
   "metadata": {
    "colab": {
     "base_uri": "https://localhost:8080/"
    },
    "id": "rlqC7lDSPIpq",
    "outputId": "963e5271-968d-4acf-cc9e-44a2d1f689a1"
   },
   "outputs": [
    {
     "data": {
      "text/plain": [
       "tensor([[ 0.5181, -0.1753, -0.9000,  ...,  0.1124,  0.7104,  0.2835],\n",
       "        [ 0.6012,  0.1941, -0.2260,  ...,  0.3882,  0.6763, -0.5992],\n",
       "        [ 1.3117, -0.1014, -0.3750,  ..., -0.0536,  0.1620, -0.9091],\n",
       "        ...,\n",
       "        [-0.0166,  1.1062,  0.2548,  ..., -0.0166,  0.4479,  0.6551],\n",
       "        [ 0.0917,  0.6371,  0.5431,  ...,  0.0217,  0.0575, -0.0405],\n",
       "        [ 0.8255,  0.3259, -0.4444,  ...,  0.0391, -0.4220, -0.2392]],\n",
       "       device='cuda:0')"
      ]
     },
     "execution_count": 163,
     "metadata": {},
     "output_type": "execute_result"
    }
   ],
   "source": [
    "get_embeddings(bert_flair, sentence)"
   ]
  },
  {
   "cell_type": "code",
   "execution_count": 164,
   "metadata": {
    "colab": {
     "base_uri": "https://localhost:8080/"
    },
    "id": "hNKAkRLyPIpq",
    "outputId": "f8897916-af98-45b9-dff1-a9770a8bfbfd"
   },
   "outputs": [
    {
     "name": "stdout",
     "output_type": "stream",
     "text": [
      "13\n",
      "torch.Size([1, 30, 768])\n"
     ]
    }
   ],
   "source": [
    "print(len(out['hidden_states']))\n",
    "print(out['hidden_states'][0].shape)"
   ]
  },
  {
   "cell_type": "code",
   "execution_count": 165,
   "metadata": {
    "colab": {
     "base_uri": "https://localhost:8080/"
    },
    "id": "451QgYohPIpq",
    "outputId": "cf58f55e-9516-403e-fd97-1931a0d5e7b0"
   },
   "outputs": [
    {
     "data": {
      "text/plain": [
       "tensor(True)"
      ]
     },
     "execution_count": 165,
     "metadata": {},
     "output_type": "execute_result"
    }
   ],
   "source": [
    "(out['hidden_states'][0] == bert_model.embeddings(tokens['input_ids'])).all()"
   ]
  },
  {
   "cell_type": "code",
   "execution_count": 166,
   "metadata": {
    "colab": {
     "base_uri": "https://localhost:8080/"
    },
    "id": "93o1_w-EPIpr",
    "outputId": "11ad9dc8-1a9a-41bf-e8a6-ce4b3bcc2b4c"
   },
   "outputs": [
    {
     "data": {
      "text/plain": [
       "tensor(True)"
      ]
     },
     "execution_count": 166,
     "metadata": {},
     "output_type": "execute_result"
    }
   ],
   "source": [
    "(out['hidden_states'][-1] == out['last_hidden_state']).all()"
   ]
  },
  {
   "cell_type": "code",
   "execution_count": 167,
   "metadata": {
    "colab": {
     "base_uri": "https://localhost:8080/"
    },
    "id": "bYA0p0XqPIpr",
    "outputId": "5834f438-6420-4432-bd00-0f14f9c6f727"
   },
   "outputs": [
    {
     "data": {
      "text/plain": [
       "tensor(True)"
      ]
     },
     "execution_count": 167,
     "metadata": {},
     "output_type": "execute_result"
    }
   ],
   "source": [
    "(out['pooler_output'] == bert_model.pooler(out['last_hidden_state'])).all()"
   ]
  },
  {
   "cell_type": "code",
   "execution_count": 168,
   "metadata": {
    "colab": {
     "base_uri": "https://localhost:8080/"
    },
    "id": "jsdP4CnSPIpr",
    "outputId": "bb3f69f1-9675-413c-8224-ab480eec2555"
   },
   "outputs": [
    {
     "name": "stdout",
     "output_type": "stream",
     "text": [
      "12\n",
      "torch.Size([1, 12, 30, 30])\n"
     ]
    }
   ],
   "source": [
    "print(len(out['attentions']))\n",
    "print(out['attentions'][0].shape)"
   ]
  },
  {
   "cell_type": "markdown",
   "metadata": {
    "id": "PlX9GImRPIpr"
   },
   "source": [
    "## Model IV - Classifying using BERT"
   ]
  },
  {
   "cell_type": "code",
   "execution_count": 169,
   "metadata": {
    "id": "zWB0IsJEPIpr"
   },
   "outputs": [],
   "source": [
    "class BERTClassifier(nn.Module):\n",
    "    def __init__(self, bert_model, ff_units, n_outputs, dropout=0.3):\n",
    "        super().__init__()\n",
    "        self.d_model = bert_model.config.dim\n",
    "        self.n_outputs = n_outputs\n",
    "        self.encoder = bert_model\n",
    "        self.mlp = nn.Sequential(\n",
    "            nn.Linear(self.d_model, ff_units),\n",
    "            nn.ReLU(),\n",
    "            nn.Dropout(dropout),\n",
    "            nn.Linear(ff_units, n_outputs)\n",
    "        )\n",
    "\n",
    "    def encode(self, source, source_mask=None):\n",
    "        states = self.encoder(input_ids=source,\n",
    "                              attention_mask=source_mask)[0]\n",
    "        cls_state = states[:, 0]\n",
    "        return cls_state\n",
    "\n",
    "    def forward(self, X):\n",
    "        source_mask = (X > 0)\n",
    "        # Featurizer\n",
    "        cls_state = self.encode(X, source_mask)\n",
    "        # Classifier\n",
    "        out = self.mlp(cls_state)\n",
    "        return out"
   ]
  },
  {
   "cell_type": "markdown",
   "metadata": {
    "id": "rN86j0y9PIps"
   },
   "source": [
    "### Data Preparation"
   ]
  },
  {
   "cell_type": "code",
   "execution_count": 170,
   "metadata": {
    "id": "LLFm2rAtPIps"
   },
   "outputs": [],
   "source": [
    "def tokenize_dataset(hf_dataset, sentence_field, label_field, tokenizer, **kwargs):\n",
    "    sentences = hf_dataset[sentence_field]\n",
    "    token_ids = tokenizer(sentences, return_tensors='pt', **kwargs)['input_ids']\n",
    "    labels = torch.as_tensor(hf_dataset[label_field])\n",
    "    dataset = TensorDataset(token_ids, labels)\n",
    "    return dataset"
   ]
  },
  {
   "cell_type": "code",
   "execution_count": 171,
   "metadata": {
    "colab": {
     "base_uri": "https://localhost:8080/",
     "height": 145,
     "referenced_widgets": [
      "70e214355ffd434dacdd6b959e04b4c7",
      "8b1ed30ccf3143228a3aea84f390d41e",
      "fc64554be0cc4dbcb7d17ef58fe55262",
      "ba38d898cea04cc29db7a49d3d3367d4",
      "abcd64d0a2ee4adeb749cc2fc34e3a6a",
      "4390ce9b054e4e44948a4afa1adfd214",
      "f8e511c8d57a46a39ea1a67deabd6bfb",
      "2ee47a205c904782bdef418c25b89838",
      "8ff6cd267a28487fb8cac4cb8724fc0e",
      "d1b6a2821d0d42069d6cf483eb634d0b",
      "10570d170bec405c8c15d80523a0717c",
      "c5c9de8c50f94005905df2e4d0242dc5",
      "5a6a8a704b744c479bcabb9d5a16c8e8",
      "03b0d4b80ee8400e8bb1ff96fe794139",
      "3ac42e6d69fc4ea581d0fd3d1f77ea47",
      "995ca1139e7f46fbac1c296c3dcda07a",
      "dddb342989e44ec0b0c9e40bb0ccf843",
      "efb5452b364d4c358faea6a451f55bce",
      "5a124cf7785e4eccafa4d1c7d3cd2942",
      "1809cd29e041406687b13786774d4880",
      "64fe242aa6184a7cbff04d4043267e05",
      "a37527a86b78442f98e2591652d9075f",
      "527d9fab58da45b1a9930c302c10d000",
      "de96be39783b47c19fe9e3050ad3382d",
      "484eaeabda91461093d8aac55b07b490",
      "4bb8c462785b4ee3a905ef77c73a7a90",
      "6b11860e26f94a3a8a71315334e4e3c6",
      "8a23f02ece4341f7900c82ab906874eb",
      "91d21b681ffb4ceaabd85f2867e60cbd",
      "c541c75959db47b89b78ef1e8ac06295",
      "0d25366a3d654d3fba85508bf309e568",
      "eb43725f0e22483989c5334facd46da0",
      "2dfc9768d7a8421da53d9c812e7d9e8a",
      "dd8a687326dc49feafc45355eb129d95",
      "19a2336a406a45bf9e990fa8ad9a49d4",
      "13a2a27f04f7451aa8be99bb139efb27",
      "2d3e56d6572c45c7895b14699de36d87",
      "0d27001bb0cb4b689a75fbea7f1efa4c",
      "44050ee5b91145a8b22e2bc7de3ba85a",
      "2db54785b3554d46811fde033a15dc17",
      "f28cbac2858e4e079790d7f24ff1d73d",
      "975c4167faed4d339bbc3f2eeae9f748",
      "2a76cc1a0b46464bbd65fc92c4a64cc5",
      "bf06dc9d10d247ec9971327d4dcc2b1a"
     ]
    },
    "id": "hvCj__6mPIps",
    "outputId": "bda37a30-57ac-439a-8e34-3d48894598e0"
   },
   "outputs": [
    {
     "data": {
      "application/vnd.jupyter.widget-view+json": {
       "model_id": "70e214355ffd434dacdd6b959e04b4c7",
       "version_major": 2,
       "version_minor": 0
      },
      "text/plain": [
       "tokenizer_config.json:   0%|          | 0.00/28.0 [00:00<?, ?B/s]"
      ]
     },
     "metadata": {},
     "output_type": "display_data"
    },
    {
     "data": {
      "application/vnd.jupyter.widget-view+json": {
       "model_id": "c5c9de8c50f94005905df2e4d0242dc5",
       "version_major": 2,
       "version_minor": 0
      },
      "text/plain": [
       "config.json:   0%|          | 0.00/483 [00:00<?, ?B/s]"
      ]
     },
     "metadata": {},
     "output_type": "display_data"
    },
    {
     "data": {
      "application/vnd.jupyter.widget-view+json": {
       "model_id": "527d9fab58da45b1a9930c302c10d000",
       "version_major": 2,
       "version_minor": 0
      },
      "text/plain": [
       "vocab.txt:   0%|          | 0.00/232k [00:00<?, ?B/s]"
      ]
     },
     "metadata": {},
     "output_type": "display_data"
    },
    {
     "data": {
      "application/vnd.jupyter.widget-view+json": {
       "model_id": "dd8a687326dc49feafc45355eb129d95",
       "version_major": 2,
       "version_minor": 0
      },
      "text/plain": [
       "tokenizer.json:   0%|          | 0.00/466k [00:00<?, ?B/s]"
      ]
     },
     "metadata": {},
     "output_type": "display_data"
    }
   ],
   "source": [
    "auto_tokenizer = AutoTokenizer.from_pretrained('distilbert-base-uncased')\n",
    "tokenizer_kwargs = dict(truncation=True, padding=True, max_length=30, add_special_tokens=True)"
   ]
  },
  {
   "cell_type": "code",
   "execution_count": 172,
   "metadata": {
    "colab": {
     "base_uri": "https://localhost:8080/",
     "height": 81,
     "referenced_widgets": [
      "65fa5ad06c2841f4bf33c3d917dfe686",
      "e9c3ea0435a14ce29d1c86b313ba9a54",
      "d0465475c82e4484842703a19508ef59",
      "cb4b2c83ca8a43e18823bb1c3a79fb0a",
      "1f95a9be7f54444b88744c67e8da5a80",
      "ee79ca16bfe24e658376c11ddfda1124",
      "70ae6722b0d34f91b70f435b8162e878",
      "ee8c3960cb684a54adc10a0516f3fc75",
      "8a916a0fe6874b7a97453b0f0dc314cf",
      "e40b00b93fe14e5ba62613d5fa74acf8",
      "063a969f176941fa84a21569b4c6ba2b",
      "67c086e6a2e347ce8378a7ea4041b27d",
      "65b52af198f04e0f8500eed14d3d4f8e",
      "635101e9dd8a4448bc74a0ed4316c507",
      "43bdb3e2257745268c506b8051afb03c",
      "e175619272a145949a2ec548819dd4eb",
      "43e354bd826a4538a1bc08972f52f711",
      "aeea02bd03be406bb2b047e3e9b82f95",
      "a6e572e7ab67495b8a5b4b1a50af8e0b",
      "ea7f12de56e446b19f407e6e092af4ba",
      "b1aba125897f4354a821bd5dd08ecd70",
      "f571d7cf478b4c20a1f5c4bd503e7737"
     ]
    },
    "id": "bRuvrZRfPIps",
    "outputId": "6207d868-c423-4df5-d1a0-05eb965be660"
   },
   "outputs": [
    {
     "data": {
      "application/vnd.jupyter.widget-view+json": {
       "model_id": "65fa5ad06c2841f4bf33c3d917dfe686",
       "version_major": 2,
       "version_minor": 0
      },
      "text/plain": [
       "Map:   0%|          | 0/3081 [00:00<?, ? examples/s]"
      ]
     },
     "metadata": {},
     "output_type": "display_data"
    },
    {
     "data": {
      "application/vnd.jupyter.widget-view+json": {
       "model_id": "67c086e6a2e347ce8378a7ea4041b27d",
       "version_major": 2,
       "version_minor": 0
      },
      "text/plain": [
       "Map:   0%|          | 0/771 [00:00<?, ? examples/s]"
      ]
     },
     "metadata": {},
     "output_type": "display_data"
    }
   ],
   "source": [
    "train_dataset_float = train_dataset.map(lambda row: {'labels': [float(row['labels'])]})\n",
    "test_dataset_float = test_dataset.map(lambda row: {'labels': [float(row['labels'])]})\n",
    "\n",
    "train_tensor_dataset = tokenize_dataset(train_dataset_float, 'sentence', 'labels', auto_tokenizer, **tokenizer_kwargs)\n",
    "test_tensor_dataset = tokenize_dataset(test_dataset_float, 'sentence', 'labels', auto_tokenizer, **tokenizer_kwargs)\n",
    "\n",
    "generator = torch.Generator()\n",
    "train_loader = DataLoader(train_tensor_dataset, batch_size=4, shuffle=True, generator=generator)\n",
    "test_loader = DataLoader(test_tensor_dataset, batch_size=8)"
   ]
  },
  {
   "cell_type": "markdown",
   "metadata": {
    "id": "a_zRWx9gPIps"
   },
   "source": [
    "### Model Configuration & Training"
   ]
  },
  {
   "cell_type": "code",
   "execution_count": 173,
   "metadata": {
    "colab": {
     "base_uri": "https://localhost:8080/",
     "height": 49,
     "referenced_widgets": [
      "7d9e3726eebd41f8b1d22aa80312df70",
      "11a777252a044e3da149877541e3ecaf",
      "e439a2c28d5c4ecf865619d7af82e698",
      "0b601c2d8959449ba0eedeb6e858a6b3",
      "9082dd5f5f2640a7a390a23684360ca9",
      "6fd602b801f0475db9c933fca5d2eb78",
      "852ae3ffc3f945d1b5fbf3dc377ffc07",
      "a1754c0bf4d9463ca5214eac4eb9a1eb",
      "106cc09c16f84c419d0d2cd5c7f55a8a",
      "98ecb94064cd4451b67cccdac5f8c102",
      "12ab9c1a8fac4be28462066d99d4cac5"
     ]
    },
    "id": "3Z1oEHNkPIps",
    "outputId": "806b04f1-81cf-45ba-e8ea-6a58a8ecb155"
   },
   "outputs": [
    {
     "data": {
      "application/vnd.jupyter.widget-view+json": {
       "model_id": "7d9e3726eebd41f8b1d22aa80312df70",
       "version_major": 2,
       "version_minor": 0
      },
      "text/plain": [
       "model.safetensors:   0%|          | 0.00/268M [00:00<?, ?B/s]"
      ]
     },
     "metadata": {},
     "output_type": "display_data"
    }
   ],
   "source": [
    "torch.manual_seed(41)\n",
    "bert_model = AutoModel.from_pretrained(\"distilbert-base-uncased\")\n",
    "model = BERTClassifier(bert_model, 128, n_outputs=1)\n",
    "loss_fn = nn.BCEWithLogitsLoss()\n",
    "optimizer = optim.Adam(model.parameters(), lr=1e-5)"
   ]
  },
  {
   "cell_type": "code",
   "execution_count": 174,
   "metadata": {
    "id": "yZL4UQsVPIpt"
   },
   "outputs": [],
   "source": [
    "sbs_bert = StepByStep(model, loss_fn, optimizer)\n",
    "sbs_bert.set_loaders(train_loader, test_loader)\n",
    "sbs_bert.train(1)"
   ]
  },
  {
   "cell_type": "code",
   "execution_count": 175,
   "metadata": {
    "colab": {
     "base_uri": "https://localhost:8080/"
    },
    "id": "4Uma227MPIpt",
    "outputId": "d4b503df-8d6a-4315-bf68-c4f4494f1f08"
   },
   "outputs": [
    {
     "data": {
      "text/plain": [
       "66461441"
      ]
     },
     "execution_count": 175,
     "metadata": {},
     "output_type": "execute_result"
    }
   ],
   "source": [
    "sbs_bert.count_parameters()"
   ]
  },
  {
   "cell_type": "code",
   "execution_count": 176,
   "metadata": {
    "colab": {
     "base_uri": "https://localhost:8080/"
    },
    "id": "AOE-3A4jPIpt",
    "outputId": "3e1f3ecb-c726-4ff9-ac81-fc677ff1f3e0"
   },
   "outputs": [
    {
     "data": {
      "text/plain": [
       "tensor([[446, 453],\n",
       "        [300, 318]])"
      ]
     },
     "execution_count": 176,
     "metadata": {},
     "output_type": "execute_result"
    }
   ],
   "source": [
    "StepByStep.loader_apply(test_loader, sbs_bert.correct)"
   ]
  },
  {
   "cell_type": "markdown",
   "metadata": {
    "id": "M-YD9bvDPIpt"
   },
   "source": [
    "# Fine-Tuning with HuggingFace"
   ]
  },
  {
   "cell_type": "markdown",
   "metadata": {
    "id": "BXihCcZSPIpt"
   },
   "source": [
    "## Sequence Classification (or Regression)"
   ]
  },
  {
   "cell_type": "code",
   "execution_count": 177,
   "metadata": {
    "id": "VsEGVD3wPIpt"
   },
   "outputs": [],
   "source": [
    "from transformers import DistilBertForSequenceClassification\n",
    "torch.manual_seed(42)\n",
    "bert_cls = DistilBertForSequenceClassification.from_pretrained('distilbert-base-uncased', num_labels=2)"
   ]
  },
  {
   "cell_type": "code",
   "execution_count": 178,
   "metadata": {
    "colab": {
     "base_uri": "https://localhost:8080/"
    },
    "id": "w7MQ1ApTPIpu",
    "outputId": "6af547d2-b8ef-4912-ea74-b68ab6bd8896"
   },
   "outputs": [
    {
     "name": "stdout",
     "output_type": "stream",
     "text": [
      "<class 'transformers.models.distilbert.modeling_distilbert.DistilBertForSequenceClassification'>\n"
     ]
    }
   ],
   "source": [
    "from transformers import AutoModelForSequenceClassification\n",
    "auto_cls = AutoModelForSequenceClassification.from_pretrained('distilbert-base-uncased', num_labels=2)\n",
    "print(auto_cls.__class__)"
   ]
  },
  {
   "cell_type": "markdown",
   "metadata": {
    "id": "_3eWB1c2PIpu"
   },
   "source": [
    "## Tokenized Dataset"
   ]
  },
  {
   "cell_type": "code",
   "execution_count": 179,
   "metadata": {
    "id": "VmJOKQcmPIpu"
   },
   "outputs": [],
   "source": [
    "auto_tokenizer = AutoTokenizer.from_pretrained('distilbert-base-uncased')\n",
    "def tokenize(row):\n",
    "    return auto_tokenizer(row['sentence'],\n",
    "                          truncation=True,\n",
    "                          padding='max_length',\n",
    "                          max_length=30)"
   ]
  },
  {
   "cell_type": "code",
   "execution_count": 180,
   "metadata": {
    "colab": {
     "base_uri": "https://localhost:8080/",
     "height": 81,
     "referenced_widgets": [
      "d62f299a59d04f4da693b6524a501a2e",
      "4262c25b50d945fbbac58cb13f2cf4aa",
      "19f76eaac0a74742adc27e9cdad38b65",
      "608cdf8a656c4639ad7ed5bfbd77fab0",
      "e268bdded7af4cd39467d93be5b4621d",
      "42f3c23f79804b588e05bfddb0442b09",
      "ef3fc375222e4cf4a835fa898253cd8d",
      "eed9340ed9d04611b71f75e4db6cd67e",
      "bbb94e68c17e423f8dd9fc1a9438aa94",
      "44c46ae2a0dd486e8b12b5a35f8ff0fa",
      "65fa9425c1634aa7983701ae7a6b4be3",
      "98f94a4b641044809aa3bd2801fbee27",
      "c30bd63cc2694712a657bc50f69046e8",
      "aefcb034f9164e5ba707dd08c1e02a09",
      "6c9e2cc3d6b84d47bf71568457444be8",
      "33d1d6cd77c545d48c0cdc2a4207f05a",
      "6a07d0daadd84589abeca17d55fa0c8e",
      "938ab7319f314935afdab88c85d87894",
      "13192bc720d84c2cb83a4cca9906471a",
      "94ef455f4eb940c0b176827e8a7d9fc5",
      "da76d47c353f44068f5d2e41190e0d62",
      "4969585bd7e842038c8f4f7d3bc6efe1"
     ]
    },
    "id": "FzW2xAeDPIpu",
    "outputId": "b8f6aa5b-7e4c-46ad-e91a-733057bebbb2"
   },
   "outputs": [
    {
     "data": {
      "application/vnd.jupyter.widget-view+json": {
       "model_id": "d62f299a59d04f4da693b6524a501a2e",
       "version_major": 2,
       "version_minor": 0
      },
      "text/plain": [
       "Map:   0%|          | 0/3081 [00:00<?, ? examples/s]"
      ]
     },
     "metadata": {},
     "output_type": "display_data"
    },
    {
     "data": {
      "application/vnd.jupyter.widget-view+json": {
       "model_id": "98f94a4b641044809aa3bd2801fbee27",
       "version_major": 2,
       "version_minor": 0
      },
      "text/plain": [
       "Map:   0%|          | 0/771 [00:00<?, ? examples/s]"
      ]
     },
     "metadata": {},
     "output_type": "display_data"
    }
   ],
   "source": [
    "tokenized_train_dataset = train_dataset.map(tokenize, batched=True)\n",
    "tokenized_test_dataset = test_dataset.map(tokenize, batched=True)"
   ]
  },
  {
   "cell_type": "code",
   "execution_count": 181,
   "metadata": {
    "colab": {
     "base_uri": "https://localhost:8080/"
    },
    "id": "MCToy9BpPIpv",
    "outputId": "9d635254-e995-4f5a-bfef-96d15525dc4b"
   },
   "outputs": [
    {
     "name": "stdout",
     "output_type": "stream",
     "text": [
      "{'sentence': 'So the Woodman went at once to the trees and began to work; and he soon made a truck out of the limbs of trees, from which he chopped away all the leaves and branches.', 'source': 'wizoz10-1740.txt', 'labels': 0, 'input_ids': [101, 2061, 1996, 3536, 2386, 2253, 2012, 2320, 2000, 1996, 3628, 1998, 2211, 2000, 2147, 1025, 1998, 2002, 2574, 2081, 1037, 4744, 2041, 1997, 1996, 10726, 1997, 3628, 1010, 102], 'attention_mask': [1, 1, 1, 1, 1, 1, 1, 1, 1, 1, 1, 1, 1, 1, 1, 1, 1, 1, 1, 1, 1, 1, 1, 1, 1, 1, 1, 1, 1, 1]}\n"
     ]
    }
   ],
   "source": [
    "print(tokenized_train_dataset[0])"
   ]
  },
  {
   "cell_type": "code",
   "execution_count": 182,
   "metadata": {
    "id": "OJGHlBQ9PIpv"
   },
   "outputs": [],
   "source": [
    "tokenized_train_dataset.set_format(type='torch', columns=['input_ids', 'attention_mask', 'labels'])\n",
    "tokenized_test_dataset.set_format(type='torch', columns=['input_ids', 'attention_mask', 'labels'])"
   ]
  },
  {
   "cell_type": "code",
   "execution_count": 183,
   "metadata": {
    "colab": {
     "base_uri": "https://localhost:8080/"
    },
    "id": "nsQJ3GjfPIpv",
    "outputId": "35bfafc2-bcc6-4a1a-8507-3b3cf54afdd2"
   },
   "outputs": [
    {
     "data": {
      "text/plain": [
       "{'labels': tensor(0),\n",
       " 'input_ids': tensor([  101,  2061,  1996,  3536,  2386,  2253,  2012,  2320,  2000,  1996,\n",
       "          3628,  1998,  2211,  2000,  2147,  1025,  1998,  2002,  2574,  2081,\n",
       "          1037,  4744,  2041,  1997,  1996, 10726,  1997,  3628,  1010,   102]),\n",
       " 'attention_mask': tensor([1, 1, 1, 1, 1, 1, 1, 1, 1, 1, 1, 1, 1, 1, 1, 1, 1, 1, 1, 1, 1, 1, 1, 1,\n",
       "         1, 1, 1, 1, 1, 1])}"
      ]
     },
     "execution_count": 183,
     "metadata": {},
     "output_type": "execute_result"
    }
   ],
   "source": [
    "tokenized_train_dataset[0]"
   ]
  },
  {
   "cell_type": "markdown",
   "metadata": {
    "id": "pWBcmaN1PIpv"
   },
   "source": [
    "## Trainer"
   ]
  },
  {
   "cell_type": "code",
   "execution_count": 184,
   "metadata": {
    "id": "dHy5s29tPIpv"
   },
   "outputs": [],
   "source": [
    "from transformers import Trainer\n",
    "trainer = Trainer(model=bert_cls, train_dataset=tokenized_train_dataset)"
   ]
  },
  {
   "cell_type": "code",
   "execution_count": 185,
   "metadata": {
    "colab": {
     "base_uri": "https://localhost:8080/"
    },
    "id": "O7pDhbwdPIpw",
    "outputId": "906a36dc-a79d-422b-dc05-aaa87fedc467"
   },
   "outputs": [
    {
     "data": {
      "text/plain": [
       "TrainingArguments(\n",
       "_n_gpu=1,\n",
       "accelerator_config={'split_batches': False, 'dispatch_batches': None, 'even_batches': True, 'use_seedable_sampler': True},\n",
       "adafactor=False,\n",
       "adam_beta1=0.9,\n",
       "adam_beta2=0.999,\n",
       "adam_epsilon=1e-08,\n",
       "auto_find_batch_size=False,\n",
       "bf16=False,\n",
       "bf16_full_eval=False,\n",
       "data_seed=None,\n",
       "dataloader_drop_last=False,\n",
       "dataloader_num_workers=0,\n",
       "dataloader_persistent_workers=False,\n",
       "dataloader_pin_memory=True,\n",
       "dataloader_prefetch_factor=None,\n",
       "ddp_backend=None,\n",
       "ddp_broadcast_buffers=None,\n",
       "ddp_bucket_cap_mb=None,\n",
       "ddp_find_unused_parameters=None,\n",
       "ddp_timeout=1800,\n",
       "debug=[],\n",
       "deepspeed=None,\n",
       "disable_tqdm=True,\n",
       "dispatch_batches=None,\n",
       "do_eval=False,\n",
       "do_predict=False,\n",
       "do_train=False,\n",
       "eval_accumulation_steps=None,\n",
       "eval_delay=0,\n",
       "eval_steps=None,\n",
       "evaluation_strategy=no,\n",
       "fp16=False,\n",
       "fp16_backend=auto,\n",
       "fp16_full_eval=False,\n",
       "fp16_opt_level=O1,\n",
       "fsdp=[],\n",
       "fsdp_config={'min_num_params': 0, 'xla': False, 'xla_fsdp_v2': False, 'xla_fsdp_grad_ckpt': False},\n",
       "fsdp_min_num_params=0,\n",
       "fsdp_transformer_layer_cls_to_wrap=None,\n",
       "full_determinism=False,\n",
       "gradient_accumulation_steps=1,\n",
       "gradient_checkpointing=False,\n",
       "gradient_checkpointing_kwargs=None,\n",
       "greater_is_better=None,\n",
       "group_by_length=False,\n",
       "half_precision_backend=auto,\n",
       "hub_always_push=False,\n",
       "hub_model_id=None,\n",
       "hub_private_repo=False,\n",
       "hub_strategy=every_save,\n",
       "hub_token=<HUB_TOKEN>,\n",
       "ignore_data_skip=False,\n",
       "include_inputs_for_metrics=False,\n",
       "include_num_input_tokens_seen=False,\n",
       "include_tokens_per_second=False,\n",
       "jit_mode_eval=False,\n",
       "label_names=None,\n",
       "label_smoothing_factor=0.0,\n",
       "learning_rate=5e-05,\n",
       "length_column_name=length,\n",
       "load_best_model_at_end=False,\n",
       "local_rank=0,\n",
       "log_level=passive,\n",
       "log_level_replica=warning,\n",
       "log_on_each_node=True,\n",
       "logging_dir=tmp_trainer/runs/Mar01_16-42-16_ca340f7611d1,\n",
       "logging_first_step=False,\n",
       "logging_nan_inf_filter=True,\n",
       "logging_steps=500,\n",
       "logging_strategy=steps,\n",
       "lr_scheduler_kwargs={},\n",
       "lr_scheduler_type=linear,\n",
       "max_grad_norm=1.0,\n",
       "max_steps=-1,\n",
       "metric_for_best_model=None,\n",
       "mp_parameters=,\n",
       "neftune_noise_alpha=None,\n",
       "no_cuda=False,\n",
       "num_train_epochs=3.0,\n",
       "optim=adamw_torch,\n",
       "optim_args=None,\n",
       "output_dir=tmp_trainer,\n",
       "overwrite_output_dir=False,\n",
       "past_index=-1,\n",
       "per_device_eval_batch_size=8,\n",
       "per_device_train_batch_size=8,\n",
       "prediction_loss_only=False,\n",
       "push_to_hub=False,\n",
       "push_to_hub_model_id=None,\n",
       "push_to_hub_organization=None,\n",
       "push_to_hub_token=<PUSH_TO_HUB_TOKEN>,\n",
       "ray_scope=last,\n",
       "remove_unused_columns=True,\n",
       "report_to=['tensorboard'],\n",
       "resume_from_checkpoint=None,\n",
       "run_name=tmp_trainer,\n",
       "save_on_each_node=False,\n",
       "save_only_model=False,\n",
       "save_safetensors=True,\n",
       "save_steps=500,\n",
       "save_strategy=steps,\n",
       "save_total_limit=None,\n",
       "seed=42,\n",
       "skip_memory_metrics=True,\n",
       "split_batches=None,\n",
       "tf32=None,\n",
       "torch_compile=False,\n",
       "torch_compile_backend=None,\n",
       "torch_compile_mode=None,\n",
       "torchdynamo=None,\n",
       "tpu_metrics_debug=False,\n",
       "tpu_num_cores=None,\n",
       "use_cpu=False,\n",
       "use_ipex=False,\n",
       "use_legacy_prediction_loop=False,\n",
       "use_mps_device=False,\n",
       "warmup_ratio=0.0,\n",
       "warmup_steps=0,\n",
       "weight_decay=0.0,\n",
       ")"
      ]
     },
     "execution_count": 185,
     "metadata": {},
     "output_type": "execute_result"
    }
   ],
   "source": [
    "trainer.args"
   ]
  },
  {
   "cell_type": "code",
   "execution_count": 186,
   "metadata": {
    "id": "vMVuTOSUPIpw"
   },
   "outputs": [],
   "source": [
    "from transformers import TrainingArguments\n",
    "training_args = TrainingArguments(\n",
    "    output_dir='output',\n",
    "    num_train_epochs=1,\n",
    "    per_device_train_batch_size=1,\n",
    "    per_device_eval_batch_size=8,\n",
    "    evaluation_strategy='steps',\n",
    "    eval_steps=300,\n",
    "    logging_steps=300,\n",
    "    gradient_accumulation_steps=8,\n",
    ")"
   ]
  },
  {
   "cell_type": "code",
   "execution_count": 187,
   "metadata": {
    "id": "LFxIhoybPIpw"
   },
   "outputs": [],
   "source": [
    "def compute_metrics(eval_pred):\n",
    "    predictions = eval_pred.predictions\n",
    "    labels = eval_pred.label_ids\n",
    "    predictions = np.argmax(predictions, axis=1)\n",
    "    return {\"accuracy\": (predictions == labels).mean()}"
   ]
  },
  {
   "cell_type": "code",
   "execution_count": 188,
   "metadata": {
    "id": "XKo42k7RPIpw"
   },
   "outputs": [],
   "source": [
    "trainer = Trainer(model=bert_cls,\n",
    "                  args=training_args,\n",
    "                  train_dataset=tokenized_train_dataset,\n",
    "                  eval_dataset=tokenized_test_dataset,\n",
    "                  compute_metrics=compute_metrics)"
   ]
  },
  {
   "cell_type": "code",
   "execution_count": 189,
   "metadata": {
    "colab": {
     "base_uri": "https://localhost:8080/"
    },
    "id": "9wdDiBP4PIpw",
    "outputId": "a92de2e2-5f72-4b2f-b8d5-cfa8f88965a2"
   },
   "outputs": [
    {
     "name": "stdout",
     "output_type": "stream",
     "text": [
      "{'loss': 0.1904, 'grad_norm': 1.5486623048782349, 'learning_rate': 1.103896103896104e-05, 'epoch': 0.78}\n",
      "{'eval_loss': 0.12372920662164688, 'eval_accuracy': 0.9623865110246433, 'eval_runtime': 0.8077, 'eval_samples_per_second': 954.547, 'eval_steps_per_second': 120.092, 'epoch': 0.78}\n",
      "{'train_runtime': 70.4997, 'train_samples_per_second': 43.702, 'train_steps_per_second': 5.461, 'train_loss': 0.17047909823330967, 'epoch': 1.0}\n"
     ]
    },
    {
     "data": {
      "text/plain": [
       "TrainOutput(global_step=385, training_loss=0.17047909823330967, metrics={'train_runtime': 70.4997, 'train_samples_per_second': 43.702, 'train_steps_per_second': 5.461, 'train_loss': 0.17047909823330967, 'epoch': 1.0})"
      ]
     },
     "execution_count": 189,
     "metadata": {},
     "output_type": "execute_result"
    }
   ],
   "source": [
    "trainer.train()"
   ]
  },
  {
   "cell_type": "code",
   "execution_count": 190,
   "metadata": {
    "colab": {
     "base_uri": "https://localhost:8080/"
    },
    "id": "j_i6kvF5PIpx",
    "outputId": "aa3a7e0f-bf76-4c0d-9ea5-6af487251069"
   },
   "outputs": [
    {
     "name": "stdout",
     "output_type": "stream",
     "text": [
      "{'eval_loss': 0.1257997453212738, 'eval_accuracy': 0.9623865110246433, 'eval_runtime': 0.9045, 'eval_samples_per_second': 852.392, 'eval_steps_per_second': 107.24, 'epoch': 1.0}\n"
     ]
    },
    {
     "data": {
      "text/plain": [
       "{'eval_loss': 0.1257997453212738,\n",
       " 'eval_accuracy': 0.9623865110246433,\n",
       " 'eval_runtime': 0.9045,\n",
       " 'eval_samples_per_second': 852.392,\n",
       " 'eval_steps_per_second': 107.24,\n",
       " 'epoch': 1.0}"
      ]
     },
     "execution_count": 190,
     "metadata": {},
     "output_type": "execute_result"
    }
   ],
   "source": [
    "trainer.evaluate()"
   ]
  },
  {
   "cell_type": "code",
   "execution_count": 191,
   "metadata": {
    "colab": {
     "base_uri": "https://localhost:8080/"
    },
    "id": "2KOMV6iQPIpx",
    "outputId": "bf25f85c-fb6c-4be1-ad63-ea79faddc74f"
   },
   "outputs": [
    {
     "data": {
      "text/plain": [
       "['training_args.bin', 'model.safetensors', 'config.json']"
      ]
     },
     "execution_count": 191,
     "metadata": {},
     "output_type": "execute_result"
    }
   ],
   "source": [
    "trainer.save_model('bert_alice_vs_wizard')\n",
    "os.listdir('bert_alice_vs_wizard')"
   ]
  },
  {
   "cell_type": "code",
   "execution_count": 192,
   "metadata": {
    "colab": {
     "base_uri": "https://localhost:8080/"
    },
    "id": "1WpIt7WvPIpx",
    "outputId": "9969675f-22ab-4603-e916-e32ea09cab49"
   },
   "outputs": [
    {
     "data": {
      "text/plain": [
       "device(type='cpu')"
      ]
     },
     "execution_count": 192,
     "metadata": {},
     "output_type": "execute_result"
    }
   ],
   "source": [
    "loaded_model = AutoModelForSequenceClassification.from_pretrained('bert_alice_vs_wizard')\n",
    "loaded_model.device"
   ]
  },
  {
   "cell_type": "code",
   "execution_count": 193,
   "metadata": {
    "colab": {
     "base_uri": "https://localhost:8080/"
    },
    "id": "LrmSH5kSPIpx",
    "outputId": "36b1476a-3292-4b16-a4da-bbf9ae67487d",
    "scrolled": true
   },
   "outputs": [
    {
     "data": {
      "text/plain": [
       "device(type='cuda', index=0)"
      ]
     },
     "execution_count": 193,
     "metadata": {},
     "output_type": "execute_result"
    }
   ],
   "source": [
    "device = 'cuda' if torch.cuda.is_available() else 'cpu'\n",
    "loaded_model.to(device)\n",
    "loaded_model.device"
   ]
  },
  {
   "cell_type": "markdown",
   "metadata": {
    "id": "I_6MnEPTPIpx"
   },
   "source": [
    "## Predictions"
   ]
  },
  {
   "cell_type": "code",
   "execution_count": 194,
   "metadata": {
    "colab": {
     "base_uri": "https://localhost:8080/"
    },
    "id": "3_dt7C28PIpy",
    "outputId": "db608ee1-feab-4937-b9ef-1d372fdef591"
   },
   "outputs": [
    {
     "data": {
      "text/plain": [
       "{'input_ids': tensor([[  101,  2091,  1996,  3756,  5318, 10442,  4920,   102]]), 'attention_mask': tensor([[1, 1, 1, 1, 1, 1, 1, 1]])}"
      ]
     },
     "execution_count": 194,
     "metadata": {},
     "output_type": "execute_result"
    }
   ],
   "source": [
    "sentence = 'Down the yellow brick rabbit hole'\n",
    "tokens = auto_tokenizer(sentence, return_tensors='pt')\n",
    "tokens"
   ]
  },
  {
   "cell_type": "code",
   "execution_count": 195,
   "metadata": {
    "colab": {
     "base_uri": "https://localhost:8080/"
    },
    "id": "WAJtVv5fPIpy",
    "outputId": "5ff5314c-7043-495d-a81f-42a189388166"
   },
   "outputs": [
    {
     "name": "stdout",
     "output_type": "stream",
     "text": [
      "<class 'transformers.tokenization_utils_base.BatchEncoding'>\n"
     ]
    },
    {
     "data": {
      "text/plain": [
       "{'input_ids': tensor([[  101,  2091,  1996,  3756,  5318, 10442,  4920,   102]],\n",
       "       device='cuda:0'), 'attention_mask': tensor([[1, 1, 1, 1, 1, 1, 1, 1]], device='cuda:0')}"
      ]
     },
     "execution_count": 195,
     "metadata": {},
     "output_type": "execute_result"
    }
   ],
   "source": [
    "print(type(tokens))\n",
    "tokens.to(loaded_model.device)"
   ]
  },
  {
   "cell_type": "code",
   "execution_count": 196,
   "metadata": {
    "colab": {
     "base_uri": "https://localhost:8080/"
    },
    "id": "Fs4-3g2DPIpy",
    "outputId": "d4ef261b-86eb-48dc-e19a-25e3066248f4"
   },
   "outputs": [
    {
     "data": {
      "text/plain": [
       "SequenceClassifierOutput(loss=None, logits=tensor([[ 0.5956, -0.6552]], device='cuda:0', grad_fn=<AddmmBackward0>), hidden_states=None, attentions=None)"
      ]
     },
     "execution_count": 196,
     "metadata": {},
     "output_type": "execute_result"
    }
   ],
   "source": [
    "loaded_model.eval()\n",
    "logits = loaded_model(input_ids=tokens['input_ids'], attention_mask=tokens['attention_mask'])\n",
    "logits"
   ]
  },
  {
   "cell_type": "code",
   "execution_count": 197,
   "metadata": {
    "colab": {
     "base_uri": "https://localhost:8080/"
    },
    "id": "_81JJd68PIpy",
    "outputId": "46899912-3f24-41db-eec4-40fcc0ab49d3"
   },
   "outputs": [
    {
     "data": {
      "text/plain": [
       "tensor([0], device='cuda:0')"
      ]
     },
     "execution_count": 197,
     "metadata": {},
     "output_type": "execute_result"
    }
   ],
   "source": [
    "logits.logits.argmax(dim=1)"
   ]
  },
  {
   "cell_type": "markdown",
   "metadata": {
    "id": "AOIE2XY-PIpy"
   },
   "source": [
    "## Pipeline"
   ]
  },
  {
   "cell_type": "code",
   "execution_count": 198,
   "metadata": {
    "id": "eTdPgNWAPIpy"
   },
   "outputs": [],
   "source": [
    "from transformers import TextClassificationPipeline\n",
    "device_index = loaded_model.device.index if loaded_model.device.type != 'cpu' else -1\n",
    "classifier = TextClassificationPipeline(model=loaded_model,\n",
    "                                        tokenizer=auto_tokenizer,\n",
    "                                        device=device_index)"
   ]
  },
  {
   "cell_type": "code",
   "execution_count": 199,
   "metadata": {
    "colab": {
     "base_uri": "https://localhost:8080/"
    },
    "id": "rkhu6QaOPIpz",
    "outputId": "51be9f04-42df-40b8-fee4-f57bcc5d4273"
   },
   "outputs": [
    {
     "data": {
      "text/plain": [
       "[{'label': 'LABEL_0', 'score': 0.7774350643157959},\n",
       " {'label': 'LABEL_1', 'score': 0.9984254837036133}]"
      ]
     },
     "execution_count": 199,
     "metadata": {},
     "output_type": "execute_result"
    }
   ],
   "source": [
    "classifier(['Down the Yellow Brick Rabbit Hole', 'Alice rules!'])"
   ]
  },
  {
   "cell_type": "code",
   "execution_count": 200,
   "metadata": {
    "id": "57PmBUrZPIpz"
   },
   "outputs": [],
   "source": [
    "loaded_model.config.id2label = {0: 'Wizard', 1: 'Alice'}"
   ]
  },
  {
   "cell_type": "code",
   "execution_count": 201,
   "metadata": {
    "colab": {
     "base_uri": "https://localhost:8080/"
    },
    "id": "2xsmzplHPIpz",
    "outputId": "ae42a9f6-0f05-47bd-fdb1-df680f0945d1"
   },
   "outputs": [
    {
     "data": {
      "text/plain": [
       "[{'label': 'Wizard', 'score': 0.7774350643157959},\n",
       " {'label': 'Alice', 'score': 0.9984254837036133}]"
      ]
     },
     "execution_count": 201,
     "metadata": {},
     "output_type": "execute_result"
    }
   ],
   "source": [
    "classifier(['Down the Yellow Brick Rabbit Hole', 'Alice rules!'])"
   ]
  },
  {
   "cell_type": "markdown",
   "metadata": {
    "id": "MPv9QGnPPIpz"
   },
   "source": [
    "## More Pipelines"
   ]
  },
  {
   "cell_type": "code",
   "execution_count": 202,
   "metadata": {
    "colab": {
     "base_uri": "https://localhost:8080/",
     "height": 145,
     "referenced_widgets": [
      "fb82f5287b4a4a8c8e2ede1838c1dbeb",
      "6b7101cea911496e98007d220c75a05b",
      "57087b0cc5dd4a77be3beef53cb9a7d6",
      "7f8611121f774f5ea606cd968de34aa5",
      "e9164b241b124b83accf07de6272cf0b",
      "0c2b3e3f7a494b6bb3e46003c6770571",
      "3f6daa12dce64d348ddd971c5417726e",
      "b21725fa1e684f4c92418af03f389a6f",
      "e992d25a59fc4a71a9c1f02affe0e877",
      "4f792cc40ef34ae8a2b4a14d4538967e",
      "dc99ab2ea3704e0cb8279c142a738600",
      "1c7fb77282794a618a1b8175b77811aa",
      "edf1b0f7c7684e08a817590e9a201eb4",
      "0c699df3ee0e45008db6628bc9a6db67",
      "cb7fa84b89ca428f9004e14647b8c876",
      "9026426dbb884fe39e2ec321a89954b2",
      "efde0db3e6914b7f950b0a457bbcb4ae",
      "ee741717c13740faaf795193f91cbb6b",
      "78b58c720fdd4720aa4bee7197007309",
      "fce0f472357142ecaf627eeeee9c2e75",
      "ed9a7513f10e4bf390e853a725541922",
      "79b3244660d64718b33e95af4bbef1d5",
      "439d37b4dbec4ee4afc0167555253edb",
      "ea8505a10dee4b2f8e6d7ea9c3c30ed5",
      "002a9501cdfb408a84a8779cf0176b02",
      "62b8ba29be2c4518971e3ca4c03845c1",
      "1f15b8d5547441cbb156b8dfce4ec7b0",
      "35f6d77e4970448088eef39b7fbec3e0",
      "ddf9c083e48f415d92d2ce2322af149a",
      "4b81c0892898485fafa62fb76028a133",
      "6772d51b7bb544eaa1c86e0836e49766",
      "9f1735288ea745f39f95127366bb8698",
      "2a81d0cf6f654efeac3f2522b7fc0186",
      "4866c0b43a964ac8bf21db1a2c76852a",
      "c06eb99f4ec241b9b010660294f63bb2",
      "6b97eb69cc3d403abf0b32cd988f7706",
      "9f7521e21b0d4b918bdefd2eb38fa75a",
      "60635472c9f6460ab9d144e4c0a74271",
      "645f6ba5ef364830bfb4c43034233b18",
      "14e98cabb95c438abf13993167e4618f",
      "4cac570ecf964757aec9d3a24d86138c",
      "2ac98ce69f164fdfbfb7ff99ddbec967",
      "181ee900eccb4bdc98945cae0e95b770",
      "120fbeddc7d3406994260af25c636e5e"
     ]
    },
    "id": "orvV3n9wPIpz",
    "outputId": "152d9330-5ca4-49b7-81e9-9134b160eb05"
   },
   "outputs": [
    {
     "data": {
      "application/vnd.jupyter.widget-view+json": {
       "model_id": "fb82f5287b4a4a8c8e2ede1838c1dbeb",
       "version_major": 2,
       "version_minor": 0
      },
      "text/plain": [
       "config.json:   0%|          | 0.00/629 [00:00<?, ?B/s]"
      ]
     },
     "metadata": {},
     "output_type": "display_data"
    },
    {
     "data": {
      "application/vnd.jupyter.widget-view+json": {
       "model_id": "1c7fb77282794a618a1b8175b77811aa",
       "version_major": 2,
       "version_minor": 0
      },
      "text/plain": [
       "model.safetensors:   0%|          | 0.00/268M [00:00<?, ?B/s]"
      ]
     },
     "metadata": {},
     "output_type": "display_data"
    },
    {
     "data": {
      "application/vnd.jupyter.widget-view+json": {
       "model_id": "439d37b4dbec4ee4afc0167555253edb",
       "version_major": 2,
       "version_minor": 0
      },
      "text/plain": [
       "tokenizer_config.json:   0%|          | 0.00/48.0 [00:00<?, ?B/s]"
      ]
     },
     "metadata": {},
     "output_type": "display_data"
    },
    {
     "data": {
      "application/vnd.jupyter.widget-view+json": {
       "model_id": "4866c0b43a964ac8bf21db1a2c76852a",
       "version_major": 2,
       "version_minor": 0
      },
      "text/plain": [
       "vocab.txt:   0%|          | 0.00/232k [00:00<?, ?B/s]"
      ]
     },
     "metadata": {},
     "output_type": "display_data"
    }
   ],
   "source": [
    "from transformers import pipeline\n",
    "sentiment = pipeline('sentiment-analysis')"
   ]
  },
  {
   "cell_type": "code",
   "execution_count": 203,
   "metadata": {
    "colab": {
     "base_uri": "https://localhost:8080/"
    },
    "id": "ZGiwPvGfPIp0",
    "outputId": "0ab26a24-d4e6-4300-e06f-a679d6f02d23"
   },
   "outputs": [
    {
     "name": "stdout",
     "output_type": "stream",
     "text": [
      "So the Woodman went at once to the trees and began to work; and he soon made a truck out of the limbs of trees, from which he chopped away all the leaves and branches.\n",
      "[{'label': 'NEGATIVE', 'score': 0.9977670907974243}]\n"
     ]
    }
   ],
   "source": [
    "sentence = train_dataset[0]['sentence']\n",
    "print(sentence)\n",
    "print(sentiment(sentence))"
   ]
  },
  {
   "cell_type": "code",
   "execution_count": 204,
   "metadata": {
    "colab": {
     "base_uri": "https://localhost:8080/"
    },
    "id": "x456QWjEPIp0",
    "outputId": "33730915-95a4-421d-eb76-3e35240d6752"
   },
   "outputs": [
    {
     "data": {
      "text/plain": [
       "{'impl': transformers.pipelines.text_classification.TextClassificationPipeline,\n",
       " 'tf': (transformers.models.auto.modeling_tf_auto.TFAutoModelForSequenceClassification,),\n",
       " 'pt': (transformers.models.auto.modeling_auto.AutoModelForSequenceClassification,),\n",
       " 'default': {'model': {'pt': ('distilbert/distilbert-base-uncased-finetuned-sst-2-english',\n",
       "    'af0f99b'),\n",
       "   'tf': ('distilbert/distilbert-base-uncased-finetuned-sst-2-english',\n",
       "    'af0f99b')}},\n",
       " 'type': 'text'}"
      ]
     },
     "execution_count": 204,
     "metadata": {},
     "output_type": "execute_result"
    }
   ],
   "source": [
    "from transformers.pipelines import SUPPORTED_TASKS\n",
    "# UPDATED\n",
    "###########################################################\n",
    "# sentiment-analysis was replaced by text-classification\n",
    "# in the dictionary of supported tasks\n",
    "# SUPPORTED_TASKS['sentiment-analysis']\n",
    "SUPPORTED_TASKS['text-classification']\n",
    "###########################################################"
   ]
  },
  {
   "cell_type": "code",
   "execution_count": 205,
   "metadata": {
    "colab": {
     "base_uri": "https://localhost:8080/"
    },
    "id": "Xk3TWVXxPIp0",
    "outputId": "82f93a4b-b557-4c2e-9337-20a774ea0c71"
   },
   "outputs": [
    {
     "data": {
      "text/plain": [
       "{'impl': transformers.pipelines.text_generation.TextGenerationPipeline,\n",
       " 'tf': (transformers.models.auto.modeling_tf_auto.TFAutoModelForCausalLM,),\n",
       " 'pt': (transformers.models.auto.modeling_auto.AutoModelForCausalLM,),\n",
       " 'default': {'model': {'pt': ('openai-community/gpt2', '6c0e608'),\n",
       "   'tf': ('openai-community/gpt2', '6c0e608')}},\n",
       " 'type': 'text'}"
      ]
     },
     "execution_count": 205,
     "metadata": {},
     "output_type": "execute_result"
    }
   ],
   "source": [
    "SUPPORTED_TASKS['text-generation']"
   ]
  },
  {
   "cell_type": "markdown",
   "metadata": {
    "id": "qpfW8LWvPIp0"
   },
   "source": [
    "# GPT-2"
   ]
  },
  {
   "cell_type": "code",
   "execution_count": 207,
   "metadata": {
    "colab": {
     "base_uri": "https://localhost:8080/",
     "height": 241,
     "referenced_widgets": [
      "0371f51c7d5d45b381014ff58b297ab1",
      "3e852e6825214df7bcda82aa091b55d1",
      "3b2ed30f07e844388dae47f81d9ea65b",
      "7fd547caf234435cb7952b211a538376",
      "3f3fadc89d2d4144a814b69d511a5dd7",
      "421997ecbc63432bbf12a049630dabab",
      "08ef888fa03449dfbfed2c38b82b7008",
      "960de534753949ada3cc727372f0db1d",
      "9e6171a639f544ceb56c091c57d9e619",
      "7742499693bb46a1888069358f2412a6",
      "5f9ee570b4034cfab50d5ce66f0f353f",
      "f4574e12d5db48ca862bfb2811fad258",
      "12afd487ae7343f7b8a65aaa60bd00c7",
      "d4ce47e5a2d34f4488171fd928918db3",
      "244018be291643fe9e929eaf3e531098",
      "f6e0e64e2c234c559c8160f06b28b618",
      "a7c1ffd3bfae4ac29997b77f805d6684",
      "42dcbe8766f74de69749e3e0600e3829",
      "4086656b8cc54030b47a881760d396e4",
      "b43bdb8595674ff9b9cd369c2edeea9f",
      "280a539281a34d13878b1d678e40a160",
      "89325c9398474f9c92f16c63156d3038",
      "979d607a3eee4671b0b93c5189bef09c",
      "e87270efd2594bbeb71d68f9f3f796f2",
      "e4f5bea0b35742499724bcfe092bbaba",
      "f0fefe6687614c32a11f90d91134f0e3",
      "8630987be068488bbca15d661a8ba777",
      "b036589813fb4676b956e89e846d4362",
      "687ec11348cd4044896fb407e3359a04",
      "c11c4c4acddf4a3cb62fcd72b50860d4",
      "3c290ca9b843494ea748504e4dd17655",
      "da814b1528be4926975893b54fd72849",
      "ce749881b13f4db38ccbc2d8a3fb09cd",
      "f9971e233de04afb9a9d4e6e2591d729",
      "925c24b98bec4b1ab62f4e2f3c5fc816",
      "ad3da69addc44dcd910c982aabd94fb5",
      "0bdfa1d6d98d42069dfd65dba4889c8e",
      "c61dc8ce463444d1909d23cd6071b355",
      "4665f471fa0e478882233b165c010b68",
      "53f0c26cedd14257988c3ea6cfb88cd0",
      "6d730e29f1794da08e4757a0bda3e67f",
      "622af824740148f8a404ce3cf428db53",
      "666266a80a094b599299c3dffd219c36",
      "29a292bd94c4456d8fd0eeb4973c0670",
      "9f3d7cd9902149938997025d735d83ab",
      "37f56d81b5664fbe933e6c31826a37e4",
      "2f488a3c842045d5ac7cc843f482427e",
      "b3e45aff192641afa35642453884a8e1",
      "a726e761ed344feb90b0058cf65498e7",
      "f12b26bf7ecb4040b23d9d8c2fff7a6e",
      "deb8982bab804d5c9fa3ba7627fad8d2",
      "b3735b82dae8447faaca2f82af9d39c6",
      "f244396283914d16baacaf5d6f76abac",
      "da491b6e5fde4debbfb30f5433848a60",
      "0d750e71cfd04203bc6245d72e62cdc5",
      "b53346bd908147038ebfb4b164580c10",
      "035cec73334d405d860369ff47340d4d",
      "c55f4a29cd6b46e285f2b3b26e34ff17",
      "5923d06569814e5ba74e490eaf5c3c37",
      "804f844063e24173baf5e34af9cad49c",
      "8bd98770a54b40eba0468d1c7682c308",
      "27a4e299f86a47f6a77cb2fde6fd9607",
      "d5cc7296b9714a448e44384bf8f62bf3",
      "0392f7a3461842f3bc9ef9be05242229",
      "dbcdf8b2ea64486a8fb9b93aa29c546a",
      "5ecabaa3f4904b52b9bfc6933ac4cd90",
      "d847ba4af98546978dafacf9e9b0fc95",
      "99b052cccf804bc3bbecb3d2a7b8eebb",
      "bd1e564382c4439c82645445d421ecbf",
      "6f6b8a2799d9496a820168a6a33a62d5",
      "7e32b26c293e45b18eaa2e0c96ab145c",
      "fcdff5e01eb7414c9325064a9be4f92a",
      "ad5a96afd3bd478e9bb9e412d2770c9e",
      "8d9d4561ad3b4a6f865dadcfda4ac72a",
      "8f34f724a32e486da536cf0e55f3173c",
      "a338d6cd66b144819521d0ab553719f1",
      "9911f6d5447a410b9bf7a0e3dc966b13"
     ]
    },
    "id": "0Gs2m5QtPIp0",
    "outputId": "6f757279-0659-4586-ff57-6d18dc7156ac"
   },
   "outputs": [
    {
     "data": {
      "application/vnd.jupyter.widget-view+json": {
       "model_id": "0371f51c7d5d45b381014ff58b297ab1",
       "version_major": 2,
       "version_minor": 0
      },
      "text/plain": [
       "config.json:   0%|          | 0.00/665 [00:00<?, ?B/s]"
      ]
     },
     "metadata": {},
     "output_type": "display_data"
    },
    {
     "data": {
      "application/vnd.jupyter.widget-view+json": {
       "model_id": "f4574e12d5db48ca862bfb2811fad258",
       "version_major": 2,
       "version_minor": 0
      },
      "text/plain": [
       "model.safetensors:   0%|          | 0.00/548M [00:00<?, ?B/s]"
      ]
     },
     "metadata": {},
     "output_type": "display_data"
    },
    {
     "data": {
      "application/vnd.jupyter.widget-view+json": {
       "model_id": "979d607a3eee4671b0b93c5189bef09c",
       "version_major": 2,
       "version_minor": 0
      },
      "text/plain": [
       "generation_config.json:   0%|          | 0.00/124 [00:00<?, ?B/s]"
      ]
     },
     "metadata": {},
     "output_type": "display_data"
    },
    {
     "data": {
      "application/vnd.jupyter.widget-view+json": {
       "model_id": "f9971e233de04afb9a9d4e6e2591d729",
       "version_major": 2,
       "version_minor": 0
      },
      "text/plain": [
       "tokenizer_config.json:   0%|          | 0.00/26.0 [00:00<?, ?B/s]"
      ]
     },
     "metadata": {},
     "output_type": "display_data"
    },
    {
     "data": {
      "application/vnd.jupyter.widget-view+json": {
       "model_id": "9f3d7cd9902149938997025d735d83ab",
       "version_major": 2,
       "version_minor": 0
      },
      "text/plain": [
       "vocab.json:   0%|          | 0.00/1.04M [00:00<?, ?B/s]"
      ]
     },
     "metadata": {},
     "output_type": "display_data"
    },
    {
     "data": {
      "application/vnd.jupyter.widget-view+json": {
       "model_id": "b53346bd908147038ebfb4b164580c10",
       "version_major": 2,
       "version_minor": 0
      },
      "text/plain": [
       "merges.txt:   0%|          | 0.00/456k [00:00<?, ?B/s]"
      ]
     },
     "metadata": {},
     "output_type": "display_data"
    },
    {
     "data": {
      "application/vnd.jupyter.widget-view+json": {
       "model_id": "d847ba4af98546978dafacf9e9b0fc95",
       "version_major": 2,
       "version_minor": 0
      },
      "text/plain": [
       "tokenizer.json:   0%|          | 0.00/1.36M [00:00<?, ?B/s]"
      ]
     },
     "metadata": {},
     "output_type": "display_data"
    }
   ],
   "source": [
    "text_generator = pipeline(\"text-generation\")"
   ]
  },
  {
   "cell_type": "code",
   "execution_count": 208,
   "metadata": {
    "colab": {
     "base_uri": "https://localhost:8080/"
    },
    "id": "sNIhhyloPIp1",
    "outputId": "3a2e584c-5c3a-48ab-edeb-2a8069dde358"
   },
   "outputs": [
    {
     "data": {
      "text/plain": [
       "{'text-generation': {'do_sample': True, 'max_length': 50}}"
      ]
     },
     "execution_count": 208,
     "metadata": {},
     "output_type": "execute_result"
    }
   ],
   "source": [
    "text_generator.model.config.task_specific_params"
   ]
  },
  {
   "cell_type": "code",
   "execution_count": 209,
   "metadata": {
    "id": "JAlA7qvJPIp1"
   },
   "outputs": [],
   "source": [
    "base_text = \"\"\"\n",
    "Alice was beginning to get very tired of sitting by her sister on the bank, and of having nothing to do:  once or twice she had peeped into the book her sister was reading, but it had no pictures or conversations in it, `and what is the use of a book,'thought Alice `without pictures or conversation?' So she was considering in her own mind (as well as she could, for the hot day made her feel very sleepy and stupid), whether the pleasure of making a daisy-chain would be worth the trouble of getting up and picking the daisies, when suddenly a White Rabbit with pink eyes ran close by her.\n",
    "\"\"\""
   ]
  },
  {
   "cell_type": "code",
   "execution_count": 210,
   "metadata": {
    "colab": {
     "base_uri": "https://localhost:8080/"
    },
    "id": "OGsxW7xVPIp1",
    "outputId": "4343f0c4-b6aa-4a7a-8a46-f0eb28a91439"
   },
   "outputs": [
    {
     "name": "stdout",
     "output_type": "stream",
     "text": [
      "\n",
      "Alice was beginning to get very tired of sitting by her sister on the bank, and of having nothing to do:  once or twice she had peeped into the book her sister was reading, but it had no pictures or conversations in it, `and what is the use of a book,'thought Alice `without pictures or conversation?' So she was considering in her own mind (as well as she could, for the hot day made her feel very sleepy and stupid), whether the pleasure of making a daisy-chain would be worth the trouble of getting up and picking the daisies, when suddenly a White Rabbit with pink eyes ran close by her.\n",
      "\n",
      "'What did you say?'\n",
      "\n",
      "No way. She was beginning to wonder: 'Well, what happened?'\n",
      "\n",
      "'Well this isn't your fault. The White Rabbit was about to run past that thing over there. And, since it's too long, he was only standing there to stare.'\n",
      "\n",
      "'That's your fault,' said Alice `Well, we must remember we've got an old boy to check the house. We'll know what happens if he runs over our bed and we find the room. What do you think?'\n"
     ]
    }
   ],
   "source": [
    "result = text_generator(base_text, max_length=250)\n",
    "print(result[0]['generated_text'])"
   ]
  },
  {
   "cell_type": "markdown",
   "metadata": {
    "id": "Kb1uve8LPIp1"
   },
   "source": [
    "# Putting It All Together"
   ]
  },
  {
   "cell_type": "markdown",
   "metadata": {
    "id": "BBjmamx_PIp1"
   },
   "source": [
    "## Data Preparation"
   ]
  },
  {
   "cell_type": "code",
   "execution_count": 211,
   "metadata": {
    "colab": {
     "base_uri": "https://localhost:8080/",
     "height": 49,
     "referenced_widgets": [
      "f2a9bf4b0fec4fb6a0942174e2198046",
      "ec120f1e3ebd44f1bc98d8fd7bfecc14",
      "9ba88a2e42b54a59a6aa9907e5c57fa0",
      "3b0e267772fa48fa87c6cc767885a590",
      "3e08a44cdaee4ec18a767c85d61e89cb",
      "86b098ea173a4419a9fe67d9c165b95b",
      "02c2e1530b63441e9954920f3c27a606",
      "8a2d5a4ee0fd473b8137b518bfc3d68b",
      "67d215dd5e024d0d922c6ea2a8a1b36f",
      "a647eaa49402408b8b10d8efb4c19bfd",
      "4e505ed8ff2d4b62b139dbc7631f83bd"
     ]
    },
    "id": "rKf7qtJkPIp1",
    "outputId": "18ea1b4f-d4b8-493a-895a-625a8b8bb4ff"
   },
   "outputs": [
    {
     "data": {
      "application/vnd.jupyter.widget-view+json": {
       "model_id": "f2a9bf4b0fec4fb6a0942174e2198046",
       "version_major": 2,
       "version_minor": 0
      },
      "text/plain": [
       "Generating train split: 0 examples [00:00, ? examples/s]"
      ]
     },
     "metadata": {},
     "output_type": "display_data"
    }
   ],
   "source": [
    "dataset = load_dataset(path='csv', data_files=['texts/alice28-1476.sent.csv'], quotechar='\\\\', split=Split.TRAIN)"
   ]
  },
  {
   "cell_type": "code",
   "execution_count": 212,
   "metadata": {
    "id": "sRxp47A-PIp2"
   },
   "outputs": [],
   "source": [
    "shuffled_dataset = dataset.shuffle(seed=42)\n",
    "split_dataset = shuffled_dataset.train_test_split(test_size=0.2, seed=42)\n",
    "train_dataset, test_dataset = split_dataset['train'], split_dataset['test']"
   ]
  },
  {
   "cell_type": "code",
   "execution_count": 213,
   "metadata": {
    "colab": {
     "base_uri": "https://localhost:8080/",
     "height": 177,
     "referenced_widgets": [
      "20f3a0f123d34cc28b5b4b69a350ea8d",
      "ff804399b8e64b4ea6795b5df7ac99ea",
      "88445353976648f583ff1ec689f04d09",
      "690943997d60421d8b948a0e0bf1e957",
      "61d08e8218eb4c37a97a27ba42333517",
      "1dff6d902ca749d29775a39b53e98e03",
      "f21888da6c744c68994334969d6656cb",
      "7b53e5a3ecba425194221dab9273f08f",
      "b6c7ff63249546808799c3b45711ede5",
      "ca388e55eafd41a483980574fb090a22",
      "b816a4edc3bd41e0868a82e1d007e067",
      "5dec607d9f0847c3be255d78656ef52b",
      "fae5f821c5604402af8f68f46ed4f2ca",
      "5929f3be61e64cd3b03db83c6315f113",
      "a8d497b06b8648fe8c06905fe9ebc973",
      "a575be776efd4fa2be2bb978262efcfa",
      "739a81b3b3d44ac9b906227cad969bbc",
      "d3a7c090b74f43c7bc2b6008ec0f44ae",
      "09e572cc5fa34a3dbfa76f898c90edab",
      "c4381a91790446799969ce55f8a7250c",
      "7c460ab96eed403cadba9519916c112b",
      "ba8a10a3495d4a5b87e65562d115f7c5",
      "5bf02116b4ae46389f0d60bf7f7b8816",
      "77c90f063ce747aa9db15f2ae48d839d",
      "9533899297ed48d1aa92583084412d9a",
      "6b9430e328e246978f9162e256060cec",
      "7e3f568ed5f5440e93379c6d5eb85a4b",
      "cfbaf259829247f49994bf1e605b3e03",
      "60e6df2744cf40afaee1cbe071eae01e",
      "85b192763f8a4480a3d4ae4e0957b685",
      "a186cd0d62634611941bbe875d707ab3",
      "29d95cc429b74415b08672657ab320c7",
      "86875d1a86354e4787e872c98083210d",
      "196b861291ea451cbae8640523878913",
      "47cfdf980592498b893f8c3d2fbf0e03",
      "db17d88724f845568a4396b9a5ce508a",
      "adaaaa75b6f047239329f6a74b7c2f77",
      "784f4fb1e01241adab3acfcbf341a0ec",
      "8cf83ceaa38044578713806efb84870a",
      "311e3440f7a74343af959514ab41f35c",
      "eb8c530d239d4a4bb39f0296e67dc76d",
      "510e63d365c547b1adaff42d00490401",
      "3133811b808e4fdfbcdaf81abb3a994e",
      "0775a4d8fe1d4cd3b34486bf28d5f755",
      "107b8dc81c084768b72361170b3b448a",
      "e4db92d02bbd416daed51e431353de58",
      "9ad0006be39642f69cd73ee3bd5161d2",
      "99118a9b59864352ad3870d12b233d80",
      "db1d3dc2171b4910a5e07ba1e7d5f734",
      "be8fcd3bd159483081ab057dcc861aa2",
      "397a0d9b88b2483ab2736037772e97e8",
      "4e10af0f5cec42fb8cb3247af6430909",
      "4edd5b00fbdb41ca8347c9884506837b",
      "fbdf116a3aec45499f53c40a76b95741",
      "af134db80bf741949c6c7248d921e874"
     ]
    },
    "id": "gVF5IzXsPIp2",
    "outputId": "3255dc85-d5ae-4244-c501-8ab57bd39068"
   },
   "outputs": [
    {
     "data": {
      "application/vnd.jupyter.widget-view+json": {
       "model_id": "20f3a0f123d34cc28b5b4b69a350ea8d",
       "version_major": 2,
       "version_minor": 0
      },
      "text/plain": [
       "tokenizer_config.json:   0%|          | 0.00/26.0 [00:00<?, ?B/s]"
      ]
     },
     "metadata": {},
     "output_type": "display_data"
    },
    {
     "data": {
      "application/vnd.jupyter.widget-view+json": {
       "model_id": "5dec607d9f0847c3be255d78656ef52b",
       "version_major": 2,
       "version_minor": 0
      },
      "text/plain": [
       "config.json:   0%|          | 0.00/665 [00:00<?, ?B/s]"
      ]
     },
     "metadata": {},
     "output_type": "display_data"
    },
    {
     "data": {
      "application/vnd.jupyter.widget-view+json": {
       "model_id": "5bf02116b4ae46389f0d60bf7f7b8816",
       "version_major": 2,
       "version_minor": 0
      },
      "text/plain": [
       "vocab.json:   0%|          | 0.00/1.04M [00:00<?, ?B/s]"
      ]
     },
     "metadata": {},
     "output_type": "display_data"
    },
    {
     "data": {
      "application/vnd.jupyter.widget-view+json": {
       "model_id": "196b861291ea451cbae8640523878913",
       "version_major": 2,
       "version_minor": 0
      },
      "text/plain": [
       "merges.txt:   0%|          | 0.00/456k [00:00<?, ?B/s]"
      ]
     },
     "metadata": {},
     "output_type": "display_data"
    },
    {
     "data": {
      "application/vnd.jupyter.widget-view+json": {
       "model_id": "107b8dc81c084768b72361170b3b448a",
       "version_major": 2,
       "version_minor": 0
      },
      "text/plain": [
       "tokenizer.json:   0%|          | 0.00/1.36M [00:00<?, ?B/s]"
      ]
     },
     "metadata": {},
     "output_type": "display_data"
    }
   ],
   "source": [
    "auto_tokenizer = AutoTokenizer.from_pretrained('gpt2')\n",
    "def tokenize(row):\n",
    "    return auto_tokenizer(row['sentence'])"
   ]
  },
  {
   "cell_type": "code",
   "execution_count": 214,
   "metadata": {
    "colab": {
     "base_uri": "https://localhost:8080/",
     "height": 81,
     "referenced_widgets": [
      "6d2a23d441284fc58af4502bd9c213f5",
      "4d8e31a1dc0c4787891c15c6036ffab1",
      "e1b5654d0d294ef9a0ac65bad7e41ad6",
      "da6b104c271d4ea387af13b328e40fb6",
      "2daec0b4c2c941d2a2be950111102b2d",
      "5e020a3384894ce9adffb1198a2eb181",
      "5797df4963724a82821caf8d0b662274",
      "8b1d3a21ee4b4808847ea2a82a18ac61",
      "57c90e7dadbe4879a2baaf4f22722f37",
      "8df7d56b3bb745caa64370e4c60e4205",
      "5bf3f7314dc74045aaa4cc1c4cd7bc7d",
      "855ca149e747497f8a126585fe6abda7",
      "a5fe3f2998b44c4981f31f6c3070d7df",
      "78f879c46a7f4a18ae2de70654121f0f",
      "3871c4f951d94bd1a86dc61312e3b6d0",
      "f99199d9122f49a0a36611c7e2e76419",
      "a747ee6a682d4888a16451b2fe57967d",
      "b47d7ef257c449f1b0e8756446997d89",
      "01d0e06565c841cf8462f6d041873ad8",
      "bf35bcd4037b4cfaa8554c210951ad29",
      "df66efedce50453f83d29acdd5f8b10e",
      "441949f9bf114b879fb153334abb910b"
     ]
    },
    "id": "YUBOlXsqPIp2",
    "outputId": "db778bc2-4c38-4284-bca1-841c58e2d061"
   },
   "outputs": [
    {
     "data": {
      "application/vnd.jupyter.widget-view+json": {
       "model_id": "6d2a23d441284fc58af4502bd9c213f5",
       "version_major": 2,
       "version_minor": 0
      },
      "text/plain": [
       "Map:   0%|          | 0/1289 [00:00<?, ? examples/s]"
      ]
     },
     "metadata": {},
     "output_type": "display_data"
    },
    {
     "data": {
      "application/vnd.jupyter.widget-view+json": {
       "model_id": "855ca149e747497f8a126585fe6abda7",
       "version_major": 2,
       "version_minor": 0
      },
      "text/plain": [
       "Map:   0%|          | 0/323 [00:00<?, ? examples/s]"
      ]
     },
     "metadata": {},
     "output_type": "display_data"
    }
   ],
   "source": [
    "tokenized_train_dataset = train_dataset.map(tokenize, remove_columns=['source', 'sentence'], batched=True)\n",
    "tokenized_test_dataset = test_dataset.map(tokenize, remove_columns=['source', 'sentence'], batched=True)"
   ]
  },
  {
   "cell_type": "code",
   "execution_count": 215,
   "metadata": {
    "colab": {
     "base_uri": "https://localhost:8080/"
    },
    "id": "m-4cJ4pAPIp2",
    "outputId": "111a91b4-7ec1-4b29-82bb-821063020c7b"
   },
   "outputs": [
    {
     "data": {
      "text/plain": [
       "[9, 28, 20, 9, 34, 29]"
      ]
     },
     "execution_count": 215,
     "metadata": {},
     "output_type": "execute_result"
    }
   ],
   "source": [
    "list(map(len, tokenized_train_dataset[0:6]['input_ids']))"
   ]
  },
  {
   "cell_type": "markdown",
   "metadata": {
    "id": "VKWqqWJ3PIp2"
   },
   "source": [
    "### \"Packed\" Dataset"
   ]
  },
  {
   "cell_type": "markdown",
   "metadata": {
    "id": "U7aJwvXsPIp3"
   },
   "source": [
    "![](https://github.com/dvgodoy/PyTorchStepByStep/blob/master/images/block_tokens.png?raw=1)"
   ]
  },
  {
   "cell_type": "code",
   "execution_count": 216,
   "metadata": {
    "id": "7lAMC3OtPIp3"
   },
   "outputs": [],
   "source": [
    "# Adapted from https://github.com/huggingface/transformers/blob/master/examples/pytorch/language-modeling/run_clm.py\n",
    "def group_texts(examples, block_size=128):\n",
    "    # Concatenate all texts.\n",
    "    concatenated_examples = {k: sum(examples[k], []) for k in examples.keys()}\n",
    "    total_length = len(concatenated_examples[list(examples.keys())[0]])\n",
    "    # We drop the small remainder, we could add padding if the model supported it instead of this drop, you can\n",
    "    # customize this part to your needs.\n",
    "    total_length = (total_length // block_size) * block_size\n",
    "    # Split by chunks of max_len.\n",
    "    result = {\n",
    "        k: [t[i : i + block_size] for i in range(0, total_length, block_size)]\n",
    "        for k, t in concatenated_examples.items()\n",
    "    }\n",
    "    result[\"labels\"] = result[\"input_ids\"].copy()\n",
    "    return result"
   ]
  },
  {
   "cell_type": "code",
   "execution_count": 217,
   "metadata": {
    "colab": {
     "base_uri": "https://localhost:8080/",
     "height": 81,
     "referenced_widgets": [
      "9ec4bf7395dc42ea8022959062f6f333",
      "bfdf1f0d388942beb50bcd7242bdb3df",
      "34ea08329bce40839467041d8d675b0b",
      "9ef31f7bcb7342108ac855ceb0d76b49",
      "f2c83ee98d4d44389e9354b89a914cd1",
      "d2a05abfd84e402d811f9a976d724478",
      "03ffc521b0874dc6aeb0beb2cefae358",
      "937d3dea8a2547f38287f8c61c8a3b8e",
      "5e9280d23a81451da9d5898d9f5684b6",
      "ea6dca3ac29d409daa542899e8b7a3e1",
      "8bfbfd341cc54418aaa9ca300aa6f54a",
      "33268ee44c654b9e9154dae67b432ddc",
      "e9fe5354ad2749b6a3bb9d301a883f29",
      "f145daed41fc44b3a65c58b81470c919",
      "6c8aa9cbdfa64cba90c1c3ee782cf348",
      "152381e5fe68427393a8a334a98e14a5",
      "60784bb139dd474b86f3bd48c1a3103f",
      "0e366bd39b2e4bb78bf145447a329555",
      "eb0b856aedb744b9831994bdd921d705",
      "65a0252124e24f13a7db5e4c1bf29fc2",
      "cdf02697fb654a65bcdf5886f102b4da",
      "81304ddd745d4ed5be9b97220aa86095"
     ]
    },
    "id": "TirMA67-PIp3",
    "outputId": "a5e22cc0-3bfe-473c-9ebb-a781d3c5b466"
   },
   "outputs": [
    {
     "data": {
      "application/vnd.jupyter.widget-view+json": {
       "model_id": "9ec4bf7395dc42ea8022959062f6f333",
       "version_major": 2,
       "version_minor": 0
      },
      "text/plain": [
       "Map:   0%|          | 0/1289 [00:00<?, ? examples/s]"
      ]
     },
     "metadata": {},
     "output_type": "display_data"
    },
    {
     "data": {
      "application/vnd.jupyter.widget-view+json": {
       "model_id": "33268ee44c654b9e9154dae67b432ddc",
       "version_major": 2,
       "version_minor": 0
      },
      "text/plain": [
       "Map:   0%|          | 0/323 [00:00<?, ? examples/s]"
      ]
     },
     "metadata": {},
     "output_type": "display_data"
    }
   ],
   "source": [
    "lm_train_dataset = tokenized_train_dataset.map(group_texts, batched=True)\n",
    "lm_test_dataset = tokenized_test_dataset.map(group_texts, batched=True)\n",
    "lm_train_dataset.set_format(type='torch')\n",
    "lm_test_dataset.set_format(type='torch')"
   ]
  },
  {
   "cell_type": "code",
   "execution_count": 218,
   "metadata": {
    "colab": {
     "base_uri": "https://localhost:8080/"
    },
    "id": "lwOa4nluPIp3",
    "outputId": "ceffc745-51d8-4b97-9724-15ba02a3c4b6"
   },
   "outputs": [
    {
     "name": "stdout",
     "output_type": "stream",
     "text": [
      "tensor([   63,  2437,   466,   345,   760,   314,  1101,  8805,  8348,   464,\n",
      "         2677,  3114,  7296,  6819,   379,   262,  2635, 25498,    11,   508,\n",
      "          531,   287,   257,  1877,  3809,    11,  4600,  7120, 25788,  1276,\n",
      "         3272,    12,  1069,  9862, 12680,  4973,  2637,  1537,   611,   314,\n",
      "         1101,   407,   262,   976,    11,   262,  1306,  1808,   318,    11,\n",
      "         5338,   287,   262,   995,   716,   314,    30,   464,   360,   579,\n",
      "         1076,  6364,  4721,   465,  2951,    13,    63,  1026,   373,   881,\n",
      "        21289,   272,   353,   379,  1363,  4032,  1807,  3595, 14862,    11,\n",
      "         4600, 12518,   530,  2492,   470,  1464,  3957,  4025,   290,  4833,\n",
      "           11,   290,   852,  6149,   546,   416, 10693,   290, 33043,    13,\n",
      "         1870, 14862,   373,   523,   881, 24776,   326,   673,  4966,   572,\n",
      "          379,  1752,   287,   262,  4571,   340,  6235,   284,    11,  1231,\n",
      "         2111,   284,  4727,   262,  7457,   340,   550,   925])\n"
     ]
    }
   ],
   "source": [
    "print(lm_train_dataset[0]['input_ids'])"
   ]
  },
  {
   "cell_type": "code",
   "execution_count": 219,
   "metadata": {
    "colab": {
     "base_uri": "https://localhost:8080/"
    },
    "id": "hkJM5tc3PIp3",
    "outputId": "54dafc25-945c-4fe6-f425-354b24b10e27"
   },
   "outputs": [
    {
     "data": {
      "text/plain": [
       "(239, 56)"
      ]
     },
     "execution_count": 219,
     "metadata": {},
     "output_type": "execute_result"
    }
   ],
   "source": [
    "len(lm_train_dataset), len(lm_test_dataset)"
   ]
  },
  {
   "cell_type": "markdown",
   "metadata": {
    "id": "MgLxoOb-PIp3"
   },
   "source": [
    "## Model Configuration & Training"
   ]
  },
  {
   "cell_type": "code",
   "execution_count": 220,
   "metadata": {
    "colab": {
     "base_uri": "https://localhost:8080/",
     "height": 99,
     "referenced_widgets": [
      "47989a32d3e54ede913cad2e881407ba",
      "7273d05e25dd4af98ca58416bc2d1cb5",
      "271083e34adf45bb8aab6b1e85193706",
      "e5786c3017bf4a639a11f54f3aa7d9ce",
      "51e8a4fe908c4a5b8895469ecfbe631b",
      "b2414b78400c4a4c8a87cbbed9668d13",
      "3560a5a7dea44f0fb8b56a5f83fd5597",
      "e5109813dc714864851c06b46db9cae9",
      "8234a4f00aef440c8ebd2069ff421853",
      "cd47ce9df8cf4d4aae89672fc0602b71",
      "d0786942e0df48e78edc03829aa53a0c",
      "4a7dc41aa2824f918493115bda24498b",
      "387e47830d614fe8ba6758c7485a820c",
      "85773884b394433b8f47703742a0413a",
      "83f97c79b32d40f18c79d29974790dcf",
      "340765c79f7b4b1fa7dc51f0db682e9c",
      "8d567116324241c88d40d887ba44bbd1",
      "edfecdad72b345c2ab68a674e3aee9ff",
      "55dff7016e7a437ab8a732518f65ca4c",
      "4de0dcc6dfdb436abf0769cb0b2cf6e2",
      "b00cda330cfb40a9a35127f2cadf72d4",
      "10a85b00fe6740bc8611137ac5bfc137"
     ]
    },
    "id": "q9NLtw1APIp4",
    "outputId": "db7945f3-1553-4328-c58f-31db9f689a6a"
   },
   "outputs": [
    {
     "data": {
      "application/vnd.jupyter.widget-view+json": {
       "model_id": "47989a32d3e54ede913cad2e881407ba",
       "version_major": 2,
       "version_minor": 0
      },
      "text/plain": [
       "model.safetensors:   0%|          | 0.00/548M [00:00<?, ?B/s]"
      ]
     },
     "metadata": {},
     "output_type": "display_data"
    },
    {
     "data": {
      "application/vnd.jupyter.widget-view+json": {
       "model_id": "4a7dc41aa2824f918493115bda24498b",
       "version_major": 2,
       "version_minor": 0
      },
      "text/plain": [
       "generation_config.json:   0%|          | 0.00/124 [00:00<?, ?B/s]"
      ]
     },
     "metadata": {},
     "output_type": "display_data"
    },
    {
     "name": "stdout",
     "output_type": "stream",
     "text": [
      "<class 'transformers.models.gpt2.modeling_gpt2.GPT2LMHeadModel'>\n"
     ]
    }
   ],
   "source": [
    "from transformers import AutoModelForCausalLM\n",
    "model = AutoModelForCausalLM.from_pretrained('gpt2')\n",
    "print(model.__class__)"
   ]
  },
  {
   "cell_type": "code",
   "execution_count": 221,
   "metadata": {
    "colab": {
     "base_uri": "https://localhost:8080/"
    },
    "id": "4fI5PE_nPIp4",
    "outputId": "a1fbb612-fa24-4524-8c2c-8c45dce661b2"
   },
   "outputs": [
    {
     "data": {
      "text/plain": [
       "Embedding(50257, 768)"
      ]
     },
     "execution_count": 221,
     "metadata": {},
     "output_type": "execute_result"
    }
   ],
   "source": [
    "model.resize_token_embeddings(len(auto_tokenizer))"
   ]
  },
  {
   "cell_type": "code",
   "execution_count": 222,
   "metadata": {
    "id": "Ta_7BbrVPIp4"
   },
   "outputs": [],
   "source": [
    "training_args = TrainingArguments(\n",
    "    output_dir='output',\n",
    "    num_train_epochs=1,\n",
    "    per_device_train_batch_size=1,\n",
    "    per_device_eval_batch_size=8,\n",
    "    evaluation_strategy='steps',\n",
    "    eval_steps=50,\n",
    "    logging_steps=50,\n",
    "    gradient_accumulation_steps=4,\n",
    "    prediction_loss_only=True,\n",
    ")\n",
    "\n",
    "trainer = Trainer(model=model,\n",
    "                  args=training_args,\n",
    "                  train_dataset=lm_train_dataset,\n",
    "                  eval_dataset=lm_test_dataset)"
   ]
  },
  {
   "cell_type": "code",
   "execution_count": 223,
   "metadata": {
    "colab": {
     "base_uri": "https://localhost:8080/"
    },
    "id": "3WQN-YhePIp4",
    "outputId": "856f062a-073d-4ada-ca21-f6c7fca4d091"
   },
   "outputs": [
    {
     "name": "stdout",
     "output_type": "stream",
     "text": [
      "{'loss': 3.567, 'grad_norm': 11.076814651489258, 'learning_rate': 7.627118644067798e-06, 'epoch': 0.84}\n",
      "{'eval_loss': 3.336221933364868, 'eval_runtime': 0.5964, 'eval_samples_per_second': 93.899, 'eval_steps_per_second': 11.737, 'epoch': 0.84}\n",
      "{'train_runtime': 14.5125, 'train_samples_per_second': 16.469, 'train_steps_per_second': 4.065, 'train_loss': 3.5485167745816506, 'epoch': 0.99}\n"
     ]
    },
    {
     "data": {
      "text/plain": [
       "TrainOutput(global_step=59, training_loss=3.5485167745816506, metrics={'train_runtime': 14.5125, 'train_samples_per_second': 16.469, 'train_steps_per_second': 4.065, 'train_loss': 3.5485167745816506, 'epoch': 0.99})"
      ]
     },
     "execution_count": 223,
     "metadata": {},
     "output_type": "execute_result"
    }
   ],
   "source": [
    "trainer.train()"
   ]
  },
  {
   "cell_type": "code",
   "execution_count": 224,
   "metadata": {
    "colab": {
     "base_uri": "https://localhost:8080/"
    },
    "id": "_ru9UY-NPIp5",
    "outputId": "d1acb1c1-74a4-43cb-a08f-4bcad4407226"
   },
   "outputs": [
    {
     "name": "stdout",
     "output_type": "stream",
     "text": [
      "{'eval_loss': 3.329355478286743, 'eval_runtime': 0.5829, 'eval_samples_per_second': 96.075, 'eval_steps_per_second': 12.009, 'epoch': 0.99}\n"
     ]
    },
    {
     "data": {
      "text/plain": [
       "{'eval_loss': 3.329355478286743,\n",
       " 'eval_runtime': 0.5829,\n",
       " 'eval_samples_per_second': 96.075,\n",
       " 'eval_steps_per_second': 12.009,\n",
       " 'epoch': 0.99}"
      ]
     },
     "execution_count": 224,
     "metadata": {},
     "output_type": "execute_result"
    }
   ],
   "source": [
    "trainer.evaluate()"
   ]
  },
  {
   "cell_type": "markdown",
   "metadata": {
    "id": "UYsl0aOiPIp5"
   },
   "source": [
    "## Generating Text"
   ]
  },
  {
   "cell_type": "code",
   "execution_count": 225,
   "metadata": {
    "id": "xhkK5TIFPIp5"
   },
   "outputs": [],
   "source": [
    "device_index = model.device.index if model.device.type != 'cpu' else -1\n",
    "gpt2_gen = pipeline('text-generation', model=model, tokenizer=auto_tokenizer, device=device_index)"
   ]
  },
  {
   "cell_type": "code",
   "execution_count": 226,
   "metadata": {
    "colab": {
     "base_uri": "https://localhost:8080/"
    },
    "id": "PF0RfSp4PIp5",
    "outputId": "68cbacb4-2669-4649-f6d7-f0488ae1dc9e"
   },
   "outputs": [
    {
     "name": "stdout",
     "output_type": "stream",
     "text": [
      "\n",
      "Alice was beginning to get very tired of sitting by her sister on the bank, and of having nothing to do:  once or twice she had peeped into the book her sister was reading, but it had no pictures or conversations in it, `and what is the use of a book,'thought Alice `without pictures or conversation?' So she was considering in her own mind (as well as she could, for the hot day made her feel very sleepy and stupid), whether the pleasure of making a daisy-chain would be worth the trouble of getting up and picking the daisies, when suddenly a White Rabbit with pink eyes ran close by her.\n",
      "                          \n",
      " Alice watched one of the birds on the other side of their nest, where it was the only one in sight.        The other was sitting there, with its little mouth gaping asunder:                                            (\n"
     ]
    }
   ],
   "source": [
    "result = gpt2_gen(base_text, max_length=250)\n",
    "print(result[0]['generated_text'])"
   ]
  },
  {
   "cell_type": "code",
   "execution_count": null,
   "metadata": {
    "id": "DQG_yBYhPIp6"
   },
   "outputs": [],
   "source": []
  }
 ],
 "metadata": {
  "accelerator": "GPU",
  "colab": {
   "gpuType": "T4",
   "provenance": []
  },
  "kernelspec": {
   "display_name": "Python 3",
   "language": "python",
   "name": "python3"
  },
  "language_info": {
   "codemirror_mode": {
    "name": "ipython",
    "version": 3
   },
   "file_extension": ".py",
   "mimetype": "text/x-python",
   "name": "python",
   "nbconvert_exporter": "python",
   "pygments_lexer": "ipython3",
   "version": "3.7.4"
  },
  "widgets": {
   "application/vnd.jupyter.widget-state+json": {
    "002a9501cdfb408a84a8779cf0176b02": {
     "model_module": "@jupyter-widgets/controls",
     "model_module_version": "1.5.0",
     "model_name": "FloatProgressModel",
     "state": {
      "_dom_classes": [],
      "_model_module": "@jupyter-widgets/controls",
      "_model_module_version": "1.5.0",
      "_model_name": "FloatProgressModel",
      "_view_count": null,
      "_view_module": "@jupyter-widgets/controls",
      "_view_module_version": "1.5.0",
      "_view_name": "ProgressView",
      "bar_style": "success",
      "description": "",
      "description_tooltip": null,
      "layout": "IPY_MODEL_4b81c0892898485fafa62fb76028a133",
      "max": 48,
      "min": 0,
      "orientation": "horizontal",
      "style": "IPY_MODEL_6772d51b7bb544eaa1c86e0836e49766",
      "value": 48
     }
    },
    "01d0e06565c841cf8462f6d041873ad8": {
     "model_module": "@jupyter-widgets/base",
     "model_module_version": "1.2.0",
     "model_name": "LayoutModel",
     "state": {
      "_model_module": "@jupyter-widgets/base",
      "_model_module_version": "1.2.0",
      "_model_name": "LayoutModel",
      "_view_count": null,
      "_view_module": "@jupyter-widgets/base",
      "_view_module_version": "1.2.0",
      "_view_name": "LayoutView",
      "align_content": null,
      "align_items": null,
      "align_self": null,
      "border": null,
      "bottom": null,
      "display": null,
      "flex": null,
      "flex_flow": null,
      "grid_area": null,
      "grid_auto_columns": null,
      "grid_auto_flow": null,
      "grid_auto_rows": null,
      "grid_column": null,
      "grid_gap": null,
      "grid_row": null,
      "grid_template_areas": null,
      "grid_template_columns": null,
      "grid_template_rows": null,
      "height": null,
      "justify_content": null,
      "justify_items": null,
      "left": null,
      "margin": null,
      "max_height": null,
      "max_width": null,
      "min_height": null,
      "min_width": null,
      "object_fit": null,
      "object_position": null,
      "order": null,
      "overflow": null,
      "overflow_x": null,
      "overflow_y": null,
      "padding": null,
      "right": null,
      "top": null,
      "visibility": null,
      "width": null
     }
    },
    "01ddfefb7f3e4a3589efab6d307a1bf0": {
     "model_module": "@jupyter-widgets/controls",
     "model_module_version": "1.5.0",
     "model_name": "DescriptionStyleModel",
     "state": {
      "_model_module": "@jupyter-widgets/controls",
      "_model_module_version": "1.5.0",
      "_model_name": "DescriptionStyleModel",
      "_view_count": null,
      "_view_module": "@jupyter-widgets/base",
      "_view_module_version": "1.2.0",
      "_view_name": "StyleView",
      "description_width": ""
     }
    },
    "02c2e1530b63441e9954920f3c27a606": {
     "model_module": "@jupyter-widgets/controls",
     "model_module_version": "1.5.0",
     "model_name": "DescriptionStyleModel",
     "state": {
      "_model_module": "@jupyter-widgets/controls",
      "_model_module_version": "1.5.0",
      "_model_name": "DescriptionStyleModel",
      "_view_count": null,
      "_view_module": "@jupyter-widgets/base",
      "_view_module_version": "1.2.0",
      "_view_name": "StyleView",
      "description_width": ""
     }
    },
    "035cec73334d405d860369ff47340d4d": {
     "model_module": "@jupyter-widgets/controls",
     "model_module_version": "1.5.0",
     "model_name": "HTMLModel",
     "state": {
      "_dom_classes": [],
      "_model_module": "@jupyter-widgets/controls",
      "_model_module_version": "1.5.0",
      "_model_name": "HTMLModel",
      "_view_count": null,
      "_view_module": "@jupyter-widgets/controls",
      "_view_module_version": "1.5.0",
      "_view_name": "HTMLView",
      "description": "",
      "description_tooltip": null,
      "layout": "IPY_MODEL_8bd98770a54b40eba0468d1c7682c308",
      "placeholder": "​",
      "style": "IPY_MODEL_27a4e299f86a47f6a77cb2fde6fd9607",
      "value": "merges.txt: 100%"
     }
    },
    "0371f51c7d5d45b381014ff58b297ab1": {
     "model_module": "@jupyter-widgets/controls",
     "model_module_version": "1.5.0",
     "model_name": "HBoxModel",
     "state": {
      "_dom_classes": [],
      "_model_module": "@jupyter-widgets/controls",
      "_model_module_version": "1.5.0",
      "_model_name": "HBoxModel",
      "_view_count": null,
      "_view_module": "@jupyter-widgets/controls",
      "_view_module_version": "1.5.0",
      "_view_name": "HBoxView",
      "box_style": "",
      "children": [
       "IPY_MODEL_3e852e6825214df7bcda82aa091b55d1",
       "IPY_MODEL_3b2ed30f07e844388dae47f81d9ea65b",
       "IPY_MODEL_7fd547caf234435cb7952b211a538376"
      ],
      "layout": "IPY_MODEL_3f3fadc89d2d4144a814b69d511a5dd7"
     }
    },
    "0392f7a3461842f3bc9ef9be05242229": {
     "model_module": "@jupyter-widgets/controls",
     "model_module_version": "1.5.0",
     "model_name": "ProgressStyleModel",
     "state": {
      "_model_module": "@jupyter-widgets/controls",
      "_model_module_version": "1.5.0",
      "_model_name": "ProgressStyleModel",
      "_view_count": null,
      "_view_module": "@jupyter-widgets/base",
      "_view_module_version": "1.2.0",
      "_view_name": "StyleView",
      "bar_color": null,
      "description_width": ""
     }
    },
    "03b0d4b80ee8400e8bb1ff96fe794139": {
     "model_module": "@jupyter-widgets/controls",
     "model_module_version": "1.5.0",
     "model_name": "FloatProgressModel",
     "state": {
      "_dom_classes": [],
      "_model_module": "@jupyter-widgets/controls",
      "_model_module_version": "1.5.0",
      "_model_name": "FloatProgressModel",
      "_view_count": null,
      "_view_module": "@jupyter-widgets/controls",
      "_view_module_version": "1.5.0",
      "_view_name": "ProgressView",
      "bar_style": "success",
      "description": "",
      "description_tooltip": null,
      "layout": "IPY_MODEL_5a124cf7785e4eccafa4d1c7d3cd2942",
      "max": 483,
      "min": 0,
      "orientation": "horizontal",
      "style": "IPY_MODEL_1809cd29e041406687b13786774d4880",
      "value": 483
     }
    },
    "03ffc521b0874dc6aeb0beb2cefae358": {
     "model_module": "@jupyter-widgets/controls",
     "model_module_version": "1.5.0",
     "model_name": "DescriptionStyleModel",
     "state": {
      "_model_module": "@jupyter-widgets/controls",
      "_model_module_version": "1.5.0",
      "_model_name": "DescriptionStyleModel",
      "_view_count": null,
      "_view_module": "@jupyter-widgets/base",
      "_view_module_version": "1.2.0",
      "_view_name": "StyleView",
      "description_width": ""
     }
    },
    "046484ba77494b55acb7e13ed55a3487": {
     "model_module": "@jupyter-widgets/controls",
     "model_module_version": "1.5.0",
     "model_name": "FloatProgressModel",
     "state": {
      "_dom_classes": [],
      "_model_module": "@jupyter-widgets/controls",
      "_model_module_version": "1.5.0",
      "_model_name": "FloatProgressModel",
      "_view_count": null,
      "_view_module": "@jupyter-widgets/controls",
      "_view_module_version": "1.5.0",
      "_view_name": "ProgressView",
      "bar_style": "success",
      "description": "",
      "description_tooltip": null,
      "layout": "IPY_MODEL_b2610c7ea73e437083cd43ef671cc563",
      "max": 48,
      "min": 0,
      "orientation": "horizontal",
      "style": "IPY_MODEL_514fd68e776d4e4aaeb4a90f51bc4736",
      "value": 48
     }
    },
    "063a969f176941fa84a21569b4c6ba2b": {
     "model_module": "@jupyter-widgets/controls",
     "model_module_version": "1.5.0",
     "model_name": "DescriptionStyleModel",
     "state": {
      "_model_module": "@jupyter-widgets/controls",
      "_model_module_version": "1.5.0",
      "_model_name": "DescriptionStyleModel",
      "_view_count": null,
      "_view_module": "@jupyter-widgets/base",
      "_view_module_version": "1.2.0",
      "_view_name": "StyleView",
      "description_width": ""
     }
    },
    "072fea3dc9ba40f0b6e781f8755a322f": {
     "model_module": "@jupyter-widgets/base",
     "model_module_version": "1.2.0",
     "model_name": "LayoutModel",
     "state": {
      "_model_module": "@jupyter-widgets/base",
      "_model_module_version": "1.2.0",
      "_model_name": "LayoutModel",
      "_view_count": null,
      "_view_module": "@jupyter-widgets/base",
      "_view_module_version": "1.2.0",
      "_view_name": "LayoutView",
      "align_content": null,
      "align_items": null,
      "align_self": null,
      "border": null,
      "bottom": null,
      "display": null,
      "flex": null,
      "flex_flow": null,
      "grid_area": null,
      "grid_auto_columns": null,
      "grid_auto_flow": null,
      "grid_auto_rows": null,
      "grid_column": null,
      "grid_gap": null,
      "grid_row": null,
      "grid_template_areas": null,
      "grid_template_columns": null,
      "grid_template_rows": null,
      "height": null,
      "justify_content": null,
      "justify_items": null,
      "left": null,
      "margin": null,
      "max_height": null,
      "max_width": null,
      "min_height": null,
      "min_width": null,
      "object_fit": null,
      "object_position": null,
      "order": null,
      "overflow": null,
      "overflow_x": null,
      "overflow_y": null,
      "padding": null,
      "right": null,
      "top": null,
      "visibility": null,
      "width": null
     }
    },
    "0775a4d8fe1d4cd3b34486bf28d5f755": {
     "model_module": "@jupyter-widgets/controls",
     "model_module_version": "1.5.0",
     "model_name": "DescriptionStyleModel",
     "state": {
      "_model_module": "@jupyter-widgets/controls",
      "_model_module_version": "1.5.0",
      "_model_name": "DescriptionStyleModel",
      "_view_count": null,
      "_view_module": "@jupyter-widgets/base",
      "_view_module_version": "1.2.0",
      "_view_name": "StyleView",
      "description_width": ""
     }
    },
    "08ef888fa03449dfbfed2c38b82b7008": {
     "model_module": "@jupyter-widgets/controls",
     "model_module_version": "1.5.0",
     "model_name": "DescriptionStyleModel",
     "state": {
      "_model_module": "@jupyter-widgets/controls",
      "_model_module_version": "1.5.0",
      "_model_name": "DescriptionStyleModel",
      "_view_count": null,
      "_view_module": "@jupyter-widgets/base",
      "_view_module_version": "1.2.0",
      "_view_name": "StyleView",
      "description_width": ""
     }
    },
    "090e8bfcf7ed4be6870d9fcb068100a3": {
     "model_module": "@jupyter-widgets/controls",
     "model_module_version": "1.5.0",
     "model_name": "HBoxModel",
     "state": {
      "_dom_classes": [],
      "_model_module": "@jupyter-widgets/controls",
      "_model_module_version": "1.5.0",
      "_model_name": "HBoxModel",
      "_view_count": null,
      "_view_module": "@jupyter-widgets/controls",
      "_view_module_version": "1.5.0",
      "_view_name": "HBoxView",
      "box_style": "",
      "children": [
       "IPY_MODEL_dc87398fce094a658da749f69feb4fc8",
       "IPY_MODEL_4e07a852aa1b4cf1bb57b7c77515c133",
       "IPY_MODEL_8e8a43aa4e11455484df7d141e6ad248"
      ],
      "layout": "IPY_MODEL_3c644b03c6ca4f388efbfe3f9cd573a4"
     }
    },
    "09e572cc5fa34a3dbfa76f898c90edab": {
     "model_module": "@jupyter-widgets/base",
     "model_module_version": "1.2.0",
     "model_name": "LayoutModel",
     "state": {
      "_model_module": "@jupyter-widgets/base",
      "_model_module_version": "1.2.0",
      "_model_name": "LayoutModel",
      "_view_count": null,
      "_view_module": "@jupyter-widgets/base",
      "_view_module_version": "1.2.0",
      "_view_name": "LayoutView",
      "align_content": null,
      "align_items": null,
      "align_self": null,
      "border": null,
      "bottom": null,
      "display": null,
      "flex": null,
      "flex_flow": null,
      "grid_area": null,
      "grid_auto_columns": null,
      "grid_auto_flow": null,
      "grid_auto_rows": null,
      "grid_column": null,
      "grid_gap": null,
      "grid_row": null,
      "grid_template_areas": null,
      "grid_template_columns": null,
      "grid_template_rows": null,
      "height": null,
      "justify_content": null,
      "justify_items": null,
      "left": null,
      "margin": null,
      "max_height": null,
      "max_width": null,
      "min_height": null,
      "min_width": null,
      "object_fit": null,
      "object_position": null,
      "order": null,
      "overflow": null,
      "overflow_x": null,
      "overflow_y": null,
      "padding": null,
      "right": null,
      "top": null,
      "visibility": null,
      "width": null
     }
    },
    "0b601c2d8959449ba0eedeb6e858a6b3": {
     "model_module": "@jupyter-widgets/controls",
     "model_module_version": "1.5.0",
     "model_name": "HTMLModel",
     "state": {
      "_dom_classes": [],
      "_model_module": "@jupyter-widgets/controls",
      "_model_module_version": "1.5.0",
      "_model_name": "HTMLModel",
      "_view_count": null,
      "_view_module": "@jupyter-widgets/controls",
      "_view_module_version": "1.5.0",
      "_view_name": "HTMLView",
      "description": "",
      "description_tooltip": null,
      "layout": "IPY_MODEL_98ecb94064cd4451b67cccdac5f8c102",
      "placeholder": "​",
      "style": "IPY_MODEL_12ab9c1a8fac4be28462066d99d4cac5",
      "value": " 268M/268M [00:00&lt;00:00, 337MB/s]"
     }
    },
    "0bdfa1d6d98d42069dfd65dba4889c8e": {
     "model_module": "@jupyter-widgets/controls",
     "model_module_version": "1.5.0",
     "model_name": "HTMLModel",
     "state": {
      "_dom_classes": [],
      "_model_module": "@jupyter-widgets/controls",
      "_model_module_version": "1.5.0",
      "_model_name": "HTMLModel",
      "_view_count": null,
      "_view_module": "@jupyter-widgets/controls",
      "_view_module_version": "1.5.0",
      "_view_name": "HTMLView",
      "description": "",
      "description_tooltip": null,
      "layout": "IPY_MODEL_666266a80a094b599299c3dffd219c36",
      "placeholder": "​",
      "style": "IPY_MODEL_29a292bd94c4456d8fd0eeb4973c0670",
      "value": " 26.0/26.0 [00:00&lt;00:00, 969B/s]"
     }
    },
    "0c2b3e3f7a494b6bb3e46003c6770571": {
     "model_module": "@jupyter-widgets/base",
     "model_module_version": "1.2.0",
     "model_name": "LayoutModel",
     "state": {
      "_model_module": "@jupyter-widgets/base",
      "_model_module_version": "1.2.0",
      "_model_name": "LayoutModel",
      "_view_count": null,
      "_view_module": "@jupyter-widgets/base",
      "_view_module_version": "1.2.0",
      "_view_name": "LayoutView",
      "align_content": null,
      "align_items": null,
      "align_self": null,
      "border": null,
      "bottom": null,
      "display": null,
      "flex": null,
      "flex_flow": null,
      "grid_area": null,
      "grid_auto_columns": null,
      "grid_auto_flow": null,
      "grid_auto_rows": null,
      "grid_column": null,
      "grid_gap": null,
      "grid_row": null,
      "grid_template_areas": null,
      "grid_template_columns": null,
      "grid_template_rows": null,
      "height": null,
      "justify_content": null,
      "justify_items": null,
      "left": null,
      "margin": null,
      "max_height": null,
      "max_width": null,
      "min_height": null,
      "min_width": null,
      "object_fit": null,
      "object_position": null,
      "order": null,
      "overflow": null,
      "overflow_x": null,
      "overflow_y": null,
      "padding": null,
      "right": null,
      "top": null,
      "visibility": null,
      "width": null
     }
    },
    "0c699df3ee0e45008db6628bc9a6db67": {
     "model_module": "@jupyter-widgets/controls",
     "model_module_version": "1.5.0",
     "model_name": "FloatProgressModel",
     "state": {
      "_dom_classes": [],
      "_model_module": "@jupyter-widgets/controls",
      "_model_module_version": "1.5.0",
      "_model_name": "FloatProgressModel",
      "_view_count": null,
      "_view_module": "@jupyter-widgets/controls",
      "_view_module_version": "1.5.0",
      "_view_name": "ProgressView",
      "bar_style": "success",
      "description": "",
      "description_tooltip": null,
      "layout": "IPY_MODEL_78b58c720fdd4720aa4bee7197007309",
      "max": 267832558,
      "min": 0,
      "orientation": "horizontal",
      "style": "IPY_MODEL_fce0f472357142ecaf627eeeee9c2e75",
      "value": 267832558
     }
    },
    "0c78bace44154985ad12c0265ae430f7": {
     "model_module": "@jupyter-widgets/controls",
     "model_module_version": "1.5.0",
     "model_name": "DescriptionStyleModel",
     "state": {
      "_model_module": "@jupyter-widgets/controls",
      "_model_module_version": "1.5.0",
      "_model_name": "DescriptionStyleModel",
      "_view_count": null,
      "_view_module": "@jupyter-widgets/base",
      "_view_module_version": "1.2.0",
      "_view_name": "StyleView",
      "description_width": ""
     }
    },
    "0d25366a3d654d3fba85508bf309e568": {
     "model_module": "@jupyter-widgets/controls",
     "model_module_version": "1.5.0",
     "model_name": "ProgressStyleModel",
     "state": {
      "_model_module": "@jupyter-widgets/controls",
      "_model_module_version": "1.5.0",
      "_model_name": "ProgressStyleModel",
      "_view_count": null,
      "_view_module": "@jupyter-widgets/base",
      "_view_module_version": "1.2.0",
      "_view_name": "StyleView",
      "bar_color": null,
      "description_width": ""
     }
    },
    "0d27001bb0cb4b689a75fbea7f1efa4c": {
     "model_module": "@jupyter-widgets/base",
     "model_module_version": "1.2.0",
     "model_name": "LayoutModel",
     "state": {
      "_model_module": "@jupyter-widgets/base",
      "_model_module_version": "1.2.0",
      "_model_name": "LayoutModel",
      "_view_count": null,
      "_view_module": "@jupyter-widgets/base",
      "_view_module_version": "1.2.0",
      "_view_name": "LayoutView",
      "align_content": null,
      "align_items": null,
      "align_self": null,
      "border": null,
      "bottom": null,
      "display": null,
      "flex": null,
      "flex_flow": null,
      "grid_area": null,
      "grid_auto_columns": null,
      "grid_auto_flow": null,
      "grid_auto_rows": null,
      "grid_column": null,
      "grid_gap": null,
      "grid_row": null,
      "grid_template_areas": null,
      "grid_template_columns": null,
      "grid_template_rows": null,
      "height": null,
      "justify_content": null,
      "justify_items": null,
      "left": null,
      "margin": null,
      "max_height": null,
      "max_width": null,
      "min_height": null,
      "min_width": null,
      "object_fit": null,
      "object_position": null,
      "order": null,
      "overflow": null,
      "overflow_x": null,
      "overflow_y": null,
      "padding": null,
      "right": null,
      "top": null,
      "visibility": null,
      "width": null
     }
    },
    "0d750e71cfd04203bc6245d72e62cdc5": {
     "model_module": "@jupyter-widgets/controls",
     "model_module_version": "1.5.0",
     "model_name": "DescriptionStyleModel",
     "state": {
      "_model_module": "@jupyter-widgets/controls",
      "_model_module_version": "1.5.0",
      "_model_name": "DescriptionStyleModel",
      "_view_count": null,
      "_view_module": "@jupyter-widgets/base",
      "_view_module_version": "1.2.0",
      "_view_name": "StyleView",
      "description_width": ""
     }
    },
    "0db028ff95e84d33acdb533760ad41da": {
     "model_module": "@jupyter-widgets/controls",
     "model_module_version": "1.5.0",
     "model_name": "DescriptionStyleModel",
     "state": {
      "_model_module": "@jupyter-widgets/controls",
      "_model_module_version": "1.5.0",
      "_model_name": "DescriptionStyleModel",
      "_view_count": null,
      "_view_module": "@jupyter-widgets/base",
      "_view_module_version": "1.2.0",
      "_view_name": "StyleView",
      "description_width": ""
     }
    },
    "0dcaee584779404aa4fbbad506ddcd3a": {
     "model_module": "@jupyter-widgets/controls",
     "model_module_version": "1.5.0",
     "model_name": "HBoxModel",
     "state": {
      "_dom_classes": [],
      "_model_module": "@jupyter-widgets/controls",
      "_model_module_version": "1.5.0",
      "_model_name": "HBoxModel",
      "_view_count": null,
      "_view_module": "@jupyter-widgets/controls",
      "_view_module_version": "1.5.0",
      "_view_name": "HBoxView",
      "box_style": "",
      "children": [
       "IPY_MODEL_53a7239ac99e4fd889edf4be66091d35",
       "IPY_MODEL_57b9fbf00fe34967b6f342524aae352b",
       "IPY_MODEL_e6f9a976e59e42618a3c511f427acb88"
      ],
      "layout": "IPY_MODEL_7ce5227fb27046dfb9f47c48aa863fb8"
     }
    },
    "0e0863081114481c964e57672c86c0b7": {
     "model_module": "@jupyter-widgets/controls",
     "model_module_version": "1.5.0",
     "model_name": "DescriptionStyleModel",
     "state": {
      "_model_module": "@jupyter-widgets/controls",
      "_model_module_version": "1.5.0",
      "_model_name": "DescriptionStyleModel",
      "_view_count": null,
      "_view_module": "@jupyter-widgets/base",
      "_view_module_version": "1.2.0",
      "_view_name": "StyleView",
      "description_width": ""
     }
    },
    "0e366bd39b2e4bb78bf145447a329555": {
     "model_module": "@jupyter-widgets/controls",
     "model_module_version": "1.5.0",
     "model_name": "DescriptionStyleModel",
     "state": {
      "_model_module": "@jupyter-widgets/controls",
      "_model_module_version": "1.5.0",
      "_model_name": "DescriptionStyleModel",
      "_view_count": null,
      "_view_module": "@jupyter-widgets/base",
      "_view_module_version": "1.2.0",
      "_view_name": "StyleView",
      "description_width": ""
     }
    },
    "10570d170bec405c8c15d80523a0717c": {
     "model_module": "@jupyter-widgets/controls",
     "model_module_version": "1.5.0",
     "model_name": "DescriptionStyleModel",
     "state": {
      "_model_module": "@jupyter-widgets/controls",
      "_model_module_version": "1.5.0",
      "_model_name": "DescriptionStyleModel",
      "_view_count": null,
      "_view_module": "@jupyter-widgets/base",
      "_view_module_version": "1.2.0",
      "_view_name": "StyleView",
      "description_width": ""
     }
    },
    "106cc09c16f84c419d0d2cd5c7f55a8a": {
     "model_module": "@jupyter-widgets/controls",
     "model_module_version": "1.5.0",
     "model_name": "ProgressStyleModel",
     "state": {
      "_model_module": "@jupyter-widgets/controls",
      "_model_module_version": "1.5.0",
      "_model_name": "ProgressStyleModel",
      "_view_count": null,
      "_view_module": "@jupyter-widgets/base",
      "_view_module_version": "1.2.0",
      "_view_name": "StyleView",
      "bar_color": null,
      "description_width": ""
     }
    },
    "107b8dc81c084768b72361170b3b448a": {
     "model_module": "@jupyter-widgets/controls",
     "model_module_version": "1.5.0",
     "model_name": "HBoxModel",
     "state": {
      "_dom_classes": [],
      "_model_module": "@jupyter-widgets/controls",
      "_model_module_version": "1.5.0",
      "_model_name": "HBoxModel",
      "_view_count": null,
      "_view_module": "@jupyter-widgets/controls",
      "_view_module_version": "1.5.0",
      "_view_name": "HBoxView",
      "box_style": "",
      "children": [
       "IPY_MODEL_e4db92d02bbd416daed51e431353de58",
       "IPY_MODEL_9ad0006be39642f69cd73ee3bd5161d2",
       "IPY_MODEL_99118a9b59864352ad3870d12b233d80"
      ],
      "layout": "IPY_MODEL_db1d3dc2171b4910a5e07ba1e7d5f734"
     }
    },
    "10a85b00fe6740bc8611137ac5bfc137": {
     "model_module": "@jupyter-widgets/controls",
     "model_module_version": "1.5.0",
     "model_name": "DescriptionStyleModel",
     "state": {
      "_model_module": "@jupyter-widgets/controls",
      "_model_module_version": "1.5.0",
      "_model_name": "DescriptionStyleModel",
      "_view_count": null,
      "_view_module": "@jupyter-widgets/base",
      "_view_module_version": "1.2.0",
      "_view_name": "StyleView",
      "description_width": ""
     }
    },
    "11a777252a044e3da149877541e3ecaf": {
     "model_module": "@jupyter-widgets/controls",
     "model_module_version": "1.5.0",
     "model_name": "HTMLModel",
     "state": {
      "_dom_classes": [],
      "_model_module": "@jupyter-widgets/controls",
      "_model_module_version": "1.5.0",
      "_model_name": "HTMLModel",
      "_view_count": null,
      "_view_module": "@jupyter-widgets/controls",
      "_view_module_version": "1.5.0",
      "_view_name": "HTMLView",
      "description": "",
      "description_tooltip": null,
      "layout": "IPY_MODEL_6fd602b801f0475db9c933fca5d2eb78",
      "placeholder": "​",
      "style": "IPY_MODEL_852ae3ffc3f945d1b5fbf3dc377ffc07",
      "value": "model.safetensors: 100%"
     }
    },
    "120b3e46872b41cdb2be157882b67ca4": {
     "model_module": "@jupyter-widgets/controls",
     "model_module_version": "1.5.0",
     "model_name": "FloatProgressModel",
     "state": {
      "_dom_classes": [],
      "_model_module": "@jupyter-widgets/controls",
      "_model_module_version": "1.5.0",
      "_model_name": "FloatProgressModel",
      "_view_count": null,
      "_view_module": "@jupyter-widgets/controls",
      "_view_module_version": "1.5.0",
      "_view_name": "ProgressView",
      "bar_style": "success",
      "description": "",
      "description_tooltip": null,
      "layout": "IPY_MODEL_d9cdf9667f6746f382f5f10f772b3144",
      "max": 231508,
      "min": 0,
      "orientation": "horizontal",
      "style": "IPY_MODEL_5e05b1fd6b084563bc6b22e5650c6c79",
      "value": 231508
     }
    },
    "120fbeddc7d3406994260af25c636e5e": {
     "model_module": "@jupyter-widgets/controls",
     "model_module_version": "1.5.0",
     "model_name": "DescriptionStyleModel",
     "state": {
      "_model_module": "@jupyter-widgets/controls",
      "_model_module_version": "1.5.0",
      "_model_name": "DescriptionStyleModel",
      "_view_count": null,
      "_view_module": "@jupyter-widgets/base",
      "_view_module_version": "1.2.0",
      "_view_name": "StyleView",
      "description_width": ""
     }
    },
    "12ab9c1a8fac4be28462066d99d4cac5": {
     "model_module": "@jupyter-widgets/controls",
     "model_module_version": "1.5.0",
     "model_name": "DescriptionStyleModel",
     "state": {
      "_model_module": "@jupyter-widgets/controls",
      "_model_module_version": "1.5.0",
      "_model_name": "DescriptionStyleModel",
      "_view_count": null,
      "_view_module": "@jupyter-widgets/base",
      "_view_module_version": "1.2.0",
      "_view_name": "StyleView",
      "description_width": ""
     }
    },
    "12afd487ae7343f7b8a65aaa60bd00c7": {
     "model_module": "@jupyter-widgets/controls",
     "model_module_version": "1.5.0",
     "model_name": "HTMLModel",
     "state": {
      "_dom_classes": [],
      "_model_module": "@jupyter-widgets/controls",
      "_model_module_version": "1.5.0",
      "_model_name": "HTMLModel",
      "_view_count": null,
      "_view_module": "@jupyter-widgets/controls",
      "_view_module_version": "1.5.0",
      "_view_name": "HTMLView",
      "description": "",
      "description_tooltip": null,
      "layout": "IPY_MODEL_a7c1ffd3bfae4ac29997b77f805d6684",
      "placeholder": "​",
      "style": "IPY_MODEL_42dcbe8766f74de69749e3e0600e3829",
      "value": "model.safetensors: 100%"
     }
    },
    "12e1763b7a9b4ae78074cee4b5a409a3": {
     "model_module": "@jupyter-widgets/controls",
     "model_module_version": "1.5.0",
     "model_name": "HTMLModel",
     "state": {
      "_dom_classes": [],
      "_model_module": "@jupyter-widgets/controls",
      "_model_module_version": "1.5.0",
      "_model_name": "HTMLModel",
      "_view_count": null,
      "_view_module": "@jupyter-widgets/controls",
      "_view_module_version": "1.5.0",
      "_view_name": "HTMLView",
      "description": "",
      "description_tooltip": null,
      "layout": "IPY_MODEL_f601a3994de84cc9885036e8d1c5a8ee",
      "placeholder": "​",
      "style": "IPY_MODEL_64cecc3cdf97483990e52c2b0311601f",
      "value": " 48.0/48.0 [00:00&lt;00:00, 3.53kB/s]"
     }
    },
    "13192bc720d84c2cb83a4cca9906471a": {
     "model_module": "@jupyter-widgets/base",
     "model_module_version": "1.2.0",
     "model_name": "LayoutModel",
     "state": {
      "_model_module": "@jupyter-widgets/base",
      "_model_module_version": "1.2.0",
      "_model_name": "LayoutModel",
      "_view_count": null,
      "_view_module": "@jupyter-widgets/base",
      "_view_module_version": "1.2.0",
      "_view_name": "LayoutView",
      "align_content": null,
      "align_items": null,
      "align_self": null,
      "border": null,
      "bottom": null,
      "display": null,
      "flex": null,
      "flex_flow": null,
      "grid_area": null,
      "grid_auto_columns": null,
      "grid_auto_flow": null,
      "grid_auto_rows": null,
      "grid_column": null,
      "grid_gap": null,
      "grid_row": null,
      "grid_template_areas": null,
      "grid_template_columns": null,
      "grid_template_rows": null,
      "height": null,
      "justify_content": null,
      "justify_items": null,
      "left": null,
      "margin": null,
      "max_height": null,
      "max_width": null,
      "min_height": null,
      "min_width": null,
      "object_fit": null,
      "object_position": null,
      "order": null,
      "overflow": null,
      "overflow_x": null,
      "overflow_y": null,
      "padding": null,
      "right": null,
      "top": null,
      "visibility": null,
      "width": null
     }
    },
    "13a2a27f04f7451aa8be99bb139efb27": {
     "model_module": "@jupyter-widgets/controls",
     "model_module_version": "1.5.0",
     "model_name": "FloatProgressModel",
     "state": {
      "_dom_classes": [],
      "_model_module": "@jupyter-widgets/controls",
      "_model_module_version": "1.5.0",
      "_model_name": "FloatProgressModel",
      "_view_count": null,
      "_view_module": "@jupyter-widgets/controls",
      "_view_module_version": "1.5.0",
      "_view_name": "ProgressView",
      "bar_style": "success",
      "description": "",
      "description_tooltip": null,
      "layout": "IPY_MODEL_f28cbac2858e4e079790d7f24ff1d73d",
      "max": 466062,
      "min": 0,
      "orientation": "horizontal",
      "style": "IPY_MODEL_975c4167faed4d339bbc3f2eeae9f748",
      "value": 466062
     }
    },
    "14d54788f46d479eb0faa38af384cdc8": {
     "model_module": "@jupyter-widgets/base",
     "model_module_version": "1.2.0",
     "model_name": "LayoutModel",
     "state": {
      "_model_module": "@jupyter-widgets/base",
      "_model_module_version": "1.2.0",
      "_model_name": "LayoutModel",
      "_view_count": null,
      "_view_module": "@jupyter-widgets/base",
      "_view_module_version": "1.2.0",
      "_view_name": "LayoutView",
      "align_content": null,
      "align_items": null,
      "align_self": null,
      "border": null,
      "bottom": null,
      "display": null,
      "flex": null,
      "flex_flow": null,
      "grid_area": null,
      "grid_auto_columns": null,
      "grid_auto_flow": null,
      "grid_auto_rows": null,
      "grid_column": null,
      "grid_gap": null,
      "grid_row": null,
      "grid_template_areas": null,
      "grid_template_columns": null,
      "grid_template_rows": null,
      "height": null,
      "justify_content": null,
      "justify_items": null,
      "left": null,
      "margin": null,
      "max_height": null,
      "max_width": null,
      "min_height": null,
      "min_width": null,
      "object_fit": null,
      "object_position": null,
      "order": null,
      "overflow": null,
      "overflow_x": null,
      "overflow_y": null,
      "padding": null,
      "right": null,
      "top": null,
      "visibility": null,
      "width": null
     }
    },
    "14e98cabb95c438abf13993167e4618f": {
     "model_module": "@jupyter-widgets/controls",
     "model_module_version": "1.5.0",
     "model_name": "DescriptionStyleModel",
     "state": {
      "_model_module": "@jupyter-widgets/controls",
      "_model_module_version": "1.5.0",
      "_model_name": "DescriptionStyleModel",
      "_view_count": null,
      "_view_module": "@jupyter-widgets/base",
      "_view_module_version": "1.2.0",
      "_view_name": "StyleView",
      "description_width": ""
     }
    },
    "152381e5fe68427393a8a334a98e14a5": {
     "model_module": "@jupyter-widgets/base",
     "model_module_version": "1.2.0",
     "model_name": "LayoutModel",
     "state": {
      "_model_module": "@jupyter-widgets/base",
      "_model_module_version": "1.2.0",
      "_model_name": "LayoutModel",
      "_view_count": null,
      "_view_module": "@jupyter-widgets/base",
      "_view_module_version": "1.2.0",
      "_view_name": "LayoutView",
      "align_content": null,
      "align_items": null,
      "align_self": null,
      "border": null,
      "bottom": null,
      "display": null,
      "flex": null,
      "flex_flow": null,
      "grid_area": null,
      "grid_auto_columns": null,
      "grid_auto_flow": null,
      "grid_auto_rows": null,
      "grid_column": null,
      "grid_gap": null,
      "grid_row": null,
      "grid_template_areas": null,
      "grid_template_columns": null,
      "grid_template_rows": null,
      "height": null,
      "justify_content": null,
      "justify_items": null,
      "left": null,
      "margin": null,
      "max_height": null,
      "max_width": null,
      "min_height": null,
      "min_width": null,
      "object_fit": null,
      "object_position": null,
      "order": null,
      "overflow": null,
      "overflow_x": null,
      "overflow_y": null,
      "padding": null,
      "right": null,
      "top": null,
      "visibility": null,
      "width": null
     }
    },
    "1612ba093f8c455fb8149092cf366571": {
     "model_module": "@jupyter-widgets/controls",
     "model_module_version": "1.5.0",
     "model_name": "DescriptionStyleModel",
     "state": {
      "_model_module": "@jupyter-widgets/controls",
      "_model_module_version": "1.5.0",
      "_model_name": "DescriptionStyleModel",
      "_view_count": null,
      "_view_module": "@jupyter-widgets/base",
      "_view_module_version": "1.2.0",
      "_view_name": "StyleView",
      "description_width": ""
     }
    },
    "16514425790a4386ba23ea1ff1cdda3b": {
     "model_module": "@jupyter-widgets/controls",
     "model_module_version": "1.5.0",
     "model_name": "ProgressStyleModel",
     "state": {
      "_model_module": "@jupyter-widgets/controls",
      "_model_module_version": "1.5.0",
      "_model_name": "ProgressStyleModel",
      "_view_count": null,
      "_view_module": "@jupyter-widgets/base",
      "_view_module_version": "1.2.0",
      "_view_name": "StyleView",
      "bar_color": null,
      "description_width": ""
     }
    },
    "1809cd29e041406687b13786774d4880": {
     "model_module": "@jupyter-widgets/controls",
     "model_module_version": "1.5.0",
     "model_name": "ProgressStyleModel",
     "state": {
      "_model_module": "@jupyter-widgets/controls",
      "_model_module_version": "1.5.0",
      "_model_name": "ProgressStyleModel",
      "_view_count": null,
      "_view_module": "@jupyter-widgets/base",
      "_view_module_version": "1.2.0",
      "_view_name": "StyleView",
      "bar_color": null,
      "description_width": ""
     }
    },
    "181ee900eccb4bdc98945cae0e95b770": {
     "model_module": "@jupyter-widgets/base",
     "model_module_version": "1.2.0",
     "model_name": "LayoutModel",
     "state": {
      "_model_module": "@jupyter-widgets/base",
      "_model_module_version": "1.2.0",
      "_model_name": "LayoutModel",
      "_view_count": null,
      "_view_module": "@jupyter-widgets/base",
      "_view_module_version": "1.2.0",
      "_view_name": "LayoutView",
      "align_content": null,
      "align_items": null,
      "align_self": null,
      "border": null,
      "bottom": null,
      "display": null,
      "flex": null,
      "flex_flow": null,
      "grid_area": null,
      "grid_auto_columns": null,
      "grid_auto_flow": null,
      "grid_auto_rows": null,
      "grid_column": null,
      "grid_gap": null,
      "grid_row": null,
      "grid_template_areas": null,
      "grid_template_columns": null,
      "grid_template_rows": null,
      "height": null,
      "justify_content": null,
      "justify_items": null,
      "left": null,
      "margin": null,
      "max_height": null,
      "max_width": null,
      "min_height": null,
      "min_width": null,
      "object_fit": null,
      "object_position": null,
      "order": null,
      "overflow": null,
      "overflow_x": null,
      "overflow_y": null,
      "padding": null,
      "right": null,
      "top": null,
      "visibility": null,
      "width": null
     }
    },
    "196b861291ea451cbae8640523878913": {
     "model_module": "@jupyter-widgets/controls",
     "model_module_version": "1.5.0",
     "model_name": "HBoxModel",
     "state": {
      "_dom_classes": [],
      "_model_module": "@jupyter-widgets/controls",
      "_model_module_version": "1.5.0",
      "_model_name": "HBoxModel",
      "_view_count": null,
      "_view_module": "@jupyter-widgets/controls",
      "_view_module_version": "1.5.0",
      "_view_name": "HBoxView",
      "box_style": "",
      "children": [
       "IPY_MODEL_47cfdf980592498b893f8c3d2fbf0e03",
       "IPY_MODEL_db17d88724f845568a4396b9a5ce508a",
       "IPY_MODEL_adaaaa75b6f047239329f6a74b7c2f77"
      ],
      "layout": "IPY_MODEL_784f4fb1e01241adab3acfcbf341a0ec"
     }
    },
    "19a2336a406a45bf9e990fa8ad9a49d4": {
     "model_module": "@jupyter-widgets/controls",
     "model_module_version": "1.5.0",
     "model_name": "HTMLModel",
     "state": {
      "_dom_classes": [],
      "_model_module": "@jupyter-widgets/controls",
      "_model_module_version": "1.5.0",
      "_model_name": "HTMLModel",
      "_view_count": null,
      "_view_module": "@jupyter-widgets/controls",
      "_view_module_version": "1.5.0",
      "_view_name": "HTMLView",
      "description": "",
      "description_tooltip": null,
      "layout": "IPY_MODEL_44050ee5b91145a8b22e2bc7de3ba85a",
      "placeholder": "​",
      "style": "IPY_MODEL_2db54785b3554d46811fde033a15dc17",
      "value": "tokenizer.json: 100%"
     }
    },
    "19f76eaac0a74742adc27e9cdad38b65": {
     "model_module": "@jupyter-widgets/controls",
     "model_module_version": "1.5.0",
     "model_name": "FloatProgressModel",
     "state": {
      "_dom_classes": [],
      "_model_module": "@jupyter-widgets/controls",
      "_model_module_version": "1.5.0",
      "_model_name": "FloatProgressModel",
      "_view_count": null,
      "_view_module": "@jupyter-widgets/controls",
      "_view_module_version": "1.5.0",
      "_view_name": "ProgressView",
      "bar_style": "success",
      "description": "",
      "description_tooltip": null,
      "layout": "IPY_MODEL_eed9340ed9d04611b71f75e4db6cd67e",
      "max": 3081,
      "min": 0,
      "orientation": "horizontal",
      "style": "IPY_MODEL_bbb94e68c17e423f8dd9fc1a9438aa94",
      "value": 3081
     }
    },
    "1bc31bdb12804834aa1e94ee7fa1b3ab": {
     "model_module": "@jupyter-widgets/controls",
     "model_module_version": "1.5.0",
     "model_name": "HTMLModel",
     "state": {
      "_dom_classes": [],
      "_model_module": "@jupyter-widgets/controls",
      "_model_module_version": "1.5.0",
      "_model_name": "HTMLModel",
      "_view_count": null,
      "_view_module": "@jupyter-widgets/controls",
      "_view_module_version": "1.5.0",
      "_view_name": "HTMLView",
      "description": "",
      "description_tooltip": null,
      "layout": "IPY_MODEL_b7d267442de04961a6f52c38d00c2edc",
      "placeholder": "​",
      "style": "IPY_MODEL_ebacdfc661154ae386dd3ccaeb23f772",
      "value": " 3081/3081 [00:35&lt;00:00, 57.90 examples/s]"
     }
    },
    "1c7fb77282794a618a1b8175b77811aa": {
     "model_module": "@jupyter-widgets/controls",
     "model_module_version": "1.5.0",
     "model_name": "HBoxModel",
     "state": {
      "_dom_classes": [],
      "_model_module": "@jupyter-widgets/controls",
      "_model_module_version": "1.5.0",
      "_model_name": "HBoxModel",
      "_view_count": null,
      "_view_module": "@jupyter-widgets/controls",
      "_view_module_version": "1.5.0",
      "_view_name": "HBoxView",
      "box_style": "",
      "children": [
       "IPY_MODEL_edf1b0f7c7684e08a817590e9a201eb4",
       "IPY_MODEL_0c699df3ee0e45008db6628bc9a6db67",
       "IPY_MODEL_cb7fa84b89ca428f9004e14647b8c876"
      ],
      "layout": "IPY_MODEL_9026426dbb884fe39e2ec321a89954b2"
     }
    },
    "1dff6d902ca749d29775a39b53e98e03": {
     "model_module": "@jupyter-widgets/base",
     "model_module_version": "1.2.0",
     "model_name": "LayoutModel",
     "state": {
      "_model_module": "@jupyter-widgets/base",
      "_model_module_version": "1.2.0",
      "_model_name": "LayoutModel",
      "_view_count": null,
      "_view_module": "@jupyter-widgets/base",
      "_view_module_version": "1.2.0",
      "_view_name": "LayoutView",
      "align_content": null,
      "align_items": null,
      "align_self": null,
      "border": null,
      "bottom": null,
      "display": null,
      "flex": null,
      "flex_flow": null,
      "grid_area": null,
      "grid_auto_columns": null,
      "grid_auto_flow": null,
      "grid_auto_rows": null,
      "grid_column": null,
      "grid_gap": null,
      "grid_row": null,
      "grid_template_areas": null,
      "grid_template_columns": null,
      "grid_template_rows": null,
      "height": null,
      "justify_content": null,
      "justify_items": null,
      "left": null,
      "margin": null,
      "max_height": null,
      "max_width": null,
      "min_height": null,
      "min_width": null,
      "object_fit": null,
      "object_position": null,
      "order": null,
      "overflow": null,
      "overflow_x": null,
      "overflow_y": null,
      "padding": null,
      "right": null,
      "top": null,
      "visibility": null,
      "width": null
     }
    },
    "1ea9534a1322429eba100f7a28b3cbb2": {
     "model_module": "@jupyter-widgets/controls",
     "model_module_version": "1.5.0",
     "model_name": "FloatProgressModel",
     "state": {
      "_dom_classes": [],
      "_model_module": "@jupyter-widgets/controls",
      "_model_module_version": "1.5.0",
      "_model_name": "FloatProgressModel",
      "_view_count": null,
      "_view_module": "@jupyter-widgets/controls",
      "_view_module_version": "1.5.0",
      "_view_name": "ProgressView",
      "bar_style": "success",
      "description": "",
      "description_tooltip": null,
      "layout": "IPY_MODEL_70db9c1a40214b50a30862988d18e717",
      "max": 440449768,
      "min": 0,
      "orientation": "horizontal",
      "style": "IPY_MODEL_e3941149c2a84b6ab6f61b6666e393af",
      "value": 440449768
     }
    },
    "1f15b8d5547441cbb156b8dfce4ec7b0": {
     "model_module": "@jupyter-widgets/base",
     "model_module_version": "1.2.0",
     "model_name": "LayoutModel",
     "state": {
      "_model_module": "@jupyter-widgets/base",
      "_model_module_version": "1.2.0",
      "_model_name": "LayoutModel",
      "_view_count": null,
      "_view_module": "@jupyter-widgets/base",
      "_view_module_version": "1.2.0",
      "_view_name": "LayoutView",
      "align_content": null,
      "align_items": null,
      "align_self": null,
      "border": null,
      "bottom": null,
      "display": null,
      "flex": null,
      "flex_flow": null,
      "grid_area": null,
      "grid_auto_columns": null,
      "grid_auto_flow": null,
      "grid_auto_rows": null,
      "grid_column": null,
      "grid_gap": null,
      "grid_row": null,
      "grid_template_areas": null,
      "grid_template_columns": null,
      "grid_template_rows": null,
      "height": null,
      "justify_content": null,
      "justify_items": null,
      "left": null,
      "margin": null,
      "max_height": null,
      "max_width": null,
      "min_height": null,
      "min_width": null,
      "object_fit": null,
      "object_position": null,
      "order": null,
      "overflow": null,
      "overflow_x": null,
      "overflow_y": null,
      "padding": null,
      "right": null,
      "top": null,
      "visibility": null,
      "width": null
     }
    },
    "1f95a9be7f54444b88744c67e8da5a80": {
     "model_module": "@jupyter-widgets/base",
     "model_module_version": "1.2.0",
     "model_name": "LayoutModel",
     "state": {
      "_model_module": "@jupyter-widgets/base",
      "_model_module_version": "1.2.0",
      "_model_name": "LayoutModel",
      "_view_count": null,
      "_view_module": "@jupyter-widgets/base",
      "_view_module_version": "1.2.0",
      "_view_name": "LayoutView",
      "align_content": null,
      "align_items": null,
      "align_self": null,
      "border": null,
      "bottom": null,
      "display": null,
      "flex": null,
      "flex_flow": null,
      "grid_area": null,
      "grid_auto_columns": null,
      "grid_auto_flow": null,
      "grid_auto_rows": null,
      "grid_column": null,
      "grid_gap": null,
      "grid_row": null,
      "grid_template_areas": null,
      "grid_template_columns": null,
      "grid_template_rows": null,
      "height": null,
      "justify_content": null,
      "justify_items": null,
      "left": null,
      "margin": null,
      "max_height": null,
      "max_width": null,
      "min_height": null,
      "min_width": null,
      "object_fit": null,
      "object_position": null,
      "order": null,
      "overflow": null,
      "overflow_x": null,
      "overflow_y": null,
      "padding": null,
      "right": null,
      "top": null,
      "visibility": null,
      "width": null
     }
    },
    "208deb72133c40a7a88e01add562fd60": {
     "model_module": "@jupyter-widgets/controls",
     "model_module_version": "1.5.0",
     "model_name": "HTMLModel",
     "state": {
      "_dom_classes": [],
      "_model_module": "@jupyter-widgets/controls",
      "_model_module_version": "1.5.0",
      "_model_name": "HTMLModel",
      "_view_count": null,
      "_view_module": "@jupyter-widgets/controls",
      "_view_module_version": "1.5.0",
      "_view_name": "HTMLView",
      "description": "",
      "description_tooltip": null,
      "layout": "IPY_MODEL_9fcc4a2ca21042848e5becbb152cb681",
      "placeholder": "​",
      "style": "IPY_MODEL_1612ba093f8c455fb8149092cf366571",
      "value": "model.safetensors: 100%"
     }
    },
    "20f3a0f123d34cc28b5b4b69a350ea8d": {
     "model_module": "@jupyter-widgets/controls",
     "model_module_version": "1.5.0",
     "model_name": "HBoxModel",
     "state": {
      "_dom_classes": [],
      "_model_module": "@jupyter-widgets/controls",
      "_model_module_version": "1.5.0",
      "_model_name": "HBoxModel",
      "_view_count": null,
      "_view_module": "@jupyter-widgets/controls",
      "_view_module_version": "1.5.0",
      "_view_name": "HBoxView",
      "box_style": "",
      "children": [
       "IPY_MODEL_ff804399b8e64b4ea6795b5df7ac99ea",
       "IPY_MODEL_88445353976648f583ff1ec689f04d09",
       "IPY_MODEL_690943997d60421d8b948a0e0bf1e957"
      ],
      "layout": "IPY_MODEL_61d08e8218eb4c37a97a27ba42333517"
     }
    },
    "244018be291643fe9e929eaf3e531098": {
     "model_module": "@jupyter-widgets/controls",
     "model_module_version": "1.5.0",
     "model_name": "HTMLModel",
     "state": {
      "_dom_classes": [],
      "_model_module": "@jupyter-widgets/controls",
      "_model_module_version": "1.5.0",
      "_model_name": "HTMLModel",
      "_view_count": null,
      "_view_module": "@jupyter-widgets/controls",
      "_view_module_version": "1.5.0",
      "_view_name": "HTMLView",
      "description": "",
      "description_tooltip": null,
      "layout": "IPY_MODEL_280a539281a34d13878b1d678e40a160",
      "placeholder": "​",
      "style": "IPY_MODEL_89325c9398474f9c92f16c63156d3038",
      "value": " 548M/548M [00:06&lt;00:00, 164MB/s]"
     }
    },
    "2493c820244c4097a40125268920c512": {
     "model_module": "@jupyter-widgets/controls",
     "model_module_version": "1.5.0",
     "model_name": "HBoxModel",
     "state": {
      "_dom_classes": [],
      "_model_module": "@jupyter-widgets/controls",
      "_model_module_version": "1.5.0",
      "_model_name": "HBoxModel",
      "_view_count": null,
      "_view_module": "@jupyter-widgets/controls",
      "_view_module_version": "1.5.0",
      "_view_name": "HBoxView",
      "box_style": "",
      "children": [
       "IPY_MODEL_208deb72133c40a7a88e01add562fd60",
       "IPY_MODEL_1ea9534a1322429eba100f7a28b3cbb2",
       "IPY_MODEL_61d1ee6617f3473da9b5e40b1ac00fbf"
      ],
      "layout": "IPY_MODEL_a74b725d47d149d497dcb57a8f4b8df0"
     }
    },
    "271083e34adf45bb8aab6b1e85193706": {
     "model_module": "@jupyter-widgets/controls",
     "model_module_version": "1.5.0",
     "model_name": "FloatProgressModel",
     "state": {
      "_dom_classes": [],
      "_model_module": "@jupyter-widgets/controls",
      "_model_module_version": "1.5.0",
      "_model_name": "FloatProgressModel",
      "_view_count": null,
      "_view_module": "@jupyter-widgets/controls",
      "_view_module_version": "1.5.0",
      "_view_name": "ProgressView",
      "bar_style": "success",
      "description": "",
      "description_tooltip": null,
      "layout": "IPY_MODEL_e5109813dc714864851c06b46db9cae9",
      "max": 548105171,
      "min": 0,
      "orientation": "horizontal",
      "style": "IPY_MODEL_8234a4f00aef440c8ebd2069ff421853",
      "value": 548105171
     }
    },
    "27a4e299f86a47f6a77cb2fde6fd9607": {
     "model_module": "@jupyter-widgets/controls",
     "model_module_version": "1.5.0",
     "model_name": "DescriptionStyleModel",
     "state": {
      "_model_module": "@jupyter-widgets/controls",
      "_model_module_version": "1.5.0",
      "_model_name": "DescriptionStyleModel",
      "_view_count": null,
      "_view_module": "@jupyter-widgets/base",
      "_view_module_version": "1.2.0",
      "_view_name": "StyleView",
      "description_width": ""
     }
    },
    "280a539281a34d13878b1d678e40a160": {
     "model_module": "@jupyter-widgets/base",
     "model_module_version": "1.2.0",
     "model_name": "LayoutModel",
     "state": {
      "_model_module": "@jupyter-widgets/base",
      "_model_module_version": "1.2.0",
      "_model_name": "LayoutModel",
      "_view_count": null,
      "_view_module": "@jupyter-widgets/base",
      "_view_module_version": "1.2.0",
      "_view_name": "LayoutView",
      "align_content": null,
      "align_items": null,
      "align_self": null,
      "border": null,
      "bottom": null,
      "display": null,
      "flex": null,
      "flex_flow": null,
      "grid_area": null,
      "grid_auto_columns": null,
      "grid_auto_flow": null,
      "grid_auto_rows": null,
      "grid_column": null,
      "grid_gap": null,
      "grid_row": null,
      "grid_template_areas": null,
      "grid_template_columns": null,
      "grid_template_rows": null,
      "height": null,
      "justify_content": null,
      "justify_items": null,
      "left": null,
      "margin": null,
      "max_height": null,
      "max_width": null,
      "min_height": null,
      "min_width": null,
      "object_fit": null,
      "object_position": null,
      "order": null,
      "overflow": null,
      "overflow_x": null,
      "overflow_y": null,
      "padding": null,
      "right": null,
      "top": null,
      "visibility": null,
      "width": null
     }
    },
    "29a292bd94c4456d8fd0eeb4973c0670": {
     "model_module": "@jupyter-widgets/controls",
     "model_module_version": "1.5.0",
     "model_name": "DescriptionStyleModel",
     "state": {
      "_model_module": "@jupyter-widgets/controls",
      "_model_module_version": "1.5.0",
      "_model_name": "DescriptionStyleModel",
      "_view_count": null,
      "_view_module": "@jupyter-widgets/base",
      "_view_module_version": "1.2.0",
      "_view_name": "StyleView",
      "description_width": ""
     }
    },
    "29d95cc429b74415b08672657ab320c7": {
     "model_module": "@jupyter-widgets/base",
     "model_module_version": "1.2.0",
     "model_name": "LayoutModel",
     "state": {
      "_model_module": "@jupyter-widgets/base",
      "_model_module_version": "1.2.0",
      "_model_name": "LayoutModel",
      "_view_count": null,
      "_view_module": "@jupyter-widgets/base",
      "_view_module_version": "1.2.0",
      "_view_name": "LayoutView",
      "align_content": null,
      "align_items": null,
      "align_self": null,
      "border": null,
      "bottom": null,
      "display": null,
      "flex": null,
      "flex_flow": null,
      "grid_area": null,
      "grid_auto_columns": null,
      "grid_auto_flow": null,
      "grid_auto_rows": null,
      "grid_column": null,
      "grid_gap": null,
      "grid_row": null,
      "grid_template_areas": null,
      "grid_template_columns": null,
      "grid_template_rows": null,
      "height": null,
      "justify_content": null,
      "justify_items": null,
      "left": null,
      "margin": null,
      "max_height": null,
      "max_width": null,
      "min_height": null,
      "min_width": null,
      "object_fit": null,
      "object_position": null,
      "order": null,
      "overflow": null,
      "overflow_x": null,
      "overflow_y": null,
      "padding": null,
      "right": null,
      "top": null,
      "visibility": null,
      "width": null
     }
    },
    "29e05722f6d94e049658cace58933099": {
     "model_module": "@jupyter-widgets/controls",
     "model_module_version": "1.5.0",
     "model_name": "HBoxModel",
     "state": {
      "_dom_classes": [],
      "_model_module": "@jupyter-widgets/controls",
      "_model_module_version": "1.5.0",
      "_model_name": "HBoxModel",
      "_view_count": null,
      "_view_module": "@jupyter-widgets/controls",
      "_view_module_version": "1.5.0",
      "_view_name": "HBoxView",
      "box_style": "",
      "children": [
       "IPY_MODEL_e243128654cd4c44873240ecc4644a17",
       "IPY_MODEL_120b3e46872b41cdb2be157882b67ca4",
       "IPY_MODEL_9aba3a0e80c34c8790985250931253f1"
      ],
      "layout": "IPY_MODEL_2e61bcbdaa8d4ec299cc29ae92c80adb"
     }
    },
    "2a76cc1a0b46464bbd65fc92c4a64cc5": {
     "model_module": "@jupyter-widgets/base",
     "model_module_version": "1.2.0",
     "model_name": "LayoutModel",
     "state": {
      "_model_module": "@jupyter-widgets/base",
      "_model_module_version": "1.2.0",
      "_model_name": "LayoutModel",
      "_view_count": null,
      "_view_module": "@jupyter-widgets/base",
      "_view_module_version": "1.2.0",
      "_view_name": "LayoutView",
      "align_content": null,
      "align_items": null,
      "align_self": null,
      "border": null,
      "bottom": null,
      "display": null,
      "flex": null,
      "flex_flow": null,
      "grid_area": null,
      "grid_auto_columns": null,
      "grid_auto_flow": null,
      "grid_auto_rows": null,
      "grid_column": null,
      "grid_gap": null,
      "grid_row": null,
      "grid_template_areas": null,
      "grid_template_columns": null,
      "grid_template_rows": null,
      "height": null,
      "justify_content": null,
      "justify_items": null,
      "left": null,
      "margin": null,
      "max_height": null,
      "max_width": null,
      "min_height": null,
      "min_width": null,
      "object_fit": null,
      "object_position": null,
      "order": null,
      "overflow": null,
      "overflow_x": null,
      "overflow_y": null,
      "padding": null,
      "right": null,
      "top": null,
      "visibility": null,
      "width": null
     }
    },
    "2a81d0cf6f654efeac3f2522b7fc0186": {
     "model_module": "@jupyter-widgets/controls",
     "model_module_version": "1.5.0",
     "model_name": "DescriptionStyleModel",
     "state": {
      "_model_module": "@jupyter-widgets/controls",
      "_model_module_version": "1.5.0",
      "_model_name": "DescriptionStyleModel",
      "_view_count": null,
      "_view_module": "@jupyter-widgets/base",
      "_view_module_version": "1.2.0",
      "_view_name": "StyleView",
      "description_width": ""
     }
    },
    "2ac98ce69f164fdfbfb7ff99ddbec967": {
     "model_module": "@jupyter-widgets/controls",
     "model_module_version": "1.5.0",
     "model_name": "ProgressStyleModel",
     "state": {
      "_model_module": "@jupyter-widgets/controls",
      "_model_module_version": "1.5.0",
      "_model_name": "ProgressStyleModel",
      "_view_count": null,
      "_view_module": "@jupyter-widgets/base",
      "_view_module_version": "1.2.0",
      "_view_name": "StyleView",
      "bar_color": null,
      "description_width": ""
     }
    },
    "2d3e56d6572c45c7895b14699de36d87": {
     "model_module": "@jupyter-widgets/controls",
     "model_module_version": "1.5.0",
     "model_name": "HTMLModel",
     "state": {
      "_dom_classes": [],
      "_model_module": "@jupyter-widgets/controls",
      "_model_module_version": "1.5.0",
      "_model_name": "HTMLModel",
      "_view_count": null,
      "_view_module": "@jupyter-widgets/controls",
      "_view_module_version": "1.5.0",
      "_view_name": "HTMLView",
      "description": "",
      "description_tooltip": null,
      "layout": "IPY_MODEL_2a76cc1a0b46464bbd65fc92c4a64cc5",
      "placeholder": "​",
      "style": "IPY_MODEL_bf06dc9d10d247ec9971327d4dcc2b1a",
      "value": " 466k/466k [00:00&lt;00:00, 628kB/s]"
     }
    },
    "2daec0b4c2c941d2a2be950111102b2d": {
     "model_module": "@jupyter-widgets/base",
     "model_module_version": "1.2.0",
     "model_name": "LayoutModel",
     "state": {
      "_model_module": "@jupyter-widgets/base",
      "_model_module_version": "1.2.0",
      "_model_name": "LayoutModel",
      "_view_count": null,
      "_view_module": "@jupyter-widgets/base",
      "_view_module_version": "1.2.0",
      "_view_name": "LayoutView",
      "align_content": null,
      "align_items": null,
      "align_self": null,
      "border": null,
      "bottom": null,
      "display": null,
      "flex": null,
      "flex_flow": null,
      "grid_area": null,
      "grid_auto_columns": null,
      "grid_auto_flow": null,
      "grid_auto_rows": null,
      "grid_column": null,
      "grid_gap": null,
      "grid_row": null,
      "grid_template_areas": null,
      "grid_template_columns": null,
      "grid_template_rows": null,
      "height": null,
      "justify_content": null,
      "justify_items": null,
      "left": null,
      "margin": null,
      "max_height": null,
      "max_width": null,
      "min_height": null,
      "min_width": null,
      "object_fit": null,
      "object_position": null,
      "order": null,
      "overflow": null,
      "overflow_x": null,
      "overflow_y": null,
      "padding": null,
      "right": null,
      "top": null,
      "visibility": null,
      "width": null
     }
    },
    "2db54785b3554d46811fde033a15dc17": {
     "model_module": "@jupyter-widgets/controls",
     "model_module_version": "1.5.0",
     "model_name": "DescriptionStyleModel",
     "state": {
      "_model_module": "@jupyter-widgets/controls",
      "_model_module_version": "1.5.0",
      "_model_name": "DescriptionStyleModel",
      "_view_count": null,
      "_view_module": "@jupyter-widgets/base",
      "_view_module_version": "1.2.0",
      "_view_name": "StyleView",
      "description_width": ""
     }
    },
    "2de16307e11046418b98b90111b4009b": {
     "model_module": "@jupyter-widgets/controls",
     "model_module_version": "1.5.0",
     "model_name": "HBoxModel",
     "state": {
      "_dom_classes": [],
      "_model_module": "@jupyter-widgets/controls",
      "_model_module_version": "1.5.0",
      "_model_name": "HBoxModel",
      "_view_count": null,
      "_view_module": "@jupyter-widgets/controls",
      "_view_module_version": "1.5.0",
      "_view_name": "HBoxView",
      "box_style": "",
      "children": [
       "IPY_MODEL_9a78ed83139b4f26bf8282022e3c403e",
       "IPY_MODEL_046484ba77494b55acb7e13ed55a3487",
       "IPY_MODEL_12e1763b7a9b4ae78074cee4b5a409a3"
      ],
      "layout": "IPY_MODEL_47fddc1c2c074d87a6050b2a26d859f1"
     }
    },
    "2dfc9768d7a8421da53d9c812e7d9e8a": {
     "model_module": "@jupyter-widgets/controls",
     "model_module_version": "1.5.0",
     "model_name": "DescriptionStyleModel",
     "state": {
      "_model_module": "@jupyter-widgets/controls",
      "_model_module_version": "1.5.0",
      "_model_name": "DescriptionStyleModel",
      "_view_count": null,
      "_view_module": "@jupyter-widgets/base",
      "_view_module_version": "1.2.0",
      "_view_name": "StyleView",
      "description_width": ""
     }
    },
    "2e61bcbdaa8d4ec299cc29ae92c80adb": {
     "model_module": "@jupyter-widgets/base",
     "model_module_version": "1.2.0",
     "model_name": "LayoutModel",
     "state": {
      "_model_module": "@jupyter-widgets/base",
      "_model_module_version": "1.2.0",
      "_model_name": "LayoutModel",
      "_view_count": null,
      "_view_module": "@jupyter-widgets/base",
      "_view_module_version": "1.2.0",
      "_view_name": "LayoutView",
      "align_content": null,
      "align_items": null,
      "align_self": null,
      "border": null,
      "bottom": null,
      "display": null,
      "flex": null,
      "flex_flow": null,
      "grid_area": null,
      "grid_auto_columns": null,
      "grid_auto_flow": null,
      "grid_auto_rows": null,
      "grid_column": null,
      "grid_gap": null,
      "grid_row": null,
      "grid_template_areas": null,
      "grid_template_columns": null,
      "grid_template_rows": null,
      "height": null,
      "justify_content": null,
      "justify_items": null,
      "left": null,
      "margin": null,
      "max_height": null,
      "max_width": null,
      "min_height": null,
      "min_width": null,
      "object_fit": null,
      "object_position": null,
      "order": null,
      "overflow": null,
      "overflow_x": null,
      "overflow_y": null,
      "padding": null,
      "right": null,
      "top": null,
      "visibility": null,
      "width": null
     }
    },
    "2ee47a205c904782bdef418c25b89838": {
     "model_module": "@jupyter-widgets/base",
     "model_module_version": "1.2.0",
     "model_name": "LayoutModel",
     "state": {
      "_model_module": "@jupyter-widgets/base",
      "_model_module_version": "1.2.0",
      "_model_name": "LayoutModel",
      "_view_count": null,
      "_view_module": "@jupyter-widgets/base",
      "_view_module_version": "1.2.0",
      "_view_name": "LayoutView",
      "align_content": null,
      "align_items": null,
      "align_self": null,
      "border": null,
      "bottom": null,
      "display": null,
      "flex": null,
      "flex_flow": null,
      "grid_area": null,
      "grid_auto_columns": null,
      "grid_auto_flow": null,
      "grid_auto_rows": null,
      "grid_column": null,
      "grid_gap": null,
      "grid_row": null,
      "grid_template_areas": null,
      "grid_template_columns": null,
      "grid_template_rows": null,
      "height": null,
      "justify_content": null,
      "justify_items": null,
      "left": null,
      "margin": null,
      "max_height": null,
      "max_width": null,
      "min_height": null,
      "min_width": null,
      "object_fit": null,
      "object_position": null,
      "order": null,
      "overflow": null,
      "overflow_x": null,
      "overflow_y": null,
      "padding": null,
      "right": null,
      "top": null,
      "visibility": null,
      "width": null
     }
    },
    "2ef29cf73ea14794b8aaf9e3ccc78940": {
     "model_module": "@jupyter-widgets/base",
     "model_module_version": "1.2.0",
     "model_name": "LayoutModel",
     "state": {
      "_model_module": "@jupyter-widgets/base",
      "_model_module_version": "1.2.0",
      "_model_name": "LayoutModel",
      "_view_count": null,
      "_view_module": "@jupyter-widgets/base",
      "_view_module_version": "1.2.0",
      "_view_name": "LayoutView",
      "align_content": null,
      "align_items": null,
      "align_self": null,
      "border": null,
      "bottom": null,
      "display": null,
      "flex": null,
      "flex_flow": null,
      "grid_area": null,
      "grid_auto_columns": null,
      "grid_auto_flow": null,
      "grid_auto_rows": null,
      "grid_column": null,
      "grid_gap": null,
      "grid_row": null,
      "grid_template_areas": null,
      "grid_template_columns": null,
      "grid_template_rows": null,
      "height": null,
      "justify_content": null,
      "justify_items": null,
      "left": null,
      "margin": null,
      "max_height": null,
      "max_width": null,
      "min_height": null,
      "min_width": null,
      "object_fit": null,
      "object_position": null,
      "order": null,
      "overflow": null,
      "overflow_x": null,
      "overflow_y": null,
      "padding": null,
      "right": null,
      "top": null,
      "visibility": null,
      "width": null
     }
    },
    "2f488a3c842045d5ac7cc843f482427e": {
     "model_module": "@jupyter-widgets/controls",
     "model_module_version": "1.5.0",
     "model_name": "FloatProgressModel",
     "state": {
      "_dom_classes": [],
      "_model_module": "@jupyter-widgets/controls",
      "_model_module_version": "1.5.0",
      "_model_name": "FloatProgressModel",
      "_view_count": null,
      "_view_module": "@jupyter-widgets/controls",
      "_view_module_version": "1.5.0",
      "_view_name": "ProgressView",
      "bar_style": "success",
      "description": "",
      "description_tooltip": null,
      "layout": "IPY_MODEL_b3735b82dae8447faaca2f82af9d39c6",
      "max": 1042301,
      "min": 0,
      "orientation": "horizontal",
      "style": "IPY_MODEL_f244396283914d16baacaf5d6f76abac",
      "value": 1042301
     }
    },
    "305ec2194a844366910861a1c2b73201": {
     "model_module": "@jupyter-widgets/controls",
     "model_module_version": "1.5.0",
     "model_name": "ProgressStyleModel",
     "state": {
      "_model_module": "@jupyter-widgets/controls",
      "_model_module_version": "1.5.0",
      "_model_name": "ProgressStyleModel",
      "_view_count": null,
      "_view_module": "@jupyter-widgets/base",
      "_view_module_version": "1.2.0",
      "_view_name": "StyleView",
      "bar_color": null,
      "description_width": ""
     }
    },
    "311e3440f7a74343af959514ab41f35c": {
     "model_module": "@jupyter-widgets/controls",
     "model_module_version": "1.5.0",
     "model_name": "DescriptionStyleModel",
     "state": {
      "_model_module": "@jupyter-widgets/controls",
      "_model_module_version": "1.5.0",
      "_model_name": "DescriptionStyleModel",
      "_view_count": null,
      "_view_module": "@jupyter-widgets/base",
      "_view_module_version": "1.2.0",
      "_view_name": "StyleView",
      "description_width": ""
     }
    },
    "3133811b808e4fdfbcdaf81abb3a994e": {
     "model_module": "@jupyter-widgets/base",
     "model_module_version": "1.2.0",
     "model_name": "LayoutModel",
     "state": {
      "_model_module": "@jupyter-widgets/base",
      "_model_module_version": "1.2.0",
      "_model_name": "LayoutModel",
      "_view_count": null,
      "_view_module": "@jupyter-widgets/base",
      "_view_module_version": "1.2.0",
      "_view_name": "LayoutView",
      "align_content": null,
      "align_items": null,
      "align_self": null,
      "border": null,
      "bottom": null,
      "display": null,
      "flex": null,
      "flex_flow": null,
      "grid_area": null,
      "grid_auto_columns": null,
      "grid_auto_flow": null,
      "grid_auto_rows": null,
      "grid_column": null,
      "grid_gap": null,
      "grid_row": null,
      "grid_template_areas": null,
      "grid_template_columns": null,
      "grid_template_rows": null,
      "height": null,
      "justify_content": null,
      "justify_items": null,
      "left": null,
      "margin": null,
      "max_height": null,
      "max_width": null,
      "min_height": null,
      "min_width": null,
      "object_fit": null,
      "object_position": null,
      "order": null,
      "overflow": null,
      "overflow_x": null,
      "overflow_y": null,
      "padding": null,
      "right": null,
      "top": null,
      "visibility": null,
      "width": null
     }
    },
    "32945d26f3504f99a1b2140cd83d121e": {
     "model_module": "@jupyter-widgets/base",
     "model_module_version": "1.2.0",
     "model_name": "LayoutModel",
     "state": {
      "_model_module": "@jupyter-widgets/base",
      "_model_module_version": "1.2.0",
      "_model_name": "LayoutModel",
      "_view_count": null,
      "_view_module": "@jupyter-widgets/base",
      "_view_module_version": "1.2.0",
      "_view_name": "LayoutView",
      "align_content": null,
      "align_items": null,
      "align_self": null,
      "border": null,
      "bottom": null,
      "display": null,
      "flex": null,
      "flex_flow": null,
      "grid_area": null,
      "grid_auto_columns": null,
      "grid_auto_flow": null,
      "grid_auto_rows": null,
      "grid_column": null,
      "grid_gap": null,
      "grid_row": null,
      "grid_template_areas": null,
      "grid_template_columns": null,
      "grid_template_rows": null,
      "height": null,
      "justify_content": null,
      "justify_items": null,
      "left": null,
      "margin": null,
      "max_height": null,
      "max_width": null,
      "min_height": null,
      "min_width": null,
      "object_fit": null,
      "object_position": null,
      "order": null,
      "overflow": null,
      "overflow_x": null,
      "overflow_y": null,
      "padding": null,
      "right": null,
      "top": null,
      "visibility": null,
      "width": null
     }
    },
    "33268ee44c654b9e9154dae67b432ddc": {
     "model_module": "@jupyter-widgets/controls",
     "model_module_version": "1.5.0",
     "model_name": "HBoxModel",
     "state": {
      "_dom_classes": [],
      "_model_module": "@jupyter-widgets/controls",
      "_model_module_version": "1.5.0",
      "_model_name": "HBoxModel",
      "_view_count": null,
      "_view_module": "@jupyter-widgets/controls",
      "_view_module_version": "1.5.0",
      "_view_name": "HBoxView",
      "box_style": "",
      "children": [
       "IPY_MODEL_e9fe5354ad2749b6a3bb9d301a883f29",
       "IPY_MODEL_f145daed41fc44b3a65c58b81470c919",
       "IPY_MODEL_6c8aa9cbdfa64cba90c1c3ee782cf348"
      ],
      "layout": "IPY_MODEL_152381e5fe68427393a8a334a98e14a5"
     }
    },
    "33d1d6cd77c545d48c0cdc2a4207f05a": {
     "model_module": "@jupyter-widgets/base",
     "model_module_version": "1.2.0",
     "model_name": "LayoutModel",
     "state": {
      "_model_module": "@jupyter-widgets/base",
      "_model_module_version": "1.2.0",
      "_model_name": "LayoutModel",
      "_view_count": null,
      "_view_module": "@jupyter-widgets/base",
      "_view_module_version": "1.2.0",
      "_view_name": "LayoutView",
      "align_content": null,
      "align_items": null,
      "align_self": null,
      "border": null,
      "bottom": null,
      "display": null,
      "flex": null,
      "flex_flow": null,
      "grid_area": null,
      "grid_auto_columns": null,
      "grid_auto_flow": null,
      "grid_auto_rows": null,
      "grid_column": null,
      "grid_gap": null,
      "grid_row": null,
      "grid_template_areas": null,
      "grid_template_columns": null,
      "grid_template_rows": null,
      "height": null,
      "justify_content": null,
      "justify_items": null,
      "left": null,
      "margin": null,
      "max_height": null,
      "max_width": null,
      "min_height": null,
      "min_width": null,
      "object_fit": null,
      "object_position": null,
      "order": null,
      "overflow": null,
      "overflow_x": null,
      "overflow_y": null,
      "padding": null,
      "right": null,
      "top": null,
      "visibility": null,
      "width": null
     }
    },
    "340765c79f7b4b1fa7dc51f0db682e9c": {
     "model_module": "@jupyter-widgets/base",
     "model_module_version": "1.2.0",
     "model_name": "LayoutModel",
     "state": {
      "_model_module": "@jupyter-widgets/base",
      "_model_module_version": "1.2.0",
      "_model_name": "LayoutModel",
      "_view_count": null,
      "_view_module": "@jupyter-widgets/base",
      "_view_module_version": "1.2.0",
      "_view_name": "LayoutView",
      "align_content": null,
      "align_items": null,
      "align_self": null,
      "border": null,
      "bottom": null,
      "display": null,
      "flex": null,
      "flex_flow": null,
      "grid_area": null,
      "grid_auto_columns": null,
      "grid_auto_flow": null,
      "grid_auto_rows": null,
      "grid_column": null,
      "grid_gap": null,
      "grid_row": null,
      "grid_template_areas": null,
      "grid_template_columns": null,
      "grid_template_rows": null,
      "height": null,
      "justify_content": null,
      "justify_items": null,
      "left": null,
      "margin": null,
      "max_height": null,
      "max_width": null,
      "min_height": null,
      "min_width": null,
      "object_fit": null,
      "object_position": null,
      "order": null,
      "overflow": null,
      "overflow_x": null,
      "overflow_y": null,
      "padding": null,
      "right": null,
      "top": null,
      "visibility": null,
      "width": null
     }
    },
    "34ea08329bce40839467041d8d675b0b": {
     "model_module": "@jupyter-widgets/controls",
     "model_module_version": "1.5.0",
     "model_name": "FloatProgressModel",
     "state": {
      "_dom_classes": [],
      "_model_module": "@jupyter-widgets/controls",
      "_model_module_version": "1.5.0",
      "_model_name": "FloatProgressModel",
      "_view_count": null,
      "_view_module": "@jupyter-widgets/controls",
      "_view_module_version": "1.5.0",
      "_view_name": "ProgressView",
      "bar_style": "success",
      "description": "",
      "description_tooltip": null,
      "layout": "IPY_MODEL_937d3dea8a2547f38287f8c61c8a3b8e",
      "max": 1289,
      "min": 0,
      "orientation": "horizontal",
      "style": "IPY_MODEL_5e9280d23a81451da9d5898d9f5684b6",
      "value": 1289
     }
    },
    "3560a5a7dea44f0fb8b56a5f83fd5597": {
     "model_module": "@jupyter-widgets/controls",
     "model_module_version": "1.5.0",
     "model_name": "DescriptionStyleModel",
     "state": {
      "_model_module": "@jupyter-widgets/controls",
      "_model_module_version": "1.5.0",
      "_model_name": "DescriptionStyleModel",
      "_view_count": null,
      "_view_module": "@jupyter-widgets/base",
      "_view_module_version": "1.2.0",
      "_view_name": "StyleView",
      "description_width": ""
     }
    },
    "35f6d77e4970448088eef39b7fbec3e0": {
     "model_module": "@jupyter-widgets/base",
     "model_module_version": "1.2.0",
     "model_name": "LayoutModel",
     "state": {
      "_model_module": "@jupyter-widgets/base",
      "_model_module_version": "1.2.0",
      "_model_name": "LayoutModel",
      "_view_count": null,
      "_view_module": "@jupyter-widgets/base",
      "_view_module_version": "1.2.0",
      "_view_name": "LayoutView",
      "align_content": null,
      "align_items": null,
      "align_self": null,
      "border": null,
      "bottom": null,
      "display": null,
      "flex": null,
      "flex_flow": null,
      "grid_area": null,
      "grid_auto_columns": null,
      "grid_auto_flow": null,
      "grid_auto_rows": null,
      "grid_column": null,
      "grid_gap": null,
      "grid_row": null,
      "grid_template_areas": null,
      "grid_template_columns": null,
      "grid_template_rows": null,
      "height": null,
      "justify_content": null,
      "justify_items": null,
      "left": null,
      "margin": null,
      "max_height": null,
      "max_width": null,
      "min_height": null,
      "min_width": null,
      "object_fit": null,
      "object_position": null,
      "order": null,
      "overflow": null,
      "overflow_x": null,
      "overflow_y": null,
      "padding": null,
      "right": null,
      "top": null,
      "visibility": null,
      "width": null
     }
    },
    "37f56d81b5664fbe933e6c31826a37e4": {
     "model_module": "@jupyter-widgets/controls",
     "model_module_version": "1.5.0",
     "model_name": "HTMLModel",
     "state": {
      "_dom_classes": [],
      "_model_module": "@jupyter-widgets/controls",
      "_model_module_version": "1.5.0",
      "_model_name": "HTMLModel",
      "_view_count": null,
      "_view_module": "@jupyter-widgets/controls",
      "_view_module_version": "1.5.0",
      "_view_name": "HTMLView",
      "description": "",
      "description_tooltip": null,
      "layout": "IPY_MODEL_f12b26bf7ecb4040b23d9d8c2fff7a6e",
      "placeholder": "​",
      "style": "IPY_MODEL_deb8982bab804d5c9fa3ba7627fad8d2",
      "value": "vocab.json: 100%"
     }
    },
    "3871c4f951d94bd1a86dc61312e3b6d0": {
     "model_module": "@jupyter-widgets/controls",
     "model_module_version": "1.5.0",
     "model_name": "HTMLModel",
     "state": {
      "_dom_classes": [],
      "_model_module": "@jupyter-widgets/controls",
      "_model_module_version": "1.5.0",
      "_model_name": "HTMLModel",
      "_view_count": null,
      "_view_module": "@jupyter-widgets/controls",
      "_view_module_version": "1.5.0",
      "_view_name": "HTMLView",
      "description": "",
      "description_tooltip": null,
      "layout": "IPY_MODEL_df66efedce50453f83d29acdd5f8b10e",
      "placeholder": "​",
      "style": "IPY_MODEL_441949f9bf114b879fb153334abb910b",
      "value": " 323/323 [00:00&lt;00:00, 3142.20 examples/s]"
     }
    },
    "387e47830d614fe8ba6758c7485a820c": {
     "model_module": "@jupyter-widgets/controls",
     "model_module_version": "1.5.0",
     "model_name": "HTMLModel",
     "state": {
      "_dom_classes": [],
      "_model_module": "@jupyter-widgets/controls",
      "_model_module_version": "1.5.0",
      "_model_name": "HTMLModel",
      "_view_count": null,
      "_view_module": "@jupyter-widgets/controls",
      "_view_module_version": "1.5.0",
      "_view_name": "HTMLView",
      "description": "",
      "description_tooltip": null,
      "layout": "IPY_MODEL_8d567116324241c88d40d887ba44bbd1",
      "placeholder": "​",
      "style": "IPY_MODEL_edfecdad72b345c2ab68a674e3aee9ff",
      "value": "generation_config.json: 100%"
     }
    },
    "397a0d9b88b2483ab2736037772e97e8": {
     "model_module": "@jupyter-widgets/controls",
     "model_module_version": "1.5.0",
     "model_name": "DescriptionStyleModel",
     "state": {
      "_model_module": "@jupyter-widgets/controls",
      "_model_module_version": "1.5.0",
      "_model_name": "DescriptionStyleModel",
      "_view_count": null,
      "_view_module": "@jupyter-widgets/base",
      "_view_module_version": "1.2.0",
      "_view_name": "StyleView",
      "description_width": ""
     }
    },
    "3ac42e6d69fc4ea581d0fd3d1f77ea47": {
     "model_module": "@jupyter-widgets/controls",
     "model_module_version": "1.5.0",
     "model_name": "HTMLModel",
     "state": {
      "_dom_classes": [],
      "_model_module": "@jupyter-widgets/controls",
      "_model_module_version": "1.5.0",
      "_model_name": "HTMLModel",
      "_view_count": null,
      "_view_module": "@jupyter-widgets/controls",
      "_view_module_version": "1.5.0",
      "_view_name": "HTMLView",
      "description": "",
      "description_tooltip": null,
      "layout": "IPY_MODEL_64fe242aa6184a7cbff04d4043267e05",
      "placeholder": "​",
      "style": "IPY_MODEL_a37527a86b78442f98e2591652d9075f",
      "value": " 483/483 [00:00&lt;00:00, 30.3kB/s]"
     }
    },
    "3b0e267772fa48fa87c6cc767885a590": {
     "model_module": "@jupyter-widgets/controls",
     "model_module_version": "1.5.0",
     "model_name": "HTMLModel",
     "state": {
      "_dom_classes": [],
      "_model_module": "@jupyter-widgets/controls",
      "_model_module_version": "1.5.0",
      "_model_name": "HTMLModel",
      "_view_count": null,
      "_view_module": "@jupyter-widgets/controls",
      "_view_module_version": "1.5.0",
      "_view_name": "HTMLView",
      "description": "",
      "description_tooltip": null,
      "layout": "IPY_MODEL_a647eaa49402408b8b10d8efb4c19bfd",
      "placeholder": "​",
      "style": "IPY_MODEL_4e505ed8ff2d4b62b139dbc7631f83bd",
      "value": " 1612/0 [00:00&lt;00:00, 18850.65 examples/s]"
     }
    },
    "3b2ed30f07e844388dae47f81d9ea65b": {
     "model_module": "@jupyter-widgets/controls",
     "model_module_version": "1.5.0",
     "model_name": "FloatProgressModel",
     "state": {
      "_dom_classes": [],
      "_model_module": "@jupyter-widgets/controls",
      "_model_module_version": "1.5.0",
      "_model_name": "FloatProgressModel",
      "_view_count": null,
      "_view_module": "@jupyter-widgets/controls",
      "_view_module_version": "1.5.0",
      "_view_name": "ProgressView",
      "bar_style": "success",
      "description": "",
      "description_tooltip": null,
      "layout": "IPY_MODEL_960de534753949ada3cc727372f0db1d",
      "max": 665,
      "min": 0,
      "orientation": "horizontal",
      "style": "IPY_MODEL_9e6171a639f544ceb56c091c57d9e619",
      "value": 665
     }
    },
    "3c290ca9b843494ea748504e4dd17655": {
     "model_module": "@jupyter-widgets/controls",
     "model_module_version": "1.5.0",
     "model_name": "ProgressStyleModel",
     "state": {
      "_model_module": "@jupyter-widgets/controls",
      "_model_module_version": "1.5.0",
      "_model_name": "ProgressStyleModel",
      "_view_count": null,
      "_view_module": "@jupyter-widgets/base",
      "_view_module_version": "1.2.0",
      "_view_name": "StyleView",
      "bar_color": null,
      "description_width": ""
     }
    },
    "3c42b1fb09cb44a2aef8cdd4c7961808": {
     "model_module": "@jupyter-widgets/controls",
     "model_module_version": "1.5.0",
     "model_name": "HTMLModel",
     "state": {
      "_dom_classes": [],
      "_model_module": "@jupyter-widgets/controls",
      "_model_module_version": "1.5.0",
      "_model_name": "HTMLModel",
      "_view_count": null,
      "_view_module": "@jupyter-widgets/controls",
      "_view_module_version": "1.5.0",
      "_view_name": "HTMLView",
      "description": "",
      "description_tooltip": null,
      "layout": "IPY_MODEL_aa43590e7815414fbaea8accf7ae9297",
      "placeholder": "​",
      "style": "IPY_MODEL_90045b8b64324f729cb4e0873108546b",
      "value": "Map: 100%"
     }
    },
    "3c644b03c6ca4f388efbfe3f9cd573a4": {
     "model_module": "@jupyter-widgets/base",
     "model_module_version": "1.2.0",
     "model_name": "LayoutModel",
     "state": {
      "_model_module": "@jupyter-widgets/base",
      "_model_module_version": "1.2.0",
      "_model_name": "LayoutModel",
      "_view_count": null,
      "_view_module": "@jupyter-widgets/base",
      "_view_module_version": "1.2.0",
      "_view_name": "LayoutView",
      "align_content": null,
      "align_items": null,
      "align_self": null,
      "border": null,
      "bottom": null,
      "display": null,
      "flex": null,
      "flex_flow": null,
      "grid_area": null,
      "grid_auto_columns": null,
      "grid_auto_flow": null,
      "grid_auto_rows": null,
      "grid_column": null,
      "grid_gap": null,
      "grid_row": null,
      "grid_template_areas": null,
      "grid_template_columns": null,
      "grid_template_rows": null,
      "height": null,
      "justify_content": null,
      "justify_items": null,
      "left": null,
      "margin": null,
      "max_height": null,
      "max_width": null,
      "min_height": null,
      "min_width": null,
      "object_fit": null,
      "object_position": null,
      "order": null,
      "overflow": null,
      "overflow_x": null,
      "overflow_y": null,
      "padding": null,
      "right": null,
      "top": null,
      "visibility": null,
      "width": null
     }
    },
    "3e08a44cdaee4ec18a767c85d61e89cb": {
     "model_module": "@jupyter-widgets/base",
     "model_module_version": "1.2.0",
     "model_name": "LayoutModel",
     "state": {
      "_model_module": "@jupyter-widgets/base",
      "_model_module_version": "1.2.0",
      "_model_name": "LayoutModel",
      "_view_count": null,
      "_view_module": "@jupyter-widgets/base",
      "_view_module_version": "1.2.0",
      "_view_name": "LayoutView",
      "align_content": null,
      "align_items": null,
      "align_self": null,
      "border": null,
      "bottom": null,
      "display": null,
      "flex": null,
      "flex_flow": null,
      "grid_area": null,
      "grid_auto_columns": null,
      "grid_auto_flow": null,
      "grid_auto_rows": null,
      "grid_column": null,
      "grid_gap": null,
      "grid_row": null,
      "grid_template_areas": null,
      "grid_template_columns": null,
      "grid_template_rows": null,
      "height": null,
      "justify_content": null,
      "justify_items": null,
      "left": null,
      "margin": null,
      "max_height": null,
      "max_width": null,
      "min_height": null,
      "min_width": null,
      "object_fit": null,
      "object_position": null,
      "order": null,
      "overflow": null,
      "overflow_x": null,
      "overflow_y": null,
      "padding": null,
      "right": null,
      "top": null,
      "visibility": null,
      "width": null
     }
    },
    "3e852e6825214df7bcda82aa091b55d1": {
     "model_module": "@jupyter-widgets/controls",
     "model_module_version": "1.5.0",
     "model_name": "HTMLModel",
     "state": {
      "_dom_classes": [],
      "_model_module": "@jupyter-widgets/controls",
      "_model_module_version": "1.5.0",
      "_model_name": "HTMLModel",
      "_view_count": null,
      "_view_module": "@jupyter-widgets/controls",
      "_view_module_version": "1.5.0",
      "_view_name": "HTMLView",
      "description": "",
      "description_tooltip": null,
      "layout": "IPY_MODEL_421997ecbc63432bbf12a049630dabab",
      "placeholder": "​",
      "style": "IPY_MODEL_08ef888fa03449dfbfed2c38b82b7008",
      "value": "config.json: 100%"
     }
    },
    "3f3fadc89d2d4144a814b69d511a5dd7": {
     "model_module": "@jupyter-widgets/base",
     "model_module_version": "1.2.0",
     "model_name": "LayoutModel",
     "state": {
      "_model_module": "@jupyter-widgets/base",
      "_model_module_version": "1.2.0",
      "_model_name": "LayoutModel",
      "_view_count": null,
      "_view_module": "@jupyter-widgets/base",
      "_view_module_version": "1.2.0",
      "_view_name": "LayoutView",
      "align_content": null,
      "align_items": null,
      "align_self": null,
      "border": null,
      "bottom": null,
      "display": null,
      "flex": null,
      "flex_flow": null,
      "grid_area": null,
      "grid_auto_columns": null,
      "grid_auto_flow": null,
      "grid_auto_rows": null,
      "grid_column": null,
      "grid_gap": null,
      "grid_row": null,
      "grid_template_areas": null,
      "grid_template_columns": null,
      "grid_template_rows": null,
      "height": null,
      "justify_content": null,
      "justify_items": null,
      "left": null,
      "margin": null,
      "max_height": null,
      "max_width": null,
      "min_height": null,
      "min_width": null,
      "object_fit": null,
      "object_position": null,
      "order": null,
      "overflow": null,
      "overflow_x": null,
      "overflow_y": null,
      "padding": null,
      "right": null,
      "top": null,
      "visibility": null,
      "width": null
     }
    },
    "3f6daa12dce64d348ddd971c5417726e": {
     "model_module": "@jupyter-widgets/controls",
     "model_module_version": "1.5.0",
     "model_name": "DescriptionStyleModel",
     "state": {
      "_model_module": "@jupyter-widgets/controls",
      "_model_module_version": "1.5.0",
      "_model_name": "DescriptionStyleModel",
      "_view_count": null,
      "_view_module": "@jupyter-widgets/base",
      "_view_module_version": "1.2.0",
      "_view_name": "StyleView",
      "description_width": ""
     }
    },
    "4086656b8cc54030b47a881760d396e4": {
     "model_module": "@jupyter-widgets/base",
     "model_module_version": "1.2.0",
     "model_name": "LayoutModel",
     "state": {
      "_model_module": "@jupyter-widgets/base",
      "_model_module_version": "1.2.0",
      "_model_name": "LayoutModel",
      "_view_count": null,
      "_view_module": "@jupyter-widgets/base",
      "_view_module_version": "1.2.0",
      "_view_name": "LayoutView",
      "align_content": null,
      "align_items": null,
      "align_self": null,
      "border": null,
      "bottom": null,
      "display": null,
      "flex": null,
      "flex_flow": null,
      "grid_area": null,
      "grid_auto_columns": null,
      "grid_auto_flow": null,
      "grid_auto_rows": null,
      "grid_column": null,
      "grid_gap": null,
      "grid_row": null,
      "grid_template_areas": null,
      "grid_template_columns": null,
      "grid_template_rows": null,
      "height": null,
      "justify_content": null,
      "justify_items": null,
      "left": null,
      "margin": null,
      "max_height": null,
      "max_width": null,
      "min_height": null,
      "min_width": null,
      "object_fit": null,
      "object_position": null,
      "order": null,
      "overflow": null,
      "overflow_x": null,
      "overflow_y": null,
      "padding": null,
      "right": null,
      "top": null,
      "visibility": null,
      "width": null
     }
    },
    "421997ecbc63432bbf12a049630dabab": {
     "model_module": "@jupyter-widgets/base",
     "model_module_version": "1.2.0",
     "model_name": "LayoutModel",
     "state": {
      "_model_module": "@jupyter-widgets/base",
      "_model_module_version": "1.2.0",
      "_model_name": "LayoutModel",
      "_view_count": null,
      "_view_module": "@jupyter-widgets/base",
      "_view_module_version": "1.2.0",
      "_view_name": "LayoutView",
      "align_content": null,
      "align_items": null,
      "align_self": null,
      "border": null,
      "bottom": null,
      "display": null,
      "flex": null,
      "flex_flow": null,
      "grid_area": null,
      "grid_auto_columns": null,
      "grid_auto_flow": null,
      "grid_auto_rows": null,
      "grid_column": null,
      "grid_gap": null,
      "grid_row": null,
      "grid_template_areas": null,
      "grid_template_columns": null,
      "grid_template_rows": null,
      "height": null,
      "justify_content": null,
      "justify_items": null,
      "left": null,
      "margin": null,
      "max_height": null,
      "max_width": null,
      "min_height": null,
      "min_width": null,
      "object_fit": null,
      "object_position": null,
      "order": null,
      "overflow": null,
      "overflow_x": null,
      "overflow_y": null,
      "padding": null,
      "right": null,
      "top": null,
      "visibility": null,
      "width": null
     }
    },
    "4262c25b50d945fbbac58cb13f2cf4aa": {
     "model_module": "@jupyter-widgets/controls",
     "model_module_version": "1.5.0",
     "model_name": "HTMLModel",
     "state": {
      "_dom_classes": [],
      "_model_module": "@jupyter-widgets/controls",
      "_model_module_version": "1.5.0",
      "_model_name": "HTMLModel",
      "_view_count": null,
      "_view_module": "@jupyter-widgets/controls",
      "_view_module_version": "1.5.0",
      "_view_name": "HTMLView",
      "description": "",
      "description_tooltip": null,
      "layout": "IPY_MODEL_42f3c23f79804b588e05bfddb0442b09",
      "placeholder": "​",
      "style": "IPY_MODEL_ef3fc375222e4cf4a835fa898253cd8d",
      "value": "Map: 100%"
     }
    },
    "42d404e579f04988813895e1d0212f81": {
     "model_module": "@jupyter-widgets/controls",
     "model_module_version": "1.5.0",
     "model_name": "DescriptionStyleModel",
     "state": {
      "_model_module": "@jupyter-widgets/controls",
      "_model_module_version": "1.5.0",
      "_model_name": "DescriptionStyleModel",
      "_view_count": null,
      "_view_module": "@jupyter-widgets/base",
      "_view_module_version": "1.2.0",
      "_view_name": "StyleView",
      "description_width": ""
     }
    },
    "42dcbe8766f74de69749e3e0600e3829": {
     "model_module": "@jupyter-widgets/controls",
     "model_module_version": "1.5.0",
     "model_name": "DescriptionStyleModel",
     "state": {
      "_model_module": "@jupyter-widgets/controls",
      "_model_module_version": "1.5.0",
      "_model_name": "DescriptionStyleModel",
      "_view_count": null,
      "_view_module": "@jupyter-widgets/base",
      "_view_module_version": "1.2.0",
      "_view_name": "StyleView",
      "description_width": ""
     }
    },
    "42f3c23f79804b588e05bfddb0442b09": {
     "model_module": "@jupyter-widgets/base",
     "model_module_version": "1.2.0",
     "model_name": "LayoutModel",
     "state": {
      "_model_module": "@jupyter-widgets/base",
      "_model_module_version": "1.2.0",
      "_model_name": "LayoutModel",
      "_view_count": null,
      "_view_module": "@jupyter-widgets/base",
      "_view_module_version": "1.2.0",
      "_view_name": "LayoutView",
      "align_content": null,
      "align_items": null,
      "align_self": null,
      "border": null,
      "bottom": null,
      "display": null,
      "flex": null,
      "flex_flow": null,
      "grid_area": null,
      "grid_auto_columns": null,
      "grid_auto_flow": null,
      "grid_auto_rows": null,
      "grid_column": null,
      "grid_gap": null,
      "grid_row": null,
      "grid_template_areas": null,
      "grid_template_columns": null,
      "grid_template_rows": null,
      "height": null,
      "justify_content": null,
      "justify_items": null,
      "left": null,
      "margin": null,
      "max_height": null,
      "max_width": null,
      "min_height": null,
      "min_width": null,
      "object_fit": null,
      "object_position": null,
      "order": null,
      "overflow": null,
      "overflow_x": null,
      "overflow_y": null,
      "padding": null,
      "right": null,
      "top": null,
      "visibility": null,
      "width": null
     }
    },
    "4390ce9b054e4e44948a4afa1adfd214": {
     "model_module": "@jupyter-widgets/base",
     "model_module_version": "1.2.0",
     "model_name": "LayoutModel",
     "state": {
      "_model_module": "@jupyter-widgets/base",
      "_model_module_version": "1.2.0",
      "_model_name": "LayoutModel",
      "_view_count": null,
      "_view_module": "@jupyter-widgets/base",
      "_view_module_version": "1.2.0",
      "_view_name": "LayoutView",
      "align_content": null,
      "align_items": null,
      "align_self": null,
      "border": null,
      "bottom": null,
      "display": null,
      "flex": null,
      "flex_flow": null,
      "grid_area": null,
      "grid_auto_columns": null,
      "grid_auto_flow": null,
      "grid_auto_rows": null,
      "grid_column": null,
      "grid_gap": null,
      "grid_row": null,
      "grid_template_areas": null,
      "grid_template_columns": null,
      "grid_template_rows": null,
      "height": null,
      "justify_content": null,
      "justify_items": null,
      "left": null,
      "margin": null,
      "max_height": null,
      "max_width": null,
      "min_height": null,
      "min_width": null,
      "object_fit": null,
      "object_position": null,
      "order": null,
      "overflow": null,
      "overflow_x": null,
      "overflow_y": null,
      "padding": null,
      "right": null,
      "top": null,
      "visibility": null,
      "width": null
     }
    },
    "439d37b4dbec4ee4afc0167555253edb": {
     "model_module": "@jupyter-widgets/controls",
     "model_module_version": "1.5.0",
     "model_name": "HBoxModel",
     "state": {
      "_dom_classes": [],
      "_model_module": "@jupyter-widgets/controls",
      "_model_module_version": "1.5.0",
      "_model_name": "HBoxModel",
      "_view_count": null,
      "_view_module": "@jupyter-widgets/controls",
      "_view_module_version": "1.5.0",
      "_view_name": "HBoxView",
      "box_style": "",
      "children": [
       "IPY_MODEL_ea8505a10dee4b2f8e6d7ea9c3c30ed5",
       "IPY_MODEL_002a9501cdfb408a84a8779cf0176b02",
       "IPY_MODEL_62b8ba29be2c4518971e3ca4c03845c1"
      ],
      "layout": "IPY_MODEL_1f15b8d5547441cbb156b8dfce4ec7b0"
     }
    },
    "43bdb3e2257745268c506b8051afb03c": {
     "model_module": "@jupyter-widgets/controls",
     "model_module_version": "1.5.0",
     "model_name": "HTMLModel",
     "state": {
      "_dom_classes": [],
      "_model_module": "@jupyter-widgets/controls",
      "_model_module_version": "1.5.0",
      "_model_name": "HTMLModel",
      "_view_count": null,
      "_view_module": "@jupyter-widgets/controls",
      "_view_module_version": "1.5.0",
      "_view_name": "HTMLView",
      "description": "",
      "description_tooltip": null,
      "layout": "IPY_MODEL_b1aba125897f4354a821bd5dd08ecd70",
      "placeholder": "​",
      "style": "IPY_MODEL_f571d7cf478b4c20a1f5c4bd503e7737",
      "value": " 771/771 [00:00&lt;00:00, 7677.94 examples/s]"
     }
    },
    "43e354bd826a4538a1bc08972f52f711": {
     "model_module": "@jupyter-widgets/base",
     "model_module_version": "1.2.0",
     "model_name": "LayoutModel",
     "state": {
      "_model_module": "@jupyter-widgets/base",
      "_model_module_version": "1.2.0",
      "_model_name": "LayoutModel",
      "_view_count": null,
      "_view_module": "@jupyter-widgets/base",
      "_view_module_version": "1.2.0",
      "_view_name": "LayoutView",
      "align_content": null,
      "align_items": null,
      "align_self": null,
      "border": null,
      "bottom": null,
      "display": null,
      "flex": null,
      "flex_flow": null,
      "grid_area": null,
      "grid_auto_columns": null,
      "grid_auto_flow": null,
      "grid_auto_rows": null,
      "grid_column": null,
      "grid_gap": null,
      "grid_row": null,
      "grid_template_areas": null,
      "grid_template_columns": null,
      "grid_template_rows": null,
      "height": null,
      "justify_content": null,
      "justify_items": null,
      "left": null,
      "margin": null,
      "max_height": null,
      "max_width": null,
      "min_height": null,
      "min_width": null,
      "object_fit": null,
      "object_position": null,
      "order": null,
      "overflow": null,
      "overflow_x": null,
      "overflow_y": null,
      "padding": null,
      "right": null,
      "top": null,
      "visibility": null,
      "width": null
     }
    },
    "44050ee5b91145a8b22e2bc7de3ba85a": {
     "model_module": "@jupyter-widgets/base",
     "model_module_version": "1.2.0",
     "model_name": "LayoutModel",
     "state": {
      "_model_module": "@jupyter-widgets/base",
      "_model_module_version": "1.2.0",
      "_model_name": "LayoutModel",
      "_view_count": null,
      "_view_module": "@jupyter-widgets/base",
      "_view_module_version": "1.2.0",
      "_view_name": "LayoutView",
      "align_content": null,
      "align_items": null,
      "align_self": null,
      "border": null,
      "bottom": null,
      "display": null,
      "flex": null,
      "flex_flow": null,
      "grid_area": null,
      "grid_auto_columns": null,
      "grid_auto_flow": null,
      "grid_auto_rows": null,
      "grid_column": null,
      "grid_gap": null,
      "grid_row": null,
      "grid_template_areas": null,
      "grid_template_columns": null,
      "grid_template_rows": null,
      "height": null,
      "justify_content": null,
      "justify_items": null,
      "left": null,
      "margin": null,
      "max_height": null,
      "max_width": null,
      "min_height": null,
      "min_width": null,
      "object_fit": null,
      "object_position": null,
      "order": null,
      "overflow": null,
      "overflow_x": null,
      "overflow_y": null,
      "padding": null,
      "right": null,
      "top": null,
      "visibility": null,
      "width": null
     }
    },
    "441949f9bf114b879fb153334abb910b": {
     "model_module": "@jupyter-widgets/controls",
     "model_module_version": "1.5.0",
     "model_name": "DescriptionStyleModel",
     "state": {
      "_model_module": "@jupyter-widgets/controls",
      "_model_module_version": "1.5.0",
      "_model_name": "DescriptionStyleModel",
      "_view_count": null,
      "_view_module": "@jupyter-widgets/base",
      "_view_module_version": "1.2.0",
      "_view_name": "StyleView",
      "description_width": ""
     }
    },
    "44c46ae2a0dd486e8b12b5a35f8ff0fa": {
     "model_module": "@jupyter-widgets/base",
     "model_module_version": "1.2.0",
     "model_name": "LayoutModel",
     "state": {
      "_model_module": "@jupyter-widgets/base",
      "_model_module_version": "1.2.0",
      "_model_name": "LayoutModel",
      "_view_count": null,
      "_view_module": "@jupyter-widgets/base",
      "_view_module_version": "1.2.0",
      "_view_name": "LayoutView",
      "align_content": null,
      "align_items": null,
      "align_self": null,
      "border": null,
      "bottom": null,
      "display": null,
      "flex": null,
      "flex_flow": null,
      "grid_area": null,
      "grid_auto_columns": null,
      "grid_auto_flow": null,
      "grid_auto_rows": null,
      "grid_column": null,
      "grid_gap": null,
      "grid_row": null,
      "grid_template_areas": null,
      "grid_template_columns": null,
      "grid_template_rows": null,
      "height": null,
      "justify_content": null,
      "justify_items": null,
      "left": null,
      "margin": null,
      "max_height": null,
      "max_width": null,
      "min_height": null,
      "min_width": null,
      "object_fit": null,
      "object_position": null,
      "order": null,
      "overflow": null,
      "overflow_x": null,
      "overflow_y": null,
      "padding": null,
      "right": null,
      "top": null,
      "visibility": null,
      "width": null
     }
    },
    "4665f471fa0e478882233b165c010b68": {
     "model_module": "@jupyter-widgets/base",
     "model_module_version": "1.2.0",
     "model_name": "LayoutModel",
     "state": {
      "_model_module": "@jupyter-widgets/base",
      "_model_module_version": "1.2.0",
      "_model_name": "LayoutModel",
      "_view_count": null,
      "_view_module": "@jupyter-widgets/base",
      "_view_module_version": "1.2.0",
      "_view_name": "LayoutView",
      "align_content": null,
      "align_items": null,
      "align_self": null,
      "border": null,
      "bottom": null,
      "display": null,
      "flex": null,
      "flex_flow": null,
      "grid_area": null,
      "grid_auto_columns": null,
      "grid_auto_flow": null,
      "grid_auto_rows": null,
      "grid_column": null,
      "grid_gap": null,
      "grid_row": null,
      "grid_template_areas": null,
      "grid_template_columns": null,
      "grid_template_rows": null,
      "height": null,
      "justify_content": null,
      "justify_items": null,
      "left": null,
      "margin": null,
      "max_height": null,
      "max_width": null,
      "min_height": null,
      "min_width": null,
      "object_fit": null,
      "object_position": null,
      "order": null,
      "overflow": null,
      "overflow_x": null,
      "overflow_y": null,
      "padding": null,
      "right": null,
      "top": null,
      "visibility": null,
      "width": null
     }
    },
    "47989a32d3e54ede913cad2e881407ba": {
     "model_module": "@jupyter-widgets/controls",
     "model_module_version": "1.5.0",
     "model_name": "HBoxModel",
     "state": {
      "_dom_classes": [],
      "_model_module": "@jupyter-widgets/controls",
      "_model_module_version": "1.5.0",
      "_model_name": "HBoxModel",
      "_view_count": null,
      "_view_module": "@jupyter-widgets/controls",
      "_view_module_version": "1.5.0",
      "_view_name": "HBoxView",
      "box_style": "",
      "children": [
       "IPY_MODEL_7273d05e25dd4af98ca58416bc2d1cb5",
       "IPY_MODEL_271083e34adf45bb8aab6b1e85193706",
       "IPY_MODEL_e5786c3017bf4a639a11f54f3aa7d9ce"
      ],
      "layout": "IPY_MODEL_51e8a4fe908c4a5b8895469ecfbe631b"
     }
    },
    "47cfdf980592498b893f8c3d2fbf0e03": {
     "model_module": "@jupyter-widgets/controls",
     "model_module_version": "1.5.0",
     "model_name": "HTMLModel",
     "state": {
      "_dom_classes": [],
      "_model_module": "@jupyter-widgets/controls",
      "_model_module_version": "1.5.0",
      "_model_name": "HTMLModel",
      "_view_count": null,
      "_view_module": "@jupyter-widgets/controls",
      "_view_module_version": "1.5.0",
      "_view_name": "HTMLView",
      "description": "",
      "description_tooltip": null,
      "layout": "IPY_MODEL_8cf83ceaa38044578713806efb84870a",
      "placeholder": "​",
      "style": "IPY_MODEL_311e3440f7a74343af959514ab41f35c",
      "value": "merges.txt: 100%"
     }
    },
    "47fddc1c2c074d87a6050b2a26d859f1": {
     "model_module": "@jupyter-widgets/base",
     "model_module_version": "1.2.0",
     "model_name": "LayoutModel",
     "state": {
      "_model_module": "@jupyter-widgets/base",
      "_model_module_version": "1.2.0",
      "_model_name": "LayoutModel",
      "_view_count": null,
      "_view_module": "@jupyter-widgets/base",
      "_view_module_version": "1.2.0",
      "_view_name": "LayoutView",
      "align_content": null,
      "align_items": null,
      "align_self": null,
      "border": null,
      "bottom": null,
      "display": null,
      "flex": null,
      "flex_flow": null,
      "grid_area": null,
      "grid_auto_columns": null,
      "grid_auto_flow": null,
      "grid_auto_rows": null,
      "grid_column": null,
      "grid_gap": null,
      "grid_row": null,
      "grid_template_areas": null,
      "grid_template_columns": null,
      "grid_template_rows": null,
      "height": null,
      "justify_content": null,
      "justify_items": null,
      "left": null,
      "margin": null,
      "max_height": null,
      "max_width": null,
      "min_height": null,
      "min_width": null,
      "object_fit": null,
      "object_position": null,
      "order": null,
      "overflow": null,
      "overflow_x": null,
      "overflow_y": null,
      "padding": null,
      "right": null,
      "top": null,
      "visibility": null,
      "width": null
     }
    },
    "484eaeabda91461093d8aac55b07b490": {
     "model_module": "@jupyter-widgets/controls",
     "model_module_version": "1.5.0",
     "model_name": "FloatProgressModel",
     "state": {
      "_dom_classes": [],
      "_model_module": "@jupyter-widgets/controls",
      "_model_module_version": "1.5.0",
      "_model_name": "FloatProgressModel",
      "_view_count": null,
      "_view_module": "@jupyter-widgets/controls",
      "_view_module_version": "1.5.0",
      "_view_name": "ProgressView",
      "bar_style": "success",
      "description": "",
      "description_tooltip": null,
      "layout": "IPY_MODEL_c541c75959db47b89b78ef1e8ac06295",
      "max": 231508,
      "min": 0,
      "orientation": "horizontal",
      "style": "IPY_MODEL_0d25366a3d654d3fba85508bf309e568",
      "value": 231508
     }
    },
    "4866c0b43a964ac8bf21db1a2c76852a": {
     "model_module": "@jupyter-widgets/controls",
     "model_module_version": "1.5.0",
     "model_name": "HBoxModel",
     "state": {
      "_dom_classes": [],
      "_model_module": "@jupyter-widgets/controls",
      "_model_module_version": "1.5.0",
      "_model_name": "HBoxModel",
      "_view_count": null,
      "_view_module": "@jupyter-widgets/controls",
      "_view_module_version": "1.5.0",
      "_view_name": "HBoxView",
      "box_style": "",
      "children": [
       "IPY_MODEL_c06eb99f4ec241b9b010660294f63bb2",
       "IPY_MODEL_6b97eb69cc3d403abf0b32cd988f7706",
       "IPY_MODEL_9f7521e21b0d4b918bdefd2eb38fa75a"
      ],
      "layout": "IPY_MODEL_60635472c9f6460ab9d144e4c0a74271"
     }
    },
    "4969585bd7e842038c8f4f7d3bc6efe1": {
     "model_module": "@jupyter-widgets/controls",
     "model_module_version": "1.5.0",
     "model_name": "DescriptionStyleModel",
     "state": {
      "_model_module": "@jupyter-widgets/controls",
      "_model_module_version": "1.5.0",
      "_model_name": "DescriptionStyleModel",
      "_view_count": null,
      "_view_module": "@jupyter-widgets/base",
      "_view_module_version": "1.2.0",
      "_view_name": "StyleView",
      "description_width": ""
     }
    },
    "49948cdf2ac94f45aa9c4a17c5996a17": {
     "model_module": "@jupyter-widgets/base",
     "model_module_version": "1.2.0",
     "model_name": "LayoutModel",
     "state": {
      "_model_module": "@jupyter-widgets/base",
      "_model_module_version": "1.2.0",
      "_model_name": "LayoutModel",
      "_view_count": null,
      "_view_module": "@jupyter-widgets/base",
      "_view_module_version": "1.2.0",
      "_view_name": "LayoutView",
      "align_content": null,
      "align_items": null,
      "align_self": null,
      "border": null,
      "bottom": null,
      "display": null,
      "flex": null,
      "flex_flow": null,
      "grid_area": null,
      "grid_auto_columns": null,
      "grid_auto_flow": null,
      "grid_auto_rows": null,
      "grid_column": null,
      "grid_gap": null,
      "grid_row": null,
      "grid_template_areas": null,
      "grid_template_columns": null,
      "grid_template_rows": null,
      "height": null,
      "justify_content": null,
      "justify_items": null,
      "left": null,
      "margin": null,
      "max_height": null,
      "max_width": null,
      "min_height": null,
      "min_width": null,
      "object_fit": null,
      "object_position": null,
      "order": null,
      "overflow": null,
      "overflow_x": null,
      "overflow_y": null,
      "padding": null,
      "right": null,
      "top": null,
      "visibility": null,
      "width": null
     }
    },
    "4a7dc41aa2824f918493115bda24498b": {
     "model_module": "@jupyter-widgets/controls",
     "model_module_version": "1.5.0",
     "model_name": "HBoxModel",
     "state": {
      "_dom_classes": [],
      "_model_module": "@jupyter-widgets/controls",
      "_model_module_version": "1.5.0",
      "_model_name": "HBoxModel",
      "_view_count": null,
      "_view_module": "@jupyter-widgets/controls",
      "_view_module_version": "1.5.0",
      "_view_name": "HBoxView",
      "box_style": "",
      "children": [
       "IPY_MODEL_387e47830d614fe8ba6758c7485a820c",
       "IPY_MODEL_85773884b394433b8f47703742a0413a",
       "IPY_MODEL_83f97c79b32d40f18c79d29974790dcf"
      ],
      "layout": "IPY_MODEL_340765c79f7b4b1fa7dc51f0db682e9c"
     }
    },
    "4b81c0892898485fafa62fb76028a133": {
     "model_module": "@jupyter-widgets/base",
     "model_module_version": "1.2.0",
     "model_name": "LayoutModel",
     "state": {
      "_model_module": "@jupyter-widgets/base",
      "_model_module_version": "1.2.0",
      "_model_name": "LayoutModel",
      "_view_count": null,
      "_view_module": "@jupyter-widgets/base",
      "_view_module_version": "1.2.0",
      "_view_name": "LayoutView",
      "align_content": null,
      "align_items": null,
      "align_self": null,
      "border": null,
      "bottom": null,
      "display": null,
      "flex": null,
      "flex_flow": null,
      "grid_area": null,
      "grid_auto_columns": null,
      "grid_auto_flow": null,
      "grid_auto_rows": null,
      "grid_column": null,
      "grid_gap": null,
      "grid_row": null,
      "grid_template_areas": null,
      "grid_template_columns": null,
      "grid_template_rows": null,
      "height": null,
      "justify_content": null,
      "justify_items": null,
      "left": null,
      "margin": null,
      "max_height": null,
      "max_width": null,
      "min_height": null,
      "min_width": null,
      "object_fit": null,
      "object_position": null,
      "order": null,
      "overflow": null,
      "overflow_x": null,
      "overflow_y": null,
      "padding": null,
      "right": null,
      "top": null,
      "visibility": null,
      "width": null
     }
    },
    "4bb8c462785b4ee3a905ef77c73a7a90": {
     "model_module": "@jupyter-widgets/controls",
     "model_module_version": "1.5.0",
     "model_name": "HTMLModel",
     "state": {
      "_dom_classes": [],
      "_model_module": "@jupyter-widgets/controls",
      "_model_module_version": "1.5.0",
      "_model_name": "HTMLModel",
      "_view_count": null,
      "_view_module": "@jupyter-widgets/controls",
      "_view_module_version": "1.5.0",
      "_view_name": "HTMLView",
      "description": "",
      "description_tooltip": null,
      "layout": "IPY_MODEL_eb43725f0e22483989c5334facd46da0",
      "placeholder": "​",
      "style": "IPY_MODEL_2dfc9768d7a8421da53d9c812e7d9e8a",
      "value": " 232k/232k [00:00&lt;00:00, 484kB/s]"
     }
    },
    "4cac570ecf964757aec9d3a24d86138c": {
     "model_module": "@jupyter-widgets/base",
     "model_module_version": "1.2.0",
     "model_name": "LayoutModel",
     "state": {
      "_model_module": "@jupyter-widgets/base",
      "_model_module_version": "1.2.0",
      "_model_name": "LayoutModel",
      "_view_count": null,
      "_view_module": "@jupyter-widgets/base",
      "_view_module_version": "1.2.0",
      "_view_name": "LayoutView",
      "align_content": null,
      "align_items": null,
      "align_self": null,
      "border": null,
      "bottom": null,
      "display": null,
      "flex": null,
      "flex_flow": null,
      "grid_area": null,
      "grid_auto_columns": null,
      "grid_auto_flow": null,
      "grid_auto_rows": null,
      "grid_column": null,
      "grid_gap": null,
      "grid_row": null,
      "grid_template_areas": null,
      "grid_template_columns": null,
      "grid_template_rows": null,
      "height": null,
      "justify_content": null,
      "justify_items": null,
      "left": null,
      "margin": null,
      "max_height": null,
      "max_width": null,
      "min_height": null,
      "min_width": null,
      "object_fit": null,
      "object_position": null,
      "order": null,
      "overflow": null,
      "overflow_x": null,
      "overflow_y": null,
      "padding": null,
      "right": null,
      "top": null,
      "visibility": null,
      "width": null
     }
    },
    "4d8e31a1dc0c4787891c15c6036ffab1": {
     "model_module": "@jupyter-widgets/controls",
     "model_module_version": "1.5.0",
     "model_name": "HTMLModel",
     "state": {
      "_dom_classes": [],
      "_model_module": "@jupyter-widgets/controls",
      "_model_module_version": "1.5.0",
      "_model_name": "HTMLModel",
      "_view_count": null,
      "_view_module": "@jupyter-widgets/controls",
      "_view_module_version": "1.5.0",
      "_view_name": "HTMLView",
      "description": "",
      "description_tooltip": null,
      "layout": "IPY_MODEL_5e020a3384894ce9adffb1198a2eb181",
      "placeholder": "​",
      "style": "IPY_MODEL_5797df4963724a82821caf8d0b662274",
      "value": "Map: 100%"
     }
    },
    "4de0dcc6dfdb436abf0769cb0b2cf6e2": {
     "model_module": "@jupyter-widgets/controls",
     "model_module_version": "1.5.0",
     "model_name": "ProgressStyleModel",
     "state": {
      "_model_module": "@jupyter-widgets/controls",
      "_model_module_version": "1.5.0",
      "_model_name": "ProgressStyleModel",
      "_view_count": null,
      "_view_module": "@jupyter-widgets/base",
      "_view_module_version": "1.2.0",
      "_view_name": "StyleView",
      "bar_color": null,
      "description_width": ""
     }
    },
    "4e07a852aa1b4cf1bb57b7c77515c133": {
     "model_module": "@jupyter-widgets/controls",
     "model_module_version": "1.5.0",
     "model_name": "FloatProgressModel",
     "state": {
      "_dom_classes": [],
      "_model_module": "@jupyter-widgets/controls",
      "_model_module_version": "1.5.0",
      "_model_name": "FloatProgressModel",
      "_view_count": null,
      "_view_module": "@jupyter-widgets/controls",
      "_view_module_version": "1.5.0",
      "_view_name": "ProgressView",
      "bar_style": "success",
      "description": "",
      "description_tooltip": null,
      "layout": "IPY_MODEL_afffdf5c259f4f14aeb99b6c25016ac6",
      "max": 466062,
      "min": 0,
      "orientation": "horizontal",
      "style": "IPY_MODEL_ff2247ba8c714949a5e80f599f4f47b4",
      "value": 466062
     }
    },
    "4e10af0f5cec42fb8cb3247af6430909": {
     "model_module": "@jupyter-widgets/base",
     "model_module_version": "1.2.0",
     "model_name": "LayoutModel",
     "state": {
      "_model_module": "@jupyter-widgets/base",
      "_model_module_version": "1.2.0",
      "_model_name": "LayoutModel",
      "_view_count": null,
      "_view_module": "@jupyter-widgets/base",
      "_view_module_version": "1.2.0",
      "_view_name": "LayoutView",
      "align_content": null,
      "align_items": null,
      "align_self": null,
      "border": null,
      "bottom": null,
      "display": null,
      "flex": null,
      "flex_flow": null,
      "grid_area": null,
      "grid_auto_columns": null,
      "grid_auto_flow": null,
      "grid_auto_rows": null,
      "grid_column": null,
      "grid_gap": null,
      "grid_row": null,
      "grid_template_areas": null,
      "grid_template_columns": null,
      "grid_template_rows": null,
      "height": null,
      "justify_content": null,
      "justify_items": null,
      "left": null,
      "margin": null,
      "max_height": null,
      "max_width": null,
      "min_height": null,
      "min_width": null,
      "object_fit": null,
      "object_position": null,
      "order": null,
      "overflow": null,
      "overflow_x": null,
      "overflow_y": null,
      "padding": null,
      "right": null,
      "top": null,
      "visibility": null,
      "width": null
     }
    },
    "4e505ed8ff2d4b62b139dbc7631f83bd": {
     "model_module": "@jupyter-widgets/controls",
     "model_module_version": "1.5.0",
     "model_name": "DescriptionStyleModel",
     "state": {
      "_model_module": "@jupyter-widgets/controls",
      "_model_module_version": "1.5.0",
      "_model_name": "DescriptionStyleModel",
      "_view_count": null,
      "_view_module": "@jupyter-widgets/base",
      "_view_module_version": "1.2.0",
      "_view_name": "StyleView",
      "description_width": ""
     }
    },
    "4ec8c36c8d734fac9b41dfb2d123f5bd": {
     "model_module": "@jupyter-widgets/base",
     "model_module_version": "1.2.0",
     "model_name": "LayoutModel",
     "state": {
      "_model_module": "@jupyter-widgets/base",
      "_model_module_version": "1.2.0",
      "_model_name": "LayoutModel",
      "_view_count": null,
      "_view_module": "@jupyter-widgets/base",
      "_view_module_version": "1.2.0",
      "_view_name": "LayoutView",
      "align_content": null,
      "align_items": null,
      "align_self": null,
      "border": null,
      "bottom": null,
      "display": null,
      "flex": null,
      "flex_flow": null,
      "grid_area": null,
      "grid_auto_columns": null,
      "grid_auto_flow": null,
      "grid_auto_rows": null,
      "grid_column": null,
      "grid_gap": null,
      "grid_row": null,
      "grid_template_areas": null,
      "grid_template_columns": null,
      "grid_template_rows": null,
      "height": null,
      "justify_content": null,
      "justify_items": null,
      "left": null,
      "margin": null,
      "max_height": null,
      "max_width": null,
      "min_height": null,
      "min_width": null,
      "object_fit": null,
      "object_position": null,
      "order": null,
      "overflow": null,
      "overflow_x": null,
      "overflow_y": null,
      "padding": null,
      "right": null,
      "top": null,
      "visibility": null,
      "width": null
     }
    },
    "4edd5b00fbdb41ca8347c9884506837b": {
     "model_module": "@jupyter-widgets/controls",
     "model_module_version": "1.5.0",
     "model_name": "ProgressStyleModel",
     "state": {
      "_model_module": "@jupyter-widgets/controls",
      "_model_module_version": "1.5.0",
      "_model_name": "ProgressStyleModel",
      "_view_count": null,
      "_view_module": "@jupyter-widgets/base",
      "_view_module_version": "1.2.0",
      "_view_name": "StyleView",
      "bar_color": null,
      "description_width": ""
     }
    },
    "4f792cc40ef34ae8a2b4a14d4538967e": {
     "model_module": "@jupyter-widgets/base",
     "model_module_version": "1.2.0",
     "model_name": "LayoutModel",
     "state": {
      "_model_module": "@jupyter-widgets/base",
      "_model_module_version": "1.2.0",
      "_model_name": "LayoutModel",
      "_view_count": null,
      "_view_module": "@jupyter-widgets/base",
      "_view_module_version": "1.2.0",
      "_view_name": "LayoutView",
      "align_content": null,
      "align_items": null,
      "align_self": null,
      "border": null,
      "bottom": null,
      "display": null,
      "flex": null,
      "flex_flow": null,
      "grid_area": null,
      "grid_auto_columns": null,
      "grid_auto_flow": null,
      "grid_auto_rows": null,
      "grid_column": null,
      "grid_gap": null,
      "grid_row": null,
      "grid_template_areas": null,
      "grid_template_columns": null,
      "grid_template_rows": null,
      "height": null,
      "justify_content": null,
      "justify_items": null,
      "left": null,
      "margin": null,
      "max_height": null,
      "max_width": null,
      "min_height": null,
      "min_width": null,
      "object_fit": null,
      "object_position": null,
      "order": null,
      "overflow": null,
      "overflow_x": null,
      "overflow_y": null,
      "padding": null,
      "right": null,
      "top": null,
      "visibility": null,
      "width": null
     }
    },
    "510e63d365c547b1adaff42d00490401": {
     "model_module": "@jupyter-widgets/controls",
     "model_module_version": "1.5.0",
     "model_name": "ProgressStyleModel",
     "state": {
      "_model_module": "@jupyter-widgets/controls",
      "_model_module_version": "1.5.0",
      "_model_name": "ProgressStyleModel",
      "_view_count": null,
      "_view_module": "@jupyter-widgets/base",
      "_view_module_version": "1.2.0",
      "_view_name": "StyleView",
      "bar_color": null,
      "description_width": ""
     }
    },
    "514fd68e776d4e4aaeb4a90f51bc4736": {
     "model_module": "@jupyter-widgets/controls",
     "model_module_version": "1.5.0",
     "model_name": "ProgressStyleModel",
     "state": {
      "_model_module": "@jupyter-widgets/controls",
      "_model_module_version": "1.5.0",
      "_model_name": "ProgressStyleModel",
      "_view_count": null,
      "_view_module": "@jupyter-widgets/base",
      "_view_module_version": "1.2.0",
      "_view_name": "StyleView",
      "bar_color": null,
      "description_width": ""
     }
    },
    "51abfd29aa04403e9a2b69eb42609b72": {
     "model_module": "@jupyter-widgets/controls",
     "model_module_version": "1.5.0",
     "model_name": "HBoxModel",
     "state": {
      "_dom_classes": [],
      "_model_module": "@jupyter-widgets/controls",
      "_model_module_version": "1.5.0",
      "_model_name": "HBoxModel",
      "_view_count": null,
      "_view_module": "@jupyter-widgets/controls",
      "_view_module_version": "1.5.0",
      "_view_name": "HBoxView",
      "box_style": "",
      "children": [
       "IPY_MODEL_b32b1e7e3d1249cf8ec406631d9ae1a3",
       "IPY_MODEL_aa74920bb1ce4bdabd386ebe58f53abb",
       "IPY_MODEL_1bc31bdb12804834aa1e94ee7fa1b3ab"
      ],
      "layout": "IPY_MODEL_4ec8c36c8d734fac9b41dfb2d123f5bd"
     }
    },
    "51e8a4fe908c4a5b8895469ecfbe631b": {
     "model_module": "@jupyter-widgets/base",
     "model_module_version": "1.2.0",
     "model_name": "LayoutModel",
     "state": {
      "_model_module": "@jupyter-widgets/base",
      "_model_module_version": "1.2.0",
      "_model_name": "LayoutModel",
      "_view_count": null,
      "_view_module": "@jupyter-widgets/base",
      "_view_module_version": "1.2.0",
      "_view_name": "LayoutView",
      "align_content": null,
      "align_items": null,
      "align_self": null,
      "border": null,
      "bottom": null,
      "display": null,
      "flex": null,
      "flex_flow": null,
      "grid_area": null,
      "grid_auto_columns": null,
      "grid_auto_flow": null,
      "grid_auto_rows": null,
      "grid_column": null,
      "grid_gap": null,
      "grid_row": null,
      "grid_template_areas": null,
      "grid_template_columns": null,
      "grid_template_rows": null,
      "height": null,
      "justify_content": null,
      "justify_items": null,
      "left": null,
      "margin": null,
      "max_height": null,
      "max_width": null,
      "min_height": null,
      "min_width": null,
      "object_fit": null,
      "object_position": null,
      "order": null,
      "overflow": null,
      "overflow_x": null,
      "overflow_y": null,
      "padding": null,
      "right": null,
      "top": null,
      "visibility": null,
      "width": null
     }
    },
    "527d9fab58da45b1a9930c302c10d000": {
     "model_module": "@jupyter-widgets/controls",
     "model_module_version": "1.5.0",
     "model_name": "HBoxModel",
     "state": {
      "_dom_classes": [],
      "_model_module": "@jupyter-widgets/controls",
      "_model_module_version": "1.5.0",
      "_model_name": "HBoxModel",
      "_view_count": null,
      "_view_module": "@jupyter-widgets/controls",
      "_view_module_version": "1.5.0",
      "_view_name": "HBoxView",
      "box_style": "",
      "children": [
       "IPY_MODEL_de96be39783b47c19fe9e3050ad3382d",
       "IPY_MODEL_484eaeabda91461093d8aac55b07b490",
       "IPY_MODEL_4bb8c462785b4ee3a905ef77c73a7a90"
      ],
      "layout": "IPY_MODEL_6b11860e26f94a3a8a71315334e4e3c6"
     }
    },
    "53a7239ac99e4fd889edf4be66091d35": {
     "model_module": "@jupyter-widgets/controls",
     "model_module_version": "1.5.0",
     "model_name": "HTMLModel",
     "state": {
      "_dom_classes": [],
      "_model_module": "@jupyter-widgets/controls",
      "_model_module_version": "1.5.0",
      "_model_name": "HTMLModel",
      "_view_count": null,
      "_view_module": "@jupyter-widgets/controls",
      "_view_module_version": "1.5.0",
      "_view_name": "HTMLView",
      "description": "",
      "description_tooltip": null,
      "layout": "IPY_MODEL_32945d26f3504f99a1b2140cd83d121e",
      "placeholder": "​",
      "style": "IPY_MODEL_dbf509c4b21142ec9131647ab164374a",
      "value": "config.json: 100%"
     }
    },
    "53f0c26cedd14257988c3ea6cfb88cd0": {
     "model_module": "@jupyter-widgets/controls",
     "model_module_version": "1.5.0",
     "model_name": "DescriptionStyleModel",
     "state": {
      "_model_module": "@jupyter-widgets/controls",
      "_model_module_version": "1.5.0",
      "_model_name": "DescriptionStyleModel",
      "_view_count": null,
      "_view_module": "@jupyter-widgets/base",
      "_view_module_version": "1.2.0",
      "_view_name": "StyleView",
      "description_width": ""
     }
    },
    "55dff7016e7a437ab8a732518f65ca4c": {
     "model_module": "@jupyter-widgets/base",
     "model_module_version": "1.2.0",
     "model_name": "LayoutModel",
     "state": {
      "_model_module": "@jupyter-widgets/base",
      "_model_module_version": "1.2.0",
      "_model_name": "LayoutModel",
      "_view_count": null,
      "_view_module": "@jupyter-widgets/base",
      "_view_module_version": "1.2.0",
      "_view_name": "LayoutView",
      "align_content": null,
      "align_items": null,
      "align_self": null,
      "border": null,
      "bottom": null,
      "display": null,
      "flex": null,
      "flex_flow": null,
      "grid_area": null,
      "grid_auto_columns": null,
      "grid_auto_flow": null,
      "grid_auto_rows": null,
      "grid_column": null,
      "grid_gap": null,
      "grid_row": null,
      "grid_template_areas": null,
      "grid_template_columns": null,
      "grid_template_rows": null,
      "height": null,
      "justify_content": null,
      "justify_items": null,
      "left": null,
      "margin": null,
      "max_height": null,
      "max_width": null,
      "min_height": null,
      "min_width": null,
      "object_fit": null,
      "object_position": null,
      "order": null,
      "overflow": null,
      "overflow_x": null,
      "overflow_y": null,
      "padding": null,
      "right": null,
      "top": null,
      "visibility": null,
      "width": null
     }
    },
    "57087b0cc5dd4a77be3beef53cb9a7d6": {
     "model_module": "@jupyter-widgets/controls",
     "model_module_version": "1.5.0",
     "model_name": "FloatProgressModel",
     "state": {
      "_dom_classes": [],
      "_model_module": "@jupyter-widgets/controls",
      "_model_module_version": "1.5.0",
      "_model_name": "FloatProgressModel",
      "_view_count": null,
      "_view_module": "@jupyter-widgets/controls",
      "_view_module_version": "1.5.0",
      "_view_name": "ProgressView",
      "bar_style": "success",
      "description": "",
      "description_tooltip": null,
      "layout": "IPY_MODEL_b21725fa1e684f4c92418af03f389a6f",
      "max": 629,
      "min": 0,
      "orientation": "horizontal",
      "style": "IPY_MODEL_e992d25a59fc4a71a9c1f02affe0e877",
      "value": 629
     }
    },
    "5797df4963724a82821caf8d0b662274": {
     "model_module": "@jupyter-widgets/controls",
     "model_module_version": "1.5.0",
     "model_name": "DescriptionStyleModel",
     "state": {
      "_model_module": "@jupyter-widgets/controls",
      "_model_module_version": "1.5.0",
      "_model_name": "DescriptionStyleModel",
      "_view_count": null,
      "_view_module": "@jupyter-widgets/base",
      "_view_module_version": "1.2.0",
      "_view_name": "StyleView",
      "description_width": ""
     }
    },
    "57b9fbf00fe34967b6f342524aae352b": {
     "model_module": "@jupyter-widgets/controls",
     "model_module_version": "1.5.0",
     "model_name": "FloatProgressModel",
     "state": {
      "_dom_classes": [],
      "_model_module": "@jupyter-widgets/controls",
      "_model_module_version": "1.5.0",
      "_model_name": "FloatProgressModel",
      "_view_count": null,
      "_view_module": "@jupyter-widgets/controls",
      "_view_module_version": "1.5.0",
      "_view_name": "ProgressView",
      "bar_style": "success",
      "description": "",
      "description_tooltip": null,
      "layout": "IPY_MODEL_c34e1baa25134764a8ecaa869b6bc406",
      "max": 570,
      "min": 0,
      "orientation": "horizontal",
      "style": "IPY_MODEL_305ec2194a844366910861a1c2b73201",
      "value": 570
     }
    },
    "57c90e7dadbe4879a2baaf4f22722f37": {
     "model_module": "@jupyter-widgets/controls",
     "model_module_version": "1.5.0",
     "model_name": "ProgressStyleModel",
     "state": {
      "_model_module": "@jupyter-widgets/controls",
      "_model_module_version": "1.5.0",
      "_model_name": "ProgressStyleModel",
      "_view_count": null,
      "_view_module": "@jupyter-widgets/base",
      "_view_module_version": "1.2.0",
      "_view_name": "StyleView",
      "bar_color": null,
      "description_width": ""
     }
    },
    "5923d06569814e5ba74e490eaf5c3c37": {
     "model_module": "@jupyter-widgets/controls",
     "model_module_version": "1.5.0",
     "model_name": "HTMLModel",
     "state": {
      "_dom_classes": [],
      "_model_module": "@jupyter-widgets/controls",
      "_model_module_version": "1.5.0",
      "_model_name": "HTMLModel",
      "_view_count": null,
      "_view_module": "@jupyter-widgets/controls",
      "_view_module_version": "1.5.0",
      "_view_name": "HTMLView",
      "description": "",
      "description_tooltip": null,
      "layout": "IPY_MODEL_dbcdf8b2ea64486a8fb9b93aa29c546a",
      "placeholder": "​",
      "style": "IPY_MODEL_5ecabaa3f4904b52b9bfc6933ac4cd90",
      "value": " 456k/456k [00:00&lt;00:00, 9.96MB/s]"
     }
    },
    "5929f3be61e64cd3b03db83c6315f113": {
     "model_module": "@jupyter-widgets/controls",
     "model_module_version": "1.5.0",
     "model_name": "FloatProgressModel",
     "state": {
      "_dom_classes": [],
      "_model_module": "@jupyter-widgets/controls",
      "_model_module_version": "1.5.0",
      "_model_name": "FloatProgressModel",
      "_view_count": null,
      "_view_module": "@jupyter-widgets/controls",
      "_view_module_version": "1.5.0",
      "_view_name": "ProgressView",
      "bar_style": "success",
      "description": "",
      "description_tooltip": null,
      "layout": "IPY_MODEL_09e572cc5fa34a3dbfa76f898c90edab",
      "max": 665,
      "min": 0,
      "orientation": "horizontal",
      "style": "IPY_MODEL_c4381a91790446799969ce55f8a7250c",
      "value": 665
     }
    },
    "5a124cf7785e4eccafa4d1c7d3cd2942": {
     "model_module": "@jupyter-widgets/base",
     "model_module_version": "1.2.0",
     "model_name": "LayoutModel",
     "state": {
      "_model_module": "@jupyter-widgets/base",
      "_model_module_version": "1.2.0",
      "_model_name": "LayoutModel",
      "_view_count": null,
      "_view_module": "@jupyter-widgets/base",
      "_view_module_version": "1.2.0",
      "_view_name": "LayoutView",
      "align_content": null,
      "align_items": null,
      "align_self": null,
      "border": null,
      "bottom": null,
      "display": null,
      "flex": null,
      "flex_flow": null,
      "grid_area": null,
      "grid_auto_columns": null,
      "grid_auto_flow": null,
      "grid_auto_rows": null,
      "grid_column": null,
      "grid_gap": null,
      "grid_row": null,
      "grid_template_areas": null,
      "grid_template_columns": null,
      "grid_template_rows": null,
      "height": null,
      "justify_content": null,
      "justify_items": null,
      "left": null,
      "margin": null,
      "max_height": null,
      "max_width": null,
      "min_height": null,
      "min_width": null,
      "object_fit": null,
      "object_position": null,
      "order": null,
      "overflow": null,
      "overflow_x": null,
      "overflow_y": null,
      "padding": null,
      "right": null,
      "top": null,
      "visibility": null,
      "width": null
     }
    },
    "5a6a8a704b744c479bcabb9d5a16c8e8": {
     "model_module": "@jupyter-widgets/controls",
     "model_module_version": "1.5.0",
     "model_name": "HTMLModel",
     "state": {
      "_dom_classes": [],
      "_model_module": "@jupyter-widgets/controls",
      "_model_module_version": "1.5.0",
      "_model_name": "HTMLModel",
      "_view_count": null,
      "_view_module": "@jupyter-widgets/controls",
      "_view_module_version": "1.5.0",
      "_view_name": "HTMLView",
      "description": "",
      "description_tooltip": null,
      "layout": "IPY_MODEL_dddb342989e44ec0b0c9e40bb0ccf843",
      "placeholder": "​",
      "style": "IPY_MODEL_efb5452b364d4c358faea6a451f55bce",
      "value": "config.json: 100%"
     }
    },
    "5ac8c023798949aa85008138c59e5cbd": {
     "model_module": "@jupyter-widgets/base",
     "model_module_version": "1.2.0",
     "model_name": "LayoutModel",
     "state": {
      "_model_module": "@jupyter-widgets/base",
      "_model_module_version": "1.2.0",
      "_model_name": "LayoutModel",
      "_view_count": null,
      "_view_module": "@jupyter-widgets/base",
      "_view_module_version": "1.2.0",
      "_view_name": "LayoutView",
      "align_content": null,
      "align_items": null,
      "align_self": null,
      "border": null,
      "bottom": null,
      "display": null,
      "flex": null,
      "flex_flow": null,
      "grid_area": null,
      "grid_auto_columns": null,
      "grid_auto_flow": null,
      "grid_auto_rows": null,
      "grid_column": null,
      "grid_gap": null,
      "grid_row": null,
      "grid_template_areas": null,
      "grid_template_columns": null,
      "grid_template_rows": null,
      "height": null,
      "justify_content": null,
      "justify_items": null,
      "left": null,
      "margin": null,
      "max_height": null,
      "max_width": null,
      "min_height": null,
      "min_width": null,
      "object_fit": null,
      "object_position": null,
      "order": null,
      "overflow": null,
      "overflow_x": null,
      "overflow_y": null,
      "padding": null,
      "right": null,
      "top": null,
      "visibility": null,
      "width": null
     }
    },
    "5bf02116b4ae46389f0d60bf7f7b8816": {
     "model_module": "@jupyter-widgets/controls",
     "model_module_version": "1.5.0",
     "model_name": "HBoxModel",
     "state": {
      "_dom_classes": [],
      "_model_module": "@jupyter-widgets/controls",
      "_model_module_version": "1.5.0",
      "_model_name": "HBoxModel",
      "_view_count": null,
      "_view_module": "@jupyter-widgets/controls",
      "_view_module_version": "1.5.0",
      "_view_name": "HBoxView",
      "box_style": "",
      "children": [
       "IPY_MODEL_77c90f063ce747aa9db15f2ae48d839d",
       "IPY_MODEL_9533899297ed48d1aa92583084412d9a",
       "IPY_MODEL_6b9430e328e246978f9162e256060cec"
      ],
      "layout": "IPY_MODEL_7e3f568ed5f5440e93379c6d5eb85a4b"
     }
    },
    "5bf3f7314dc74045aaa4cc1c4cd7bc7d": {
     "model_module": "@jupyter-widgets/controls",
     "model_module_version": "1.5.0",
     "model_name": "DescriptionStyleModel",
     "state": {
      "_model_module": "@jupyter-widgets/controls",
      "_model_module_version": "1.5.0",
      "_model_name": "DescriptionStyleModel",
      "_view_count": null,
      "_view_module": "@jupyter-widgets/base",
      "_view_module_version": "1.2.0",
      "_view_name": "StyleView",
      "description_width": ""
     }
    },
    "5d97ee42cb5b4ca5a9f5bc556f1a8a60": {
     "model_module": "@jupyter-widgets/controls",
     "model_module_version": "1.5.0",
     "model_name": "ProgressStyleModel",
     "state": {
      "_model_module": "@jupyter-widgets/controls",
      "_model_module_version": "1.5.0",
      "_model_name": "ProgressStyleModel",
      "_view_count": null,
      "_view_module": "@jupyter-widgets/base",
      "_view_module_version": "1.2.0",
      "_view_name": "StyleView",
      "bar_color": null,
      "description_width": ""
     }
    },
    "5dec607d9f0847c3be255d78656ef52b": {
     "model_module": "@jupyter-widgets/controls",
     "model_module_version": "1.5.0",
     "model_name": "HBoxModel",
     "state": {
      "_dom_classes": [],
      "_model_module": "@jupyter-widgets/controls",
      "_model_module_version": "1.5.0",
      "_model_name": "HBoxModel",
      "_view_count": null,
      "_view_module": "@jupyter-widgets/controls",
      "_view_module_version": "1.5.0",
      "_view_name": "HBoxView",
      "box_style": "",
      "children": [
       "IPY_MODEL_fae5f821c5604402af8f68f46ed4f2ca",
       "IPY_MODEL_5929f3be61e64cd3b03db83c6315f113",
       "IPY_MODEL_a8d497b06b8648fe8c06905fe9ebc973"
      ],
      "layout": "IPY_MODEL_a575be776efd4fa2be2bb978262efcfa"
     }
    },
    "5e020a3384894ce9adffb1198a2eb181": {
     "model_module": "@jupyter-widgets/base",
     "model_module_version": "1.2.0",
     "model_name": "LayoutModel",
     "state": {
      "_model_module": "@jupyter-widgets/base",
      "_model_module_version": "1.2.0",
      "_model_name": "LayoutModel",
      "_view_count": null,
      "_view_module": "@jupyter-widgets/base",
      "_view_module_version": "1.2.0",
      "_view_name": "LayoutView",
      "align_content": null,
      "align_items": null,
      "align_self": null,
      "border": null,
      "bottom": null,
      "display": null,
      "flex": null,
      "flex_flow": null,
      "grid_area": null,
      "grid_auto_columns": null,
      "grid_auto_flow": null,
      "grid_auto_rows": null,
      "grid_column": null,
      "grid_gap": null,
      "grid_row": null,
      "grid_template_areas": null,
      "grid_template_columns": null,
      "grid_template_rows": null,
      "height": null,
      "justify_content": null,
      "justify_items": null,
      "left": null,
      "margin": null,
      "max_height": null,
      "max_width": null,
      "min_height": null,
      "min_width": null,
      "object_fit": null,
      "object_position": null,
      "order": null,
      "overflow": null,
      "overflow_x": null,
      "overflow_y": null,
      "padding": null,
      "right": null,
      "top": null,
      "visibility": null,
      "width": null
     }
    },
    "5e05b1fd6b084563bc6b22e5650c6c79": {
     "model_module": "@jupyter-widgets/controls",
     "model_module_version": "1.5.0",
     "model_name": "ProgressStyleModel",
     "state": {
      "_model_module": "@jupyter-widgets/controls",
      "_model_module_version": "1.5.0",
      "_model_name": "ProgressStyleModel",
      "_view_count": null,
      "_view_module": "@jupyter-widgets/base",
      "_view_module_version": "1.2.0",
      "_view_name": "StyleView",
      "bar_color": null,
      "description_width": ""
     }
    },
    "5e9280d23a81451da9d5898d9f5684b6": {
     "model_module": "@jupyter-widgets/controls",
     "model_module_version": "1.5.0",
     "model_name": "ProgressStyleModel",
     "state": {
      "_model_module": "@jupyter-widgets/controls",
      "_model_module_version": "1.5.0",
      "_model_name": "ProgressStyleModel",
      "_view_count": null,
      "_view_module": "@jupyter-widgets/base",
      "_view_module_version": "1.2.0",
      "_view_name": "StyleView",
      "bar_color": null,
      "description_width": ""
     }
    },
    "5ecabaa3f4904b52b9bfc6933ac4cd90": {
     "model_module": "@jupyter-widgets/controls",
     "model_module_version": "1.5.0",
     "model_name": "DescriptionStyleModel",
     "state": {
      "_model_module": "@jupyter-widgets/controls",
      "_model_module_version": "1.5.0",
      "_model_name": "DescriptionStyleModel",
      "_view_count": null,
      "_view_module": "@jupyter-widgets/base",
      "_view_module_version": "1.2.0",
      "_view_name": "StyleView",
      "description_width": ""
     }
    },
    "5f174bf3a8d94b51be76f7455a6621f0": {
     "model_module": "@jupyter-widgets/controls",
     "model_module_version": "1.5.0",
     "model_name": "HTMLModel",
     "state": {
      "_dom_classes": [],
      "_model_module": "@jupyter-widgets/controls",
      "_model_module_version": "1.5.0",
      "_model_name": "HTMLModel",
      "_view_count": null,
      "_view_module": "@jupyter-widgets/controls",
      "_view_module_version": "1.5.0",
      "_view_name": "HTMLView",
      "description": "",
      "description_tooltip": null,
      "layout": "IPY_MODEL_f123f91546064a538a74c83d893d52df",
      "placeholder": "​",
      "style": "IPY_MODEL_01ddfefb7f3e4a3589efab6d307a1bf0",
      "value": "Map: 100%"
     }
    },
    "5f9ee570b4034cfab50d5ce66f0f353f": {
     "model_module": "@jupyter-widgets/controls",
     "model_module_version": "1.5.0",
     "model_name": "DescriptionStyleModel",
     "state": {
      "_model_module": "@jupyter-widgets/controls",
      "_model_module_version": "1.5.0",
      "_model_name": "DescriptionStyleModel",
      "_view_count": null,
      "_view_module": "@jupyter-widgets/base",
      "_view_module_version": "1.2.0",
      "_view_name": "StyleView",
      "description_width": ""
     }
    },
    "6048025355d34b3ba0bcc2df379dfa05": {
     "model_module": "@jupyter-widgets/base",
     "model_module_version": "1.2.0",
     "model_name": "LayoutModel",
     "state": {
      "_model_module": "@jupyter-widgets/base",
      "_model_module_version": "1.2.0",
      "_model_name": "LayoutModel",
      "_view_count": null,
      "_view_module": "@jupyter-widgets/base",
      "_view_module_version": "1.2.0",
      "_view_name": "LayoutView",
      "align_content": null,
      "align_items": null,
      "align_self": null,
      "border": null,
      "bottom": null,
      "display": null,
      "flex": null,
      "flex_flow": null,
      "grid_area": null,
      "grid_auto_columns": null,
      "grid_auto_flow": null,
      "grid_auto_rows": null,
      "grid_column": null,
      "grid_gap": null,
      "grid_row": null,
      "grid_template_areas": null,
      "grid_template_columns": null,
      "grid_template_rows": null,
      "height": null,
      "justify_content": null,
      "justify_items": null,
      "left": null,
      "margin": null,
      "max_height": null,
      "max_width": null,
      "min_height": null,
      "min_width": null,
      "object_fit": null,
      "object_position": null,
      "order": null,
      "overflow": null,
      "overflow_x": null,
      "overflow_y": null,
      "padding": null,
      "right": null,
      "top": null,
      "visibility": null,
      "width": null
     }
    },
    "60635472c9f6460ab9d144e4c0a74271": {
     "model_module": "@jupyter-widgets/base",
     "model_module_version": "1.2.0",
     "model_name": "LayoutModel",
     "state": {
      "_model_module": "@jupyter-widgets/base",
      "_model_module_version": "1.2.0",
      "_model_name": "LayoutModel",
      "_view_count": null,
      "_view_module": "@jupyter-widgets/base",
      "_view_module_version": "1.2.0",
      "_view_name": "LayoutView",
      "align_content": null,
      "align_items": null,
      "align_self": null,
      "border": null,
      "bottom": null,
      "display": null,
      "flex": null,
      "flex_flow": null,
      "grid_area": null,
      "grid_auto_columns": null,
      "grid_auto_flow": null,
      "grid_auto_rows": null,
      "grid_column": null,
      "grid_gap": null,
      "grid_row": null,
      "grid_template_areas": null,
      "grid_template_columns": null,
      "grid_template_rows": null,
      "height": null,
      "justify_content": null,
      "justify_items": null,
      "left": null,
      "margin": null,
      "max_height": null,
      "max_width": null,
      "min_height": null,
      "min_width": null,
      "object_fit": null,
      "object_position": null,
      "order": null,
      "overflow": null,
      "overflow_x": null,
      "overflow_y": null,
      "padding": null,
      "right": null,
      "top": null,
      "visibility": null,
      "width": null
     }
    },
    "60784bb139dd474b86f3bd48c1a3103f": {
     "model_module": "@jupyter-widgets/base",
     "model_module_version": "1.2.0",
     "model_name": "LayoutModel",
     "state": {
      "_model_module": "@jupyter-widgets/base",
      "_model_module_version": "1.2.0",
      "_model_name": "LayoutModel",
      "_view_count": null,
      "_view_module": "@jupyter-widgets/base",
      "_view_module_version": "1.2.0",
      "_view_name": "LayoutView",
      "align_content": null,
      "align_items": null,
      "align_self": null,
      "border": null,
      "bottom": null,
      "display": null,
      "flex": null,
      "flex_flow": null,
      "grid_area": null,
      "grid_auto_columns": null,
      "grid_auto_flow": null,
      "grid_auto_rows": null,
      "grid_column": null,
      "grid_gap": null,
      "grid_row": null,
      "grid_template_areas": null,
      "grid_template_columns": null,
      "grid_template_rows": null,
      "height": null,
      "justify_content": null,
      "justify_items": null,
      "left": null,
      "margin": null,
      "max_height": null,
      "max_width": null,
      "min_height": null,
      "min_width": null,
      "object_fit": null,
      "object_position": null,
      "order": null,
      "overflow": null,
      "overflow_x": null,
      "overflow_y": null,
      "padding": null,
      "right": null,
      "top": null,
      "visibility": null,
      "width": null
     }
    },
    "608cdf8a656c4639ad7ed5bfbd77fab0": {
     "model_module": "@jupyter-widgets/controls",
     "model_module_version": "1.5.0",
     "model_name": "HTMLModel",
     "state": {
      "_dom_classes": [],
      "_model_module": "@jupyter-widgets/controls",
      "_model_module_version": "1.5.0",
      "_model_name": "HTMLModel",
      "_view_count": null,
      "_view_module": "@jupyter-widgets/controls",
      "_view_module_version": "1.5.0",
      "_view_name": "HTMLView",
      "description": "",
      "description_tooltip": null,
      "layout": "IPY_MODEL_44c46ae2a0dd486e8b12b5a35f8ff0fa",
      "placeholder": "​",
      "style": "IPY_MODEL_65fa9425c1634aa7983701ae7a6b4be3",
      "value": " 3081/3081 [00:00&lt;00:00, 8521.06 examples/s]"
     }
    },
    "60e6df2744cf40afaee1cbe071eae01e": {
     "model_module": "@jupyter-widgets/controls",
     "model_module_version": "1.5.0",
     "model_name": "DescriptionStyleModel",
     "state": {
      "_model_module": "@jupyter-widgets/controls",
      "_model_module_version": "1.5.0",
      "_model_name": "DescriptionStyleModel",
      "_view_count": null,
      "_view_module": "@jupyter-widgets/base",
      "_view_module_version": "1.2.0",
      "_view_name": "StyleView",
      "description_width": ""
     }
    },
    "61d08e8218eb4c37a97a27ba42333517": {
     "model_module": "@jupyter-widgets/base",
     "model_module_version": "1.2.0",
     "model_name": "LayoutModel",
     "state": {
      "_model_module": "@jupyter-widgets/base",
      "_model_module_version": "1.2.0",
      "_model_name": "LayoutModel",
      "_view_count": null,
      "_view_module": "@jupyter-widgets/base",
      "_view_module_version": "1.2.0",
      "_view_name": "LayoutView",
      "align_content": null,
      "align_items": null,
      "align_self": null,
      "border": null,
      "bottom": null,
      "display": null,
      "flex": null,
      "flex_flow": null,
      "grid_area": null,
      "grid_auto_columns": null,
      "grid_auto_flow": null,
      "grid_auto_rows": null,
      "grid_column": null,
      "grid_gap": null,
      "grid_row": null,
      "grid_template_areas": null,
      "grid_template_columns": null,
      "grid_template_rows": null,
      "height": null,
      "justify_content": null,
      "justify_items": null,
      "left": null,
      "margin": null,
      "max_height": null,
      "max_width": null,
      "min_height": null,
      "min_width": null,
      "object_fit": null,
      "object_position": null,
      "order": null,
      "overflow": null,
      "overflow_x": null,
      "overflow_y": null,
      "padding": null,
      "right": null,
      "top": null,
      "visibility": null,
      "width": null
     }
    },
    "61d1ee6617f3473da9b5e40b1ac00fbf": {
     "model_module": "@jupyter-widgets/controls",
     "model_module_version": "1.5.0",
     "model_name": "HTMLModel",
     "state": {
      "_dom_classes": [],
      "_model_module": "@jupyter-widgets/controls",
      "_model_module_version": "1.5.0",
      "_model_name": "HTMLModel",
      "_view_count": null,
      "_view_module": "@jupyter-widgets/controls",
      "_view_module_version": "1.5.0",
      "_view_name": "HTMLView",
      "description": "",
      "description_tooltip": null,
      "layout": "IPY_MODEL_072fea3dc9ba40f0b6e781f8755a322f",
      "placeholder": "​",
      "style": "IPY_MODEL_a1c3ad8b4f61434b9d41fb0ffda79991",
      "value": " 440M/440M [00:01&lt;00:00, 316MB/s]"
     }
    },
    "622af824740148f8a404ce3cf428db53": {
     "model_module": "@jupyter-widgets/controls",
     "model_module_version": "1.5.0",
     "model_name": "ProgressStyleModel",
     "state": {
      "_model_module": "@jupyter-widgets/controls",
      "_model_module_version": "1.5.0",
      "_model_name": "ProgressStyleModel",
      "_view_count": null,
      "_view_module": "@jupyter-widgets/base",
      "_view_module_version": "1.2.0",
      "_view_name": "StyleView",
      "bar_color": null,
      "description_width": ""
     }
    },
    "62b8ba29be2c4518971e3ca4c03845c1": {
     "model_module": "@jupyter-widgets/controls",
     "model_module_version": "1.5.0",
     "model_name": "HTMLModel",
     "state": {
      "_dom_classes": [],
      "_model_module": "@jupyter-widgets/controls",
      "_model_module_version": "1.5.0",
      "_model_name": "HTMLModel",
      "_view_count": null,
      "_view_module": "@jupyter-widgets/controls",
      "_view_module_version": "1.5.0",
      "_view_name": "HTMLView",
      "description": "",
      "description_tooltip": null,
      "layout": "IPY_MODEL_9f1735288ea745f39f95127366bb8698",
      "placeholder": "​",
      "style": "IPY_MODEL_2a81d0cf6f654efeac3f2522b7fc0186",
      "value": " 48.0/48.0 [00:00&lt;00:00, 3.46kB/s]"
     }
    },
    "635101e9dd8a4448bc74a0ed4316c507": {
     "model_module": "@jupyter-widgets/controls",
     "model_module_version": "1.5.0",
     "model_name": "FloatProgressModel",
     "state": {
      "_dom_classes": [],
      "_model_module": "@jupyter-widgets/controls",
      "_model_module_version": "1.5.0",
      "_model_name": "FloatProgressModel",
      "_view_count": null,
      "_view_module": "@jupyter-widgets/controls",
      "_view_module_version": "1.5.0",
      "_view_name": "ProgressView",
      "bar_style": "success",
      "description": "",
      "description_tooltip": null,
      "layout": "IPY_MODEL_a6e572e7ab67495b8a5b4b1a50af8e0b",
      "max": 771,
      "min": 0,
      "orientation": "horizontal",
      "style": "IPY_MODEL_ea7f12de56e446b19f407e6e092af4ba",
      "value": 771
     }
    },
    "6381a57dd82848689065de71dda55749": {
     "model_module": "@jupyter-widgets/controls",
     "model_module_version": "1.5.0",
     "model_name": "DescriptionStyleModel",
     "state": {
      "_model_module": "@jupyter-widgets/controls",
      "_model_module_version": "1.5.0",
      "_model_name": "DescriptionStyleModel",
      "_view_count": null,
      "_view_module": "@jupyter-widgets/base",
      "_view_module_version": "1.2.0",
      "_view_name": "StyleView",
      "description_width": ""
     }
    },
    "645f6ba5ef364830bfb4c43034233b18": {
     "model_module": "@jupyter-widgets/base",
     "model_module_version": "1.2.0",
     "model_name": "LayoutModel",
     "state": {
      "_model_module": "@jupyter-widgets/base",
      "_model_module_version": "1.2.0",
      "_model_name": "LayoutModel",
      "_view_count": null,
      "_view_module": "@jupyter-widgets/base",
      "_view_module_version": "1.2.0",
      "_view_name": "LayoutView",
      "align_content": null,
      "align_items": null,
      "align_self": null,
      "border": null,
      "bottom": null,
      "display": null,
      "flex": null,
      "flex_flow": null,
      "grid_area": null,
      "grid_auto_columns": null,
      "grid_auto_flow": null,
      "grid_auto_rows": null,
      "grid_column": null,
      "grid_gap": null,
      "grid_row": null,
      "grid_template_areas": null,
      "grid_template_columns": null,
      "grid_template_rows": null,
      "height": null,
      "justify_content": null,
      "justify_items": null,
      "left": null,
      "margin": null,
      "max_height": null,
      "max_width": null,
      "min_height": null,
      "min_width": null,
      "object_fit": null,
      "object_position": null,
      "order": null,
      "overflow": null,
      "overflow_x": null,
      "overflow_y": null,
      "padding": null,
      "right": null,
      "top": null,
      "visibility": null,
      "width": null
     }
    },
    "64cecc3cdf97483990e52c2b0311601f": {
     "model_module": "@jupyter-widgets/controls",
     "model_module_version": "1.5.0",
     "model_name": "DescriptionStyleModel",
     "state": {
      "_model_module": "@jupyter-widgets/controls",
      "_model_module_version": "1.5.0",
      "_model_name": "DescriptionStyleModel",
      "_view_count": null,
      "_view_module": "@jupyter-widgets/base",
      "_view_module_version": "1.2.0",
      "_view_name": "StyleView",
      "description_width": ""
     }
    },
    "64fe242aa6184a7cbff04d4043267e05": {
     "model_module": "@jupyter-widgets/base",
     "model_module_version": "1.2.0",
     "model_name": "LayoutModel",
     "state": {
      "_model_module": "@jupyter-widgets/base",
      "_model_module_version": "1.2.0",
      "_model_name": "LayoutModel",
      "_view_count": null,
      "_view_module": "@jupyter-widgets/base",
      "_view_module_version": "1.2.0",
      "_view_name": "LayoutView",
      "align_content": null,
      "align_items": null,
      "align_self": null,
      "border": null,
      "bottom": null,
      "display": null,
      "flex": null,
      "flex_flow": null,
      "grid_area": null,
      "grid_auto_columns": null,
      "grid_auto_flow": null,
      "grid_auto_rows": null,
      "grid_column": null,
      "grid_gap": null,
      "grid_row": null,
      "grid_template_areas": null,
      "grid_template_columns": null,
      "grid_template_rows": null,
      "height": null,
      "justify_content": null,
      "justify_items": null,
      "left": null,
      "margin": null,
      "max_height": null,
      "max_width": null,
      "min_height": null,
      "min_width": null,
      "object_fit": null,
      "object_position": null,
      "order": null,
      "overflow": null,
      "overflow_x": null,
      "overflow_y": null,
      "padding": null,
      "right": null,
      "top": null,
      "visibility": null,
      "width": null
     }
    },
    "65a0252124e24f13a7db5e4c1bf29fc2": {
     "model_module": "@jupyter-widgets/controls",
     "model_module_version": "1.5.0",
     "model_name": "ProgressStyleModel",
     "state": {
      "_model_module": "@jupyter-widgets/controls",
      "_model_module_version": "1.5.0",
      "_model_name": "ProgressStyleModel",
      "_view_count": null,
      "_view_module": "@jupyter-widgets/base",
      "_view_module_version": "1.2.0",
      "_view_name": "StyleView",
      "bar_color": null,
      "description_width": ""
     }
    },
    "65b52af198f04e0f8500eed14d3d4f8e": {
     "model_module": "@jupyter-widgets/controls",
     "model_module_version": "1.5.0",
     "model_name": "HTMLModel",
     "state": {
      "_dom_classes": [],
      "_model_module": "@jupyter-widgets/controls",
      "_model_module_version": "1.5.0",
      "_model_name": "HTMLModel",
      "_view_count": null,
      "_view_module": "@jupyter-widgets/controls",
      "_view_module_version": "1.5.0",
      "_view_name": "HTMLView",
      "description": "",
      "description_tooltip": null,
      "layout": "IPY_MODEL_43e354bd826a4538a1bc08972f52f711",
      "placeholder": "​",
      "style": "IPY_MODEL_aeea02bd03be406bb2b047e3e9b82f95",
      "value": "Map: 100%"
     }
    },
    "65fa5ad06c2841f4bf33c3d917dfe686": {
     "model_module": "@jupyter-widgets/controls",
     "model_module_version": "1.5.0",
     "model_name": "HBoxModel",
     "state": {
      "_dom_classes": [],
      "_model_module": "@jupyter-widgets/controls",
      "_model_module_version": "1.5.0",
      "_model_name": "HBoxModel",
      "_view_count": null,
      "_view_module": "@jupyter-widgets/controls",
      "_view_module_version": "1.5.0",
      "_view_name": "HBoxView",
      "box_style": "",
      "children": [
       "IPY_MODEL_e9c3ea0435a14ce29d1c86b313ba9a54",
       "IPY_MODEL_d0465475c82e4484842703a19508ef59",
       "IPY_MODEL_cb4b2c83ca8a43e18823bb1c3a79fb0a"
      ],
      "layout": "IPY_MODEL_1f95a9be7f54444b88744c67e8da5a80"
     }
    },
    "65fa9425c1634aa7983701ae7a6b4be3": {
     "model_module": "@jupyter-widgets/controls",
     "model_module_version": "1.5.0",
     "model_name": "DescriptionStyleModel",
     "state": {
      "_model_module": "@jupyter-widgets/controls",
      "_model_module_version": "1.5.0",
      "_model_name": "DescriptionStyleModel",
      "_view_count": null,
      "_view_module": "@jupyter-widgets/base",
      "_view_module_version": "1.2.0",
      "_view_name": "StyleView",
      "description_width": ""
     }
    },
    "666266a80a094b599299c3dffd219c36": {
     "model_module": "@jupyter-widgets/base",
     "model_module_version": "1.2.0",
     "model_name": "LayoutModel",
     "state": {
      "_model_module": "@jupyter-widgets/base",
      "_model_module_version": "1.2.0",
      "_model_name": "LayoutModel",
      "_view_count": null,
      "_view_module": "@jupyter-widgets/base",
      "_view_module_version": "1.2.0",
      "_view_name": "LayoutView",
      "align_content": null,
      "align_items": null,
      "align_self": null,
      "border": null,
      "bottom": null,
      "display": null,
      "flex": null,
      "flex_flow": null,
      "grid_area": null,
      "grid_auto_columns": null,
      "grid_auto_flow": null,
      "grid_auto_rows": null,
      "grid_column": null,
      "grid_gap": null,
      "grid_row": null,
      "grid_template_areas": null,
      "grid_template_columns": null,
      "grid_template_rows": null,
      "height": null,
      "justify_content": null,
      "justify_items": null,
      "left": null,
      "margin": null,
      "max_height": null,
      "max_width": null,
      "min_height": null,
      "min_width": null,
      "object_fit": null,
      "object_position": null,
      "order": null,
      "overflow": null,
      "overflow_x": null,
      "overflow_y": null,
      "padding": null,
      "right": null,
      "top": null,
      "visibility": null,
      "width": null
     }
    },
    "6772d51b7bb544eaa1c86e0836e49766": {
     "model_module": "@jupyter-widgets/controls",
     "model_module_version": "1.5.0",
     "model_name": "ProgressStyleModel",
     "state": {
      "_model_module": "@jupyter-widgets/controls",
      "_model_module_version": "1.5.0",
      "_model_name": "ProgressStyleModel",
      "_view_count": null,
      "_view_module": "@jupyter-widgets/base",
      "_view_module_version": "1.2.0",
      "_view_name": "StyleView",
      "bar_color": null,
      "description_width": ""
     }
    },
    "67c086e6a2e347ce8378a7ea4041b27d": {
     "model_module": "@jupyter-widgets/controls",
     "model_module_version": "1.5.0",
     "model_name": "HBoxModel",
     "state": {
      "_dom_classes": [],
      "_model_module": "@jupyter-widgets/controls",
      "_model_module_version": "1.5.0",
      "_model_name": "HBoxModel",
      "_view_count": null,
      "_view_module": "@jupyter-widgets/controls",
      "_view_module_version": "1.5.0",
      "_view_name": "HBoxView",
      "box_style": "",
      "children": [
       "IPY_MODEL_65b52af198f04e0f8500eed14d3d4f8e",
       "IPY_MODEL_635101e9dd8a4448bc74a0ed4316c507",
       "IPY_MODEL_43bdb3e2257745268c506b8051afb03c"
      ],
      "layout": "IPY_MODEL_e175619272a145949a2ec548819dd4eb"
     }
    },
    "67d215dd5e024d0d922c6ea2a8a1b36f": {
     "model_module": "@jupyter-widgets/controls",
     "model_module_version": "1.5.0",
     "model_name": "ProgressStyleModel",
     "state": {
      "_model_module": "@jupyter-widgets/controls",
      "_model_module_version": "1.5.0",
      "_model_name": "ProgressStyleModel",
      "_view_count": null,
      "_view_module": "@jupyter-widgets/base",
      "_view_module_version": "1.2.0",
      "_view_name": "StyleView",
      "bar_color": null,
      "description_width": ""
     }
    },
    "687ec11348cd4044896fb407e3359a04": {
     "model_module": "@jupyter-widgets/controls",
     "model_module_version": "1.5.0",
     "model_name": "DescriptionStyleModel",
     "state": {
      "_model_module": "@jupyter-widgets/controls",
      "_model_module_version": "1.5.0",
      "_model_name": "DescriptionStyleModel",
      "_view_count": null,
      "_view_module": "@jupyter-widgets/base",
      "_view_module_version": "1.2.0",
      "_view_name": "StyleView",
      "description_width": ""
     }
    },
    "690943997d60421d8b948a0e0bf1e957": {
     "model_module": "@jupyter-widgets/controls",
     "model_module_version": "1.5.0",
     "model_name": "HTMLModel",
     "state": {
      "_dom_classes": [],
      "_model_module": "@jupyter-widgets/controls",
      "_model_module_version": "1.5.0",
      "_model_name": "HTMLModel",
      "_view_count": null,
      "_view_module": "@jupyter-widgets/controls",
      "_view_module_version": "1.5.0",
      "_view_name": "HTMLView",
      "description": "",
      "description_tooltip": null,
      "layout": "IPY_MODEL_ca388e55eafd41a483980574fb090a22",
      "placeholder": "​",
      "style": "IPY_MODEL_b816a4edc3bd41e0868a82e1d007e067",
      "value": " 26.0/26.0 [00:00&lt;00:00, 538B/s]"
     }
    },
    "6a07d0daadd84589abeca17d55fa0c8e": {
     "model_module": "@jupyter-widgets/base",
     "model_module_version": "1.2.0",
     "model_name": "LayoutModel",
     "state": {
      "_model_module": "@jupyter-widgets/base",
      "_model_module_version": "1.2.0",
      "_model_name": "LayoutModel",
      "_view_count": null,
      "_view_module": "@jupyter-widgets/base",
      "_view_module_version": "1.2.0",
      "_view_name": "LayoutView",
      "align_content": null,
      "align_items": null,
      "align_self": null,
      "border": null,
      "bottom": null,
      "display": null,
      "flex": null,
      "flex_flow": null,
      "grid_area": null,
      "grid_auto_columns": null,
      "grid_auto_flow": null,
      "grid_auto_rows": null,
      "grid_column": null,
      "grid_gap": null,
      "grid_row": null,
      "grid_template_areas": null,
      "grid_template_columns": null,
      "grid_template_rows": null,
      "height": null,
      "justify_content": null,
      "justify_items": null,
      "left": null,
      "margin": null,
      "max_height": null,
      "max_width": null,
      "min_height": null,
      "min_width": null,
      "object_fit": null,
      "object_position": null,
      "order": null,
      "overflow": null,
      "overflow_x": null,
      "overflow_y": null,
      "padding": null,
      "right": null,
      "top": null,
      "visibility": null,
      "width": null
     }
    },
    "6a39130caf3f455d8f0f1d002a74bdb1": {
     "model_module": "@jupyter-widgets/controls",
     "model_module_version": "1.5.0",
     "model_name": "DescriptionStyleModel",
     "state": {
      "_model_module": "@jupyter-widgets/controls",
      "_model_module_version": "1.5.0",
      "_model_name": "DescriptionStyleModel",
      "_view_count": null,
      "_view_module": "@jupyter-widgets/base",
      "_view_module_version": "1.2.0",
      "_view_name": "StyleView",
      "description_width": ""
     }
    },
    "6a77df41417c4a84adaad20c94b23416": {
     "model_module": "@jupyter-widgets/controls",
     "model_module_version": "1.5.0",
     "model_name": "DescriptionStyleModel",
     "state": {
      "_model_module": "@jupyter-widgets/controls",
      "_model_module_version": "1.5.0",
      "_model_name": "DescriptionStyleModel",
      "_view_count": null,
      "_view_module": "@jupyter-widgets/base",
      "_view_module_version": "1.2.0",
      "_view_name": "StyleView",
      "description_width": ""
     }
    },
    "6b11860e26f94a3a8a71315334e4e3c6": {
     "model_module": "@jupyter-widgets/base",
     "model_module_version": "1.2.0",
     "model_name": "LayoutModel",
     "state": {
      "_model_module": "@jupyter-widgets/base",
      "_model_module_version": "1.2.0",
      "_model_name": "LayoutModel",
      "_view_count": null,
      "_view_module": "@jupyter-widgets/base",
      "_view_module_version": "1.2.0",
      "_view_name": "LayoutView",
      "align_content": null,
      "align_items": null,
      "align_self": null,
      "border": null,
      "bottom": null,
      "display": null,
      "flex": null,
      "flex_flow": null,
      "grid_area": null,
      "grid_auto_columns": null,
      "grid_auto_flow": null,
      "grid_auto_rows": null,
      "grid_column": null,
      "grid_gap": null,
      "grid_row": null,
      "grid_template_areas": null,
      "grid_template_columns": null,
      "grid_template_rows": null,
      "height": null,
      "justify_content": null,
      "justify_items": null,
      "left": null,
      "margin": null,
      "max_height": null,
      "max_width": null,
      "min_height": null,
      "min_width": null,
      "object_fit": null,
      "object_position": null,
      "order": null,
      "overflow": null,
      "overflow_x": null,
      "overflow_y": null,
      "padding": null,
      "right": null,
      "top": null,
      "visibility": null,
      "width": null
     }
    },
    "6b7101cea911496e98007d220c75a05b": {
     "model_module": "@jupyter-widgets/controls",
     "model_module_version": "1.5.0",
     "model_name": "HTMLModel",
     "state": {
      "_dom_classes": [],
      "_model_module": "@jupyter-widgets/controls",
      "_model_module_version": "1.5.0",
      "_model_name": "HTMLModel",
      "_view_count": null,
      "_view_module": "@jupyter-widgets/controls",
      "_view_module_version": "1.5.0",
      "_view_name": "HTMLView",
      "description": "",
      "description_tooltip": null,
      "layout": "IPY_MODEL_0c2b3e3f7a494b6bb3e46003c6770571",
      "placeholder": "​",
      "style": "IPY_MODEL_3f6daa12dce64d348ddd971c5417726e",
      "value": "config.json: 100%"
     }
    },
    "6b9430e328e246978f9162e256060cec": {
     "model_module": "@jupyter-widgets/controls",
     "model_module_version": "1.5.0",
     "model_name": "HTMLModel",
     "state": {
      "_dom_classes": [],
      "_model_module": "@jupyter-widgets/controls",
      "_model_module_version": "1.5.0",
      "_model_name": "HTMLModel",
      "_view_count": null,
      "_view_module": "@jupyter-widgets/controls",
      "_view_module_version": "1.5.0",
      "_view_name": "HTMLView",
      "description": "",
      "description_tooltip": null,
      "layout": "IPY_MODEL_29d95cc429b74415b08672657ab320c7",
      "placeholder": "​",
      "style": "IPY_MODEL_86875d1a86354e4787e872c98083210d",
      "value": " 1.04M/1.04M [00:00&lt;00:00, 4.25MB/s]"
     }
    },
    "6b97eb69cc3d403abf0b32cd988f7706": {
     "model_module": "@jupyter-widgets/controls",
     "model_module_version": "1.5.0",
     "model_name": "FloatProgressModel",
     "state": {
      "_dom_classes": [],
      "_model_module": "@jupyter-widgets/controls",
      "_model_module_version": "1.5.0",
      "_model_name": "FloatProgressModel",
      "_view_count": null,
      "_view_module": "@jupyter-widgets/controls",
      "_view_module_version": "1.5.0",
      "_view_name": "ProgressView",
      "bar_style": "success",
      "description": "",
      "description_tooltip": null,
      "layout": "IPY_MODEL_4cac570ecf964757aec9d3a24d86138c",
      "max": 231508,
      "min": 0,
      "orientation": "horizontal",
      "style": "IPY_MODEL_2ac98ce69f164fdfbfb7ff99ddbec967",
      "value": 231508
     }
    },
    "6c8aa9cbdfa64cba90c1c3ee782cf348": {
     "model_module": "@jupyter-widgets/controls",
     "model_module_version": "1.5.0",
     "model_name": "HTMLModel",
     "state": {
      "_dom_classes": [],
      "_model_module": "@jupyter-widgets/controls",
      "_model_module_version": "1.5.0",
      "_model_name": "HTMLModel",
      "_view_count": null,
      "_view_module": "@jupyter-widgets/controls",
      "_view_module_version": "1.5.0",
      "_view_name": "HTMLView",
      "description": "",
      "description_tooltip": null,
      "layout": "IPY_MODEL_cdf02697fb654a65bcdf5886f102b4da",
      "placeholder": "​",
      "style": "IPY_MODEL_81304ddd745d4ed5be9b97220aa86095",
      "value": " 323/323 [00:00&lt;00:00, 6452.25 examples/s]"
     }
    },
    "6c9e2cc3d6b84d47bf71568457444be8": {
     "model_module": "@jupyter-widgets/controls",
     "model_module_version": "1.5.0",
     "model_name": "HTMLModel",
     "state": {
      "_dom_classes": [],
      "_model_module": "@jupyter-widgets/controls",
      "_model_module_version": "1.5.0",
      "_model_name": "HTMLModel",
      "_view_count": null,
      "_view_module": "@jupyter-widgets/controls",
      "_view_module_version": "1.5.0",
      "_view_name": "HTMLView",
      "description": "",
      "description_tooltip": null,
      "layout": "IPY_MODEL_da76d47c353f44068f5d2e41190e0d62",
      "placeholder": "​",
      "style": "IPY_MODEL_4969585bd7e842038c8f4f7d3bc6efe1",
      "value": " 771/771 [00:00&lt;00:00, 7082.60 examples/s]"
     }
    },
    "6d2a23d441284fc58af4502bd9c213f5": {
     "model_module": "@jupyter-widgets/controls",
     "model_module_version": "1.5.0",
     "model_name": "HBoxModel",
     "state": {
      "_dom_classes": [],
      "_model_module": "@jupyter-widgets/controls",
      "_model_module_version": "1.5.0",
      "_model_name": "HBoxModel",
      "_view_count": null,
      "_view_module": "@jupyter-widgets/controls",
      "_view_module_version": "1.5.0",
      "_view_name": "HBoxView",
      "box_style": "",
      "children": [
       "IPY_MODEL_4d8e31a1dc0c4787891c15c6036ffab1",
       "IPY_MODEL_e1b5654d0d294ef9a0ac65bad7e41ad6",
       "IPY_MODEL_da6b104c271d4ea387af13b328e40fb6"
      ],
      "layout": "IPY_MODEL_2daec0b4c2c941d2a2be950111102b2d"
     }
    },
    "6d730e29f1794da08e4757a0bda3e67f": {
     "model_module": "@jupyter-widgets/base",
     "model_module_version": "1.2.0",
     "model_name": "LayoutModel",
     "state": {
      "_model_module": "@jupyter-widgets/base",
      "_model_module_version": "1.2.0",
      "_model_name": "LayoutModel",
      "_view_count": null,
      "_view_module": "@jupyter-widgets/base",
      "_view_module_version": "1.2.0",
      "_view_name": "LayoutView",
      "align_content": null,
      "align_items": null,
      "align_self": null,
      "border": null,
      "bottom": null,
      "display": null,
      "flex": null,
      "flex_flow": null,
      "grid_area": null,
      "grid_auto_columns": null,
      "grid_auto_flow": null,
      "grid_auto_rows": null,
      "grid_column": null,
      "grid_gap": null,
      "grid_row": null,
      "grid_template_areas": null,
      "grid_template_columns": null,
      "grid_template_rows": null,
      "height": null,
      "justify_content": null,
      "justify_items": null,
      "left": null,
      "margin": null,
      "max_height": null,
      "max_width": null,
      "min_height": null,
      "min_width": null,
      "object_fit": null,
      "object_position": null,
      "order": null,
      "overflow": null,
      "overflow_x": null,
      "overflow_y": null,
      "padding": null,
      "right": null,
      "top": null,
      "visibility": null,
      "width": null
     }
    },
    "6f6b8a2799d9496a820168a6a33a62d5": {
     "model_module": "@jupyter-widgets/controls",
     "model_module_version": "1.5.0",
     "model_name": "HTMLModel",
     "state": {
      "_dom_classes": [],
      "_model_module": "@jupyter-widgets/controls",
      "_model_module_version": "1.5.0",
      "_model_name": "HTMLModel",
      "_view_count": null,
      "_view_module": "@jupyter-widgets/controls",
      "_view_module_version": "1.5.0",
      "_view_name": "HTMLView",
      "description": "",
      "description_tooltip": null,
      "layout": "IPY_MODEL_a338d6cd66b144819521d0ab553719f1",
      "placeholder": "​",
      "style": "IPY_MODEL_9911f6d5447a410b9bf7a0e3dc966b13",
      "value": " 1.36M/1.36M [00:00&lt;00:00, 5.38MB/s]"
     }
    },
    "6fd602b801f0475db9c933fca5d2eb78": {
     "model_module": "@jupyter-widgets/base",
     "model_module_version": "1.2.0",
     "model_name": "LayoutModel",
     "state": {
      "_model_module": "@jupyter-widgets/base",
      "_model_module_version": "1.2.0",
      "_model_name": "LayoutModel",
      "_view_count": null,
      "_view_module": "@jupyter-widgets/base",
      "_view_module_version": "1.2.0",
      "_view_name": "LayoutView",
      "align_content": null,
      "align_items": null,
      "align_self": null,
      "border": null,
      "bottom": null,
      "display": null,
      "flex": null,
      "flex_flow": null,
      "grid_area": null,
      "grid_auto_columns": null,
      "grid_auto_flow": null,
      "grid_auto_rows": null,
      "grid_column": null,
      "grid_gap": null,
      "grid_row": null,
      "grid_template_areas": null,
      "grid_template_columns": null,
      "grid_template_rows": null,
      "height": null,
      "justify_content": null,
      "justify_items": null,
      "left": null,
      "margin": null,
      "max_height": null,
      "max_width": null,
      "min_height": null,
      "min_width": null,
      "object_fit": null,
      "object_position": null,
      "order": null,
      "overflow": null,
      "overflow_x": null,
      "overflow_y": null,
      "padding": null,
      "right": null,
      "top": null,
      "visibility": null,
      "width": null
     }
    },
    "7034dcd30e414f14a4c06c00cc2ade13": {
     "model_module": "@jupyter-widgets/controls",
     "model_module_version": "1.5.0",
     "model_name": "HTMLModel",
     "state": {
      "_dom_classes": [],
      "_model_module": "@jupyter-widgets/controls",
      "_model_module_version": "1.5.0",
      "_model_name": "HTMLModel",
      "_view_count": null,
      "_view_module": "@jupyter-widgets/controls",
      "_view_module_version": "1.5.0",
      "_view_name": "HTMLView",
      "description": "",
      "description_tooltip": null,
      "layout": "IPY_MODEL_6048025355d34b3ba0bcc2df379dfa05",
      "placeholder": "​",
      "style": "IPY_MODEL_6a77df41417c4a84adaad20c94b23416",
      "value": " 771/771 [00:08&lt;00:00, 69.60 examples/s]"
     }
    },
    "70ae6722b0d34f91b70f435b8162e878": {
     "model_module": "@jupyter-widgets/controls",
     "model_module_version": "1.5.0",
     "model_name": "DescriptionStyleModel",
     "state": {
      "_model_module": "@jupyter-widgets/controls",
      "_model_module_version": "1.5.0",
      "_model_name": "DescriptionStyleModel",
      "_view_count": null,
      "_view_module": "@jupyter-widgets/base",
      "_view_module_version": "1.2.0",
      "_view_name": "StyleView",
      "description_width": ""
     }
    },
    "70db9c1a40214b50a30862988d18e717": {
     "model_module": "@jupyter-widgets/base",
     "model_module_version": "1.2.0",
     "model_name": "LayoutModel",
     "state": {
      "_model_module": "@jupyter-widgets/base",
      "_model_module_version": "1.2.0",
      "_model_name": "LayoutModel",
      "_view_count": null,
      "_view_module": "@jupyter-widgets/base",
      "_view_module_version": "1.2.0",
      "_view_name": "LayoutView",
      "align_content": null,
      "align_items": null,
      "align_self": null,
      "border": null,
      "bottom": null,
      "display": null,
      "flex": null,
      "flex_flow": null,
      "grid_area": null,
      "grid_auto_columns": null,
      "grid_auto_flow": null,
      "grid_auto_rows": null,
      "grid_column": null,
      "grid_gap": null,
      "grid_row": null,
      "grid_template_areas": null,
      "grid_template_columns": null,
      "grid_template_rows": null,
      "height": null,
      "justify_content": null,
      "justify_items": null,
      "left": null,
      "margin": null,
      "max_height": null,
      "max_width": null,
      "min_height": null,
      "min_width": null,
      "object_fit": null,
      "object_position": null,
      "order": null,
      "overflow": null,
      "overflow_x": null,
      "overflow_y": null,
      "padding": null,
      "right": null,
      "top": null,
      "visibility": null,
      "width": null
     }
    },
    "70e214355ffd434dacdd6b959e04b4c7": {
     "model_module": "@jupyter-widgets/controls",
     "model_module_version": "1.5.0",
     "model_name": "HBoxModel",
     "state": {
      "_dom_classes": [],
      "_model_module": "@jupyter-widgets/controls",
      "_model_module_version": "1.5.0",
      "_model_name": "HBoxModel",
      "_view_count": null,
      "_view_module": "@jupyter-widgets/controls",
      "_view_module_version": "1.5.0",
      "_view_name": "HBoxView",
      "box_style": "",
      "children": [
       "IPY_MODEL_8b1ed30ccf3143228a3aea84f390d41e",
       "IPY_MODEL_fc64554be0cc4dbcb7d17ef58fe55262",
       "IPY_MODEL_ba38d898cea04cc29db7a49d3d3367d4"
      ],
      "layout": "IPY_MODEL_abcd64d0a2ee4adeb749cc2fc34e3a6a"
     }
    },
    "7273d05e25dd4af98ca58416bc2d1cb5": {
     "model_module": "@jupyter-widgets/controls",
     "model_module_version": "1.5.0",
     "model_name": "HTMLModel",
     "state": {
      "_dom_classes": [],
      "_model_module": "@jupyter-widgets/controls",
      "_model_module_version": "1.5.0",
      "_model_name": "HTMLModel",
      "_view_count": null,
      "_view_module": "@jupyter-widgets/controls",
      "_view_module_version": "1.5.0",
      "_view_name": "HTMLView",
      "description": "",
      "description_tooltip": null,
      "layout": "IPY_MODEL_b2414b78400c4a4c8a87cbbed9668d13",
      "placeholder": "​",
      "style": "IPY_MODEL_3560a5a7dea44f0fb8b56a5f83fd5597",
      "value": "model.safetensors: 100%"
     }
    },
    "739a81b3b3d44ac9b906227cad969bbc": {
     "model_module": "@jupyter-widgets/base",
     "model_module_version": "1.2.0",
     "model_name": "LayoutModel",
     "state": {
      "_model_module": "@jupyter-widgets/base",
      "_model_module_version": "1.2.0",
      "_model_name": "LayoutModel",
      "_view_count": null,
      "_view_module": "@jupyter-widgets/base",
      "_view_module_version": "1.2.0",
      "_view_name": "LayoutView",
      "align_content": null,
      "align_items": null,
      "align_self": null,
      "border": null,
      "bottom": null,
      "display": null,
      "flex": null,
      "flex_flow": null,
      "grid_area": null,
      "grid_auto_columns": null,
      "grid_auto_flow": null,
      "grid_auto_rows": null,
      "grid_column": null,
      "grid_gap": null,
      "grid_row": null,
      "grid_template_areas": null,
      "grid_template_columns": null,
      "grid_template_rows": null,
      "height": null,
      "justify_content": null,
      "justify_items": null,
      "left": null,
      "margin": null,
      "max_height": null,
      "max_width": null,
      "min_height": null,
      "min_width": null,
      "object_fit": null,
      "object_position": null,
      "order": null,
      "overflow": null,
      "overflow_x": null,
      "overflow_y": null,
      "padding": null,
      "right": null,
      "top": null,
      "visibility": null,
      "width": null
     }
    },
    "7742499693bb46a1888069358f2412a6": {
     "model_module": "@jupyter-widgets/base",
     "model_module_version": "1.2.0",
     "model_name": "LayoutModel",
     "state": {
      "_model_module": "@jupyter-widgets/base",
      "_model_module_version": "1.2.0",
      "_model_name": "LayoutModel",
      "_view_count": null,
      "_view_module": "@jupyter-widgets/base",
      "_view_module_version": "1.2.0",
      "_view_name": "LayoutView",
      "align_content": null,
      "align_items": null,
      "align_self": null,
      "border": null,
      "bottom": null,
      "display": null,
      "flex": null,
      "flex_flow": null,
      "grid_area": null,
      "grid_auto_columns": null,
      "grid_auto_flow": null,
      "grid_auto_rows": null,
      "grid_column": null,
      "grid_gap": null,
      "grid_row": null,
      "grid_template_areas": null,
      "grid_template_columns": null,
      "grid_template_rows": null,
      "height": null,
      "justify_content": null,
      "justify_items": null,
      "left": null,
      "margin": null,
      "max_height": null,
      "max_width": null,
      "min_height": null,
      "min_width": null,
      "object_fit": null,
      "object_position": null,
      "order": null,
      "overflow": null,
      "overflow_x": null,
      "overflow_y": null,
      "padding": null,
      "right": null,
      "top": null,
      "visibility": null,
      "width": null
     }
    },
    "77c90f063ce747aa9db15f2ae48d839d": {
     "model_module": "@jupyter-widgets/controls",
     "model_module_version": "1.5.0",
     "model_name": "HTMLModel",
     "state": {
      "_dom_classes": [],
      "_model_module": "@jupyter-widgets/controls",
      "_model_module_version": "1.5.0",
      "_model_name": "HTMLModel",
      "_view_count": null,
      "_view_module": "@jupyter-widgets/controls",
      "_view_module_version": "1.5.0",
      "_view_name": "HTMLView",
      "description": "",
      "description_tooltip": null,
      "layout": "IPY_MODEL_cfbaf259829247f49994bf1e605b3e03",
      "placeholder": "​",
      "style": "IPY_MODEL_60e6df2744cf40afaee1cbe071eae01e",
      "value": "vocab.json: 100%"
     }
    },
    "784f4fb1e01241adab3acfcbf341a0ec": {
     "model_module": "@jupyter-widgets/base",
     "model_module_version": "1.2.0",
     "model_name": "LayoutModel",
     "state": {
      "_model_module": "@jupyter-widgets/base",
      "_model_module_version": "1.2.0",
      "_model_name": "LayoutModel",
      "_view_count": null,
      "_view_module": "@jupyter-widgets/base",
      "_view_module_version": "1.2.0",
      "_view_name": "LayoutView",
      "align_content": null,
      "align_items": null,
      "align_self": null,
      "border": null,
      "bottom": null,
      "display": null,
      "flex": null,
      "flex_flow": null,
      "grid_area": null,
      "grid_auto_columns": null,
      "grid_auto_flow": null,
      "grid_auto_rows": null,
      "grid_column": null,
      "grid_gap": null,
      "grid_row": null,
      "grid_template_areas": null,
      "grid_template_columns": null,
      "grid_template_rows": null,
      "height": null,
      "justify_content": null,
      "justify_items": null,
      "left": null,
      "margin": null,
      "max_height": null,
      "max_width": null,
      "min_height": null,
      "min_width": null,
      "object_fit": null,
      "object_position": null,
      "order": null,
      "overflow": null,
      "overflow_x": null,
      "overflow_y": null,
      "padding": null,
      "right": null,
      "top": null,
      "visibility": null,
      "width": null
     }
    },
    "78b58c720fdd4720aa4bee7197007309": {
     "model_module": "@jupyter-widgets/base",
     "model_module_version": "1.2.0",
     "model_name": "LayoutModel",
     "state": {
      "_model_module": "@jupyter-widgets/base",
      "_model_module_version": "1.2.0",
      "_model_name": "LayoutModel",
      "_view_count": null,
      "_view_module": "@jupyter-widgets/base",
      "_view_module_version": "1.2.0",
      "_view_name": "LayoutView",
      "align_content": null,
      "align_items": null,
      "align_self": null,
      "border": null,
      "bottom": null,
      "display": null,
      "flex": null,
      "flex_flow": null,
      "grid_area": null,
      "grid_auto_columns": null,
      "grid_auto_flow": null,
      "grid_auto_rows": null,
      "grid_column": null,
      "grid_gap": null,
      "grid_row": null,
      "grid_template_areas": null,
      "grid_template_columns": null,
      "grid_template_rows": null,
      "height": null,
      "justify_content": null,
      "justify_items": null,
      "left": null,
      "margin": null,
      "max_height": null,
      "max_width": null,
      "min_height": null,
      "min_width": null,
      "object_fit": null,
      "object_position": null,
      "order": null,
      "overflow": null,
      "overflow_x": null,
      "overflow_y": null,
      "padding": null,
      "right": null,
      "top": null,
      "visibility": null,
      "width": null
     }
    },
    "78f879c46a7f4a18ae2de70654121f0f": {
     "model_module": "@jupyter-widgets/controls",
     "model_module_version": "1.5.0",
     "model_name": "FloatProgressModel",
     "state": {
      "_dom_classes": [],
      "_model_module": "@jupyter-widgets/controls",
      "_model_module_version": "1.5.0",
      "_model_name": "FloatProgressModel",
      "_view_count": null,
      "_view_module": "@jupyter-widgets/controls",
      "_view_module_version": "1.5.0",
      "_view_name": "ProgressView",
      "bar_style": "success",
      "description": "",
      "description_tooltip": null,
      "layout": "IPY_MODEL_01d0e06565c841cf8462f6d041873ad8",
      "max": 323,
      "min": 0,
      "orientation": "horizontal",
      "style": "IPY_MODEL_bf35bcd4037b4cfaa8554c210951ad29",
      "value": 323
     }
    },
    "79b3244660d64718b33e95af4bbef1d5": {
     "model_module": "@jupyter-widgets/controls",
     "model_module_version": "1.5.0",
     "model_name": "DescriptionStyleModel",
     "state": {
      "_model_module": "@jupyter-widgets/controls",
      "_model_module_version": "1.5.0",
      "_model_name": "DescriptionStyleModel",
      "_view_count": null,
      "_view_module": "@jupyter-widgets/base",
      "_view_module_version": "1.2.0",
      "_view_name": "StyleView",
      "description_width": ""
     }
    },
    "7a0c27699fcb4761a0f78253eb6af0ca": {
     "model_module": "@jupyter-widgets/base",
     "model_module_version": "1.2.0",
     "model_name": "LayoutModel",
     "state": {
      "_model_module": "@jupyter-widgets/base",
      "_model_module_version": "1.2.0",
      "_model_name": "LayoutModel",
      "_view_count": null,
      "_view_module": "@jupyter-widgets/base",
      "_view_module_version": "1.2.0",
      "_view_name": "LayoutView",
      "align_content": null,
      "align_items": null,
      "align_self": null,
      "border": null,
      "bottom": null,
      "display": null,
      "flex": null,
      "flex_flow": null,
      "grid_area": null,
      "grid_auto_columns": null,
      "grid_auto_flow": null,
      "grid_auto_rows": null,
      "grid_column": null,
      "grid_gap": null,
      "grid_row": null,
      "grid_template_areas": null,
      "grid_template_columns": null,
      "grid_template_rows": null,
      "height": null,
      "justify_content": null,
      "justify_items": null,
      "left": null,
      "margin": null,
      "max_height": null,
      "max_width": null,
      "min_height": null,
      "min_width": null,
      "object_fit": null,
      "object_position": null,
      "order": null,
      "overflow": null,
      "overflow_x": null,
      "overflow_y": null,
      "padding": null,
      "right": null,
      "top": null,
      "visibility": null,
      "width": null
     }
    },
    "7b53e5a3ecba425194221dab9273f08f": {
     "model_module": "@jupyter-widgets/base",
     "model_module_version": "1.2.0",
     "model_name": "LayoutModel",
     "state": {
      "_model_module": "@jupyter-widgets/base",
      "_model_module_version": "1.2.0",
      "_model_name": "LayoutModel",
      "_view_count": null,
      "_view_module": "@jupyter-widgets/base",
      "_view_module_version": "1.2.0",
      "_view_name": "LayoutView",
      "align_content": null,
      "align_items": null,
      "align_self": null,
      "border": null,
      "bottom": null,
      "display": null,
      "flex": null,
      "flex_flow": null,
      "grid_area": null,
      "grid_auto_columns": null,
      "grid_auto_flow": null,
      "grid_auto_rows": null,
      "grid_column": null,
      "grid_gap": null,
      "grid_row": null,
      "grid_template_areas": null,
      "grid_template_columns": null,
      "grid_template_rows": null,
      "height": null,
      "justify_content": null,
      "justify_items": null,
      "left": null,
      "margin": null,
      "max_height": null,
      "max_width": null,
      "min_height": null,
      "min_width": null,
      "object_fit": null,
      "object_position": null,
      "order": null,
      "overflow": null,
      "overflow_x": null,
      "overflow_y": null,
      "padding": null,
      "right": null,
      "top": null,
      "visibility": null,
      "width": null
     }
    },
    "7c460ab96eed403cadba9519916c112b": {
     "model_module": "@jupyter-widgets/base",
     "model_module_version": "1.2.0",
     "model_name": "LayoutModel",
     "state": {
      "_model_module": "@jupyter-widgets/base",
      "_model_module_version": "1.2.0",
      "_model_name": "LayoutModel",
      "_view_count": null,
      "_view_module": "@jupyter-widgets/base",
      "_view_module_version": "1.2.0",
      "_view_name": "LayoutView",
      "align_content": null,
      "align_items": null,
      "align_self": null,
      "border": null,
      "bottom": null,
      "display": null,
      "flex": null,
      "flex_flow": null,
      "grid_area": null,
      "grid_auto_columns": null,
      "grid_auto_flow": null,
      "grid_auto_rows": null,
      "grid_column": null,
      "grid_gap": null,
      "grid_row": null,
      "grid_template_areas": null,
      "grid_template_columns": null,
      "grid_template_rows": null,
      "height": null,
      "justify_content": null,
      "justify_items": null,
      "left": null,
      "margin": null,
      "max_height": null,
      "max_width": null,
      "min_height": null,
      "min_width": null,
      "object_fit": null,
      "object_position": null,
      "order": null,
      "overflow": null,
      "overflow_x": null,
      "overflow_y": null,
      "padding": null,
      "right": null,
      "top": null,
      "visibility": null,
      "width": null
     }
    },
    "7ce5227fb27046dfb9f47c48aa863fb8": {
     "model_module": "@jupyter-widgets/base",
     "model_module_version": "1.2.0",
     "model_name": "LayoutModel",
     "state": {
      "_model_module": "@jupyter-widgets/base",
      "_model_module_version": "1.2.0",
      "_model_name": "LayoutModel",
      "_view_count": null,
      "_view_module": "@jupyter-widgets/base",
      "_view_module_version": "1.2.0",
      "_view_name": "LayoutView",
      "align_content": null,
      "align_items": null,
      "align_self": null,
      "border": null,
      "bottom": null,
      "display": null,
      "flex": null,
      "flex_flow": null,
      "grid_area": null,
      "grid_auto_columns": null,
      "grid_auto_flow": null,
      "grid_auto_rows": null,
      "grid_column": null,
      "grid_gap": null,
      "grid_row": null,
      "grid_template_areas": null,
      "grid_template_columns": null,
      "grid_template_rows": null,
      "height": null,
      "justify_content": null,
      "justify_items": null,
      "left": null,
      "margin": null,
      "max_height": null,
      "max_width": null,
      "min_height": null,
      "min_width": null,
      "object_fit": null,
      "object_position": null,
      "order": null,
      "overflow": null,
      "overflow_x": null,
      "overflow_y": null,
      "padding": null,
      "right": null,
      "top": null,
      "visibility": null,
      "width": null
     }
    },
    "7d9e3726eebd41f8b1d22aa80312df70": {
     "model_module": "@jupyter-widgets/controls",
     "model_module_version": "1.5.0",
     "model_name": "HBoxModel",
     "state": {
      "_dom_classes": [],
      "_model_module": "@jupyter-widgets/controls",
      "_model_module_version": "1.5.0",
      "_model_name": "HBoxModel",
      "_view_count": null,
      "_view_module": "@jupyter-widgets/controls",
      "_view_module_version": "1.5.0",
      "_view_name": "HBoxView",
      "box_style": "",
      "children": [
       "IPY_MODEL_11a777252a044e3da149877541e3ecaf",
       "IPY_MODEL_e439a2c28d5c4ecf865619d7af82e698",
       "IPY_MODEL_0b601c2d8959449ba0eedeb6e858a6b3"
      ],
      "layout": "IPY_MODEL_9082dd5f5f2640a7a390a23684360ca9"
     }
    },
    "7e32b26c293e45b18eaa2e0c96ab145c": {
     "model_module": "@jupyter-widgets/base",
     "model_module_version": "1.2.0",
     "model_name": "LayoutModel",
     "state": {
      "_model_module": "@jupyter-widgets/base",
      "_model_module_version": "1.2.0",
      "_model_name": "LayoutModel",
      "_view_count": null,
      "_view_module": "@jupyter-widgets/base",
      "_view_module_version": "1.2.0",
      "_view_name": "LayoutView",
      "align_content": null,
      "align_items": null,
      "align_self": null,
      "border": null,
      "bottom": null,
      "display": null,
      "flex": null,
      "flex_flow": null,
      "grid_area": null,
      "grid_auto_columns": null,
      "grid_auto_flow": null,
      "grid_auto_rows": null,
      "grid_column": null,
      "grid_gap": null,
      "grid_row": null,
      "grid_template_areas": null,
      "grid_template_columns": null,
      "grid_template_rows": null,
      "height": null,
      "justify_content": null,
      "justify_items": null,
      "left": null,
      "margin": null,
      "max_height": null,
      "max_width": null,
      "min_height": null,
      "min_width": null,
      "object_fit": null,
      "object_position": null,
      "order": null,
      "overflow": null,
      "overflow_x": null,
      "overflow_y": null,
      "padding": null,
      "right": null,
      "top": null,
      "visibility": null,
      "width": null
     }
    },
    "7e3f568ed5f5440e93379c6d5eb85a4b": {
     "model_module": "@jupyter-widgets/base",
     "model_module_version": "1.2.0",
     "model_name": "LayoutModel",
     "state": {
      "_model_module": "@jupyter-widgets/base",
      "_model_module_version": "1.2.0",
      "_model_name": "LayoutModel",
      "_view_count": null,
      "_view_module": "@jupyter-widgets/base",
      "_view_module_version": "1.2.0",
      "_view_name": "LayoutView",
      "align_content": null,
      "align_items": null,
      "align_self": null,
      "border": null,
      "bottom": null,
      "display": null,
      "flex": null,
      "flex_flow": null,
      "grid_area": null,
      "grid_auto_columns": null,
      "grid_auto_flow": null,
      "grid_auto_rows": null,
      "grid_column": null,
      "grid_gap": null,
      "grid_row": null,
      "grid_template_areas": null,
      "grid_template_columns": null,
      "grid_template_rows": null,
      "height": null,
      "justify_content": null,
      "justify_items": null,
      "left": null,
      "margin": null,
      "max_height": null,
      "max_width": null,
      "min_height": null,
      "min_width": null,
      "object_fit": null,
      "object_position": null,
      "order": null,
      "overflow": null,
      "overflow_x": null,
      "overflow_y": null,
      "padding": null,
      "right": null,
      "top": null,
      "visibility": null,
      "width": null
     }
    },
    "7e9edc138e6840a4be81c100016ebc6f": {
     "model_module": "@jupyter-widgets/base",
     "model_module_version": "1.2.0",
     "model_name": "LayoutModel",
     "state": {
      "_model_module": "@jupyter-widgets/base",
      "_model_module_version": "1.2.0",
      "_model_name": "LayoutModel",
      "_view_count": null,
      "_view_module": "@jupyter-widgets/base",
      "_view_module_version": "1.2.0",
      "_view_name": "LayoutView",
      "align_content": null,
      "align_items": null,
      "align_self": null,
      "border": null,
      "bottom": null,
      "display": null,
      "flex": null,
      "flex_flow": null,
      "grid_area": null,
      "grid_auto_columns": null,
      "grid_auto_flow": null,
      "grid_auto_rows": null,
      "grid_column": null,
      "grid_gap": null,
      "grid_row": null,
      "grid_template_areas": null,
      "grid_template_columns": null,
      "grid_template_rows": null,
      "height": null,
      "justify_content": null,
      "justify_items": null,
      "left": null,
      "margin": null,
      "max_height": null,
      "max_width": null,
      "min_height": null,
      "min_width": null,
      "object_fit": null,
      "object_position": null,
      "order": null,
      "overflow": null,
      "overflow_x": null,
      "overflow_y": null,
      "padding": null,
      "right": null,
      "top": null,
      "visibility": null,
      "width": null
     }
    },
    "7f8611121f774f5ea606cd968de34aa5": {
     "model_module": "@jupyter-widgets/controls",
     "model_module_version": "1.5.0",
     "model_name": "HTMLModel",
     "state": {
      "_dom_classes": [],
      "_model_module": "@jupyter-widgets/controls",
      "_model_module_version": "1.5.0",
      "_model_name": "HTMLModel",
      "_view_count": null,
      "_view_module": "@jupyter-widgets/controls",
      "_view_module_version": "1.5.0",
      "_view_name": "HTMLView",
      "description": "",
      "description_tooltip": null,
      "layout": "IPY_MODEL_4f792cc40ef34ae8a2b4a14d4538967e",
      "placeholder": "​",
      "style": "IPY_MODEL_dc99ab2ea3704e0cb8279c142a738600",
      "value": " 629/629 [00:00&lt;00:00, 44.1kB/s]"
     }
    },
    "7fd547caf234435cb7952b211a538376": {
     "model_module": "@jupyter-widgets/controls",
     "model_module_version": "1.5.0",
     "model_name": "HTMLModel",
     "state": {
      "_dom_classes": [],
      "_model_module": "@jupyter-widgets/controls",
      "_model_module_version": "1.5.0",
      "_model_name": "HTMLModel",
      "_view_count": null,
      "_view_module": "@jupyter-widgets/controls",
      "_view_module_version": "1.5.0",
      "_view_name": "HTMLView",
      "description": "",
      "description_tooltip": null,
      "layout": "IPY_MODEL_7742499693bb46a1888069358f2412a6",
      "placeholder": "​",
      "style": "IPY_MODEL_5f9ee570b4034cfab50d5ce66f0f353f",
      "value": " 665/665 [00:00&lt;00:00, 53.2kB/s]"
     }
    },
    "804f844063e24173baf5e34af9cad49c": {
     "model_module": "@jupyter-widgets/base",
     "model_module_version": "1.2.0",
     "model_name": "LayoutModel",
     "state": {
      "_model_module": "@jupyter-widgets/base",
      "_model_module_version": "1.2.0",
      "_model_name": "LayoutModel",
      "_view_count": null,
      "_view_module": "@jupyter-widgets/base",
      "_view_module_version": "1.2.0",
      "_view_name": "LayoutView",
      "align_content": null,
      "align_items": null,
      "align_self": null,
      "border": null,
      "bottom": null,
      "display": null,
      "flex": null,
      "flex_flow": null,
      "grid_area": null,
      "grid_auto_columns": null,
      "grid_auto_flow": null,
      "grid_auto_rows": null,
      "grid_column": null,
      "grid_gap": null,
      "grid_row": null,
      "grid_template_areas": null,
      "grid_template_columns": null,
      "grid_template_rows": null,
      "height": null,
      "justify_content": null,
      "justify_items": null,
      "left": null,
      "margin": null,
      "max_height": null,
      "max_width": null,
      "min_height": null,
      "min_width": null,
      "object_fit": null,
      "object_position": null,
      "order": null,
      "overflow": null,
      "overflow_x": null,
      "overflow_y": null,
      "padding": null,
      "right": null,
      "top": null,
      "visibility": null,
      "width": null
     }
    },
    "81304ddd745d4ed5be9b97220aa86095": {
     "model_module": "@jupyter-widgets/controls",
     "model_module_version": "1.5.0",
     "model_name": "DescriptionStyleModel",
     "state": {
      "_model_module": "@jupyter-widgets/controls",
      "_model_module_version": "1.5.0",
      "_model_name": "DescriptionStyleModel",
      "_view_count": null,
      "_view_module": "@jupyter-widgets/base",
      "_view_module_version": "1.2.0",
      "_view_name": "StyleView",
      "description_width": ""
     }
    },
    "8234a4f00aef440c8ebd2069ff421853": {
     "model_module": "@jupyter-widgets/controls",
     "model_module_version": "1.5.0",
     "model_name": "ProgressStyleModel",
     "state": {
      "_model_module": "@jupyter-widgets/controls",
      "_model_module_version": "1.5.0",
      "_model_name": "ProgressStyleModel",
      "_view_count": null,
      "_view_module": "@jupyter-widgets/base",
      "_view_module_version": "1.2.0",
      "_view_name": "StyleView",
      "bar_color": null,
      "description_width": ""
     }
    },
    "83f97c79b32d40f18c79d29974790dcf": {
     "model_module": "@jupyter-widgets/controls",
     "model_module_version": "1.5.0",
     "model_name": "HTMLModel",
     "state": {
      "_dom_classes": [],
      "_model_module": "@jupyter-widgets/controls",
      "_model_module_version": "1.5.0",
      "_model_name": "HTMLModel",
      "_view_count": null,
      "_view_module": "@jupyter-widgets/controls",
      "_view_module_version": "1.5.0",
      "_view_name": "HTMLView",
      "description": "",
      "description_tooltip": null,
      "layout": "IPY_MODEL_b00cda330cfb40a9a35127f2cadf72d4",
      "placeholder": "​",
      "style": "IPY_MODEL_10a85b00fe6740bc8611137ac5bfc137",
      "value": " 124/124 [00:00&lt;00:00, 8.44kB/s]"
     }
    },
    "846546ae6e8649d5a93bb4012b58856d": {
     "model_module": "@jupyter-widgets/base",
     "model_module_version": "1.2.0",
     "model_name": "LayoutModel",
     "state": {
      "_model_module": "@jupyter-widgets/base",
      "_model_module_version": "1.2.0",
      "_model_name": "LayoutModel",
      "_view_count": null,
      "_view_module": "@jupyter-widgets/base",
      "_view_module_version": "1.2.0",
      "_view_name": "LayoutView",
      "align_content": null,
      "align_items": null,
      "align_self": null,
      "border": null,
      "bottom": null,
      "display": null,
      "flex": null,
      "flex_flow": null,
      "grid_area": null,
      "grid_auto_columns": null,
      "grid_auto_flow": null,
      "grid_auto_rows": null,
      "grid_column": null,
      "grid_gap": null,
      "grid_row": null,
      "grid_template_areas": null,
      "grid_template_columns": null,
      "grid_template_rows": null,
      "height": null,
      "justify_content": null,
      "justify_items": null,
      "left": null,
      "margin": null,
      "max_height": null,
      "max_width": null,
      "min_height": null,
      "min_width": null,
      "object_fit": null,
      "object_position": null,
      "order": null,
      "overflow": null,
      "overflow_x": null,
      "overflow_y": null,
      "padding": null,
      "right": null,
      "top": null,
      "visibility": null,
      "width": null
     }
    },
    "852ae3ffc3f945d1b5fbf3dc377ffc07": {
     "model_module": "@jupyter-widgets/controls",
     "model_module_version": "1.5.0",
     "model_name": "DescriptionStyleModel",
     "state": {
      "_model_module": "@jupyter-widgets/controls",
      "_model_module_version": "1.5.0",
      "_model_name": "DescriptionStyleModel",
      "_view_count": null,
      "_view_module": "@jupyter-widgets/base",
      "_view_module_version": "1.2.0",
      "_view_name": "StyleView",
      "description_width": ""
     }
    },
    "855ca149e747497f8a126585fe6abda7": {
     "model_module": "@jupyter-widgets/controls",
     "model_module_version": "1.5.0",
     "model_name": "HBoxModel",
     "state": {
      "_dom_classes": [],
      "_model_module": "@jupyter-widgets/controls",
      "_model_module_version": "1.5.0",
      "_model_name": "HBoxModel",
      "_view_count": null,
      "_view_module": "@jupyter-widgets/controls",
      "_view_module_version": "1.5.0",
      "_view_name": "HBoxView",
      "box_style": "",
      "children": [
       "IPY_MODEL_a5fe3f2998b44c4981f31f6c3070d7df",
       "IPY_MODEL_78f879c46a7f4a18ae2de70654121f0f",
       "IPY_MODEL_3871c4f951d94bd1a86dc61312e3b6d0"
      ],
      "layout": "IPY_MODEL_f99199d9122f49a0a36611c7e2e76419"
     }
    },
    "85773884b394433b8f47703742a0413a": {
     "model_module": "@jupyter-widgets/controls",
     "model_module_version": "1.5.0",
     "model_name": "FloatProgressModel",
     "state": {
      "_dom_classes": [],
      "_model_module": "@jupyter-widgets/controls",
      "_model_module_version": "1.5.0",
      "_model_name": "FloatProgressModel",
      "_view_count": null,
      "_view_module": "@jupyter-widgets/controls",
      "_view_module_version": "1.5.0",
      "_view_name": "ProgressView",
      "bar_style": "success",
      "description": "",
      "description_tooltip": null,
      "layout": "IPY_MODEL_55dff7016e7a437ab8a732518f65ca4c",
      "max": 124,
      "min": 0,
      "orientation": "horizontal",
      "style": "IPY_MODEL_4de0dcc6dfdb436abf0769cb0b2cf6e2",
      "value": 124
     }
    },
    "85b192763f8a4480a3d4ae4e0957b685": {
     "model_module": "@jupyter-widgets/base",
     "model_module_version": "1.2.0",
     "model_name": "LayoutModel",
     "state": {
      "_model_module": "@jupyter-widgets/base",
      "_model_module_version": "1.2.0",
      "_model_name": "LayoutModel",
      "_view_count": null,
      "_view_module": "@jupyter-widgets/base",
      "_view_module_version": "1.2.0",
      "_view_name": "LayoutView",
      "align_content": null,
      "align_items": null,
      "align_self": null,
      "border": null,
      "bottom": null,
      "display": null,
      "flex": null,
      "flex_flow": null,
      "grid_area": null,
      "grid_auto_columns": null,
      "grid_auto_flow": null,
      "grid_auto_rows": null,
      "grid_column": null,
      "grid_gap": null,
      "grid_row": null,
      "grid_template_areas": null,
      "grid_template_columns": null,
      "grid_template_rows": null,
      "height": null,
      "justify_content": null,
      "justify_items": null,
      "left": null,
      "margin": null,
      "max_height": null,
      "max_width": null,
      "min_height": null,
      "min_width": null,
      "object_fit": null,
      "object_position": null,
      "order": null,
      "overflow": null,
      "overflow_x": null,
      "overflow_y": null,
      "padding": null,
      "right": null,
      "top": null,
      "visibility": null,
      "width": null
     }
    },
    "8630987be068488bbca15d661a8ba777": {
     "model_module": "@jupyter-widgets/base",
     "model_module_version": "1.2.0",
     "model_name": "LayoutModel",
     "state": {
      "_model_module": "@jupyter-widgets/base",
      "_model_module_version": "1.2.0",
      "_model_name": "LayoutModel",
      "_view_count": null,
      "_view_module": "@jupyter-widgets/base",
      "_view_module_version": "1.2.0",
      "_view_name": "LayoutView",
      "align_content": null,
      "align_items": null,
      "align_self": null,
      "border": null,
      "bottom": null,
      "display": null,
      "flex": null,
      "flex_flow": null,
      "grid_area": null,
      "grid_auto_columns": null,
      "grid_auto_flow": null,
      "grid_auto_rows": null,
      "grid_column": null,
      "grid_gap": null,
      "grid_row": null,
      "grid_template_areas": null,
      "grid_template_columns": null,
      "grid_template_rows": null,
      "height": null,
      "justify_content": null,
      "justify_items": null,
      "left": null,
      "margin": null,
      "max_height": null,
      "max_width": null,
      "min_height": null,
      "min_width": null,
      "object_fit": null,
      "object_position": null,
      "order": null,
      "overflow": null,
      "overflow_x": null,
      "overflow_y": null,
      "padding": null,
      "right": null,
      "top": null,
      "visibility": null,
      "width": null
     }
    },
    "86875d1a86354e4787e872c98083210d": {
     "model_module": "@jupyter-widgets/controls",
     "model_module_version": "1.5.0",
     "model_name": "DescriptionStyleModel",
     "state": {
      "_model_module": "@jupyter-widgets/controls",
      "_model_module_version": "1.5.0",
      "_model_name": "DescriptionStyleModel",
      "_view_count": null,
      "_view_module": "@jupyter-widgets/base",
      "_view_module_version": "1.2.0",
      "_view_name": "StyleView",
      "description_width": ""
     }
    },
    "86b098ea173a4419a9fe67d9c165b95b": {
     "model_module": "@jupyter-widgets/base",
     "model_module_version": "1.2.0",
     "model_name": "LayoutModel",
     "state": {
      "_model_module": "@jupyter-widgets/base",
      "_model_module_version": "1.2.0",
      "_model_name": "LayoutModel",
      "_view_count": null,
      "_view_module": "@jupyter-widgets/base",
      "_view_module_version": "1.2.0",
      "_view_name": "LayoutView",
      "align_content": null,
      "align_items": null,
      "align_self": null,
      "border": null,
      "bottom": null,
      "display": null,
      "flex": null,
      "flex_flow": null,
      "grid_area": null,
      "grid_auto_columns": null,
      "grid_auto_flow": null,
      "grid_auto_rows": null,
      "grid_column": null,
      "grid_gap": null,
      "grid_row": null,
      "grid_template_areas": null,
      "grid_template_columns": null,
      "grid_template_rows": null,
      "height": null,
      "justify_content": null,
      "justify_items": null,
      "left": null,
      "margin": null,
      "max_height": null,
      "max_width": null,
      "min_height": null,
      "min_width": null,
      "object_fit": null,
      "object_position": null,
      "order": null,
      "overflow": null,
      "overflow_x": null,
      "overflow_y": null,
      "padding": null,
      "right": null,
      "top": null,
      "visibility": null,
      "width": null
     }
    },
    "88445353976648f583ff1ec689f04d09": {
     "model_module": "@jupyter-widgets/controls",
     "model_module_version": "1.5.0",
     "model_name": "FloatProgressModel",
     "state": {
      "_dom_classes": [],
      "_model_module": "@jupyter-widgets/controls",
      "_model_module_version": "1.5.0",
      "_model_name": "FloatProgressModel",
      "_view_count": null,
      "_view_module": "@jupyter-widgets/controls",
      "_view_module_version": "1.5.0",
      "_view_name": "ProgressView",
      "bar_style": "success",
      "description": "",
      "description_tooltip": null,
      "layout": "IPY_MODEL_7b53e5a3ecba425194221dab9273f08f",
      "max": 26,
      "min": 0,
      "orientation": "horizontal",
      "style": "IPY_MODEL_b6c7ff63249546808799c3b45711ede5",
      "value": 26
     }
    },
    "886bcbe9c1394d569f0c74fd7b54f0a5": {
     "model_module": "@jupyter-widgets/base",
     "model_module_version": "1.2.0",
     "model_name": "LayoutModel",
     "state": {
      "_model_module": "@jupyter-widgets/base",
      "_model_module_version": "1.2.0",
      "_model_name": "LayoutModel",
      "_view_count": null,
      "_view_module": "@jupyter-widgets/base",
      "_view_module_version": "1.2.0",
      "_view_name": "LayoutView",
      "align_content": null,
      "align_items": null,
      "align_self": null,
      "border": null,
      "bottom": null,
      "display": null,
      "flex": null,
      "flex_flow": null,
      "grid_area": null,
      "grid_auto_columns": null,
      "grid_auto_flow": null,
      "grid_auto_rows": null,
      "grid_column": null,
      "grid_gap": null,
      "grid_row": null,
      "grid_template_areas": null,
      "grid_template_columns": null,
      "grid_template_rows": null,
      "height": null,
      "justify_content": null,
      "justify_items": null,
      "left": null,
      "margin": null,
      "max_height": null,
      "max_width": null,
      "min_height": null,
      "min_width": null,
      "object_fit": null,
      "object_position": null,
      "order": null,
      "overflow": null,
      "overflow_x": null,
      "overflow_y": null,
      "padding": null,
      "right": null,
      "top": null,
      "visibility": null,
      "width": null
     }
    },
    "89325c9398474f9c92f16c63156d3038": {
     "model_module": "@jupyter-widgets/controls",
     "model_module_version": "1.5.0",
     "model_name": "DescriptionStyleModel",
     "state": {
      "_model_module": "@jupyter-widgets/controls",
      "_model_module_version": "1.5.0",
      "_model_name": "DescriptionStyleModel",
      "_view_count": null,
      "_view_module": "@jupyter-widgets/base",
      "_view_module_version": "1.2.0",
      "_view_name": "StyleView",
      "description_width": ""
     }
    },
    "8a23f02ece4341f7900c82ab906874eb": {
     "model_module": "@jupyter-widgets/base",
     "model_module_version": "1.2.0",
     "model_name": "LayoutModel",
     "state": {
      "_model_module": "@jupyter-widgets/base",
      "_model_module_version": "1.2.0",
      "_model_name": "LayoutModel",
      "_view_count": null,
      "_view_module": "@jupyter-widgets/base",
      "_view_module_version": "1.2.0",
      "_view_name": "LayoutView",
      "align_content": null,
      "align_items": null,
      "align_self": null,
      "border": null,
      "bottom": null,
      "display": null,
      "flex": null,
      "flex_flow": null,
      "grid_area": null,
      "grid_auto_columns": null,
      "grid_auto_flow": null,
      "grid_auto_rows": null,
      "grid_column": null,
      "grid_gap": null,
      "grid_row": null,
      "grid_template_areas": null,
      "grid_template_columns": null,
      "grid_template_rows": null,
      "height": null,
      "justify_content": null,
      "justify_items": null,
      "left": null,
      "margin": null,
      "max_height": null,
      "max_width": null,
      "min_height": null,
      "min_width": null,
      "object_fit": null,
      "object_position": null,
      "order": null,
      "overflow": null,
      "overflow_x": null,
      "overflow_y": null,
      "padding": null,
      "right": null,
      "top": null,
      "visibility": null,
      "width": null
     }
    },
    "8a2d5a4ee0fd473b8137b518bfc3d68b": {
     "model_module": "@jupyter-widgets/base",
     "model_module_version": "1.2.0",
     "model_name": "LayoutModel",
     "state": {
      "_model_module": "@jupyter-widgets/base",
      "_model_module_version": "1.2.0",
      "_model_name": "LayoutModel",
      "_view_count": null,
      "_view_module": "@jupyter-widgets/base",
      "_view_module_version": "1.2.0",
      "_view_name": "LayoutView",
      "align_content": null,
      "align_items": null,
      "align_self": null,
      "border": null,
      "bottom": null,
      "display": null,
      "flex": null,
      "flex_flow": null,
      "grid_area": null,
      "grid_auto_columns": null,
      "grid_auto_flow": null,
      "grid_auto_rows": null,
      "grid_column": null,
      "grid_gap": null,
      "grid_row": null,
      "grid_template_areas": null,
      "grid_template_columns": null,
      "grid_template_rows": null,
      "height": null,
      "justify_content": null,
      "justify_items": null,
      "left": null,
      "margin": null,
      "max_height": null,
      "max_width": null,
      "min_height": null,
      "min_width": null,
      "object_fit": null,
      "object_position": null,
      "order": null,
      "overflow": null,
      "overflow_x": null,
      "overflow_y": null,
      "padding": null,
      "right": null,
      "top": null,
      "visibility": null,
      "width": "20px"
     }
    },
    "8a916a0fe6874b7a97453b0f0dc314cf": {
     "model_module": "@jupyter-widgets/controls",
     "model_module_version": "1.5.0",
     "model_name": "ProgressStyleModel",
     "state": {
      "_model_module": "@jupyter-widgets/controls",
      "_model_module_version": "1.5.0",
      "_model_name": "ProgressStyleModel",
      "_view_count": null,
      "_view_module": "@jupyter-widgets/base",
      "_view_module_version": "1.2.0",
      "_view_name": "StyleView",
      "bar_color": null,
      "description_width": ""
     }
    },
    "8aed6812b77f4175a7ba713d075b6db7": {
     "model_module": "@jupyter-widgets/base",
     "model_module_version": "1.2.0",
     "model_name": "LayoutModel",
     "state": {
      "_model_module": "@jupyter-widgets/base",
      "_model_module_version": "1.2.0",
      "_model_name": "LayoutModel",
      "_view_count": null,
      "_view_module": "@jupyter-widgets/base",
      "_view_module_version": "1.2.0",
      "_view_name": "LayoutView",
      "align_content": null,
      "align_items": null,
      "align_self": null,
      "border": null,
      "bottom": null,
      "display": null,
      "flex": null,
      "flex_flow": null,
      "grid_area": null,
      "grid_auto_columns": null,
      "grid_auto_flow": null,
      "grid_auto_rows": null,
      "grid_column": null,
      "grid_gap": null,
      "grid_row": null,
      "grid_template_areas": null,
      "grid_template_columns": null,
      "grid_template_rows": null,
      "height": null,
      "justify_content": null,
      "justify_items": null,
      "left": null,
      "margin": null,
      "max_height": null,
      "max_width": null,
      "min_height": null,
      "min_width": null,
      "object_fit": null,
      "object_position": null,
      "order": null,
      "overflow": null,
      "overflow_x": null,
      "overflow_y": null,
      "padding": null,
      "right": null,
      "top": null,
      "visibility": null,
      "width": null
     }
    },
    "8b1d3a21ee4b4808847ea2a82a18ac61": {
     "model_module": "@jupyter-widgets/base",
     "model_module_version": "1.2.0",
     "model_name": "LayoutModel",
     "state": {
      "_model_module": "@jupyter-widgets/base",
      "_model_module_version": "1.2.0",
      "_model_name": "LayoutModel",
      "_view_count": null,
      "_view_module": "@jupyter-widgets/base",
      "_view_module_version": "1.2.0",
      "_view_name": "LayoutView",
      "align_content": null,
      "align_items": null,
      "align_self": null,
      "border": null,
      "bottom": null,
      "display": null,
      "flex": null,
      "flex_flow": null,
      "grid_area": null,
      "grid_auto_columns": null,
      "grid_auto_flow": null,
      "grid_auto_rows": null,
      "grid_column": null,
      "grid_gap": null,
      "grid_row": null,
      "grid_template_areas": null,
      "grid_template_columns": null,
      "grid_template_rows": null,
      "height": null,
      "justify_content": null,
      "justify_items": null,
      "left": null,
      "margin": null,
      "max_height": null,
      "max_width": null,
      "min_height": null,
      "min_width": null,
      "object_fit": null,
      "object_position": null,
      "order": null,
      "overflow": null,
      "overflow_x": null,
      "overflow_y": null,
      "padding": null,
      "right": null,
      "top": null,
      "visibility": null,
      "width": null
     }
    },
    "8b1ed30ccf3143228a3aea84f390d41e": {
     "model_module": "@jupyter-widgets/controls",
     "model_module_version": "1.5.0",
     "model_name": "HTMLModel",
     "state": {
      "_dom_classes": [],
      "_model_module": "@jupyter-widgets/controls",
      "_model_module_version": "1.5.0",
      "_model_name": "HTMLModel",
      "_view_count": null,
      "_view_module": "@jupyter-widgets/controls",
      "_view_module_version": "1.5.0",
      "_view_name": "HTMLView",
      "description": "",
      "description_tooltip": null,
      "layout": "IPY_MODEL_4390ce9b054e4e44948a4afa1adfd214",
      "placeholder": "​",
      "style": "IPY_MODEL_f8e511c8d57a46a39ea1a67deabd6bfb",
      "value": "tokenizer_config.json: 100%"
     }
    },
    "8b7af1b3fb044d428f5a98dfb804a356": {
     "model_module": "@jupyter-widgets/base",
     "model_module_version": "1.2.0",
     "model_name": "LayoutModel",
     "state": {
      "_model_module": "@jupyter-widgets/base",
      "_model_module_version": "1.2.0",
      "_model_name": "LayoutModel",
      "_view_count": null,
      "_view_module": "@jupyter-widgets/base",
      "_view_module_version": "1.2.0",
      "_view_name": "LayoutView",
      "align_content": null,
      "align_items": null,
      "align_self": null,
      "border": null,
      "bottom": null,
      "display": null,
      "flex": null,
      "flex_flow": null,
      "grid_area": null,
      "grid_auto_columns": null,
      "grid_auto_flow": null,
      "grid_auto_rows": null,
      "grid_column": null,
      "grid_gap": null,
      "grid_row": null,
      "grid_template_areas": null,
      "grid_template_columns": null,
      "grid_template_rows": null,
      "height": null,
      "justify_content": null,
      "justify_items": null,
      "left": null,
      "margin": null,
      "max_height": null,
      "max_width": null,
      "min_height": null,
      "min_width": null,
      "object_fit": null,
      "object_position": null,
      "order": null,
      "overflow": null,
      "overflow_x": null,
      "overflow_y": null,
      "padding": null,
      "right": null,
      "top": null,
      "visibility": null,
      "width": null
     }
    },
    "8bd98770a54b40eba0468d1c7682c308": {
     "model_module": "@jupyter-widgets/base",
     "model_module_version": "1.2.0",
     "model_name": "LayoutModel",
     "state": {
      "_model_module": "@jupyter-widgets/base",
      "_model_module_version": "1.2.0",
      "_model_name": "LayoutModel",
      "_view_count": null,
      "_view_module": "@jupyter-widgets/base",
      "_view_module_version": "1.2.0",
      "_view_name": "LayoutView",
      "align_content": null,
      "align_items": null,
      "align_self": null,
      "border": null,
      "bottom": null,
      "display": null,
      "flex": null,
      "flex_flow": null,
      "grid_area": null,
      "grid_auto_columns": null,
      "grid_auto_flow": null,
      "grid_auto_rows": null,
      "grid_column": null,
      "grid_gap": null,
      "grid_row": null,
      "grid_template_areas": null,
      "grid_template_columns": null,
      "grid_template_rows": null,
      "height": null,
      "justify_content": null,
      "justify_items": null,
      "left": null,
      "margin": null,
      "max_height": null,
      "max_width": null,
      "min_height": null,
      "min_width": null,
      "object_fit": null,
      "object_position": null,
      "order": null,
      "overflow": null,
      "overflow_x": null,
      "overflow_y": null,
      "padding": null,
      "right": null,
      "top": null,
      "visibility": null,
      "width": null
     }
    },
    "8bfbfd341cc54418aaa9ca300aa6f54a": {
     "model_module": "@jupyter-widgets/controls",
     "model_module_version": "1.5.0",
     "model_name": "DescriptionStyleModel",
     "state": {
      "_model_module": "@jupyter-widgets/controls",
      "_model_module_version": "1.5.0",
      "_model_name": "DescriptionStyleModel",
      "_view_count": null,
      "_view_module": "@jupyter-widgets/base",
      "_view_module_version": "1.2.0",
      "_view_name": "StyleView",
      "description_width": ""
     }
    },
    "8cf83ceaa38044578713806efb84870a": {
     "model_module": "@jupyter-widgets/base",
     "model_module_version": "1.2.0",
     "model_name": "LayoutModel",
     "state": {
      "_model_module": "@jupyter-widgets/base",
      "_model_module_version": "1.2.0",
      "_model_name": "LayoutModel",
      "_view_count": null,
      "_view_module": "@jupyter-widgets/base",
      "_view_module_version": "1.2.0",
      "_view_name": "LayoutView",
      "align_content": null,
      "align_items": null,
      "align_self": null,
      "border": null,
      "bottom": null,
      "display": null,
      "flex": null,
      "flex_flow": null,
      "grid_area": null,
      "grid_auto_columns": null,
      "grid_auto_flow": null,
      "grid_auto_rows": null,
      "grid_column": null,
      "grid_gap": null,
      "grid_row": null,
      "grid_template_areas": null,
      "grid_template_columns": null,
      "grid_template_rows": null,
      "height": null,
      "justify_content": null,
      "justify_items": null,
      "left": null,
      "margin": null,
      "max_height": null,
      "max_width": null,
      "min_height": null,
      "min_width": null,
      "object_fit": null,
      "object_position": null,
      "order": null,
      "overflow": null,
      "overflow_x": null,
      "overflow_y": null,
      "padding": null,
      "right": null,
      "top": null,
      "visibility": null,
      "width": null
     }
    },
    "8d567116324241c88d40d887ba44bbd1": {
     "model_module": "@jupyter-widgets/base",
     "model_module_version": "1.2.0",
     "model_name": "LayoutModel",
     "state": {
      "_model_module": "@jupyter-widgets/base",
      "_model_module_version": "1.2.0",
      "_model_name": "LayoutModel",
      "_view_count": null,
      "_view_module": "@jupyter-widgets/base",
      "_view_module_version": "1.2.0",
      "_view_name": "LayoutView",
      "align_content": null,
      "align_items": null,
      "align_self": null,
      "border": null,
      "bottom": null,
      "display": null,
      "flex": null,
      "flex_flow": null,
      "grid_area": null,
      "grid_auto_columns": null,
      "grid_auto_flow": null,
      "grid_auto_rows": null,
      "grid_column": null,
      "grid_gap": null,
      "grid_row": null,
      "grid_template_areas": null,
      "grid_template_columns": null,
      "grid_template_rows": null,
      "height": null,
      "justify_content": null,
      "justify_items": null,
      "left": null,
      "margin": null,
      "max_height": null,
      "max_width": null,
      "min_height": null,
      "min_width": null,
      "object_fit": null,
      "object_position": null,
      "order": null,
      "overflow": null,
      "overflow_x": null,
      "overflow_y": null,
      "padding": null,
      "right": null,
      "top": null,
      "visibility": null,
      "width": null
     }
    },
    "8d9d4561ad3b4a6f865dadcfda4ac72a": {
     "model_module": "@jupyter-widgets/base",
     "model_module_version": "1.2.0",
     "model_name": "LayoutModel",
     "state": {
      "_model_module": "@jupyter-widgets/base",
      "_model_module_version": "1.2.0",
      "_model_name": "LayoutModel",
      "_view_count": null,
      "_view_module": "@jupyter-widgets/base",
      "_view_module_version": "1.2.0",
      "_view_name": "LayoutView",
      "align_content": null,
      "align_items": null,
      "align_self": null,
      "border": null,
      "bottom": null,
      "display": null,
      "flex": null,
      "flex_flow": null,
      "grid_area": null,
      "grid_auto_columns": null,
      "grid_auto_flow": null,
      "grid_auto_rows": null,
      "grid_column": null,
      "grid_gap": null,
      "grid_row": null,
      "grid_template_areas": null,
      "grid_template_columns": null,
      "grid_template_rows": null,
      "height": null,
      "justify_content": null,
      "justify_items": null,
      "left": null,
      "margin": null,
      "max_height": null,
      "max_width": null,
      "min_height": null,
      "min_width": null,
      "object_fit": null,
      "object_position": null,
      "order": null,
      "overflow": null,
      "overflow_x": null,
      "overflow_y": null,
      "padding": null,
      "right": null,
      "top": null,
      "visibility": null,
      "width": null
     }
    },
    "8df7d56b3bb745caa64370e4c60e4205": {
     "model_module": "@jupyter-widgets/base",
     "model_module_version": "1.2.0",
     "model_name": "LayoutModel",
     "state": {
      "_model_module": "@jupyter-widgets/base",
      "_model_module_version": "1.2.0",
      "_model_name": "LayoutModel",
      "_view_count": null,
      "_view_module": "@jupyter-widgets/base",
      "_view_module_version": "1.2.0",
      "_view_name": "LayoutView",
      "align_content": null,
      "align_items": null,
      "align_self": null,
      "border": null,
      "bottom": null,
      "display": null,
      "flex": null,
      "flex_flow": null,
      "grid_area": null,
      "grid_auto_columns": null,
      "grid_auto_flow": null,
      "grid_auto_rows": null,
      "grid_column": null,
      "grid_gap": null,
      "grid_row": null,
      "grid_template_areas": null,
      "grid_template_columns": null,
      "grid_template_rows": null,
      "height": null,
      "justify_content": null,
      "justify_items": null,
      "left": null,
      "margin": null,
      "max_height": null,
      "max_width": null,
      "min_height": null,
      "min_width": null,
      "object_fit": null,
      "object_position": null,
      "order": null,
      "overflow": null,
      "overflow_x": null,
      "overflow_y": null,
      "padding": null,
      "right": null,
      "top": null,
      "visibility": null,
      "width": null
     }
    },
    "8e8a43aa4e11455484df7d141e6ad248": {
     "model_module": "@jupyter-widgets/controls",
     "model_module_version": "1.5.0",
     "model_name": "HTMLModel",
     "state": {
      "_dom_classes": [],
      "_model_module": "@jupyter-widgets/controls",
      "_model_module_version": "1.5.0",
      "_model_name": "HTMLModel",
      "_view_count": null,
      "_view_module": "@jupyter-widgets/controls",
      "_view_module_version": "1.5.0",
      "_view_name": "HTMLView",
      "description": "",
      "description_tooltip": null,
      "layout": "IPY_MODEL_c70600d1e4784ea7bf7e58b06ee47cc1",
      "placeholder": "​",
      "style": "IPY_MODEL_6381a57dd82848689065de71dda55749",
      "value": " 466k/466k [00:00&lt;00:00, 1.87MB/s]"
     }
    },
    "8f34f724a32e486da536cf0e55f3173c": {
     "model_module": "@jupyter-widgets/controls",
     "model_module_version": "1.5.0",
     "model_name": "ProgressStyleModel",
     "state": {
      "_model_module": "@jupyter-widgets/controls",
      "_model_module_version": "1.5.0",
      "_model_name": "ProgressStyleModel",
      "_view_count": null,
      "_view_module": "@jupyter-widgets/base",
      "_view_module_version": "1.2.0",
      "_view_name": "StyleView",
      "bar_color": null,
      "description_width": ""
     }
    },
    "8ff6cd267a28487fb8cac4cb8724fc0e": {
     "model_module": "@jupyter-widgets/controls",
     "model_module_version": "1.5.0",
     "model_name": "ProgressStyleModel",
     "state": {
      "_model_module": "@jupyter-widgets/controls",
      "_model_module_version": "1.5.0",
      "_model_name": "ProgressStyleModel",
      "_view_count": null,
      "_view_module": "@jupyter-widgets/base",
      "_view_module_version": "1.2.0",
      "_view_name": "StyleView",
      "bar_color": null,
      "description_width": ""
     }
    },
    "90045b8b64324f729cb4e0873108546b": {
     "model_module": "@jupyter-widgets/controls",
     "model_module_version": "1.5.0",
     "model_name": "DescriptionStyleModel",
     "state": {
      "_model_module": "@jupyter-widgets/controls",
      "_model_module_version": "1.5.0",
      "_model_name": "DescriptionStyleModel",
      "_view_count": null,
      "_view_module": "@jupyter-widgets/base",
      "_view_module_version": "1.2.0",
      "_view_name": "StyleView",
      "description_width": ""
     }
    },
    "9026426dbb884fe39e2ec321a89954b2": {
     "model_module": "@jupyter-widgets/base",
     "model_module_version": "1.2.0",
     "model_name": "LayoutModel",
     "state": {
      "_model_module": "@jupyter-widgets/base",
      "_model_module_version": "1.2.0",
      "_model_name": "LayoutModel",
      "_view_count": null,
      "_view_module": "@jupyter-widgets/base",
      "_view_module_version": "1.2.0",
      "_view_name": "LayoutView",
      "align_content": null,
      "align_items": null,
      "align_self": null,
      "border": null,
      "bottom": null,
      "display": null,
      "flex": null,
      "flex_flow": null,
      "grid_area": null,
      "grid_auto_columns": null,
      "grid_auto_flow": null,
      "grid_auto_rows": null,
      "grid_column": null,
      "grid_gap": null,
      "grid_row": null,
      "grid_template_areas": null,
      "grid_template_columns": null,
      "grid_template_rows": null,
      "height": null,
      "justify_content": null,
      "justify_items": null,
      "left": null,
      "margin": null,
      "max_height": null,
      "max_width": null,
      "min_height": null,
      "min_width": null,
      "object_fit": null,
      "object_position": null,
      "order": null,
      "overflow": null,
      "overflow_x": null,
      "overflow_y": null,
      "padding": null,
      "right": null,
      "top": null,
      "visibility": null,
      "width": null
     }
    },
    "9082dd5f5f2640a7a390a23684360ca9": {
     "model_module": "@jupyter-widgets/base",
     "model_module_version": "1.2.0",
     "model_name": "LayoutModel",
     "state": {
      "_model_module": "@jupyter-widgets/base",
      "_model_module_version": "1.2.0",
      "_model_name": "LayoutModel",
      "_view_count": null,
      "_view_module": "@jupyter-widgets/base",
      "_view_module_version": "1.2.0",
      "_view_name": "LayoutView",
      "align_content": null,
      "align_items": null,
      "align_self": null,
      "border": null,
      "bottom": null,
      "display": null,
      "flex": null,
      "flex_flow": null,
      "grid_area": null,
      "grid_auto_columns": null,
      "grid_auto_flow": null,
      "grid_auto_rows": null,
      "grid_column": null,
      "grid_gap": null,
      "grid_row": null,
      "grid_template_areas": null,
      "grid_template_columns": null,
      "grid_template_rows": null,
      "height": null,
      "justify_content": null,
      "justify_items": null,
      "left": null,
      "margin": null,
      "max_height": null,
      "max_width": null,
      "min_height": null,
      "min_width": null,
      "object_fit": null,
      "object_position": null,
      "order": null,
      "overflow": null,
      "overflow_x": null,
      "overflow_y": null,
      "padding": null,
      "right": null,
      "top": null,
      "visibility": null,
      "width": null
     }
    },
    "91d21b681ffb4ceaabd85f2867e60cbd": {
     "model_module": "@jupyter-widgets/controls",
     "model_module_version": "1.5.0",
     "model_name": "DescriptionStyleModel",
     "state": {
      "_model_module": "@jupyter-widgets/controls",
      "_model_module_version": "1.5.0",
      "_model_name": "DescriptionStyleModel",
      "_view_count": null,
      "_view_module": "@jupyter-widgets/base",
      "_view_module_version": "1.2.0",
      "_view_name": "StyleView",
      "description_width": ""
     }
    },
    "925c24b98bec4b1ab62f4e2f3c5fc816": {
     "model_module": "@jupyter-widgets/controls",
     "model_module_version": "1.5.0",
     "model_name": "HTMLModel",
     "state": {
      "_dom_classes": [],
      "_model_module": "@jupyter-widgets/controls",
      "_model_module_version": "1.5.0",
      "_model_name": "HTMLModel",
      "_view_count": null,
      "_view_module": "@jupyter-widgets/controls",
      "_view_module_version": "1.5.0",
      "_view_name": "HTMLView",
      "description": "",
      "description_tooltip": null,
      "layout": "IPY_MODEL_4665f471fa0e478882233b165c010b68",
      "placeholder": "​",
      "style": "IPY_MODEL_53f0c26cedd14257988c3ea6cfb88cd0",
      "value": "tokenizer_config.json: 100%"
     }
    },
    "926dd4b6c57c42b68c44e06cb5013129": {
     "model_module": "@jupyter-widgets/controls",
     "model_module_version": "1.5.0",
     "model_name": "FloatProgressModel",
     "state": {
      "_dom_classes": [],
      "_model_module": "@jupyter-widgets/controls",
      "_model_module_version": "1.5.0",
      "_model_name": "FloatProgressModel",
      "_view_count": null,
      "_view_module": "@jupyter-widgets/controls",
      "_view_module_version": "1.5.0",
      "_view_name": "ProgressView",
      "bar_style": "success",
      "description": "",
      "description_tooltip": null,
      "layout": "IPY_MODEL_ead4f1dddc0d48499955d55b069e82e0",
      "max": 1,
      "min": 0,
      "orientation": "horizontal",
      "style": "IPY_MODEL_5d97ee42cb5b4ca5a9f5bc556f1a8a60",
      "value": 1
     }
    },
    "937d3dea8a2547f38287f8c61c8a3b8e": {
     "model_module": "@jupyter-widgets/base",
     "model_module_version": "1.2.0",
     "model_name": "LayoutModel",
     "state": {
      "_model_module": "@jupyter-widgets/base",
      "_model_module_version": "1.2.0",
      "_model_name": "LayoutModel",
      "_view_count": null,
      "_view_module": "@jupyter-widgets/base",
      "_view_module_version": "1.2.0",
      "_view_name": "LayoutView",
      "align_content": null,
      "align_items": null,
      "align_self": null,
      "border": null,
      "bottom": null,
      "display": null,
      "flex": null,
      "flex_flow": null,
      "grid_area": null,
      "grid_auto_columns": null,
      "grid_auto_flow": null,
      "grid_auto_rows": null,
      "grid_column": null,
      "grid_gap": null,
      "grid_row": null,
      "grid_template_areas": null,
      "grid_template_columns": null,
      "grid_template_rows": null,
      "height": null,
      "justify_content": null,
      "justify_items": null,
      "left": null,
      "margin": null,
      "max_height": null,
      "max_width": null,
      "min_height": null,
      "min_width": null,
      "object_fit": null,
      "object_position": null,
      "order": null,
      "overflow": null,
      "overflow_x": null,
      "overflow_y": null,
      "padding": null,
      "right": null,
      "top": null,
      "visibility": null,
      "width": null
     }
    },
    "938ab7319f314935afdab88c85d87894": {
     "model_module": "@jupyter-widgets/controls",
     "model_module_version": "1.5.0",
     "model_name": "DescriptionStyleModel",
     "state": {
      "_model_module": "@jupyter-widgets/controls",
      "_model_module_version": "1.5.0",
      "_model_name": "DescriptionStyleModel",
      "_view_count": null,
      "_view_module": "@jupyter-widgets/base",
      "_view_module_version": "1.2.0",
      "_view_name": "StyleView",
      "description_width": ""
     }
    },
    "94ef455f4eb940c0b176827e8a7d9fc5": {
     "model_module": "@jupyter-widgets/controls",
     "model_module_version": "1.5.0",
     "model_name": "ProgressStyleModel",
     "state": {
      "_model_module": "@jupyter-widgets/controls",
      "_model_module_version": "1.5.0",
      "_model_name": "ProgressStyleModel",
      "_view_count": null,
      "_view_module": "@jupyter-widgets/base",
      "_view_module_version": "1.2.0",
      "_view_name": "StyleView",
      "bar_color": null,
      "description_width": ""
     }
    },
    "9533899297ed48d1aa92583084412d9a": {
     "model_module": "@jupyter-widgets/controls",
     "model_module_version": "1.5.0",
     "model_name": "FloatProgressModel",
     "state": {
      "_dom_classes": [],
      "_model_module": "@jupyter-widgets/controls",
      "_model_module_version": "1.5.0",
      "_model_name": "FloatProgressModel",
      "_view_count": null,
      "_view_module": "@jupyter-widgets/controls",
      "_view_module_version": "1.5.0",
      "_view_name": "ProgressView",
      "bar_style": "success",
      "description": "",
      "description_tooltip": null,
      "layout": "IPY_MODEL_85b192763f8a4480a3d4ae4e0957b685",
      "max": 1042301,
      "min": 0,
      "orientation": "horizontal",
      "style": "IPY_MODEL_a186cd0d62634611941bbe875d707ab3",
      "value": 1042301
     }
    },
    "960de534753949ada3cc727372f0db1d": {
     "model_module": "@jupyter-widgets/base",
     "model_module_version": "1.2.0",
     "model_name": "LayoutModel",
     "state": {
      "_model_module": "@jupyter-widgets/base",
      "_model_module_version": "1.2.0",
      "_model_name": "LayoutModel",
      "_view_count": null,
      "_view_module": "@jupyter-widgets/base",
      "_view_module_version": "1.2.0",
      "_view_name": "LayoutView",
      "align_content": null,
      "align_items": null,
      "align_self": null,
      "border": null,
      "bottom": null,
      "display": null,
      "flex": null,
      "flex_flow": null,
      "grid_area": null,
      "grid_auto_columns": null,
      "grid_auto_flow": null,
      "grid_auto_rows": null,
      "grid_column": null,
      "grid_gap": null,
      "grid_row": null,
      "grid_template_areas": null,
      "grid_template_columns": null,
      "grid_template_rows": null,
      "height": null,
      "justify_content": null,
      "justify_items": null,
      "left": null,
      "margin": null,
      "max_height": null,
      "max_width": null,
      "min_height": null,
      "min_width": null,
      "object_fit": null,
      "object_position": null,
      "order": null,
      "overflow": null,
      "overflow_x": null,
      "overflow_y": null,
      "padding": null,
      "right": null,
      "top": null,
      "visibility": null,
      "width": null
     }
    },
    "975c4167faed4d339bbc3f2eeae9f748": {
     "model_module": "@jupyter-widgets/controls",
     "model_module_version": "1.5.0",
     "model_name": "ProgressStyleModel",
     "state": {
      "_model_module": "@jupyter-widgets/controls",
      "_model_module_version": "1.5.0",
      "_model_name": "ProgressStyleModel",
      "_view_count": null,
      "_view_module": "@jupyter-widgets/base",
      "_view_module_version": "1.2.0",
      "_view_name": "StyleView",
      "bar_color": null,
      "description_width": ""
     }
    },
    "979d607a3eee4671b0b93c5189bef09c": {
     "model_module": "@jupyter-widgets/controls",
     "model_module_version": "1.5.0",
     "model_name": "HBoxModel",
     "state": {
      "_dom_classes": [],
      "_model_module": "@jupyter-widgets/controls",
      "_model_module_version": "1.5.0",
      "_model_name": "HBoxModel",
      "_view_count": null,
      "_view_module": "@jupyter-widgets/controls",
      "_view_module_version": "1.5.0",
      "_view_name": "HBoxView",
      "box_style": "",
      "children": [
       "IPY_MODEL_e87270efd2594bbeb71d68f9f3f796f2",
       "IPY_MODEL_e4f5bea0b35742499724bcfe092bbaba",
       "IPY_MODEL_f0fefe6687614c32a11f90d91134f0e3"
      ],
      "layout": "IPY_MODEL_8630987be068488bbca15d661a8ba777"
     }
    },
    "98ecb94064cd4451b67cccdac5f8c102": {
     "model_module": "@jupyter-widgets/base",
     "model_module_version": "1.2.0",
     "model_name": "LayoutModel",
     "state": {
      "_model_module": "@jupyter-widgets/base",
      "_model_module_version": "1.2.0",
      "_model_name": "LayoutModel",
      "_view_count": null,
      "_view_module": "@jupyter-widgets/base",
      "_view_module_version": "1.2.0",
      "_view_name": "LayoutView",
      "align_content": null,
      "align_items": null,
      "align_self": null,
      "border": null,
      "bottom": null,
      "display": null,
      "flex": null,
      "flex_flow": null,
      "grid_area": null,
      "grid_auto_columns": null,
      "grid_auto_flow": null,
      "grid_auto_rows": null,
      "grid_column": null,
      "grid_gap": null,
      "grid_row": null,
      "grid_template_areas": null,
      "grid_template_columns": null,
      "grid_template_rows": null,
      "height": null,
      "justify_content": null,
      "justify_items": null,
      "left": null,
      "margin": null,
      "max_height": null,
      "max_width": null,
      "min_height": null,
      "min_width": null,
      "object_fit": null,
      "object_position": null,
      "order": null,
      "overflow": null,
      "overflow_x": null,
      "overflow_y": null,
      "padding": null,
      "right": null,
      "top": null,
      "visibility": null,
      "width": null
     }
    },
    "98f94a4b641044809aa3bd2801fbee27": {
     "model_module": "@jupyter-widgets/controls",
     "model_module_version": "1.5.0",
     "model_name": "HBoxModel",
     "state": {
      "_dom_classes": [],
      "_model_module": "@jupyter-widgets/controls",
      "_model_module_version": "1.5.0",
      "_model_name": "HBoxModel",
      "_view_count": null,
      "_view_module": "@jupyter-widgets/controls",
      "_view_module_version": "1.5.0",
      "_view_name": "HBoxView",
      "box_style": "",
      "children": [
       "IPY_MODEL_c30bd63cc2694712a657bc50f69046e8",
       "IPY_MODEL_aefcb034f9164e5ba707dd08c1e02a09",
       "IPY_MODEL_6c9e2cc3d6b84d47bf71568457444be8"
      ],
      "layout": "IPY_MODEL_33d1d6cd77c545d48c0cdc2a4207f05a"
     }
    },
    "99118a9b59864352ad3870d12b233d80": {
     "model_module": "@jupyter-widgets/controls",
     "model_module_version": "1.5.0",
     "model_name": "HTMLModel",
     "state": {
      "_dom_classes": [],
      "_model_module": "@jupyter-widgets/controls",
      "_model_module_version": "1.5.0",
      "_model_name": "HTMLModel",
      "_view_count": null,
      "_view_module": "@jupyter-widgets/controls",
      "_view_module_version": "1.5.0",
      "_view_name": "HTMLView",
      "description": "",
      "description_tooltip": null,
      "layout": "IPY_MODEL_fbdf116a3aec45499f53c40a76b95741",
      "placeholder": "​",
      "style": "IPY_MODEL_af134db80bf741949c6c7248d921e874",
      "value": " 1.36M/1.36M [00:00&lt;00:00, 22.4MB/s]"
     }
    },
    "9911f6d5447a410b9bf7a0e3dc966b13": {
     "model_module": "@jupyter-widgets/controls",
     "model_module_version": "1.5.0",
     "model_name": "DescriptionStyleModel",
     "state": {
      "_model_module": "@jupyter-widgets/controls",
      "_model_module_version": "1.5.0",
      "_model_name": "DescriptionStyleModel",
      "_view_count": null,
      "_view_module": "@jupyter-widgets/base",
      "_view_module_version": "1.2.0",
      "_view_name": "StyleView",
      "description_width": ""
     }
    },
    "995ca1139e7f46fbac1c296c3dcda07a": {
     "model_module": "@jupyter-widgets/base",
     "model_module_version": "1.2.0",
     "model_name": "LayoutModel",
     "state": {
      "_model_module": "@jupyter-widgets/base",
      "_model_module_version": "1.2.0",
      "_model_name": "LayoutModel",
      "_view_count": null,
      "_view_module": "@jupyter-widgets/base",
      "_view_module_version": "1.2.0",
      "_view_name": "LayoutView",
      "align_content": null,
      "align_items": null,
      "align_self": null,
      "border": null,
      "bottom": null,
      "display": null,
      "flex": null,
      "flex_flow": null,
      "grid_area": null,
      "grid_auto_columns": null,
      "grid_auto_flow": null,
      "grid_auto_rows": null,
      "grid_column": null,
      "grid_gap": null,
      "grid_row": null,
      "grid_template_areas": null,
      "grid_template_columns": null,
      "grid_template_rows": null,
      "height": null,
      "justify_content": null,
      "justify_items": null,
      "left": null,
      "margin": null,
      "max_height": null,
      "max_width": null,
      "min_height": null,
      "min_width": null,
      "object_fit": null,
      "object_position": null,
      "order": null,
      "overflow": null,
      "overflow_x": null,
      "overflow_y": null,
      "padding": null,
      "right": null,
      "top": null,
      "visibility": null,
      "width": null
     }
    },
    "9996784c4aa04ca480a58e53e5e073e5": {
     "model_module": "@jupyter-widgets/controls",
     "model_module_version": "1.5.0",
     "model_name": "HTMLModel",
     "state": {
      "_dom_classes": [],
      "_model_module": "@jupyter-widgets/controls",
      "_model_module_version": "1.5.0",
      "_model_name": "HTMLModel",
      "_view_count": null,
      "_view_module": "@jupyter-widgets/controls",
      "_view_module_version": "1.5.0",
      "_view_name": "HTMLView",
      "description": "",
      "description_tooltip": null,
      "layout": "IPY_MODEL_a23cea85c11d44f99338ee370d27bb27",
      "placeholder": "​",
      "style": "IPY_MODEL_e4a5b2625bfc4f7eb9cf1000c8fcd9fb",
      "value": " 3852/0 [00:00&lt;00:00, 50546.27 examples/s]"
     }
    },
    "99b052cccf804bc3bbecb3d2a7b8eebb": {
     "model_module": "@jupyter-widgets/controls",
     "model_module_version": "1.5.0",
     "model_name": "HTMLModel",
     "state": {
      "_dom_classes": [],
      "_model_module": "@jupyter-widgets/controls",
      "_model_module_version": "1.5.0",
      "_model_name": "HTMLModel",
      "_view_count": null,
      "_view_module": "@jupyter-widgets/controls",
      "_view_module_version": "1.5.0",
      "_view_name": "HTMLView",
      "description": "",
      "description_tooltip": null,
      "layout": "IPY_MODEL_fcdff5e01eb7414c9325064a9be4f92a",
      "placeholder": "​",
      "style": "IPY_MODEL_ad5a96afd3bd478e9bb9e412d2770c9e",
      "value": "tokenizer.json: 100%"
     }
    },
    "9a78ed83139b4f26bf8282022e3c403e": {
     "model_module": "@jupyter-widgets/controls",
     "model_module_version": "1.5.0",
     "model_name": "HTMLModel",
     "state": {
      "_dom_classes": [],
      "_model_module": "@jupyter-widgets/controls",
      "_model_module_version": "1.5.0",
      "_model_name": "HTMLModel",
      "_view_count": null,
      "_view_module": "@jupyter-widgets/controls",
      "_view_module_version": "1.5.0",
      "_view_name": "HTMLView",
      "description": "",
      "description_tooltip": null,
      "layout": "IPY_MODEL_886bcbe9c1394d569f0c74fd7b54f0a5",
      "placeholder": "​",
      "style": "IPY_MODEL_42d404e579f04988813895e1d0212f81",
      "value": "tokenizer_config.json: 100%"
     }
    },
    "9aba3a0e80c34c8790985250931253f1": {
     "model_module": "@jupyter-widgets/controls",
     "model_module_version": "1.5.0",
     "model_name": "HTMLModel",
     "state": {
      "_dom_classes": [],
      "_model_module": "@jupyter-widgets/controls",
      "_model_module_version": "1.5.0",
      "_model_name": "HTMLModel",
      "_view_count": null,
      "_view_module": "@jupyter-widgets/controls",
      "_view_module_version": "1.5.0",
      "_view_name": "HTMLView",
      "description": "",
      "description_tooltip": null,
      "layout": "IPY_MODEL_8b7af1b3fb044d428f5a98dfb804a356",
      "placeholder": "​",
      "style": "IPY_MODEL_0e0863081114481c964e57672c86c0b7",
      "value": " 232k/232k [00:00&lt;00:00, 471kB/s]"
     }
    },
    "9ad0006be39642f69cd73ee3bd5161d2": {
     "model_module": "@jupyter-widgets/controls",
     "model_module_version": "1.5.0",
     "model_name": "FloatProgressModel",
     "state": {
      "_dom_classes": [],
      "_model_module": "@jupyter-widgets/controls",
      "_model_module_version": "1.5.0",
      "_model_name": "FloatProgressModel",
      "_view_count": null,
      "_view_module": "@jupyter-widgets/controls",
      "_view_module_version": "1.5.0",
      "_view_name": "ProgressView",
      "bar_style": "success",
      "description": "",
      "description_tooltip": null,
      "layout": "IPY_MODEL_4e10af0f5cec42fb8cb3247af6430909",
      "max": 1355256,
      "min": 0,
      "orientation": "horizontal",
      "style": "IPY_MODEL_4edd5b00fbdb41ca8347c9884506837b",
      "value": 1355256
     }
    },
    "9ba88a2e42b54a59a6aa9907e5c57fa0": {
     "model_module": "@jupyter-widgets/controls",
     "model_module_version": "1.5.0",
     "model_name": "FloatProgressModel",
     "state": {
      "_dom_classes": [],
      "_model_module": "@jupyter-widgets/controls",
      "_model_module_version": "1.5.0",
      "_model_name": "FloatProgressModel",
      "_view_count": null,
      "_view_module": "@jupyter-widgets/controls",
      "_view_module_version": "1.5.0",
      "_view_name": "ProgressView",
      "bar_style": "success",
      "description": "",
      "description_tooltip": null,
      "layout": "IPY_MODEL_8a2d5a4ee0fd473b8137b518bfc3d68b",
      "max": 1,
      "min": 0,
      "orientation": "horizontal",
      "style": "IPY_MODEL_67d215dd5e024d0d922c6ea2a8a1b36f",
      "value": 1
     }
    },
    "9e6171a639f544ceb56c091c57d9e619": {
     "model_module": "@jupyter-widgets/controls",
     "model_module_version": "1.5.0",
     "model_name": "ProgressStyleModel",
     "state": {
      "_model_module": "@jupyter-widgets/controls",
      "_model_module_version": "1.5.0",
      "_model_name": "ProgressStyleModel",
      "_view_count": null,
      "_view_module": "@jupyter-widgets/base",
      "_view_module_version": "1.2.0",
      "_view_name": "StyleView",
      "bar_color": null,
      "description_width": ""
     }
    },
    "9e9badec71f74fdf997043d9a628c597": {
     "model_module": "@jupyter-widgets/controls",
     "model_module_version": "1.5.0",
     "model_name": "HBoxModel",
     "state": {
      "_dom_classes": [],
      "_model_module": "@jupyter-widgets/controls",
      "_model_module_version": "1.5.0",
      "_model_name": "HBoxModel",
      "_view_count": null,
      "_view_module": "@jupyter-widgets/controls",
      "_view_module_version": "1.5.0",
      "_view_name": "HBoxView",
      "box_style": "",
      "children": [
       "IPY_MODEL_3c42b1fb09cb44a2aef8cdd4c7961808",
       "IPY_MODEL_c2c41e586b5d47aa93ba8e4dc8675a32",
       "IPY_MODEL_7034dcd30e414f14a4c06c00cc2ade13"
      ],
      "layout": "IPY_MODEL_2ef29cf73ea14794b8aaf9e3ccc78940"
     }
    },
    "9ec4bf7395dc42ea8022959062f6f333": {
     "model_module": "@jupyter-widgets/controls",
     "model_module_version": "1.5.0",
     "model_name": "HBoxModel",
     "state": {
      "_dom_classes": [],
      "_model_module": "@jupyter-widgets/controls",
      "_model_module_version": "1.5.0",
      "_model_name": "HBoxModel",
      "_view_count": null,
      "_view_module": "@jupyter-widgets/controls",
      "_view_module_version": "1.5.0",
      "_view_name": "HBoxView",
      "box_style": "",
      "children": [
       "IPY_MODEL_bfdf1f0d388942beb50bcd7242bdb3df",
       "IPY_MODEL_34ea08329bce40839467041d8d675b0b",
       "IPY_MODEL_9ef31f7bcb7342108ac855ceb0d76b49"
      ],
      "layout": "IPY_MODEL_f2c83ee98d4d44389e9354b89a914cd1"
     }
    },
    "9ef31f7bcb7342108ac855ceb0d76b49": {
     "model_module": "@jupyter-widgets/controls",
     "model_module_version": "1.5.0",
     "model_name": "HTMLModel",
     "state": {
      "_dom_classes": [],
      "_model_module": "@jupyter-widgets/controls",
      "_model_module_version": "1.5.0",
      "_model_name": "HTMLModel",
      "_view_count": null,
      "_view_module": "@jupyter-widgets/controls",
      "_view_module_version": "1.5.0",
      "_view_name": "HTMLView",
      "description": "",
      "description_tooltip": null,
      "layout": "IPY_MODEL_ea6dca3ac29d409daa542899e8b7a3e1",
      "placeholder": "​",
      "style": "IPY_MODEL_8bfbfd341cc54418aaa9ca300aa6f54a",
      "value": " 1289/1289 [00:00&lt;00:00, 6410.19 examples/s]"
     }
    },
    "9f1735288ea745f39f95127366bb8698": {
     "model_module": "@jupyter-widgets/base",
     "model_module_version": "1.2.0",
     "model_name": "LayoutModel",
     "state": {
      "_model_module": "@jupyter-widgets/base",
      "_model_module_version": "1.2.0",
      "_model_name": "LayoutModel",
      "_view_count": null,
      "_view_module": "@jupyter-widgets/base",
      "_view_module_version": "1.2.0",
      "_view_name": "LayoutView",
      "align_content": null,
      "align_items": null,
      "align_self": null,
      "border": null,
      "bottom": null,
      "display": null,
      "flex": null,
      "flex_flow": null,
      "grid_area": null,
      "grid_auto_columns": null,
      "grid_auto_flow": null,
      "grid_auto_rows": null,
      "grid_column": null,
      "grid_gap": null,
      "grid_row": null,
      "grid_template_areas": null,
      "grid_template_columns": null,
      "grid_template_rows": null,
      "height": null,
      "justify_content": null,
      "justify_items": null,
      "left": null,
      "margin": null,
      "max_height": null,
      "max_width": null,
      "min_height": null,
      "min_width": null,
      "object_fit": null,
      "object_position": null,
      "order": null,
      "overflow": null,
      "overflow_x": null,
      "overflow_y": null,
      "padding": null,
      "right": null,
      "top": null,
      "visibility": null,
      "width": null
     }
    },
    "9f3d7cd9902149938997025d735d83ab": {
     "model_module": "@jupyter-widgets/controls",
     "model_module_version": "1.5.0",
     "model_name": "HBoxModel",
     "state": {
      "_dom_classes": [],
      "_model_module": "@jupyter-widgets/controls",
      "_model_module_version": "1.5.0",
      "_model_name": "HBoxModel",
      "_view_count": null,
      "_view_module": "@jupyter-widgets/controls",
      "_view_module_version": "1.5.0",
      "_view_name": "HBoxView",
      "box_style": "",
      "children": [
       "IPY_MODEL_37f56d81b5664fbe933e6c31826a37e4",
       "IPY_MODEL_2f488a3c842045d5ac7cc843f482427e",
       "IPY_MODEL_b3e45aff192641afa35642453884a8e1"
      ],
      "layout": "IPY_MODEL_a726e761ed344feb90b0058cf65498e7"
     }
    },
    "9f7521e21b0d4b918bdefd2eb38fa75a": {
     "model_module": "@jupyter-widgets/controls",
     "model_module_version": "1.5.0",
     "model_name": "HTMLModel",
     "state": {
      "_dom_classes": [],
      "_model_module": "@jupyter-widgets/controls",
      "_model_module_version": "1.5.0",
      "_model_name": "HTMLModel",
      "_view_count": null,
      "_view_module": "@jupyter-widgets/controls",
      "_view_module_version": "1.5.0",
      "_view_name": "HTMLView",
      "description": "",
      "description_tooltip": null,
      "layout": "IPY_MODEL_181ee900eccb4bdc98945cae0e95b770",
      "placeholder": "​",
      "style": "IPY_MODEL_120fbeddc7d3406994260af25c636e5e",
      "value": " 232k/232k [00:00&lt;00:00, 942kB/s]"
     }
    },
    "9fcc4a2ca21042848e5becbb152cb681": {
     "model_module": "@jupyter-widgets/base",
     "model_module_version": "1.2.0",
     "model_name": "LayoutModel",
     "state": {
      "_model_module": "@jupyter-widgets/base",
      "_model_module_version": "1.2.0",
      "_model_name": "LayoutModel",
      "_view_count": null,
      "_view_module": "@jupyter-widgets/base",
      "_view_module_version": "1.2.0",
      "_view_name": "LayoutView",
      "align_content": null,
      "align_items": null,
      "align_self": null,
      "border": null,
      "bottom": null,
      "display": null,
      "flex": null,
      "flex_flow": null,
      "grid_area": null,
      "grid_auto_columns": null,
      "grid_auto_flow": null,
      "grid_auto_rows": null,
      "grid_column": null,
      "grid_gap": null,
      "grid_row": null,
      "grid_template_areas": null,
      "grid_template_columns": null,
      "grid_template_rows": null,
      "height": null,
      "justify_content": null,
      "justify_items": null,
      "left": null,
      "margin": null,
      "max_height": null,
      "max_width": null,
      "min_height": null,
      "min_width": null,
      "object_fit": null,
      "object_position": null,
      "order": null,
      "overflow": null,
      "overflow_x": null,
      "overflow_y": null,
      "padding": null,
      "right": null,
      "top": null,
      "visibility": null,
      "width": null
     }
    },
    "a12d5562a5d84bca8378845a92411bc6": {
     "model_module": "@jupyter-widgets/controls",
     "model_module_version": "1.5.0",
     "model_name": "DescriptionStyleModel",
     "state": {
      "_model_module": "@jupyter-widgets/controls",
      "_model_module_version": "1.5.0",
      "_model_name": "DescriptionStyleModel",
      "_view_count": null,
      "_view_module": "@jupyter-widgets/base",
      "_view_module_version": "1.2.0",
      "_view_name": "StyleView",
      "description_width": ""
     }
    },
    "a1754c0bf4d9463ca5214eac4eb9a1eb": {
     "model_module": "@jupyter-widgets/base",
     "model_module_version": "1.2.0",
     "model_name": "LayoutModel",
     "state": {
      "_model_module": "@jupyter-widgets/base",
      "_model_module_version": "1.2.0",
      "_model_name": "LayoutModel",
      "_view_count": null,
      "_view_module": "@jupyter-widgets/base",
      "_view_module_version": "1.2.0",
      "_view_name": "LayoutView",
      "align_content": null,
      "align_items": null,
      "align_self": null,
      "border": null,
      "bottom": null,
      "display": null,
      "flex": null,
      "flex_flow": null,
      "grid_area": null,
      "grid_auto_columns": null,
      "grid_auto_flow": null,
      "grid_auto_rows": null,
      "grid_column": null,
      "grid_gap": null,
      "grid_row": null,
      "grid_template_areas": null,
      "grid_template_columns": null,
      "grid_template_rows": null,
      "height": null,
      "justify_content": null,
      "justify_items": null,
      "left": null,
      "margin": null,
      "max_height": null,
      "max_width": null,
      "min_height": null,
      "min_width": null,
      "object_fit": null,
      "object_position": null,
      "order": null,
      "overflow": null,
      "overflow_x": null,
      "overflow_y": null,
      "padding": null,
      "right": null,
      "top": null,
      "visibility": null,
      "width": null
     }
    },
    "a186cd0d62634611941bbe875d707ab3": {
     "model_module": "@jupyter-widgets/controls",
     "model_module_version": "1.5.0",
     "model_name": "ProgressStyleModel",
     "state": {
      "_model_module": "@jupyter-widgets/controls",
      "_model_module_version": "1.5.0",
      "_model_name": "ProgressStyleModel",
      "_view_count": null,
      "_view_module": "@jupyter-widgets/base",
      "_view_module_version": "1.2.0",
      "_view_name": "StyleView",
      "bar_color": null,
      "description_width": ""
     }
    },
    "a1c3ad8b4f61434b9d41fb0ffda79991": {
     "model_module": "@jupyter-widgets/controls",
     "model_module_version": "1.5.0",
     "model_name": "DescriptionStyleModel",
     "state": {
      "_model_module": "@jupyter-widgets/controls",
      "_model_module_version": "1.5.0",
      "_model_name": "DescriptionStyleModel",
      "_view_count": null,
      "_view_module": "@jupyter-widgets/base",
      "_view_module_version": "1.2.0",
      "_view_name": "StyleView",
      "description_width": ""
     }
    },
    "a23cea85c11d44f99338ee370d27bb27": {
     "model_module": "@jupyter-widgets/base",
     "model_module_version": "1.2.0",
     "model_name": "LayoutModel",
     "state": {
      "_model_module": "@jupyter-widgets/base",
      "_model_module_version": "1.2.0",
      "_model_name": "LayoutModel",
      "_view_count": null,
      "_view_module": "@jupyter-widgets/base",
      "_view_module_version": "1.2.0",
      "_view_name": "LayoutView",
      "align_content": null,
      "align_items": null,
      "align_self": null,
      "border": null,
      "bottom": null,
      "display": null,
      "flex": null,
      "flex_flow": null,
      "grid_area": null,
      "grid_auto_columns": null,
      "grid_auto_flow": null,
      "grid_auto_rows": null,
      "grid_column": null,
      "grid_gap": null,
      "grid_row": null,
      "grid_template_areas": null,
      "grid_template_columns": null,
      "grid_template_rows": null,
      "height": null,
      "justify_content": null,
      "justify_items": null,
      "left": null,
      "margin": null,
      "max_height": null,
      "max_width": null,
      "min_height": null,
      "min_width": null,
      "object_fit": null,
      "object_position": null,
      "order": null,
      "overflow": null,
      "overflow_x": null,
      "overflow_y": null,
      "padding": null,
      "right": null,
      "top": null,
      "visibility": null,
      "width": null
     }
    },
    "a338d6cd66b144819521d0ab553719f1": {
     "model_module": "@jupyter-widgets/base",
     "model_module_version": "1.2.0",
     "model_name": "LayoutModel",
     "state": {
      "_model_module": "@jupyter-widgets/base",
      "_model_module_version": "1.2.0",
      "_model_name": "LayoutModel",
      "_view_count": null,
      "_view_module": "@jupyter-widgets/base",
      "_view_module_version": "1.2.0",
      "_view_name": "LayoutView",
      "align_content": null,
      "align_items": null,
      "align_self": null,
      "border": null,
      "bottom": null,
      "display": null,
      "flex": null,
      "flex_flow": null,
      "grid_area": null,
      "grid_auto_columns": null,
      "grid_auto_flow": null,
      "grid_auto_rows": null,
      "grid_column": null,
      "grid_gap": null,
      "grid_row": null,
      "grid_template_areas": null,
      "grid_template_columns": null,
      "grid_template_rows": null,
      "height": null,
      "justify_content": null,
      "justify_items": null,
      "left": null,
      "margin": null,
      "max_height": null,
      "max_width": null,
      "min_height": null,
      "min_width": null,
      "object_fit": null,
      "object_position": null,
      "order": null,
      "overflow": null,
      "overflow_x": null,
      "overflow_y": null,
      "padding": null,
      "right": null,
      "top": null,
      "visibility": null,
      "width": null
     }
    },
    "a37527a86b78442f98e2591652d9075f": {
     "model_module": "@jupyter-widgets/controls",
     "model_module_version": "1.5.0",
     "model_name": "DescriptionStyleModel",
     "state": {
      "_model_module": "@jupyter-widgets/controls",
      "_model_module_version": "1.5.0",
      "_model_name": "DescriptionStyleModel",
      "_view_count": null,
      "_view_module": "@jupyter-widgets/base",
      "_view_module_version": "1.2.0",
      "_view_name": "StyleView",
      "description_width": ""
     }
    },
    "a40ffd8b51784c2988e75903ac4fab93": {
     "model_module": "@jupyter-widgets/controls",
     "model_module_version": "1.5.0",
     "model_name": "HTMLModel",
     "state": {
      "_dom_classes": [],
      "_model_module": "@jupyter-widgets/controls",
      "_model_module_version": "1.5.0",
      "_model_name": "HTMLModel",
      "_view_count": null,
      "_view_module": "@jupyter-widgets/controls",
      "_view_module_version": "1.5.0",
      "_view_name": "HTMLView",
      "description": "",
      "description_tooltip": null,
      "layout": "IPY_MODEL_fc19e87c5a9b409e8877022912b3b5d4",
      "placeholder": "​",
      "style": "IPY_MODEL_d747d7a4a9ac4e479e2cafb7ca11d0ad",
      "value": " 3852/3852 [00:00&lt;00:00, 19595.11 examples/s]"
     }
    },
    "a575be776efd4fa2be2bb978262efcfa": {
     "model_module": "@jupyter-widgets/base",
     "model_module_version": "1.2.0",
     "model_name": "LayoutModel",
     "state": {
      "_model_module": "@jupyter-widgets/base",
      "_model_module_version": "1.2.0",
      "_model_name": "LayoutModel",
      "_view_count": null,
      "_view_module": "@jupyter-widgets/base",
      "_view_module_version": "1.2.0",
      "_view_name": "LayoutView",
      "align_content": null,
      "align_items": null,
      "align_self": null,
      "border": null,
      "bottom": null,
      "display": null,
      "flex": null,
      "flex_flow": null,
      "grid_area": null,
      "grid_auto_columns": null,
      "grid_auto_flow": null,
      "grid_auto_rows": null,
      "grid_column": null,
      "grid_gap": null,
      "grid_row": null,
      "grid_template_areas": null,
      "grid_template_columns": null,
      "grid_template_rows": null,
      "height": null,
      "justify_content": null,
      "justify_items": null,
      "left": null,
      "margin": null,
      "max_height": null,
      "max_width": null,
      "min_height": null,
      "min_width": null,
      "object_fit": null,
      "object_position": null,
      "order": null,
      "overflow": null,
      "overflow_x": null,
      "overflow_y": null,
      "padding": null,
      "right": null,
      "top": null,
      "visibility": null,
      "width": null
     }
    },
    "a5fe3f2998b44c4981f31f6c3070d7df": {
     "model_module": "@jupyter-widgets/controls",
     "model_module_version": "1.5.0",
     "model_name": "HTMLModel",
     "state": {
      "_dom_classes": [],
      "_model_module": "@jupyter-widgets/controls",
      "_model_module_version": "1.5.0",
      "_model_name": "HTMLModel",
      "_view_count": null,
      "_view_module": "@jupyter-widgets/controls",
      "_view_module_version": "1.5.0",
      "_view_name": "HTMLView",
      "description": "",
      "description_tooltip": null,
      "layout": "IPY_MODEL_a747ee6a682d4888a16451b2fe57967d",
      "placeholder": "​",
      "style": "IPY_MODEL_b47d7ef257c449f1b0e8756446997d89",
      "value": "Map: 100%"
     }
    },
    "a647eaa49402408b8b10d8efb4c19bfd": {
     "model_module": "@jupyter-widgets/base",
     "model_module_version": "1.2.0",
     "model_name": "LayoutModel",
     "state": {
      "_model_module": "@jupyter-widgets/base",
      "_model_module_version": "1.2.0",
      "_model_name": "LayoutModel",
      "_view_count": null,
      "_view_module": "@jupyter-widgets/base",
      "_view_module_version": "1.2.0",
      "_view_name": "LayoutView",
      "align_content": null,
      "align_items": null,
      "align_self": null,
      "border": null,
      "bottom": null,
      "display": null,
      "flex": null,
      "flex_flow": null,
      "grid_area": null,
      "grid_auto_columns": null,
      "grid_auto_flow": null,
      "grid_auto_rows": null,
      "grid_column": null,
      "grid_gap": null,
      "grid_row": null,
      "grid_template_areas": null,
      "grid_template_columns": null,
      "grid_template_rows": null,
      "height": null,
      "justify_content": null,
      "justify_items": null,
      "left": null,
      "margin": null,
      "max_height": null,
      "max_width": null,
      "min_height": null,
      "min_width": null,
      "object_fit": null,
      "object_position": null,
      "order": null,
      "overflow": null,
      "overflow_x": null,
      "overflow_y": null,
      "padding": null,
      "right": null,
      "top": null,
      "visibility": null,
      "width": null
     }
    },
    "a6e572e7ab67495b8a5b4b1a50af8e0b": {
     "model_module": "@jupyter-widgets/base",
     "model_module_version": "1.2.0",
     "model_name": "LayoutModel",
     "state": {
      "_model_module": "@jupyter-widgets/base",
      "_model_module_version": "1.2.0",
      "_model_name": "LayoutModel",
      "_view_count": null,
      "_view_module": "@jupyter-widgets/base",
      "_view_module_version": "1.2.0",
      "_view_name": "LayoutView",
      "align_content": null,
      "align_items": null,
      "align_self": null,
      "border": null,
      "bottom": null,
      "display": null,
      "flex": null,
      "flex_flow": null,
      "grid_area": null,
      "grid_auto_columns": null,
      "grid_auto_flow": null,
      "grid_auto_rows": null,
      "grid_column": null,
      "grid_gap": null,
      "grid_row": null,
      "grid_template_areas": null,
      "grid_template_columns": null,
      "grid_template_rows": null,
      "height": null,
      "justify_content": null,
      "justify_items": null,
      "left": null,
      "margin": null,
      "max_height": null,
      "max_width": null,
      "min_height": null,
      "min_width": null,
      "object_fit": null,
      "object_position": null,
      "order": null,
      "overflow": null,
      "overflow_x": null,
      "overflow_y": null,
      "padding": null,
      "right": null,
      "top": null,
      "visibility": null,
      "width": null
     }
    },
    "a726e761ed344feb90b0058cf65498e7": {
     "model_module": "@jupyter-widgets/base",
     "model_module_version": "1.2.0",
     "model_name": "LayoutModel",
     "state": {
      "_model_module": "@jupyter-widgets/base",
      "_model_module_version": "1.2.0",
      "_model_name": "LayoutModel",
      "_view_count": null,
      "_view_module": "@jupyter-widgets/base",
      "_view_module_version": "1.2.0",
      "_view_name": "LayoutView",
      "align_content": null,
      "align_items": null,
      "align_self": null,
      "border": null,
      "bottom": null,
      "display": null,
      "flex": null,
      "flex_flow": null,
      "grid_area": null,
      "grid_auto_columns": null,
      "grid_auto_flow": null,
      "grid_auto_rows": null,
      "grid_column": null,
      "grid_gap": null,
      "grid_row": null,
      "grid_template_areas": null,
      "grid_template_columns": null,
      "grid_template_rows": null,
      "height": null,
      "justify_content": null,
      "justify_items": null,
      "left": null,
      "margin": null,
      "max_height": null,
      "max_width": null,
      "min_height": null,
      "min_width": null,
      "object_fit": null,
      "object_position": null,
      "order": null,
      "overflow": null,
      "overflow_x": null,
      "overflow_y": null,
      "padding": null,
      "right": null,
      "top": null,
      "visibility": null,
      "width": null
     }
    },
    "a747ee6a682d4888a16451b2fe57967d": {
     "model_module": "@jupyter-widgets/base",
     "model_module_version": "1.2.0",
     "model_name": "LayoutModel",
     "state": {
      "_model_module": "@jupyter-widgets/base",
      "_model_module_version": "1.2.0",
      "_model_name": "LayoutModel",
      "_view_count": null,
      "_view_module": "@jupyter-widgets/base",
      "_view_module_version": "1.2.0",
      "_view_name": "LayoutView",
      "align_content": null,
      "align_items": null,
      "align_self": null,
      "border": null,
      "bottom": null,
      "display": null,
      "flex": null,
      "flex_flow": null,
      "grid_area": null,
      "grid_auto_columns": null,
      "grid_auto_flow": null,
      "grid_auto_rows": null,
      "grid_column": null,
      "grid_gap": null,
      "grid_row": null,
      "grid_template_areas": null,
      "grid_template_columns": null,
      "grid_template_rows": null,
      "height": null,
      "justify_content": null,
      "justify_items": null,
      "left": null,
      "margin": null,
      "max_height": null,
      "max_width": null,
      "min_height": null,
      "min_width": null,
      "object_fit": null,
      "object_position": null,
      "order": null,
      "overflow": null,
      "overflow_x": null,
      "overflow_y": null,
      "padding": null,
      "right": null,
      "top": null,
      "visibility": null,
      "width": null
     }
    },
    "a74b725d47d149d497dcb57a8f4b8df0": {
     "model_module": "@jupyter-widgets/base",
     "model_module_version": "1.2.0",
     "model_name": "LayoutModel",
     "state": {
      "_model_module": "@jupyter-widgets/base",
      "_model_module_version": "1.2.0",
      "_model_name": "LayoutModel",
      "_view_count": null,
      "_view_module": "@jupyter-widgets/base",
      "_view_module_version": "1.2.0",
      "_view_name": "LayoutView",
      "align_content": null,
      "align_items": null,
      "align_self": null,
      "border": null,
      "bottom": null,
      "display": null,
      "flex": null,
      "flex_flow": null,
      "grid_area": null,
      "grid_auto_columns": null,
      "grid_auto_flow": null,
      "grid_auto_rows": null,
      "grid_column": null,
      "grid_gap": null,
      "grid_row": null,
      "grid_template_areas": null,
      "grid_template_columns": null,
      "grid_template_rows": null,
      "height": null,
      "justify_content": null,
      "justify_items": null,
      "left": null,
      "margin": null,
      "max_height": null,
      "max_width": null,
      "min_height": null,
      "min_width": null,
      "object_fit": null,
      "object_position": null,
      "order": null,
      "overflow": null,
      "overflow_x": null,
      "overflow_y": null,
      "padding": null,
      "right": null,
      "top": null,
      "visibility": null,
      "width": null
     }
    },
    "a7c1ffd3bfae4ac29997b77f805d6684": {
     "model_module": "@jupyter-widgets/base",
     "model_module_version": "1.2.0",
     "model_name": "LayoutModel",
     "state": {
      "_model_module": "@jupyter-widgets/base",
      "_model_module_version": "1.2.0",
      "_model_name": "LayoutModel",
      "_view_count": null,
      "_view_module": "@jupyter-widgets/base",
      "_view_module_version": "1.2.0",
      "_view_name": "LayoutView",
      "align_content": null,
      "align_items": null,
      "align_self": null,
      "border": null,
      "bottom": null,
      "display": null,
      "flex": null,
      "flex_flow": null,
      "grid_area": null,
      "grid_auto_columns": null,
      "grid_auto_flow": null,
      "grid_auto_rows": null,
      "grid_column": null,
      "grid_gap": null,
      "grid_row": null,
      "grid_template_areas": null,
      "grid_template_columns": null,
      "grid_template_rows": null,
      "height": null,
      "justify_content": null,
      "justify_items": null,
      "left": null,
      "margin": null,
      "max_height": null,
      "max_width": null,
      "min_height": null,
      "min_width": null,
      "object_fit": null,
      "object_position": null,
      "order": null,
      "overflow": null,
      "overflow_x": null,
      "overflow_y": null,
      "padding": null,
      "right": null,
      "top": null,
      "visibility": null,
      "width": null
     }
    },
    "a8d497b06b8648fe8c06905fe9ebc973": {
     "model_module": "@jupyter-widgets/controls",
     "model_module_version": "1.5.0",
     "model_name": "HTMLModel",
     "state": {
      "_dom_classes": [],
      "_model_module": "@jupyter-widgets/controls",
      "_model_module_version": "1.5.0",
      "_model_name": "HTMLModel",
      "_view_count": null,
      "_view_module": "@jupyter-widgets/controls",
      "_view_module_version": "1.5.0",
      "_view_name": "HTMLView",
      "description": "",
      "description_tooltip": null,
      "layout": "IPY_MODEL_7c460ab96eed403cadba9519916c112b",
      "placeholder": "​",
      "style": "IPY_MODEL_ba8a10a3495d4a5b87e65562d115f7c5",
      "value": " 665/665 [00:00&lt;00:00, 26.4kB/s]"
     }
    },
    "aa43590e7815414fbaea8accf7ae9297": {
     "model_module": "@jupyter-widgets/base",
     "model_module_version": "1.2.0",
     "model_name": "LayoutModel",
     "state": {
      "_model_module": "@jupyter-widgets/base",
      "_model_module_version": "1.2.0",
      "_model_name": "LayoutModel",
      "_view_count": null,
      "_view_module": "@jupyter-widgets/base",
      "_view_module_version": "1.2.0",
      "_view_name": "LayoutView",
      "align_content": null,
      "align_items": null,
      "align_self": null,
      "border": null,
      "bottom": null,
      "display": null,
      "flex": null,
      "flex_flow": null,
      "grid_area": null,
      "grid_auto_columns": null,
      "grid_auto_flow": null,
      "grid_auto_rows": null,
      "grid_column": null,
      "grid_gap": null,
      "grid_row": null,
      "grid_template_areas": null,
      "grid_template_columns": null,
      "grid_template_rows": null,
      "height": null,
      "justify_content": null,
      "justify_items": null,
      "left": null,
      "margin": null,
      "max_height": null,
      "max_width": null,
      "min_height": null,
      "min_width": null,
      "object_fit": null,
      "object_position": null,
      "order": null,
      "overflow": null,
      "overflow_x": null,
      "overflow_y": null,
      "padding": null,
      "right": null,
      "top": null,
      "visibility": null,
      "width": null
     }
    },
    "aa74920bb1ce4bdabd386ebe58f53abb": {
     "model_module": "@jupyter-widgets/controls",
     "model_module_version": "1.5.0",
     "model_name": "FloatProgressModel",
     "state": {
      "_dom_classes": [],
      "_model_module": "@jupyter-widgets/controls",
      "_model_module_version": "1.5.0",
      "_model_name": "FloatProgressModel",
      "_view_count": null,
      "_view_module": "@jupyter-widgets/controls",
      "_view_module_version": "1.5.0",
      "_view_name": "ProgressView",
      "bar_style": "success",
      "description": "",
      "description_tooltip": null,
      "layout": "IPY_MODEL_846546ae6e8649d5a93bb4012b58856d",
      "max": 3081,
      "min": 0,
      "orientation": "horizontal",
      "style": "IPY_MODEL_b080efa6d7a34395bc08542164b2b6d4",
      "value": 3081
     }
    },
    "abaa724f6e984ddcb538a24012a74dd9": {
     "model_module": "@jupyter-widgets/base",
     "model_module_version": "1.2.0",
     "model_name": "LayoutModel",
     "state": {
      "_model_module": "@jupyter-widgets/base",
      "_model_module_version": "1.2.0",
      "_model_name": "LayoutModel",
      "_view_count": null,
      "_view_module": "@jupyter-widgets/base",
      "_view_module_version": "1.2.0",
      "_view_name": "LayoutView",
      "align_content": null,
      "align_items": null,
      "align_self": null,
      "border": null,
      "bottom": null,
      "display": null,
      "flex": null,
      "flex_flow": null,
      "grid_area": null,
      "grid_auto_columns": null,
      "grid_auto_flow": null,
      "grid_auto_rows": null,
      "grid_column": null,
      "grid_gap": null,
      "grid_row": null,
      "grid_template_areas": null,
      "grid_template_columns": null,
      "grid_template_rows": null,
      "height": null,
      "justify_content": null,
      "justify_items": null,
      "left": null,
      "margin": null,
      "max_height": null,
      "max_width": null,
      "min_height": null,
      "min_width": null,
      "object_fit": null,
      "object_position": null,
      "order": null,
      "overflow": null,
      "overflow_x": null,
      "overflow_y": null,
      "padding": null,
      "right": null,
      "top": null,
      "visibility": null,
      "width": null
     }
    },
    "abcd64d0a2ee4adeb749cc2fc34e3a6a": {
     "model_module": "@jupyter-widgets/base",
     "model_module_version": "1.2.0",
     "model_name": "LayoutModel",
     "state": {
      "_model_module": "@jupyter-widgets/base",
      "_model_module_version": "1.2.0",
      "_model_name": "LayoutModel",
      "_view_count": null,
      "_view_module": "@jupyter-widgets/base",
      "_view_module_version": "1.2.0",
      "_view_name": "LayoutView",
      "align_content": null,
      "align_items": null,
      "align_self": null,
      "border": null,
      "bottom": null,
      "display": null,
      "flex": null,
      "flex_flow": null,
      "grid_area": null,
      "grid_auto_columns": null,
      "grid_auto_flow": null,
      "grid_auto_rows": null,
      "grid_column": null,
      "grid_gap": null,
      "grid_row": null,
      "grid_template_areas": null,
      "grid_template_columns": null,
      "grid_template_rows": null,
      "height": null,
      "justify_content": null,
      "justify_items": null,
      "left": null,
      "margin": null,
      "max_height": null,
      "max_width": null,
      "min_height": null,
      "min_width": null,
      "object_fit": null,
      "object_position": null,
      "order": null,
      "overflow": null,
      "overflow_x": null,
      "overflow_y": null,
      "padding": null,
      "right": null,
      "top": null,
      "visibility": null,
      "width": null
     }
    },
    "ad3da69addc44dcd910c982aabd94fb5": {
     "model_module": "@jupyter-widgets/controls",
     "model_module_version": "1.5.0",
     "model_name": "FloatProgressModel",
     "state": {
      "_dom_classes": [],
      "_model_module": "@jupyter-widgets/controls",
      "_model_module_version": "1.5.0",
      "_model_name": "FloatProgressModel",
      "_view_count": null,
      "_view_module": "@jupyter-widgets/controls",
      "_view_module_version": "1.5.0",
      "_view_name": "ProgressView",
      "bar_style": "success",
      "description": "",
      "description_tooltip": null,
      "layout": "IPY_MODEL_6d730e29f1794da08e4757a0bda3e67f",
      "max": 26,
      "min": 0,
      "orientation": "horizontal",
      "style": "IPY_MODEL_622af824740148f8a404ce3cf428db53",
      "value": 26
     }
    },
    "ad5a96afd3bd478e9bb9e412d2770c9e": {
     "model_module": "@jupyter-widgets/controls",
     "model_module_version": "1.5.0",
     "model_name": "DescriptionStyleModel",
     "state": {
      "_model_module": "@jupyter-widgets/controls",
      "_model_module_version": "1.5.0",
      "_model_name": "DescriptionStyleModel",
      "_view_count": null,
      "_view_module": "@jupyter-widgets/base",
      "_view_module_version": "1.2.0",
      "_view_name": "StyleView",
      "description_width": ""
     }
    },
    "adaaaa75b6f047239329f6a74b7c2f77": {
     "model_module": "@jupyter-widgets/controls",
     "model_module_version": "1.5.0",
     "model_name": "HTMLModel",
     "state": {
      "_dom_classes": [],
      "_model_module": "@jupyter-widgets/controls",
      "_model_module_version": "1.5.0",
      "_model_name": "HTMLModel",
      "_view_count": null,
      "_view_module": "@jupyter-widgets/controls",
      "_view_module_version": "1.5.0",
      "_view_name": "HTMLView",
      "description": "",
      "description_tooltip": null,
      "layout": "IPY_MODEL_3133811b808e4fdfbcdaf81abb3a994e",
      "placeholder": "​",
      "style": "IPY_MODEL_0775a4d8fe1d4cd3b34486bf28d5f755",
      "value": " 456k/456k [00:00&lt;00:00, 6.10MB/s]"
     }
    },
    "aeea02bd03be406bb2b047e3e9b82f95": {
     "model_module": "@jupyter-widgets/controls",
     "model_module_version": "1.5.0",
     "model_name": "DescriptionStyleModel",
     "state": {
      "_model_module": "@jupyter-widgets/controls",
      "_model_module_version": "1.5.0",
      "_model_name": "DescriptionStyleModel",
      "_view_count": null,
      "_view_module": "@jupyter-widgets/base",
      "_view_module_version": "1.2.0",
      "_view_name": "StyleView",
      "description_width": ""
     }
    },
    "aefcb034f9164e5ba707dd08c1e02a09": {
     "model_module": "@jupyter-widgets/controls",
     "model_module_version": "1.5.0",
     "model_name": "FloatProgressModel",
     "state": {
      "_dom_classes": [],
      "_model_module": "@jupyter-widgets/controls",
      "_model_module_version": "1.5.0",
      "_model_name": "FloatProgressModel",
      "_view_count": null,
      "_view_module": "@jupyter-widgets/controls",
      "_view_module_version": "1.5.0",
      "_view_name": "ProgressView",
      "bar_style": "success",
      "description": "",
      "description_tooltip": null,
      "layout": "IPY_MODEL_13192bc720d84c2cb83a4cca9906471a",
      "max": 771,
      "min": 0,
      "orientation": "horizontal",
      "style": "IPY_MODEL_94ef455f4eb940c0b176827e8a7d9fc5",
      "value": 771
     }
    },
    "af134db80bf741949c6c7248d921e874": {
     "model_module": "@jupyter-widgets/controls",
     "model_module_version": "1.5.0",
     "model_name": "DescriptionStyleModel",
     "state": {
      "_model_module": "@jupyter-widgets/controls",
      "_model_module_version": "1.5.0",
      "_model_name": "DescriptionStyleModel",
      "_view_count": null,
      "_view_module": "@jupyter-widgets/base",
      "_view_module_version": "1.2.0",
      "_view_name": "StyleView",
      "description_width": ""
     }
    },
    "afffdf5c259f4f14aeb99b6c25016ac6": {
     "model_module": "@jupyter-widgets/base",
     "model_module_version": "1.2.0",
     "model_name": "LayoutModel",
     "state": {
      "_model_module": "@jupyter-widgets/base",
      "_model_module_version": "1.2.0",
      "_model_name": "LayoutModel",
      "_view_count": null,
      "_view_module": "@jupyter-widgets/base",
      "_view_module_version": "1.2.0",
      "_view_name": "LayoutView",
      "align_content": null,
      "align_items": null,
      "align_self": null,
      "border": null,
      "bottom": null,
      "display": null,
      "flex": null,
      "flex_flow": null,
      "grid_area": null,
      "grid_auto_columns": null,
      "grid_auto_flow": null,
      "grid_auto_rows": null,
      "grid_column": null,
      "grid_gap": null,
      "grid_row": null,
      "grid_template_areas": null,
      "grid_template_columns": null,
      "grid_template_rows": null,
      "height": null,
      "justify_content": null,
      "justify_items": null,
      "left": null,
      "margin": null,
      "max_height": null,
      "max_width": null,
      "min_height": null,
      "min_width": null,
      "object_fit": null,
      "object_position": null,
      "order": null,
      "overflow": null,
      "overflow_x": null,
      "overflow_y": null,
      "padding": null,
      "right": null,
      "top": null,
      "visibility": null,
      "width": null
     }
    },
    "b00cda330cfb40a9a35127f2cadf72d4": {
     "model_module": "@jupyter-widgets/base",
     "model_module_version": "1.2.0",
     "model_name": "LayoutModel",
     "state": {
      "_model_module": "@jupyter-widgets/base",
      "_model_module_version": "1.2.0",
      "_model_name": "LayoutModel",
      "_view_count": null,
      "_view_module": "@jupyter-widgets/base",
      "_view_module_version": "1.2.0",
      "_view_name": "LayoutView",
      "align_content": null,
      "align_items": null,
      "align_self": null,
      "border": null,
      "bottom": null,
      "display": null,
      "flex": null,
      "flex_flow": null,
      "grid_area": null,
      "grid_auto_columns": null,
      "grid_auto_flow": null,
      "grid_auto_rows": null,
      "grid_column": null,
      "grid_gap": null,
      "grid_row": null,
      "grid_template_areas": null,
      "grid_template_columns": null,
      "grid_template_rows": null,
      "height": null,
      "justify_content": null,
      "justify_items": null,
      "left": null,
      "margin": null,
      "max_height": null,
      "max_width": null,
      "min_height": null,
      "min_width": null,
      "object_fit": null,
      "object_position": null,
      "order": null,
      "overflow": null,
      "overflow_x": null,
      "overflow_y": null,
      "padding": null,
      "right": null,
      "top": null,
      "visibility": null,
      "width": null
     }
    },
    "b036589813fb4676b956e89e846d4362": {
     "model_module": "@jupyter-widgets/base",
     "model_module_version": "1.2.0",
     "model_name": "LayoutModel",
     "state": {
      "_model_module": "@jupyter-widgets/base",
      "_model_module_version": "1.2.0",
      "_model_name": "LayoutModel",
      "_view_count": null,
      "_view_module": "@jupyter-widgets/base",
      "_view_module_version": "1.2.0",
      "_view_name": "LayoutView",
      "align_content": null,
      "align_items": null,
      "align_self": null,
      "border": null,
      "bottom": null,
      "display": null,
      "flex": null,
      "flex_flow": null,
      "grid_area": null,
      "grid_auto_columns": null,
      "grid_auto_flow": null,
      "grid_auto_rows": null,
      "grid_column": null,
      "grid_gap": null,
      "grid_row": null,
      "grid_template_areas": null,
      "grid_template_columns": null,
      "grid_template_rows": null,
      "height": null,
      "justify_content": null,
      "justify_items": null,
      "left": null,
      "margin": null,
      "max_height": null,
      "max_width": null,
      "min_height": null,
      "min_width": null,
      "object_fit": null,
      "object_position": null,
      "order": null,
      "overflow": null,
      "overflow_x": null,
      "overflow_y": null,
      "padding": null,
      "right": null,
      "top": null,
      "visibility": null,
      "width": null
     }
    },
    "b080efa6d7a34395bc08542164b2b6d4": {
     "model_module": "@jupyter-widgets/controls",
     "model_module_version": "1.5.0",
     "model_name": "ProgressStyleModel",
     "state": {
      "_model_module": "@jupyter-widgets/controls",
      "_model_module_version": "1.5.0",
      "_model_name": "ProgressStyleModel",
      "_view_count": null,
      "_view_module": "@jupyter-widgets/base",
      "_view_module_version": "1.2.0",
      "_view_name": "StyleView",
      "bar_color": null,
      "description_width": ""
     }
    },
    "b1aba125897f4354a821bd5dd08ecd70": {
     "model_module": "@jupyter-widgets/base",
     "model_module_version": "1.2.0",
     "model_name": "LayoutModel",
     "state": {
      "_model_module": "@jupyter-widgets/base",
      "_model_module_version": "1.2.0",
      "_model_name": "LayoutModel",
      "_view_count": null,
      "_view_module": "@jupyter-widgets/base",
      "_view_module_version": "1.2.0",
      "_view_name": "LayoutView",
      "align_content": null,
      "align_items": null,
      "align_self": null,
      "border": null,
      "bottom": null,
      "display": null,
      "flex": null,
      "flex_flow": null,
      "grid_area": null,
      "grid_auto_columns": null,
      "grid_auto_flow": null,
      "grid_auto_rows": null,
      "grid_column": null,
      "grid_gap": null,
      "grid_row": null,
      "grid_template_areas": null,
      "grid_template_columns": null,
      "grid_template_rows": null,
      "height": null,
      "justify_content": null,
      "justify_items": null,
      "left": null,
      "margin": null,
      "max_height": null,
      "max_width": null,
      "min_height": null,
      "min_width": null,
      "object_fit": null,
      "object_position": null,
      "order": null,
      "overflow": null,
      "overflow_x": null,
      "overflow_y": null,
      "padding": null,
      "right": null,
      "top": null,
      "visibility": null,
      "width": null
     }
    },
    "b21725fa1e684f4c92418af03f389a6f": {
     "model_module": "@jupyter-widgets/base",
     "model_module_version": "1.2.0",
     "model_name": "LayoutModel",
     "state": {
      "_model_module": "@jupyter-widgets/base",
      "_model_module_version": "1.2.0",
      "_model_name": "LayoutModel",
      "_view_count": null,
      "_view_module": "@jupyter-widgets/base",
      "_view_module_version": "1.2.0",
      "_view_name": "LayoutView",
      "align_content": null,
      "align_items": null,
      "align_self": null,
      "border": null,
      "bottom": null,
      "display": null,
      "flex": null,
      "flex_flow": null,
      "grid_area": null,
      "grid_auto_columns": null,
      "grid_auto_flow": null,
      "grid_auto_rows": null,
      "grid_column": null,
      "grid_gap": null,
      "grid_row": null,
      "grid_template_areas": null,
      "grid_template_columns": null,
      "grid_template_rows": null,
      "height": null,
      "justify_content": null,
      "justify_items": null,
      "left": null,
      "margin": null,
      "max_height": null,
      "max_width": null,
      "min_height": null,
      "min_width": null,
      "object_fit": null,
      "object_position": null,
      "order": null,
      "overflow": null,
      "overflow_x": null,
      "overflow_y": null,
      "padding": null,
      "right": null,
      "top": null,
      "visibility": null,
      "width": null
     }
    },
    "b2414b78400c4a4c8a87cbbed9668d13": {
     "model_module": "@jupyter-widgets/base",
     "model_module_version": "1.2.0",
     "model_name": "LayoutModel",
     "state": {
      "_model_module": "@jupyter-widgets/base",
      "_model_module_version": "1.2.0",
      "_model_name": "LayoutModel",
      "_view_count": null,
      "_view_module": "@jupyter-widgets/base",
      "_view_module_version": "1.2.0",
      "_view_name": "LayoutView",
      "align_content": null,
      "align_items": null,
      "align_self": null,
      "border": null,
      "bottom": null,
      "display": null,
      "flex": null,
      "flex_flow": null,
      "grid_area": null,
      "grid_auto_columns": null,
      "grid_auto_flow": null,
      "grid_auto_rows": null,
      "grid_column": null,
      "grid_gap": null,
      "grid_row": null,
      "grid_template_areas": null,
      "grid_template_columns": null,
      "grid_template_rows": null,
      "height": null,
      "justify_content": null,
      "justify_items": null,
      "left": null,
      "margin": null,
      "max_height": null,
      "max_width": null,
      "min_height": null,
      "min_width": null,
      "object_fit": null,
      "object_position": null,
      "order": null,
      "overflow": null,
      "overflow_x": null,
      "overflow_y": null,
      "padding": null,
      "right": null,
      "top": null,
      "visibility": null,
      "width": null
     }
    },
    "b2610c7ea73e437083cd43ef671cc563": {
     "model_module": "@jupyter-widgets/base",
     "model_module_version": "1.2.0",
     "model_name": "LayoutModel",
     "state": {
      "_model_module": "@jupyter-widgets/base",
      "_model_module_version": "1.2.0",
      "_model_name": "LayoutModel",
      "_view_count": null,
      "_view_module": "@jupyter-widgets/base",
      "_view_module_version": "1.2.0",
      "_view_name": "LayoutView",
      "align_content": null,
      "align_items": null,
      "align_self": null,
      "border": null,
      "bottom": null,
      "display": null,
      "flex": null,
      "flex_flow": null,
      "grid_area": null,
      "grid_auto_columns": null,
      "grid_auto_flow": null,
      "grid_auto_rows": null,
      "grid_column": null,
      "grid_gap": null,
      "grid_row": null,
      "grid_template_areas": null,
      "grid_template_columns": null,
      "grid_template_rows": null,
      "height": null,
      "justify_content": null,
      "justify_items": null,
      "left": null,
      "margin": null,
      "max_height": null,
      "max_width": null,
      "min_height": null,
      "min_width": null,
      "object_fit": null,
      "object_position": null,
      "order": null,
      "overflow": null,
      "overflow_x": null,
      "overflow_y": null,
      "padding": null,
      "right": null,
      "top": null,
      "visibility": null,
      "width": null
     }
    },
    "b32b1e7e3d1249cf8ec406631d9ae1a3": {
     "model_module": "@jupyter-widgets/controls",
     "model_module_version": "1.5.0",
     "model_name": "HTMLModel",
     "state": {
      "_dom_classes": [],
      "_model_module": "@jupyter-widgets/controls",
      "_model_module_version": "1.5.0",
      "_model_name": "HTMLModel",
      "_view_count": null,
      "_view_module": "@jupyter-widgets/controls",
      "_view_module_version": "1.5.0",
      "_view_name": "HTMLView",
      "description": "",
      "description_tooltip": null,
      "layout": "IPY_MODEL_7a0c27699fcb4761a0f78253eb6af0ca",
      "placeholder": "​",
      "style": "IPY_MODEL_0db028ff95e84d33acdb533760ad41da",
      "value": "Map: 100%"
     }
    },
    "b3735b82dae8447faaca2f82af9d39c6": {
     "model_module": "@jupyter-widgets/base",
     "model_module_version": "1.2.0",
     "model_name": "LayoutModel",
     "state": {
      "_model_module": "@jupyter-widgets/base",
      "_model_module_version": "1.2.0",
      "_model_name": "LayoutModel",
      "_view_count": null,
      "_view_module": "@jupyter-widgets/base",
      "_view_module_version": "1.2.0",
      "_view_name": "LayoutView",
      "align_content": null,
      "align_items": null,
      "align_self": null,
      "border": null,
      "bottom": null,
      "display": null,
      "flex": null,
      "flex_flow": null,
      "grid_area": null,
      "grid_auto_columns": null,
      "grid_auto_flow": null,
      "grid_auto_rows": null,
      "grid_column": null,
      "grid_gap": null,
      "grid_row": null,
      "grid_template_areas": null,
      "grid_template_columns": null,
      "grid_template_rows": null,
      "height": null,
      "justify_content": null,
      "justify_items": null,
      "left": null,
      "margin": null,
      "max_height": null,
      "max_width": null,
      "min_height": null,
      "min_width": null,
      "object_fit": null,
      "object_position": null,
      "order": null,
      "overflow": null,
      "overflow_x": null,
      "overflow_y": null,
      "padding": null,
      "right": null,
      "top": null,
      "visibility": null,
      "width": null
     }
    },
    "b3e45aff192641afa35642453884a8e1": {
     "model_module": "@jupyter-widgets/controls",
     "model_module_version": "1.5.0",
     "model_name": "HTMLModel",
     "state": {
      "_dom_classes": [],
      "_model_module": "@jupyter-widgets/controls",
      "_model_module_version": "1.5.0",
      "_model_name": "HTMLModel",
      "_view_count": null,
      "_view_module": "@jupyter-widgets/controls",
      "_view_module_version": "1.5.0",
      "_view_name": "HTMLView",
      "description": "",
      "description_tooltip": null,
      "layout": "IPY_MODEL_da491b6e5fde4debbfb30f5433848a60",
      "placeholder": "​",
      "style": "IPY_MODEL_0d750e71cfd04203bc6245d72e62cdc5",
      "value": " 1.04M/1.04M [00:00&lt;00:00, 4.22MB/s]"
     }
    },
    "b43bdb8595674ff9b9cd369c2edeea9f": {
     "model_module": "@jupyter-widgets/controls",
     "model_module_version": "1.5.0",
     "model_name": "ProgressStyleModel",
     "state": {
      "_model_module": "@jupyter-widgets/controls",
      "_model_module_version": "1.5.0",
      "_model_name": "ProgressStyleModel",
      "_view_count": null,
      "_view_module": "@jupyter-widgets/base",
      "_view_module_version": "1.2.0",
      "_view_name": "StyleView",
      "bar_color": null,
      "description_width": ""
     }
    },
    "b47d7ef257c449f1b0e8756446997d89": {
     "model_module": "@jupyter-widgets/controls",
     "model_module_version": "1.5.0",
     "model_name": "DescriptionStyleModel",
     "state": {
      "_model_module": "@jupyter-widgets/controls",
      "_model_module_version": "1.5.0",
      "_model_name": "DescriptionStyleModel",
      "_view_count": null,
      "_view_module": "@jupyter-widgets/base",
      "_view_module_version": "1.2.0",
      "_view_name": "StyleView",
      "description_width": ""
     }
    },
    "b53346bd908147038ebfb4b164580c10": {
     "model_module": "@jupyter-widgets/controls",
     "model_module_version": "1.5.0",
     "model_name": "HBoxModel",
     "state": {
      "_dom_classes": [],
      "_model_module": "@jupyter-widgets/controls",
      "_model_module_version": "1.5.0",
      "_model_name": "HBoxModel",
      "_view_count": null,
      "_view_module": "@jupyter-widgets/controls",
      "_view_module_version": "1.5.0",
      "_view_name": "HBoxView",
      "box_style": "",
      "children": [
       "IPY_MODEL_035cec73334d405d860369ff47340d4d",
       "IPY_MODEL_c55f4a29cd6b46e285f2b3b26e34ff17",
       "IPY_MODEL_5923d06569814e5ba74e490eaf5c3c37"
      ],
      "layout": "IPY_MODEL_804f844063e24173baf5e34af9cad49c"
     }
    },
    "b6c7ff63249546808799c3b45711ede5": {
     "model_module": "@jupyter-widgets/controls",
     "model_module_version": "1.5.0",
     "model_name": "ProgressStyleModel",
     "state": {
      "_model_module": "@jupyter-widgets/controls",
      "_model_module_version": "1.5.0",
      "_model_name": "ProgressStyleModel",
      "_view_count": null,
      "_view_module": "@jupyter-widgets/base",
      "_view_module_version": "1.2.0",
      "_view_name": "StyleView",
      "bar_color": null,
      "description_width": ""
     }
    },
    "b7d267442de04961a6f52c38d00c2edc": {
     "model_module": "@jupyter-widgets/base",
     "model_module_version": "1.2.0",
     "model_name": "LayoutModel",
     "state": {
      "_model_module": "@jupyter-widgets/base",
      "_model_module_version": "1.2.0",
      "_model_name": "LayoutModel",
      "_view_count": null,
      "_view_module": "@jupyter-widgets/base",
      "_view_module_version": "1.2.0",
      "_view_name": "LayoutView",
      "align_content": null,
      "align_items": null,
      "align_self": null,
      "border": null,
      "bottom": null,
      "display": null,
      "flex": null,
      "flex_flow": null,
      "grid_area": null,
      "grid_auto_columns": null,
      "grid_auto_flow": null,
      "grid_auto_rows": null,
      "grid_column": null,
      "grid_gap": null,
      "grid_row": null,
      "grid_template_areas": null,
      "grid_template_columns": null,
      "grid_template_rows": null,
      "height": null,
      "justify_content": null,
      "justify_items": null,
      "left": null,
      "margin": null,
      "max_height": null,
      "max_width": null,
      "min_height": null,
      "min_width": null,
      "object_fit": null,
      "object_position": null,
      "order": null,
      "overflow": null,
      "overflow_x": null,
      "overflow_y": null,
      "padding": null,
      "right": null,
      "top": null,
      "visibility": null,
      "width": null
     }
    },
    "b816a4edc3bd41e0868a82e1d007e067": {
     "model_module": "@jupyter-widgets/controls",
     "model_module_version": "1.5.0",
     "model_name": "DescriptionStyleModel",
     "state": {
      "_model_module": "@jupyter-widgets/controls",
      "_model_module_version": "1.5.0",
      "_model_name": "DescriptionStyleModel",
      "_view_count": null,
      "_view_module": "@jupyter-widgets/base",
      "_view_module_version": "1.2.0",
      "_view_name": "StyleView",
      "description_width": ""
     }
    },
    "b89907d757a74899a7606c3b6ce383e5": {
     "model_module": "@jupyter-widgets/controls",
     "model_module_version": "1.5.0",
     "model_name": "HTMLModel",
     "state": {
      "_dom_classes": [],
      "_model_module": "@jupyter-widgets/controls",
      "_model_module_version": "1.5.0",
      "_model_name": "HTMLModel",
      "_view_count": null,
      "_view_module": "@jupyter-widgets/controls",
      "_view_module_version": "1.5.0",
      "_view_name": "HTMLView",
      "description": "",
      "description_tooltip": null,
      "layout": "IPY_MODEL_49948cdf2ac94f45aa9c4a17c5996a17",
      "placeholder": "​",
      "style": "IPY_MODEL_0c78bace44154985ad12c0265ae430f7",
      "value": "Generating train split: "
     }
    },
    "ba38d898cea04cc29db7a49d3d3367d4": {
     "model_module": "@jupyter-widgets/controls",
     "model_module_version": "1.5.0",
     "model_name": "HTMLModel",
     "state": {
      "_dom_classes": [],
      "_model_module": "@jupyter-widgets/controls",
      "_model_module_version": "1.5.0",
      "_model_name": "HTMLModel",
      "_view_count": null,
      "_view_module": "@jupyter-widgets/controls",
      "_view_module_version": "1.5.0",
      "_view_name": "HTMLView",
      "description": "",
      "description_tooltip": null,
      "layout": "IPY_MODEL_d1b6a2821d0d42069d6cf483eb634d0b",
      "placeholder": "​",
      "style": "IPY_MODEL_10570d170bec405c8c15d80523a0717c",
      "value": " 28.0/28.0 [00:00&lt;00:00, 1.80kB/s]"
     }
    },
    "ba8a10a3495d4a5b87e65562d115f7c5": {
     "model_module": "@jupyter-widgets/controls",
     "model_module_version": "1.5.0",
     "model_name": "DescriptionStyleModel",
     "state": {
      "_model_module": "@jupyter-widgets/controls",
      "_model_module_version": "1.5.0",
      "_model_name": "DescriptionStyleModel",
      "_view_count": null,
      "_view_module": "@jupyter-widgets/base",
      "_view_module_version": "1.2.0",
      "_view_name": "StyleView",
      "description_width": ""
     }
    },
    "bbb94e68c17e423f8dd9fc1a9438aa94": {
     "model_module": "@jupyter-widgets/controls",
     "model_module_version": "1.5.0",
     "model_name": "ProgressStyleModel",
     "state": {
      "_model_module": "@jupyter-widgets/controls",
      "_model_module_version": "1.5.0",
      "_model_name": "ProgressStyleModel",
      "_view_count": null,
      "_view_module": "@jupyter-widgets/base",
      "_view_module_version": "1.2.0",
      "_view_name": "StyleView",
      "bar_color": null,
      "description_width": ""
     }
    },
    "bd1e564382c4439c82645445d421ecbf": {
     "model_module": "@jupyter-widgets/controls",
     "model_module_version": "1.5.0",
     "model_name": "FloatProgressModel",
     "state": {
      "_dom_classes": [],
      "_model_module": "@jupyter-widgets/controls",
      "_model_module_version": "1.5.0",
      "_model_name": "FloatProgressModel",
      "_view_count": null,
      "_view_module": "@jupyter-widgets/controls",
      "_view_module_version": "1.5.0",
      "_view_name": "ProgressView",
      "bar_style": "success",
      "description": "",
      "description_tooltip": null,
      "layout": "IPY_MODEL_8d9d4561ad3b4a6f865dadcfda4ac72a",
      "max": 1355256,
      "min": 0,
      "orientation": "horizontal",
      "style": "IPY_MODEL_8f34f724a32e486da536cf0e55f3173c",
      "value": 1355256
     }
    },
    "be8fcd3bd159483081ab057dcc861aa2": {
     "model_module": "@jupyter-widgets/base",
     "model_module_version": "1.2.0",
     "model_name": "LayoutModel",
     "state": {
      "_model_module": "@jupyter-widgets/base",
      "_model_module_version": "1.2.0",
      "_model_name": "LayoutModel",
      "_view_count": null,
      "_view_module": "@jupyter-widgets/base",
      "_view_module_version": "1.2.0",
      "_view_name": "LayoutView",
      "align_content": null,
      "align_items": null,
      "align_self": null,
      "border": null,
      "bottom": null,
      "display": null,
      "flex": null,
      "flex_flow": null,
      "grid_area": null,
      "grid_auto_columns": null,
      "grid_auto_flow": null,
      "grid_auto_rows": null,
      "grid_column": null,
      "grid_gap": null,
      "grid_row": null,
      "grid_template_areas": null,
      "grid_template_columns": null,
      "grid_template_rows": null,
      "height": null,
      "justify_content": null,
      "justify_items": null,
      "left": null,
      "margin": null,
      "max_height": null,
      "max_width": null,
      "min_height": null,
      "min_width": null,
      "object_fit": null,
      "object_position": null,
      "order": null,
      "overflow": null,
      "overflow_x": null,
      "overflow_y": null,
      "padding": null,
      "right": null,
      "top": null,
      "visibility": null,
      "width": null
     }
    },
    "bf06dc9d10d247ec9971327d4dcc2b1a": {
     "model_module": "@jupyter-widgets/controls",
     "model_module_version": "1.5.0",
     "model_name": "DescriptionStyleModel",
     "state": {
      "_model_module": "@jupyter-widgets/controls",
      "_model_module_version": "1.5.0",
      "_model_name": "DescriptionStyleModel",
      "_view_count": null,
      "_view_module": "@jupyter-widgets/base",
      "_view_module_version": "1.2.0",
      "_view_name": "StyleView",
      "description_width": ""
     }
    },
    "bf35bcd4037b4cfaa8554c210951ad29": {
     "model_module": "@jupyter-widgets/controls",
     "model_module_version": "1.5.0",
     "model_name": "ProgressStyleModel",
     "state": {
      "_model_module": "@jupyter-widgets/controls",
      "_model_module_version": "1.5.0",
      "_model_name": "ProgressStyleModel",
      "_view_count": null,
      "_view_module": "@jupyter-widgets/base",
      "_view_module_version": "1.2.0",
      "_view_name": "StyleView",
      "bar_color": null,
      "description_width": ""
     }
    },
    "bfdf1f0d388942beb50bcd7242bdb3df": {
     "model_module": "@jupyter-widgets/controls",
     "model_module_version": "1.5.0",
     "model_name": "HTMLModel",
     "state": {
      "_dom_classes": [],
      "_model_module": "@jupyter-widgets/controls",
      "_model_module_version": "1.5.0",
      "_model_name": "HTMLModel",
      "_view_count": null,
      "_view_module": "@jupyter-widgets/controls",
      "_view_module_version": "1.5.0",
      "_view_name": "HTMLView",
      "description": "",
      "description_tooltip": null,
      "layout": "IPY_MODEL_d2a05abfd84e402d811f9a976d724478",
      "placeholder": "​",
      "style": "IPY_MODEL_03ffc521b0874dc6aeb0beb2cefae358",
      "value": "Map: 100%"
     }
    },
    "c06eb99f4ec241b9b010660294f63bb2": {
     "model_module": "@jupyter-widgets/controls",
     "model_module_version": "1.5.0",
     "model_name": "HTMLModel",
     "state": {
      "_dom_classes": [],
      "_model_module": "@jupyter-widgets/controls",
      "_model_module_version": "1.5.0",
      "_model_name": "HTMLModel",
      "_view_count": null,
      "_view_module": "@jupyter-widgets/controls",
      "_view_module_version": "1.5.0",
      "_view_name": "HTMLView",
      "description": "",
      "description_tooltip": null,
      "layout": "IPY_MODEL_645f6ba5ef364830bfb4c43034233b18",
      "placeholder": "​",
      "style": "IPY_MODEL_14e98cabb95c438abf13993167e4618f",
      "value": "vocab.txt: 100%"
     }
    },
    "c11c4c4acddf4a3cb62fcd72b50860d4": {
     "model_module": "@jupyter-widgets/base",
     "model_module_version": "1.2.0",
     "model_name": "LayoutModel",
     "state": {
      "_model_module": "@jupyter-widgets/base",
      "_model_module_version": "1.2.0",
      "_model_name": "LayoutModel",
      "_view_count": null,
      "_view_module": "@jupyter-widgets/base",
      "_view_module_version": "1.2.0",
      "_view_name": "LayoutView",
      "align_content": null,
      "align_items": null,
      "align_self": null,
      "border": null,
      "bottom": null,
      "display": null,
      "flex": null,
      "flex_flow": null,
      "grid_area": null,
      "grid_auto_columns": null,
      "grid_auto_flow": null,
      "grid_auto_rows": null,
      "grid_column": null,
      "grid_gap": null,
      "grid_row": null,
      "grid_template_areas": null,
      "grid_template_columns": null,
      "grid_template_rows": null,
      "height": null,
      "justify_content": null,
      "justify_items": null,
      "left": null,
      "margin": null,
      "max_height": null,
      "max_width": null,
      "min_height": null,
      "min_width": null,
      "object_fit": null,
      "object_position": null,
      "order": null,
      "overflow": null,
      "overflow_x": null,
      "overflow_y": null,
      "padding": null,
      "right": null,
      "top": null,
      "visibility": null,
      "width": null
     }
    },
    "c2c41e586b5d47aa93ba8e4dc8675a32": {
     "model_module": "@jupyter-widgets/controls",
     "model_module_version": "1.5.0",
     "model_name": "FloatProgressModel",
     "state": {
      "_dom_classes": [],
      "_model_module": "@jupyter-widgets/controls",
      "_model_module_version": "1.5.0",
      "_model_name": "FloatProgressModel",
      "_view_count": null,
      "_view_module": "@jupyter-widgets/controls",
      "_view_module_version": "1.5.0",
      "_view_name": "ProgressView",
      "bar_style": "success",
      "description": "",
      "description_tooltip": null,
      "layout": "IPY_MODEL_7e9edc138e6840a4be81c100016ebc6f",
      "max": 771,
      "min": 0,
      "orientation": "horizontal",
      "style": "IPY_MODEL_16514425790a4386ba23ea1ff1cdda3b",
      "value": 771
     }
    },
    "c30bd63cc2694712a657bc50f69046e8": {
     "model_module": "@jupyter-widgets/controls",
     "model_module_version": "1.5.0",
     "model_name": "HTMLModel",
     "state": {
      "_dom_classes": [],
      "_model_module": "@jupyter-widgets/controls",
      "_model_module_version": "1.5.0",
      "_model_name": "HTMLModel",
      "_view_count": null,
      "_view_module": "@jupyter-widgets/controls",
      "_view_module_version": "1.5.0",
      "_view_name": "HTMLView",
      "description": "",
      "description_tooltip": null,
      "layout": "IPY_MODEL_6a07d0daadd84589abeca17d55fa0c8e",
      "placeholder": "​",
      "style": "IPY_MODEL_938ab7319f314935afdab88c85d87894",
      "value": "Map: 100%"
     }
    },
    "c34e1baa25134764a8ecaa869b6bc406": {
     "model_module": "@jupyter-widgets/base",
     "model_module_version": "1.2.0",
     "model_name": "LayoutModel",
     "state": {
      "_model_module": "@jupyter-widgets/base",
      "_model_module_version": "1.2.0",
      "_model_name": "LayoutModel",
      "_view_count": null,
      "_view_module": "@jupyter-widgets/base",
      "_view_module_version": "1.2.0",
      "_view_name": "LayoutView",
      "align_content": null,
      "align_items": null,
      "align_self": null,
      "border": null,
      "bottom": null,
      "display": null,
      "flex": null,
      "flex_flow": null,
      "grid_area": null,
      "grid_auto_columns": null,
      "grid_auto_flow": null,
      "grid_auto_rows": null,
      "grid_column": null,
      "grid_gap": null,
      "grid_row": null,
      "grid_template_areas": null,
      "grid_template_columns": null,
      "grid_template_rows": null,
      "height": null,
      "justify_content": null,
      "justify_items": null,
      "left": null,
      "margin": null,
      "max_height": null,
      "max_width": null,
      "min_height": null,
      "min_width": null,
      "object_fit": null,
      "object_position": null,
      "order": null,
      "overflow": null,
      "overflow_x": null,
      "overflow_y": null,
      "padding": null,
      "right": null,
      "top": null,
      "visibility": null,
      "width": null
     }
    },
    "c4381a91790446799969ce55f8a7250c": {
     "model_module": "@jupyter-widgets/controls",
     "model_module_version": "1.5.0",
     "model_name": "ProgressStyleModel",
     "state": {
      "_model_module": "@jupyter-widgets/controls",
      "_model_module_version": "1.5.0",
      "_model_name": "ProgressStyleModel",
      "_view_count": null,
      "_view_module": "@jupyter-widgets/base",
      "_view_module_version": "1.2.0",
      "_view_name": "StyleView",
      "bar_color": null,
      "description_width": ""
     }
    },
    "c43c28578be8437ab5457b444b4103fd": {
     "model_module": "@jupyter-widgets/controls",
     "model_module_version": "1.5.0",
     "model_name": "ProgressStyleModel",
     "state": {
      "_model_module": "@jupyter-widgets/controls",
      "_model_module_version": "1.5.0",
      "_model_name": "ProgressStyleModel",
      "_view_count": null,
      "_view_module": "@jupyter-widgets/base",
      "_view_module_version": "1.2.0",
      "_view_name": "StyleView",
      "bar_color": null,
      "description_width": ""
     }
    },
    "c541c75959db47b89b78ef1e8ac06295": {
     "model_module": "@jupyter-widgets/base",
     "model_module_version": "1.2.0",
     "model_name": "LayoutModel",
     "state": {
      "_model_module": "@jupyter-widgets/base",
      "_model_module_version": "1.2.0",
      "_model_name": "LayoutModel",
      "_view_count": null,
      "_view_module": "@jupyter-widgets/base",
      "_view_module_version": "1.2.0",
      "_view_name": "LayoutView",
      "align_content": null,
      "align_items": null,
      "align_self": null,
      "border": null,
      "bottom": null,
      "display": null,
      "flex": null,
      "flex_flow": null,
      "grid_area": null,
      "grid_auto_columns": null,
      "grid_auto_flow": null,
      "grid_auto_rows": null,
      "grid_column": null,
      "grid_gap": null,
      "grid_row": null,
      "grid_template_areas": null,
      "grid_template_columns": null,
      "grid_template_rows": null,
      "height": null,
      "justify_content": null,
      "justify_items": null,
      "left": null,
      "margin": null,
      "max_height": null,
      "max_width": null,
      "min_height": null,
      "min_width": null,
      "object_fit": null,
      "object_position": null,
      "order": null,
      "overflow": null,
      "overflow_x": null,
      "overflow_y": null,
      "padding": null,
      "right": null,
      "top": null,
      "visibility": null,
      "width": null
     }
    },
    "c55f4a29cd6b46e285f2b3b26e34ff17": {
     "model_module": "@jupyter-widgets/controls",
     "model_module_version": "1.5.0",
     "model_name": "FloatProgressModel",
     "state": {
      "_dom_classes": [],
      "_model_module": "@jupyter-widgets/controls",
      "_model_module_version": "1.5.0",
      "_model_name": "FloatProgressModel",
      "_view_count": null,
      "_view_module": "@jupyter-widgets/controls",
      "_view_module_version": "1.5.0",
      "_view_name": "ProgressView",
      "bar_style": "success",
      "description": "",
      "description_tooltip": null,
      "layout": "IPY_MODEL_d5cc7296b9714a448e44384bf8f62bf3",
      "max": 456318,
      "min": 0,
      "orientation": "horizontal",
      "style": "IPY_MODEL_0392f7a3461842f3bc9ef9be05242229",
      "value": 456318
     }
    },
    "c5c9de8c50f94005905df2e4d0242dc5": {
     "model_module": "@jupyter-widgets/controls",
     "model_module_version": "1.5.0",
     "model_name": "HBoxModel",
     "state": {
      "_dom_classes": [],
      "_model_module": "@jupyter-widgets/controls",
      "_model_module_version": "1.5.0",
      "_model_name": "HBoxModel",
      "_view_count": null,
      "_view_module": "@jupyter-widgets/controls",
      "_view_module_version": "1.5.0",
      "_view_name": "HBoxView",
      "box_style": "",
      "children": [
       "IPY_MODEL_5a6a8a704b744c479bcabb9d5a16c8e8",
       "IPY_MODEL_03b0d4b80ee8400e8bb1ff96fe794139",
       "IPY_MODEL_3ac42e6d69fc4ea581d0fd3d1f77ea47"
      ],
      "layout": "IPY_MODEL_995ca1139e7f46fbac1c296c3dcda07a"
     }
    },
    "c60c89940e5e455bab9c7cf1e420d55b": {
     "model_module": "@jupyter-widgets/controls",
     "model_module_version": "1.5.0",
     "model_name": "HBoxModel",
     "state": {
      "_dom_classes": [],
      "_model_module": "@jupyter-widgets/controls",
      "_model_module_version": "1.5.0",
      "_model_name": "HBoxModel",
      "_view_count": null,
      "_view_module": "@jupyter-widgets/controls",
      "_view_module_version": "1.5.0",
      "_view_name": "HBoxView",
      "box_style": "",
      "children": [
       "IPY_MODEL_5f174bf3a8d94b51be76f7455a6621f0",
       "IPY_MODEL_d0db897511f0440588131cd7621ab41b",
       "IPY_MODEL_a40ffd8b51784c2988e75903ac4fab93"
      ],
      "layout": "IPY_MODEL_5ac8c023798949aa85008138c59e5cbd"
     }
    },
    "c61dc8ce463444d1909d23cd6071b355": {
     "model_module": "@jupyter-widgets/base",
     "model_module_version": "1.2.0",
     "model_name": "LayoutModel",
     "state": {
      "_model_module": "@jupyter-widgets/base",
      "_model_module_version": "1.2.0",
      "_model_name": "LayoutModel",
      "_view_count": null,
      "_view_module": "@jupyter-widgets/base",
      "_view_module_version": "1.2.0",
      "_view_name": "LayoutView",
      "align_content": null,
      "align_items": null,
      "align_self": null,
      "border": null,
      "bottom": null,
      "display": null,
      "flex": null,
      "flex_flow": null,
      "grid_area": null,
      "grid_auto_columns": null,
      "grid_auto_flow": null,
      "grid_auto_rows": null,
      "grid_column": null,
      "grid_gap": null,
      "grid_row": null,
      "grid_template_areas": null,
      "grid_template_columns": null,
      "grid_template_rows": null,
      "height": null,
      "justify_content": null,
      "justify_items": null,
      "left": null,
      "margin": null,
      "max_height": null,
      "max_width": null,
      "min_height": null,
      "min_width": null,
      "object_fit": null,
      "object_position": null,
      "order": null,
      "overflow": null,
      "overflow_x": null,
      "overflow_y": null,
      "padding": null,
      "right": null,
      "top": null,
      "visibility": null,
      "width": null
     }
    },
    "c70600d1e4784ea7bf7e58b06ee47cc1": {
     "model_module": "@jupyter-widgets/base",
     "model_module_version": "1.2.0",
     "model_name": "LayoutModel",
     "state": {
      "_model_module": "@jupyter-widgets/base",
      "_model_module_version": "1.2.0",
      "_model_name": "LayoutModel",
      "_view_count": null,
      "_view_module": "@jupyter-widgets/base",
      "_view_module_version": "1.2.0",
      "_view_name": "LayoutView",
      "align_content": null,
      "align_items": null,
      "align_self": null,
      "border": null,
      "bottom": null,
      "display": null,
      "flex": null,
      "flex_flow": null,
      "grid_area": null,
      "grid_auto_columns": null,
      "grid_auto_flow": null,
      "grid_auto_rows": null,
      "grid_column": null,
      "grid_gap": null,
      "grid_row": null,
      "grid_template_areas": null,
      "grid_template_columns": null,
      "grid_template_rows": null,
      "height": null,
      "justify_content": null,
      "justify_items": null,
      "left": null,
      "margin": null,
      "max_height": null,
      "max_width": null,
      "min_height": null,
      "min_width": null,
      "object_fit": null,
      "object_position": null,
      "order": null,
      "overflow": null,
      "overflow_x": null,
      "overflow_y": null,
      "padding": null,
      "right": null,
      "top": null,
      "visibility": null,
      "width": null
     }
    },
    "ca388e55eafd41a483980574fb090a22": {
     "model_module": "@jupyter-widgets/base",
     "model_module_version": "1.2.0",
     "model_name": "LayoutModel",
     "state": {
      "_model_module": "@jupyter-widgets/base",
      "_model_module_version": "1.2.0",
      "_model_name": "LayoutModel",
      "_view_count": null,
      "_view_module": "@jupyter-widgets/base",
      "_view_module_version": "1.2.0",
      "_view_name": "LayoutView",
      "align_content": null,
      "align_items": null,
      "align_self": null,
      "border": null,
      "bottom": null,
      "display": null,
      "flex": null,
      "flex_flow": null,
      "grid_area": null,
      "grid_auto_columns": null,
      "grid_auto_flow": null,
      "grid_auto_rows": null,
      "grid_column": null,
      "grid_gap": null,
      "grid_row": null,
      "grid_template_areas": null,
      "grid_template_columns": null,
      "grid_template_rows": null,
      "height": null,
      "justify_content": null,
      "justify_items": null,
      "left": null,
      "margin": null,
      "max_height": null,
      "max_width": null,
      "min_height": null,
      "min_width": null,
      "object_fit": null,
      "object_position": null,
      "order": null,
      "overflow": null,
      "overflow_x": null,
      "overflow_y": null,
      "padding": null,
      "right": null,
      "top": null,
      "visibility": null,
      "width": null
     }
    },
    "cb4b2c83ca8a43e18823bb1c3a79fb0a": {
     "model_module": "@jupyter-widgets/controls",
     "model_module_version": "1.5.0",
     "model_name": "HTMLModel",
     "state": {
      "_dom_classes": [],
      "_model_module": "@jupyter-widgets/controls",
      "_model_module_version": "1.5.0",
      "_model_name": "HTMLModel",
      "_view_count": null,
      "_view_module": "@jupyter-widgets/controls",
      "_view_module_version": "1.5.0",
      "_view_name": "HTMLView",
      "description": "",
      "description_tooltip": null,
      "layout": "IPY_MODEL_e40b00b93fe14e5ba62613d5fa74acf8",
      "placeholder": "​",
      "style": "IPY_MODEL_063a969f176941fa84a21569b4c6ba2b",
      "value": " 3081/3081 [00:00&lt;00:00, 10092.86 examples/s]"
     }
    },
    "cb7fa84b89ca428f9004e14647b8c876": {
     "model_module": "@jupyter-widgets/controls",
     "model_module_version": "1.5.0",
     "model_name": "HTMLModel",
     "state": {
      "_dom_classes": [],
      "_model_module": "@jupyter-widgets/controls",
      "_model_module_version": "1.5.0",
      "_model_name": "HTMLModel",
      "_view_count": null,
      "_view_module": "@jupyter-widgets/controls",
      "_view_module_version": "1.5.0",
      "_view_name": "HTMLView",
      "description": "",
      "description_tooltip": null,
      "layout": "IPY_MODEL_ed9a7513f10e4bf390e853a725541922",
      "placeholder": "​",
      "style": "IPY_MODEL_79b3244660d64718b33e95af4bbef1d5",
      "value": " 268M/268M [00:06&lt;00:00, 40.4MB/s]"
     }
    },
    "cba3e1f715b24d03b8cf179efb41055b": {
     "model_module": "@jupyter-widgets/controls",
     "model_module_version": "1.5.0",
     "model_name": "DescriptionStyleModel",
     "state": {
      "_model_module": "@jupyter-widgets/controls",
      "_model_module_version": "1.5.0",
      "_model_name": "DescriptionStyleModel",
      "_view_count": null,
      "_view_module": "@jupyter-widgets/base",
      "_view_module_version": "1.2.0",
      "_view_name": "StyleView",
      "description_width": ""
     }
    },
    "cc9a28d85306494ea73be4bbe52e9d17": {
     "model_module": "@jupyter-widgets/base",
     "model_module_version": "1.2.0",
     "model_name": "LayoutModel",
     "state": {
      "_model_module": "@jupyter-widgets/base",
      "_model_module_version": "1.2.0",
      "_model_name": "LayoutModel",
      "_view_count": null,
      "_view_module": "@jupyter-widgets/base",
      "_view_module_version": "1.2.0",
      "_view_name": "LayoutView",
      "align_content": null,
      "align_items": null,
      "align_self": null,
      "border": null,
      "bottom": null,
      "display": null,
      "flex": null,
      "flex_flow": null,
      "grid_area": null,
      "grid_auto_columns": null,
      "grid_auto_flow": null,
      "grid_auto_rows": null,
      "grid_column": null,
      "grid_gap": null,
      "grid_row": null,
      "grid_template_areas": null,
      "grid_template_columns": null,
      "grid_template_rows": null,
      "height": null,
      "justify_content": null,
      "justify_items": null,
      "left": null,
      "margin": null,
      "max_height": null,
      "max_width": null,
      "min_height": null,
      "min_width": null,
      "object_fit": null,
      "object_position": null,
      "order": null,
      "overflow": null,
      "overflow_x": null,
      "overflow_y": null,
      "padding": null,
      "right": null,
      "top": null,
      "visibility": null,
      "width": null
     }
    },
    "cd067f60eb7c45bf8010431d51b2fb34": {
     "model_module": "@jupyter-widgets/controls",
     "model_module_version": "1.5.0",
     "model_name": "HBoxModel",
     "state": {
      "_dom_classes": [],
      "_model_module": "@jupyter-widgets/controls",
      "_model_module_version": "1.5.0",
      "_model_name": "HBoxModel",
      "_view_count": null,
      "_view_module": "@jupyter-widgets/controls",
      "_view_module_version": "1.5.0",
      "_view_name": "HBoxView",
      "box_style": "",
      "children": [
       "IPY_MODEL_b89907d757a74899a7606c3b6ce383e5",
       "IPY_MODEL_926dd4b6c57c42b68c44e06cb5013129",
       "IPY_MODEL_9996784c4aa04ca480a58e53e5e073e5"
      ],
      "layout": "IPY_MODEL_abaa724f6e984ddcb538a24012a74dd9"
     }
    },
    "cd47ce9df8cf4d4aae89672fc0602b71": {
     "model_module": "@jupyter-widgets/base",
     "model_module_version": "1.2.0",
     "model_name": "LayoutModel",
     "state": {
      "_model_module": "@jupyter-widgets/base",
      "_model_module_version": "1.2.0",
      "_model_name": "LayoutModel",
      "_view_count": null,
      "_view_module": "@jupyter-widgets/base",
      "_view_module_version": "1.2.0",
      "_view_name": "LayoutView",
      "align_content": null,
      "align_items": null,
      "align_self": null,
      "border": null,
      "bottom": null,
      "display": null,
      "flex": null,
      "flex_flow": null,
      "grid_area": null,
      "grid_auto_columns": null,
      "grid_auto_flow": null,
      "grid_auto_rows": null,
      "grid_column": null,
      "grid_gap": null,
      "grid_row": null,
      "grid_template_areas": null,
      "grid_template_columns": null,
      "grid_template_rows": null,
      "height": null,
      "justify_content": null,
      "justify_items": null,
      "left": null,
      "margin": null,
      "max_height": null,
      "max_width": null,
      "min_height": null,
      "min_width": null,
      "object_fit": null,
      "object_position": null,
      "order": null,
      "overflow": null,
      "overflow_x": null,
      "overflow_y": null,
      "padding": null,
      "right": null,
      "top": null,
      "visibility": null,
      "width": null
     }
    },
    "cdf02697fb654a65bcdf5886f102b4da": {
     "model_module": "@jupyter-widgets/base",
     "model_module_version": "1.2.0",
     "model_name": "LayoutModel",
     "state": {
      "_model_module": "@jupyter-widgets/base",
      "_model_module_version": "1.2.0",
      "_model_name": "LayoutModel",
      "_view_count": null,
      "_view_module": "@jupyter-widgets/base",
      "_view_module_version": "1.2.0",
      "_view_name": "LayoutView",
      "align_content": null,
      "align_items": null,
      "align_self": null,
      "border": null,
      "bottom": null,
      "display": null,
      "flex": null,
      "flex_flow": null,
      "grid_area": null,
      "grid_auto_columns": null,
      "grid_auto_flow": null,
      "grid_auto_rows": null,
      "grid_column": null,
      "grid_gap": null,
      "grid_row": null,
      "grid_template_areas": null,
      "grid_template_columns": null,
      "grid_template_rows": null,
      "height": null,
      "justify_content": null,
      "justify_items": null,
      "left": null,
      "margin": null,
      "max_height": null,
      "max_width": null,
      "min_height": null,
      "min_width": null,
      "object_fit": null,
      "object_position": null,
      "order": null,
      "overflow": null,
      "overflow_x": null,
      "overflow_y": null,
      "padding": null,
      "right": null,
      "top": null,
      "visibility": null,
      "width": null
     }
    },
    "ce749881b13f4db38ccbc2d8a3fb09cd": {
     "model_module": "@jupyter-widgets/controls",
     "model_module_version": "1.5.0",
     "model_name": "DescriptionStyleModel",
     "state": {
      "_model_module": "@jupyter-widgets/controls",
      "_model_module_version": "1.5.0",
      "_model_name": "DescriptionStyleModel",
      "_view_count": null,
      "_view_module": "@jupyter-widgets/base",
      "_view_module_version": "1.2.0",
      "_view_name": "StyleView",
      "description_width": ""
     }
    },
    "cfbaf259829247f49994bf1e605b3e03": {
     "model_module": "@jupyter-widgets/base",
     "model_module_version": "1.2.0",
     "model_name": "LayoutModel",
     "state": {
      "_model_module": "@jupyter-widgets/base",
      "_model_module_version": "1.2.0",
      "_model_name": "LayoutModel",
      "_view_count": null,
      "_view_module": "@jupyter-widgets/base",
      "_view_module_version": "1.2.0",
      "_view_name": "LayoutView",
      "align_content": null,
      "align_items": null,
      "align_self": null,
      "border": null,
      "bottom": null,
      "display": null,
      "flex": null,
      "flex_flow": null,
      "grid_area": null,
      "grid_auto_columns": null,
      "grid_auto_flow": null,
      "grid_auto_rows": null,
      "grid_column": null,
      "grid_gap": null,
      "grid_row": null,
      "grid_template_areas": null,
      "grid_template_columns": null,
      "grid_template_rows": null,
      "height": null,
      "justify_content": null,
      "justify_items": null,
      "left": null,
      "margin": null,
      "max_height": null,
      "max_width": null,
      "min_height": null,
      "min_width": null,
      "object_fit": null,
      "object_position": null,
      "order": null,
      "overflow": null,
      "overflow_x": null,
      "overflow_y": null,
      "padding": null,
      "right": null,
      "top": null,
      "visibility": null,
      "width": null
     }
    },
    "d0465475c82e4484842703a19508ef59": {
     "model_module": "@jupyter-widgets/controls",
     "model_module_version": "1.5.0",
     "model_name": "FloatProgressModel",
     "state": {
      "_dom_classes": [],
      "_model_module": "@jupyter-widgets/controls",
      "_model_module_version": "1.5.0",
      "_model_name": "FloatProgressModel",
      "_view_count": null,
      "_view_module": "@jupyter-widgets/controls",
      "_view_module_version": "1.5.0",
      "_view_name": "ProgressView",
      "bar_style": "success",
      "description": "",
      "description_tooltip": null,
      "layout": "IPY_MODEL_ee8c3960cb684a54adc10a0516f3fc75",
      "max": 3081,
      "min": 0,
      "orientation": "horizontal",
      "style": "IPY_MODEL_8a916a0fe6874b7a97453b0f0dc314cf",
      "value": 3081
     }
    },
    "d0786942e0df48e78edc03829aa53a0c": {
     "model_module": "@jupyter-widgets/controls",
     "model_module_version": "1.5.0",
     "model_name": "DescriptionStyleModel",
     "state": {
      "_model_module": "@jupyter-widgets/controls",
      "_model_module_version": "1.5.0",
      "_model_name": "DescriptionStyleModel",
      "_view_count": null,
      "_view_module": "@jupyter-widgets/base",
      "_view_module_version": "1.2.0",
      "_view_name": "StyleView",
      "description_width": ""
     }
    },
    "d0db897511f0440588131cd7621ab41b": {
     "model_module": "@jupyter-widgets/controls",
     "model_module_version": "1.5.0",
     "model_name": "FloatProgressModel",
     "state": {
      "_dom_classes": [],
      "_model_module": "@jupyter-widgets/controls",
      "_model_module_version": "1.5.0",
      "_model_name": "FloatProgressModel",
      "_view_count": null,
      "_view_module": "@jupyter-widgets/controls",
      "_view_module_version": "1.5.0",
      "_view_name": "ProgressView",
      "bar_style": "success",
      "description": "",
      "description_tooltip": null,
      "layout": "IPY_MODEL_8aed6812b77f4175a7ba713d075b6db7",
      "max": 3852,
      "min": 0,
      "orientation": "horizontal",
      "style": "IPY_MODEL_c43c28578be8437ab5457b444b4103fd",
      "value": 3852
     }
    },
    "d1b6a2821d0d42069d6cf483eb634d0b": {
     "model_module": "@jupyter-widgets/base",
     "model_module_version": "1.2.0",
     "model_name": "LayoutModel",
     "state": {
      "_model_module": "@jupyter-widgets/base",
      "_model_module_version": "1.2.0",
      "_model_name": "LayoutModel",
      "_view_count": null,
      "_view_module": "@jupyter-widgets/base",
      "_view_module_version": "1.2.0",
      "_view_name": "LayoutView",
      "align_content": null,
      "align_items": null,
      "align_self": null,
      "border": null,
      "bottom": null,
      "display": null,
      "flex": null,
      "flex_flow": null,
      "grid_area": null,
      "grid_auto_columns": null,
      "grid_auto_flow": null,
      "grid_auto_rows": null,
      "grid_column": null,
      "grid_gap": null,
      "grid_row": null,
      "grid_template_areas": null,
      "grid_template_columns": null,
      "grid_template_rows": null,
      "height": null,
      "justify_content": null,
      "justify_items": null,
      "left": null,
      "margin": null,
      "max_height": null,
      "max_width": null,
      "min_height": null,
      "min_width": null,
      "object_fit": null,
      "object_position": null,
      "order": null,
      "overflow": null,
      "overflow_x": null,
      "overflow_y": null,
      "padding": null,
      "right": null,
      "top": null,
      "visibility": null,
      "width": null
     }
    },
    "d2a05abfd84e402d811f9a976d724478": {
     "model_module": "@jupyter-widgets/base",
     "model_module_version": "1.2.0",
     "model_name": "LayoutModel",
     "state": {
      "_model_module": "@jupyter-widgets/base",
      "_model_module_version": "1.2.0",
      "_model_name": "LayoutModel",
      "_view_count": null,
      "_view_module": "@jupyter-widgets/base",
      "_view_module_version": "1.2.0",
      "_view_name": "LayoutView",
      "align_content": null,
      "align_items": null,
      "align_self": null,
      "border": null,
      "bottom": null,
      "display": null,
      "flex": null,
      "flex_flow": null,
      "grid_area": null,
      "grid_auto_columns": null,
      "grid_auto_flow": null,
      "grid_auto_rows": null,
      "grid_column": null,
      "grid_gap": null,
      "grid_row": null,
      "grid_template_areas": null,
      "grid_template_columns": null,
      "grid_template_rows": null,
      "height": null,
      "justify_content": null,
      "justify_items": null,
      "left": null,
      "margin": null,
      "max_height": null,
      "max_width": null,
      "min_height": null,
      "min_width": null,
      "object_fit": null,
      "object_position": null,
      "order": null,
      "overflow": null,
      "overflow_x": null,
      "overflow_y": null,
      "padding": null,
      "right": null,
      "top": null,
      "visibility": null,
      "width": null
     }
    },
    "d3a7c090b74f43c7bc2b6008ec0f44ae": {
     "model_module": "@jupyter-widgets/controls",
     "model_module_version": "1.5.0",
     "model_name": "DescriptionStyleModel",
     "state": {
      "_model_module": "@jupyter-widgets/controls",
      "_model_module_version": "1.5.0",
      "_model_name": "DescriptionStyleModel",
      "_view_count": null,
      "_view_module": "@jupyter-widgets/base",
      "_view_module_version": "1.2.0",
      "_view_name": "StyleView",
      "description_width": ""
     }
    },
    "d4ce47e5a2d34f4488171fd928918db3": {
     "model_module": "@jupyter-widgets/controls",
     "model_module_version": "1.5.0",
     "model_name": "FloatProgressModel",
     "state": {
      "_dom_classes": [],
      "_model_module": "@jupyter-widgets/controls",
      "_model_module_version": "1.5.0",
      "_model_name": "FloatProgressModel",
      "_view_count": null,
      "_view_module": "@jupyter-widgets/controls",
      "_view_module_version": "1.5.0",
      "_view_name": "ProgressView",
      "bar_style": "success",
      "description": "",
      "description_tooltip": null,
      "layout": "IPY_MODEL_4086656b8cc54030b47a881760d396e4",
      "max": 548105171,
      "min": 0,
      "orientation": "horizontal",
      "style": "IPY_MODEL_b43bdb8595674ff9b9cd369c2edeea9f",
      "value": 548105171
     }
    },
    "d5cc7296b9714a448e44384bf8f62bf3": {
     "model_module": "@jupyter-widgets/base",
     "model_module_version": "1.2.0",
     "model_name": "LayoutModel",
     "state": {
      "_model_module": "@jupyter-widgets/base",
      "_model_module_version": "1.2.0",
      "_model_name": "LayoutModel",
      "_view_count": null,
      "_view_module": "@jupyter-widgets/base",
      "_view_module_version": "1.2.0",
      "_view_name": "LayoutView",
      "align_content": null,
      "align_items": null,
      "align_self": null,
      "border": null,
      "bottom": null,
      "display": null,
      "flex": null,
      "flex_flow": null,
      "grid_area": null,
      "grid_auto_columns": null,
      "grid_auto_flow": null,
      "grid_auto_rows": null,
      "grid_column": null,
      "grid_gap": null,
      "grid_row": null,
      "grid_template_areas": null,
      "grid_template_columns": null,
      "grid_template_rows": null,
      "height": null,
      "justify_content": null,
      "justify_items": null,
      "left": null,
      "margin": null,
      "max_height": null,
      "max_width": null,
      "min_height": null,
      "min_width": null,
      "object_fit": null,
      "object_position": null,
      "order": null,
      "overflow": null,
      "overflow_x": null,
      "overflow_y": null,
      "padding": null,
      "right": null,
      "top": null,
      "visibility": null,
      "width": null
     }
    },
    "d62f299a59d04f4da693b6524a501a2e": {
     "model_module": "@jupyter-widgets/controls",
     "model_module_version": "1.5.0",
     "model_name": "HBoxModel",
     "state": {
      "_dom_classes": [],
      "_model_module": "@jupyter-widgets/controls",
      "_model_module_version": "1.5.0",
      "_model_name": "HBoxModel",
      "_view_count": null,
      "_view_module": "@jupyter-widgets/controls",
      "_view_module_version": "1.5.0",
      "_view_name": "HBoxView",
      "box_style": "",
      "children": [
       "IPY_MODEL_4262c25b50d945fbbac58cb13f2cf4aa",
       "IPY_MODEL_19f76eaac0a74742adc27e9cdad38b65",
       "IPY_MODEL_608cdf8a656c4639ad7ed5bfbd77fab0"
      ],
      "layout": "IPY_MODEL_e268bdded7af4cd39467d93be5b4621d"
     }
    },
    "d747d7a4a9ac4e479e2cafb7ca11d0ad": {
     "model_module": "@jupyter-widgets/controls",
     "model_module_version": "1.5.0",
     "model_name": "DescriptionStyleModel",
     "state": {
      "_model_module": "@jupyter-widgets/controls",
      "_model_module_version": "1.5.0",
      "_model_name": "DescriptionStyleModel",
      "_view_count": null,
      "_view_module": "@jupyter-widgets/base",
      "_view_module_version": "1.2.0",
      "_view_name": "StyleView",
      "description_width": ""
     }
    },
    "d847ba4af98546978dafacf9e9b0fc95": {
     "model_module": "@jupyter-widgets/controls",
     "model_module_version": "1.5.0",
     "model_name": "HBoxModel",
     "state": {
      "_dom_classes": [],
      "_model_module": "@jupyter-widgets/controls",
      "_model_module_version": "1.5.0",
      "_model_name": "HBoxModel",
      "_view_count": null,
      "_view_module": "@jupyter-widgets/controls",
      "_view_module_version": "1.5.0",
      "_view_name": "HBoxView",
      "box_style": "",
      "children": [
       "IPY_MODEL_99b052cccf804bc3bbecb3d2a7b8eebb",
       "IPY_MODEL_bd1e564382c4439c82645445d421ecbf",
       "IPY_MODEL_6f6b8a2799d9496a820168a6a33a62d5"
      ],
      "layout": "IPY_MODEL_7e32b26c293e45b18eaa2e0c96ab145c"
     }
    },
    "d9cdf9667f6746f382f5f10f772b3144": {
     "model_module": "@jupyter-widgets/base",
     "model_module_version": "1.2.0",
     "model_name": "LayoutModel",
     "state": {
      "_model_module": "@jupyter-widgets/base",
      "_model_module_version": "1.2.0",
      "_model_name": "LayoutModel",
      "_view_count": null,
      "_view_module": "@jupyter-widgets/base",
      "_view_module_version": "1.2.0",
      "_view_name": "LayoutView",
      "align_content": null,
      "align_items": null,
      "align_self": null,
      "border": null,
      "bottom": null,
      "display": null,
      "flex": null,
      "flex_flow": null,
      "grid_area": null,
      "grid_auto_columns": null,
      "grid_auto_flow": null,
      "grid_auto_rows": null,
      "grid_column": null,
      "grid_gap": null,
      "grid_row": null,
      "grid_template_areas": null,
      "grid_template_columns": null,
      "grid_template_rows": null,
      "height": null,
      "justify_content": null,
      "justify_items": null,
      "left": null,
      "margin": null,
      "max_height": null,
      "max_width": null,
      "min_height": null,
      "min_width": null,
      "object_fit": null,
      "object_position": null,
      "order": null,
      "overflow": null,
      "overflow_x": null,
      "overflow_y": null,
      "padding": null,
      "right": null,
      "top": null,
      "visibility": null,
      "width": null
     }
    },
    "da491b6e5fde4debbfb30f5433848a60": {
     "model_module": "@jupyter-widgets/base",
     "model_module_version": "1.2.0",
     "model_name": "LayoutModel",
     "state": {
      "_model_module": "@jupyter-widgets/base",
      "_model_module_version": "1.2.0",
      "_model_name": "LayoutModel",
      "_view_count": null,
      "_view_module": "@jupyter-widgets/base",
      "_view_module_version": "1.2.0",
      "_view_name": "LayoutView",
      "align_content": null,
      "align_items": null,
      "align_self": null,
      "border": null,
      "bottom": null,
      "display": null,
      "flex": null,
      "flex_flow": null,
      "grid_area": null,
      "grid_auto_columns": null,
      "grid_auto_flow": null,
      "grid_auto_rows": null,
      "grid_column": null,
      "grid_gap": null,
      "grid_row": null,
      "grid_template_areas": null,
      "grid_template_columns": null,
      "grid_template_rows": null,
      "height": null,
      "justify_content": null,
      "justify_items": null,
      "left": null,
      "margin": null,
      "max_height": null,
      "max_width": null,
      "min_height": null,
      "min_width": null,
      "object_fit": null,
      "object_position": null,
      "order": null,
      "overflow": null,
      "overflow_x": null,
      "overflow_y": null,
      "padding": null,
      "right": null,
      "top": null,
      "visibility": null,
      "width": null
     }
    },
    "da6b104c271d4ea387af13b328e40fb6": {
     "model_module": "@jupyter-widgets/controls",
     "model_module_version": "1.5.0",
     "model_name": "HTMLModel",
     "state": {
      "_dom_classes": [],
      "_model_module": "@jupyter-widgets/controls",
      "_model_module_version": "1.5.0",
      "_model_name": "HTMLModel",
      "_view_count": null,
      "_view_module": "@jupyter-widgets/controls",
      "_view_module_version": "1.5.0",
      "_view_name": "HTMLView",
      "description": "",
      "description_tooltip": null,
      "layout": "IPY_MODEL_8df7d56b3bb745caa64370e4c60e4205",
      "placeholder": "​",
      "style": "IPY_MODEL_5bf3f7314dc74045aaa4cc1c4cd7bc7d",
      "value": " 1289/1289 [00:00&lt;00:00, 3293.38 examples/s]"
     }
    },
    "da76d47c353f44068f5d2e41190e0d62": {
     "model_module": "@jupyter-widgets/base",
     "model_module_version": "1.2.0",
     "model_name": "LayoutModel",
     "state": {
      "_model_module": "@jupyter-widgets/base",
      "_model_module_version": "1.2.0",
      "_model_name": "LayoutModel",
      "_view_count": null,
      "_view_module": "@jupyter-widgets/base",
      "_view_module_version": "1.2.0",
      "_view_name": "LayoutView",
      "align_content": null,
      "align_items": null,
      "align_self": null,
      "border": null,
      "bottom": null,
      "display": null,
      "flex": null,
      "flex_flow": null,
      "grid_area": null,
      "grid_auto_columns": null,
      "grid_auto_flow": null,
      "grid_auto_rows": null,
      "grid_column": null,
      "grid_gap": null,
      "grid_row": null,
      "grid_template_areas": null,
      "grid_template_columns": null,
      "grid_template_rows": null,
      "height": null,
      "justify_content": null,
      "justify_items": null,
      "left": null,
      "margin": null,
      "max_height": null,
      "max_width": null,
      "min_height": null,
      "min_width": null,
      "object_fit": null,
      "object_position": null,
      "order": null,
      "overflow": null,
      "overflow_x": null,
      "overflow_y": null,
      "padding": null,
      "right": null,
      "top": null,
      "visibility": null,
      "width": null
     }
    },
    "da814b1528be4926975893b54fd72849": {
     "model_module": "@jupyter-widgets/base",
     "model_module_version": "1.2.0",
     "model_name": "LayoutModel",
     "state": {
      "_model_module": "@jupyter-widgets/base",
      "_model_module_version": "1.2.0",
      "_model_name": "LayoutModel",
      "_view_count": null,
      "_view_module": "@jupyter-widgets/base",
      "_view_module_version": "1.2.0",
      "_view_name": "LayoutView",
      "align_content": null,
      "align_items": null,
      "align_self": null,
      "border": null,
      "bottom": null,
      "display": null,
      "flex": null,
      "flex_flow": null,
      "grid_area": null,
      "grid_auto_columns": null,
      "grid_auto_flow": null,
      "grid_auto_rows": null,
      "grid_column": null,
      "grid_gap": null,
      "grid_row": null,
      "grid_template_areas": null,
      "grid_template_columns": null,
      "grid_template_rows": null,
      "height": null,
      "justify_content": null,
      "justify_items": null,
      "left": null,
      "margin": null,
      "max_height": null,
      "max_width": null,
      "min_height": null,
      "min_width": null,
      "object_fit": null,
      "object_position": null,
      "order": null,
      "overflow": null,
      "overflow_x": null,
      "overflow_y": null,
      "padding": null,
      "right": null,
      "top": null,
      "visibility": null,
      "width": null
     }
    },
    "db17d88724f845568a4396b9a5ce508a": {
     "model_module": "@jupyter-widgets/controls",
     "model_module_version": "1.5.0",
     "model_name": "FloatProgressModel",
     "state": {
      "_dom_classes": [],
      "_model_module": "@jupyter-widgets/controls",
      "_model_module_version": "1.5.0",
      "_model_name": "FloatProgressModel",
      "_view_count": null,
      "_view_module": "@jupyter-widgets/controls",
      "_view_module_version": "1.5.0",
      "_view_name": "ProgressView",
      "bar_style": "success",
      "description": "",
      "description_tooltip": null,
      "layout": "IPY_MODEL_eb8c530d239d4a4bb39f0296e67dc76d",
      "max": 456318,
      "min": 0,
      "orientation": "horizontal",
      "style": "IPY_MODEL_510e63d365c547b1adaff42d00490401",
      "value": 456318
     }
    },
    "db1d3dc2171b4910a5e07ba1e7d5f734": {
     "model_module": "@jupyter-widgets/base",
     "model_module_version": "1.2.0",
     "model_name": "LayoutModel",
     "state": {
      "_model_module": "@jupyter-widgets/base",
      "_model_module_version": "1.2.0",
      "_model_name": "LayoutModel",
      "_view_count": null,
      "_view_module": "@jupyter-widgets/base",
      "_view_module_version": "1.2.0",
      "_view_name": "LayoutView",
      "align_content": null,
      "align_items": null,
      "align_self": null,
      "border": null,
      "bottom": null,
      "display": null,
      "flex": null,
      "flex_flow": null,
      "grid_area": null,
      "grid_auto_columns": null,
      "grid_auto_flow": null,
      "grid_auto_rows": null,
      "grid_column": null,
      "grid_gap": null,
      "grid_row": null,
      "grid_template_areas": null,
      "grid_template_columns": null,
      "grid_template_rows": null,
      "height": null,
      "justify_content": null,
      "justify_items": null,
      "left": null,
      "margin": null,
      "max_height": null,
      "max_width": null,
      "min_height": null,
      "min_width": null,
      "object_fit": null,
      "object_position": null,
      "order": null,
      "overflow": null,
      "overflow_x": null,
      "overflow_y": null,
      "padding": null,
      "right": null,
      "top": null,
      "visibility": null,
      "width": null
     }
    },
    "dbcdf8b2ea64486a8fb9b93aa29c546a": {
     "model_module": "@jupyter-widgets/base",
     "model_module_version": "1.2.0",
     "model_name": "LayoutModel",
     "state": {
      "_model_module": "@jupyter-widgets/base",
      "_model_module_version": "1.2.0",
      "_model_name": "LayoutModel",
      "_view_count": null,
      "_view_module": "@jupyter-widgets/base",
      "_view_module_version": "1.2.0",
      "_view_name": "LayoutView",
      "align_content": null,
      "align_items": null,
      "align_self": null,
      "border": null,
      "bottom": null,
      "display": null,
      "flex": null,
      "flex_flow": null,
      "grid_area": null,
      "grid_auto_columns": null,
      "grid_auto_flow": null,
      "grid_auto_rows": null,
      "grid_column": null,
      "grid_gap": null,
      "grid_row": null,
      "grid_template_areas": null,
      "grid_template_columns": null,
      "grid_template_rows": null,
      "height": null,
      "justify_content": null,
      "justify_items": null,
      "left": null,
      "margin": null,
      "max_height": null,
      "max_width": null,
      "min_height": null,
      "min_width": null,
      "object_fit": null,
      "object_position": null,
      "order": null,
      "overflow": null,
      "overflow_x": null,
      "overflow_y": null,
      "padding": null,
      "right": null,
      "top": null,
      "visibility": null,
      "width": null
     }
    },
    "dbf509c4b21142ec9131647ab164374a": {
     "model_module": "@jupyter-widgets/controls",
     "model_module_version": "1.5.0",
     "model_name": "DescriptionStyleModel",
     "state": {
      "_model_module": "@jupyter-widgets/controls",
      "_model_module_version": "1.5.0",
      "_model_name": "DescriptionStyleModel",
      "_view_count": null,
      "_view_module": "@jupyter-widgets/base",
      "_view_module_version": "1.2.0",
      "_view_name": "StyleView",
      "description_width": ""
     }
    },
    "dc87398fce094a658da749f69feb4fc8": {
     "model_module": "@jupyter-widgets/controls",
     "model_module_version": "1.5.0",
     "model_name": "HTMLModel",
     "state": {
      "_dom_classes": [],
      "_model_module": "@jupyter-widgets/controls",
      "_model_module_version": "1.5.0",
      "_model_name": "HTMLModel",
      "_view_count": null,
      "_view_module": "@jupyter-widgets/controls",
      "_view_module_version": "1.5.0",
      "_view_name": "HTMLView",
      "description": "",
      "description_tooltip": null,
      "layout": "IPY_MODEL_cc9a28d85306494ea73be4bbe52e9d17",
      "placeholder": "​",
      "style": "IPY_MODEL_cba3e1f715b24d03b8cf179efb41055b",
      "value": "tokenizer.json: 100%"
     }
    },
    "dc99ab2ea3704e0cb8279c142a738600": {
     "model_module": "@jupyter-widgets/controls",
     "model_module_version": "1.5.0",
     "model_name": "DescriptionStyleModel",
     "state": {
      "_model_module": "@jupyter-widgets/controls",
      "_model_module_version": "1.5.0",
      "_model_name": "DescriptionStyleModel",
      "_view_count": null,
      "_view_module": "@jupyter-widgets/base",
      "_view_module_version": "1.2.0",
      "_view_name": "StyleView",
      "description_width": ""
     }
    },
    "dd8a687326dc49feafc45355eb129d95": {
     "model_module": "@jupyter-widgets/controls",
     "model_module_version": "1.5.0",
     "model_name": "HBoxModel",
     "state": {
      "_dom_classes": [],
      "_model_module": "@jupyter-widgets/controls",
      "_model_module_version": "1.5.0",
      "_model_name": "HBoxModel",
      "_view_count": null,
      "_view_module": "@jupyter-widgets/controls",
      "_view_module_version": "1.5.0",
      "_view_name": "HBoxView",
      "box_style": "",
      "children": [
       "IPY_MODEL_19a2336a406a45bf9e990fa8ad9a49d4",
       "IPY_MODEL_13a2a27f04f7451aa8be99bb139efb27",
       "IPY_MODEL_2d3e56d6572c45c7895b14699de36d87"
      ],
      "layout": "IPY_MODEL_0d27001bb0cb4b689a75fbea7f1efa4c"
     }
    },
    "dddb342989e44ec0b0c9e40bb0ccf843": {
     "model_module": "@jupyter-widgets/base",
     "model_module_version": "1.2.0",
     "model_name": "LayoutModel",
     "state": {
      "_model_module": "@jupyter-widgets/base",
      "_model_module_version": "1.2.0",
      "_model_name": "LayoutModel",
      "_view_count": null,
      "_view_module": "@jupyter-widgets/base",
      "_view_module_version": "1.2.0",
      "_view_name": "LayoutView",
      "align_content": null,
      "align_items": null,
      "align_self": null,
      "border": null,
      "bottom": null,
      "display": null,
      "flex": null,
      "flex_flow": null,
      "grid_area": null,
      "grid_auto_columns": null,
      "grid_auto_flow": null,
      "grid_auto_rows": null,
      "grid_column": null,
      "grid_gap": null,
      "grid_row": null,
      "grid_template_areas": null,
      "grid_template_columns": null,
      "grid_template_rows": null,
      "height": null,
      "justify_content": null,
      "justify_items": null,
      "left": null,
      "margin": null,
      "max_height": null,
      "max_width": null,
      "min_height": null,
      "min_width": null,
      "object_fit": null,
      "object_position": null,
      "order": null,
      "overflow": null,
      "overflow_x": null,
      "overflow_y": null,
      "padding": null,
      "right": null,
      "top": null,
      "visibility": null,
      "width": null
     }
    },
    "ddf9c083e48f415d92d2ce2322af149a": {
     "model_module": "@jupyter-widgets/controls",
     "model_module_version": "1.5.0",
     "model_name": "DescriptionStyleModel",
     "state": {
      "_model_module": "@jupyter-widgets/controls",
      "_model_module_version": "1.5.0",
      "_model_name": "DescriptionStyleModel",
      "_view_count": null,
      "_view_module": "@jupyter-widgets/base",
      "_view_module_version": "1.2.0",
      "_view_name": "StyleView",
      "description_width": ""
     }
    },
    "de96be39783b47c19fe9e3050ad3382d": {
     "model_module": "@jupyter-widgets/controls",
     "model_module_version": "1.5.0",
     "model_name": "HTMLModel",
     "state": {
      "_dom_classes": [],
      "_model_module": "@jupyter-widgets/controls",
      "_model_module_version": "1.5.0",
      "_model_name": "HTMLModel",
      "_view_count": null,
      "_view_module": "@jupyter-widgets/controls",
      "_view_module_version": "1.5.0",
      "_view_name": "HTMLView",
      "description": "",
      "description_tooltip": null,
      "layout": "IPY_MODEL_8a23f02ece4341f7900c82ab906874eb",
      "placeholder": "​",
      "style": "IPY_MODEL_91d21b681ffb4ceaabd85f2867e60cbd",
      "value": "vocab.txt: 100%"
     }
    },
    "deb8982bab804d5c9fa3ba7627fad8d2": {
     "model_module": "@jupyter-widgets/controls",
     "model_module_version": "1.5.0",
     "model_name": "DescriptionStyleModel",
     "state": {
      "_model_module": "@jupyter-widgets/controls",
      "_model_module_version": "1.5.0",
      "_model_name": "DescriptionStyleModel",
      "_view_count": null,
      "_view_module": "@jupyter-widgets/base",
      "_view_module_version": "1.2.0",
      "_view_name": "StyleView",
      "description_width": ""
     }
    },
    "df66efedce50453f83d29acdd5f8b10e": {
     "model_module": "@jupyter-widgets/base",
     "model_module_version": "1.2.0",
     "model_name": "LayoutModel",
     "state": {
      "_model_module": "@jupyter-widgets/base",
      "_model_module_version": "1.2.0",
      "_model_name": "LayoutModel",
      "_view_count": null,
      "_view_module": "@jupyter-widgets/base",
      "_view_module_version": "1.2.0",
      "_view_name": "LayoutView",
      "align_content": null,
      "align_items": null,
      "align_self": null,
      "border": null,
      "bottom": null,
      "display": null,
      "flex": null,
      "flex_flow": null,
      "grid_area": null,
      "grid_auto_columns": null,
      "grid_auto_flow": null,
      "grid_auto_rows": null,
      "grid_column": null,
      "grid_gap": null,
      "grid_row": null,
      "grid_template_areas": null,
      "grid_template_columns": null,
      "grid_template_rows": null,
      "height": null,
      "justify_content": null,
      "justify_items": null,
      "left": null,
      "margin": null,
      "max_height": null,
      "max_width": null,
      "min_height": null,
      "min_width": null,
      "object_fit": null,
      "object_position": null,
      "order": null,
      "overflow": null,
      "overflow_x": null,
      "overflow_y": null,
      "padding": null,
      "right": null,
      "top": null,
      "visibility": null,
      "width": null
     }
    },
    "e175619272a145949a2ec548819dd4eb": {
     "model_module": "@jupyter-widgets/base",
     "model_module_version": "1.2.0",
     "model_name": "LayoutModel",
     "state": {
      "_model_module": "@jupyter-widgets/base",
      "_model_module_version": "1.2.0",
      "_model_name": "LayoutModel",
      "_view_count": null,
      "_view_module": "@jupyter-widgets/base",
      "_view_module_version": "1.2.0",
      "_view_name": "LayoutView",
      "align_content": null,
      "align_items": null,
      "align_self": null,
      "border": null,
      "bottom": null,
      "display": null,
      "flex": null,
      "flex_flow": null,
      "grid_area": null,
      "grid_auto_columns": null,
      "grid_auto_flow": null,
      "grid_auto_rows": null,
      "grid_column": null,
      "grid_gap": null,
      "grid_row": null,
      "grid_template_areas": null,
      "grid_template_columns": null,
      "grid_template_rows": null,
      "height": null,
      "justify_content": null,
      "justify_items": null,
      "left": null,
      "margin": null,
      "max_height": null,
      "max_width": null,
      "min_height": null,
      "min_width": null,
      "object_fit": null,
      "object_position": null,
      "order": null,
      "overflow": null,
      "overflow_x": null,
      "overflow_y": null,
      "padding": null,
      "right": null,
      "top": null,
      "visibility": null,
      "width": null
     }
    },
    "e1b5654d0d294ef9a0ac65bad7e41ad6": {
     "model_module": "@jupyter-widgets/controls",
     "model_module_version": "1.5.0",
     "model_name": "FloatProgressModel",
     "state": {
      "_dom_classes": [],
      "_model_module": "@jupyter-widgets/controls",
      "_model_module_version": "1.5.0",
      "_model_name": "FloatProgressModel",
      "_view_count": null,
      "_view_module": "@jupyter-widgets/controls",
      "_view_module_version": "1.5.0",
      "_view_name": "ProgressView",
      "bar_style": "success",
      "description": "",
      "description_tooltip": null,
      "layout": "IPY_MODEL_8b1d3a21ee4b4808847ea2a82a18ac61",
      "max": 1289,
      "min": 0,
      "orientation": "horizontal",
      "style": "IPY_MODEL_57c90e7dadbe4879a2baaf4f22722f37",
      "value": 1289
     }
    },
    "e243128654cd4c44873240ecc4644a17": {
     "model_module": "@jupyter-widgets/controls",
     "model_module_version": "1.5.0",
     "model_name": "HTMLModel",
     "state": {
      "_dom_classes": [],
      "_model_module": "@jupyter-widgets/controls",
      "_model_module_version": "1.5.0",
      "_model_name": "HTMLModel",
      "_view_count": null,
      "_view_module": "@jupyter-widgets/controls",
      "_view_module_version": "1.5.0",
      "_view_name": "HTMLView",
      "description": "",
      "description_tooltip": null,
      "layout": "IPY_MODEL_14d54788f46d479eb0faa38af384cdc8",
      "placeholder": "​",
      "style": "IPY_MODEL_a12d5562a5d84bca8378845a92411bc6",
      "value": "vocab.txt: 100%"
     }
    },
    "e268bdded7af4cd39467d93be5b4621d": {
     "model_module": "@jupyter-widgets/base",
     "model_module_version": "1.2.0",
     "model_name": "LayoutModel",
     "state": {
      "_model_module": "@jupyter-widgets/base",
      "_model_module_version": "1.2.0",
      "_model_name": "LayoutModel",
      "_view_count": null,
      "_view_module": "@jupyter-widgets/base",
      "_view_module_version": "1.2.0",
      "_view_name": "LayoutView",
      "align_content": null,
      "align_items": null,
      "align_self": null,
      "border": null,
      "bottom": null,
      "display": null,
      "flex": null,
      "flex_flow": null,
      "grid_area": null,
      "grid_auto_columns": null,
      "grid_auto_flow": null,
      "grid_auto_rows": null,
      "grid_column": null,
      "grid_gap": null,
      "grid_row": null,
      "grid_template_areas": null,
      "grid_template_columns": null,
      "grid_template_rows": null,
      "height": null,
      "justify_content": null,
      "justify_items": null,
      "left": null,
      "margin": null,
      "max_height": null,
      "max_width": null,
      "min_height": null,
      "min_width": null,
      "object_fit": null,
      "object_position": null,
      "order": null,
      "overflow": null,
      "overflow_x": null,
      "overflow_y": null,
      "padding": null,
      "right": null,
      "top": null,
      "visibility": null,
      "width": null
     }
    },
    "e3941149c2a84b6ab6f61b6666e393af": {
     "model_module": "@jupyter-widgets/controls",
     "model_module_version": "1.5.0",
     "model_name": "ProgressStyleModel",
     "state": {
      "_model_module": "@jupyter-widgets/controls",
      "_model_module_version": "1.5.0",
      "_model_name": "ProgressStyleModel",
      "_view_count": null,
      "_view_module": "@jupyter-widgets/base",
      "_view_module_version": "1.2.0",
      "_view_name": "StyleView",
      "bar_color": null,
      "description_width": ""
     }
    },
    "e40b00b93fe14e5ba62613d5fa74acf8": {
     "model_module": "@jupyter-widgets/base",
     "model_module_version": "1.2.0",
     "model_name": "LayoutModel",
     "state": {
      "_model_module": "@jupyter-widgets/base",
      "_model_module_version": "1.2.0",
      "_model_name": "LayoutModel",
      "_view_count": null,
      "_view_module": "@jupyter-widgets/base",
      "_view_module_version": "1.2.0",
      "_view_name": "LayoutView",
      "align_content": null,
      "align_items": null,
      "align_self": null,
      "border": null,
      "bottom": null,
      "display": null,
      "flex": null,
      "flex_flow": null,
      "grid_area": null,
      "grid_auto_columns": null,
      "grid_auto_flow": null,
      "grid_auto_rows": null,
      "grid_column": null,
      "grid_gap": null,
      "grid_row": null,
      "grid_template_areas": null,
      "grid_template_columns": null,
      "grid_template_rows": null,
      "height": null,
      "justify_content": null,
      "justify_items": null,
      "left": null,
      "margin": null,
      "max_height": null,
      "max_width": null,
      "min_height": null,
      "min_width": null,
      "object_fit": null,
      "object_position": null,
      "order": null,
      "overflow": null,
      "overflow_x": null,
      "overflow_y": null,
      "padding": null,
      "right": null,
      "top": null,
      "visibility": null,
      "width": null
     }
    },
    "e439a2c28d5c4ecf865619d7af82e698": {
     "model_module": "@jupyter-widgets/controls",
     "model_module_version": "1.5.0",
     "model_name": "FloatProgressModel",
     "state": {
      "_dom_classes": [],
      "_model_module": "@jupyter-widgets/controls",
      "_model_module_version": "1.5.0",
      "_model_name": "FloatProgressModel",
      "_view_count": null,
      "_view_module": "@jupyter-widgets/controls",
      "_view_module_version": "1.5.0",
      "_view_name": "ProgressView",
      "bar_style": "success",
      "description": "",
      "description_tooltip": null,
      "layout": "IPY_MODEL_a1754c0bf4d9463ca5214eac4eb9a1eb",
      "max": 267954768,
      "min": 0,
      "orientation": "horizontal",
      "style": "IPY_MODEL_106cc09c16f84c419d0d2cd5c7f55a8a",
      "value": 267954768
     }
    },
    "e4a5b2625bfc4f7eb9cf1000c8fcd9fb": {
     "model_module": "@jupyter-widgets/controls",
     "model_module_version": "1.5.0",
     "model_name": "DescriptionStyleModel",
     "state": {
      "_model_module": "@jupyter-widgets/controls",
      "_model_module_version": "1.5.0",
      "_model_name": "DescriptionStyleModel",
      "_view_count": null,
      "_view_module": "@jupyter-widgets/base",
      "_view_module_version": "1.2.0",
      "_view_name": "StyleView",
      "description_width": ""
     }
    },
    "e4db92d02bbd416daed51e431353de58": {
     "model_module": "@jupyter-widgets/controls",
     "model_module_version": "1.5.0",
     "model_name": "HTMLModel",
     "state": {
      "_dom_classes": [],
      "_model_module": "@jupyter-widgets/controls",
      "_model_module_version": "1.5.0",
      "_model_name": "HTMLModel",
      "_view_count": null,
      "_view_module": "@jupyter-widgets/controls",
      "_view_module_version": "1.5.0",
      "_view_name": "HTMLView",
      "description": "",
      "description_tooltip": null,
      "layout": "IPY_MODEL_be8fcd3bd159483081ab057dcc861aa2",
      "placeholder": "​",
      "style": "IPY_MODEL_397a0d9b88b2483ab2736037772e97e8",
      "value": "tokenizer.json: 100%"
     }
    },
    "e4f5bea0b35742499724bcfe092bbaba": {
     "model_module": "@jupyter-widgets/controls",
     "model_module_version": "1.5.0",
     "model_name": "FloatProgressModel",
     "state": {
      "_dom_classes": [],
      "_model_module": "@jupyter-widgets/controls",
      "_model_module_version": "1.5.0",
      "_model_name": "FloatProgressModel",
      "_view_count": null,
      "_view_module": "@jupyter-widgets/controls",
      "_view_module_version": "1.5.0",
      "_view_name": "ProgressView",
      "bar_style": "success",
      "description": "",
      "description_tooltip": null,
      "layout": "IPY_MODEL_c11c4c4acddf4a3cb62fcd72b50860d4",
      "max": 124,
      "min": 0,
      "orientation": "horizontal",
      "style": "IPY_MODEL_3c290ca9b843494ea748504e4dd17655",
      "value": 124
     }
    },
    "e5109813dc714864851c06b46db9cae9": {
     "model_module": "@jupyter-widgets/base",
     "model_module_version": "1.2.0",
     "model_name": "LayoutModel",
     "state": {
      "_model_module": "@jupyter-widgets/base",
      "_model_module_version": "1.2.0",
      "_model_name": "LayoutModel",
      "_view_count": null,
      "_view_module": "@jupyter-widgets/base",
      "_view_module_version": "1.2.0",
      "_view_name": "LayoutView",
      "align_content": null,
      "align_items": null,
      "align_self": null,
      "border": null,
      "bottom": null,
      "display": null,
      "flex": null,
      "flex_flow": null,
      "grid_area": null,
      "grid_auto_columns": null,
      "grid_auto_flow": null,
      "grid_auto_rows": null,
      "grid_column": null,
      "grid_gap": null,
      "grid_row": null,
      "grid_template_areas": null,
      "grid_template_columns": null,
      "grid_template_rows": null,
      "height": null,
      "justify_content": null,
      "justify_items": null,
      "left": null,
      "margin": null,
      "max_height": null,
      "max_width": null,
      "min_height": null,
      "min_width": null,
      "object_fit": null,
      "object_position": null,
      "order": null,
      "overflow": null,
      "overflow_x": null,
      "overflow_y": null,
      "padding": null,
      "right": null,
      "top": null,
      "visibility": null,
      "width": null
     }
    },
    "e5786c3017bf4a639a11f54f3aa7d9ce": {
     "model_module": "@jupyter-widgets/controls",
     "model_module_version": "1.5.0",
     "model_name": "HTMLModel",
     "state": {
      "_dom_classes": [],
      "_model_module": "@jupyter-widgets/controls",
      "_model_module_version": "1.5.0",
      "_model_name": "HTMLModel",
      "_view_count": null,
      "_view_module": "@jupyter-widgets/controls",
      "_view_module_version": "1.5.0",
      "_view_name": "HTMLView",
      "description": "",
      "description_tooltip": null,
      "layout": "IPY_MODEL_cd47ce9df8cf4d4aae89672fc0602b71",
      "placeholder": "​",
      "style": "IPY_MODEL_d0786942e0df48e78edc03829aa53a0c",
      "value": " 548M/548M [00:01&lt;00:00, 325MB/s]"
     }
    },
    "e6f9a976e59e42618a3c511f427acb88": {
     "model_module": "@jupyter-widgets/controls",
     "model_module_version": "1.5.0",
     "model_name": "HTMLModel",
     "state": {
      "_dom_classes": [],
      "_model_module": "@jupyter-widgets/controls",
      "_model_module_version": "1.5.0",
      "_model_name": "HTMLModel",
      "_view_count": null,
      "_view_module": "@jupyter-widgets/controls",
      "_view_module_version": "1.5.0",
      "_view_name": "HTMLView",
      "description": "",
      "description_tooltip": null,
      "layout": "IPY_MODEL_ed7ba59f9d504f6c841ebcd8386efdb9",
      "placeholder": "​",
      "style": "IPY_MODEL_6a39130caf3f455d8f0f1d002a74bdb1",
      "value": " 570/570 [00:00&lt;00:00, 43.5kB/s]"
     }
    },
    "e87270efd2594bbeb71d68f9f3f796f2": {
     "model_module": "@jupyter-widgets/controls",
     "model_module_version": "1.5.0",
     "model_name": "HTMLModel",
     "state": {
      "_dom_classes": [],
      "_model_module": "@jupyter-widgets/controls",
      "_model_module_version": "1.5.0",
      "_model_name": "HTMLModel",
      "_view_count": null,
      "_view_module": "@jupyter-widgets/controls",
      "_view_module_version": "1.5.0",
      "_view_name": "HTMLView",
      "description": "",
      "description_tooltip": null,
      "layout": "IPY_MODEL_b036589813fb4676b956e89e846d4362",
      "placeholder": "​",
      "style": "IPY_MODEL_687ec11348cd4044896fb407e3359a04",
      "value": "generation_config.json: 100%"
     }
    },
    "e9164b241b124b83accf07de6272cf0b": {
     "model_module": "@jupyter-widgets/base",
     "model_module_version": "1.2.0",
     "model_name": "LayoutModel",
     "state": {
      "_model_module": "@jupyter-widgets/base",
      "_model_module_version": "1.2.0",
      "_model_name": "LayoutModel",
      "_view_count": null,
      "_view_module": "@jupyter-widgets/base",
      "_view_module_version": "1.2.0",
      "_view_name": "LayoutView",
      "align_content": null,
      "align_items": null,
      "align_self": null,
      "border": null,
      "bottom": null,
      "display": null,
      "flex": null,
      "flex_flow": null,
      "grid_area": null,
      "grid_auto_columns": null,
      "grid_auto_flow": null,
      "grid_auto_rows": null,
      "grid_column": null,
      "grid_gap": null,
      "grid_row": null,
      "grid_template_areas": null,
      "grid_template_columns": null,
      "grid_template_rows": null,
      "height": null,
      "justify_content": null,
      "justify_items": null,
      "left": null,
      "margin": null,
      "max_height": null,
      "max_width": null,
      "min_height": null,
      "min_width": null,
      "object_fit": null,
      "object_position": null,
      "order": null,
      "overflow": null,
      "overflow_x": null,
      "overflow_y": null,
      "padding": null,
      "right": null,
      "top": null,
      "visibility": null,
      "width": null
     }
    },
    "e992d25a59fc4a71a9c1f02affe0e877": {
     "model_module": "@jupyter-widgets/controls",
     "model_module_version": "1.5.0",
     "model_name": "ProgressStyleModel",
     "state": {
      "_model_module": "@jupyter-widgets/controls",
      "_model_module_version": "1.5.0",
      "_model_name": "ProgressStyleModel",
      "_view_count": null,
      "_view_module": "@jupyter-widgets/base",
      "_view_module_version": "1.2.0",
      "_view_name": "StyleView",
      "bar_color": null,
      "description_width": ""
     }
    },
    "e9c3ea0435a14ce29d1c86b313ba9a54": {
     "model_module": "@jupyter-widgets/controls",
     "model_module_version": "1.5.0",
     "model_name": "HTMLModel",
     "state": {
      "_dom_classes": [],
      "_model_module": "@jupyter-widgets/controls",
      "_model_module_version": "1.5.0",
      "_model_name": "HTMLModel",
      "_view_count": null,
      "_view_module": "@jupyter-widgets/controls",
      "_view_module_version": "1.5.0",
      "_view_name": "HTMLView",
      "description": "",
      "description_tooltip": null,
      "layout": "IPY_MODEL_ee79ca16bfe24e658376c11ddfda1124",
      "placeholder": "​",
      "style": "IPY_MODEL_70ae6722b0d34f91b70f435b8162e878",
      "value": "Map: 100%"
     }
    },
    "e9fe5354ad2749b6a3bb9d301a883f29": {
     "model_module": "@jupyter-widgets/controls",
     "model_module_version": "1.5.0",
     "model_name": "HTMLModel",
     "state": {
      "_dom_classes": [],
      "_model_module": "@jupyter-widgets/controls",
      "_model_module_version": "1.5.0",
      "_model_name": "HTMLModel",
      "_view_count": null,
      "_view_module": "@jupyter-widgets/controls",
      "_view_module_version": "1.5.0",
      "_view_name": "HTMLView",
      "description": "",
      "description_tooltip": null,
      "layout": "IPY_MODEL_60784bb139dd474b86f3bd48c1a3103f",
      "placeholder": "​",
      "style": "IPY_MODEL_0e366bd39b2e4bb78bf145447a329555",
      "value": "Map: 100%"
     }
    },
    "ea6dca3ac29d409daa542899e8b7a3e1": {
     "model_module": "@jupyter-widgets/base",
     "model_module_version": "1.2.0",
     "model_name": "LayoutModel",
     "state": {
      "_model_module": "@jupyter-widgets/base",
      "_model_module_version": "1.2.0",
      "_model_name": "LayoutModel",
      "_view_count": null,
      "_view_module": "@jupyter-widgets/base",
      "_view_module_version": "1.2.0",
      "_view_name": "LayoutView",
      "align_content": null,
      "align_items": null,
      "align_self": null,
      "border": null,
      "bottom": null,
      "display": null,
      "flex": null,
      "flex_flow": null,
      "grid_area": null,
      "grid_auto_columns": null,
      "grid_auto_flow": null,
      "grid_auto_rows": null,
      "grid_column": null,
      "grid_gap": null,
      "grid_row": null,
      "grid_template_areas": null,
      "grid_template_columns": null,
      "grid_template_rows": null,
      "height": null,
      "justify_content": null,
      "justify_items": null,
      "left": null,
      "margin": null,
      "max_height": null,
      "max_width": null,
      "min_height": null,
      "min_width": null,
      "object_fit": null,
      "object_position": null,
      "order": null,
      "overflow": null,
      "overflow_x": null,
      "overflow_y": null,
      "padding": null,
      "right": null,
      "top": null,
      "visibility": null,
      "width": null
     }
    },
    "ea7f12de56e446b19f407e6e092af4ba": {
     "model_module": "@jupyter-widgets/controls",
     "model_module_version": "1.5.0",
     "model_name": "ProgressStyleModel",
     "state": {
      "_model_module": "@jupyter-widgets/controls",
      "_model_module_version": "1.5.0",
      "_model_name": "ProgressStyleModel",
      "_view_count": null,
      "_view_module": "@jupyter-widgets/base",
      "_view_module_version": "1.2.0",
      "_view_name": "StyleView",
      "bar_color": null,
      "description_width": ""
     }
    },
    "ea8505a10dee4b2f8e6d7ea9c3c30ed5": {
     "model_module": "@jupyter-widgets/controls",
     "model_module_version": "1.5.0",
     "model_name": "HTMLModel",
     "state": {
      "_dom_classes": [],
      "_model_module": "@jupyter-widgets/controls",
      "_model_module_version": "1.5.0",
      "_model_name": "HTMLModel",
      "_view_count": null,
      "_view_module": "@jupyter-widgets/controls",
      "_view_module_version": "1.5.0",
      "_view_name": "HTMLView",
      "description": "",
      "description_tooltip": null,
      "layout": "IPY_MODEL_35f6d77e4970448088eef39b7fbec3e0",
      "placeholder": "​",
      "style": "IPY_MODEL_ddf9c083e48f415d92d2ce2322af149a",
      "value": "tokenizer_config.json: 100%"
     }
    },
    "ead4f1dddc0d48499955d55b069e82e0": {
     "model_module": "@jupyter-widgets/base",
     "model_module_version": "1.2.0",
     "model_name": "LayoutModel",
     "state": {
      "_model_module": "@jupyter-widgets/base",
      "_model_module_version": "1.2.0",
      "_model_name": "LayoutModel",
      "_view_count": null,
      "_view_module": "@jupyter-widgets/base",
      "_view_module_version": "1.2.0",
      "_view_name": "LayoutView",
      "align_content": null,
      "align_items": null,
      "align_self": null,
      "border": null,
      "bottom": null,
      "display": null,
      "flex": null,
      "flex_flow": null,
      "grid_area": null,
      "grid_auto_columns": null,
      "grid_auto_flow": null,
      "grid_auto_rows": null,
      "grid_column": null,
      "grid_gap": null,
      "grid_row": null,
      "grid_template_areas": null,
      "grid_template_columns": null,
      "grid_template_rows": null,
      "height": null,
      "justify_content": null,
      "justify_items": null,
      "left": null,
      "margin": null,
      "max_height": null,
      "max_width": null,
      "min_height": null,
      "min_width": null,
      "object_fit": null,
      "object_position": null,
      "order": null,
      "overflow": null,
      "overflow_x": null,
      "overflow_y": null,
      "padding": null,
      "right": null,
      "top": null,
      "visibility": null,
      "width": "20px"
     }
    },
    "eb0b856aedb744b9831994bdd921d705": {
     "model_module": "@jupyter-widgets/base",
     "model_module_version": "1.2.0",
     "model_name": "LayoutModel",
     "state": {
      "_model_module": "@jupyter-widgets/base",
      "_model_module_version": "1.2.0",
      "_model_name": "LayoutModel",
      "_view_count": null,
      "_view_module": "@jupyter-widgets/base",
      "_view_module_version": "1.2.0",
      "_view_name": "LayoutView",
      "align_content": null,
      "align_items": null,
      "align_self": null,
      "border": null,
      "bottom": null,
      "display": null,
      "flex": null,
      "flex_flow": null,
      "grid_area": null,
      "grid_auto_columns": null,
      "grid_auto_flow": null,
      "grid_auto_rows": null,
      "grid_column": null,
      "grid_gap": null,
      "grid_row": null,
      "grid_template_areas": null,
      "grid_template_columns": null,
      "grid_template_rows": null,
      "height": null,
      "justify_content": null,
      "justify_items": null,
      "left": null,
      "margin": null,
      "max_height": null,
      "max_width": null,
      "min_height": null,
      "min_width": null,
      "object_fit": null,
      "object_position": null,
      "order": null,
      "overflow": null,
      "overflow_x": null,
      "overflow_y": null,
      "padding": null,
      "right": null,
      "top": null,
      "visibility": null,
      "width": null
     }
    },
    "eb43725f0e22483989c5334facd46da0": {
     "model_module": "@jupyter-widgets/base",
     "model_module_version": "1.2.0",
     "model_name": "LayoutModel",
     "state": {
      "_model_module": "@jupyter-widgets/base",
      "_model_module_version": "1.2.0",
      "_model_name": "LayoutModel",
      "_view_count": null,
      "_view_module": "@jupyter-widgets/base",
      "_view_module_version": "1.2.0",
      "_view_name": "LayoutView",
      "align_content": null,
      "align_items": null,
      "align_self": null,
      "border": null,
      "bottom": null,
      "display": null,
      "flex": null,
      "flex_flow": null,
      "grid_area": null,
      "grid_auto_columns": null,
      "grid_auto_flow": null,
      "grid_auto_rows": null,
      "grid_column": null,
      "grid_gap": null,
      "grid_row": null,
      "grid_template_areas": null,
      "grid_template_columns": null,
      "grid_template_rows": null,
      "height": null,
      "justify_content": null,
      "justify_items": null,
      "left": null,
      "margin": null,
      "max_height": null,
      "max_width": null,
      "min_height": null,
      "min_width": null,
      "object_fit": null,
      "object_position": null,
      "order": null,
      "overflow": null,
      "overflow_x": null,
      "overflow_y": null,
      "padding": null,
      "right": null,
      "top": null,
      "visibility": null,
      "width": null
     }
    },
    "eb8c530d239d4a4bb39f0296e67dc76d": {
     "model_module": "@jupyter-widgets/base",
     "model_module_version": "1.2.0",
     "model_name": "LayoutModel",
     "state": {
      "_model_module": "@jupyter-widgets/base",
      "_model_module_version": "1.2.0",
      "_model_name": "LayoutModel",
      "_view_count": null,
      "_view_module": "@jupyter-widgets/base",
      "_view_module_version": "1.2.0",
      "_view_name": "LayoutView",
      "align_content": null,
      "align_items": null,
      "align_self": null,
      "border": null,
      "bottom": null,
      "display": null,
      "flex": null,
      "flex_flow": null,
      "grid_area": null,
      "grid_auto_columns": null,
      "grid_auto_flow": null,
      "grid_auto_rows": null,
      "grid_column": null,
      "grid_gap": null,
      "grid_row": null,
      "grid_template_areas": null,
      "grid_template_columns": null,
      "grid_template_rows": null,
      "height": null,
      "justify_content": null,
      "justify_items": null,
      "left": null,
      "margin": null,
      "max_height": null,
      "max_width": null,
      "min_height": null,
      "min_width": null,
      "object_fit": null,
      "object_position": null,
      "order": null,
      "overflow": null,
      "overflow_x": null,
      "overflow_y": null,
      "padding": null,
      "right": null,
      "top": null,
      "visibility": null,
      "width": null
     }
    },
    "ebacdfc661154ae386dd3ccaeb23f772": {
     "model_module": "@jupyter-widgets/controls",
     "model_module_version": "1.5.0",
     "model_name": "DescriptionStyleModel",
     "state": {
      "_model_module": "@jupyter-widgets/controls",
      "_model_module_version": "1.5.0",
      "_model_name": "DescriptionStyleModel",
      "_view_count": null,
      "_view_module": "@jupyter-widgets/base",
      "_view_module_version": "1.2.0",
      "_view_name": "StyleView",
      "description_width": ""
     }
    },
    "ec120f1e3ebd44f1bc98d8fd7bfecc14": {
     "model_module": "@jupyter-widgets/controls",
     "model_module_version": "1.5.0",
     "model_name": "HTMLModel",
     "state": {
      "_dom_classes": [],
      "_model_module": "@jupyter-widgets/controls",
      "_model_module_version": "1.5.0",
      "_model_name": "HTMLModel",
      "_view_count": null,
      "_view_module": "@jupyter-widgets/controls",
      "_view_module_version": "1.5.0",
      "_view_name": "HTMLView",
      "description": "",
      "description_tooltip": null,
      "layout": "IPY_MODEL_86b098ea173a4419a9fe67d9c165b95b",
      "placeholder": "​",
      "style": "IPY_MODEL_02c2e1530b63441e9954920f3c27a606",
      "value": "Generating train split: "
     }
    },
    "ed7ba59f9d504f6c841ebcd8386efdb9": {
     "model_module": "@jupyter-widgets/base",
     "model_module_version": "1.2.0",
     "model_name": "LayoutModel",
     "state": {
      "_model_module": "@jupyter-widgets/base",
      "_model_module_version": "1.2.0",
      "_model_name": "LayoutModel",
      "_view_count": null,
      "_view_module": "@jupyter-widgets/base",
      "_view_module_version": "1.2.0",
      "_view_name": "LayoutView",
      "align_content": null,
      "align_items": null,
      "align_self": null,
      "border": null,
      "bottom": null,
      "display": null,
      "flex": null,
      "flex_flow": null,
      "grid_area": null,
      "grid_auto_columns": null,
      "grid_auto_flow": null,
      "grid_auto_rows": null,
      "grid_column": null,
      "grid_gap": null,
      "grid_row": null,
      "grid_template_areas": null,
      "grid_template_columns": null,
      "grid_template_rows": null,
      "height": null,
      "justify_content": null,
      "justify_items": null,
      "left": null,
      "margin": null,
      "max_height": null,
      "max_width": null,
      "min_height": null,
      "min_width": null,
      "object_fit": null,
      "object_position": null,
      "order": null,
      "overflow": null,
      "overflow_x": null,
      "overflow_y": null,
      "padding": null,
      "right": null,
      "top": null,
      "visibility": null,
      "width": null
     }
    },
    "ed9a7513f10e4bf390e853a725541922": {
     "model_module": "@jupyter-widgets/base",
     "model_module_version": "1.2.0",
     "model_name": "LayoutModel",
     "state": {
      "_model_module": "@jupyter-widgets/base",
      "_model_module_version": "1.2.0",
      "_model_name": "LayoutModel",
      "_view_count": null,
      "_view_module": "@jupyter-widgets/base",
      "_view_module_version": "1.2.0",
      "_view_name": "LayoutView",
      "align_content": null,
      "align_items": null,
      "align_self": null,
      "border": null,
      "bottom": null,
      "display": null,
      "flex": null,
      "flex_flow": null,
      "grid_area": null,
      "grid_auto_columns": null,
      "grid_auto_flow": null,
      "grid_auto_rows": null,
      "grid_column": null,
      "grid_gap": null,
      "grid_row": null,
      "grid_template_areas": null,
      "grid_template_columns": null,
      "grid_template_rows": null,
      "height": null,
      "justify_content": null,
      "justify_items": null,
      "left": null,
      "margin": null,
      "max_height": null,
      "max_width": null,
      "min_height": null,
      "min_width": null,
      "object_fit": null,
      "object_position": null,
      "order": null,
      "overflow": null,
      "overflow_x": null,
      "overflow_y": null,
      "padding": null,
      "right": null,
      "top": null,
      "visibility": null,
      "width": null
     }
    },
    "edf1b0f7c7684e08a817590e9a201eb4": {
     "model_module": "@jupyter-widgets/controls",
     "model_module_version": "1.5.0",
     "model_name": "HTMLModel",
     "state": {
      "_dom_classes": [],
      "_model_module": "@jupyter-widgets/controls",
      "_model_module_version": "1.5.0",
      "_model_name": "HTMLModel",
      "_view_count": null,
      "_view_module": "@jupyter-widgets/controls",
      "_view_module_version": "1.5.0",
      "_view_name": "HTMLView",
      "description": "",
      "description_tooltip": null,
      "layout": "IPY_MODEL_efde0db3e6914b7f950b0a457bbcb4ae",
      "placeholder": "​",
      "style": "IPY_MODEL_ee741717c13740faaf795193f91cbb6b",
      "value": "model.safetensors: 100%"
     }
    },
    "edfecdad72b345c2ab68a674e3aee9ff": {
     "model_module": "@jupyter-widgets/controls",
     "model_module_version": "1.5.0",
     "model_name": "DescriptionStyleModel",
     "state": {
      "_model_module": "@jupyter-widgets/controls",
      "_model_module_version": "1.5.0",
      "_model_name": "DescriptionStyleModel",
      "_view_count": null,
      "_view_module": "@jupyter-widgets/base",
      "_view_module_version": "1.2.0",
      "_view_name": "StyleView",
      "description_width": ""
     }
    },
    "ee741717c13740faaf795193f91cbb6b": {
     "model_module": "@jupyter-widgets/controls",
     "model_module_version": "1.5.0",
     "model_name": "DescriptionStyleModel",
     "state": {
      "_model_module": "@jupyter-widgets/controls",
      "_model_module_version": "1.5.0",
      "_model_name": "DescriptionStyleModel",
      "_view_count": null,
      "_view_module": "@jupyter-widgets/base",
      "_view_module_version": "1.2.0",
      "_view_name": "StyleView",
      "description_width": ""
     }
    },
    "ee79ca16bfe24e658376c11ddfda1124": {
     "model_module": "@jupyter-widgets/base",
     "model_module_version": "1.2.0",
     "model_name": "LayoutModel",
     "state": {
      "_model_module": "@jupyter-widgets/base",
      "_model_module_version": "1.2.0",
      "_model_name": "LayoutModel",
      "_view_count": null,
      "_view_module": "@jupyter-widgets/base",
      "_view_module_version": "1.2.0",
      "_view_name": "LayoutView",
      "align_content": null,
      "align_items": null,
      "align_self": null,
      "border": null,
      "bottom": null,
      "display": null,
      "flex": null,
      "flex_flow": null,
      "grid_area": null,
      "grid_auto_columns": null,
      "grid_auto_flow": null,
      "grid_auto_rows": null,
      "grid_column": null,
      "grid_gap": null,
      "grid_row": null,
      "grid_template_areas": null,
      "grid_template_columns": null,
      "grid_template_rows": null,
      "height": null,
      "justify_content": null,
      "justify_items": null,
      "left": null,
      "margin": null,
      "max_height": null,
      "max_width": null,
      "min_height": null,
      "min_width": null,
      "object_fit": null,
      "object_position": null,
      "order": null,
      "overflow": null,
      "overflow_x": null,
      "overflow_y": null,
      "padding": null,
      "right": null,
      "top": null,
      "visibility": null,
      "width": null
     }
    },
    "ee8c3960cb684a54adc10a0516f3fc75": {
     "model_module": "@jupyter-widgets/base",
     "model_module_version": "1.2.0",
     "model_name": "LayoutModel",
     "state": {
      "_model_module": "@jupyter-widgets/base",
      "_model_module_version": "1.2.0",
      "_model_name": "LayoutModel",
      "_view_count": null,
      "_view_module": "@jupyter-widgets/base",
      "_view_module_version": "1.2.0",
      "_view_name": "LayoutView",
      "align_content": null,
      "align_items": null,
      "align_self": null,
      "border": null,
      "bottom": null,
      "display": null,
      "flex": null,
      "flex_flow": null,
      "grid_area": null,
      "grid_auto_columns": null,
      "grid_auto_flow": null,
      "grid_auto_rows": null,
      "grid_column": null,
      "grid_gap": null,
      "grid_row": null,
      "grid_template_areas": null,
      "grid_template_columns": null,
      "grid_template_rows": null,
      "height": null,
      "justify_content": null,
      "justify_items": null,
      "left": null,
      "margin": null,
      "max_height": null,
      "max_width": null,
      "min_height": null,
      "min_width": null,
      "object_fit": null,
      "object_position": null,
      "order": null,
      "overflow": null,
      "overflow_x": null,
      "overflow_y": null,
      "padding": null,
      "right": null,
      "top": null,
      "visibility": null,
      "width": null
     }
    },
    "eed9340ed9d04611b71f75e4db6cd67e": {
     "model_module": "@jupyter-widgets/base",
     "model_module_version": "1.2.0",
     "model_name": "LayoutModel",
     "state": {
      "_model_module": "@jupyter-widgets/base",
      "_model_module_version": "1.2.0",
      "_model_name": "LayoutModel",
      "_view_count": null,
      "_view_module": "@jupyter-widgets/base",
      "_view_module_version": "1.2.0",
      "_view_name": "LayoutView",
      "align_content": null,
      "align_items": null,
      "align_self": null,
      "border": null,
      "bottom": null,
      "display": null,
      "flex": null,
      "flex_flow": null,
      "grid_area": null,
      "grid_auto_columns": null,
      "grid_auto_flow": null,
      "grid_auto_rows": null,
      "grid_column": null,
      "grid_gap": null,
      "grid_row": null,
      "grid_template_areas": null,
      "grid_template_columns": null,
      "grid_template_rows": null,
      "height": null,
      "justify_content": null,
      "justify_items": null,
      "left": null,
      "margin": null,
      "max_height": null,
      "max_width": null,
      "min_height": null,
      "min_width": null,
      "object_fit": null,
      "object_position": null,
      "order": null,
      "overflow": null,
      "overflow_x": null,
      "overflow_y": null,
      "padding": null,
      "right": null,
      "top": null,
      "visibility": null,
      "width": null
     }
    },
    "ef3fc375222e4cf4a835fa898253cd8d": {
     "model_module": "@jupyter-widgets/controls",
     "model_module_version": "1.5.0",
     "model_name": "DescriptionStyleModel",
     "state": {
      "_model_module": "@jupyter-widgets/controls",
      "_model_module_version": "1.5.0",
      "_model_name": "DescriptionStyleModel",
      "_view_count": null,
      "_view_module": "@jupyter-widgets/base",
      "_view_module_version": "1.2.0",
      "_view_name": "StyleView",
      "description_width": ""
     }
    },
    "efb5452b364d4c358faea6a451f55bce": {
     "model_module": "@jupyter-widgets/controls",
     "model_module_version": "1.5.0",
     "model_name": "DescriptionStyleModel",
     "state": {
      "_model_module": "@jupyter-widgets/controls",
      "_model_module_version": "1.5.0",
      "_model_name": "DescriptionStyleModel",
      "_view_count": null,
      "_view_module": "@jupyter-widgets/base",
      "_view_module_version": "1.2.0",
      "_view_name": "StyleView",
      "description_width": ""
     }
    },
    "efde0db3e6914b7f950b0a457bbcb4ae": {
     "model_module": "@jupyter-widgets/base",
     "model_module_version": "1.2.0",
     "model_name": "LayoutModel",
     "state": {
      "_model_module": "@jupyter-widgets/base",
      "_model_module_version": "1.2.0",
      "_model_name": "LayoutModel",
      "_view_count": null,
      "_view_module": "@jupyter-widgets/base",
      "_view_module_version": "1.2.0",
      "_view_name": "LayoutView",
      "align_content": null,
      "align_items": null,
      "align_self": null,
      "border": null,
      "bottom": null,
      "display": null,
      "flex": null,
      "flex_flow": null,
      "grid_area": null,
      "grid_auto_columns": null,
      "grid_auto_flow": null,
      "grid_auto_rows": null,
      "grid_column": null,
      "grid_gap": null,
      "grid_row": null,
      "grid_template_areas": null,
      "grid_template_columns": null,
      "grid_template_rows": null,
      "height": null,
      "justify_content": null,
      "justify_items": null,
      "left": null,
      "margin": null,
      "max_height": null,
      "max_width": null,
      "min_height": null,
      "min_width": null,
      "object_fit": null,
      "object_position": null,
      "order": null,
      "overflow": null,
      "overflow_x": null,
      "overflow_y": null,
      "padding": null,
      "right": null,
      "top": null,
      "visibility": null,
      "width": null
     }
    },
    "f0fefe6687614c32a11f90d91134f0e3": {
     "model_module": "@jupyter-widgets/controls",
     "model_module_version": "1.5.0",
     "model_name": "HTMLModel",
     "state": {
      "_dom_classes": [],
      "_model_module": "@jupyter-widgets/controls",
      "_model_module_version": "1.5.0",
      "_model_name": "HTMLModel",
      "_view_count": null,
      "_view_module": "@jupyter-widgets/controls",
      "_view_module_version": "1.5.0",
      "_view_name": "HTMLView",
      "description": "",
      "description_tooltip": null,
      "layout": "IPY_MODEL_da814b1528be4926975893b54fd72849",
      "placeholder": "​",
      "style": "IPY_MODEL_ce749881b13f4db38ccbc2d8a3fb09cd",
      "value": " 124/124 [00:00&lt;00:00, 3.39kB/s]"
     }
    },
    "f123f91546064a538a74c83d893d52df": {
     "model_module": "@jupyter-widgets/base",
     "model_module_version": "1.2.0",
     "model_name": "LayoutModel",
     "state": {
      "_model_module": "@jupyter-widgets/base",
      "_model_module_version": "1.2.0",
      "_model_name": "LayoutModel",
      "_view_count": null,
      "_view_module": "@jupyter-widgets/base",
      "_view_module_version": "1.2.0",
      "_view_name": "LayoutView",
      "align_content": null,
      "align_items": null,
      "align_self": null,
      "border": null,
      "bottom": null,
      "display": null,
      "flex": null,
      "flex_flow": null,
      "grid_area": null,
      "grid_auto_columns": null,
      "grid_auto_flow": null,
      "grid_auto_rows": null,
      "grid_column": null,
      "grid_gap": null,
      "grid_row": null,
      "grid_template_areas": null,
      "grid_template_columns": null,
      "grid_template_rows": null,
      "height": null,
      "justify_content": null,
      "justify_items": null,
      "left": null,
      "margin": null,
      "max_height": null,
      "max_width": null,
      "min_height": null,
      "min_width": null,
      "object_fit": null,
      "object_position": null,
      "order": null,
      "overflow": null,
      "overflow_x": null,
      "overflow_y": null,
      "padding": null,
      "right": null,
      "top": null,
      "visibility": null,
      "width": null
     }
    },
    "f12b26bf7ecb4040b23d9d8c2fff7a6e": {
     "model_module": "@jupyter-widgets/base",
     "model_module_version": "1.2.0",
     "model_name": "LayoutModel",
     "state": {
      "_model_module": "@jupyter-widgets/base",
      "_model_module_version": "1.2.0",
      "_model_name": "LayoutModel",
      "_view_count": null,
      "_view_module": "@jupyter-widgets/base",
      "_view_module_version": "1.2.0",
      "_view_name": "LayoutView",
      "align_content": null,
      "align_items": null,
      "align_self": null,
      "border": null,
      "bottom": null,
      "display": null,
      "flex": null,
      "flex_flow": null,
      "grid_area": null,
      "grid_auto_columns": null,
      "grid_auto_flow": null,
      "grid_auto_rows": null,
      "grid_column": null,
      "grid_gap": null,
      "grid_row": null,
      "grid_template_areas": null,
      "grid_template_columns": null,
      "grid_template_rows": null,
      "height": null,
      "justify_content": null,
      "justify_items": null,
      "left": null,
      "margin": null,
      "max_height": null,
      "max_width": null,
      "min_height": null,
      "min_width": null,
      "object_fit": null,
      "object_position": null,
      "order": null,
      "overflow": null,
      "overflow_x": null,
      "overflow_y": null,
      "padding": null,
      "right": null,
      "top": null,
      "visibility": null,
      "width": null
     }
    },
    "f145daed41fc44b3a65c58b81470c919": {
     "model_module": "@jupyter-widgets/controls",
     "model_module_version": "1.5.0",
     "model_name": "FloatProgressModel",
     "state": {
      "_dom_classes": [],
      "_model_module": "@jupyter-widgets/controls",
      "_model_module_version": "1.5.0",
      "_model_name": "FloatProgressModel",
      "_view_count": null,
      "_view_module": "@jupyter-widgets/controls",
      "_view_module_version": "1.5.0",
      "_view_name": "ProgressView",
      "bar_style": "success",
      "description": "",
      "description_tooltip": null,
      "layout": "IPY_MODEL_eb0b856aedb744b9831994bdd921d705",
      "max": 323,
      "min": 0,
      "orientation": "horizontal",
      "style": "IPY_MODEL_65a0252124e24f13a7db5e4c1bf29fc2",
      "value": 323
     }
    },
    "f21888da6c744c68994334969d6656cb": {
     "model_module": "@jupyter-widgets/controls",
     "model_module_version": "1.5.0",
     "model_name": "DescriptionStyleModel",
     "state": {
      "_model_module": "@jupyter-widgets/controls",
      "_model_module_version": "1.5.0",
      "_model_name": "DescriptionStyleModel",
      "_view_count": null,
      "_view_module": "@jupyter-widgets/base",
      "_view_module_version": "1.2.0",
      "_view_name": "StyleView",
      "description_width": ""
     }
    },
    "f244396283914d16baacaf5d6f76abac": {
     "model_module": "@jupyter-widgets/controls",
     "model_module_version": "1.5.0",
     "model_name": "ProgressStyleModel",
     "state": {
      "_model_module": "@jupyter-widgets/controls",
      "_model_module_version": "1.5.0",
      "_model_name": "ProgressStyleModel",
      "_view_count": null,
      "_view_module": "@jupyter-widgets/base",
      "_view_module_version": "1.2.0",
      "_view_name": "StyleView",
      "bar_color": null,
      "description_width": ""
     }
    },
    "f28cbac2858e4e079790d7f24ff1d73d": {
     "model_module": "@jupyter-widgets/base",
     "model_module_version": "1.2.0",
     "model_name": "LayoutModel",
     "state": {
      "_model_module": "@jupyter-widgets/base",
      "_model_module_version": "1.2.0",
      "_model_name": "LayoutModel",
      "_view_count": null,
      "_view_module": "@jupyter-widgets/base",
      "_view_module_version": "1.2.0",
      "_view_name": "LayoutView",
      "align_content": null,
      "align_items": null,
      "align_self": null,
      "border": null,
      "bottom": null,
      "display": null,
      "flex": null,
      "flex_flow": null,
      "grid_area": null,
      "grid_auto_columns": null,
      "grid_auto_flow": null,
      "grid_auto_rows": null,
      "grid_column": null,
      "grid_gap": null,
      "grid_row": null,
      "grid_template_areas": null,
      "grid_template_columns": null,
      "grid_template_rows": null,
      "height": null,
      "justify_content": null,
      "justify_items": null,
      "left": null,
      "margin": null,
      "max_height": null,
      "max_width": null,
      "min_height": null,
      "min_width": null,
      "object_fit": null,
      "object_position": null,
      "order": null,
      "overflow": null,
      "overflow_x": null,
      "overflow_y": null,
      "padding": null,
      "right": null,
      "top": null,
      "visibility": null,
      "width": null
     }
    },
    "f2a9bf4b0fec4fb6a0942174e2198046": {
     "model_module": "@jupyter-widgets/controls",
     "model_module_version": "1.5.0",
     "model_name": "HBoxModel",
     "state": {
      "_dom_classes": [],
      "_model_module": "@jupyter-widgets/controls",
      "_model_module_version": "1.5.0",
      "_model_name": "HBoxModel",
      "_view_count": null,
      "_view_module": "@jupyter-widgets/controls",
      "_view_module_version": "1.5.0",
      "_view_name": "HBoxView",
      "box_style": "",
      "children": [
       "IPY_MODEL_ec120f1e3ebd44f1bc98d8fd7bfecc14",
       "IPY_MODEL_9ba88a2e42b54a59a6aa9907e5c57fa0",
       "IPY_MODEL_3b0e267772fa48fa87c6cc767885a590"
      ],
      "layout": "IPY_MODEL_3e08a44cdaee4ec18a767c85d61e89cb"
     }
    },
    "f2c83ee98d4d44389e9354b89a914cd1": {
     "model_module": "@jupyter-widgets/base",
     "model_module_version": "1.2.0",
     "model_name": "LayoutModel",
     "state": {
      "_model_module": "@jupyter-widgets/base",
      "_model_module_version": "1.2.0",
      "_model_name": "LayoutModel",
      "_view_count": null,
      "_view_module": "@jupyter-widgets/base",
      "_view_module_version": "1.2.0",
      "_view_name": "LayoutView",
      "align_content": null,
      "align_items": null,
      "align_self": null,
      "border": null,
      "bottom": null,
      "display": null,
      "flex": null,
      "flex_flow": null,
      "grid_area": null,
      "grid_auto_columns": null,
      "grid_auto_flow": null,
      "grid_auto_rows": null,
      "grid_column": null,
      "grid_gap": null,
      "grid_row": null,
      "grid_template_areas": null,
      "grid_template_columns": null,
      "grid_template_rows": null,
      "height": null,
      "justify_content": null,
      "justify_items": null,
      "left": null,
      "margin": null,
      "max_height": null,
      "max_width": null,
      "min_height": null,
      "min_width": null,
      "object_fit": null,
      "object_position": null,
      "order": null,
      "overflow": null,
      "overflow_x": null,
      "overflow_y": null,
      "padding": null,
      "right": null,
      "top": null,
      "visibility": null,
      "width": null
     }
    },
    "f4574e12d5db48ca862bfb2811fad258": {
     "model_module": "@jupyter-widgets/controls",
     "model_module_version": "1.5.0",
     "model_name": "HBoxModel",
     "state": {
      "_dom_classes": [],
      "_model_module": "@jupyter-widgets/controls",
      "_model_module_version": "1.5.0",
      "_model_name": "HBoxModel",
      "_view_count": null,
      "_view_module": "@jupyter-widgets/controls",
      "_view_module_version": "1.5.0",
      "_view_name": "HBoxView",
      "box_style": "",
      "children": [
       "IPY_MODEL_12afd487ae7343f7b8a65aaa60bd00c7",
       "IPY_MODEL_d4ce47e5a2d34f4488171fd928918db3",
       "IPY_MODEL_244018be291643fe9e929eaf3e531098"
      ],
      "layout": "IPY_MODEL_f6e0e64e2c234c559c8160f06b28b618"
     }
    },
    "f571d7cf478b4c20a1f5c4bd503e7737": {
     "model_module": "@jupyter-widgets/controls",
     "model_module_version": "1.5.0",
     "model_name": "DescriptionStyleModel",
     "state": {
      "_model_module": "@jupyter-widgets/controls",
      "_model_module_version": "1.5.0",
      "_model_name": "DescriptionStyleModel",
      "_view_count": null,
      "_view_module": "@jupyter-widgets/base",
      "_view_module_version": "1.2.0",
      "_view_name": "StyleView",
      "description_width": ""
     }
    },
    "f601a3994de84cc9885036e8d1c5a8ee": {
     "model_module": "@jupyter-widgets/base",
     "model_module_version": "1.2.0",
     "model_name": "LayoutModel",
     "state": {
      "_model_module": "@jupyter-widgets/base",
      "_model_module_version": "1.2.0",
      "_model_name": "LayoutModel",
      "_view_count": null,
      "_view_module": "@jupyter-widgets/base",
      "_view_module_version": "1.2.0",
      "_view_name": "LayoutView",
      "align_content": null,
      "align_items": null,
      "align_self": null,
      "border": null,
      "bottom": null,
      "display": null,
      "flex": null,
      "flex_flow": null,
      "grid_area": null,
      "grid_auto_columns": null,
      "grid_auto_flow": null,
      "grid_auto_rows": null,
      "grid_column": null,
      "grid_gap": null,
      "grid_row": null,
      "grid_template_areas": null,
      "grid_template_columns": null,
      "grid_template_rows": null,
      "height": null,
      "justify_content": null,
      "justify_items": null,
      "left": null,
      "margin": null,
      "max_height": null,
      "max_width": null,
      "min_height": null,
      "min_width": null,
      "object_fit": null,
      "object_position": null,
      "order": null,
      "overflow": null,
      "overflow_x": null,
      "overflow_y": null,
      "padding": null,
      "right": null,
      "top": null,
      "visibility": null,
      "width": null
     }
    },
    "f6e0e64e2c234c559c8160f06b28b618": {
     "model_module": "@jupyter-widgets/base",
     "model_module_version": "1.2.0",
     "model_name": "LayoutModel",
     "state": {
      "_model_module": "@jupyter-widgets/base",
      "_model_module_version": "1.2.0",
      "_model_name": "LayoutModel",
      "_view_count": null,
      "_view_module": "@jupyter-widgets/base",
      "_view_module_version": "1.2.0",
      "_view_name": "LayoutView",
      "align_content": null,
      "align_items": null,
      "align_self": null,
      "border": null,
      "bottom": null,
      "display": null,
      "flex": null,
      "flex_flow": null,
      "grid_area": null,
      "grid_auto_columns": null,
      "grid_auto_flow": null,
      "grid_auto_rows": null,
      "grid_column": null,
      "grid_gap": null,
      "grid_row": null,
      "grid_template_areas": null,
      "grid_template_columns": null,
      "grid_template_rows": null,
      "height": null,
      "justify_content": null,
      "justify_items": null,
      "left": null,
      "margin": null,
      "max_height": null,
      "max_width": null,
      "min_height": null,
      "min_width": null,
      "object_fit": null,
      "object_position": null,
      "order": null,
      "overflow": null,
      "overflow_x": null,
      "overflow_y": null,
      "padding": null,
      "right": null,
      "top": null,
      "visibility": null,
      "width": null
     }
    },
    "f8e511c8d57a46a39ea1a67deabd6bfb": {
     "model_module": "@jupyter-widgets/controls",
     "model_module_version": "1.5.0",
     "model_name": "DescriptionStyleModel",
     "state": {
      "_model_module": "@jupyter-widgets/controls",
      "_model_module_version": "1.5.0",
      "_model_name": "DescriptionStyleModel",
      "_view_count": null,
      "_view_module": "@jupyter-widgets/base",
      "_view_module_version": "1.2.0",
      "_view_name": "StyleView",
      "description_width": ""
     }
    },
    "f99199d9122f49a0a36611c7e2e76419": {
     "model_module": "@jupyter-widgets/base",
     "model_module_version": "1.2.0",
     "model_name": "LayoutModel",
     "state": {
      "_model_module": "@jupyter-widgets/base",
      "_model_module_version": "1.2.0",
      "_model_name": "LayoutModel",
      "_view_count": null,
      "_view_module": "@jupyter-widgets/base",
      "_view_module_version": "1.2.0",
      "_view_name": "LayoutView",
      "align_content": null,
      "align_items": null,
      "align_self": null,
      "border": null,
      "bottom": null,
      "display": null,
      "flex": null,
      "flex_flow": null,
      "grid_area": null,
      "grid_auto_columns": null,
      "grid_auto_flow": null,
      "grid_auto_rows": null,
      "grid_column": null,
      "grid_gap": null,
      "grid_row": null,
      "grid_template_areas": null,
      "grid_template_columns": null,
      "grid_template_rows": null,
      "height": null,
      "justify_content": null,
      "justify_items": null,
      "left": null,
      "margin": null,
      "max_height": null,
      "max_width": null,
      "min_height": null,
      "min_width": null,
      "object_fit": null,
      "object_position": null,
      "order": null,
      "overflow": null,
      "overflow_x": null,
      "overflow_y": null,
      "padding": null,
      "right": null,
      "top": null,
      "visibility": null,
      "width": null
     }
    },
    "f9971e233de04afb9a9d4e6e2591d729": {
     "model_module": "@jupyter-widgets/controls",
     "model_module_version": "1.5.0",
     "model_name": "HBoxModel",
     "state": {
      "_dom_classes": [],
      "_model_module": "@jupyter-widgets/controls",
      "_model_module_version": "1.5.0",
      "_model_name": "HBoxModel",
      "_view_count": null,
      "_view_module": "@jupyter-widgets/controls",
      "_view_module_version": "1.5.0",
      "_view_name": "HBoxView",
      "box_style": "",
      "children": [
       "IPY_MODEL_925c24b98bec4b1ab62f4e2f3c5fc816",
       "IPY_MODEL_ad3da69addc44dcd910c982aabd94fb5",
       "IPY_MODEL_0bdfa1d6d98d42069dfd65dba4889c8e"
      ],
      "layout": "IPY_MODEL_c61dc8ce463444d1909d23cd6071b355"
     }
    },
    "fae5f821c5604402af8f68f46ed4f2ca": {
     "model_module": "@jupyter-widgets/controls",
     "model_module_version": "1.5.0",
     "model_name": "HTMLModel",
     "state": {
      "_dom_classes": [],
      "_model_module": "@jupyter-widgets/controls",
      "_model_module_version": "1.5.0",
      "_model_name": "HTMLModel",
      "_view_count": null,
      "_view_module": "@jupyter-widgets/controls",
      "_view_module_version": "1.5.0",
      "_view_name": "HTMLView",
      "description": "",
      "description_tooltip": null,
      "layout": "IPY_MODEL_739a81b3b3d44ac9b906227cad969bbc",
      "placeholder": "​",
      "style": "IPY_MODEL_d3a7c090b74f43c7bc2b6008ec0f44ae",
      "value": "config.json: 100%"
     }
    },
    "fb82f5287b4a4a8c8e2ede1838c1dbeb": {
     "model_module": "@jupyter-widgets/controls",
     "model_module_version": "1.5.0",
     "model_name": "HBoxModel",
     "state": {
      "_dom_classes": [],
      "_model_module": "@jupyter-widgets/controls",
      "_model_module_version": "1.5.0",
      "_model_name": "HBoxModel",
      "_view_count": null,
      "_view_module": "@jupyter-widgets/controls",
      "_view_module_version": "1.5.0",
      "_view_name": "HBoxView",
      "box_style": "",
      "children": [
       "IPY_MODEL_6b7101cea911496e98007d220c75a05b",
       "IPY_MODEL_57087b0cc5dd4a77be3beef53cb9a7d6",
       "IPY_MODEL_7f8611121f774f5ea606cd968de34aa5"
      ],
      "layout": "IPY_MODEL_e9164b241b124b83accf07de6272cf0b"
     }
    },
    "fbdf116a3aec45499f53c40a76b95741": {
     "model_module": "@jupyter-widgets/base",
     "model_module_version": "1.2.0",
     "model_name": "LayoutModel",
     "state": {
      "_model_module": "@jupyter-widgets/base",
      "_model_module_version": "1.2.0",
      "_model_name": "LayoutModel",
      "_view_count": null,
      "_view_module": "@jupyter-widgets/base",
      "_view_module_version": "1.2.0",
      "_view_name": "LayoutView",
      "align_content": null,
      "align_items": null,
      "align_self": null,
      "border": null,
      "bottom": null,
      "display": null,
      "flex": null,
      "flex_flow": null,
      "grid_area": null,
      "grid_auto_columns": null,
      "grid_auto_flow": null,
      "grid_auto_rows": null,
      "grid_column": null,
      "grid_gap": null,
      "grid_row": null,
      "grid_template_areas": null,
      "grid_template_columns": null,
      "grid_template_rows": null,
      "height": null,
      "justify_content": null,
      "justify_items": null,
      "left": null,
      "margin": null,
      "max_height": null,
      "max_width": null,
      "min_height": null,
      "min_width": null,
      "object_fit": null,
      "object_position": null,
      "order": null,
      "overflow": null,
      "overflow_x": null,
      "overflow_y": null,
      "padding": null,
      "right": null,
      "top": null,
      "visibility": null,
      "width": null
     }
    },
    "fc19e87c5a9b409e8877022912b3b5d4": {
     "model_module": "@jupyter-widgets/base",
     "model_module_version": "1.2.0",
     "model_name": "LayoutModel",
     "state": {
      "_model_module": "@jupyter-widgets/base",
      "_model_module_version": "1.2.0",
      "_model_name": "LayoutModel",
      "_view_count": null,
      "_view_module": "@jupyter-widgets/base",
      "_view_module_version": "1.2.0",
      "_view_name": "LayoutView",
      "align_content": null,
      "align_items": null,
      "align_self": null,
      "border": null,
      "bottom": null,
      "display": null,
      "flex": null,
      "flex_flow": null,
      "grid_area": null,
      "grid_auto_columns": null,
      "grid_auto_flow": null,
      "grid_auto_rows": null,
      "grid_column": null,
      "grid_gap": null,
      "grid_row": null,
      "grid_template_areas": null,
      "grid_template_columns": null,
      "grid_template_rows": null,
      "height": null,
      "justify_content": null,
      "justify_items": null,
      "left": null,
      "margin": null,
      "max_height": null,
      "max_width": null,
      "min_height": null,
      "min_width": null,
      "object_fit": null,
      "object_position": null,
      "order": null,
      "overflow": null,
      "overflow_x": null,
      "overflow_y": null,
      "padding": null,
      "right": null,
      "top": null,
      "visibility": null,
      "width": null
     }
    },
    "fc64554be0cc4dbcb7d17ef58fe55262": {
     "model_module": "@jupyter-widgets/controls",
     "model_module_version": "1.5.0",
     "model_name": "FloatProgressModel",
     "state": {
      "_dom_classes": [],
      "_model_module": "@jupyter-widgets/controls",
      "_model_module_version": "1.5.0",
      "_model_name": "FloatProgressModel",
      "_view_count": null,
      "_view_module": "@jupyter-widgets/controls",
      "_view_module_version": "1.5.0",
      "_view_name": "ProgressView",
      "bar_style": "success",
      "description": "",
      "description_tooltip": null,
      "layout": "IPY_MODEL_2ee47a205c904782bdef418c25b89838",
      "max": 28,
      "min": 0,
      "orientation": "horizontal",
      "style": "IPY_MODEL_8ff6cd267a28487fb8cac4cb8724fc0e",
      "value": 28
     }
    },
    "fcdff5e01eb7414c9325064a9be4f92a": {
     "model_module": "@jupyter-widgets/base",
     "model_module_version": "1.2.0",
     "model_name": "LayoutModel",
     "state": {
      "_model_module": "@jupyter-widgets/base",
      "_model_module_version": "1.2.0",
      "_model_name": "LayoutModel",
      "_view_count": null,
      "_view_module": "@jupyter-widgets/base",
      "_view_module_version": "1.2.0",
      "_view_name": "LayoutView",
      "align_content": null,
      "align_items": null,
      "align_self": null,
      "border": null,
      "bottom": null,
      "display": null,
      "flex": null,
      "flex_flow": null,
      "grid_area": null,
      "grid_auto_columns": null,
      "grid_auto_flow": null,
      "grid_auto_rows": null,
      "grid_column": null,
      "grid_gap": null,
      "grid_row": null,
      "grid_template_areas": null,
      "grid_template_columns": null,
      "grid_template_rows": null,
      "height": null,
      "justify_content": null,
      "justify_items": null,
      "left": null,
      "margin": null,
      "max_height": null,
      "max_width": null,
      "min_height": null,
      "min_width": null,
      "object_fit": null,
      "object_position": null,
      "order": null,
      "overflow": null,
      "overflow_x": null,
      "overflow_y": null,
      "padding": null,
      "right": null,
      "top": null,
      "visibility": null,
      "width": null
     }
    },
    "fce0f472357142ecaf627eeeee9c2e75": {
     "model_module": "@jupyter-widgets/controls",
     "model_module_version": "1.5.0",
     "model_name": "ProgressStyleModel",
     "state": {
      "_model_module": "@jupyter-widgets/controls",
      "_model_module_version": "1.5.0",
      "_model_name": "ProgressStyleModel",
      "_view_count": null,
      "_view_module": "@jupyter-widgets/base",
      "_view_module_version": "1.2.0",
      "_view_name": "StyleView",
      "bar_color": null,
      "description_width": ""
     }
    },
    "ff2247ba8c714949a5e80f599f4f47b4": {
     "model_module": "@jupyter-widgets/controls",
     "model_module_version": "1.5.0",
     "model_name": "ProgressStyleModel",
     "state": {
      "_model_module": "@jupyter-widgets/controls",
      "_model_module_version": "1.5.0",
      "_model_name": "ProgressStyleModel",
      "_view_count": null,
      "_view_module": "@jupyter-widgets/base",
      "_view_module_version": "1.2.0",
      "_view_name": "StyleView",
      "bar_color": null,
      "description_width": ""
     }
    },
    "ff804399b8e64b4ea6795b5df7ac99ea": {
     "model_module": "@jupyter-widgets/controls",
     "model_module_version": "1.5.0",
     "model_name": "HTMLModel",
     "state": {
      "_dom_classes": [],
      "_model_module": "@jupyter-widgets/controls",
      "_model_module_version": "1.5.0",
      "_model_name": "HTMLModel",
      "_view_count": null,
      "_view_module": "@jupyter-widgets/controls",
      "_view_module_version": "1.5.0",
      "_view_name": "HTMLView",
      "description": "",
      "description_tooltip": null,
      "layout": "IPY_MODEL_1dff6d902ca749d29775a39b53e98e03",
      "placeholder": "​",
      "style": "IPY_MODEL_f21888da6c744c68994334969d6656cb",
      "value": "tokenizer_config.json: 100%"
     }
    }
   }
  }
 },
 "nbformat": 4,
 "nbformat_minor": 1
}
